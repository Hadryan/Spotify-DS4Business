{
 "cells": [
  {
   "cell_type": "code",
   "execution_count": 1,
   "id": "f5aa71c9",
   "metadata": {},
   "outputs": [
    {
     "name": "stdout",
     "output_type": "stream",
     "text": [
      "Requirement already satisfied: spotipy in c:\\users\\uma bala\\anaconda3\\lib\\site-packages (2.23.0)\n",
      "Requirement already satisfied: requests>=2.25.0 in c:\\users\\uma bala\\anaconda3\\lib\\site-packages (from spotipy) (2.28.1)\n",
      "Requirement already satisfied: six>=1.15.0 in c:\\users\\uma bala\\anaconda3\\lib\\site-packages (from spotipy) (1.16.0)\n",
      "Requirement already satisfied: urllib3>=1.26.0 in c:\\users\\uma bala\\anaconda3\\lib\\site-packages (from spotipy) (1.26.11)\n",
      "Requirement already satisfied: redis>=3.5.3 in c:\\users\\uma bala\\anaconda3\\lib\\site-packages (from spotipy) (5.0.1)\n",
      "Requirement already satisfied: async-timeout>=4.0.2 in c:\\users\\uma bala\\anaconda3\\lib\\site-packages (from redis>=3.5.3->spotipy) (4.0.3)\n",
      "Requirement already satisfied: charset-normalizer<3,>=2 in c:\\users\\uma bala\\anaconda3\\lib\\site-packages (from requests>=2.25.0->spotipy) (2.0.4)\n",
      "Requirement already satisfied: certifi>=2017.4.17 in c:\\users\\uma bala\\anaconda3\\lib\\site-packages (from requests>=2.25.0->spotipy) (2022.9.14)\n",
      "Requirement already satisfied: idna<4,>=2.5 in c:\\users\\uma bala\\anaconda3\\lib\\site-packages (from requests>=2.25.0->spotipy) (3.3)\n"
     ]
    }
   ],
   "source": [
    "!pip install spotipy"
   ]
  },
  {
   "cell_type": "code",
   "execution_count": 2,
   "id": "c1f9235c",
   "metadata": {},
   "outputs": [],
   "source": [
    "import spotipy\n",
    "from spotipy.oauth2 import SpotifyClientCredentials\n",
    "import pandas as pd"
   ]
  },
  {
   "cell_type": "code",
   "execution_count": 3,
   "id": "bc1247cf",
   "metadata": {},
   "outputs": [],
   "source": [
    "client_credentials_manager = SpotifyClientCredentials(client_id='81b7174bfde94f90ab0d7d82060e9a56', client_secret='4db4dabaa01443cab472156c9389069a')\n",
    "sp = spotipy.Spotify(client_credentials_manager = client_credentials_manager)"
   ]
  },
  {
   "cell_type": "code",
   "execution_count": null,
   "id": "a4e3bbd3",
   "metadata": {},
   "outputs": [],
   "source": [
    "def get_song_data(playlist_link):\n",
    "    playlist_URI = playlist_link.split(\"/\")[-1].split(\"?\")[0]\n",
    "    track_uris = [x[\"track\"][\"uri\"] for x in sp.playlist_tracks(playlist_URI)[\"items\"]]\n",
    "\n",
    "    df2 = pd.DataFrame()\n",
    "    i = 0\n",
    "    for track in sp.playlist_tracks(playlist_URI)[\"items\"]:\n",
    "        i += 1\n",
    "\n",
    "        #URI\n",
    "        track_uri = track[\"track\"][\"uri\"]\n",
    "        print(\"TRACK\", i,\" in \", track_uri, \" COMPLETED\")\n",
    "\n",
    "        #Track name\n",
    "        track_name = track[\"track\"][\"name\"]\n",
    "\n",
    "        #Main Artist\n",
    "        artist_uri = track[\"track\"][\"artists\"][0][\"uri\"]\n",
    "        artist_info = sp.artist(artist_uri)\n",
    "\n",
    "        #Name, popularity, genre\n",
    "        artist_name = track[\"track\"][\"artists\"][0][\"name\"]\n",
    "        artist_pop = artist_info[\"popularity\"]\n",
    "        artist_genres = artist_info[\"genres\"]\n",
    "\n",
    "        #Album\n",
    "        album = track[\"track\"][\"album\"][\"name\"]\n",
    "\n",
    "        #Popularity of the track\n",
    "        track_pop = track[\"track\"][\"popularity\"]\n",
    "\n",
    "        explicit_bool = track[\"track\"][\"explicit\"]\n",
    "        release_date = track['track']['album']['release_date']\n",
    "        data = {\n",
    "        \"URI\": track_uri,\n",
    "        \"TrackName\": track_name,\n",
    "        \"ArtistURI\": artist_uri,\n",
    "        \"ArtistName\": artist_name,\n",
    "        \"ArtistPopularity\": artist_pop,\n",
    "        \"ArtistGenres\": artist_genres,\n",
    "        \"Album\": album,\n",
    "        \"TrackPopularity\": track_pop,\n",
    "        \"Explicit\": explicit_bool,\n",
    "        \"ReleaseDate\": release_date\n",
    "\n",
    "    }\n",
    "        data.update( sp.audio_features(track_uri)[0] )\n",
    "\n",
    "        # Append the data as a new row to the DataFrame\n",
    "        df2 = df2.append(data, ignore_index=True)\n",
    "    return df2\n",
    "\n",
    "\n",
    "\n"
   ]
  },
  {
   "cell_type": "markdown",
   "id": "ce86d439",
   "metadata": {},
   "source": [
    "## HIT SONGS"
   ]
  },
  {
   "cell_type": "code",
   "execution_count": 22,
   "id": "703a3d57",
   "metadata": {},
   "outputs": [
    {
     "name": "stdout",
     "output_type": "stream",
     "text": [
      "TRACK 1  in  spotify:track:1JgknGBbrfmEHeOZH051SS  COMPLETED\n"
     ]
    },
    {
     "name": "stderr",
     "output_type": "stream",
     "text": [
      "C:\\Users\\Uma Bala\\AppData\\Local\\Temp\\ipykernel_23008\\1248639595.py:50: FutureWarning: The frame.append method is deprecated and will be removed from pandas in a future version. Use pandas.concat instead.\n",
      "  df2 = df2.append(data, ignore_index=True)\n"
     ]
    },
    {
     "name": "stdout",
     "output_type": "stream",
     "text": [
      "TRACK 2  in  spotify:track:424DkevE18QJazwlljiTD4  COMPLETED\n"
     ]
    },
    {
     "name": "stderr",
     "output_type": "stream",
     "text": [
      "C:\\Users\\Uma Bala\\AppData\\Local\\Temp\\ipykernel_23008\\1248639595.py:50: FutureWarning: The frame.append method is deprecated and will be removed from pandas in a future version. Use pandas.concat instead.\n",
      "  df2 = df2.append(data, ignore_index=True)\n"
     ]
    },
    {
     "name": "stdout",
     "output_type": "stream",
     "text": [
      "TRACK 3  in  spotify:track:4Fv6wNYUixnYkj3Dgfrls8  COMPLETED\n"
     ]
    },
    {
     "name": "stderr",
     "output_type": "stream",
     "text": [
      "C:\\Users\\Uma Bala\\AppData\\Local\\Temp\\ipykernel_23008\\1248639595.py:50: FutureWarning: The frame.append method is deprecated and will be removed from pandas in a future version. Use pandas.concat instead.\n",
      "  df2 = df2.append(data, ignore_index=True)\n"
     ]
    },
    {
     "name": "stdout",
     "output_type": "stream",
     "text": [
      "TRACK 4  in  spotify:track:43MifzVnh8W3jJN0xqU9jR  COMPLETED\n"
     ]
    },
    {
     "name": "stderr",
     "output_type": "stream",
     "text": [
      "C:\\Users\\Uma Bala\\AppData\\Local\\Temp\\ipykernel_23008\\1248639595.py:50: FutureWarning: The frame.append method is deprecated and will be removed from pandas in a future version. Use pandas.concat instead.\n",
      "  df2 = df2.append(data, ignore_index=True)\n"
     ]
    },
    {
     "name": "stdout",
     "output_type": "stream",
     "text": [
      "TRACK 5  in  spotify:track:0HDO6JFfplYPrSWuufUosZ  COMPLETED\n"
     ]
    },
    {
     "name": "stderr",
     "output_type": "stream",
     "text": [
      "C:\\Users\\Uma Bala\\AppData\\Local\\Temp\\ipykernel_23008\\1248639595.py:50: FutureWarning: The frame.append method is deprecated and will be removed from pandas in a future version. Use pandas.concat instead.\n",
      "  df2 = df2.append(data, ignore_index=True)\n"
     ]
    },
    {
     "name": "stdout",
     "output_type": "stream",
     "text": [
      "TRACK 6  in  spotify:track:65leXqfkdViSssEVN23uYL  COMPLETED\n"
     ]
    },
    {
     "name": "stderr",
     "output_type": "stream",
     "text": [
      "C:\\Users\\Uma Bala\\AppData\\Local\\Temp\\ipykernel_23008\\1248639595.py:50: FutureWarning: The frame.append method is deprecated and will be removed from pandas in a future version. Use pandas.concat instead.\n",
      "  df2 = df2.append(data, ignore_index=True)\n"
     ]
    },
    {
     "name": "stdout",
     "output_type": "stream",
     "text": [
      "TRACK 7  in  spotify:track:71BWZa1liIRyUiuJ3MB66o  COMPLETED\n"
     ]
    },
    {
     "name": "stderr",
     "output_type": "stream",
     "text": [
      "C:\\Users\\Uma Bala\\AppData\\Local\\Temp\\ipykernel_23008\\1248639595.py:50: FutureWarning: The frame.append method is deprecated and will be removed from pandas in a future version. Use pandas.concat instead.\n",
      "  df2 = df2.append(data, ignore_index=True)\n"
     ]
    },
    {
     "name": "stdout",
     "output_type": "stream",
     "text": [
      "TRACK 8  in  spotify:track:5mjYQaktjmjcMKcUIcqz4s  COMPLETED\n"
     ]
    },
    {
     "name": "stderr",
     "output_type": "stream",
     "text": [
      "C:\\Users\\Uma Bala\\AppData\\Local\\Temp\\ipykernel_23008\\1248639595.py:50: FutureWarning: The frame.append method is deprecated and will be removed from pandas in a future version. Use pandas.concat instead.\n",
      "  df2 = df2.append(data, ignore_index=True)\n"
     ]
    },
    {
     "name": "stdout",
     "output_type": "stream",
     "text": [
      "TRACK 9  in  spotify:track:4YQgOgIElFtEvwJQ9ArWL7  COMPLETED\n"
     ]
    },
    {
     "name": "stderr",
     "output_type": "stream",
     "text": [
      "C:\\Users\\Uma Bala\\AppData\\Local\\Temp\\ipykernel_23008\\1248639595.py:50: FutureWarning: The frame.append method is deprecated and will be removed from pandas in a future version. Use pandas.concat instead.\n",
      "  df2 = df2.append(data, ignore_index=True)\n"
     ]
    },
    {
     "name": "stdout",
     "output_type": "stream",
     "text": [
      "TRACK 10  in  spotify:track:7nn4MXs89QymmNzRreTywe  COMPLETED\n"
     ]
    },
    {
     "name": "stderr",
     "output_type": "stream",
     "text": [
      "C:\\Users\\Uma Bala\\AppData\\Local\\Temp\\ipykernel_23008\\1248639595.py:50: FutureWarning: The frame.append method is deprecated and will be removed from pandas in a future version. Use pandas.concat instead.\n",
      "  df2 = df2.append(data, ignore_index=True)\n"
     ]
    },
    {
     "name": "stdout",
     "output_type": "stream",
     "text": [
      "TRACK 11  in  spotify:track:3ZaEs1O8BG581qYPHpQ8d6  COMPLETED\n"
     ]
    },
    {
     "name": "stderr",
     "output_type": "stream",
     "text": [
      "C:\\Users\\Uma Bala\\AppData\\Local\\Temp\\ipykernel_23008\\1248639595.py:50: FutureWarning: The frame.append method is deprecated and will be removed from pandas in a future version. Use pandas.concat instead.\n",
      "  df2 = df2.append(data, ignore_index=True)\n"
     ]
    },
    {
     "name": "stdout",
     "output_type": "stream",
     "text": [
      "TRACK 12  in  spotify:track:1i9lZvlaDdWDPyXEE95aiq  COMPLETED\n"
     ]
    },
    {
     "name": "stderr",
     "output_type": "stream",
     "text": [
      "C:\\Users\\Uma Bala\\AppData\\Local\\Temp\\ipykernel_23008\\1248639595.py:50: FutureWarning: The frame.append method is deprecated and will be removed from pandas in a future version. Use pandas.concat instead.\n",
      "  df2 = df2.append(data, ignore_index=True)\n"
     ]
    },
    {
     "name": "stdout",
     "output_type": "stream",
     "text": [
      "TRACK 13  in  spotify:track:3rUGC1vUpkDG9CZFHMur1t  COMPLETED\n"
     ]
    },
    {
     "name": "stderr",
     "output_type": "stream",
     "text": [
      "C:\\Users\\Uma Bala\\AppData\\Local\\Temp\\ipykernel_23008\\1248639595.py:50: FutureWarning: The frame.append method is deprecated and will be removed from pandas in a future version. Use pandas.concat instead.\n",
      "  df2 = df2.append(data, ignore_index=True)\n"
     ]
    },
    {
     "name": "stdout",
     "output_type": "stream",
     "text": [
      "TRACK 14  in  spotify:track:4yJ1fD1LvIVtTDOu4NyKLU  COMPLETED\n"
     ]
    },
    {
     "name": "stderr",
     "output_type": "stream",
     "text": [
      "C:\\Users\\Uma Bala\\AppData\\Local\\Temp\\ipykernel_23008\\1248639595.py:50: FutureWarning: The frame.append method is deprecated and will be removed from pandas in a future version. Use pandas.concat instead.\n",
      "  df2 = df2.append(data, ignore_index=True)\n"
     ]
    },
    {
     "name": "stdout",
     "output_type": "stream",
     "text": [
      "TRACK 15  in  spotify:track:1cFKKdG6gmpptMBFxasJOE  COMPLETED\n"
     ]
    },
    {
     "name": "stderr",
     "output_type": "stream",
     "text": [
      "C:\\Users\\Uma Bala\\AppData\\Local\\Temp\\ipykernel_23008\\1248639595.py:50: FutureWarning: The frame.append method is deprecated and will be removed from pandas in a future version. Use pandas.concat instead.\n",
      "  df2 = df2.append(data, ignore_index=True)\n"
     ]
    },
    {
     "name": "stdout",
     "output_type": "stream",
     "text": [
      "TRACK 16  in  spotify:track:6IPwKM3fUUzlElbvKw2sKl  COMPLETED\n"
     ]
    },
    {
     "name": "stderr",
     "output_type": "stream",
     "text": [
      "C:\\Users\\Uma Bala\\AppData\\Local\\Temp\\ipykernel_23008\\1248639595.py:50: FutureWarning: The frame.append method is deprecated and will be removed from pandas in a future version. Use pandas.concat instead.\n",
      "  df2 = df2.append(data, ignore_index=True)\n",
      "C:\\Users\\Uma Bala\\AppData\\Local\\Temp\\ipykernel_23008\\1248639595.py:50: FutureWarning: The frame.append method is deprecated and will be removed from pandas in a future version. Use pandas.concat instead.\n",
      "  df2 = df2.append(data, ignore_index=True)\n"
     ]
    },
    {
     "name": "stdout",
     "output_type": "stream",
     "text": [
      "TRACK 17  in  spotify:track:3xKsf9qdS1CyvXSMEid6g8  COMPLETED\n",
      "TRACK 18  in  spotify:track:6EQLN1Fl8oy46k4FMwhxug  COMPLETED\n"
     ]
    },
    {
     "name": "stderr",
     "output_type": "stream",
     "text": [
      "C:\\Users\\Uma Bala\\AppData\\Local\\Temp\\ipykernel_23008\\1248639595.py:50: FutureWarning: The frame.append method is deprecated and will be removed from pandas in a future version. Use pandas.concat instead.\n",
      "  df2 = df2.append(data, ignore_index=True)\n"
     ]
    },
    {
     "name": "stdout",
     "output_type": "stream",
     "text": [
      "TRACK 19  in  spotify:track:75EIDyYc0excxUOzold15R  COMPLETED\n"
     ]
    },
    {
     "name": "stderr",
     "output_type": "stream",
     "text": [
      "C:\\Users\\Uma Bala\\AppData\\Local\\Temp\\ipykernel_23008\\1248639595.py:50: FutureWarning: The frame.append method is deprecated and will be removed from pandas in a future version. Use pandas.concat instead.\n",
      "  df2 = df2.append(data, ignore_index=True)\n"
     ]
    },
    {
     "name": "stdout",
     "output_type": "stream",
     "text": [
      "TRACK 20  in  spotify:track:187zHzb6JDM4YDSFNGkQ9u  COMPLETED\n"
     ]
    },
    {
     "name": "stderr",
     "output_type": "stream",
     "text": [
      "C:\\Users\\Uma Bala\\AppData\\Local\\Temp\\ipykernel_23008\\1248639595.py:50: FutureWarning: The frame.append method is deprecated and will be removed from pandas in a future version. Use pandas.concat instead.\n",
      "  df2 = df2.append(data, ignore_index=True)\n"
     ]
    },
    {
     "name": "stdout",
     "output_type": "stream",
     "text": [
      "TRACK 21  in  spotify:track:0QIjsbm2fh1cJ45XO9eGqq  COMPLETED\n"
     ]
    },
    {
     "name": "stderr",
     "output_type": "stream",
     "text": [
      "C:\\Users\\Uma Bala\\AppData\\Local\\Temp\\ipykernel_23008\\1248639595.py:50: FutureWarning: The frame.append method is deprecated and will be removed from pandas in a future version. Use pandas.concat instead.\n",
      "  df2 = df2.append(data, ignore_index=True)\n"
     ]
    },
    {
     "name": "stdout",
     "output_type": "stream",
     "text": [
      "TRACK 22  in  spotify:track:1AWQoqb9bSvzTjaLralEkT  COMPLETED\n"
     ]
    },
    {
     "name": "stderr",
     "output_type": "stream",
     "text": [
      "C:\\Users\\Uma Bala\\AppData\\Local\\Temp\\ipykernel_23008\\1248639595.py:50: FutureWarning: The frame.append method is deprecated and will be removed from pandas in a future version. Use pandas.concat instead.\n",
      "  df2 = df2.append(data, ignore_index=True)\n"
     ]
    },
    {
     "name": "stdout",
     "output_type": "stream",
     "text": [
      "TRACK 23  in  spotify:track:6qrcJkIpuWpxH0ruS8WVAy  COMPLETED\n"
     ]
    },
    {
     "name": "stderr",
     "output_type": "stream",
     "text": [
      "C:\\Users\\Uma Bala\\AppData\\Local\\Temp\\ipykernel_23008\\1248639595.py:50: FutureWarning: The frame.append method is deprecated and will be removed from pandas in a future version. Use pandas.concat instead.\n",
      "  df2 = df2.append(data, ignore_index=True)\n"
     ]
    },
    {
     "name": "stdout",
     "output_type": "stream",
     "text": [
      "TRACK 24  in  spotify:track:3B4etxytImrRKQgV3XHjnR  COMPLETED\n"
     ]
    },
    {
     "name": "stderr",
     "output_type": "stream",
     "text": [
      "C:\\Users\\Uma Bala\\AppData\\Local\\Temp\\ipykernel_23008\\1248639595.py:50: FutureWarning: The frame.append method is deprecated and will be removed from pandas in a future version. Use pandas.concat instead.\n",
      "  df2 = df2.append(data, ignore_index=True)\n"
     ]
    },
    {
     "name": "stdout",
     "output_type": "stream",
     "text": [
      "TRACK 25  in  spotify:track:1XTY6rA7XQosc0ynkkE9kN  COMPLETED\n"
     ]
    },
    {
     "name": "stderr",
     "output_type": "stream",
     "text": [
      "C:\\Users\\Uma Bala\\AppData\\Local\\Temp\\ipykernel_23008\\1248639595.py:50: FutureWarning: The frame.append method is deprecated and will be removed from pandas in a future version. Use pandas.concat instead.\n",
      "  df2 = df2.append(data, ignore_index=True)\n"
     ]
    },
    {
     "name": "stdout",
     "output_type": "stream",
     "text": [
      "TRACK 26  in  spotify:track:736PP5LTtREkDgktNmX3Gu  COMPLETED\n"
     ]
    },
    {
     "name": "stderr",
     "output_type": "stream",
     "text": [
      "C:\\Users\\Uma Bala\\AppData\\Local\\Temp\\ipykernel_23008\\1248639595.py:50: FutureWarning: The frame.append method is deprecated and will be removed from pandas in a future version. Use pandas.concat instead.\n",
      "  df2 = df2.append(data, ignore_index=True)\n"
     ]
    },
    {
     "name": "stdout",
     "output_type": "stream",
     "text": [
      "TRACK 27  in  spotify:track:7KA4W4McWYRpgf0fWsJZWB  COMPLETED\n"
     ]
    },
    {
     "name": "stderr",
     "output_type": "stream",
     "text": [
      "C:\\Users\\Uma Bala\\AppData\\Local\\Temp\\ipykernel_23008\\1248639595.py:50: FutureWarning: The frame.append method is deprecated and will be removed from pandas in a future version. Use pandas.concat instead.\n",
      "  df2 = df2.append(data, ignore_index=True)\n",
      "C:\\Users\\Uma Bala\\AppData\\Local\\Temp\\ipykernel_23008\\1248639595.py:50: FutureWarning: The frame.append method is deprecated and will be removed from pandas in a future version. Use pandas.concat instead.\n",
      "  df2 = df2.append(data, ignore_index=True)\n"
     ]
    },
    {
     "name": "stdout",
     "output_type": "stream",
     "text": [
      "TRACK 28  in  spotify:track:0EqczV3o6fwksegAavIHpX  COMPLETED\n",
      "TRACK 29  in  spotify:track:5CQ0tp4ZdSrzj2ev9yieVV  COMPLETED\n"
     ]
    },
    {
     "name": "stderr",
     "output_type": "stream",
     "text": [
      "C:\\Users\\Uma Bala\\AppData\\Local\\Temp\\ipykernel_23008\\1248639595.py:50: FutureWarning: The frame.append method is deprecated and will be removed from pandas in a future version. Use pandas.concat instead.\n",
      "  df2 = df2.append(data, ignore_index=True)\n"
     ]
    },
    {
     "name": "stdout",
     "output_type": "stream",
     "text": [
      "TRACK 30  in  spotify:track:2IGMVunIBsBLtEQyoI1Mu7  COMPLETED\n"
     ]
    },
    {
     "name": "stderr",
     "output_type": "stream",
     "text": [
      "C:\\Users\\Uma Bala\\AppData\\Local\\Temp\\ipykernel_23008\\1248639595.py:50: FutureWarning: The frame.append method is deprecated and will be removed from pandas in a future version. Use pandas.concat instead.\n",
      "  df2 = df2.append(data, ignore_index=True)\n"
     ]
    },
    {
     "name": "stdout",
     "output_type": "stream",
     "text": [
      "TRACK 31  in  spotify:track:3NRql0A1Ef4RCvT473iqgD  COMPLETED\n"
     ]
    },
    {
     "name": "stderr",
     "output_type": "stream",
     "text": [
      "C:\\Users\\Uma Bala\\AppData\\Local\\Temp\\ipykernel_23008\\1248639595.py:50: FutureWarning: The frame.append method is deprecated and will be removed from pandas in a future version. Use pandas.concat instead.\n",
      "  df2 = df2.append(data, ignore_index=True)\n",
      "C:\\Users\\Uma Bala\\AppData\\Local\\Temp\\ipykernel_23008\\1248639595.py:50: FutureWarning: The frame.append method is deprecated and will be removed from pandas in a future version. Use pandas.concat instead.\n",
      "  df2 = df2.append(data, ignore_index=True)\n"
     ]
    },
    {
     "name": "stdout",
     "output_type": "stream",
     "text": [
      "TRACK 32  in  spotify:track:5wHBA7ROxraWgOBcMwVJ7P  COMPLETED\n",
      "TRACK 33  in  spotify:track:40gk32E7YaTFoQwDIWv2SY  COMPLETED\n"
     ]
    },
    {
     "name": "stderr",
     "output_type": "stream",
     "text": [
      "C:\\Users\\Uma Bala\\AppData\\Local\\Temp\\ipykernel_23008\\1248639595.py:50: FutureWarning: The frame.append method is deprecated and will be removed from pandas in a future version. Use pandas.concat instead.\n",
      "  df2 = df2.append(data, ignore_index=True)\n"
     ]
    },
    {
     "name": "stdout",
     "output_type": "stream",
     "text": [
      "TRACK 34  in  spotify:track:2Rn2ocU7jk8BqFoh6zwf1Y  COMPLETED\n"
     ]
    },
    {
     "name": "stderr",
     "output_type": "stream",
     "text": [
      "C:\\Users\\Uma Bala\\AppData\\Local\\Temp\\ipykernel_23008\\1248639595.py:50: FutureWarning: The frame.append method is deprecated and will be removed from pandas in a future version. Use pandas.concat instead.\n",
      "  df2 = df2.append(data, ignore_index=True)\n"
     ]
    },
    {
     "name": "stdout",
     "output_type": "stream",
     "text": [
      "TRACK 35  in  spotify:track:4cQAhjxynTUlhVUJN5yhUb  COMPLETED\n"
     ]
    },
    {
     "name": "stderr",
     "output_type": "stream",
     "text": [
      "C:\\Users\\Uma Bala\\AppData\\Local\\Temp\\ipykernel_23008\\1248639595.py:50: FutureWarning: The frame.append method is deprecated and will be removed from pandas in a future version. Use pandas.concat instead.\n",
      "  df2 = df2.append(data, ignore_index=True)\n"
     ]
    },
    {
     "name": "stdout",
     "output_type": "stream",
     "text": [
      "TRACK 36  in  spotify:track:19kHhX6f6EfLU7rcO3RqjO  COMPLETED\n"
     ]
    },
    {
     "name": "stderr",
     "output_type": "stream",
     "text": [
      "C:\\Users\\Uma Bala\\AppData\\Local\\Temp\\ipykernel_23008\\1248639595.py:50: FutureWarning: The frame.append method is deprecated and will be removed from pandas in a future version. Use pandas.concat instead.\n",
      "  df2 = df2.append(data, ignore_index=True)\n"
     ]
    },
    {
     "name": "stdout",
     "output_type": "stream",
     "text": [
      "TRACK 37  in  spotify:track:5Ryu0SlsYjKh78RkJUONFr  COMPLETED\n"
     ]
    },
    {
     "name": "stderr",
     "output_type": "stream",
     "text": [
      "C:\\Users\\Uma Bala\\AppData\\Local\\Temp\\ipykernel_23008\\1248639595.py:50: FutureWarning: The frame.append method is deprecated and will be removed from pandas in a future version. Use pandas.concat instead.\n",
      "  df2 = df2.append(data, ignore_index=True)\n"
     ]
    },
    {
     "name": "stdout",
     "output_type": "stream",
     "text": [
      "TRACK 38  in  spotify:track:2ogKhhoMClkFXek7ZgxAhN  COMPLETED\n"
     ]
    },
    {
     "name": "stderr",
     "output_type": "stream",
     "text": [
      "C:\\Users\\Uma Bala\\AppData\\Local\\Temp\\ipykernel_23008\\1248639595.py:50: FutureWarning: The frame.append method is deprecated and will be removed from pandas in a future version. Use pandas.concat instead.\n",
      "  df2 = df2.append(data, ignore_index=True)\n"
     ]
    },
    {
     "name": "stdout",
     "output_type": "stream",
     "text": [
      "TRACK 39  in  spotify:track:7icwQvajsokotDfM3tefW6  COMPLETED\n"
     ]
    },
    {
     "name": "stderr",
     "output_type": "stream",
     "text": [
      "C:\\Users\\Uma Bala\\AppData\\Local\\Temp\\ipykernel_23008\\1248639595.py:50: FutureWarning: The frame.append method is deprecated and will be removed from pandas in a future version. Use pandas.concat instead.\n",
      "  df2 = df2.append(data, ignore_index=True)\n"
     ]
    },
    {
     "name": "stdout",
     "output_type": "stream",
     "text": [
      "TRACK 40  in  spotify:track:3vkCueOmm7xQDoJ17W1Pm3  COMPLETED\n"
     ]
    },
    {
     "name": "stderr",
     "output_type": "stream",
     "text": [
      "C:\\Users\\Uma Bala\\AppData\\Local\\Temp\\ipykernel_23008\\1248639595.py:50: FutureWarning: The frame.append method is deprecated and will be removed from pandas in a future version. Use pandas.concat instead.\n",
      "  df2 = df2.append(data, ignore_index=True)\n"
     ]
    },
    {
     "name": "stdout",
     "output_type": "stream",
     "text": [
      "TRACK 41  in  spotify:track:25FTMokYEbEWHEdss5JLZS  COMPLETED\n"
     ]
    },
    {
     "name": "stderr",
     "output_type": "stream",
     "text": [
      "C:\\Users\\Uma Bala\\AppData\\Local\\Temp\\ipykernel_23008\\1248639595.py:50: FutureWarning: The frame.append method is deprecated and will be removed from pandas in a future version. Use pandas.concat instead.\n",
      "  df2 = df2.append(data, ignore_index=True)\n"
     ]
    },
    {
     "name": "stdout",
     "output_type": "stream",
     "text": [
      "TRACK 42  in  spotify:track:1AMADyXgIWayh5vXLZo2qF  COMPLETED\n"
     ]
    },
    {
     "name": "stderr",
     "output_type": "stream",
     "text": [
      "C:\\Users\\Uma Bala\\AppData\\Local\\Temp\\ipykernel_23008\\1248639595.py:50: FutureWarning: The frame.append method is deprecated and will be removed from pandas in a future version. Use pandas.concat instead.\n",
      "  df2 = df2.append(data, ignore_index=True)\n"
     ]
    },
    {
     "name": "stdout",
     "output_type": "stream",
     "text": [
      "TRACK 43  in  spotify:track:3kQfBtkQqgN1fAMfhks8TU  COMPLETED\n"
     ]
    },
    {
     "name": "stderr",
     "output_type": "stream",
     "text": [
      "C:\\Users\\Uma Bala\\AppData\\Local\\Temp\\ipykernel_23008\\1248639595.py:50: FutureWarning: The frame.append method is deprecated and will be removed from pandas in a future version. Use pandas.concat instead.\n",
      "  df2 = df2.append(data, ignore_index=True)\n"
     ]
    },
    {
     "name": "stdout",
     "output_type": "stream",
     "text": [
      "TRACK 44  in  spotify:track:5aIVCx5tnk0ntmdiinnYvw  COMPLETED\n"
     ]
    },
    {
     "name": "stderr",
     "output_type": "stream",
     "text": [
      "C:\\Users\\Uma Bala\\AppData\\Local\\Temp\\ipykernel_23008\\1248639595.py:50: FutureWarning: The frame.append method is deprecated and will be removed from pandas in a future version. Use pandas.concat instead.\n",
      "  df2 = df2.append(data, ignore_index=True)\n"
     ]
    },
    {
     "name": "stdout",
     "output_type": "stream",
     "text": [
      "TRACK 45  in  spotify:track:4TNFLwe6DhtR3Wn1JKMqMJ  COMPLETED\n"
     ]
    },
    {
     "name": "stderr",
     "output_type": "stream",
     "text": [
      "C:\\Users\\Uma Bala\\AppData\\Local\\Temp\\ipykernel_23008\\1248639595.py:50: FutureWarning: The frame.append method is deprecated and will be removed from pandas in a future version. Use pandas.concat instead.\n",
      "  df2 = df2.append(data, ignore_index=True)\n"
     ]
    },
    {
     "name": "stdout",
     "output_type": "stream",
     "text": [
      "TRACK 46  in  spotify:track:0xaFw2zDYf1rIJWl2dXiSF  COMPLETED\n"
     ]
    },
    {
     "name": "stderr",
     "output_type": "stream",
     "text": [
      "C:\\Users\\Uma Bala\\AppData\\Local\\Temp\\ipykernel_23008\\1248639595.py:50: FutureWarning: The frame.append method is deprecated and will be removed from pandas in a future version. Use pandas.concat instead.\n",
      "  df2 = df2.append(data, ignore_index=True)\n"
     ]
    },
    {
     "name": "stdout",
     "output_type": "stream",
     "text": [
      "TRACK 47  in  spotify:track:4rHZZAmHpZrA3iH5zx8frV  COMPLETED\n"
     ]
    },
    {
     "name": "stderr",
     "output_type": "stream",
     "text": [
      "C:\\Users\\Uma Bala\\AppData\\Local\\Temp\\ipykernel_23008\\1248639595.py:50: FutureWarning: The frame.append method is deprecated and will be removed from pandas in a future version. Use pandas.concat instead.\n",
      "  df2 = df2.append(data, ignore_index=True)\n"
     ]
    },
    {
     "name": "stdout",
     "output_type": "stream",
     "text": [
      "TRACK 48  in  spotify:track:4KGGeE7RJsgLNZmnxGFlOj  COMPLETED\n"
     ]
    },
    {
     "name": "stderr",
     "output_type": "stream",
     "text": [
      "C:\\Users\\Uma Bala\\AppData\\Local\\Temp\\ipykernel_23008\\1248639595.py:50: FutureWarning: The frame.append method is deprecated and will be removed from pandas in a future version. Use pandas.concat instead.\n",
      "  df2 = df2.append(data, ignore_index=True)\n"
     ]
    },
    {
     "name": "stdout",
     "output_type": "stream",
     "text": [
      "TRACK 49  in  spotify:track:2DGa7iaidT5s0qnINlwMjJ  COMPLETED\n"
     ]
    },
    {
     "name": "stderr",
     "output_type": "stream",
     "text": [
      "C:\\Users\\Uma Bala\\AppData\\Local\\Temp\\ipykernel_23008\\1248639595.py:50: FutureWarning: The frame.append method is deprecated and will be removed from pandas in a future version. Use pandas.concat instead.\n",
      "  df2 = df2.append(data, ignore_index=True)\n"
     ]
    },
    {
     "name": "stdout",
     "output_type": "stream",
     "text": [
      "TRACK 50  in  spotify:track:38RLObegC9ggpKPRVQDc1g  COMPLETED\n"
     ]
    },
    {
     "name": "stderr",
     "output_type": "stream",
     "text": [
      "C:\\Users\\Uma Bala\\AppData\\Local\\Temp\\ipykernel_23008\\1248639595.py:50: FutureWarning: The frame.append method is deprecated and will be removed from pandas in a future version. Use pandas.concat instead.\n",
      "  df2 = df2.append(data, ignore_index=True)\n"
     ]
    },
    {
     "name": "stdout",
     "output_type": "stream",
     "text": [
      "TRACK 51  in  spotify:track:035MzEbx4z2DxuRDymHXbv  COMPLETED\n"
     ]
    },
    {
     "name": "stderr",
     "output_type": "stream",
     "text": [
      "C:\\Users\\Uma Bala\\AppData\\Local\\Temp\\ipykernel_23008\\1248639595.py:50: FutureWarning: The frame.append method is deprecated and will be removed from pandas in a future version. Use pandas.concat instead.\n",
      "  df2 = df2.append(data, ignore_index=True)\n"
     ]
    },
    {
     "name": "stdout",
     "output_type": "stream",
     "text": [
      "TRACK 52  in  spotify:track:52OWRufMrpxRcv3Sy97A42  COMPLETED\n"
     ]
    },
    {
     "name": "stderr",
     "output_type": "stream",
     "text": [
      "C:\\Users\\Uma Bala\\AppData\\Local\\Temp\\ipykernel_23008\\1248639595.py:50: FutureWarning: The frame.append method is deprecated and will be removed from pandas in a future version. Use pandas.concat instead.\n",
      "  df2 = df2.append(data, ignore_index=True)\n"
     ]
    },
    {
     "name": "stdout",
     "output_type": "stream",
     "text": [
      "TRACK 53  in  spotify:track:4D1k6x4MXTaSnljSvAXhaf  COMPLETED\n"
     ]
    },
    {
     "name": "stderr",
     "output_type": "stream",
     "text": [
      "C:\\Users\\Uma Bala\\AppData\\Local\\Temp\\ipykernel_23008\\1248639595.py:50: FutureWarning: The frame.append method is deprecated and will be removed from pandas in a future version. Use pandas.concat instead.\n",
      "  df2 = df2.append(data, ignore_index=True)\n"
     ]
    },
    {
     "name": "stdout",
     "output_type": "stream",
     "text": [
      "TRACK 54  in  spotify:track:4xF4ZBGPZKxECeDFrqSAG4  COMPLETED\n"
     ]
    },
    {
     "name": "stderr",
     "output_type": "stream",
     "text": [
      "C:\\Users\\Uma Bala\\AppData\\Local\\Temp\\ipykernel_23008\\1248639595.py:50: FutureWarning: The frame.append method is deprecated and will be removed from pandas in a future version. Use pandas.concat instead.\n",
      "  df2 = df2.append(data, ignore_index=True)\n"
     ]
    },
    {
     "name": "stdout",
     "output_type": "stream",
     "text": [
      "TRACK 55  in  spotify:track:39sDitIeCMrVX2QyXHY46t  COMPLETED\n"
     ]
    },
    {
     "name": "stderr",
     "output_type": "stream",
     "text": [
      "C:\\Users\\Uma Bala\\AppData\\Local\\Temp\\ipykernel_23008\\1248639595.py:50: FutureWarning: The frame.append method is deprecated and will be removed from pandas in a future version. Use pandas.concat instead.\n",
      "  df2 = df2.append(data, ignore_index=True)\n"
     ]
    },
    {
     "name": "stdout",
     "output_type": "stream",
     "text": [
      "TRACK 56  in  spotify:track:2ajhenDRiiAnCHHjsIOHhJ  COMPLETED\n"
     ]
    },
    {
     "name": "stderr",
     "output_type": "stream",
     "text": [
      "C:\\Users\\Uma Bala\\AppData\\Local\\Temp\\ipykernel_23008\\1248639595.py:50: FutureWarning: The frame.append method is deprecated and will be removed from pandas in a future version. Use pandas.concat instead.\n",
      "  df2 = df2.append(data, ignore_index=True)\n",
      "C:\\Users\\Uma Bala\\AppData\\Local\\Temp\\ipykernel_23008\\1248639595.py:50: FutureWarning: The frame.append method is deprecated and will be removed from pandas in a future version. Use pandas.concat instead.\n",
      "  df2 = df2.append(data, ignore_index=True)\n"
     ]
    },
    {
     "name": "stdout",
     "output_type": "stream",
     "text": [
      "TRACK 57  in  spotify:track:00zk0uua6s2ifh0Nc3ppfW  COMPLETED\n",
      "TRACK 58  in  spotify:track:4rXLjWdF2ZZpXCVTfWcshS  COMPLETED\n"
     ]
    },
    {
     "name": "stderr",
     "output_type": "stream",
     "text": [
      "C:\\Users\\Uma Bala\\AppData\\Local\\Temp\\ipykernel_23008\\1248639595.py:50: FutureWarning: The frame.append method is deprecated and will be removed from pandas in a future version. Use pandas.concat instead.\n",
      "  df2 = df2.append(data, ignore_index=True)\n"
     ]
    },
    {
     "name": "stdout",
     "output_type": "stream",
     "text": [
      "TRACK 59  in  spotify:track:1A7qPfbcyRVEdcZiwTFhZI  COMPLETED\n"
     ]
    },
    {
     "name": "stderr",
     "output_type": "stream",
     "text": [
      "C:\\Users\\Uma Bala\\AppData\\Local\\Temp\\ipykernel_23008\\1248639595.py:50: FutureWarning: The frame.append method is deprecated and will be removed from pandas in a future version. Use pandas.concat instead.\n",
      "  df2 = df2.append(data, ignore_index=True)\n",
      "C:\\Users\\Uma Bala\\AppData\\Local\\Temp\\ipykernel_23008\\1248639595.py:50: FutureWarning: The frame.append method is deprecated and will be removed from pandas in a future version. Use pandas.concat instead.\n",
      "  df2 = df2.append(data, ignore_index=True)\n"
     ]
    },
    {
     "name": "stdout",
     "output_type": "stream",
     "text": [
      "TRACK 60  in  spotify:track:59NraMJsLaMCVtwXTSia8i  COMPLETED\n",
      "TRACK 61  in  spotify:track:2qxmye6gAegTMjLKEBoR3d  COMPLETED\n"
     ]
    },
    {
     "name": "stderr",
     "output_type": "stream",
     "text": [
      "C:\\Users\\Uma Bala\\AppData\\Local\\Temp\\ipykernel_23008\\1248639595.py:50: FutureWarning: The frame.append method is deprecated and will be removed from pandas in a future version. Use pandas.concat instead.\n",
      "  df2 = df2.append(data, ignore_index=True)\n"
     ]
    },
    {
     "name": "stdout",
     "output_type": "stream",
     "text": [
      "TRACK 62  in  spotify:track:0NaUT74rJ0NHS62fewzatU  COMPLETED\n"
     ]
    },
    {
     "name": "stderr",
     "output_type": "stream",
     "text": [
      "C:\\Users\\Uma Bala\\AppData\\Local\\Temp\\ipykernel_23008\\1248639595.py:50: FutureWarning: The frame.append method is deprecated and will be removed from pandas in a future version. Use pandas.concat instead.\n",
      "  df2 = df2.append(data, ignore_index=True)\n"
     ]
    },
    {
     "name": "stdout",
     "output_type": "stream",
     "text": [
      "TRACK 63  in  spotify:track:4Oun2ylbjFKMPTiaSbbCih  COMPLETED\n"
     ]
    },
    {
     "name": "stderr",
     "output_type": "stream",
     "text": [
      "C:\\Users\\Uma Bala\\AppData\\Local\\Temp\\ipykernel_23008\\1248639595.py:50: FutureWarning: The frame.append method is deprecated and will be removed from pandas in a future version. Use pandas.concat instead.\n",
      "  df2 = df2.append(data, ignore_index=True)\n"
     ]
    },
    {
     "name": "stdout",
     "output_type": "stream",
     "text": [
      "TRACK 64  in  spotify:track:4jVBIpuOiMj1crqd8LoCrJ  COMPLETED\n"
     ]
    },
    {
     "name": "stderr",
     "output_type": "stream",
     "text": [
      "C:\\Users\\Uma Bala\\AppData\\Local\\Temp\\ipykernel_23008\\1248639595.py:50: FutureWarning: The frame.append method is deprecated and will be removed from pandas in a future version. Use pandas.concat instead.\n",
      "  df2 = df2.append(data, ignore_index=True)\n"
     ]
    },
    {
     "name": "stdout",
     "output_type": "stream",
     "text": [
      "TRACK 65  in  spotify:track:3DHB4RzX7kWcpjjFtcmWqh  COMPLETED\n"
     ]
    },
    {
     "name": "stderr",
     "output_type": "stream",
     "text": [
      "C:\\Users\\Uma Bala\\AppData\\Local\\Temp\\ipykernel_23008\\1248639595.py:50: FutureWarning: The frame.append method is deprecated and will be removed from pandas in a future version. Use pandas.concat instead.\n",
      "  df2 = df2.append(data, ignore_index=True)\n"
     ]
    },
    {
     "name": "stdout",
     "output_type": "stream",
     "text": [
      "TRACK 66  in  spotify:track:5YABYtKx9qa56vBjlXDbmw  COMPLETED\n"
     ]
    },
    {
     "name": "stderr",
     "output_type": "stream",
     "text": [
      "C:\\Users\\Uma Bala\\AppData\\Local\\Temp\\ipykernel_23008\\1248639595.py:50: FutureWarning: The frame.append method is deprecated and will be removed from pandas in a future version. Use pandas.concat instead.\n",
      "  df2 = df2.append(data, ignore_index=True)\n"
     ]
    },
    {
     "name": "stdout",
     "output_type": "stream",
     "text": [
      "TRACK 67  in  spotify:track:7AtQxohgEu5dRYdcY4gB6G  COMPLETED\n"
     ]
    },
    {
     "name": "stderr",
     "output_type": "stream",
     "text": [
      "C:\\Users\\Uma Bala\\AppData\\Local\\Temp\\ipykernel_23008\\1248639595.py:50: FutureWarning: The frame.append method is deprecated and will be removed from pandas in a future version. Use pandas.concat instead.\n",
      "  df2 = df2.append(data, ignore_index=True)\n"
     ]
    },
    {
     "name": "stdout",
     "output_type": "stream",
     "text": [
      "TRACK 68  in  spotify:track:1iK1hVN9o1zkpxw396QGbd  COMPLETED\n"
     ]
    },
    {
     "name": "stderr",
     "output_type": "stream",
     "text": [
      "C:\\Users\\Uma Bala\\AppData\\Local\\Temp\\ipykernel_23008\\1248639595.py:50: FutureWarning: The frame.append method is deprecated and will be removed from pandas in a future version. Use pandas.concat instead.\n",
      "  df2 = df2.append(data, ignore_index=True)\n"
     ]
    },
    {
     "name": "stdout",
     "output_type": "stream",
     "text": [
      "TRACK 69  in  spotify:track:3IX0yuEVvDbnqUwMBB3ouC  COMPLETED\n"
     ]
    },
    {
     "name": "stderr",
     "output_type": "stream",
     "text": [
      "C:\\Users\\Uma Bala\\AppData\\Local\\Temp\\ipykernel_23008\\1248639595.py:50: FutureWarning: The frame.append method is deprecated and will be removed from pandas in a future version. Use pandas.concat instead.\n",
      "  df2 = df2.append(data, ignore_index=True)\n"
     ]
    },
    {
     "name": "stdout",
     "output_type": "stream",
     "text": [
      "TRACK 70  in  spotify:track:6wsqVwoiVH2kde4k4KKAFU  COMPLETED\n"
     ]
    },
    {
     "name": "stderr",
     "output_type": "stream",
     "text": [
      "C:\\Users\\Uma Bala\\AppData\\Local\\Temp\\ipykernel_23008\\1248639595.py:50: FutureWarning: The frame.append method is deprecated and will be removed from pandas in a future version. Use pandas.concat instead.\n",
      "  df2 = df2.append(data, ignore_index=True)\n",
      "C:\\Users\\Uma Bala\\AppData\\Local\\Temp\\ipykernel_23008\\1248639595.py:50: FutureWarning: The frame.append method is deprecated and will be removed from pandas in a future version. Use pandas.concat instead.\n",
      "  df2 = df2.append(data, ignore_index=True)\n"
     ]
    },
    {
     "name": "stdout",
     "output_type": "stream",
     "text": [
      "TRACK 71  in  spotify:track:4Bdpn1gSDegE9ZXOIOO0tz  COMPLETED\n",
      "TRACK 72  in  spotify:track:6njJR3OIp3oA0Kc4aC9Tzf  COMPLETED\n"
     ]
    },
    {
     "name": "stderr",
     "output_type": "stream",
     "text": [
      "C:\\Users\\Uma Bala\\AppData\\Local\\Temp\\ipykernel_23008\\1248639595.py:50: FutureWarning: The frame.append method is deprecated and will be removed from pandas in a future version. Use pandas.concat instead.\n",
      "  df2 = df2.append(data, ignore_index=True)\n"
     ]
    },
    {
     "name": "stdout",
     "output_type": "stream",
     "text": [
      "TRACK 73  in  spotify:track:6bK6STyrPlLRCQXwBgti2h  COMPLETED\n"
     ]
    },
    {
     "name": "stderr",
     "output_type": "stream",
     "text": [
      "C:\\Users\\Uma Bala\\AppData\\Local\\Temp\\ipykernel_23008\\1248639595.py:50: FutureWarning: The frame.append method is deprecated and will be removed from pandas in a future version. Use pandas.concat instead.\n",
      "  df2 = df2.append(data, ignore_index=True)\n"
     ]
    },
    {
     "name": "stdout",
     "output_type": "stream",
     "text": [
      "TRACK 74  in  spotify:track:5JYPXqMwYc0zTODQdjMEZN  COMPLETED\n"
     ]
    },
    {
     "name": "stderr",
     "output_type": "stream",
     "text": [
      "C:\\Users\\Uma Bala\\AppData\\Local\\Temp\\ipykernel_23008\\1248639595.py:50: FutureWarning: The frame.append method is deprecated and will be removed from pandas in a future version. Use pandas.concat instead.\n",
      "  df2 = df2.append(data, ignore_index=True)\n"
     ]
    },
    {
     "name": "stdout",
     "output_type": "stream",
     "text": [
      "TRACK 75  in  spotify:track:6ulEymrJ2Azx1uo3YHSE5w  COMPLETED\n"
     ]
    },
    {
     "name": "stderr",
     "output_type": "stream",
     "text": [
      "C:\\Users\\Uma Bala\\AppData\\Local\\Temp\\ipykernel_23008\\1248639595.py:50: FutureWarning: The frame.append method is deprecated and will be removed from pandas in a future version. Use pandas.concat instead.\n",
      "  df2 = df2.append(data, ignore_index=True)\n"
     ]
    },
    {
     "name": "stdout",
     "output_type": "stream",
     "text": [
      "TRACK 76  in  spotify:track:7kT07Kchz7TIyylr6RNbVa  COMPLETED\n"
     ]
    },
    {
     "name": "stderr",
     "output_type": "stream",
     "text": [
      "C:\\Users\\Uma Bala\\AppData\\Local\\Temp\\ipykernel_23008\\1248639595.py:50: FutureWarning: The frame.append method is deprecated and will be removed from pandas in a future version. Use pandas.concat instead.\n",
      "  df2 = df2.append(data, ignore_index=True)\n"
     ]
    },
    {
     "name": "stdout",
     "output_type": "stream",
     "text": [
      "TRACK 77  in  spotify:track:5ZtK8XAVnoaGdBXZWCEVCY  COMPLETED\n"
     ]
    },
    {
     "name": "stderr",
     "output_type": "stream",
     "text": [
      "C:\\Users\\Uma Bala\\AppData\\Local\\Temp\\ipykernel_23008\\1248639595.py:50: FutureWarning: The frame.append method is deprecated and will be removed from pandas in a future version. Use pandas.concat instead.\n",
      "  df2 = df2.append(data, ignore_index=True)\n"
     ]
    },
    {
     "name": "stdout",
     "output_type": "stream",
     "text": [
      "TRACK 78  in  spotify:track:4gh0ZnHzaTMT1sDga7Ek0N  COMPLETED\n"
     ]
    },
    {
     "name": "stderr",
     "output_type": "stream",
     "text": [
      "C:\\Users\\Uma Bala\\AppData\\Local\\Temp\\ipykernel_23008\\1248639595.py:50: FutureWarning: The frame.append method is deprecated and will be removed from pandas in a future version. Use pandas.concat instead.\n",
      "  df2 = df2.append(data, ignore_index=True)\n"
     ]
    },
    {
     "name": "stdout",
     "output_type": "stream",
     "text": [
      "TRACK 79  in  spotify:track:0W4NhJhcqKCqEP2GIpDCDq  COMPLETED\n"
     ]
    },
    {
     "name": "stderr",
     "output_type": "stream",
     "text": [
      "C:\\Users\\Uma Bala\\AppData\\Local\\Temp\\ipykernel_23008\\1248639595.py:50: FutureWarning: The frame.append method is deprecated and will be removed from pandas in a future version. Use pandas.concat instead.\n",
      "  df2 = df2.append(data, ignore_index=True)\n"
     ]
    },
    {
     "name": "stdout",
     "output_type": "stream",
     "text": [
      "TRACK 80  in  spotify:track:0sSRLXxknVTQDStgU1NqpY  COMPLETED\n"
     ]
    },
    {
     "name": "stderr",
     "output_type": "stream",
     "text": [
      "C:\\Users\\Uma Bala\\AppData\\Local\\Temp\\ipykernel_23008\\1248639595.py:50: FutureWarning: The frame.append method is deprecated and will be removed from pandas in a future version. Use pandas.concat instead.\n",
      "  df2 = df2.append(data, ignore_index=True)\n",
      "C:\\Users\\Uma Bala\\AppData\\Local\\Temp\\ipykernel_23008\\1248639595.py:50: FutureWarning: The frame.append method is deprecated and will be removed from pandas in a future version. Use pandas.concat instead.\n",
      "  df2 = df2.append(data, ignore_index=True)\n"
     ]
    },
    {
     "name": "stdout",
     "output_type": "stream",
     "text": [
      "TRACK 81  in  spotify:track:0cVyQfDyRnMJ0V3rjjdlU3  COMPLETED\n",
      "TRACK 82  in  spotify:track:1Ukxccao1BlWrPhYkcXbwZ  COMPLETED\n"
     ]
    },
    {
     "name": "stderr",
     "output_type": "stream",
     "text": [
      "C:\\Users\\Uma Bala\\AppData\\Local\\Temp\\ipykernel_23008\\1248639595.py:50: FutureWarning: The frame.append method is deprecated and will be removed from pandas in a future version. Use pandas.concat instead.\n",
      "  df2 = df2.append(data, ignore_index=True)\n"
     ]
    },
    {
     "name": "stdout",
     "output_type": "stream",
     "text": [
      "TRACK 83  in  spotify:track:5sRNp1lJG6LBS1mQgDZOAb  COMPLETED\n"
     ]
    },
    {
     "name": "stderr",
     "output_type": "stream",
     "text": [
      "C:\\Users\\Uma Bala\\AppData\\Local\\Temp\\ipykernel_23008\\1248639595.py:50: FutureWarning: The frame.append method is deprecated and will be removed from pandas in a future version. Use pandas.concat instead.\n",
      "  df2 = df2.append(data, ignore_index=True)\n"
     ]
    },
    {
     "name": "stdout",
     "output_type": "stream",
     "text": [
      "TRACK 84  in  spotify:track:1KUZ33cOqk3X4Ezk0aZnVp  COMPLETED\n"
     ]
    },
    {
     "name": "stderr",
     "output_type": "stream",
     "text": [
      "C:\\Users\\Uma Bala\\AppData\\Local\\Temp\\ipykernel_23008\\1248639595.py:50: FutureWarning: The frame.append method is deprecated and will be removed from pandas in a future version. Use pandas.concat instead.\n",
      "  df2 = df2.append(data, ignore_index=True)\n"
     ]
    },
    {
     "name": "stdout",
     "output_type": "stream",
     "text": [
      "TRACK 85  in  spotify:track:741UUVE2kuITl0c6zuqqbO  COMPLETED\n"
     ]
    },
    {
     "name": "stderr",
     "output_type": "stream",
     "text": [
      "C:\\Users\\Uma Bala\\AppData\\Local\\Temp\\ipykernel_23008\\1248639595.py:50: FutureWarning: The frame.append method is deprecated and will be removed from pandas in a future version. Use pandas.concat instead.\n",
      "  df2 = df2.append(data, ignore_index=True)\n"
     ]
    },
    {
     "name": "stdout",
     "output_type": "stream",
     "text": [
      "TRACK 86  in  spotify:track:4PzxlHzDM3bDafkHjg1XCX  COMPLETED\n"
     ]
    },
    {
     "name": "stderr",
     "output_type": "stream",
     "text": [
      "C:\\Users\\Uma Bala\\AppData\\Local\\Temp\\ipykernel_23008\\1248639595.py:50: FutureWarning: The frame.append method is deprecated and will be removed from pandas in a future version. Use pandas.concat instead.\n",
      "  df2 = df2.append(data, ignore_index=True)\n"
     ]
    },
    {
     "name": "stdout",
     "output_type": "stream",
     "text": [
      "TRACK 87  in  spotify:track:2GWCZJWundoYi5IloWIgTX  COMPLETED\n"
     ]
    },
    {
     "name": "stderr",
     "output_type": "stream",
     "text": [
      "C:\\Users\\Uma Bala\\AppData\\Local\\Temp\\ipykernel_23008\\1248639595.py:50: FutureWarning: The frame.append method is deprecated and will be removed from pandas in a future version. Use pandas.concat instead.\n",
      "  df2 = df2.append(data, ignore_index=True)\n"
     ]
    },
    {
     "name": "stdout",
     "output_type": "stream",
     "text": [
      "TRACK 88  in  spotify:track:5h8mMDgymYYbKfdqhrdwZY  COMPLETED\n"
     ]
    },
    {
     "name": "stderr",
     "output_type": "stream",
     "text": [
      "C:\\Users\\Uma Bala\\AppData\\Local\\Temp\\ipykernel_23008\\1248639595.py:50: FutureWarning: The frame.append method is deprecated and will be removed from pandas in a future version. Use pandas.concat instead.\n",
      "  df2 = df2.append(data, ignore_index=True)\n"
     ]
    },
    {
     "name": "stdout",
     "output_type": "stream",
     "text": [
      "TRACK 89  in  spotify:track:4lMyi03aRk8nPBLLGyqAVz  COMPLETED\n"
     ]
    },
    {
     "name": "stderr",
     "output_type": "stream",
     "text": [
      "C:\\Users\\Uma Bala\\AppData\\Local\\Temp\\ipykernel_23008\\1248639595.py:50: FutureWarning: The frame.append method is deprecated and will be removed from pandas in a future version. Use pandas.concat instead.\n",
      "  df2 = df2.append(data, ignore_index=True)\n"
     ]
    },
    {
     "name": "stdout",
     "output_type": "stream",
     "text": [
      "TRACK 90  in  spotify:track:7jPdqwZug0ovtDZsY5uK4T  COMPLETED\n"
     ]
    },
    {
     "name": "stderr",
     "output_type": "stream",
     "text": [
      "C:\\Users\\Uma Bala\\AppData\\Local\\Temp\\ipykernel_23008\\1248639595.py:50: FutureWarning: The frame.append method is deprecated and will be removed from pandas in a future version. Use pandas.concat instead.\n",
      "  df2 = df2.append(data, ignore_index=True)\n"
     ]
    },
    {
     "name": "stdout",
     "output_type": "stream",
     "text": [
      "TRACK 91  in  spotify:track:190jyVPHYjAqEaOGmMzdyk  COMPLETED\n"
     ]
    },
    {
     "name": "stderr",
     "output_type": "stream",
     "text": [
      "C:\\Users\\Uma Bala\\AppData\\Local\\Temp\\ipykernel_23008\\1248639595.py:50: FutureWarning: The frame.append method is deprecated and will be removed from pandas in a future version. Use pandas.concat instead.\n",
      "  df2 = df2.append(data, ignore_index=True)\n"
     ]
    },
    {
     "name": "stdout",
     "output_type": "stream",
     "text": [
      "TRACK 92  in  spotify:track:0J9g1MMJDhyvOb3NWckHMm  COMPLETED\n"
     ]
    },
    {
     "name": "stderr",
     "output_type": "stream",
     "text": [
      "C:\\Users\\Uma Bala\\AppData\\Local\\Temp\\ipykernel_23008\\1248639595.py:50: FutureWarning: The frame.append method is deprecated and will be removed from pandas in a future version. Use pandas.concat instead.\n",
      "  df2 = df2.append(data, ignore_index=True)\n"
     ]
    },
    {
     "name": "stdout",
     "output_type": "stream",
     "text": [
      "TRACK 93  in  spotify:track:3XKIUb7HzIF1Vu9usunMzc  COMPLETED\n"
     ]
    },
    {
     "name": "stderr",
     "output_type": "stream",
     "text": [
      "C:\\Users\\Uma Bala\\AppData\\Local\\Temp\\ipykernel_23008\\1248639595.py:50: FutureWarning: The frame.append method is deprecated and will be removed from pandas in a future version. Use pandas.concat instead.\n",
      "  df2 = df2.append(data, ignore_index=True)\n"
     ]
    },
    {
     "name": "stdout",
     "output_type": "stream",
     "text": [
      "TRACK 94  in  spotify:track:6dBUzqjtbnIa1TwYbyw5CM  COMPLETED\n"
     ]
    },
    {
     "name": "stderr",
     "output_type": "stream",
     "text": [
      "C:\\Users\\Uma Bala\\AppData\\Local\\Temp\\ipykernel_23008\\1248639595.py:50: FutureWarning: The frame.append method is deprecated and will be removed from pandas in a future version. Use pandas.concat instead.\n",
      "  df2 = df2.append(data, ignore_index=True)\n"
     ]
    },
    {
     "name": "stdout",
     "output_type": "stream",
     "text": [
      "TRACK 95  in  spotify:track:73RbfOTJIjHzi2pcVHjeHM  COMPLETED\n"
     ]
    },
    {
     "name": "stderr",
     "output_type": "stream",
     "text": [
      "C:\\Users\\Uma Bala\\AppData\\Local\\Temp\\ipykernel_23008\\1248639595.py:50: FutureWarning: The frame.append method is deprecated and will be removed from pandas in a future version. Use pandas.concat instead.\n",
      "  df2 = df2.append(data, ignore_index=True)\n"
     ]
    },
    {
     "name": "stdout",
     "output_type": "stream",
     "text": [
      "TRACK 96  in  spotify:track:4kRLRWnn5u9wO2wOKAAdEN  COMPLETED\n"
     ]
    },
    {
     "name": "stderr",
     "output_type": "stream",
     "text": [
      "C:\\Users\\Uma Bala\\AppData\\Local\\Temp\\ipykernel_23008\\1248639595.py:50: FutureWarning: The frame.append method is deprecated and will be removed from pandas in a future version. Use pandas.concat instead.\n",
      "  df2 = df2.append(data, ignore_index=True)\n"
     ]
    },
    {
     "name": "stdout",
     "output_type": "stream",
     "text": [
      "TRACK 97  in  spotify:track:42VsgItocQwOQC3XWZ8JNA  COMPLETED\n"
     ]
    },
    {
     "name": "stderr",
     "output_type": "stream",
     "text": [
      "C:\\Users\\Uma Bala\\AppData\\Local\\Temp\\ipykernel_23008\\1248639595.py:50: FutureWarning: The frame.append method is deprecated and will be removed from pandas in a future version. Use pandas.concat instead.\n",
      "  df2 = df2.append(data, ignore_index=True)\n"
     ]
    },
    {
     "name": "stdout",
     "output_type": "stream",
     "text": [
      "TRACK 98  in  spotify:track:3vcLw8QA3yCOkrj9oLSZNs  COMPLETED\n"
     ]
    },
    {
     "name": "stderr",
     "output_type": "stream",
     "text": [
      "C:\\Users\\Uma Bala\\AppData\\Local\\Temp\\ipykernel_23008\\1248639595.py:50: FutureWarning: The frame.append method is deprecated and will be removed from pandas in a future version. Use pandas.concat instead.\n",
      "  df2 = df2.append(data, ignore_index=True)\n"
     ]
    },
    {
     "name": "stdout",
     "output_type": "stream",
     "text": [
      "TRACK 99  in  spotify:track:2FDTHlrBguDzQkp7PVj16Q  COMPLETED\n"
     ]
    },
    {
     "name": "stderr",
     "output_type": "stream",
     "text": [
      "C:\\Users\\Uma Bala\\AppData\\Local\\Temp\\ipykernel_23008\\1248639595.py:50: FutureWarning: The frame.append method is deprecated and will be removed from pandas in a future version. Use pandas.concat instead.\n",
      "  df2 = df2.append(data, ignore_index=True)\n"
     ]
    },
    {
     "name": "stdout",
     "output_type": "stream",
     "text": [
      "TRACK 100  in  spotify:track:4ooAEchlO6o6WL301WqIkP  COMPLETED\n"
     ]
    },
    {
     "name": "stderr",
     "output_type": "stream",
     "text": [
      "C:\\Users\\Uma Bala\\AppData\\Local\\Temp\\ipykernel_23008\\1248639595.py:50: FutureWarning: The frame.append method is deprecated and will be removed from pandas in a future version. Use pandas.concat instead.\n",
      "  df2 = df2.append(data, ignore_index=True)\n"
     ]
    },
    {
     "name": "stdout",
     "output_type": "stream",
     "text": [
      "TRACK 1  in  spotify:track:5aIVCx5tnk0ntmdiinnYvw  COMPLETED\n"
     ]
    },
    {
     "name": "stderr",
     "output_type": "stream",
     "text": [
      "C:\\Users\\Uma Bala\\AppData\\Local\\Temp\\ipykernel_23008\\1248639595.py:50: FutureWarning: The frame.append method is deprecated and will be removed from pandas in a future version. Use pandas.concat instead.\n",
      "  df2 = df2.append(data, ignore_index=True)\n"
     ]
    },
    {
     "name": "stdout",
     "output_type": "stream",
     "text": [
      "TRACK 2  in  spotify:track:3rUGC1vUpkDG9CZFHMur1t  COMPLETED\n"
     ]
    },
    {
     "name": "stderr",
     "output_type": "stream",
     "text": [
      "C:\\Users\\Uma Bala\\AppData\\Local\\Temp\\ipykernel_23008\\1248639595.py:50: FutureWarning: The frame.append method is deprecated and will be removed from pandas in a future version. Use pandas.concat instead.\n",
      "  df2 = df2.append(data, ignore_index=True)\n"
     ]
    },
    {
     "name": "stdout",
     "output_type": "stream",
     "text": [
      "TRACK 3  in  spotify:track:5mjYQaktjmjcMKcUIcqz4s  COMPLETED\n"
     ]
    },
    {
     "name": "stderr",
     "output_type": "stream",
     "text": [
      "C:\\Users\\Uma Bala\\AppData\\Local\\Temp\\ipykernel_23008\\1248639595.py:50: FutureWarning: The frame.append method is deprecated and will be removed from pandas in a future version. Use pandas.concat instead.\n",
      "  df2 = df2.append(data, ignore_index=True)\n"
     ]
    },
    {
     "name": "stdout",
     "output_type": "stream",
     "text": [
      "TRACK 4  in  spotify:track:2IGMVunIBsBLtEQyoI1Mu7  COMPLETED\n"
     ]
    },
    {
     "name": "stderr",
     "output_type": "stream",
     "text": [
      "C:\\Users\\Uma Bala\\AppData\\Local\\Temp\\ipykernel_23008\\1248639595.py:50: FutureWarning: The frame.append method is deprecated and will be removed from pandas in a future version. Use pandas.concat instead.\n",
      "  df2 = df2.append(data, ignore_index=True)\n"
     ]
    },
    {
     "name": "stdout",
     "output_type": "stream",
     "text": [
      "TRACK 5  in  spotify:track:4rXLjWdF2ZZpXCVTfWcshS  COMPLETED\n"
     ]
    },
    {
     "name": "stderr",
     "output_type": "stream",
     "text": [
      "C:\\Users\\Uma Bala\\AppData\\Local\\Temp\\ipykernel_23008\\1248639595.py:50: FutureWarning: The frame.append method is deprecated and will be removed from pandas in a future version. Use pandas.concat instead.\n",
      "  df2 = df2.append(data, ignore_index=True)\n"
     ]
    },
    {
     "name": "stdout",
     "output_type": "stream",
     "text": [
      "TRACK 6  in  spotify:track:4PMdq7Q7xOFrY424ZelZEb  COMPLETED\n"
     ]
    },
    {
     "name": "stderr",
     "output_type": "stream",
     "text": [
      "C:\\Users\\Uma Bala\\AppData\\Local\\Temp\\ipykernel_23008\\1248639595.py:50: FutureWarning: The frame.append method is deprecated and will be removed from pandas in a future version. Use pandas.concat instead.\n",
      "  df2 = df2.append(data, ignore_index=True)\n"
     ]
    },
    {
     "name": "stdout",
     "output_type": "stream",
     "text": [
      "TRACK 7  in  spotify:track:73RbfOTJIjHzi2pcVHjeHM  COMPLETED\n"
     ]
    },
    {
     "name": "stderr",
     "output_type": "stream",
     "text": [
      "C:\\Users\\Uma Bala\\AppData\\Local\\Temp\\ipykernel_23008\\1248639595.py:50: FutureWarning: The frame.append method is deprecated and will be removed from pandas in a future version. Use pandas.concat instead.\n",
      "  df2 = df2.append(data, ignore_index=True)\n"
     ]
    },
    {
     "name": "stdout",
     "output_type": "stream",
     "text": [
      "TRACK 8  in  spotify:track:4TNFLwe6DhtR3Wn1JKMqMJ  COMPLETED\n"
     ]
    },
    {
     "name": "stderr",
     "output_type": "stream",
     "text": [
      "C:\\Users\\Uma Bala\\AppData\\Local\\Temp\\ipykernel_23008\\1248639595.py:50: FutureWarning: The frame.append method is deprecated and will be removed from pandas in a future version. Use pandas.concat instead.\n",
      "  df2 = df2.append(data, ignore_index=True)\n"
     ]
    },
    {
     "name": "stdout",
     "output_type": "stream",
     "text": [
      "TRACK 9  in  spotify:track:59NraMJsLaMCVtwXTSia8i  COMPLETED\n"
     ]
    },
    {
     "name": "stderr",
     "output_type": "stream",
     "text": [
      "C:\\Users\\Uma Bala\\AppData\\Local\\Temp\\ipykernel_23008\\1248639595.py:50: FutureWarning: The frame.append method is deprecated and will be removed from pandas in a future version. Use pandas.concat instead.\n",
      "  df2 = df2.append(data, ignore_index=True)\n"
     ]
    },
    {
     "name": "stdout",
     "output_type": "stream",
     "text": [
      "TRACK 10  in  spotify:track:2i2gDpKKWjvnRTOZRhaPh2  COMPLETED\n"
     ]
    },
    {
     "name": "stderr",
     "output_type": "stream",
     "text": [
      "C:\\Users\\Uma Bala\\AppData\\Local\\Temp\\ipykernel_23008\\1248639595.py:50: FutureWarning: The frame.append method is deprecated and will be removed from pandas in a future version. Use pandas.concat instead.\n",
      "  df2 = df2.append(data, ignore_index=True)\n"
     ]
    },
    {
     "name": "stdout",
     "output_type": "stream",
     "text": [
      "TRACK 11  in  spotify:track:3XKIUb7HzIF1Vu9usunMzc  COMPLETED\n"
     ]
    },
    {
     "name": "stderr",
     "output_type": "stream",
     "text": [
      "C:\\Users\\Uma Bala\\AppData\\Local\\Temp\\ipykernel_23008\\1248639595.py:50: FutureWarning: The frame.append method is deprecated and will be removed from pandas in a future version. Use pandas.concat instead.\n",
      "  df2 = df2.append(data, ignore_index=True)\n"
     ]
    },
    {
     "name": "stdout",
     "output_type": "stream",
     "text": [
      "TRACK 12  in  spotify:track:741UUVE2kuITl0c6zuqqbO  COMPLETED\n"
     ]
    },
    {
     "name": "stderr",
     "output_type": "stream",
     "text": [
      "C:\\Users\\Uma Bala\\AppData\\Local\\Temp\\ipykernel_23008\\1248639595.py:50: FutureWarning: The frame.append method is deprecated and will be removed from pandas in a future version. Use pandas.concat instead.\n",
      "  df2 = df2.append(data, ignore_index=True)\n",
      "C:\\Users\\Uma Bala\\AppData\\Local\\Temp\\ipykernel_23008\\1248639595.py:50: FutureWarning: The frame.append method is deprecated and will be removed from pandas in a future version. Use pandas.concat instead.\n",
      "  df2 = df2.append(data, ignore_index=True)\n"
     ]
    },
    {
     "name": "stdout",
     "output_type": "stream",
     "text": [
      "TRACK 13  in  spotify:track:2FDTHlrBguDzQkp7PVj16Q  COMPLETED\n",
      "TRACK 14  in  spotify:track:5LrN7yUQAzvthd4QujgPFr  COMPLETED\n"
     ]
    },
    {
     "name": "stderr",
     "output_type": "stream",
     "text": [
      "C:\\Users\\Uma Bala\\AppData\\Local\\Temp\\ipykernel_23008\\1248639595.py:50: FutureWarning: The frame.append method is deprecated and will be removed from pandas in a future version. Use pandas.concat instead.\n",
      "  df2 = df2.append(data, ignore_index=True)\n"
     ]
    },
    {
     "name": "stdout",
     "output_type": "stream",
     "text": [
      "TRACK 15  in  spotify:track:3xKsf9qdS1CyvXSMEid6g8  COMPLETED\n"
     ]
    },
    {
     "name": "stderr",
     "output_type": "stream",
     "text": [
      "C:\\Users\\Uma Bala\\AppData\\Local\\Temp\\ipykernel_23008\\1248639595.py:50: FutureWarning: The frame.append method is deprecated and will be removed from pandas in a future version. Use pandas.concat instead.\n",
      "  df2 = df2.append(data, ignore_index=True)\n"
     ]
    },
    {
     "name": "stdout",
     "output_type": "stream",
     "text": [
      "TRACK 16  in  spotify:track:1odExI7RdWc4BT515LTAwj  COMPLETED\n"
     ]
    },
    {
     "name": "stderr",
     "output_type": "stream",
     "text": [
      "C:\\Users\\Uma Bala\\AppData\\Local\\Temp\\ipykernel_23008\\1248639595.py:50: FutureWarning: The frame.append method is deprecated and will be removed from pandas in a future version. Use pandas.concat instead.\n",
      "  df2 = df2.append(data, ignore_index=True)\n"
     ]
    },
    {
     "name": "stdout",
     "output_type": "stream",
     "text": [
      "TRACK 17  in  spotify:track:5odlY52u43F5BjByhxg7wg  COMPLETED\n"
     ]
    },
    {
     "name": "stderr",
     "output_type": "stream",
     "text": [
      "C:\\Users\\Uma Bala\\AppData\\Local\\Temp\\ipykernel_23008\\1248639595.py:50: FutureWarning: The frame.append method is deprecated and will be removed from pandas in a future version. Use pandas.concat instead.\n",
      "  df2 = df2.append(data, ignore_index=True)\n"
     ]
    },
    {
     "name": "stdout",
     "output_type": "stream",
     "text": [
      "TRACK 18  in  spotify:track:3IX0yuEVvDbnqUwMBB3ouC  COMPLETED\n"
     ]
    },
    {
     "name": "stderr",
     "output_type": "stream",
     "text": [
      "C:\\Users\\Uma Bala\\AppData\\Local\\Temp\\ipykernel_23008\\1248639595.py:50: FutureWarning: The frame.append method is deprecated and will be removed from pandas in a future version. Use pandas.concat instead.\n",
      "  df2 = df2.append(data, ignore_index=True)\n"
     ]
    },
    {
     "name": "stdout",
     "output_type": "stream",
     "text": [
      "TRACK 19  in  spotify:track:0cVyQfDyRnMJ0V3rjjdlU3  COMPLETED\n"
     ]
    },
    {
     "name": "stderr",
     "output_type": "stream",
     "text": [
      "C:\\Users\\Uma Bala\\AppData\\Local\\Temp\\ipykernel_23008\\1248639595.py:50: FutureWarning: The frame.append method is deprecated and will be removed from pandas in a future version. Use pandas.concat instead.\n",
      "  df2 = df2.append(data, ignore_index=True)\n",
      "C:\\Users\\Uma Bala\\AppData\\Local\\Temp\\ipykernel_23008\\1248639595.py:50: FutureWarning: The frame.append method is deprecated and will be removed from pandas in a future version. Use pandas.concat instead.\n",
      "  df2 = df2.append(data, ignore_index=True)\n"
     ]
    },
    {
     "name": "stdout",
     "output_type": "stream",
     "text": [
      "TRACK 20  in  spotify:track:7KA4W4McWYRpgf0fWsJZWB  COMPLETED\n",
      "TRACK 21  in  spotify:track:50x1Ic8CaXkYNvjmxe3WXy  COMPLETED\n"
     ]
    },
    {
     "name": "stderr",
     "output_type": "stream",
     "text": [
      "C:\\Users\\Uma Bala\\AppData\\Local\\Temp\\ipykernel_23008\\1248639595.py:50: FutureWarning: The frame.append method is deprecated and will be removed from pandas in a future version. Use pandas.concat instead.\n",
      "  df2 = df2.append(data, ignore_index=True)\n"
     ]
    },
    {
     "name": "stdout",
     "output_type": "stream",
     "text": [
      "TRACK 22  in  spotify:track:424DkevE18QJazwlljiTD4  COMPLETED\n"
     ]
    },
    {
     "name": "stderr",
     "output_type": "stream",
     "text": [
      "C:\\Users\\Uma Bala\\AppData\\Local\\Temp\\ipykernel_23008\\1248639595.py:50: FutureWarning: The frame.append method is deprecated and will be removed from pandas in a future version. Use pandas.concat instead.\n",
      "  df2 = df2.append(data, ignore_index=True)\n"
     ]
    },
    {
     "name": "stdout",
     "output_type": "stream",
     "text": [
      "TRACK 23  in  spotify:track:6njJR3OIp3oA0Kc4aC9Tzf  COMPLETED\n"
     ]
    },
    {
     "name": "stderr",
     "output_type": "stream",
     "text": [
      "C:\\Users\\Uma Bala\\AppData\\Local\\Temp\\ipykernel_23008\\1248639595.py:50: FutureWarning: The frame.append method is deprecated and will be removed from pandas in a future version. Use pandas.concat instead.\n",
      "  df2 = df2.append(data, ignore_index=True)\n"
     ]
    },
    {
     "name": "stdout",
     "output_type": "stream",
     "text": [
      "TRACK 24  in  spotify:track:7sliFe6W30tPBPh6dvZsIH  COMPLETED\n"
     ]
    },
    {
     "name": "stderr",
     "output_type": "stream",
     "text": [
      "C:\\Users\\Uma Bala\\AppData\\Local\\Temp\\ipykernel_23008\\1248639595.py:50: FutureWarning: The frame.append method is deprecated and will be removed from pandas in a future version. Use pandas.concat instead.\n",
      "  df2 = df2.append(data, ignore_index=True)\n"
     ]
    },
    {
     "name": "stdout",
     "output_type": "stream",
     "text": [
      "TRACK 25  in  spotify:track:6UN73IYd0hZxLi8wFPMQij  COMPLETED\n"
     ]
    },
    {
     "name": "stderr",
     "output_type": "stream",
     "text": [
      "C:\\Users\\Uma Bala\\AppData\\Local\\Temp\\ipykernel_23008\\1248639595.py:50: FutureWarning: The frame.append method is deprecated and will be removed from pandas in a future version. Use pandas.concat instead.\n",
      "  df2 = df2.append(data, ignore_index=True)\n"
     ]
    },
    {
     "name": "stdout",
     "output_type": "stream",
     "text": [
      "TRACK 26  in  spotify:track:3xIMkM5LgbVDkpO74O3Np3  COMPLETED\n"
     ]
    },
    {
     "name": "stderr",
     "output_type": "stream",
     "text": [
      "C:\\Users\\Uma Bala\\AppData\\Local\\Temp\\ipykernel_23008\\1248639595.py:50: FutureWarning: The frame.append method is deprecated and will be removed from pandas in a future version. Use pandas.concat instead.\n",
      "  df2 = df2.append(data, ignore_index=True)\n"
     ]
    },
    {
     "name": "stdout",
     "output_type": "stream",
     "text": [
      "TRACK 27  in  spotify:track:22I3h5AOENlH4CqXJsEbFR  COMPLETED\n"
     ]
    },
    {
     "name": "stderr",
     "output_type": "stream",
     "text": [
      "C:\\Users\\Uma Bala\\AppData\\Local\\Temp\\ipykernel_23008\\1248639595.py:50: FutureWarning: The frame.append method is deprecated and will be removed from pandas in a future version. Use pandas.concat instead.\n",
      "  df2 = df2.append(data, ignore_index=True)\n",
      "C:\\Users\\Uma Bala\\AppData\\Local\\Temp\\ipykernel_23008\\1248639595.py:50: FutureWarning: The frame.append method is deprecated and will be removed from pandas in a future version. Use pandas.concat instead.\n",
      "  df2 = df2.append(data, ignore_index=True)\n"
     ]
    },
    {
     "name": "stdout",
     "output_type": "stream",
     "text": [
      "TRACK 28  in  spotify:track:7DbdUf8aHSYoliSjO6LZv6  COMPLETED\n",
      "TRACK 29  in  spotify:track:0JXXNGljqupsJaZsgSbMZV  COMPLETED\n"
     ]
    },
    {
     "name": "stderr",
     "output_type": "stream",
     "text": [
      "C:\\Users\\Uma Bala\\AppData\\Local\\Temp\\ipykernel_23008\\1248639595.py:50: FutureWarning: The frame.append method is deprecated and will be removed from pandas in a future version. Use pandas.concat instead.\n",
      "  df2 = df2.append(data, ignore_index=True)\n"
     ]
    },
    {
     "name": "stdout",
     "output_type": "stream",
     "text": [
      "TRACK 30  in  spotify:track:1Ukxccao1BlWrPhYkcXbwZ  COMPLETED\n"
     ]
    },
    {
     "name": "stderr",
     "output_type": "stream",
     "text": [
      "C:\\Users\\Uma Bala\\AppData\\Local\\Temp\\ipykernel_23008\\1248639595.py:50: FutureWarning: The frame.append method is deprecated and will be removed from pandas in a future version. Use pandas.concat instead.\n",
      "  df2 = df2.append(data, ignore_index=True)\n"
     ]
    },
    {
     "name": "stdout",
     "output_type": "stream",
     "text": [
      "TRACK 31  in  spotify:track:43MifzVnh8W3jJN0xqU9jR  COMPLETED\n"
     ]
    },
    {
     "name": "stderr",
     "output_type": "stream",
     "text": [
      "C:\\Users\\Uma Bala\\AppData\\Local\\Temp\\ipykernel_23008\\1248639595.py:50: FutureWarning: The frame.append method is deprecated and will be removed from pandas in a future version. Use pandas.concat instead.\n",
      "  df2 = df2.append(data, ignore_index=True)\n"
     ]
    },
    {
     "name": "stdout",
     "output_type": "stream",
     "text": [
      "TRACK 32  in  spotify:track:1Hv1VTm8zeOeybub15mA2R  COMPLETED\n"
     ]
    },
    {
     "name": "stderr",
     "output_type": "stream",
     "text": [
      "C:\\Users\\Uma Bala\\AppData\\Local\\Temp\\ipykernel_23008\\1248639595.py:50: FutureWarning: The frame.append method is deprecated and will be removed from pandas in a future version. Use pandas.concat instead.\n",
      "  df2 = df2.append(data, ignore_index=True)\n"
     ]
    },
    {
     "name": "stdout",
     "output_type": "stream",
     "text": [
      "TRACK 33  in  spotify:track:739WUU1tPFLO4x4HJq561K  COMPLETED\n"
     ]
    },
    {
     "name": "stderr",
     "output_type": "stream",
     "text": [
      "C:\\Users\\Uma Bala\\AppData\\Local\\Temp\\ipykernel_23008\\1248639595.py:50: FutureWarning: The frame.append method is deprecated and will be removed from pandas in a future version. Use pandas.concat instead.\n",
      "  df2 = df2.append(data, ignore_index=True)\n"
     ]
    },
    {
     "name": "stdout",
     "output_type": "stream",
     "text": [
      "TRACK 34  in  spotify:track:1daDRI9ahBonbWD8YcxOIB  COMPLETED\n"
     ]
    },
    {
     "name": "stderr",
     "output_type": "stream",
     "text": [
      "C:\\Users\\Uma Bala\\AppData\\Local\\Temp\\ipykernel_23008\\1248639595.py:50: FutureWarning: The frame.append method is deprecated and will be removed from pandas in a future version. Use pandas.concat instead.\n",
      "  df2 = df2.append(data, ignore_index=True)\n"
     ]
    },
    {
     "name": "stdout",
     "output_type": "stream",
     "text": [
      "TRACK 35  in  spotify:track:6dBUzqjtbnIa1TwYbyw5CM  COMPLETED\n"
     ]
    },
    {
     "name": "stderr",
     "output_type": "stream",
     "text": [
      "C:\\Users\\Uma Bala\\AppData\\Local\\Temp\\ipykernel_23008\\1248639595.py:50: FutureWarning: The frame.append method is deprecated and will be removed from pandas in a future version. Use pandas.concat instead.\n",
      "  df2 = df2.append(data, ignore_index=True)\n"
     ]
    },
    {
     "name": "stdout",
     "output_type": "stream",
     "text": [
      "TRACK 36  in  spotify:track:1Y3LN4zO1Edc2EluIoSPJN  COMPLETED\n"
     ]
    },
    {
     "name": "stderr",
     "output_type": "stream",
     "text": [
      "C:\\Users\\Uma Bala\\AppData\\Local\\Temp\\ipykernel_23008\\1248639595.py:50: FutureWarning: The frame.append method is deprecated and will be removed from pandas in a future version. Use pandas.concat instead.\n",
      "  df2 = df2.append(data, ignore_index=True)\n"
     ]
    },
    {
     "name": "stdout",
     "output_type": "stream",
     "text": [
      "TRACK 37  in  spotify:track:4RvWPyQ5RL0ao9LPZeSouE  COMPLETED\n"
     ]
    },
    {
     "name": "stderr",
     "output_type": "stream",
     "text": [
      "C:\\Users\\Uma Bala\\AppData\\Local\\Temp\\ipykernel_23008\\1248639595.py:50: FutureWarning: The frame.append method is deprecated and will be removed from pandas in a future version. Use pandas.concat instead.\n",
      "  df2 = df2.append(data, ignore_index=True)\n",
      "C:\\Users\\Uma Bala\\AppData\\Local\\Temp\\ipykernel_23008\\1248639595.py:50: FutureWarning: The frame.append method is deprecated and will be removed from pandas in a future version. Use pandas.concat instead.\n",
      "  df2 = df2.append(data, ignore_index=True)\n"
     ]
    },
    {
     "name": "stdout",
     "output_type": "stream",
     "text": [
      "TRACK 38  in  spotify:track:3hxIUxnT27p5WcmjGUXNwx  COMPLETED\n",
      "TRACK 39  in  spotify:track:23RoR84KodL5HWvUTneQ1w  COMPLETED\n"
     ]
    },
    {
     "name": "stderr",
     "output_type": "stream",
     "text": [
      "C:\\Users\\Uma Bala\\AppData\\Local\\Temp\\ipykernel_23008\\1248639595.py:50: FutureWarning: The frame.append method is deprecated and will be removed from pandas in a future version. Use pandas.concat instead.\n",
      "  df2 = df2.append(data, ignore_index=True)\n"
     ]
    },
    {
     "name": "stdout",
     "output_type": "stream",
     "text": [
      "TRACK 40  in  spotify:track:1cKHdTo9u0ZymJdPGSh6nq  COMPLETED\n"
     ]
    },
    {
     "name": "stderr",
     "output_type": "stream",
     "text": [
      "C:\\Users\\Uma Bala\\AppData\\Local\\Temp\\ipykernel_23008\\1248639595.py:50: FutureWarning: The frame.append method is deprecated and will be removed from pandas in a future version. Use pandas.concat instead.\n",
      "  df2 = df2.append(data, ignore_index=True)\n"
     ]
    },
    {
     "name": "stdout",
     "output_type": "stream",
     "text": [
      "TRACK 41  in  spotify:track:1kuGVB7EU95pJObxwvfwKS  COMPLETED\n"
     ]
    },
    {
     "name": "stderr",
     "output_type": "stream",
     "text": [
      "C:\\Users\\Uma Bala\\AppData\\Local\\Temp\\ipykernel_23008\\1248639595.py:50: FutureWarning: The frame.append method is deprecated and will be removed from pandas in a future version. Use pandas.concat instead.\n",
      "  df2 = df2.append(data, ignore_index=True)\n"
     ]
    },
    {
     "name": "stdout",
     "output_type": "stream",
     "text": [
      "TRACK 42  in  spotify:track:6maTPqynTmrkWIralgGaoP  COMPLETED\n"
     ]
    },
    {
     "name": "stderr",
     "output_type": "stream",
     "text": [
      "C:\\Users\\Uma Bala\\AppData\\Local\\Temp\\ipykernel_23008\\1248639595.py:50: FutureWarning: The frame.append method is deprecated and will be removed from pandas in a future version. Use pandas.concat instead.\n",
      "  df2 = df2.append(data, ignore_index=True)\n"
     ]
    },
    {
     "name": "stdout",
     "output_type": "stream",
     "text": [
      "TRACK 43  in  spotify:track:4lMyi03aRk8nPBLLGyqAVz  COMPLETED\n"
     ]
    },
    {
     "name": "stderr",
     "output_type": "stream",
     "text": [
      "C:\\Users\\Uma Bala\\AppData\\Local\\Temp\\ipykernel_23008\\1248639595.py:50: FutureWarning: The frame.append method is deprecated and will be removed from pandas in a future version. Use pandas.concat instead.\n",
      "  df2 = df2.append(data, ignore_index=True)\n"
     ]
    },
    {
     "name": "stdout",
     "output_type": "stream",
     "text": [
      "TRACK 44  in  spotify:track:5mHdCZtVyb4DcJw8799hZp  COMPLETED\n"
     ]
    },
    {
     "name": "stderr",
     "output_type": "stream",
     "text": [
      "C:\\Users\\Uma Bala\\AppData\\Local\\Temp\\ipykernel_23008\\1248639595.py:50: FutureWarning: The frame.append method is deprecated and will be removed from pandas in a future version. Use pandas.concat instead.\n",
      "  df2 = df2.append(data, ignore_index=True)\n"
     ]
    },
    {
     "name": "stdout",
     "output_type": "stream",
     "text": [
      "TRACK 45  in  spotify:track:4h9wh7iOZ0GGn8QVp4RAOB  COMPLETED\n"
     ]
    },
    {
     "name": "stderr",
     "output_type": "stream",
     "text": [
      "C:\\Users\\Uma Bala\\AppData\\Local\\Temp\\ipykernel_23008\\1248639595.py:50: FutureWarning: The frame.append method is deprecated and will be removed from pandas in a future version. Use pandas.concat instead.\n",
      "  df2 = df2.append(data, ignore_index=True)\n"
     ]
    },
    {
     "name": "stdout",
     "output_type": "stream",
     "text": [
      "TRACK 46  in  spotify:track:0QZ5yyl6B6utIWkxeBDxQN  COMPLETED\n"
     ]
    },
    {
     "name": "stderr",
     "output_type": "stream",
     "text": [
      "C:\\Users\\Uma Bala\\AppData\\Local\\Temp\\ipykernel_23008\\1248639595.py:50: FutureWarning: The frame.append method is deprecated and will be removed from pandas in a future version. Use pandas.concat instead.\n",
      "  df2 = df2.append(data, ignore_index=True)\n"
     ]
    },
    {
     "name": "stdout",
     "output_type": "stream",
     "text": [
      "TRACK 47  in  spotify:track:37vVp2sWHuuIBOSl1NswP6  COMPLETED\n"
     ]
    },
    {
     "name": "stderr",
     "output_type": "stream",
     "text": [
      "C:\\Users\\Uma Bala\\AppData\\Local\\Temp\\ipykernel_23008\\1248639595.py:50: FutureWarning: The frame.append method is deprecated and will be removed from pandas in a future version. Use pandas.concat instead.\n",
      "  df2 = df2.append(data, ignore_index=True)\n"
     ]
    },
    {
     "name": "stdout",
     "output_type": "stream",
     "text": [
      "TRACK 48  in  spotify:track:2Ch7LmS7r2Gy2kc64wv3Bz  COMPLETED\n"
     ]
    },
    {
     "name": "stderr",
     "output_type": "stream",
     "text": [
      "C:\\Users\\Uma Bala\\AppData\\Local\\Temp\\ipykernel_23008\\1248639595.py:50: FutureWarning: The frame.append method is deprecated and will be removed from pandas in a future version. Use pandas.concat instead.\n",
      "  df2 = df2.append(data, ignore_index=True)\n"
     ]
    },
    {
     "name": "stdout",
     "output_type": "stream",
     "text": [
      "TRACK 49  in  spotify:track:2aI21FnmY7TJVKeMaoQZ0t  COMPLETED\n"
     ]
    },
    {
     "name": "stderr",
     "output_type": "stream",
     "text": [
      "C:\\Users\\Uma Bala\\AppData\\Local\\Temp\\ipykernel_23008\\1248639595.py:50: FutureWarning: The frame.append method is deprecated and will be removed from pandas in a future version. Use pandas.concat instead.\n",
      "  df2 = df2.append(data, ignore_index=True)\n"
     ]
    },
    {
     "name": "stdout",
     "output_type": "stream",
     "text": [
      "TRACK 50  in  spotify:track:3OHfY25tqY28d16oZczHc8  COMPLETED\n"
     ]
    },
    {
     "name": "stderr",
     "output_type": "stream",
     "text": [
      "C:\\Users\\Uma Bala\\AppData\\Local\\Temp\\ipykernel_23008\\1248639595.py:50: FutureWarning: The frame.append method is deprecated and will be removed from pandas in a future version. Use pandas.concat instead.\n",
      "  df2 = df2.append(data, ignore_index=True)\n"
     ]
    },
    {
     "name": "stdout",
     "output_type": "stream",
     "text": [
      "TRACK 51  in  spotify:track:5CM4UuQ9Gnd6K2YyKGPMoK  COMPLETED\n"
     ]
    },
    {
     "name": "stderr",
     "output_type": "stream",
     "text": [
      "C:\\Users\\Uma Bala\\AppData\\Local\\Temp\\ipykernel_23008\\1248639595.py:50: FutureWarning: The frame.append method is deprecated and will be removed from pandas in a future version. Use pandas.concat instead.\n",
      "  df2 = df2.append(data, ignore_index=True)\n"
     ]
    },
    {
     "name": "stdout",
     "output_type": "stream",
     "text": [
      "TRACK 52  in  spotify:track:6AQbmUe0Qwf5PZnt4HmTXv  COMPLETED\n"
     ]
    },
    {
     "name": "stderr",
     "output_type": "stream",
     "text": [
      "C:\\Users\\Uma Bala\\AppData\\Local\\Temp\\ipykernel_23008\\1248639595.py:50: FutureWarning: The frame.append method is deprecated and will be removed from pandas in a future version. Use pandas.concat instead.\n",
      "  df2 = df2.append(data, ignore_index=True)\n"
     ]
    },
    {
     "name": "stdout",
     "output_type": "stream",
     "text": [
      "TRACK 53  in  spotify:track:5IgjP7X4th6nMNDh4akUHb  COMPLETED\n"
     ]
    },
    {
     "name": "stderr",
     "output_type": "stream",
     "text": [
      "C:\\Users\\Uma Bala\\AppData\\Local\\Temp\\ipykernel_23008\\1248639595.py:50: FutureWarning: The frame.append method is deprecated and will be removed from pandas in a future version. Use pandas.concat instead.\n",
      "  df2 = df2.append(data, ignore_index=True)\n",
      "C:\\Users\\Uma Bala\\AppData\\Local\\Temp\\ipykernel_23008\\1248639595.py:50: FutureWarning: The frame.append method is deprecated and will be removed from pandas in a future version. Use pandas.concat instead.\n",
      "  df2 = df2.append(data, ignore_index=True)\n"
     ]
    },
    {
     "name": "stdout",
     "output_type": "stream",
     "text": [
      "TRACK 54  in  spotify:track:3NRql0A1Ef4RCvT473iqgD  COMPLETED\n",
      "TRACK 55  in  spotify:track:2cSdAkzAf2T4j4aLvx4LLz  COMPLETED\n"
     ]
    },
    {
     "name": "stderr",
     "output_type": "stream",
     "text": [
      "C:\\Users\\Uma Bala\\AppData\\Local\\Temp\\ipykernel_23008\\1248639595.py:50: FutureWarning: The frame.append method is deprecated and will be removed from pandas in a future version. Use pandas.concat instead.\n",
      "  df2 = df2.append(data, ignore_index=True)\n",
      "C:\\Users\\Uma Bala\\AppData\\Local\\Temp\\ipykernel_23008\\1248639595.py:50: FutureWarning: The frame.append method is deprecated and will be removed from pandas in a future version. Use pandas.concat instead.\n",
      "  df2 = df2.append(data, ignore_index=True)\n"
     ]
    },
    {
     "name": "stdout",
     "output_type": "stream",
     "text": [
      "TRACK 56  in  spotify:track:6qyS9qBy0mEk3qYaH8mPss  COMPLETED\n",
      "TRACK 57  in  spotify:track:561jH07mF1jHuk7KlaeF0s  COMPLETED\n"
     ]
    },
    {
     "name": "stderr",
     "output_type": "stream",
     "text": [
      "C:\\Users\\Uma Bala\\AppData\\Local\\Temp\\ipykernel_23008\\1248639595.py:50: FutureWarning: The frame.append method is deprecated and will be removed from pandas in a future version. Use pandas.concat instead.\n",
      "  df2 = df2.append(data, ignore_index=True)\n",
      "C:\\Users\\Uma Bala\\AppData\\Local\\Temp\\ipykernel_23008\\1248639595.py:50: FutureWarning: The frame.append method is deprecated and will be removed from pandas in a future version. Use pandas.concat instead.\n",
      "  df2 = df2.append(data, ignore_index=True)\n"
     ]
    },
    {
     "name": "stdout",
     "output_type": "stream",
     "text": [
      "TRACK 58  in  spotify:track:5YqEzk3C5c3UZ1D5fJUlXA  COMPLETED\n",
      "TRACK 59  in  spotify:track:73vIOb4Q7YN6HeJTbscRx5  COMPLETED\n"
     ]
    },
    {
     "name": "stderr",
     "output_type": "stream",
     "text": [
      "C:\\Users\\Uma Bala\\AppData\\Local\\Temp\\ipykernel_23008\\1248639595.py:50: FutureWarning: The frame.append method is deprecated and will be removed from pandas in a future version. Use pandas.concat instead.\n",
      "  df2 = df2.append(data, ignore_index=True)\n"
     ]
    },
    {
     "name": "stdout",
     "output_type": "stream",
     "text": [
      "TRACK 60  in  spotify:track:4iZ4pt7kvcaH6Yo8UoZ4s2  COMPLETED\n"
     ]
    },
    {
     "name": "stderr",
     "output_type": "stream",
     "text": [
      "C:\\Users\\Uma Bala\\AppData\\Local\\Temp\\ipykernel_23008\\1248639595.py:50: FutureWarning: The frame.append method is deprecated and will be removed from pandas in a future version. Use pandas.concat instead.\n",
      "  df2 = df2.append(data, ignore_index=True)\n"
     ]
    },
    {
     "name": "stdout",
     "output_type": "stream",
     "text": [
      "TRACK 61  in  spotify:track:48CKzGWOC65n8a8kdANJV8  COMPLETED\n"
     ]
    },
    {
     "name": "stderr",
     "output_type": "stream",
     "text": [
      "C:\\Users\\Uma Bala\\AppData\\Local\\Temp\\ipykernel_23008\\1248639595.py:50: FutureWarning: The frame.append method is deprecated and will be removed from pandas in a future version. Use pandas.concat instead.\n",
      "  df2 = df2.append(data, ignore_index=True)\n"
     ]
    },
    {
     "name": "stdout",
     "output_type": "stream",
     "text": [
      "TRACK 62  in  spotify:track:2QjOHCTQ1Jl3zawyYOpxh6  COMPLETED\n"
     ]
    },
    {
     "name": "stderr",
     "output_type": "stream",
     "text": [
      "C:\\Users\\Uma Bala\\AppData\\Local\\Temp\\ipykernel_23008\\1248639595.py:50: FutureWarning: The frame.append method is deprecated and will be removed from pandas in a future version. Use pandas.concat instead.\n",
      "  df2 = df2.append(data, ignore_index=True)\n"
     ]
    },
    {
     "name": "stdout",
     "output_type": "stream",
     "text": [
      "TRACK 63  in  spotify:track:0VgkVdmE4gld66l8iyGjgx  COMPLETED\n"
     ]
    },
    {
     "name": "stderr",
     "output_type": "stream",
     "text": [
      "C:\\Users\\Uma Bala\\AppData\\Local\\Temp\\ipykernel_23008\\1248639595.py:50: FutureWarning: The frame.append method is deprecated and will be removed from pandas in a future version. Use pandas.concat instead.\n",
      "  df2 = df2.append(data, ignore_index=True)\n"
     ]
    },
    {
     "name": "stdout",
     "output_type": "stream",
     "text": [
      "TRACK 64  in  spotify:track:4C6Uex2ILwJi9sZXRdmqXp  COMPLETED\n"
     ]
    },
    {
     "name": "stderr",
     "output_type": "stream",
     "text": [
      "C:\\Users\\Uma Bala\\AppData\\Local\\Temp\\ipykernel_23008\\1248639595.py:50: FutureWarning: The frame.append method is deprecated and will be removed from pandas in a future version. Use pandas.concat instead.\n",
      "  df2 = df2.append(data, ignore_index=True)\n"
     ]
    },
    {
     "name": "stdout",
     "output_type": "stream",
     "text": [
      "TRACK 65  in  spotify:track:1xK59OXxi2TAAAbmZK0kBL  COMPLETED\n"
     ]
    },
    {
     "name": "stderr",
     "output_type": "stream",
     "text": [
      "C:\\Users\\Uma Bala\\AppData\\Local\\Temp\\ipykernel_23008\\1248639595.py:50: FutureWarning: The frame.append method is deprecated and will be removed from pandas in a future version. Use pandas.concat instead.\n",
      "  df2 = df2.append(data, ignore_index=True)\n"
     ]
    },
    {
     "name": "stdout",
     "output_type": "stream",
     "text": [
      "TRACK 66  in  spotify:track:7ABLbnD53cQK00mhcaOUVG  COMPLETED\n"
     ]
    },
    {
     "name": "stderr",
     "output_type": "stream",
     "text": [
      "C:\\Users\\Uma Bala\\AppData\\Local\\Temp\\ipykernel_23008\\1248639595.py:50: FutureWarning: The frame.append method is deprecated and will be removed from pandas in a future version. Use pandas.concat instead.\n",
      "  df2 = df2.append(data, ignore_index=True)\n"
     ]
    },
    {
     "name": "stdout",
     "output_type": "stream",
     "text": [
      "TRACK 67  in  spotify:track:3LtpKP5abr2qqjunvjlX5i  COMPLETED\n"
     ]
    },
    {
     "name": "stderr",
     "output_type": "stream",
     "text": [
      "C:\\Users\\Uma Bala\\AppData\\Local\\Temp\\ipykernel_23008\\1248639595.py:50: FutureWarning: The frame.append method is deprecated and will be removed from pandas in a future version. Use pandas.concat instead.\n",
      "  df2 = df2.append(data, ignore_index=True)\n"
     ]
    },
    {
     "name": "stdout",
     "output_type": "stream",
     "text": [
      "TRACK 68  in  spotify:track:27ZZdyTSQWI7Cug2d2PkqV  COMPLETED\n"
     ]
    },
    {
     "name": "stderr",
     "output_type": "stream",
     "text": [
      "C:\\Users\\Uma Bala\\AppData\\Local\\Temp\\ipykernel_23008\\1248639595.py:50: FutureWarning: The frame.append method is deprecated and will be removed from pandas in a future version. Use pandas.concat instead.\n",
      "  df2 = df2.append(data, ignore_index=True)\n"
     ]
    },
    {
     "name": "stdout",
     "output_type": "stream",
     "text": [
      "TRACK 69  in  spotify:track:26b3oVLrRUaaybJulow9kz  COMPLETED\n"
     ]
    },
    {
     "name": "stderr",
     "output_type": "stream",
     "text": [
      "C:\\Users\\Uma Bala\\AppData\\Local\\Temp\\ipykernel_23008\\1248639595.py:50: FutureWarning: The frame.append method is deprecated and will be removed from pandas in a future version. Use pandas.concat instead.\n",
      "  df2 = df2.append(data, ignore_index=True)\n"
     ]
    },
    {
     "name": "stdout",
     "output_type": "stream",
     "text": [
      "TRACK 70  in  spotify:track:1Fid2jjqsHViMX6xNH70hE  COMPLETED\n"
     ]
    },
    {
     "name": "stderr",
     "output_type": "stream",
     "text": [
      "C:\\Users\\Uma Bala\\AppData\\Local\\Temp\\ipykernel_23008\\1248639595.py:50: FutureWarning: The frame.append method is deprecated and will be removed from pandas in a future version. Use pandas.concat instead.\n",
      "  df2 = df2.append(data, ignore_index=True)\n"
     ]
    },
    {
     "name": "stdout",
     "output_type": "stream",
     "text": [
      "TRACK 71  in  spotify:track:4uUG5RXrOk84mYEfFvj3cK  COMPLETED\n"
     ]
    },
    {
     "name": "stderr",
     "output_type": "stream",
     "text": [
      "C:\\Users\\Uma Bala\\AppData\\Local\\Temp\\ipykernel_23008\\1248639595.py:50: FutureWarning: The frame.append method is deprecated and will be removed from pandas in a future version. Use pandas.concat instead.\n",
      "  df2 = df2.append(data, ignore_index=True)\n"
     ]
    },
    {
     "name": "stdout",
     "output_type": "stream",
     "text": [
      "TRACK 72  in  spotify:track:76OGwb5RA9h4FxQPT33ekc  COMPLETED\n"
     ]
    },
    {
     "name": "stderr",
     "output_type": "stream",
     "text": [
      "C:\\Users\\Uma Bala\\AppData\\Local\\Temp\\ipykernel_23008\\1248639595.py:50: FutureWarning: The frame.append method is deprecated and will be removed from pandas in a future version. Use pandas.concat instead.\n",
      "  df2 = df2.append(data, ignore_index=True)\n"
     ]
    },
    {
     "name": "stdout",
     "output_type": "stream",
     "text": [
      "TRACK 73  in  spotify:track:1yvMUkIOTeUNtNWlWRgANS  COMPLETED\n"
     ]
    },
    {
     "name": "stderr",
     "output_type": "stream",
     "text": [
      "C:\\Users\\Uma Bala\\AppData\\Local\\Temp\\ipykernel_23008\\1248639595.py:50: FutureWarning: The frame.append method is deprecated and will be removed from pandas in a future version. Use pandas.concat instead.\n",
      "  df2 = df2.append(data, ignore_index=True)\n"
     ]
    },
    {
     "name": "stdout",
     "output_type": "stream",
     "text": [
      "TRACK 74  in  spotify:track:6xGruZOHLs39ZbVccQTuPZ  COMPLETED\n"
     ]
    },
    {
     "name": "stderr",
     "output_type": "stream",
     "text": [
      "C:\\Users\\Uma Bala\\AppData\\Local\\Temp\\ipykernel_23008\\1248639595.py:50: FutureWarning: The frame.append method is deprecated and will be removed from pandas in a future version. Use pandas.concat instead.\n",
      "  df2 = df2.append(data, ignore_index=True)\n"
     ]
    },
    {
     "name": "stdout",
     "output_type": "stream",
     "text": [
      "TRACK 75  in  spotify:track:3RKjTYlQrtLXCq5ncswBPp  COMPLETED\n"
     ]
    },
    {
     "name": "stderr",
     "output_type": "stream",
     "text": [
      "C:\\Users\\Uma Bala\\AppData\\Local\\Temp\\ipykernel_23008\\1248639595.py:50: FutureWarning: The frame.append method is deprecated and will be removed from pandas in a future version. Use pandas.concat instead.\n",
      "  df2 = df2.append(data, ignore_index=True)\n"
     ]
    }
   ],
   "source": [
    "# big on the internet playlist\n",
    "df_hit_1 = get_song_data('https://open.spotify.com/playlist/37i9dQZF1DX5Vy6DFOcx00')\n",
    "# viral hits playlist\n",
    "df_hit_2 = get_song_data(\"https://open.spotify.com/playlist/37i9dQZF1DX2L0iB23Enbq\")"
   ]
  },
  {
   "cell_type": "code",
   "execution_count": 23,
   "id": "b67fd345",
   "metadata": {},
   "outputs": [
    {
     "name": "stdout",
     "output_type": "stream",
     "text": [
      "TRACK 1  in  spotify:track:2IGMVunIBsBLtEQyoI1Mu7  COMPLETED\n"
     ]
    },
    {
     "name": "stderr",
     "output_type": "stream",
     "text": [
      "C:\\Users\\Uma Bala\\AppData\\Local\\Temp\\ipykernel_23008\\1248639595.py:50: FutureWarning: The frame.append method is deprecated and will be removed from pandas in a future version. Use pandas.concat instead.\n",
      "  df2 = df2.append(data, ignore_index=True)\n"
     ]
    },
    {
     "name": "stdout",
     "output_type": "stream",
     "text": [
      "TRACK 2  in  spotify:track:1vYXt7VSjH9JIM5oRRo7vA  COMPLETED\n"
     ]
    },
    {
     "name": "stderr",
     "output_type": "stream",
     "text": [
      "C:\\Users\\Uma Bala\\AppData\\Local\\Temp\\ipykernel_23008\\1248639595.py:50: FutureWarning: The frame.append method is deprecated and will be removed from pandas in a future version. Use pandas.concat instead.\n",
      "  df2 = df2.append(data, ignore_index=True)\n"
     ]
    },
    {
     "name": "stdout",
     "output_type": "stream",
     "text": [
      "TRACK 3  in  spotify:track:1BxfuPKGuaTgP7aM0Bbdwr  COMPLETED\n"
     ]
    },
    {
     "name": "stderr",
     "output_type": "stream",
     "text": [
      "C:\\Users\\Uma Bala\\AppData\\Local\\Temp\\ipykernel_23008\\1248639595.py:50: FutureWarning: The frame.append method is deprecated and will be removed from pandas in a future version. Use pandas.concat instead.\n",
      "  df2 = df2.append(data, ignore_index=True)\n"
     ]
    },
    {
     "name": "stdout",
     "output_type": "stream",
     "text": [
      "TRACK 4  in  spotify:track:7x9aauaA9cu6tyfpHnqDLo  COMPLETED\n"
     ]
    },
    {
     "name": "stderr",
     "output_type": "stream",
     "text": [
      "C:\\Users\\Uma Bala\\AppData\\Local\\Temp\\ipykernel_23008\\1248639595.py:50: FutureWarning: The frame.append method is deprecated and will be removed from pandas in a future version. Use pandas.concat instead.\n",
      "  df2 = df2.append(data, ignore_index=True)\n"
     ]
    },
    {
     "name": "stdout",
     "output_type": "stream",
     "text": [
      "TRACK 5  in  spotify:track:5mjYQaktjmjcMKcUIcqz4s  COMPLETED\n"
     ]
    },
    {
     "name": "stderr",
     "output_type": "stream",
     "text": [
      "C:\\Users\\Uma Bala\\AppData\\Local\\Temp\\ipykernel_23008\\1248639595.py:50: FutureWarning: The frame.append method is deprecated and will be removed from pandas in a future version. Use pandas.concat instead.\n",
      "  df2 = df2.append(data, ignore_index=True)\n"
     ]
    },
    {
     "name": "stdout",
     "output_type": "stream",
     "text": [
      "TRACK 6  in  spotify:track:5JdLUE9D743ob2RtgmVpVx  COMPLETED\n"
     ]
    },
    {
     "name": "stderr",
     "output_type": "stream",
     "text": [
      "C:\\Users\\Uma Bala\\AppData\\Local\\Temp\\ipykernel_23008\\1248639595.py:50: FutureWarning: The frame.append method is deprecated and will be removed from pandas in a future version. Use pandas.concat instead.\n",
      "  df2 = df2.append(data, ignore_index=True)\n"
     ]
    },
    {
     "name": "stdout",
     "output_type": "stream",
     "text": [
      "TRACK 7  in  spotify:track:3k79jB4aGmMDUQzEwa46Rz  COMPLETED\n"
     ]
    },
    {
     "name": "stderr",
     "output_type": "stream",
     "text": [
      "C:\\Users\\Uma Bala\\AppData\\Local\\Temp\\ipykernel_23008\\1248639595.py:50: FutureWarning: The frame.append method is deprecated and will be removed from pandas in a future version. Use pandas.concat instead.\n",
      "  df2 = df2.append(data, ignore_index=True)\n"
     ]
    },
    {
     "name": "stdout",
     "output_type": "stream",
     "text": [
      "TRACK 8  in  spotify:track:7FbrGaHYVDmfr7KoLIZnQ7  COMPLETED\n"
     ]
    },
    {
     "name": "stderr",
     "output_type": "stream",
     "text": [
      "C:\\Users\\Uma Bala\\AppData\\Local\\Temp\\ipykernel_23008\\1248639595.py:50: FutureWarning: The frame.append method is deprecated and will be removed from pandas in a future version. Use pandas.concat instead.\n",
      "  df2 = df2.append(data, ignore_index=True)\n"
     ]
    },
    {
     "name": "stdout",
     "output_type": "stream",
     "text": [
      "TRACK 9  in  spotify:track:741UUVE2kuITl0c6zuqqbO  COMPLETED\n"
     ]
    },
    {
     "name": "stderr",
     "output_type": "stream",
     "text": [
      "C:\\Users\\Uma Bala\\AppData\\Local\\Temp\\ipykernel_23008\\1248639595.py:50: FutureWarning: The frame.append method is deprecated and will be removed from pandas in a future version. Use pandas.concat instead.\n",
      "  df2 = df2.append(data, ignore_index=True)\n"
     ]
    },
    {
     "name": "stdout",
     "output_type": "stream",
     "text": [
      "TRACK 10  in  spotify:track:1odExI7RdWc4BT515LTAwj  COMPLETED\n"
     ]
    },
    {
     "name": "stderr",
     "output_type": "stream",
     "text": [
      "C:\\Users\\Uma Bala\\AppData\\Local\\Temp\\ipykernel_23008\\1248639595.py:50: FutureWarning: The frame.append method is deprecated and will be removed from pandas in a future version. Use pandas.concat instead.\n",
      "  df2 = df2.append(data, ignore_index=True)\n"
     ]
    },
    {
     "name": "stdout",
     "output_type": "stream",
     "text": [
      "TRACK 11  in  spotify:track:6GGtHZgBycCgGBUhZo81xe  COMPLETED\n"
     ]
    },
    {
     "name": "stderr",
     "output_type": "stream",
     "text": [
      "C:\\Users\\Uma Bala\\AppData\\Local\\Temp\\ipykernel_23008\\1248639595.py:50: FutureWarning: The frame.append method is deprecated and will be removed from pandas in a future version. Use pandas.concat instead.\n",
      "  df2 = df2.append(data, ignore_index=True)\n"
     ]
    },
    {
     "name": "stdout",
     "output_type": "stream",
     "text": [
      "TRACK 12  in  spotify:track:2Gfxp84BKn7TSrTen1nj65  COMPLETED\n"
     ]
    },
    {
     "name": "stderr",
     "output_type": "stream",
     "text": [
      "C:\\Users\\Uma Bala\\AppData\\Local\\Temp\\ipykernel_23008\\1248639595.py:50: FutureWarning: The frame.append method is deprecated and will be removed from pandas in a future version. Use pandas.concat instead.\n",
      "  df2 = df2.append(data, ignore_index=True)\n",
      "C:\\Users\\Uma Bala\\AppData\\Local\\Temp\\ipykernel_23008\\1248639595.py:50: FutureWarning: The frame.append method is deprecated and will be removed from pandas in a future version. Use pandas.concat instead.\n",
      "  df2 = df2.append(data, ignore_index=True)\n"
     ]
    },
    {
     "name": "stdout",
     "output_type": "stream",
     "text": [
      "TRACK 13  in  spotify:track:6AQbmUe0Qwf5PZnt4HmTXv  COMPLETED\n",
      "TRACK 14  in  spotify:track:26b3oVLrRUaaybJulow9kz  COMPLETED\n"
     ]
    },
    {
     "name": "stderr",
     "output_type": "stream",
     "text": [
      "C:\\Users\\Uma Bala\\AppData\\Local\\Temp\\ipykernel_23008\\1248639595.py:50: FutureWarning: The frame.append method is deprecated and will be removed from pandas in a future version. Use pandas.concat instead.\n",
      "  df2 = df2.append(data, ignore_index=True)\n",
      "C:\\Users\\Uma Bala\\AppData\\Local\\Temp\\ipykernel_23008\\1248639595.py:50: FutureWarning: The frame.append method is deprecated and will be removed from pandas in a future version. Use pandas.concat instead.\n",
      "  df2 = df2.append(data, ignore_index=True)\n"
     ]
    },
    {
     "name": "stdout",
     "output_type": "stream",
     "text": [
      "TRACK 15  in  spotify:track:5XeFesFbtLpXzIVDNQP22n  COMPLETED\n",
      "TRACK 16  in  spotify:track:5tCadSOz6WNCNr049GkZgK  COMPLETED\n"
     ]
    },
    {
     "name": "stderr",
     "output_type": "stream",
     "text": [
      "C:\\Users\\Uma Bala\\AppData\\Local\\Temp\\ipykernel_23008\\1248639595.py:50: FutureWarning: The frame.append method is deprecated and will be removed from pandas in a future version. Use pandas.concat instead.\n",
      "  df2 = df2.append(data, ignore_index=True)\n"
     ]
    },
    {
     "name": "stdout",
     "output_type": "stream",
     "text": [
      "TRACK 17  in  spotify:track:2FDTHlrBguDzQkp7PVj16Q  COMPLETED\n"
     ]
    },
    {
     "name": "stderr",
     "output_type": "stream",
     "text": [
      "C:\\Users\\Uma Bala\\AppData\\Local\\Temp\\ipykernel_23008\\1248639595.py:50: FutureWarning: The frame.append method is deprecated and will be removed from pandas in a future version. Use pandas.concat instead.\n",
      "  df2 = df2.append(data, ignore_index=True)\n"
     ]
    },
    {
     "name": "stdout",
     "output_type": "stream",
     "text": [
      "TRACK 18  in  spotify:track:23RoR84KodL5HWvUTneQ1w  COMPLETED\n"
     ]
    },
    {
     "name": "stderr",
     "output_type": "stream",
     "text": [
      "C:\\Users\\Uma Bala\\AppData\\Local\\Temp\\ipykernel_23008\\1248639595.py:50: FutureWarning: The frame.append method is deprecated and will be removed from pandas in a future version. Use pandas.concat instead.\n",
      "  df2 = df2.append(data, ignore_index=True)\n"
     ]
    },
    {
     "name": "stdout",
     "output_type": "stream",
     "text": [
      "TRACK 19  in  spotify:track:3nqQXoyQOWXiESFLlDF1hG  COMPLETED\n"
     ]
    },
    {
     "name": "stderr",
     "output_type": "stream",
     "text": [
      "C:\\Users\\Uma Bala\\AppData\\Local\\Temp\\ipykernel_23008\\1248639595.py:50: FutureWarning: The frame.append method is deprecated and will be removed from pandas in a future version. Use pandas.concat instead.\n",
      "  df2 = df2.append(data, ignore_index=True)\n"
     ]
    },
    {
     "name": "stdout",
     "output_type": "stream",
     "text": [
      "TRACK 20  in  spotify:track:2dHHgzDwk4BJdRwy9uXhTO  COMPLETED\n"
     ]
    },
    {
     "name": "stderr",
     "output_type": "stream",
     "text": [
      "C:\\Users\\Uma Bala\\AppData\\Local\\Temp\\ipykernel_23008\\1248639595.py:50: FutureWarning: The frame.append method is deprecated and will be removed from pandas in a future version. Use pandas.concat instead.\n",
      "  df2 = df2.append(data, ignore_index=True)\n"
     ]
    },
    {
     "name": "stdout",
     "output_type": "stream",
     "text": [
      "TRACK 21  in  spotify:track:4xfe65RFV2JTGCc9Of8jZY  COMPLETED\n"
     ]
    },
    {
     "name": "stderr",
     "output_type": "stream",
     "text": [
      "C:\\Users\\Uma Bala\\AppData\\Local\\Temp\\ipykernel_23008\\1248639595.py:50: FutureWarning: The frame.append method is deprecated and will be removed from pandas in a future version. Use pandas.concat instead.\n",
      "  df2 = df2.append(data, ignore_index=True)\n"
     ]
    },
    {
     "name": "stdout",
     "output_type": "stream",
     "text": [
      "TRACK 22  in  spotify:track:4SC64uYq1eUnWhYbahqK6y  COMPLETED\n"
     ]
    },
    {
     "name": "stderr",
     "output_type": "stream",
     "text": [
      "C:\\Users\\Uma Bala\\AppData\\Local\\Temp\\ipykernel_23008\\1248639595.py:50: FutureWarning: The frame.append method is deprecated and will be removed from pandas in a future version. Use pandas.concat instead.\n",
      "  df2 = df2.append(data, ignore_index=True)\n"
     ]
    },
    {
     "name": "stdout",
     "output_type": "stream",
     "text": [
      "TRACK 23  in  spotify:track:7oDd86yk8itslrA9HRP2ki  COMPLETED\n"
     ]
    },
    {
     "name": "stderr",
     "output_type": "stream",
     "text": [
      "C:\\Users\\Uma Bala\\AppData\\Local\\Temp\\ipykernel_23008\\1248639595.py:50: FutureWarning: The frame.append method is deprecated and will be removed from pandas in a future version. Use pandas.concat instead.\n",
      "  df2 = df2.append(data, ignore_index=True)\n",
      "C:\\Users\\Uma Bala\\AppData\\Local\\Temp\\ipykernel_23008\\1248639595.py:50: FutureWarning: The frame.append method is deprecated and will be removed from pandas in a future version. Use pandas.concat instead.\n",
      "  df2 = df2.append(data, ignore_index=True)\n"
     ]
    },
    {
     "name": "stdout",
     "output_type": "stream",
     "text": [
      "TRACK 24  in  spotify:track:1Qrg8KqiBpW07V7PNxwwwL  COMPLETED\n",
      "TRACK 25  in  spotify:track:2QjOHCTQ1Jl3zawyYOpxh6  COMPLETED\n"
     ]
    },
    {
     "name": "stderr",
     "output_type": "stream",
     "text": [
      "C:\\Users\\Uma Bala\\AppData\\Local\\Temp\\ipykernel_23008\\1248639595.py:50: FutureWarning: The frame.append method is deprecated and will be removed from pandas in a future version. Use pandas.concat instead.\n",
      "  df2 = df2.append(data, ignore_index=True)\n"
     ]
    },
    {
     "name": "stdout",
     "output_type": "stream",
     "text": [
      "TRACK 26  in  spotify:track:0AtZRrAMpCmGJrvUpbeWvG  COMPLETED\n"
     ]
    },
    {
     "name": "stderr",
     "output_type": "stream",
     "text": [
      "C:\\Users\\Uma Bala\\AppData\\Local\\Temp\\ipykernel_23008\\1248639595.py:50: FutureWarning: The frame.append method is deprecated and will be removed from pandas in a future version. Use pandas.concat instead.\n",
      "  df2 = df2.append(data, ignore_index=True)\n"
     ]
    },
    {
     "name": "stdout",
     "output_type": "stream",
     "text": [
      "TRACK 27  in  spotify:track:0yLdNVWF3Srea0uzk55zFn  COMPLETED\n"
     ]
    },
    {
     "name": "stderr",
     "output_type": "stream",
     "text": [
      "C:\\Users\\Uma Bala\\AppData\\Local\\Temp\\ipykernel_23008\\1248639595.py:50: FutureWarning: The frame.append method is deprecated and will be removed from pandas in a future version. Use pandas.concat instead.\n",
      "  df2 = df2.append(data, ignore_index=True)\n"
     ]
    },
    {
     "name": "stdout",
     "output_type": "stream",
     "text": [
      "TRACK 28  in  spotify:track:4LRPiXqCikLlN15c3yImP7  COMPLETED\n"
     ]
    },
    {
     "name": "stderr",
     "output_type": "stream",
     "text": [
      "C:\\Users\\Uma Bala\\AppData\\Local\\Temp\\ipykernel_23008\\1248639595.py:50: FutureWarning: The frame.append method is deprecated and will be removed from pandas in a future version. Use pandas.concat instead.\n",
      "  df2 = df2.append(data, ignore_index=True)\n"
     ]
    },
    {
     "name": "stdout",
     "output_type": "stream",
     "text": [
      "TRACK 29  in  spotify:track:5NvBcltC9SGWoo9GnIrkhn  COMPLETED\n"
     ]
    },
    {
     "name": "stderr",
     "output_type": "stream",
     "text": [
      "C:\\Users\\Uma Bala\\AppData\\Local\\Temp\\ipykernel_23008\\1248639595.py:50: FutureWarning: The frame.append method is deprecated and will be removed from pandas in a future version. Use pandas.concat instead.\n",
      "  df2 = df2.append(data, ignore_index=True)\n"
     ]
    },
    {
     "name": "stdout",
     "output_type": "stream",
     "text": [
      "TRACK 30  in  spotify:track:73RbfOTJIjHzi2pcVHjeHM  COMPLETED\n"
     ]
    },
    {
     "name": "stderr",
     "output_type": "stream",
     "text": [
      "C:\\Users\\Uma Bala\\AppData\\Local\\Temp\\ipykernel_23008\\1248639595.py:50: FutureWarning: The frame.append method is deprecated and will be removed from pandas in a future version. Use pandas.concat instead.\n",
      "  df2 = df2.append(data, ignore_index=True)\n"
     ]
    },
    {
     "name": "stdout",
     "output_type": "stream",
     "text": [
      "TRACK 31  in  spotify:track:1WumDA51R5dHvmRVhmoP6t  COMPLETED\n"
     ]
    },
    {
     "name": "stderr",
     "output_type": "stream",
     "text": [
      "C:\\Users\\Uma Bala\\AppData\\Local\\Temp\\ipykernel_23008\\1248639595.py:50: FutureWarning: The frame.append method is deprecated and will be removed from pandas in a future version. Use pandas.concat instead.\n",
      "  df2 = df2.append(data, ignore_index=True)\n"
     ]
    },
    {
     "name": "stdout",
     "output_type": "stream",
     "text": [
      "TRACK 32  in  spotify:track:5WxVXxCMRnvxUKFq40ELwq  COMPLETED\n"
     ]
    },
    {
     "name": "stderr",
     "output_type": "stream",
     "text": [
      "C:\\Users\\Uma Bala\\AppData\\Local\\Temp\\ipykernel_23008\\1248639595.py:50: FutureWarning: The frame.append method is deprecated and will be removed from pandas in a future version. Use pandas.concat instead.\n",
      "  df2 = df2.append(data, ignore_index=True)\n"
     ]
    },
    {
     "name": "stdout",
     "output_type": "stream",
     "text": [
      "TRACK 33  in  spotify:track:0LOo3MYjiSzIOLjSd9wZUw  COMPLETED\n"
     ]
    },
    {
     "name": "stderr",
     "output_type": "stream",
     "text": [
      "C:\\Users\\Uma Bala\\AppData\\Local\\Temp\\ipykernel_23008\\1248639595.py:50: FutureWarning: The frame.append method is deprecated and will be removed from pandas in a future version. Use pandas.concat instead.\n",
      "  df2 = df2.append(data, ignore_index=True)\n",
      "C:\\Users\\Uma Bala\\AppData\\Local\\Temp\\ipykernel_23008\\1248639595.py:50: FutureWarning: The frame.append method is deprecated and will be removed from pandas in a future version. Use pandas.concat instead.\n",
      "  df2 = df2.append(data, ignore_index=True)\n"
     ]
    },
    {
     "name": "stdout",
     "output_type": "stream",
     "text": [
      "TRACK 34  in  spotify:track:3FLtWk8DRjMimRt84JJJOF  COMPLETED\n",
      "TRACK 35  in  spotify:track:0WtM2NBVQNNJLh6scP13H8  COMPLETED\n"
     ]
    },
    {
     "name": "stderr",
     "output_type": "stream",
     "text": [
      "C:\\Users\\Uma Bala\\AppData\\Local\\Temp\\ipykernel_23008\\1248639595.py:50: FutureWarning: The frame.append method is deprecated and will be removed from pandas in a future version. Use pandas.concat instead.\n",
      "  df2 = df2.append(data, ignore_index=True)\n"
     ]
    },
    {
     "name": "stdout",
     "output_type": "stream",
     "text": [
      "TRACK 36  in  spotify:track:0DWdj2oZMBFSzRsi2Cvfzf  COMPLETED\n"
     ]
    },
    {
     "name": "stderr",
     "output_type": "stream",
     "text": [
      "C:\\Users\\Uma Bala\\AppData\\Local\\Temp\\ipykernel_23008\\1248639595.py:50: FutureWarning: The frame.append method is deprecated and will be removed from pandas in a future version. Use pandas.concat instead.\n",
      "  df2 = df2.append(data, ignore_index=True)\n",
      "C:\\Users\\Uma Bala\\AppData\\Local\\Temp\\ipykernel_23008\\1248639595.py:50: FutureWarning: The frame.append method is deprecated and will be removed from pandas in a future version. Use pandas.concat instead.\n",
      "  df2 = df2.append(data, ignore_index=True)\n"
     ]
    },
    {
     "name": "stdout",
     "output_type": "stream",
     "text": [
      "TRACK 37  in  spotify:track:2baHEhQsSyEkkCrCtyhs76  COMPLETED\n",
      "TRACK 38  in  spotify:track:3RfTeIrWS8LNrfHYwechtt  COMPLETED\n"
     ]
    },
    {
     "name": "stderr",
     "output_type": "stream",
     "text": [
      "C:\\Users\\Uma Bala\\AppData\\Local\\Temp\\ipykernel_23008\\1248639595.py:50: FutureWarning: The frame.append method is deprecated and will be removed from pandas in a future version. Use pandas.concat instead.\n",
      "  df2 = df2.append(data, ignore_index=True)\n"
     ]
    },
    {
     "name": "stdout",
     "output_type": "stream",
     "text": [
      "TRACK 39  in  spotify:track:45Q8FBzKZSIG5KsIe7VabG  COMPLETED\n"
     ]
    },
    {
     "name": "stderr",
     "output_type": "stream",
     "text": [
      "C:\\Users\\Uma Bala\\AppData\\Local\\Temp\\ipykernel_23008\\1248639595.py:50: FutureWarning: The frame.append method is deprecated and will be removed from pandas in a future version. Use pandas.concat instead.\n",
      "  df2 = df2.append(data, ignore_index=True)\n"
     ]
    },
    {
     "name": "stdout",
     "output_type": "stream",
     "text": [
      "TRACK 40  in  spotify:track:4uUG5RXrOk84mYEfFvj3cK  COMPLETED\n"
     ]
    },
    {
     "name": "stderr",
     "output_type": "stream",
     "text": [
      "C:\\Users\\Uma Bala\\AppData\\Local\\Temp\\ipykernel_23008\\1248639595.py:50: FutureWarning: The frame.append method is deprecated and will be removed from pandas in a future version. Use pandas.concat instead.\n",
      "  df2 = df2.append(data, ignore_index=True)\n"
     ]
    },
    {
     "name": "stdout",
     "output_type": "stream",
     "text": [
      "TRACK 41  in  spotify:track:1Lo0QY9cvc8sUB2vnIOxDT  COMPLETED\n"
     ]
    },
    {
     "name": "stderr",
     "output_type": "stream",
     "text": [
      "C:\\Users\\Uma Bala\\AppData\\Local\\Temp\\ipykernel_23008\\1248639595.py:50: FutureWarning: The frame.append method is deprecated and will be removed from pandas in a future version. Use pandas.concat instead.\n",
      "  df2 = df2.append(data, ignore_index=True)\n"
     ]
    },
    {
     "name": "stdout",
     "output_type": "stream",
     "text": [
      "TRACK 42  in  spotify:track:3JvKfv6T31zO0ini8iNItO  COMPLETED\n"
     ]
    },
    {
     "name": "stderr",
     "output_type": "stream",
     "text": [
      "C:\\Users\\Uma Bala\\AppData\\Local\\Temp\\ipykernel_23008\\1248639595.py:50: FutureWarning: The frame.append method is deprecated and will be removed from pandas in a future version. Use pandas.concat instead.\n",
      "  df2 = df2.append(data, ignore_index=True)\n"
     ]
    },
    {
     "name": "stdout",
     "output_type": "stream",
     "text": [
      "TRACK 43  in  spotify:track:6UN73IYd0hZxLi8wFPMQij  COMPLETED\n"
     ]
    },
    {
     "name": "stderr",
     "output_type": "stream",
     "text": [
      "C:\\Users\\Uma Bala\\AppData\\Local\\Temp\\ipykernel_23008\\1248639595.py:50: FutureWarning: The frame.append method is deprecated and will be removed from pandas in a future version. Use pandas.concat instead.\n",
      "  df2 = df2.append(data, ignore_index=True)\n"
     ]
    },
    {
     "name": "stdout",
     "output_type": "stream",
     "text": [
      "TRACK 44  in  spotify:track:3vnmnrIuNrlNfrrrzZ69me  COMPLETED\n"
     ]
    },
    {
     "name": "stderr",
     "output_type": "stream",
     "text": [
      "C:\\Users\\Uma Bala\\AppData\\Local\\Temp\\ipykernel_23008\\1248639595.py:50: FutureWarning: The frame.append method is deprecated and will be removed from pandas in a future version. Use pandas.concat instead.\n",
      "  df2 = df2.append(data, ignore_index=True)\n"
     ]
    },
    {
     "name": "stdout",
     "output_type": "stream",
     "text": [
      "TRACK 45  in  spotify:track:5odlY52u43F5BjByhxg7wg  COMPLETED\n"
     ]
    },
    {
     "name": "stderr",
     "output_type": "stream",
     "text": [
      "C:\\Users\\Uma Bala\\AppData\\Local\\Temp\\ipykernel_23008\\1248639595.py:50: FutureWarning: The frame.append method is deprecated and will be removed from pandas in a future version. Use pandas.concat instead.\n",
      "  df2 = df2.append(data, ignore_index=True)\n"
     ]
    },
    {
     "name": "stdout",
     "output_type": "stream",
     "text": [
      "TRACK 46  in  spotify:track:4k6Uh1HXdhtusDW5y8Gbvy  COMPLETED\n"
     ]
    },
    {
     "name": "stderr",
     "output_type": "stream",
     "text": [
      "C:\\Users\\Uma Bala\\AppData\\Local\\Temp\\ipykernel_23008\\1248639595.py:50: FutureWarning: The frame.append method is deprecated and will be removed from pandas in a future version. Use pandas.concat instead.\n",
      "  df2 = df2.append(data, ignore_index=True)\n",
      "C:\\Users\\Uma Bala\\AppData\\Local\\Temp\\ipykernel_23008\\1248639595.py:50: FutureWarning: The frame.append method is deprecated and will be removed from pandas in a future version. Use pandas.concat instead.\n",
      "  df2 = df2.append(data, ignore_index=True)\n"
     ]
    },
    {
     "name": "stdout",
     "output_type": "stream",
     "text": [
      "TRACK 47  in  spotify:track:1Hv1VTm8zeOeybub15mA2R  COMPLETED\n",
      "TRACK 48  in  spotify:track:0V3wPSX9ygBnCm8psDIegu  COMPLETED\n"
     ]
    },
    {
     "name": "stderr",
     "output_type": "stream",
     "text": [
      "C:\\Users\\Uma Bala\\AppData\\Local\\Temp\\ipykernel_23008\\1248639595.py:50: FutureWarning: The frame.append method is deprecated and will be removed from pandas in a future version. Use pandas.concat instead.\n",
      "  df2 = df2.append(data, ignore_index=True)\n"
     ]
    },
    {
     "name": "stdout",
     "output_type": "stream",
     "text": [
      "TRACK 49  in  spotify:track:5Y35SjAfXjjG0sFQ3KOxmm  COMPLETED\n"
     ]
    },
    {
     "name": "stderr",
     "output_type": "stream",
     "text": [
      "C:\\Users\\Uma Bala\\AppData\\Local\\Temp\\ipykernel_23008\\1248639595.py:50: FutureWarning: The frame.append method is deprecated and will be removed from pandas in a future version. Use pandas.concat instead.\n",
      "  df2 = df2.append(data, ignore_index=True)\n"
     ]
    },
    {
     "name": "stdout",
     "output_type": "stream",
     "text": [
      "TRACK 50  in  spotify:track:27ZZdyTSQWI7Cug2d2PkqV  COMPLETED\n"
     ]
    },
    {
     "name": "stderr",
     "output_type": "stream",
     "text": [
      "C:\\Users\\Uma Bala\\AppData\\Local\\Temp\\ipykernel_23008\\1248639595.py:50: FutureWarning: The frame.append method is deprecated and will be removed from pandas in a future version. Use pandas.concat instead.\n",
      "  df2 = df2.append(data, ignore_index=True)\n"
     ]
    },
    {
     "name": "stdout",
     "output_type": "stream",
     "text": [
      "TRACK 51  in  spotify:track:5DNdWiAS4z7ZXMmzJEHOzY  COMPLETED\n"
     ]
    },
    {
     "name": "stderr",
     "output_type": "stream",
     "text": [
      "C:\\Users\\Uma Bala\\AppData\\Local\\Temp\\ipykernel_23008\\1248639595.py:50: FutureWarning: The frame.append method is deprecated and will be removed from pandas in a future version. Use pandas.concat instead.\n",
      "  df2 = df2.append(data, ignore_index=True)\n"
     ]
    },
    {
     "name": "stdout",
     "output_type": "stream",
     "text": [
      "TRACK 52  in  spotify:track:1cKHdTo9u0ZymJdPGSh6nq  COMPLETED\n"
     ]
    },
    {
     "name": "stderr",
     "output_type": "stream",
     "text": [
      "C:\\Users\\Uma Bala\\AppData\\Local\\Temp\\ipykernel_23008\\1248639595.py:50: FutureWarning: The frame.append method is deprecated and will be removed from pandas in a future version. Use pandas.concat instead.\n",
      "  df2 = df2.append(data, ignore_index=True)\n"
     ]
    },
    {
     "name": "stdout",
     "output_type": "stream",
     "text": [
      "TRACK 53  in  spotify:track:4h9wh7iOZ0GGn8QVp4RAOB  COMPLETED\n"
     ]
    },
    {
     "name": "stderr",
     "output_type": "stream",
     "text": [
      "C:\\Users\\Uma Bala\\AppData\\Local\\Temp\\ipykernel_23008\\1248639595.py:50: FutureWarning: The frame.append method is deprecated and will be removed from pandas in a future version. Use pandas.concat instead.\n",
      "  df2 = df2.append(data, ignore_index=True)\n"
     ]
    },
    {
     "name": "stdout",
     "output_type": "stream",
     "text": [
      "TRACK 54  in  spotify:track:779nxgE1KYu965I94KgpVq  COMPLETED\n"
     ]
    },
    {
     "name": "stderr",
     "output_type": "stream",
     "text": [
      "C:\\Users\\Uma Bala\\AppData\\Local\\Temp\\ipykernel_23008\\1248639595.py:50: FutureWarning: The frame.append method is deprecated and will be removed from pandas in a future version. Use pandas.concat instead.\n",
      "  df2 = df2.append(data, ignore_index=True)\n"
     ]
    },
    {
     "name": "stdout",
     "output_type": "stream",
     "text": [
      "TRACK 55  in  spotify:track:0JXXNGljqupsJaZsgSbMZV  COMPLETED\n"
     ]
    },
    {
     "name": "stderr",
     "output_type": "stream",
     "text": [
      "C:\\Users\\Uma Bala\\AppData\\Local\\Temp\\ipykernel_23008\\1248639595.py:50: FutureWarning: The frame.append method is deprecated and will be removed from pandas in a future version. Use pandas.concat instead.\n",
      "  df2 = df2.append(data, ignore_index=True)\n"
     ]
    },
    {
     "name": "stdout",
     "output_type": "stream",
     "text": [
      "TRACK 56  in  spotify:track:4C6Uex2ILwJi9sZXRdmqXp  COMPLETED\n"
     ]
    },
    {
     "name": "stderr",
     "output_type": "stream",
     "text": [
      "C:\\Users\\Uma Bala\\AppData\\Local\\Temp\\ipykernel_23008\\1248639595.py:50: FutureWarning: The frame.append method is deprecated and will be removed from pandas in a future version. Use pandas.concat instead.\n",
      "  df2 = df2.append(data, ignore_index=True)\n"
     ]
    },
    {
     "name": "stdout",
     "output_type": "stream",
     "text": [
      "TRACK 57  in  spotify:track:0CndCU5436CjNotHgwtnzp  COMPLETED\n"
     ]
    },
    {
     "name": "stderr",
     "output_type": "stream",
     "text": [
      "C:\\Users\\Uma Bala\\AppData\\Local\\Temp\\ipykernel_23008\\1248639595.py:50: FutureWarning: The frame.append method is deprecated and will be removed from pandas in a future version. Use pandas.concat instead.\n",
      "  df2 = df2.append(data, ignore_index=True)\n"
     ]
    },
    {
     "name": "stdout",
     "output_type": "stream",
     "text": [
      "TRACK 58  in  spotify:track:71mHO4fFmS2Xu5XxZbcRND  COMPLETED\n"
     ]
    },
    {
     "name": "stderr",
     "output_type": "stream",
     "text": [
      "C:\\Users\\Uma Bala\\AppData\\Local\\Temp\\ipykernel_23008\\1248639595.py:50: FutureWarning: The frame.append method is deprecated and will be removed from pandas in a future version. Use pandas.concat instead.\n",
      "  df2 = df2.append(data, ignore_index=True)\n"
     ]
    },
    {
     "name": "stdout",
     "output_type": "stream",
     "text": [
      "TRACK 59  in  spotify:track:78Sw5GDo6AlGwTwanjXbGh  COMPLETED\n"
     ]
    },
    {
     "name": "stderr",
     "output_type": "stream",
     "text": [
      "C:\\Users\\Uma Bala\\AppData\\Local\\Temp\\ipykernel_23008\\1248639595.py:50: FutureWarning: The frame.append method is deprecated and will be removed from pandas in a future version. Use pandas.concat instead.\n",
      "  df2 = df2.append(data, ignore_index=True)\n"
     ]
    },
    {
     "name": "stdout",
     "output_type": "stream",
     "text": [
      "TRACK 60  in  spotify:track:1bDbXMyjaUIooNwFE9wn0N  COMPLETED\n"
     ]
    },
    {
     "name": "stderr",
     "output_type": "stream",
     "text": [
      "C:\\Users\\Uma Bala\\AppData\\Local\\Temp\\ipykernel_23008\\1248639595.py:50: FutureWarning: The frame.append method is deprecated and will be removed from pandas in a future version. Use pandas.concat instead.\n",
      "  df2 = df2.append(data, ignore_index=True)\n"
     ]
    },
    {
     "name": "stdout",
     "output_type": "stream",
     "text": [
      "TRACK 61  in  spotify:track:1PckUlxKqWQs3RlWXVBLw3  COMPLETED\n"
     ]
    },
    {
     "name": "stderr",
     "output_type": "stream",
     "text": [
      "C:\\Users\\Uma Bala\\AppData\\Local\\Temp\\ipykernel_23008\\1248639595.py:50: FutureWarning: The frame.append method is deprecated and will be removed from pandas in a future version. Use pandas.concat instead.\n",
      "  df2 = df2.append(data, ignore_index=True)\n"
     ]
    },
    {
     "name": "stdout",
     "output_type": "stream",
     "text": [
      "TRACK 62  in  spotify:track:1xK59OXxi2TAAAbmZK0kBL  COMPLETED\n"
     ]
    },
    {
     "name": "stderr",
     "output_type": "stream",
     "text": [
      "C:\\Users\\Uma Bala\\AppData\\Local\\Temp\\ipykernel_23008\\1248639595.py:50: FutureWarning: The frame.append method is deprecated and will be removed from pandas in a future version. Use pandas.concat instead.\n",
      "  df2 = df2.append(data, ignore_index=True)\n"
     ]
    },
    {
     "name": "stdout",
     "output_type": "stream",
     "text": [
      "TRACK 63  in  spotify:track:1xzi1Jcr7mEi9K2RfzLOqS  COMPLETED\n"
     ]
    },
    {
     "name": "stderr",
     "output_type": "stream",
     "text": [
      "C:\\Users\\Uma Bala\\AppData\\Local\\Temp\\ipykernel_23008\\1248639595.py:50: FutureWarning: The frame.append method is deprecated and will be removed from pandas in a future version. Use pandas.concat instead.\n",
      "  df2 = df2.append(data, ignore_index=True)\n"
     ]
    },
    {
     "name": "stdout",
     "output_type": "stream",
     "text": [
      "TRACK 64  in  spotify:track:02MWAaffLxlfxAUY7c5dvx  COMPLETED\n"
     ]
    },
    {
     "name": "stderr",
     "output_type": "stream",
     "text": [
      "C:\\Users\\Uma Bala\\AppData\\Local\\Temp\\ipykernel_23008\\1248639595.py:50: FutureWarning: The frame.append method is deprecated and will be removed from pandas in a future version. Use pandas.concat instead.\n",
      "  df2 = df2.append(data, ignore_index=True)\n"
     ]
    },
    {
     "name": "stdout",
     "output_type": "stream",
     "text": [
      "TRACK 65  in  spotify:track:07MDkzWARZaLEdKxo6yArG  COMPLETED\n"
     ]
    },
    {
     "name": "stderr",
     "output_type": "stream",
     "text": [
      "C:\\Users\\Uma Bala\\AppData\\Local\\Temp\\ipykernel_23008\\1248639595.py:50: FutureWarning: The frame.append method is deprecated and will be removed from pandas in a future version. Use pandas.concat instead.\n",
      "  df2 = df2.append(data, ignore_index=True)\n"
     ]
    },
    {
     "name": "stdout",
     "output_type": "stream",
     "text": [
      "TRACK 66  in  spotify:track:5HCyWlXZPP0y6Gqq8TgA20  COMPLETED\n"
     ]
    },
    {
     "name": "stderr",
     "output_type": "stream",
     "text": [
      "C:\\Users\\Uma Bala\\AppData\\Local\\Temp\\ipykernel_23008\\1248639595.py:50: FutureWarning: The frame.append method is deprecated and will be removed from pandas in a future version. Use pandas.concat instead.\n",
      "  df2 = df2.append(data, ignore_index=True)\n"
     ]
    },
    {
     "name": "stdout",
     "output_type": "stream",
     "text": [
      "TRACK 67  in  spotify:track:1r9xUipOqoNwggBpENDsvJ  COMPLETED\n"
     ]
    },
    {
     "name": "stderr",
     "output_type": "stream",
     "text": [
      "C:\\Users\\Uma Bala\\AppData\\Local\\Temp\\ipykernel_23008\\1248639595.py:50: FutureWarning: The frame.append method is deprecated and will be removed from pandas in a future version. Use pandas.concat instead.\n",
      "  df2 = df2.append(data, ignore_index=True)\n"
     ]
    },
    {
     "name": "stdout",
     "output_type": "stream",
     "text": [
      "TRACK 68  in  spotify:track:6xGruZOHLs39ZbVccQTuPZ  COMPLETED\n"
     ]
    },
    {
     "name": "stderr",
     "output_type": "stream",
     "text": [
      "C:\\Users\\Uma Bala\\AppData\\Local\\Temp\\ipykernel_23008\\1248639595.py:50: FutureWarning: The frame.append method is deprecated and will be removed from pandas in a future version. Use pandas.concat instead.\n",
      "  df2 = df2.append(data, ignore_index=True)\n"
     ]
    },
    {
     "name": "stdout",
     "output_type": "stream",
     "text": [
      "TRACK 69  in  spotify:track:54ipXppHLA8U4yqpOFTUhr  COMPLETED\n"
     ]
    },
    {
     "name": "stderr",
     "output_type": "stream",
     "text": [
      "C:\\Users\\Uma Bala\\AppData\\Local\\Temp\\ipykernel_23008\\1248639595.py:50: FutureWarning: The frame.append method is deprecated and will be removed from pandas in a future version. Use pandas.concat instead.\n",
      "  df2 = df2.append(data, ignore_index=True)\n"
     ]
    },
    {
     "name": "stdout",
     "output_type": "stream",
     "text": [
      "TRACK 70  in  spotify:track:20EJtity8DbJwFTYZ9Vrma  COMPLETED\n"
     ]
    },
    {
     "name": "stderr",
     "output_type": "stream",
     "text": [
      "C:\\Users\\Uma Bala\\AppData\\Local\\Temp\\ipykernel_23008\\1248639595.py:50: FutureWarning: The frame.append method is deprecated and will be removed from pandas in a future version. Use pandas.concat instead.\n",
      "  df2 = df2.append(data, ignore_index=True)\n"
     ]
    },
    {
     "name": "stdout",
     "output_type": "stream",
     "text": [
      "TRACK 71  in  spotify:track:0T5iIrXA4p5GsubkhuBIKV  COMPLETED\n"
     ]
    },
    {
     "name": "stderr",
     "output_type": "stream",
     "text": [
      "C:\\Users\\Uma Bala\\AppData\\Local\\Temp\\ipykernel_23008\\1248639595.py:50: FutureWarning: The frame.append method is deprecated and will be removed from pandas in a future version. Use pandas.concat instead.\n",
      "  df2 = df2.append(data, ignore_index=True)\n"
     ]
    },
    {
     "name": "stdout",
     "output_type": "stream",
     "text": [
      "TRACK 72  in  spotify:track:1rDQ4oMwGJI7B4tovsBOxc  COMPLETED\n"
     ]
    },
    {
     "name": "stderr",
     "output_type": "stream",
     "text": [
      "C:\\Users\\Uma Bala\\AppData\\Local\\Temp\\ipykernel_23008\\1248639595.py:50: FutureWarning: The frame.append method is deprecated and will be removed from pandas in a future version. Use pandas.concat instead.\n",
      "  df2 = df2.append(data, ignore_index=True)\n"
     ]
    },
    {
     "name": "stdout",
     "output_type": "stream",
     "text": [
      "TRACK 73  in  spotify:track:0jx8H4rFYE5MHWSXxi4qd8  COMPLETED\n"
     ]
    },
    {
     "name": "stderr",
     "output_type": "stream",
     "text": [
      "C:\\Users\\Uma Bala\\AppData\\Local\\Temp\\ipykernel_23008\\1248639595.py:50: FutureWarning: The frame.append method is deprecated and will be removed from pandas in a future version. Use pandas.concat instead.\n",
      "  df2 = df2.append(data, ignore_index=True)\n"
     ]
    },
    {
     "name": "stdout",
     "output_type": "stream",
     "text": [
      "TRACK 74  in  spotify:track:58HvfVOeJY7lUuCqF0m3ly  COMPLETED\n"
     ]
    },
    {
     "name": "stderr",
     "output_type": "stream",
     "text": [
      "C:\\Users\\Uma Bala\\AppData\\Local\\Temp\\ipykernel_23008\\1248639595.py:50: FutureWarning: The frame.append method is deprecated and will be removed from pandas in a future version. Use pandas.concat instead.\n",
      "  df2 = df2.append(data, ignore_index=True)\n"
     ]
    },
    {
     "name": "stdout",
     "output_type": "stream",
     "text": [
      "TRACK 75  in  spotify:track:7DbdUf8aHSYoliSjO6LZv6  COMPLETED\n"
     ]
    },
    {
     "name": "stderr",
     "output_type": "stream",
     "text": [
      "C:\\Users\\Uma Bala\\AppData\\Local\\Temp\\ipykernel_23008\\1248639595.py:50: FutureWarning: The frame.append method is deprecated and will be removed from pandas in a future version. Use pandas.concat instead.\n",
      "  df2 = df2.append(data, ignore_index=True)\n"
     ]
    },
    {
     "name": "stdout",
     "output_type": "stream",
     "text": [
      "TRACK 76  in  spotify:track:4rYkt5CKnr4MiXBtrBjywM  COMPLETED\n"
     ]
    },
    {
     "name": "stderr",
     "output_type": "stream",
     "text": [
      "C:\\Users\\Uma Bala\\AppData\\Local\\Temp\\ipykernel_23008\\1248639595.py:50: FutureWarning: The frame.append method is deprecated and will be removed from pandas in a future version. Use pandas.concat instead.\n",
      "  df2 = df2.append(data, ignore_index=True)\n"
     ]
    },
    {
     "name": "stdout",
     "output_type": "stream",
     "text": [
      "TRACK 77  in  spotify:track:0l0CvurVUrr2w3Jj1hOVFc  COMPLETED\n"
     ]
    },
    {
     "name": "stderr",
     "output_type": "stream",
     "text": [
      "C:\\Users\\Uma Bala\\AppData\\Local\\Temp\\ipykernel_23008\\1248639595.py:50: FutureWarning: The frame.append method is deprecated and will be removed from pandas in a future version. Use pandas.concat instead.\n",
      "  df2 = df2.append(data, ignore_index=True)\n",
      "C:\\Users\\Uma Bala\\AppData\\Local\\Temp\\ipykernel_23008\\1248639595.py:50: FutureWarning: The frame.append method is deprecated and will be removed from pandas in a future version. Use pandas.concat instead.\n",
      "  df2 = df2.append(data, ignore_index=True)\n"
     ]
    },
    {
     "name": "stdout",
     "output_type": "stream",
     "text": [
      "TRACK 78  in  spotify:track:1LuSmQmlWDCRj2uqJMogIX  COMPLETED\n",
      "TRACK 79  in  spotify:track:3hxIUxnT27p5WcmjGUXNwx  COMPLETED\n"
     ]
    },
    {
     "name": "stderr",
     "output_type": "stream",
     "text": [
      "C:\\Users\\Uma Bala\\AppData\\Local\\Temp\\ipykernel_23008\\1248639595.py:50: FutureWarning: The frame.append method is deprecated and will be removed from pandas in a future version. Use pandas.concat instead.\n",
      "  df2 = df2.append(data, ignore_index=True)\n"
     ]
    },
    {
     "name": "stdout",
     "output_type": "stream",
     "text": [
      "TRACK 80  in  spotify:track:4fouWK6XVHhzl78KzQ1UjL  COMPLETED\n"
     ]
    },
    {
     "name": "stderr",
     "output_type": "stream",
     "text": [
      "C:\\Users\\Uma Bala\\AppData\\Local\\Temp\\ipykernel_23008\\1248639595.py:50: FutureWarning: The frame.append method is deprecated and will be removed from pandas in a future version. Use pandas.concat instead.\n",
      "  df2 = df2.append(data, ignore_index=True)\n"
     ]
    },
    {
     "name": "stdout",
     "output_type": "stream",
     "text": [
      "TRACK 81  in  spotify:track:3ezLpCn8tnn5OGqShUBuyl  COMPLETED\n"
     ]
    },
    {
     "name": "stderr",
     "output_type": "stream",
     "text": [
      "C:\\Users\\Uma Bala\\AppData\\Local\\Temp\\ipykernel_23008\\1248639595.py:50: FutureWarning: The frame.append method is deprecated and will be removed from pandas in a future version. Use pandas.concat instead.\n",
      "  df2 = df2.append(data, ignore_index=True)\n"
     ]
    },
    {
     "name": "stdout",
     "output_type": "stream",
     "text": [
      "TRACK 82  in  spotify:track:0yUaLqhsVsguBpoOPL4cO7  COMPLETED\n"
     ]
    },
    {
     "name": "stderr",
     "output_type": "stream",
     "text": [
      "C:\\Users\\Uma Bala\\AppData\\Local\\Temp\\ipykernel_23008\\1248639595.py:50: FutureWarning: The frame.append method is deprecated and will be removed from pandas in a future version. Use pandas.concat instead.\n",
      "  df2 = df2.append(data, ignore_index=True)\n",
      "C:\\Users\\Uma Bala\\AppData\\Local\\Temp\\ipykernel_23008\\1248639595.py:50: FutureWarning: The frame.append method is deprecated and will be removed from pandas in a future version. Use pandas.concat instead.\n",
      "  df2 = df2.append(data, ignore_index=True)\n"
     ]
    },
    {
     "name": "stdout",
     "output_type": "stream",
     "text": [
      "TRACK 83  in  spotify:track:2B8zzwX1ck0CitF80Ni4Gt  COMPLETED\n",
      "TRACK 84  in  spotify:track:4FyesJzVpA39hbYvcseO2d  COMPLETED\n"
     ]
    },
    {
     "name": "stderr",
     "output_type": "stream",
     "text": [
      "C:\\Users\\Uma Bala\\AppData\\Local\\Temp\\ipykernel_23008\\1248639595.py:50: FutureWarning: The frame.append method is deprecated and will be removed from pandas in a future version. Use pandas.concat instead.\n",
      "  df2 = df2.append(data, ignore_index=True)\n"
     ]
    },
    {
     "name": "stdout",
     "output_type": "stream",
     "text": [
      "TRACK 85  in  spotify:track:3x2oXvzKKfdKvfDCUNnaR7  COMPLETED\n"
     ]
    },
    {
     "name": "stderr",
     "output_type": "stream",
     "text": [
      "C:\\Users\\Uma Bala\\AppData\\Local\\Temp\\ipykernel_23008\\1248639595.py:50: FutureWarning: The frame.append method is deprecated and will be removed from pandas in a future version. Use pandas.concat instead.\n",
      "  df2 = df2.append(data, ignore_index=True)\n"
     ]
    },
    {
     "name": "stdout",
     "output_type": "stream",
     "text": [
      "TRACK 86  in  spotify:track:58zsLZPvfflaiIbNWoA22O  COMPLETED\n"
     ]
    },
    {
     "name": "stderr",
     "output_type": "stream",
     "text": [
      "C:\\Users\\Uma Bala\\AppData\\Local\\Temp\\ipykernel_23008\\1248639595.py:50: FutureWarning: The frame.append method is deprecated and will be removed from pandas in a future version. Use pandas.concat instead.\n",
      "  df2 = df2.append(data, ignore_index=True)\n"
     ]
    },
    {
     "name": "stdout",
     "output_type": "stream",
     "text": [
      "TRACK 87  in  spotify:track:2vRFSkJHOudg2ejPgufbCi  COMPLETED\n"
     ]
    },
    {
     "name": "stderr",
     "output_type": "stream",
     "text": [
      "C:\\Users\\Uma Bala\\AppData\\Local\\Temp\\ipykernel_23008\\1248639595.py:50: FutureWarning: The frame.append method is deprecated and will be removed from pandas in a future version. Use pandas.concat instead.\n",
      "  df2 = df2.append(data, ignore_index=True)\n"
     ]
    },
    {
     "name": "stdout",
     "output_type": "stream",
     "text": [
      "TRACK 88  in  spotify:track:4nrPB8O7Y7wsOCJdgXkthe  COMPLETED\n"
     ]
    },
    {
     "name": "stderr",
     "output_type": "stream",
     "text": [
      "C:\\Users\\Uma Bala\\AppData\\Local\\Temp\\ipykernel_23008\\1248639595.py:50: FutureWarning: The frame.append method is deprecated and will be removed from pandas in a future version. Use pandas.concat instead.\n",
      "  df2 = df2.append(data, ignore_index=True)\n"
     ]
    },
    {
     "name": "stdout",
     "output_type": "stream",
     "text": [
      "TRACK 89  in  spotify:track:0QPRDC97rIQB3Jh3hrVJoH  COMPLETED\n"
     ]
    },
    {
     "name": "stderr",
     "output_type": "stream",
     "text": [
      "C:\\Users\\Uma Bala\\AppData\\Local\\Temp\\ipykernel_23008\\1248639595.py:50: FutureWarning: The frame.append method is deprecated and will be removed from pandas in a future version. Use pandas.concat instead.\n",
      "  df2 = df2.append(data, ignore_index=True)\n",
      "C:\\Users\\Uma Bala\\AppData\\Local\\Temp\\ipykernel_23008\\1248639595.py:50: FutureWarning: The frame.append method is deprecated and will be removed from pandas in a future version. Use pandas.concat instead.\n",
      "  df2 = df2.append(data, ignore_index=True)\n"
     ]
    },
    {
     "name": "stdout",
     "output_type": "stream",
     "text": [
      "TRACK 90  in  spotify:track:4YqBTDdMUeWB8LEfMkEKT2  COMPLETED\n",
      "TRACK 91  in  spotify:track:4cacyP5c3PMlfnyjpg13xW  COMPLETED\n"
     ]
    },
    {
     "name": "stderr",
     "output_type": "stream",
     "text": [
      "C:\\Users\\Uma Bala\\AppData\\Local\\Temp\\ipykernel_23008\\1248639595.py:50: FutureWarning: The frame.append method is deprecated and will be removed from pandas in a future version. Use pandas.concat instead.\n",
      "  df2 = df2.append(data, ignore_index=True)\n"
     ]
    },
    {
     "name": "stdout",
     "output_type": "stream",
     "text": [
      "TRACK 92  in  spotify:track:3RKjTYlQrtLXCq5ncswBPp  COMPLETED\n"
     ]
    },
    {
     "name": "stderr",
     "output_type": "stream",
     "text": [
      "C:\\Users\\Uma Bala\\AppData\\Local\\Temp\\ipykernel_23008\\1248639595.py:50: FutureWarning: The frame.append method is deprecated and will be removed from pandas in a future version. Use pandas.concat instead.\n",
      "  df2 = df2.append(data, ignore_index=True)\n"
     ]
    },
    {
     "name": "stdout",
     "output_type": "stream",
     "text": [
      "TRACK 93  in  spotify:track:3IAfUEeaXRX9s9UdKOJrFI  COMPLETED\n"
     ]
    },
    {
     "name": "stderr",
     "output_type": "stream",
     "text": [
      "C:\\Users\\Uma Bala\\AppData\\Local\\Temp\\ipykernel_23008\\1248639595.py:50: FutureWarning: The frame.append method is deprecated and will be removed from pandas in a future version. Use pandas.concat instead.\n",
      "  df2 = df2.append(data, ignore_index=True)\n"
     ]
    },
    {
     "name": "stdout",
     "output_type": "stream",
     "text": [
      "TRACK 94  in  spotify:track:21jGcNKet2qwijlDFuPiPb  COMPLETED\n"
     ]
    },
    {
     "name": "stderr",
     "output_type": "stream",
     "text": [
      "C:\\Users\\Uma Bala\\AppData\\Local\\Temp\\ipykernel_23008\\1248639595.py:50: FutureWarning: The frame.append method is deprecated and will be removed from pandas in a future version. Use pandas.concat instead.\n",
      "  df2 = df2.append(data, ignore_index=True)\n",
      "C:\\Users\\Uma Bala\\AppData\\Local\\Temp\\ipykernel_23008\\1248639595.py:50: FutureWarning: The frame.append method is deprecated and will be removed from pandas in a future version. Use pandas.concat instead.\n",
      "  df2 = df2.append(data, ignore_index=True)\n"
     ]
    },
    {
     "name": "stdout",
     "output_type": "stream",
     "text": [
      "TRACK 95  in  spotify:track:7lILHlOvIjJ3MSFbuoLblW  COMPLETED\n",
      "TRACK 96  in  spotify:track:2sru5unW8B5KguId0rGVA0  COMPLETED\n"
     ]
    },
    {
     "name": "stderr",
     "output_type": "stream",
     "text": [
      "C:\\Users\\Uma Bala\\AppData\\Local\\Temp\\ipykernel_23008\\1248639595.py:50: FutureWarning: The frame.append method is deprecated and will be removed from pandas in a future version. Use pandas.concat instead.\n",
      "  df2 = df2.append(data, ignore_index=True)\n"
     ]
    },
    {
     "name": "stdout",
     "output_type": "stream",
     "text": [
      "TRACK 97  in  spotify:track:4RG0VMPOZhil3rdqEEoV95  COMPLETED\n"
     ]
    },
    {
     "name": "stderr",
     "output_type": "stream",
     "text": [
      "C:\\Users\\Uma Bala\\AppData\\Local\\Temp\\ipykernel_23008\\1248639595.py:50: FutureWarning: The frame.append method is deprecated and will be removed from pandas in a future version. Use pandas.concat instead.\n",
      "  df2 = df2.append(data, ignore_index=True)\n"
     ]
    },
    {
     "name": "stdout",
     "output_type": "stream",
     "text": [
      "TRACK 98  in  spotify:track:0FA4wrjDJvJTTU8AepZTup  COMPLETED\n"
     ]
    },
    {
     "name": "stderr",
     "output_type": "stream",
     "text": [
      "C:\\Users\\Uma Bala\\AppData\\Local\\Temp\\ipykernel_23008\\1248639595.py:50: FutureWarning: The frame.append method is deprecated and will be removed from pandas in a future version. Use pandas.concat instead.\n",
      "  df2 = df2.append(data, ignore_index=True)\n"
     ]
    },
    {
     "name": "stdout",
     "output_type": "stream",
     "text": [
      "TRACK 99  in  spotify:track:3AJwUDP919kvQ9QcozQPxg  COMPLETED\n"
     ]
    },
    {
     "name": "stderr",
     "output_type": "stream",
     "text": [
      "C:\\Users\\Uma Bala\\AppData\\Local\\Temp\\ipykernel_23008\\1248639595.py:50: FutureWarning: The frame.append method is deprecated and will be removed from pandas in a future version. Use pandas.concat instead.\n",
      "  df2 = df2.append(data, ignore_index=True)\n"
     ]
    },
    {
     "name": "stdout",
     "output_type": "stream",
     "text": [
      "TRACK 100  in  spotify:track:27NovPIUIRrOZoCHxABJwK  COMPLETED\n"
     ]
    },
    {
     "name": "stderr",
     "output_type": "stream",
     "text": [
      "C:\\Users\\Uma Bala\\AppData\\Local\\Temp\\ipykernel_23008\\1248639595.py:50: FutureWarning: The frame.append method is deprecated and will be removed from pandas in a future version. Use pandas.concat instead.\n",
      "  df2 = df2.append(data, ignore_index=True)\n"
     ]
    }
   ],
   "source": [
    "# TikTok Hit Songs Playlist\n",
    "df_hit_3 = get_song_data('https://open.spotify.com/playlist/65LdqYCLcsV0lJoxpeQ6fW')"
   ]
  },
  {
   "cell_type": "code",
   "execution_count": 24,
   "id": "477b391c",
   "metadata": {},
   "outputs": [
    {
     "name": "stdout",
     "output_type": "stream",
     "text": [
      "TRACK 1  in  spotify:track:59FednZ6xbDyWCTxOCSclV  COMPLETED\n"
     ]
    },
    {
     "name": "stderr",
     "output_type": "stream",
     "text": [
      "C:\\Users\\Uma Bala\\AppData\\Local\\Temp\\ipykernel_23008\\1248639595.py:50: FutureWarning: The frame.append method is deprecated and will be removed from pandas in a future version. Use pandas.concat instead.\n",
      "  df2 = df2.append(data, ignore_index=True)\n"
     ]
    },
    {
     "name": "stdout",
     "output_type": "stream",
     "text": [
      "TRACK 2  in  spotify:track:56y1jOTK0XSvJzVv9vHQBK  COMPLETED\n"
     ]
    },
    {
     "name": "stderr",
     "output_type": "stream",
     "text": [
      "C:\\Users\\Uma Bala\\AppData\\Local\\Temp\\ipykernel_23008\\1248639595.py:50: FutureWarning: The frame.append method is deprecated and will be removed from pandas in a future version. Use pandas.concat instead.\n",
      "  df2 = df2.append(data, ignore_index=True)\n"
     ]
    },
    {
     "name": "stdout",
     "output_type": "stream",
     "text": [
      "TRACK 3  in  spotify:track:1vYXt7VSjH9JIM5oRRo7vA  COMPLETED\n"
     ]
    },
    {
     "name": "stderr",
     "output_type": "stream",
     "text": [
      "C:\\Users\\Uma Bala\\AppData\\Local\\Temp\\ipykernel_23008\\1248639595.py:50: FutureWarning: The frame.append method is deprecated and will be removed from pandas in a future version. Use pandas.concat instead.\n",
      "  df2 = df2.append(data, ignore_index=True)\n"
     ]
    },
    {
     "name": "stdout",
     "output_type": "stream",
     "text": [
      "TRACK 4  in  spotify:track:7x9aauaA9cu6tyfpHnqDLo  COMPLETED\n"
     ]
    },
    {
     "name": "stderr",
     "output_type": "stream",
     "text": [
      "C:\\Users\\Uma Bala\\AppData\\Local\\Temp\\ipykernel_23008\\1248639595.py:50: FutureWarning: The frame.append method is deprecated and will be removed from pandas in a future version. Use pandas.concat instead.\n",
      "  df2 = df2.append(data, ignore_index=True)\n"
     ]
    },
    {
     "name": "stdout",
     "output_type": "stream",
     "text": [
      "TRACK 5  in  spotify:track:0dGqP4VickYjtIaB5VOt4H  COMPLETED\n"
     ]
    },
    {
     "name": "stderr",
     "output_type": "stream",
     "text": [
      "C:\\Users\\Uma Bala\\AppData\\Local\\Temp\\ipykernel_23008\\1248639595.py:50: FutureWarning: The frame.append method is deprecated and will be removed from pandas in a future version. Use pandas.concat instead.\n",
      "  df2 = df2.append(data, ignore_index=True)\n",
      "C:\\Users\\Uma Bala\\AppData\\Local\\Temp\\ipykernel_23008\\1248639595.py:50: FutureWarning: The frame.append method is deprecated and will be removed from pandas in a future version. Use pandas.concat instead.\n",
      "  df2 = df2.append(data, ignore_index=True)\n"
     ]
    },
    {
     "name": "stdout",
     "output_type": "stream",
     "text": [
      "TRACK 6  in  spotify:track:5mjYQaktjmjcMKcUIcqz4s  COMPLETED\n",
      "TRACK 7  in  spotify:track:1BxfuPKGuaTgP7aM0Bbdwr  COMPLETED\n"
     ]
    },
    {
     "name": "stderr",
     "output_type": "stream",
     "text": [
      "C:\\Users\\Uma Bala\\AppData\\Local\\Temp\\ipykernel_23008\\1248639595.py:50: FutureWarning: The frame.append method is deprecated and will be removed from pandas in a future version. Use pandas.concat instead.\n",
      "  df2 = df2.append(data, ignore_index=True)\n"
     ]
    },
    {
     "name": "stdout",
     "output_type": "stream",
     "text": [
      "TRACK 8  in  spotify:track:7FbrGaHYVDmfr7KoLIZnQ7  COMPLETED\n"
     ]
    },
    {
     "name": "stderr",
     "output_type": "stream",
     "text": [
      "C:\\Users\\Uma Bala\\AppData\\Local\\Temp\\ipykernel_23008\\1248639595.py:50: FutureWarning: The frame.append method is deprecated and will be removed from pandas in a future version. Use pandas.concat instead.\n",
      "  df2 = df2.append(data, ignore_index=True)\n"
     ]
    },
    {
     "name": "stdout",
     "output_type": "stream",
     "text": [
      "TRACK 9  in  spotify:track:76OGwb5RA9h4FxQPT33ekc  COMPLETED\n"
     ]
    },
    {
     "name": "stderr",
     "output_type": "stream",
     "text": [
      "C:\\Users\\Uma Bala\\AppData\\Local\\Temp\\ipykernel_23008\\1248639595.py:50: FutureWarning: The frame.append method is deprecated and will be removed from pandas in a future version. Use pandas.concat instead.\n",
      "  df2 = df2.append(data, ignore_index=True)\n"
     ]
    },
    {
     "name": "stdout",
     "output_type": "stream",
     "text": [
      "TRACK 10  in  spotify:track:67eYAnkdTu8BMcIx29z26L  COMPLETED\n"
     ]
    },
    {
     "name": "stderr",
     "output_type": "stream",
     "text": [
      "C:\\Users\\Uma Bala\\AppData\\Local\\Temp\\ipykernel_23008\\1248639595.py:50: FutureWarning: The frame.append method is deprecated and will be removed from pandas in a future version. Use pandas.concat instead.\n",
      "  df2 = df2.append(data, ignore_index=True)\n"
     ]
    },
    {
     "name": "stdout",
     "output_type": "stream",
     "text": [
      "TRACK 11  in  spotify:track:3rUGC1vUpkDG9CZFHMur1t  COMPLETED\n"
     ]
    },
    {
     "name": "stderr",
     "output_type": "stream",
     "text": [
      "C:\\Users\\Uma Bala\\AppData\\Local\\Temp\\ipykernel_23008\\1248639595.py:50: FutureWarning: The frame.append method is deprecated and will be removed from pandas in a future version. Use pandas.concat instead.\n",
      "  df2 = df2.append(data, ignore_index=True)\n"
     ]
    },
    {
     "name": "stdout",
     "output_type": "stream",
     "text": [
      "TRACK 12  in  spotify:track:6UN73IYd0hZxLi8wFPMQij  COMPLETED\n"
     ]
    },
    {
     "name": "stderr",
     "output_type": "stream",
     "text": [
      "C:\\Users\\Uma Bala\\AppData\\Local\\Temp\\ipykernel_23008\\1248639595.py:50: FutureWarning: The frame.append method is deprecated and will be removed from pandas in a future version. Use pandas.concat instead.\n",
      "  df2 = df2.append(data, ignore_index=True)\n"
     ]
    },
    {
     "name": "stdout",
     "output_type": "stream",
     "text": [
      "TRACK 13  in  spotify:track:3k79jB4aGmMDUQzEwa46Rz  COMPLETED\n"
     ]
    },
    {
     "name": "stderr",
     "output_type": "stream",
     "text": [
      "C:\\Users\\Uma Bala\\AppData\\Local\\Temp\\ipykernel_23008\\1248639595.py:50: FutureWarning: The frame.append method is deprecated and will be removed from pandas in a future version. Use pandas.concat instead.\n",
      "  df2 = df2.append(data, ignore_index=True)\n",
      "C:\\Users\\Uma Bala\\AppData\\Local\\Temp\\ipykernel_23008\\1248639595.py:50: FutureWarning: The frame.append method is deprecated and will be removed from pandas in a future version. Use pandas.concat instead.\n",
      "  df2 = df2.append(data, ignore_index=True)\n"
     ]
    },
    {
     "name": "stdout",
     "output_type": "stream",
     "text": [
      "TRACK 14  in  spotify:track:1odExI7RdWc4BT515LTAwj  COMPLETED\n",
      "TRACK 15  in  spotify:track:2dHHgzDwk4BJdRwy9uXhTO  COMPLETED\n"
     ]
    },
    {
     "name": "stderr",
     "output_type": "stream",
     "text": [
      "C:\\Users\\Uma Bala\\AppData\\Local\\Temp\\ipykernel_23008\\1248639595.py:50: FutureWarning: The frame.append method is deprecated and will be removed from pandas in a future version. Use pandas.concat instead.\n",
      "  df2 = df2.append(data, ignore_index=True)\n"
     ]
    },
    {
     "name": "stdout",
     "output_type": "stream",
     "text": [
      "TRACK 16  in  spotify:track:6GGtHZgBycCgGBUhZo81xe  COMPLETED\n"
     ]
    },
    {
     "name": "stderr",
     "output_type": "stream",
     "text": [
      "C:\\Users\\Uma Bala\\AppData\\Local\\Temp\\ipykernel_23008\\1248639595.py:50: FutureWarning: The frame.append method is deprecated and will be removed from pandas in a future version. Use pandas.concat instead.\n",
      "  df2 = df2.append(data, ignore_index=True)\n",
      "C:\\Users\\Uma Bala\\AppData\\Local\\Temp\\ipykernel_23008\\1248639595.py:50: FutureWarning: The frame.append method is deprecated and will be removed from pandas in a future version. Use pandas.concat instead.\n",
      "  df2 = df2.append(data, ignore_index=True)\n"
     ]
    },
    {
     "name": "stdout",
     "output_type": "stream",
     "text": [
      "TRACK 17  in  spotify:track:26b3oVLrRUaaybJulow9kz  COMPLETED\n",
      "TRACK 18  in  spotify:track:0b18g3G5spr4ZCkz7Y6Q0Q  COMPLETED\n"
     ]
    },
    {
     "name": "stderr",
     "output_type": "stream",
     "text": [
      "C:\\Users\\Uma Bala\\AppData\\Local\\Temp\\ipykernel_23008\\1248639595.py:50: FutureWarning: The frame.append method is deprecated and will be removed from pandas in a future version. Use pandas.concat instead.\n",
      "  df2 = df2.append(data, ignore_index=True)\n"
     ]
    },
    {
     "name": "stdout",
     "output_type": "stream",
     "text": [
      "TRACK 19  in  spotify:track:1rDQ4oMwGJI7B4tovsBOxc  COMPLETED\n"
     ]
    },
    {
     "name": "stderr",
     "output_type": "stream",
     "text": [
      "C:\\Users\\Uma Bala\\AppData\\Local\\Temp\\ipykernel_23008\\1248639595.py:50: FutureWarning: The frame.append method is deprecated and will be removed from pandas in a future version. Use pandas.concat instead.\n",
      "  df2 = df2.append(data, ignore_index=True)\n"
     ]
    },
    {
     "name": "stdout",
     "output_type": "stream",
     "text": [
      "TRACK 20  in  spotify:track:2Gfxp84BKn7TSrTen1nj65  COMPLETED\n"
     ]
    },
    {
     "name": "stderr",
     "output_type": "stream",
     "text": [
      "C:\\Users\\Uma Bala\\AppData\\Local\\Temp\\ipykernel_23008\\1248639595.py:50: FutureWarning: The frame.append method is deprecated and will be removed from pandas in a future version. Use pandas.concat instead.\n",
      "  df2 = df2.append(data, ignore_index=True)\n"
     ]
    },
    {
     "name": "stdout",
     "output_type": "stream",
     "text": [
      "TRACK 21  in  spotify:track:0yLdNVWF3Srea0uzk55zFn  COMPLETED\n"
     ]
    },
    {
     "name": "stderr",
     "output_type": "stream",
     "text": [
      "C:\\Users\\Uma Bala\\AppData\\Local\\Temp\\ipykernel_23008\\1248639595.py:50: FutureWarning: The frame.append method is deprecated and will be removed from pandas in a future version. Use pandas.concat instead.\n",
      "  df2 = df2.append(data, ignore_index=True)\n"
     ]
    },
    {
     "name": "stdout",
     "output_type": "stream",
     "text": [
      "TRACK 22  in  spotify:track:0l0CvurVUrr2w3Jj1hOVFc  COMPLETED\n"
     ]
    },
    {
     "name": "stderr",
     "output_type": "stream",
     "text": [
      "C:\\Users\\Uma Bala\\AppData\\Local\\Temp\\ipykernel_23008\\1248639595.py:50: FutureWarning: The frame.append method is deprecated and will be removed from pandas in a future version. Use pandas.concat instead.\n",
      "  df2 = df2.append(data, ignore_index=True)\n"
     ]
    },
    {
     "name": "stdout",
     "output_type": "stream",
     "text": [
      "TRACK 23  in  spotify:track:2QjOHCTQ1Jl3zawyYOpxh6  COMPLETED\n"
     ]
    },
    {
     "name": "stderr",
     "output_type": "stream",
     "text": [
      "C:\\Users\\Uma Bala\\AppData\\Local\\Temp\\ipykernel_23008\\1248639595.py:50: FutureWarning: The frame.append method is deprecated and will be removed from pandas in a future version. Use pandas.concat instead.\n",
      "  df2 = df2.append(data, ignore_index=True)\n"
     ]
    },
    {
     "name": "stdout",
     "output_type": "stream",
     "text": [
      "TRACK 24  in  spotify:track:5Kskr9LcNYa0tpt5f0ZEJx  COMPLETED\n"
     ]
    },
    {
     "name": "stderr",
     "output_type": "stream",
     "text": [
      "C:\\Users\\Uma Bala\\AppData\\Local\\Temp\\ipykernel_23008\\1248639595.py:50: FutureWarning: The frame.append method is deprecated and will be removed from pandas in a future version. Use pandas.concat instead.\n",
      "  df2 = df2.append(data, ignore_index=True)\n"
     ]
    },
    {
     "name": "stdout",
     "output_type": "stream",
     "text": [
      "TRACK 25  in  spotify:track:6AQbmUe0Qwf5PZnt4HmTXv  COMPLETED\n"
     ]
    },
    {
     "name": "stderr",
     "output_type": "stream",
     "text": [
      "C:\\Users\\Uma Bala\\AppData\\Local\\Temp\\ipykernel_23008\\1248639595.py:50: FutureWarning: The frame.append method is deprecated and will be removed from pandas in a future version. Use pandas.concat instead.\n",
      "  df2 = df2.append(data, ignore_index=True)\n",
      "C:\\Users\\Uma Bala\\AppData\\Local\\Temp\\ipykernel_23008\\1248639595.py:50: FutureWarning: The frame.append method is deprecated and will be removed from pandas in a future version. Use pandas.concat instead.\n",
      "  df2 = df2.append(data, ignore_index=True)\n"
     ]
    },
    {
     "name": "stdout",
     "output_type": "stream",
     "text": [
      "TRACK 26  in  spotify:track:2FDTHlrBguDzQkp7PVj16Q  COMPLETED\n",
      "TRACK 27  in  spotify:track:1WumDA51R5dHvmRVhmoP6t  COMPLETED\n"
     ]
    },
    {
     "name": "stderr",
     "output_type": "stream",
     "text": [
      "C:\\Users\\Uma Bala\\AppData\\Local\\Temp\\ipykernel_23008\\1248639595.py:50: FutureWarning: The frame.append method is deprecated and will be removed from pandas in a future version. Use pandas.concat instead.\n",
      "  df2 = df2.append(data, ignore_index=True)\n"
     ]
    },
    {
     "name": "stdout",
     "output_type": "stream",
     "text": [
      "TRACK 28  in  spotify:track:23RoR84KodL5HWvUTneQ1w  COMPLETED\n"
     ]
    },
    {
     "name": "stderr",
     "output_type": "stream",
     "text": [
      "C:\\Users\\Uma Bala\\AppData\\Local\\Temp\\ipykernel_23008\\1248639595.py:50: FutureWarning: The frame.append method is deprecated and will be removed from pandas in a future version. Use pandas.concat instead.\n",
      "  df2 = df2.append(data, ignore_index=True)\n"
     ]
    },
    {
     "name": "stdout",
     "output_type": "stream",
     "text": [
      "TRACK 29  in  spotify:track:1Qrg8KqiBpW07V7PNxwwwL  COMPLETED\n"
     ]
    },
    {
     "name": "stderr",
     "output_type": "stream",
     "text": [
      "C:\\Users\\Uma Bala\\AppData\\Local\\Temp\\ipykernel_23008\\1248639595.py:50: FutureWarning: The frame.append method is deprecated and will be removed from pandas in a future version. Use pandas.concat instead.\n",
      "  df2 = df2.append(data, ignore_index=True)\n"
     ]
    },
    {
     "name": "stdout",
     "output_type": "stream",
     "text": [
      "TRACK 30  in  spotify:track:3nqQXoyQOWXiESFLlDF1hG  COMPLETED\n"
     ]
    },
    {
     "name": "stderr",
     "output_type": "stream",
     "text": [
      "C:\\Users\\Uma Bala\\AppData\\Local\\Temp\\ipykernel_23008\\1248639595.py:50: FutureWarning: The frame.append method is deprecated and will be removed from pandas in a future version. Use pandas.concat instead.\n",
      "  df2 = df2.append(data, ignore_index=True)\n",
      "C:\\Users\\Uma Bala\\AppData\\Local\\Temp\\ipykernel_23008\\1248639595.py:50: FutureWarning: The frame.append method is deprecated and will be removed from pandas in a future version. Use pandas.concat instead.\n",
      "  df2 = df2.append(data, ignore_index=True)\n"
     ]
    },
    {
     "name": "stdout",
     "output_type": "stream",
     "text": [
      "TRACK 31  in  spotify:track:4LRPiXqCikLlN15c3yImP7  COMPLETED\n",
      "TRACK 32  in  spotify:track:5YqEzk3C5c3UZ1D5fJUlXA  COMPLETED\n"
     ]
    },
    {
     "name": "stderr",
     "output_type": "stream",
     "text": [
      "C:\\Users\\Uma Bala\\AppData\\Local\\Temp\\ipykernel_23008\\1248639595.py:50: FutureWarning: The frame.append method is deprecated and will be removed from pandas in a future version. Use pandas.concat instead.\n",
      "  df2 = df2.append(data, ignore_index=True)\n"
     ]
    },
    {
     "name": "stdout",
     "output_type": "stream",
     "text": [
      "TRACK 33  in  spotify:track:73RbfOTJIjHzi2pcVHjeHM  COMPLETED\n"
     ]
    },
    {
     "name": "stderr",
     "output_type": "stream",
     "text": [
      "C:\\Users\\Uma Bala\\AppData\\Local\\Temp\\ipykernel_23008\\1248639595.py:50: FutureWarning: The frame.append method is deprecated and will be removed from pandas in a future version. Use pandas.concat instead.\n",
      "  df2 = df2.append(data, ignore_index=True)\n"
     ]
    },
    {
     "name": "stdout",
     "output_type": "stream",
     "text": [
      "TRACK 34  in  spotify:track:43PGPuHIlVOc04jrZVh9L6  COMPLETED\n"
     ]
    },
    {
     "name": "stderr",
     "output_type": "stream",
     "text": [
      "C:\\Users\\Uma Bala\\AppData\\Local\\Temp\\ipykernel_23008\\1248639595.py:50: FutureWarning: The frame.append method is deprecated and will be removed from pandas in a future version. Use pandas.concat instead.\n",
      "  df2 = df2.append(data, ignore_index=True)\n"
     ]
    },
    {
     "name": "stdout",
     "output_type": "stream",
     "text": [
      "TRACK 35  in  spotify:track:5WxVXxCMRnvxUKFq40ELwq  COMPLETED\n"
     ]
    },
    {
     "name": "stderr",
     "output_type": "stream",
     "text": [
      "C:\\Users\\Uma Bala\\AppData\\Local\\Temp\\ipykernel_23008\\1248639595.py:50: FutureWarning: The frame.append method is deprecated and will be removed from pandas in a future version. Use pandas.concat instead.\n",
      "  df2 = df2.append(data, ignore_index=True)\n"
     ]
    },
    {
     "name": "stdout",
     "output_type": "stream",
     "text": [
      "TRACK 36  in  spotify:track:4uUG5RXrOk84mYEfFvj3cK  COMPLETED\n"
     ]
    },
    {
     "name": "stderr",
     "output_type": "stream",
     "text": [
      "C:\\Users\\Uma Bala\\AppData\\Local\\Temp\\ipykernel_23008\\1248639595.py:50: FutureWarning: The frame.append method is deprecated and will be removed from pandas in a future version. Use pandas.concat instead.\n",
      "  df2 = df2.append(data, ignore_index=True)\n"
     ]
    },
    {
     "name": "stdout",
     "output_type": "stream",
     "text": [
      "TRACK 37  in  spotify:track:5odlY52u43F5BjByhxg7wg  COMPLETED\n"
     ]
    },
    {
     "name": "stderr",
     "output_type": "stream",
     "text": [
      "C:\\Users\\Uma Bala\\AppData\\Local\\Temp\\ipykernel_23008\\1248639595.py:50: FutureWarning: The frame.append method is deprecated and will be removed from pandas in a future version. Use pandas.concat instead.\n",
      "  df2 = df2.append(data, ignore_index=True)\n"
     ]
    },
    {
     "name": "stdout",
     "output_type": "stream",
     "text": [
      "TRACK 38  in  spotify:track:0CtBep71EZdAS3ycLNb3gr  COMPLETED\n"
     ]
    },
    {
     "name": "stderr",
     "output_type": "stream",
     "text": [
      "C:\\Users\\Uma Bala\\AppData\\Local\\Temp\\ipykernel_23008\\1248639595.py:50: FutureWarning: The frame.append method is deprecated and will be removed from pandas in a future version. Use pandas.concat instead.\n",
      "  df2 = df2.append(data, ignore_index=True)\n"
     ]
    },
    {
     "name": "stdout",
     "output_type": "stream",
     "text": [
      "TRACK 39  in  spotify:track:1xzi1Jcr7mEi9K2RfzLOqS  COMPLETED\n"
     ]
    },
    {
     "name": "stderr",
     "output_type": "stream",
     "text": [
      "C:\\Users\\Uma Bala\\AppData\\Local\\Temp\\ipykernel_23008\\1248639595.py:50: FutureWarning: The frame.append method is deprecated and will be removed from pandas in a future version. Use pandas.concat instead.\n",
      "  df2 = df2.append(data, ignore_index=True)\n",
      "C:\\Users\\Uma Bala\\AppData\\Local\\Temp\\ipykernel_23008\\1248639595.py:50: FutureWarning: The frame.append method is deprecated and will be removed from pandas in a future version. Use pandas.concat instead.\n",
      "  df2 = df2.append(data, ignore_index=True)\n"
     ]
    },
    {
     "name": "stdout",
     "output_type": "stream",
     "text": [
      "TRACK 40  in  spotify:track:5HCyWlXZPP0y6Gqq8TgA20  COMPLETED\n",
      "TRACK 41  in  spotify:track:4fouWK6XVHhzl78KzQ1UjL  COMPLETED\n"
     ]
    },
    {
     "name": "stderr",
     "output_type": "stream",
     "text": [
      "C:\\Users\\Uma Bala\\AppData\\Local\\Temp\\ipykernel_23008\\1248639595.py:50: FutureWarning: The frame.append method is deprecated and will be removed from pandas in a future version. Use pandas.concat instead.\n",
      "  df2 = df2.append(data, ignore_index=True)\n"
     ]
    },
    {
     "name": "stdout",
     "output_type": "stream",
     "text": [
      "TRACK 42  in  spotify:track:4cacyP5c3PMlfnyjpg13xW  COMPLETED\n"
     ]
    },
    {
     "name": "stderr",
     "output_type": "stream",
     "text": [
      "C:\\Users\\Uma Bala\\AppData\\Local\\Temp\\ipykernel_23008\\1248639595.py:50: FutureWarning: The frame.append method is deprecated and will be removed from pandas in a future version. Use pandas.concat instead.\n",
      "  df2 = df2.append(data, ignore_index=True)\n"
     ]
    },
    {
     "name": "stdout",
     "output_type": "stream",
     "text": [
      "TRACK 43  in  spotify:track:21jGcNKet2qwijlDFuPiPb  COMPLETED\n"
     ]
    },
    {
     "name": "stderr",
     "output_type": "stream",
     "text": [
      "C:\\Users\\Uma Bala\\AppData\\Local\\Temp\\ipykernel_23008\\1248639595.py:50: FutureWarning: The frame.append method is deprecated and will be removed from pandas in a future version. Use pandas.concat instead.\n",
      "  df2 = df2.append(data, ignore_index=True)\n"
     ]
    },
    {
     "name": "stdout",
     "output_type": "stream",
     "text": [
      "TRACK 44  in  spotify:track:27NovPIUIRrOZoCHxABJwK  COMPLETED\n"
     ]
    },
    {
     "name": "stderr",
     "output_type": "stream",
     "text": [
      "C:\\Users\\Uma Bala\\AppData\\Local\\Temp\\ipykernel_23008\\1248639595.py:50: FutureWarning: The frame.append method is deprecated and will be removed from pandas in a future version. Use pandas.concat instead.\n",
      "  df2 = df2.append(data, ignore_index=True)\n"
     ]
    },
    {
     "name": "stdout",
     "output_type": "stream",
     "text": [
      "TRACK 45  in  spotify:track:3AJwUDP919kvQ9QcozQPxg  COMPLETED\n"
     ]
    },
    {
     "name": "stderr",
     "output_type": "stream",
     "text": [
      "C:\\Users\\Uma Bala\\AppData\\Local\\Temp\\ipykernel_23008\\1248639595.py:50: FutureWarning: The frame.append method is deprecated and will be removed from pandas in a future version. Use pandas.concat instead.\n",
      "  df2 = df2.append(data, ignore_index=True)\n"
     ]
    },
    {
     "name": "stdout",
     "output_type": "stream",
     "text": [
      "TRACK 46  in  spotify:track:1qEmFfgcLObUfQm0j1W2CK  COMPLETED\n"
     ]
    },
    {
     "name": "stderr",
     "output_type": "stream",
     "text": [
      "C:\\Users\\Uma Bala\\AppData\\Local\\Temp\\ipykernel_23008\\1248639595.py:50: FutureWarning: The frame.append method is deprecated and will be removed from pandas in a future version. Use pandas.concat instead.\n",
      "  df2 = df2.append(data, ignore_index=True)\n"
     ]
    },
    {
     "name": "stdout",
     "output_type": "stream",
     "text": [
      "TRACK 47  in  spotify:track:7rglLriMNBPAyuJOMGwi39  COMPLETED\n"
     ]
    },
    {
     "name": "stderr",
     "output_type": "stream",
     "text": [
      "C:\\Users\\Uma Bala\\AppData\\Local\\Temp\\ipykernel_23008\\1248639595.py:50: FutureWarning: The frame.append method is deprecated and will be removed from pandas in a future version. Use pandas.concat instead.\n",
      "  df2 = df2.append(data, ignore_index=True)\n"
     ]
    },
    {
     "name": "stdout",
     "output_type": "stream",
     "text": [
      "TRACK 48  in  spotify:track:4QtiVmuA88tPQiCOHZuQ5b  COMPLETED\n"
     ]
    },
    {
     "name": "stderr",
     "output_type": "stream",
     "text": [
      "C:\\Users\\Uma Bala\\AppData\\Local\\Temp\\ipykernel_23008\\1248639595.py:50: FutureWarning: The frame.append method is deprecated and will be removed from pandas in a future version. Use pandas.concat instead.\n",
      "  df2 = df2.append(data, ignore_index=True)\n",
      "C:\\Users\\Uma Bala\\AppData\\Local\\Temp\\ipykernel_23008\\1248639595.py:50: FutureWarning: The frame.append method is deprecated and will be removed from pandas in a future version. Use pandas.concat instead.\n",
      "  df2 = df2.append(data, ignore_index=True)\n"
     ]
    },
    {
     "name": "stdout",
     "output_type": "stream",
     "text": [
      "TRACK 49  in  spotify:track:09gysnJpfQ3ublBmJDfcEC  COMPLETED\n",
      "TRACK 50  in  spotify:track:2Xr1dTzJee307rmrkt8c0g  COMPLETED\n"
     ]
    },
    {
     "name": "stderr",
     "output_type": "stream",
     "text": [
      "C:\\Users\\Uma Bala\\AppData\\Local\\Temp\\ipykernel_23008\\1248639595.py:50: FutureWarning: The frame.append method is deprecated and will be removed from pandas in a future version. Use pandas.concat instead.\n",
      "  df2 = df2.append(data, ignore_index=True)\n"
     ]
    },
    {
     "name": "stdout",
     "output_type": "stream",
     "text": [
      "TRACK 51  in  spotify:track:0eu4C55hL6x29mmeAjytzC  COMPLETED\n"
     ]
    },
    {
     "name": "stderr",
     "output_type": "stream",
     "text": [
      "C:\\Users\\Uma Bala\\AppData\\Local\\Temp\\ipykernel_23008\\1248639595.py:50: FutureWarning: The frame.append method is deprecated and will be removed from pandas in a future version. Use pandas.concat instead.\n",
      "  df2 = df2.append(data, ignore_index=True)\n"
     ]
    },
    {
     "name": "stdout",
     "output_type": "stream",
     "text": [
      "TRACK 52  in  spotify:track:6qyS9qBy0mEk3qYaH8mPss  COMPLETED\n"
     ]
    },
    {
     "name": "stderr",
     "output_type": "stream",
     "text": [
      "C:\\Users\\Uma Bala\\AppData\\Local\\Temp\\ipykernel_23008\\1248639595.py:50: FutureWarning: The frame.append method is deprecated and will be removed from pandas in a future version. Use pandas.concat instead.\n",
      "  df2 = df2.append(data, ignore_index=True)\n"
     ]
    },
    {
     "name": "stdout",
     "output_type": "stream",
     "text": [
      "TRACK 53  in  spotify:track:1I4lCSP69P74nU3a6Su5L2  COMPLETED\n"
     ]
    },
    {
     "name": "stderr",
     "output_type": "stream",
     "text": [
      "C:\\Users\\Uma Bala\\AppData\\Local\\Temp\\ipykernel_23008\\1248639595.py:50: FutureWarning: The frame.append method is deprecated and will be removed from pandas in a future version. Use pandas.concat instead.\n",
      "  df2 = df2.append(data, ignore_index=True)\n"
     ]
    },
    {
     "name": "stdout",
     "output_type": "stream",
     "text": [
      "TRACK 54  in  spotify:track:7MAibcTli4IisCtbHKrGMh  COMPLETED\n"
     ]
    },
    {
     "name": "stderr",
     "output_type": "stream",
     "text": [
      "C:\\Users\\Uma Bala\\AppData\\Local\\Temp\\ipykernel_23008\\1248639595.py:50: FutureWarning: The frame.append method is deprecated and will be removed from pandas in a future version. Use pandas.concat instead.\n",
      "  df2 = df2.append(data, ignore_index=True)\n"
     ]
    },
    {
     "name": "stdout",
     "output_type": "stream",
     "text": [
      "TRACK 55  in  spotify:track:7ef4DlsgrMEH11cDZd32M6  COMPLETED\n"
     ]
    },
    {
     "name": "stderr",
     "output_type": "stream",
     "text": [
      "C:\\Users\\Uma Bala\\AppData\\Local\\Temp\\ipykernel_23008\\1248639595.py:50: FutureWarning: The frame.append method is deprecated and will be removed from pandas in a future version. Use pandas.concat instead.\n",
      "  df2 = df2.append(data, ignore_index=True)\n"
     ]
    },
    {
     "name": "stdout",
     "output_type": "stream",
     "text": [
      "TRACK 56  in  spotify:track:0nbXyq5TXYPCO7pr3N8S4I  COMPLETED\n"
     ]
    },
    {
     "name": "stderr",
     "output_type": "stream",
     "text": [
      "C:\\Users\\Uma Bala\\AppData\\Local\\Temp\\ipykernel_23008\\1248639595.py:50: FutureWarning: The frame.append method is deprecated and will be removed from pandas in a future version. Use pandas.concat instead.\n",
      "  df2 = df2.append(data, ignore_index=True)\n"
     ]
    },
    {
     "name": "stdout",
     "output_type": "stream",
     "text": [
      "TRACK 57  in  spotify:track:6lknMmJZALXxx7emwwZWLX  COMPLETED\n"
     ]
    },
    {
     "name": "stderr",
     "output_type": "stream",
     "text": [
      "C:\\Users\\Uma Bala\\AppData\\Local\\Temp\\ipykernel_23008\\1248639595.py:50: FutureWarning: The frame.append method is deprecated and will be removed from pandas in a future version. Use pandas.concat instead.\n",
      "  df2 = df2.append(data, ignore_index=True)\n",
      "C:\\Users\\Uma Bala\\AppData\\Local\\Temp\\ipykernel_23008\\1248639595.py:50: FutureWarning: The frame.append method is deprecated and will be removed from pandas in a future version. Use pandas.concat instead.\n",
      "  df2 = df2.append(data, ignore_index=True)\n"
     ]
    },
    {
     "name": "stdout",
     "output_type": "stream",
     "text": [
      "TRACK 58  in  spotify:track:6f5ExP43esnvdKPddwKXJH  COMPLETED\n",
      "TRACK 59  in  spotify:track:4FyesJzVpA39hbYvcseO2d  COMPLETED\n"
     ]
    },
    {
     "name": "stderr",
     "output_type": "stream",
     "text": [
      "C:\\Users\\Uma Bala\\AppData\\Local\\Temp\\ipykernel_23008\\1248639595.py:50: FutureWarning: The frame.append method is deprecated and will be removed from pandas in a future version. Use pandas.concat instead.\n",
      "  df2 = df2.append(data, ignore_index=True)\n"
     ]
    },
    {
     "name": "stdout",
     "output_type": "stream",
     "text": [
      "TRACK 60  in  spotify:track:5vGLcdRuSbUhD8ScwsGSdA  COMPLETED\n"
     ]
    },
    {
     "name": "stderr",
     "output_type": "stream",
     "text": [
      "C:\\Users\\Uma Bala\\AppData\\Local\\Temp\\ipykernel_23008\\1248639595.py:50: FutureWarning: The frame.append method is deprecated and will be removed from pandas in a future version. Use pandas.concat instead.\n",
      "  df2 = df2.append(data, ignore_index=True)\n"
     ]
    },
    {
     "name": "stdout",
     "output_type": "stream",
     "text": [
      "TRACK 61  in  spotify:track:54ipXppHLA8U4yqpOFTUhr  COMPLETED\n"
     ]
    },
    {
     "name": "stderr",
     "output_type": "stream",
     "text": [
      "C:\\Users\\Uma Bala\\AppData\\Local\\Temp\\ipykernel_23008\\1248639595.py:50: FutureWarning: The frame.append method is deprecated and will be removed from pandas in a future version. Use pandas.concat instead.\n",
      "  df2 = df2.append(data, ignore_index=True)\n"
     ]
    },
    {
     "name": "stdout",
     "output_type": "stream",
     "text": [
      "TRACK 62  in  spotify:track:5zNW5ARjYhJQJz1AChP33n  COMPLETED\n"
     ]
    },
    {
     "name": "stderr",
     "output_type": "stream",
     "text": [
      "C:\\Users\\Uma Bala\\AppData\\Local\\Temp\\ipykernel_23008\\1248639595.py:50: FutureWarning: The frame.append method is deprecated and will be removed from pandas in a future version. Use pandas.concat instead.\n",
      "  df2 = df2.append(data, ignore_index=True)\n"
     ]
    },
    {
     "name": "stdout",
     "output_type": "stream",
     "text": [
      "TRACK 63  in  spotify:track:5vUnjhBzRJJIAOJPde6zDx  COMPLETED\n"
     ]
    },
    {
     "name": "stderr",
     "output_type": "stream",
     "text": [
      "C:\\Users\\Uma Bala\\AppData\\Local\\Temp\\ipykernel_23008\\1248639595.py:50: FutureWarning: The frame.append method is deprecated and will be removed from pandas in a future version. Use pandas.concat instead.\n",
      "  df2 = df2.append(data, ignore_index=True)\n",
      "C:\\Users\\Uma Bala\\AppData\\Local\\Temp\\ipykernel_23008\\1248639595.py:50: FutureWarning: The frame.append method is deprecated and will be removed from pandas in a future version. Use pandas.concat instead.\n",
      "  df2 = df2.append(data, ignore_index=True)\n"
     ]
    },
    {
     "name": "stdout",
     "output_type": "stream",
     "text": [
      "TRACK 64  in  spotify:track:5sdQOyqq2IDhvmx2lHOpwd  COMPLETED\n",
      "TRACK 65  in  spotify:track:6f3Slt0GbA2bPZlz0aIFXN  COMPLETED\n"
     ]
    },
    {
     "name": "stderr",
     "output_type": "stream",
     "text": [
      "C:\\Users\\Uma Bala\\AppData\\Local\\Temp\\ipykernel_23008\\1248639595.py:50: FutureWarning: The frame.append method is deprecated and will be removed from pandas in a future version. Use pandas.concat instead.\n",
      "  df2 = df2.append(data, ignore_index=True)\n"
     ]
    },
    {
     "name": "stdout",
     "output_type": "stream",
     "text": [
      "TRACK 66  in  spotify:track:02kDW379Yfd5PzW5A6vuGt  COMPLETED\n"
     ]
    },
    {
     "name": "stderr",
     "output_type": "stream",
     "text": [
      "C:\\Users\\Uma Bala\\AppData\\Local\\Temp\\ipykernel_23008\\1248639595.py:50: FutureWarning: The frame.append method is deprecated and will be removed from pandas in a future version. Use pandas.concat instead.\n",
      "  df2 = df2.append(data, ignore_index=True)\n"
     ]
    },
    {
     "name": "stdout",
     "output_type": "stream",
     "text": [
      "TRACK 67  in  spotify:track:4Oun2ylbjFKMPTiaSbbCih  COMPLETED\n"
     ]
    },
    {
     "name": "stderr",
     "output_type": "stream",
     "text": [
      "C:\\Users\\Uma Bala\\AppData\\Local\\Temp\\ipykernel_23008\\1248639595.py:50: FutureWarning: The frame.append method is deprecated and will be removed from pandas in a future version. Use pandas.concat instead.\n",
      "  df2 = df2.append(data, ignore_index=True)\n"
     ]
    },
    {
     "name": "stdout",
     "output_type": "stream",
     "text": [
      "TRACK 68  in  spotify:track:0FA4wrjDJvJTTU8AepZTup  COMPLETED\n"
     ]
    },
    {
     "name": "stderr",
     "output_type": "stream",
     "text": [
      "C:\\Users\\Uma Bala\\AppData\\Local\\Temp\\ipykernel_23008\\1248639595.py:50: FutureWarning: The frame.append method is deprecated and will be removed from pandas in a future version. Use pandas.concat instead.\n",
      "  df2 = df2.append(data, ignore_index=True)\n"
     ]
    },
    {
     "name": "stdout",
     "output_type": "stream",
     "text": [
      "TRACK 69  in  spotify:track:1xQ6trAsedVPCdbtDAmk0c  COMPLETED\n"
     ]
    },
    {
     "name": "stderr",
     "output_type": "stream",
     "text": [
      "C:\\Users\\Uma Bala\\AppData\\Local\\Temp\\ipykernel_23008\\1248639595.py:50: FutureWarning: The frame.append method is deprecated and will be removed from pandas in a future version. Use pandas.concat instead.\n",
      "  df2 = df2.append(data, ignore_index=True)\n"
     ]
    },
    {
     "name": "stdout",
     "output_type": "stream",
     "text": [
      "TRACK 70  in  spotify:track:6zFMeegAMYQo0mt8rXtrli  COMPLETED\n"
     ]
    },
    {
     "name": "stderr",
     "output_type": "stream",
     "text": [
      "C:\\Users\\Uma Bala\\AppData\\Local\\Temp\\ipykernel_23008\\1248639595.py:50: FutureWarning: The frame.append method is deprecated and will be removed from pandas in a future version. Use pandas.concat instead.\n",
      "  df2 = df2.append(data, ignore_index=True)\n"
     ]
    },
    {
     "name": "stdout",
     "output_type": "stream",
     "text": [
      "TRACK 71  in  spotify:track:27OeeYzk6klgBh83TSvGMA  COMPLETED\n"
     ]
    },
    {
     "name": "stderr",
     "output_type": "stream",
     "text": [
      "C:\\Users\\Uma Bala\\AppData\\Local\\Temp\\ipykernel_23008\\1248639595.py:50: FutureWarning: The frame.append method is deprecated and will be removed from pandas in a future version. Use pandas.concat instead.\n",
      "  df2 = df2.append(data, ignore_index=True)\n"
     ]
    },
    {
     "name": "stdout",
     "output_type": "stream",
     "text": [
      "TRACK 72  in  spotify:track:5pyoxDZ1PX0KxBxiRVxA4U  COMPLETED\n"
     ]
    },
    {
     "name": "stderr",
     "output_type": "stream",
     "text": [
      "C:\\Users\\Uma Bala\\AppData\\Local\\Temp\\ipykernel_23008\\1248639595.py:50: FutureWarning: The frame.append method is deprecated and will be removed from pandas in a future version. Use pandas.concat instead.\n",
      "  df2 = df2.append(data, ignore_index=True)\n"
     ]
    },
    {
     "name": "stdout",
     "output_type": "stream",
     "text": [
      "TRACK 73  in  spotify:track:39Yp9wwQiSRIDOvrVg7mbk  COMPLETED\n"
     ]
    },
    {
     "name": "stderr",
     "output_type": "stream",
     "text": [
      "C:\\Users\\Uma Bala\\AppData\\Local\\Temp\\ipykernel_23008\\1248639595.py:50: FutureWarning: The frame.append method is deprecated and will be removed from pandas in a future version. Use pandas.concat instead.\n",
      "  df2 = df2.append(data, ignore_index=True)\n"
     ]
    },
    {
     "name": "stdout",
     "output_type": "stream",
     "text": [
      "TRACK 74  in  spotify:track:0VgkVdmE4gld66l8iyGjgx  COMPLETED\n"
     ]
    },
    {
     "name": "stderr",
     "output_type": "stream",
     "text": [
      "C:\\Users\\Uma Bala\\AppData\\Local\\Temp\\ipykernel_23008\\1248639595.py:50: FutureWarning: The frame.append method is deprecated and will be removed from pandas in a future version. Use pandas.concat instead.\n",
      "  df2 = df2.append(data, ignore_index=True)\n"
     ]
    },
    {
     "name": "stdout",
     "output_type": "stream",
     "text": [
      "TRACK 75  in  spotify:track:7fa9MBXhVfQ8P8Df9OEbD8  COMPLETED\n"
     ]
    },
    {
     "name": "stderr",
     "output_type": "stream",
     "text": [
      "C:\\Users\\Uma Bala\\AppData\\Local\\Temp\\ipykernel_23008\\1248639595.py:50: FutureWarning: The frame.append method is deprecated and will be removed from pandas in a future version. Use pandas.concat instead.\n",
      "  df2 = df2.append(data, ignore_index=True)\n"
     ]
    },
    {
     "name": "stdout",
     "output_type": "stream",
     "text": [
      "TRACK 76  in  spotify:track:4Hpib09wXgD84w4uwTPnYD  COMPLETED\n"
     ]
    },
    {
     "name": "stderr",
     "output_type": "stream",
     "text": [
      "C:\\Users\\Uma Bala\\AppData\\Local\\Temp\\ipykernel_23008\\1248639595.py:50: FutureWarning: The frame.append method is deprecated and will be removed from pandas in a future version. Use pandas.concat instead.\n",
      "  df2 = df2.append(data, ignore_index=True)\n"
     ]
    },
    {
     "name": "stdout",
     "output_type": "stream",
     "text": [
      "TRACK 77  in  spotify:track:0T5iIrXA4p5GsubkhuBIKV  COMPLETED\n"
     ]
    },
    {
     "name": "stderr",
     "output_type": "stream",
     "text": [
      "C:\\Users\\Uma Bala\\AppData\\Local\\Temp\\ipykernel_23008\\1248639595.py:50: FutureWarning: The frame.append method is deprecated and will be removed from pandas in a future version. Use pandas.concat instead.\n",
      "  df2 = df2.append(data, ignore_index=True)\n"
     ]
    },
    {
     "name": "stdout",
     "output_type": "stream",
     "text": [
      "TRACK 78  in  spotify:track:665AK0ovB11McZRwfa852G  COMPLETED\n"
     ]
    },
    {
     "name": "stderr",
     "output_type": "stream",
     "text": [
      "C:\\Users\\Uma Bala\\AppData\\Local\\Temp\\ipykernel_23008\\1248639595.py:50: FutureWarning: The frame.append method is deprecated and will be removed from pandas in a future version. Use pandas.concat instead.\n",
      "  df2 = df2.append(data, ignore_index=True)\n"
     ]
    },
    {
     "name": "stdout",
     "output_type": "stream",
     "text": [
      "TRACK 79  in  spotify:track:3Z8FwOEN59mRMxDCtb8N0A  COMPLETED\n"
     ]
    },
    {
     "name": "stderr",
     "output_type": "stream",
     "text": [
      "C:\\Users\\Uma Bala\\AppData\\Local\\Temp\\ipykernel_23008\\1248639595.py:50: FutureWarning: The frame.append method is deprecated and will be removed from pandas in a future version. Use pandas.concat instead.\n",
      "  df2 = df2.append(data, ignore_index=True)\n"
     ]
    },
    {
     "name": "stdout",
     "output_type": "stream",
     "text": [
      "TRACK 80  in  spotify:track:0VjIjW4GlUZAMYd2vXMi3b  COMPLETED\n"
     ]
    },
    {
     "name": "stderr",
     "output_type": "stream",
     "text": [
      "C:\\Users\\Uma Bala\\AppData\\Local\\Temp\\ipykernel_23008\\1248639595.py:50: FutureWarning: The frame.append method is deprecated and will be removed from pandas in a future version. Use pandas.concat instead.\n",
      "  df2 = df2.append(data, ignore_index=True)\n"
     ]
    },
    {
     "name": "stdout",
     "output_type": "stream",
     "text": [
      "TRACK 81  in  spotify:track:27ZZdyTSQWI7Cug2d2PkqV  COMPLETED\n"
     ]
    },
    {
     "name": "stderr",
     "output_type": "stream",
     "text": [
      "C:\\Users\\Uma Bala\\AppData\\Local\\Temp\\ipykernel_23008\\1248639595.py:50: FutureWarning: The frame.append method is deprecated and will be removed from pandas in a future version. Use pandas.concat instead.\n",
      "  df2 = df2.append(data, ignore_index=True)\n"
     ]
    },
    {
     "name": "stdout",
     "output_type": "stream",
     "text": [
      "TRACK 82  in  spotify:track:4umIPjkehX1r7uhmGvXiSV  COMPLETED\n"
     ]
    },
    {
     "name": "stderr",
     "output_type": "stream",
     "text": [
      "C:\\Users\\Uma Bala\\AppData\\Local\\Temp\\ipykernel_23008\\1248639595.py:50: FutureWarning: The frame.append method is deprecated and will be removed from pandas in a future version. Use pandas.concat instead.\n",
      "  df2 = df2.append(data, ignore_index=True)\n"
     ]
    },
    {
     "name": "stdout",
     "output_type": "stream",
     "text": [
      "TRACK 83  in  spotify:track:6WrI0LAC5M1Rw2MnX2ZvEg  COMPLETED\n"
     ]
    },
    {
     "name": "stderr",
     "output_type": "stream",
     "text": [
      "C:\\Users\\Uma Bala\\AppData\\Local\\Temp\\ipykernel_23008\\1248639595.py:50: FutureWarning: The frame.append method is deprecated and will be removed from pandas in a future version. Use pandas.concat instead.\n",
      "  df2 = df2.append(data, ignore_index=True)\n"
     ]
    },
    {
     "name": "stdout",
     "output_type": "stream",
     "text": [
      "TRACK 84  in  spotify:track:7szuecWAPwGoV1e5vGu8tl  COMPLETED\n"
     ]
    },
    {
     "name": "stderr",
     "output_type": "stream",
     "text": [
      "C:\\Users\\Uma Bala\\AppData\\Local\\Temp\\ipykernel_23008\\1248639595.py:50: FutureWarning: The frame.append method is deprecated and will be removed from pandas in a future version. Use pandas.concat instead.\n",
      "  df2 = df2.append(data, ignore_index=True)\n"
     ]
    },
    {
     "name": "stdout",
     "output_type": "stream",
     "text": [
      "TRACK 85  in  spotify:track:6Uj1ctrBOjOas8xZXGqKk4  COMPLETED\n"
     ]
    },
    {
     "name": "stderr",
     "output_type": "stream",
     "text": [
      "C:\\Users\\Uma Bala\\AppData\\Local\\Temp\\ipykernel_23008\\1248639595.py:50: FutureWarning: The frame.append method is deprecated and will be removed from pandas in a future version. Use pandas.concat instead.\n",
      "  df2 = df2.append(data, ignore_index=True)\n"
     ]
    },
    {
     "name": "stdout",
     "output_type": "stream",
     "text": [
      "TRACK 86  in  spotify:track:7eJMfftS33KTjuF7lTsMCx  COMPLETED\n"
     ]
    },
    {
     "name": "stderr",
     "output_type": "stream",
     "text": [
      "C:\\Users\\Uma Bala\\AppData\\Local\\Temp\\ipykernel_23008\\1248639595.py:50: FutureWarning: The frame.append method is deprecated and will be removed from pandas in a future version. Use pandas.concat instead.\n",
      "  df2 = df2.append(data, ignore_index=True)\n"
     ]
    },
    {
     "name": "stdout",
     "output_type": "stream",
     "text": [
      "TRACK 87  in  spotify:track:0tZkVZ9DeAa0MNK2gY5NtV  COMPLETED\n"
     ]
    },
    {
     "name": "stderr",
     "output_type": "stream",
     "text": [
      "C:\\Users\\Uma Bala\\AppData\\Local\\Temp\\ipykernel_23008\\1248639595.py:50: FutureWarning: The frame.append method is deprecated and will be removed from pandas in a future version. Use pandas.concat instead.\n",
      "  df2 = df2.append(data, ignore_index=True)\n"
     ]
    },
    {
     "name": "stdout",
     "output_type": "stream",
     "text": [
      "TRACK 88  in  spotify:track:0UeYCHOETPfai02uskjJ3x  COMPLETED\n"
     ]
    },
    {
     "name": "stderr",
     "output_type": "stream",
     "text": [
      "C:\\Users\\Uma Bala\\AppData\\Local\\Temp\\ipykernel_23008\\1248639595.py:50: FutureWarning: The frame.append method is deprecated and will be removed from pandas in a future version. Use pandas.concat instead.\n",
      "  df2 = df2.append(data, ignore_index=True)\n"
     ]
    },
    {
     "name": "stdout",
     "output_type": "stream",
     "text": [
      "TRACK 89  in  spotify:track:6gi6y1xwmVszDWkUqab1qw  COMPLETED\n"
     ]
    },
    {
     "name": "stderr",
     "output_type": "stream",
     "text": [
      "C:\\Users\\Uma Bala\\AppData\\Local\\Temp\\ipykernel_23008\\1248639595.py:50: FutureWarning: The frame.append method is deprecated and will be removed from pandas in a future version. Use pandas.concat instead.\n",
      "  df2 = df2.append(data, ignore_index=True)\n"
     ]
    },
    {
     "name": "stdout",
     "output_type": "stream",
     "text": [
      "TRACK 90  in  spotify:track:7hU3IHwjX150XLoTVmjD0q  COMPLETED\n"
     ]
    },
    {
     "name": "stderr",
     "output_type": "stream",
     "text": [
      "C:\\Users\\Uma Bala\\AppData\\Local\\Temp\\ipykernel_23008\\1248639595.py:50: FutureWarning: The frame.append method is deprecated and will be removed from pandas in a future version. Use pandas.concat instead.\n",
      "  df2 = df2.append(data, ignore_index=True)\n"
     ]
    },
    {
     "name": "stdout",
     "output_type": "stream",
     "text": [
      "TRACK 91  in  spotify:track:55CHeLEfn5iJ0IIkgaa4si  COMPLETED\n"
     ]
    },
    {
     "name": "stderr",
     "output_type": "stream",
     "text": [
      "C:\\Users\\Uma Bala\\AppData\\Local\\Temp\\ipykernel_23008\\1248639595.py:50: FutureWarning: The frame.append method is deprecated and will be removed from pandas in a future version. Use pandas.concat instead.\n",
      "  df2 = df2.append(data, ignore_index=True)\n"
     ]
    },
    {
     "name": "stdout",
     "output_type": "stream",
     "text": [
      "TRACK 92  in  spotify:track:6QHXcb0eFwOKZOZ9bOFmxm  COMPLETED\n"
     ]
    },
    {
     "name": "stderr",
     "output_type": "stream",
     "text": [
      "C:\\Users\\Uma Bala\\AppData\\Local\\Temp\\ipykernel_23008\\1248639595.py:50: FutureWarning: The frame.append method is deprecated and will be removed from pandas in a future version. Use pandas.concat instead.\n",
      "  df2 = df2.append(data, ignore_index=True)\n"
     ]
    },
    {
     "name": "stdout",
     "output_type": "stream",
     "text": [
      "TRACK 93  in  spotify:track:4z2JaAVPemYJhFKm7e32RA  COMPLETED\n"
     ]
    },
    {
     "name": "stderr",
     "output_type": "stream",
     "text": [
      "C:\\Users\\Uma Bala\\AppData\\Local\\Temp\\ipykernel_23008\\1248639595.py:50: FutureWarning: The frame.append method is deprecated and will be removed from pandas in a future version. Use pandas.concat instead.\n",
      "  df2 = df2.append(data, ignore_index=True)\n"
     ]
    },
    {
     "name": "stdout",
     "output_type": "stream",
     "text": [
      "TRACK 94  in  spotify:track:17phhZDn6oGtzMe56NuWvj  COMPLETED\n"
     ]
    },
    {
     "name": "stderr",
     "output_type": "stream",
     "text": [
      "C:\\Users\\Uma Bala\\AppData\\Local\\Temp\\ipykernel_23008\\1248639595.py:50: FutureWarning: The frame.append method is deprecated and will be removed from pandas in a future version. Use pandas.concat instead.\n",
      "  df2 = df2.append(data, ignore_index=True)\n"
     ]
    },
    {
     "name": "stdout",
     "output_type": "stream",
     "text": [
      "TRACK 95  in  spotify:track:59qrUpoplZxbIZxk6X0Bm3  COMPLETED\n"
     ]
    },
    {
     "name": "stderr",
     "output_type": "stream",
     "text": [
      "C:\\Users\\Uma Bala\\AppData\\Local\\Temp\\ipykernel_23008\\1248639595.py:50: FutureWarning: The frame.append method is deprecated and will be removed from pandas in a future version. Use pandas.concat instead.\n",
      "  df2 = df2.append(data, ignore_index=True)\n"
     ]
    },
    {
     "name": "stdout",
     "output_type": "stream",
     "text": [
      "TRACK 96  in  spotify:track:3F5CgOj3wFlRv51JsHbxhe  COMPLETED\n"
     ]
    },
    {
     "name": "stderr",
     "output_type": "stream",
     "text": [
      "C:\\Users\\Uma Bala\\AppData\\Local\\Temp\\ipykernel_23008\\1248639595.py:50: FutureWarning: The frame.append method is deprecated and will be removed from pandas in a future version. Use pandas.concat instead.\n",
      "  df2 = df2.append(data, ignore_index=True)\n"
     ]
    },
    {
     "name": "stdout",
     "output_type": "stream",
     "text": [
      "TRACK 97  in  spotify:track:6Pgmqg15yVexuOgtzuxwoX  COMPLETED\n"
     ]
    },
    {
     "name": "stderr",
     "output_type": "stream",
     "text": [
      "C:\\Users\\Uma Bala\\AppData\\Local\\Temp\\ipykernel_23008\\1248639595.py:50: FutureWarning: The frame.append method is deprecated and will be removed from pandas in a future version. Use pandas.concat instead.\n",
      "  df2 = df2.append(data, ignore_index=True)\n"
     ]
    },
    {
     "name": "stdout",
     "output_type": "stream",
     "text": [
      "TRACK 98  in  spotify:track:5p7ujcrUXASCNwRaWNHR1C  COMPLETED\n"
     ]
    },
    {
     "name": "stderr",
     "output_type": "stream",
     "text": [
      "C:\\Users\\Uma Bala\\AppData\\Local\\Temp\\ipykernel_23008\\1248639595.py:50: FutureWarning: The frame.append method is deprecated and will be removed from pandas in a future version. Use pandas.concat instead.\n",
      "  df2 = df2.append(data, ignore_index=True)\n"
     ]
    },
    {
     "name": "stdout",
     "output_type": "stream",
     "text": [
      "TRACK 99  in  spotify:track:0WtM2NBVQNNJLh6scP13H8  COMPLETED\n"
     ]
    },
    {
     "name": "stderr",
     "output_type": "stream",
     "text": [
      "C:\\Users\\Uma Bala\\AppData\\Local\\Temp\\ipykernel_23008\\1248639595.py:50: FutureWarning: The frame.append method is deprecated and will be removed from pandas in a future version. Use pandas.concat instead.\n",
      "  df2 = df2.append(data, ignore_index=True)\n"
     ]
    },
    {
     "name": "stdout",
     "output_type": "stream",
     "text": [
      "TRACK 100  in  spotify:track:78Sw5GDo6AlGwTwanjXbGh  COMPLETED\n"
     ]
    },
    {
     "name": "stderr",
     "output_type": "stream",
     "text": [
      "C:\\Users\\Uma Bala\\AppData\\Local\\Temp\\ipykernel_23008\\1248639595.py:50: FutureWarning: The frame.append method is deprecated and will be removed from pandas in a future version. Use pandas.concat instead.\n",
      "  df2 = df2.append(data, ignore_index=True)\n"
     ]
    },
    {
     "name": "stdout",
     "output_type": "stream",
     "text": [
      "TRACK 1  in  spotify:track:2IGMVunIBsBLtEQyoI1Mu7  COMPLETED\n"
     ]
    },
    {
     "name": "stderr",
     "output_type": "stream",
     "text": [
      "C:\\Users\\Uma Bala\\AppData\\Local\\Temp\\ipykernel_23008\\1248639595.py:50: FutureWarning: The frame.append method is deprecated and will be removed from pandas in a future version. Use pandas.concat instead.\n",
      "  df2 = df2.append(data, ignore_index=True)\n"
     ]
    },
    {
     "name": "stdout",
     "output_type": "stream",
     "text": [
      "TRACK 2  in  spotify:track:3B228N0GxfUCwPyfNcJxps  COMPLETED\n"
     ]
    },
    {
     "name": "stderr",
     "output_type": "stream",
     "text": [
      "C:\\Users\\Uma Bala\\AppData\\Local\\Temp\\ipykernel_23008\\1248639595.py:50: FutureWarning: The frame.append method is deprecated and will be removed from pandas in a future version. Use pandas.concat instead.\n",
      "  df2 = df2.append(data, ignore_index=True)\n"
     ]
    },
    {
     "name": "stdout",
     "output_type": "stream",
     "text": [
      "TRACK 3  in  spotify:track:7x9aauaA9cu6tyfpHnqDLo  COMPLETED\n"
     ]
    },
    {
     "name": "stderr",
     "output_type": "stream",
     "text": [
      "C:\\Users\\Uma Bala\\AppData\\Local\\Temp\\ipykernel_23008\\1248639595.py:50: FutureWarning: The frame.append method is deprecated and will be removed from pandas in a future version. Use pandas.concat instead.\n",
      "  df2 = df2.append(data, ignore_index=True)\n"
     ]
    },
    {
     "name": "stdout",
     "output_type": "stream",
     "text": [
      "TRACK 4  in  spotify:track:4pH8cIlMI9NrTWcDiQbuRe  COMPLETED\n"
     ]
    },
    {
     "name": "stderr",
     "output_type": "stream",
     "text": [
      "C:\\Users\\Uma Bala\\AppData\\Local\\Temp\\ipykernel_23008\\1248639595.py:50: FutureWarning: The frame.append method is deprecated and will be removed from pandas in a future version. Use pandas.concat instead.\n",
      "  df2 = df2.append(data, ignore_index=True)\n"
     ]
    },
    {
     "name": "stdout",
     "output_type": "stream",
     "text": [
      "TRACK 5  in  spotify:track:6wf7Yu7cxBSPrRlWeSeK0Q  COMPLETED\n"
     ]
    },
    {
     "name": "stderr",
     "output_type": "stream",
     "text": [
      "C:\\Users\\Uma Bala\\AppData\\Local\\Temp\\ipykernel_23008\\1248639595.py:50: FutureWarning: The frame.append method is deprecated and will be removed from pandas in a future version. Use pandas.concat instead.\n",
      "  df2 = df2.append(data, ignore_index=True)\n"
     ]
    },
    {
     "name": "stdout",
     "output_type": "stream",
     "text": [
      "TRACK 6  in  spotify:track:4TNFLwe6DhtR3Wn1JKMqMJ  COMPLETED\n"
     ]
    },
    {
     "name": "stderr",
     "output_type": "stream",
     "text": [
      "C:\\Users\\Uma Bala\\AppData\\Local\\Temp\\ipykernel_23008\\1248639595.py:50: FutureWarning: The frame.append method is deprecated and will be removed from pandas in a future version. Use pandas.concat instead.\n",
      "  df2 = df2.append(data, ignore_index=True)\n"
     ]
    },
    {
     "name": "stdout",
     "output_type": "stream",
     "text": [
      "TRACK 7  in  spotify:track:59NraMJsLaMCVtwXTSia8i  COMPLETED\n"
     ]
    },
    {
     "name": "stderr",
     "output_type": "stream",
     "text": [
      "C:\\Users\\Uma Bala\\AppData\\Local\\Temp\\ipykernel_23008\\1248639595.py:50: FutureWarning: The frame.append method is deprecated and will be removed from pandas in a future version. Use pandas.concat instead.\n",
      "  df2 = df2.append(data, ignore_index=True)\n"
     ]
    },
    {
     "name": "stdout",
     "output_type": "stream",
     "text": [
      "TRACK 8  in  spotify:track:741UUVE2kuITl0c6zuqqbO  COMPLETED\n"
     ]
    },
    {
     "name": "stderr",
     "output_type": "stream",
     "text": [
      "C:\\Users\\Uma Bala\\AppData\\Local\\Temp\\ipykernel_23008\\1248639595.py:50: FutureWarning: The frame.append method is deprecated and will be removed from pandas in a future version. Use pandas.concat instead.\n",
      "  df2 = df2.append(data, ignore_index=True)\n"
     ]
    },
    {
     "name": "stdout",
     "output_type": "stream",
     "text": [
      "TRACK 9  in  spotify:track:3QhfFRPkhPCR1RMJWV1gde  COMPLETED\n"
     ]
    },
    {
     "name": "stderr",
     "output_type": "stream",
     "text": [
      "C:\\Users\\Uma Bala\\AppData\\Local\\Temp\\ipykernel_23008\\1248639595.py:50: FutureWarning: The frame.append method is deprecated and will be removed from pandas in a future version. Use pandas.concat instead.\n",
      "  df2 = df2.append(data, ignore_index=True)\n"
     ]
    },
    {
     "name": "stdout",
     "output_type": "stream",
     "text": [
      "TRACK 10  in  spotify:track:6RCFgfKcjqAqjREp8gPopI  COMPLETED\n"
     ]
    },
    {
     "name": "stderr",
     "output_type": "stream",
     "text": [
      "C:\\Users\\Uma Bala\\AppData\\Local\\Temp\\ipykernel_23008\\1248639595.py:50: FutureWarning: The frame.append method is deprecated and will be removed from pandas in a future version. Use pandas.concat instead.\n",
      "  df2 = df2.append(data, ignore_index=True)\n"
     ]
    },
    {
     "name": "stdout",
     "output_type": "stream",
     "text": [
      "TRACK 11  in  spotify:track:5XtsfMFmpM401S6dbVaOQw  COMPLETED\n"
     ]
    },
    {
     "name": "stderr",
     "output_type": "stream",
     "text": [
      "C:\\Users\\Uma Bala\\AppData\\Local\\Temp\\ipykernel_23008\\1248639595.py:50: FutureWarning: The frame.append method is deprecated and will be removed from pandas in a future version. Use pandas.concat instead.\n",
      "  df2 = df2.append(data, ignore_index=True)\n"
     ]
    },
    {
     "name": "stdout",
     "output_type": "stream",
     "text": [
      "TRACK 12  in  spotify:track:1odExI7RdWc4BT515LTAwj  COMPLETED\n"
     ]
    },
    {
     "name": "stderr",
     "output_type": "stream",
     "text": [
      "C:\\Users\\Uma Bala\\AppData\\Local\\Temp\\ipykernel_23008\\1248639595.py:50: FutureWarning: The frame.append method is deprecated and will be removed from pandas in a future version. Use pandas.concat instead.\n",
      "  df2 = df2.append(data, ignore_index=True)\n"
     ]
    },
    {
     "name": "stdout",
     "output_type": "stream",
     "text": [
      "TRACK 13  in  spotify:track:6AQbmUe0Qwf5PZnt4HmTXv  COMPLETED\n"
     ]
    },
    {
     "name": "stderr",
     "output_type": "stream",
     "text": [
      "C:\\Users\\Uma Bala\\AppData\\Local\\Temp\\ipykernel_23008\\1248639595.py:50: FutureWarning: The frame.append method is deprecated and will be removed from pandas in a future version. Use pandas.concat instead.\n",
      "  df2 = df2.append(data, ignore_index=True)\n"
     ]
    },
    {
     "name": "stdout",
     "output_type": "stream",
     "text": [
      "TRACK 14  in  spotify:track:73RbfOTJIjHzi2pcVHjeHM  COMPLETED\n"
     ]
    },
    {
     "name": "stderr",
     "output_type": "stream",
     "text": [
      "C:\\Users\\Uma Bala\\AppData\\Local\\Temp\\ipykernel_23008\\1248639595.py:50: FutureWarning: The frame.append method is deprecated and will be removed from pandas in a future version. Use pandas.concat instead.\n",
      "  df2 = df2.append(data, ignore_index=True)\n"
     ]
    },
    {
     "name": "stdout",
     "output_type": "stream",
     "text": [
      "TRACK 15  in  spotify:track:11IRT5J1GXT4bW55x3ESe4  COMPLETED\n"
     ]
    },
    {
     "name": "stderr",
     "output_type": "stream",
     "text": [
      "C:\\Users\\Uma Bala\\AppData\\Local\\Temp\\ipykernel_23008\\1248639595.py:50: FutureWarning: The frame.append method is deprecated and will be removed from pandas in a future version. Use pandas.concat instead.\n",
      "  df2 = df2.append(data, ignore_index=True)\n"
     ]
    },
    {
     "name": "stdout",
     "output_type": "stream",
     "text": [
      "TRACK 16  in  spotify:track:7KA4W4McWYRpgf0fWsJZWB  COMPLETED\n"
     ]
    },
    {
     "name": "stderr",
     "output_type": "stream",
     "text": [
      "C:\\Users\\Uma Bala\\AppData\\Local\\Temp\\ipykernel_23008\\1248639595.py:50: FutureWarning: The frame.append method is deprecated and will be removed from pandas in a future version. Use pandas.concat instead.\n",
      "  df2 = df2.append(data, ignore_index=True)\n"
     ]
    },
    {
     "name": "stdout",
     "output_type": "stream",
     "text": [
      "TRACK 17  in  spotify:track:1slDsIJxew9AOOA3v0xFzn  COMPLETED\n"
     ]
    },
    {
     "name": "stderr",
     "output_type": "stream",
     "text": [
      "C:\\Users\\Uma Bala\\AppData\\Local\\Temp\\ipykernel_23008\\1248639595.py:50: FutureWarning: The frame.append method is deprecated and will be removed from pandas in a future version. Use pandas.concat instead.\n",
      "  df2 = df2.append(data, ignore_index=True)\n"
     ]
    },
    {
     "name": "stdout",
     "output_type": "stream",
     "text": [
      "TRACK 18  in  spotify:track:39sDitIeCMrVX2QyXHY46t  COMPLETED\n"
     ]
    },
    {
     "name": "stderr",
     "output_type": "stream",
     "text": [
      "C:\\Users\\Uma Bala\\AppData\\Local\\Temp\\ipykernel_23008\\1248639595.py:50: FutureWarning: The frame.append method is deprecated and will be removed from pandas in a future version. Use pandas.concat instead.\n",
      "  df2 = df2.append(data, ignore_index=True)\n"
     ]
    },
    {
     "name": "stdout",
     "output_type": "stream",
     "text": [
      "TRACK 19  in  spotify:track:3RfTeIrWS8LNrfHYwechtt  COMPLETED\n"
     ]
    },
    {
     "name": "stderr",
     "output_type": "stream",
     "text": [
      "C:\\Users\\Uma Bala\\AppData\\Local\\Temp\\ipykernel_23008\\1248639595.py:50: FutureWarning: The frame.append method is deprecated and will be removed from pandas in a future version. Use pandas.concat instead.\n",
      "  df2 = df2.append(data, ignore_index=True)\n"
     ]
    },
    {
     "name": "stdout",
     "output_type": "stream",
     "text": [
      "TRACK 20  in  spotify:track:6obDBSHz63Lqojxd0p1di2  COMPLETED\n"
     ]
    },
    {
     "name": "stderr",
     "output_type": "stream",
     "text": [
      "C:\\Users\\Uma Bala\\AppData\\Local\\Temp\\ipykernel_23008\\1248639595.py:50: FutureWarning: The frame.append method is deprecated and will be removed from pandas in a future version. Use pandas.concat instead.\n",
      "  df2 = df2.append(data, ignore_index=True)\n",
      "C:\\Users\\Uma Bala\\AppData\\Local\\Temp\\ipykernel_23008\\1248639595.py:50: FutureWarning: The frame.append method is deprecated and will be removed from pandas in a future version. Use pandas.concat instead.\n",
      "  df2 = df2.append(data, ignore_index=True)\n"
     ]
    },
    {
     "name": "stdout",
     "output_type": "stream",
     "text": [
      "TRACK 21  in  spotify:track:78Sw5GDo6AlGwTwanjXbGh  COMPLETED\n",
      "TRACK 22  in  spotify:track:6GD1eomgaGT1Epto6Q5eAo  COMPLETED\n"
     ]
    },
    {
     "name": "stderr",
     "output_type": "stream",
     "text": [
      "C:\\Users\\Uma Bala\\AppData\\Local\\Temp\\ipykernel_23008\\1248639595.py:50: FutureWarning: The frame.append method is deprecated and will be removed from pandas in a future version. Use pandas.concat instead.\n",
      "  df2 = df2.append(data, ignore_index=True)\n"
     ]
    },
    {
     "name": "stdout",
     "output_type": "stream",
     "text": [
      "TRACK 23  in  spotify:track:5CM4UuQ9Gnd6K2YyKGPMoK  COMPLETED\n"
     ]
    },
    {
     "name": "stderr",
     "output_type": "stream",
     "text": [
      "C:\\Users\\Uma Bala\\AppData\\Local\\Temp\\ipykernel_23008\\1248639595.py:50: FutureWarning: The frame.append method is deprecated and will be removed from pandas in a future version. Use pandas.concat instead.\n",
      "  df2 = df2.append(data, ignore_index=True)\n"
     ]
    },
    {
     "name": "stdout",
     "output_type": "stream",
     "text": [
      "TRACK 24  in  spotify:track:4gh0ZnHzaTMT1sDga7Ek0N  COMPLETED\n"
     ]
    },
    {
     "name": "stderr",
     "output_type": "stream",
     "text": [
      "C:\\Users\\Uma Bala\\AppData\\Local\\Temp\\ipykernel_23008\\1248639595.py:50: FutureWarning: The frame.append method is deprecated and will be removed from pandas in a future version. Use pandas.concat instead.\n",
      "  df2 = df2.append(data, ignore_index=True)\n"
     ]
    },
    {
     "name": "stdout",
     "output_type": "stream",
     "text": [
      "TRACK 25  in  spotify:track:7IyDgdWUnnzAozKieIC2L5  COMPLETED\n"
     ]
    },
    {
     "name": "stderr",
     "output_type": "stream",
     "text": [
      "C:\\Users\\Uma Bala\\AppData\\Local\\Temp\\ipykernel_23008\\1248639595.py:50: FutureWarning: The frame.append method is deprecated and will be removed from pandas in a future version. Use pandas.concat instead.\n",
      "  df2 = df2.append(data, ignore_index=True)\n",
      "C:\\Users\\Uma Bala\\AppData\\Local\\Temp\\ipykernel_23008\\1248639595.py:50: FutureWarning: The frame.append method is deprecated and will be removed from pandas in a future version. Use pandas.concat instead.\n",
      "  df2 = df2.append(data, ignore_index=True)\n"
     ]
    },
    {
     "name": "stdout",
     "output_type": "stream",
     "text": [
      "TRACK 26  in  spotify:track:559SdaPI7mqy9IQiscuaMj  COMPLETED\n",
      "TRACK 27  in  spotify:track:6GGtHZgBycCgGBUhZo81xe  COMPLETED\n"
     ]
    },
    {
     "name": "stderr",
     "output_type": "stream",
     "text": [
      "C:\\Users\\Uma Bala\\AppData\\Local\\Temp\\ipykernel_23008\\1248639595.py:50: FutureWarning: The frame.append method is deprecated and will be removed from pandas in a future version. Use pandas.concat instead.\n",
      "  df2 = df2.append(data, ignore_index=True)\n",
      "C:\\Users\\Uma Bala\\AppData\\Local\\Temp\\ipykernel_23008\\1248639595.py:50: FutureWarning: The frame.append method is deprecated and will be removed from pandas in a future version. Use pandas.concat instead.\n",
      "  df2 = df2.append(data, ignore_index=True)\n"
     ]
    },
    {
     "name": "stdout",
     "output_type": "stream",
     "text": [
      "TRACK 28  in  spotify:track:6HdnJMzfArQj7CBBbtvT2R  COMPLETED\n",
      "TRACK 29  in  spotify:track:45bfH0GZvUyujIBiKRhXso  COMPLETED\n"
     ]
    },
    {
     "name": "stderr",
     "output_type": "stream",
     "text": [
      "C:\\Users\\Uma Bala\\AppData\\Local\\Temp\\ipykernel_23008\\1248639595.py:50: FutureWarning: The frame.append method is deprecated and will be removed from pandas in a future version. Use pandas.concat instead.\n",
      "  df2 = df2.append(data, ignore_index=True)\n"
     ]
    },
    {
     "name": "stdout",
     "output_type": "stream",
     "text": [
      "TRACK 30  in  spotify:track:0JFHzUJPMYDiTtG1Jq5uLp  COMPLETED\n"
     ]
    },
    {
     "name": "stderr",
     "output_type": "stream",
     "text": [
      "C:\\Users\\Uma Bala\\AppData\\Local\\Temp\\ipykernel_23008\\1248639595.py:50: FutureWarning: The frame.append method is deprecated and will be removed from pandas in a future version. Use pandas.concat instead.\n",
      "  df2 = df2.append(data, ignore_index=True)\n"
     ]
    },
    {
     "name": "stdout",
     "output_type": "stream",
     "text": [
      "TRACK 31  in  spotify:track:2dHHgzDwk4BJdRwy9uXhTO  COMPLETED\n"
     ]
    },
    {
     "name": "stderr",
     "output_type": "stream",
     "text": [
      "C:\\Users\\Uma Bala\\AppData\\Local\\Temp\\ipykernel_23008\\1248639595.py:50: FutureWarning: The frame.append method is deprecated and will be removed from pandas in a future version. Use pandas.concat instead.\n",
      "  df2 = df2.append(data, ignore_index=True)\n"
     ]
    },
    {
     "name": "stdout",
     "output_type": "stream",
     "text": [
      "TRACK 32  in  spotify:track:6xGruZOHLs39ZbVccQTuPZ  COMPLETED\n"
     ]
    },
    {
     "name": "stderr",
     "output_type": "stream",
     "text": [
      "C:\\Users\\Uma Bala\\AppData\\Local\\Temp\\ipykernel_23008\\1248639595.py:50: FutureWarning: The frame.append method is deprecated and will be removed from pandas in a future version. Use pandas.concat instead.\n",
      "  df2 = df2.append(data, ignore_index=True)\n"
     ]
    },
    {
     "name": "stdout",
     "output_type": "stream",
     "text": [
      "TRACK 33  in  spotify:track:0yLdNVWF3Srea0uzk55zFn  COMPLETED\n"
     ]
    },
    {
     "name": "stderr",
     "output_type": "stream",
     "text": [
      "C:\\Users\\Uma Bala\\AppData\\Local\\Temp\\ipykernel_23008\\1248639595.py:50: FutureWarning: The frame.append method is deprecated and will be removed from pandas in a future version. Use pandas.concat instead.\n",
      "  df2 = df2.append(data, ignore_index=True)\n"
     ]
    },
    {
     "name": "stdout",
     "output_type": "stream",
     "text": [
      "TRACK 34  in  spotify:track:2cSdAkzAf2T4j4aLvx4LLz  COMPLETED\n"
     ]
    },
    {
     "name": "stderr",
     "output_type": "stream",
     "text": [
      "C:\\Users\\Uma Bala\\AppData\\Local\\Temp\\ipykernel_23008\\1248639595.py:50: FutureWarning: The frame.append method is deprecated and will be removed from pandas in a future version. Use pandas.concat instead.\n",
      "  df2 = df2.append(data, ignore_index=True)\n"
     ]
    },
    {
     "name": "stdout",
     "output_type": "stream",
     "text": [
      "TRACK 35  in  spotify:track:3PloICdhFb9lyiys8cpJTA  COMPLETED\n"
     ]
    },
    {
     "name": "stderr",
     "output_type": "stream",
     "text": [
      "C:\\Users\\Uma Bala\\AppData\\Local\\Temp\\ipykernel_23008\\1248639595.py:50: FutureWarning: The frame.append method is deprecated and will be removed from pandas in a future version. Use pandas.concat instead.\n",
      "  df2 = df2.append(data, ignore_index=True)\n"
     ]
    },
    {
     "name": "stdout",
     "output_type": "stream",
     "text": [
      "TRACK 36  in  spotify:track:2i2gDpKKWjvnRTOZRhaPh2  COMPLETED\n"
     ]
    },
    {
     "name": "stderr",
     "output_type": "stream",
     "text": [
      "C:\\Users\\Uma Bala\\AppData\\Local\\Temp\\ipykernel_23008\\1248639595.py:50: FutureWarning: The frame.append method is deprecated and will be removed from pandas in a future version. Use pandas.concat instead.\n",
      "  df2 = df2.append(data, ignore_index=True)\n"
     ]
    },
    {
     "name": "stdout",
     "output_type": "stream",
     "text": [
      "TRACK 37  in  spotify:track:1635wWSdp29PO3GxYhy991  COMPLETED\n"
     ]
    },
    {
     "name": "stderr",
     "output_type": "stream",
     "text": [
      "C:\\Users\\Uma Bala\\AppData\\Local\\Temp\\ipykernel_23008\\1248639595.py:50: FutureWarning: The frame.append method is deprecated and will be removed from pandas in a future version. Use pandas.concat instead.\n",
      "  df2 = df2.append(data, ignore_index=True)\n"
     ]
    },
    {
     "name": "stdout",
     "output_type": "stream",
     "text": [
      "TRACK 38  in  spotify:track:2e8T2mqDXpqc8X1PUr6TCR  COMPLETED\n"
     ]
    },
    {
     "name": "stderr",
     "output_type": "stream",
     "text": [
      "C:\\Users\\Uma Bala\\AppData\\Local\\Temp\\ipykernel_23008\\1248639595.py:50: FutureWarning: The frame.append method is deprecated and will be removed from pandas in a future version. Use pandas.concat instead.\n",
      "  df2 = df2.append(data, ignore_index=True)\n",
      "C:\\Users\\Uma Bala\\AppData\\Local\\Temp\\ipykernel_23008\\1248639595.py:50: FutureWarning: The frame.append method is deprecated and will be removed from pandas in a future version. Use pandas.concat instead.\n",
      "  df2 = df2.append(data, ignore_index=True)\n"
     ]
    },
    {
     "name": "stdout",
     "output_type": "stream",
     "text": [
      "TRACK 39  in  spotify:track:1Qrg8KqiBpW07V7PNxwwwL  COMPLETED\n",
      "TRACK 40  in  spotify:track:7o58cH5WdAa2UyOhcTRVL2  COMPLETED\n",
      "TRACK 41  in  spotify:track:4FyesJzVpA39hbYvcseO2d  COMPLETED\n"
     ]
    },
    {
     "name": "stderr",
     "output_type": "stream",
     "text": [
      "C:\\Users\\Uma Bala\\AppData\\Local\\Temp\\ipykernel_23008\\1248639595.py:50: FutureWarning: The frame.append method is deprecated and will be removed from pandas in a future version. Use pandas.concat instead.\n",
      "  df2 = df2.append(data, ignore_index=True)\n",
      "C:\\Users\\Uma Bala\\AppData\\Local\\Temp\\ipykernel_23008\\1248639595.py:50: FutureWarning: The frame.append method is deprecated and will be removed from pandas in a future version. Use pandas.concat instead.\n",
      "  df2 = df2.append(data, ignore_index=True)\n",
      "C:\\Users\\Uma Bala\\AppData\\Local\\Temp\\ipykernel_23008\\1248639595.py:50: FutureWarning: The frame.append method is deprecated and will be removed from pandas in a future version. Use pandas.concat instead.\n",
      "  df2 = df2.append(data, ignore_index=True)\n"
     ]
    },
    {
     "name": "stdout",
     "output_type": "stream",
     "text": [
      "TRACK 42  in  spotify:track:0yc6Gst2xkRu0eMLeRMGCX  COMPLETED\n",
      "TRACK 43  in  spotify:track:1Fid2jjqsHViMX6xNH70hE  COMPLETED\n"
     ]
    },
    {
     "name": "stderr",
     "output_type": "stream",
     "text": [
      "C:\\Users\\Uma Bala\\AppData\\Local\\Temp\\ipykernel_23008\\1248639595.py:50: FutureWarning: The frame.append method is deprecated and will be removed from pandas in a future version. Use pandas.concat instead.\n",
      "  df2 = df2.append(data, ignore_index=True)\n"
     ]
    },
    {
     "name": "stdout",
     "output_type": "stream",
     "text": [
      "TRACK 44  in  spotify:track:04ZSI5uBMHJXlvt2Fpla6i  COMPLETED\n"
     ]
    },
    {
     "name": "stderr",
     "output_type": "stream",
     "text": [
      "C:\\Users\\Uma Bala\\AppData\\Local\\Temp\\ipykernel_23008\\1248639595.py:50: FutureWarning: The frame.append method is deprecated and will be removed from pandas in a future version. Use pandas.concat instead.\n",
      "  df2 = df2.append(data, ignore_index=True)\n"
     ]
    },
    {
     "name": "stdout",
     "output_type": "stream",
     "text": [
      "TRACK 45  in  spotify:track:02MWAaffLxlfxAUY7c5dvx  COMPLETED\n"
     ]
    },
    {
     "name": "stderr",
     "output_type": "stream",
     "text": [
      "C:\\Users\\Uma Bala\\AppData\\Local\\Temp\\ipykernel_23008\\1248639595.py:50: FutureWarning: The frame.append method is deprecated and will be removed from pandas in a future version. Use pandas.concat instead.\n",
      "  df2 = df2.append(data, ignore_index=True)\n"
     ]
    },
    {
     "name": "stdout",
     "output_type": "stream",
     "text": [
      "TRACK 46  in  spotify:track:0sOd92pWQ8YNFWzCZBYRZ6  COMPLETED\n"
     ]
    },
    {
     "name": "stderr",
     "output_type": "stream",
     "text": [
      "C:\\Users\\Uma Bala\\AppData\\Local\\Temp\\ipykernel_23008\\1248639595.py:50: FutureWarning: The frame.append method is deprecated and will be removed from pandas in a future version. Use pandas.concat instead.\n",
      "  df2 = df2.append(data, ignore_index=True)\n"
     ]
    },
    {
     "name": "stdout",
     "output_type": "stream",
     "text": [
      "TRACK 47  in  spotify:track:4h9wh7iOZ0GGn8QVp4RAOB  COMPLETED\n"
     ]
    },
    {
     "name": "stderr",
     "output_type": "stream",
     "text": [
      "C:\\Users\\Uma Bala\\AppData\\Local\\Temp\\ipykernel_23008\\1248639595.py:50: FutureWarning: The frame.append method is deprecated and will be removed from pandas in a future version. Use pandas.concat instead.\n",
      "  df2 = df2.append(data, ignore_index=True)\n"
     ]
    },
    {
     "name": "stdout",
     "output_type": "stream",
     "text": [
      "TRACK 48  in  spotify:track:6ERQXSMM2RDVsJbuSSZLEX  COMPLETED\n"
     ]
    },
    {
     "name": "stderr",
     "output_type": "stream",
     "text": [
      "C:\\Users\\Uma Bala\\AppData\\Local\\Temp\\ipykernel_23008\\1248639595.py:50: FutureWarning: The frame.append method is deprecated and will be removed from pandas in a future version. Use pandas.concat instead.\n",
      "  df2 = df2.append(data, ignore_index=True)\n"
     ]
    },
    {
     "name": "stdout",
     "output_type": "stream",
     "text": [
      "TRACK 49  in  spotify:track:1gH1h30wkQdd9zhY3j7a8T  COMPLETED\n"
     ]
    },
    {
     "name": "stderr",
     "output_type": "stream",
     "text": [
      "C:\\Users\\Uma Bala\\AppData\\Local\\Temp\\ipykernel_23008\\1248639595.py:50: FutureWarning: The frame.append method is deprecated and will be removed from pandas in a future version. Use pandas.concat instead.\n",
      "  df2 = df2.append(data, ignore_index=True)\n"
     ]
    },
    {
     "name": "stdout",
     "output_type": "stream",
     "text": [
      "TRACK 50  in  spotify:track:5Wm3pvd8VvareekRsF0RmH  COMPLETED\n"
     ]
    },
    {
     "name": "stderr",
     "output_type": "stream",
     "text": [
      "C:\\Users\\Uma Bala\\AppData\\Local\\Temp\\ipykernel_23008\\1248639595.py:50: FutureWarning: The frame.append method is deprecated and will be removed from pandas in a future version. Use pandas.concat instead.\n",
      "  df2 = df2.append(data, ignore_index=True)\n"
     ]
    },
    {
     "name": "stdout",
     "output_type": "stream",
     "text": [
      "TRACK 51  in  spotify:track:4LRPiXqCikLlN15c3yImP7  COMPLETED\n"
     ]
    },
    {
     "name": "stderr",
     "output_type": "stream",
     "text": [
      "C:\\Users\\Uma Bala\\AppData\\Local\\Temp\\ipykernel_23008\\1248639595.py:50: FutureWarning: The frame.append method is deprecated and will be removed from pandas in a future version. Use pandas.concat instead.\n",
      "  df2 = df2.append(data, ignore_index=True)\n",
      "C:\\Users\\Uma Bala\\AppData\\Local\\Temp\\ipykernel_23008\\1248639595.py:50: FutureWarning: The frame.append method is deprecated and will be removed from pandas in a future version. Use pandas.concat instead.\n",
      "  df2 = df2.append(data, ignore_index=True)\n"
     ]
    },
    {
     "name": "stdout",
     "output_type": "stream",
     "text": [
      "TRACK 52  in  spotify:track:1ZdhOMWyFR8Iv9eylMGYg2  COMPLETED\n",
      "TRACK 53  in  spotify:track:0e8nrvls4Qqv5Rfa2UhqmO  COMPLETED\n"
     ]
    },
    {
     "name": "stderr",
     "output_type": "stream",
     "text": [
      "C:\\Users\\Uma Bala\\AppData\\Local\\Temp\\ipykernel_23008\\1248639595.py:50: FutureWarning: The frame.append method is deprecated and will be removed from pandas in a future version. Use pandas.concat instead.\n",
      "  df2 = df2.append(data, ignore_index=True)\n",
      "C:\\Users\\Uma Bala\\AppData\\Local\\Temp\\ipykernel_23008\\1248639595.py:50: FutureWarning: The frame.append method is deprecated and will be removed from pandas in a future version. Use pandas.concat instead.\n",
      "  df2 = df2.append(data, ignore_index=True)\n"
     ]
    },
    {
     "name": "stdout",
     "output_type": "stream",
     "text": [
      "TRACK 54  in  spotify:track:1M8t1j3Kv2qp97bdq5q4Vl  COMPLETED\n",
      "TRACK 55  in  spotify:track:3BoUf5VCCJY9WhMLDhwcoX  COMPLETED\n"
     ]
    },
    {
     "name": "stderr",
     "output_type": "stream",
     "text": [
      "C:\\Users\\Uma Bala\\AppData\\Local\\Temp\\ipykernel_23008\\1248639595.py:50: FutureWarning: The frame.append method is deprecated and will be removed from pandas in a future version. Use pandas.concat instead.\n",
      "  df2 = df2.append(data, ignore_index=True)\n",
      "C:\\Users\\Uma Bala\\AppData\\Local\\Temp\\ipykernel_23008\\1248639595.py:50: FutureWarning: The frame.append method is deprecated and will be removed from pandas in a future version. Use pandas.concat instead.\n",
      "  df2 = df2.append(data, ignore_index=True)\n"
     ]
    },
    {
     "name": "stdout",
     "output_type": "stream",
     "text": [
      "TRACK 56  in  spotify:track:79nEEoEPY2w8EXj9hjn5oc  COMPLETED\n",
      "TRACK 57  in  spotify:track:4XBdvip0omItMcq8fkbey6  COMPLETED\n"
     ]
    },
    {
     "name": "stderr",
     "output_type": "stream",
     "text": [
      "C:\\Users\\Uma Bala\\AppData\\Local\\Temp\\ipykernel_23008\\1248639595.py:50: FutureWarning: The frame.append method is deprecated and will be removed from pandas in a future version. Use pandas.concat instead.\n",
      "  df2 = df2.append(data, ignore_index=True)\n"
     ]
    },
    {
     "name": "stdout",
     "output_type": "stream",
     "text": [
      "TRACK 58  in  spotify:track:1r9xUipOqoNwggBpENDsvJ  COMPLETED\n"
     ]
    },
    {
     "name": "stderr",
     "output_type": "stream",
     "text": [
      "C:\\Users\\Uma Bala\\AppData\\Local\\Temp\\ipykernel_23008\\1248639595.py:50: FutureWarning: The frame.append method is deprecated and will be removed from pandas in a future version. Use pandas.concat instead.\n",
      "  df2 = df2.append(data, ignore_index=True)\n"
     ]
    },
    {
     "name": "stdout",
     "output_type": "stream",
     "text": [
      "TRACK 59  in  spotify:track:27NovPIUIRrOZoCHxABJwK  COMPLETED\n"
     ]
    },
    {
     "name": "stderr",
     "output_type": "stream",
     "text": [
      "C:\\Users\\Uma Bala\\AppData\\Local\\Temp\\ipykernel_23008\\1248639595.py:50: FutureWarning: The frame.append method is deprecated and will be removed from pandas in a future version. Use pandas.concat instead.\n",
      "  df2 = df2.append(data, ignore_index=True)\n"
     ]
    },
    {
     "name": "stdout",
     "output_type": "stream",
     "text": [
      "TRACK 60  in  spotify:track:1pR2UarZ32VOAWuN3RSgJr  COMPLETED\n"
     ]
    },
    {
     "name": "stderr",
     "output_type": "stream",
     "text": [
      "C:\\Users\\Uma Bala\\AppData\\Local\\Temp\\ipykernel_23008\\1248639595.py:50: FutureWarning: The frame.append method is deprecated and will be removed from pandas in a future version. Use pandas.concat instead.\n",
      "  df2 = df2.append(data, ignore_index=True)\n"
     ]
    },
    {
     "name": "stdout",
     "output_type": "stream",
     "text": [
      "TRACK 61  in  spotify:track:1bDbXMyjaUIooNwFE9wn0N  COMPLETED\n"
     ]
    },
    {
     "name": "stderr",
     "output_type": "stream",
     "text": [
      "C:\\Users\\Uma Bala\\AppData\\Local\\Temp\\ipykernel_23008\\1248639595.py:50: FutureWarning: The frame.append method is deprecated and will be removed from pandas in a future version. Use pandas.concat instead.\n",
      "  df2 = df2.append(data, ignore_index=True)\n"
     ]
    },
    {
     "name": "stdout",
     "output_type": "stream",
     "text": [
      "TRACK 62  in  spotify:track:4FYWOYqOF9lbb1JcZFDT67  COMPLETED\n"
     ]
    },
    {
     "name": "stderr",
     "output_type": "stream",
     "text": [
      "C:\\Users\\Uma Bala\\AppData\\Local\\Temp\\ipykernel_23008\\1248639595.py:50: FutureWarning: The frame.append method is deprecated and will be removed from pandas in a future version. Use pandas.concat instead.\n",
      "  df2 = df2.append(data, ignore_index=True)\n"
     ]
    },
    {
     "name": "stdout",
     "output_type": "stream",
     "text": [
      "TRACK 63  in  spotify:track:1yVBxI8TaIL86Rrmah83fd  COMPLETED\n"
     ]
    },
    {
     "name": "stderr",
     "output_type": "stream",
     "text": [
      "C:\\Users\\Uma Bala\\AppData\\Local\\Temp\\ipykernel_23008\\1248639595.py:50: FutureWarning: The frame.append method is deprecated and will be removed from pandas in a future version. Use pandas.concat instead.\n",
      "  df2 = df2.append(data, ignore_index=True)\n"
     ]
    },
    {
     "name": "stdout",
     "output_type": "stream",
     "text": [
      "TRACK 64  in  spotify:track:5vUnjhBzRJJIAOJPde6zDx  COMPLETED\n"
     ]
    },
    {
     "name": "stderr",
     "output_type": "stream",
     "text": [
      "C:\\Users\\Uma Bala\\AppData\\Local\\Temp\\ipykernel_23008\\1248639595.py:50: FutureWarning: The frame.append method is deprecated and will be removed from pandas in a future version. Use pandas.concat instead.\n",
      "  df2 = df2.append(data, ignore_index=True)\n"
     ]
    },
    {
     "name": "stdout",
     "output_type": "stream",
     "text": [
      "TRACK 65  in  spotify:track:75FEaRjZTKLhTrFGsfMUXR  COMPLETED\n"
     ]
    },
    {
     "name": "stderr",
     "output_type": "stream",
     "text": [
      "C:\\Users\\Uma Bala\\AppData\\Local\\Temp\\ipykernel_23008\\1248639595.py:50: FutureWarning: The frame.append method is deprecated and will be removed from pandas in a future version. Use pandas.concat instead.\n",
      "  df2 = df2.append(data, ignore_index=True)\n"
     ]
    },
    {
     "name": "stdout",
     "output_type": "stream",
     "text": [
      "TRACK 66  in  spotify:track:6potEImiklXkwD9qFzpu15  COMPLETED\n"
     ]
    },
    {
     "name": "stderr",
     "output_type": "stream",
     "text": [
      "C:\\Users\\Uma Bala\\AppData\\Local\\Temp\\ipykernel_23008\\1248639595.py:50: FutureWarning: The frame.append method is deprecated and will be removed from pandas in a future version. Use pandas.concat instead.\n",
      "  df2 = df2.append(data, ignore_index=True)\n"
     ]
    },
    {
     "name": "stdout",
     "output_type": "stream",
     "text": [
      "TRACK 67  in  spotify:track:6pod2VRHVTven17Da0uZHi  COMPLETED\n"
     ]
    },
    {
     "name": "stderr",
     "output_type": "stream",
     "text": [
      "C:\\Users\\Uma Bala\\AppData\\Local\\Temp\\ipykernel_23008\\1248639595.py:50: FutureWarning: The frame.append method is deprecated and will be removed from pandas in a future version. Use pandas.concat instead.\n",
      "  df2 = df2.append(data, ignore_index=True)\n"
     ]
    },
    {
     "name": "stdout",
     "output_type": "stream",
     "text": [
      "TRACK 68  in  spotify:track:4aFbOpAANnsX2QXes3CrG2  COMPLETED\n"
     ]
    },
    {
     "name": "stderr",
     "output_type": "stream",
     "text": [
      "C:\\Users\\Uma Bala\\AppData\\Local\\Temp\\ipykernel_23008\\1248639595.py:50: FutureWarning: The frame.append method is deprecated and will be removed from pandas in a future version. Use pandas.concat instead.\n",
      "  df2 = df2.append(data, ignore_index=True)\n"
     ]
    },
    {
     "name": "stdout",
     "output_type": "stream",
     "text": [
      "TRACK 69  in  spotify:track:4C6Uex2ILwJi9sZXRdmqXp  COMPLETED\n"
     ]
    },
    {
     "name": "stderr",
     "output_type": "stream",
     "text": [
      "C:\\Users\\Uma Bala\\AppData\\Local\\Temp\\ipykernel_23008\\1248639595.py:50: FutureWarning: The frame.append method is deprecated and will be removed from pandas in a future version. Use pandas.concat instead.\n",
      "  df2 = df2.append(data, ignore_index=True)\n",
      "C:\\Users\\Uma Bala\\AppData\\Local\\Temp\\ipykernel_23008\\1248639595.py:50: FutureWarning: The frame.append method is deprecated and will be removed from pandas in a future version. Use pandas.concat instead.\n",
      "  df2 = df2.append(data, ignore_index=True)\n"
     ]
    },
    {
     "name": "stdout",
     "output_type": "stream",
     "text": [
      "TRACK 70  in  spotify:track:3yvLIEK8n9vf5ONBmz2zSn  COMPLETED\n",
      "TRACK 71  in  spotify:track:6UN73IYd0hZxLi8wFPMQij  COMPLETED\n"
     ]
    },
    {
     "name": "stderr",
     "output_type": "stream",
     "text": [
      "C:\\Users\\Uma Bala\\AppData\\Local\\Temp\\ipykernel_23008\\1248639595.py:50: FutureWarning: The frame.append method is deprecated and will be removed from pandas in a future version. Use pandas.concat instead.\n",
      "  df2 = df2.append(data, ignore_index=True)\n"
     ]
    },
    {
     "name": "stdout",
     "output_type": "stream",
     "text": [
      "TRACK 72  in  spotify:track:2IAR0DziHCjSu16gR4ihvy  COMPLETED\n"
     ]
    },
    {
     "name": "stderr",
     "output_type": "stream",
     "text": [
      "C:\\Users\\Uma Bala\\AppData\\Local\\Temp\\ipykernel_23008\\1248639595.py:50: FutureWarning: The frame.append method is deprecated and will be removed from pandas in a future version. Use pandas.concat instead.\n",
      "  df2 = df2.append(data, ignore_index=True)\n"
     ]
    },
    {
     "name": "stdout",
     "output_type": "stream",
     "text": [
      "TRACK 73  in  spotify:track:7fSM2taFBEB1WNZl8AOIoo  COMPLETED\n"
     ]
    },
    {
     "name": "stderr",
     "output_type": "stream",
     "text": [
      "C:\\Users\\Uma Bala\\AppData\\Local\\Temp\\ipykernel_23008\\1248639595.py:50: FutureWarning: The frame.append method is deprecated and will be removed from pandas in a future version. Use pandas.concat instead.\n",
      "  df2 = df2.append(data, ignore_index=True)\n"
     ]
    },
    {
     "name": "stdout",
     "output_type": "stream",
     "text": [
      "TRACK 74  in  spotify:track:50x1Ic8CaXkYNvjmxe3WXy  COMPLETED\n"
     ]
    },
    {
     "name": "stderr",
     "output_type": "stream",
     "text": [
      "C:\\Users\\Uma Bala\\AppData\\Local\\Temp\\ipykernel_23008\\1248639595.py:50: FutureWarning: The frame.append method is deprecated and will be removed from pandas in a future version. Use pandas.concat instead.\n",
      "  df2 = df2.append(data, ignore_index=True)\n"
     ]
    },
    {
     "name": "stdout",
     "output_type": "stream",
     "text": [
      "TRACK 75  in  spotify:track:3BrWLBC4WYx393yRUOlTih  COMPLETED\n"
     ]
    },
    {
     "name": "stderr",
     "output_type": "stream",
     "text": [
      "C:\\Users\\Uma Bala\\AppData\\Local\\Temp\\ipykernel_23008\\1248639595.py:50: FutureWarning: The frame.append method is deprecated and will be removed from pandas in a future version. Use pandas.concat instead.\n",
      "  df2 = df2.append(data, ignore_index=True)\n"
     ]
    },
    {
     "name": "stdout",
     "output_type": "stream",
     "text": [
      "TRACK 76  in  spotify:track:15HMh4yxdf4wyxSZSlOgGZ  COMPLETED\n"
     ]
    },
    {
     "name": "stderr",
     "output_type": "stream",
     "text": [
      "C:\\Users\\Uma Bala\\AppData\\Local\\Temp\\ipykernel_23008\\1248639595.py:50: FutureWarning: The frame.append method is deprecated and will be removed from pandas in a future version. Use pandas.concat instead.\n",
      "  df2 = df2.append(data, ignore_index=True)\n"
     ]
    },
    {
     "name": "stdout",
     "output_type": "stream",
     "text": [
      "TRACK 77  in  spotify:track:1ZgMsA55GIY7ICkQh5MILA  COMPLETED\n"
     ]
    },
    {
     "name": "stderr",
     "output_type": "stream",
     "text": [
      "C:\\Users\\Uma Bala\\AppData\\Local\\Temp\\ipykernel_23008\\1248639595.py:50: FutureWarning: The frame.append method is deprecated and will be removed from pandas in a future version. Use pandas.concat instead.\n",
      "  df2 = df2.append(data, ignore_index=True)\n"
     ]
    },
    {
     "name": "stdout",
     "output_type": "stream",
     "text": [
      "TRACK 78  in  spotify:track:2Xr1dTzJee307rmrkt8c0g  COMPLETED\n"
     ]
    },
    {
     "name": "stderr",
     "output_type": "stream",
     "text": [
      "C:\\Users\\Uma Bala\\AppData\\Local\\Temp\\ipykernel_23008\\1248639595.py:50: FutureWarning: The frame.append method is deprecated and will be removed from pandas in a future version. Use pandas.concat instead.\n",
      "  df2 = df2.append(data, ignore_index=True)\n"
     ]
    },
    {
     "name": "stdout",
     "output_type": "stream",
     "text": [
      "TRACK 79  in  spotify:track:7BuaeXicQGwAu81DKKAAq6  COMPLETED\n"
     ]
    },
    {
     "name": "stderr",
     "output_type": "stream",
     "text": [
      "C:\\Users\\Uma Bala\\AppData\\Local\\Temp\\ipykernel_23008\\1248639595.py:50: FutureWarning: The frame.append method is deprecated and will be removed from pandas in a future version. Use pandas.concat instead.\n",
      "  df2 = df2.append(data, ignore_index=True)\n"
     ]
    },
    {
     "name": "stdout",
     "output_type": "stream",
     "text": [
      "TRACK 80  in  spotify:track:751srcHf5tUqcEa9pRCQwP  COMPLETED\n"
     ]
    },
    {
     "name": "stderr",
     "output_type": "stream",
     "text": [
      "C:\\Users\\Uma Bala\\AppData\\Local\\Temp\\ipykernel_23008\\1248639595.py:50: FutureWarning: The frame.append method is deprecated and will be removed from pandas in a future version. Use pandas.concat instead.\n",
      "  df2 = df2.append(data, ignore_index=True)\n"
     ]
    },
    {
     "name": "stdout",
     "output_type": "stream",
     "text": [
      "TRACK 81  in  spotify:track:6f7jHMkHBJ9HVat7wjfkOr  COMPLETED\n"
     ]
    },
    {
     "name": "stderr",
     "output_type": "stream",
     "text": [
      "C:\\Users\\Uma Bala\\AppData\\Local\\Temp\\ipykernel_23008\\1248639595.py:50: FutureWarning: The frame.append method is deprecated and will be removed from pandas in a future version. Use pandas.concat instead.\n",
      "  df2 = df2.append(data, ignore_index=True)\n"
     ]
    },
    {
     "name": "stdout",
     "output_type": "stream",
     "text": [
      "TRACK 82  in  spotify:track:2lDODk7inZnmUHbIjUnIwP  COMPLETED\n"
     ]
    },
    {
     "name": "stderr",
     "output_type": "stream",
     "text": [
      "C:\\Users\\Uma Bala\\AppData\\Local\\Temp\\ipykernel_23008\\1248639595.py:50: FutureWarning: The frame.append method is deprecated and will be removed from pandas in a future version. Use pandas.concat instead.\n",
      "  df2 = df2.append(data, ignore_index=True)\n"
     ]
    },
    {
     "name": "stdout",
     "output_type": "stream",
     "text": [
      "TRACK 83  in  spotify:track:4nK5YrxbMGZstTLbvj6Gxw  COMPLETED\n"
     ]
    },
    {
     "name": "stderr",
     "output_type": "stream",
     "text": [
      "C:\\Users\\Uma Bala\\AppData\\Local\\Temp\\ipykernel_23008\\1248639595.py:50: FutureWarning: The frame.append method is deprecated and will be removed from pandas in a future version. Use pandas.concat instead.\n",
      "  df2 = df2.append(data, ignore_index=True)\n"
     ]
    },
    {
     "name": "stdout",
     "output_type": "stream",
     "text": [
      "TRACK 84  in  spotify:track:1ojBtNRMzjL7ptLPZCzfRz  COMPLETED\n"
     ]
    },
    {
     "name": "stderr",
     "output_type": "stream",
     "text": [
      "C:\\Users\\Uma Bala\\AppData\\Local\\Temp\\ipykernel_23008\\1248639595.py:50: FutureWarning: The frame.append method is deprecated and will be removed from pandas in a future version. Use pandas.concat instead.\n",
      "  df2 = df2.append(data, ignore_index=True)\n"
     ]
    },
    {
     "name": "stdout",
     "output_type": "stream",
     "text": [
      "TRACK 85  in  spotify:track:6Uj1ctrBOjOas8xZXGqKk4  COMPLETED\n"
     ]
    },
    {
     "name": "stderr",
     "output_type": "stream",
     "text": [
      "C:\\Users\\Uma Bala\\AppData\\Local\\Temp\\ipykernel_23008\\1248639595.py:50: FutureWarning: The frame.append method is deprecated and will be removed from pandas in a future version. Use pandas.concat instead.\n",
      "  df2 = df2.append(data, ignore_index=True)\n"
     ]
    },
    {
     "name": "stdout",
     "output_type": "stream",
     "text": [
      "TRACK 86  in  spotify:track:0O6u0VJ46W86TxN9wgyqDj  COMPLETED\n"
     ]
    },
    {
     "name": "stderr",
     "output_type": "stream",
     "text": [
      "C:\\Users\\Uma Bala\\AppData\\Local\\Temp\\ipykernel_23008\\1248639595.py:50: FutureWarning: The frame.append method is deprecated and will be removed from pandas in a future version. Use pandas.concat instead.\n",
      "  df2 = df2.append(data, ignore_index=True)\n"
     ]
    },
    {
     "name": "stdout",
     "output_type": "stream",
     "text": [
      "TRACK 87  in  spotify:track:1cKHdTo9u0ZymJdPGSh6nq  COMPLETED\n"
     ]
    },
    {
     "name": "stderr",
     "output_type": "stream",
     "text": [
      "C:\\Users\\Uma Bala\\AppData\\Local\\Temp\\ipykernel_23008\\1248639595.py:50: FutureWarning: The frame.append method is deprecated and will be removed from pandas in a future version. Use pandas.concat instead.\n",
      "  df2 = df2.append(data, ignore_index=True)\n"
     ]
    },
    {
     "name": "stdout",
     "output_type": "stream",
     "text": [
      "TRACK 88  in  spotify:track:0QPRDC97rIQB3Jh3hrVJoH  COMPLETED\n"
     ]
    },
    {
     "name": "stderr",
     "output_type": "stream",
     "text": [
      "C:\\Users\\Uma Bala\\AppData\\Local\\Temp\\ipykernel_23008\\1248639595.py:50: FutureWarning: The frame.append method is deprecated and will be removed from pandas in a future version. Use pandas.concat instead.\n",
      "  df2 = df2.append(data, ignore_index=True)\n"
     ]
    },
    {
     "name": "stdout",
     "output_type": "stream",
     "text": [
      "TRACK 89  in  spotify:track:0y60itmpH0aPKsFiGxmtnh  COMPLETED\n"
     ]
    },
    {
     "name": "stderr",
     "output_type": "stream",
     "text": [
      "C:\\Users\\Uma Bala\\AppData\\Local\\Temp\\ipykernel_23008\\1248639595.py:50: FutureWarning: The frame.append method is deprecated and will be removed from pandas in a future version. Use pandas.concat instead.\n",
      "  df2 = df2.append(data, ignore_index=True)\n"
     ]
    },
    {
     "name": "stdout",
     "output_type": "stream",
     "text": [
      "TRACK 90  in  spotify:track:1evpoKNVsbUkDabYOgKJOQ  COMPLETED\n"
     ]
    },
    {
     "name": "stderr",
     "output_type": "stream",
     "text": [
      "C:\\Users\\Uma Bala\\AppData\\Local\\Temp\\ipykernel_23008\\1248639595.py:50: FutureWarning: The frame.append method is deprecated and will be removed from pandas in a future version. Use pandas.concat instead.\n",
      "  df2 = df2.append(data, ignore_index=True)\n"
     ]
    },
    {
     "name": "stdout",
     "output_type": "stream",
     "text": [
      "TRACK 91  in  spotify:track:2GiJYvgVaD2HtM8GqD9EgQ  COMPLETED\n"
     ]
    },
    {
     "name": "stderr",
     "output_type": "stream",
     "text": [
      "C:\\Users\\Uma Bala\\AppData\\Local\\Temp\\ipykernel_23008\\1248639595.py:50: FutureWarning: The frame.append method is deprecated and will be removed from pandas in a future version. Use pandas.concat instead.\n",
      "  df2 = df2.append(data, ignore_index=True)\n"
     ]
    },
    {
     "name": "stdout",
     "output_type": "stream",
     "text": [
      "TRACK 92  in  spotify:track:0DGTcMqvVR7fmBXgiG6jz4  COMPLETED\n"
     ]
    },
    {
     "name": "stderr",
     "output_type": "stream",
     "text": [
      "C:\\Users\\Uma Bala\\AppData\\Local\\Temp\\ipykernel_23008\\1248639595.py:50: FutureWarning: The frame.append method is deprecated and will be removed from pandas in a future version. Use pandas.concat instead.\n",
      "  df2 = df2.append(data, ignore_index=True)\n"
     ]
    },
    {
     "name": "stdout",
     "output_type": "stream",
     "text": [
      "TRACK 93  in  spotify:track:3AVXwaOGCEL8cmBecfcsFJ  COMPLETED\n"
     ]
    },
    {
     "name": "stderr",
     "output_type": "stream",
     "text": [
      "C:\\Users\\Uma Bala\\AppData\\Local\\Temp\\ipykernel_23008\\1248639595.py:50: FutureWarning: The frame.append method is deprecated and will be removed from pandas in a future version. Use pandas.concat instead.\n",
      "  df2 = df2.append(data, ignore_index=True)\n"
     ]
    },
    {
     "name": "stdout",
     "output_type": "stream",
     "text": [
      "TRACK 94  in  spotify:track:6SCJiS8fAWC5VzRpMEiHxV  COMPLETED\n"
     ]
    },
    {
     "name": "stderr",
     "output_type": "stream",
     "text": [
      "C:\\Users\\Uma Bala\\AppData\\Local\\Temp\\ipykernel_23008\\1248639595.py:50: FutureWarning: The frame.append method is deprecated and will be removed from pandas in a future version. Use pandas.concat instead.\n",
      "  df2 = df2.append(data, ignore_index=True)\n",
      "C:\\Users\\Uma Bala\\AppData\\Local\\Temp\\ipykernel_23008\\1248639595.py:50: FutureWarning: The frame.append method is deprecated and will be removed from pandas in a future version. Use pandas.concat instead.\n",
      "  df2 = df2.append(data, ignore_index=True)\n"
     ]
    },
    {
     "name": "stdout",
     "output_type": "stream",
     "text": [
      "TRACK 95  in  spotify:track:2t16D9V5FmmRAJjsSpwvZf  COMPLETED\n",
      "TRACK 96  in  spotify:track:2vXKRlJBXyOcvZYTdNeckS  COMPLETED\n"
     ]
    },
    {
     "name": "stderr",
     "output_type": "stream",
     "text": [
      "C:\\Users\\Uma Bala\\AppData\\Local\\Temp\\ipykernel_23008\\1248639595.py:50: FutureWarning: The frame.append method is deprecated and will be removed from pandas in a future version. Use pandas.concat instead.\n",
      "  df2 = df2.append(data, ignore_index=True)\n"
     ]
    },
    {
     "name": "stdout",
     "output_type": "stream",
     "text": [
      "TRACK 97  in  spotify:track:1I4lCSP69P74nU3a6Su5L2  COMPLETED\n"
     ]
    },
    {
     "name": "stderr",
     "output_type": "stream",
     "text": [
      "C:\\Users\\Uma Bala\\AppData\\Local\\Temp\\ipykernel_23008\\1248639595.py:50: FutureWarning: The frame.append method is deprecated and will be removed from pandas in a future version. Use pandas.concat instead.\n",
      "  df2 = df2.append(data, ignore_index=True)\n"
     ]
    },
    {
     "name": "stdout",
     "output_type": "stream",
     "text": [
      "TRACK 98  in  spotify:track:1SC5rEoYDGUK4NfG82494W  COMPLETED\n"
     ]
    },
    {
     "name": "stderr",
     "output_type": "stream",
     "text": [
      "C:\\Users\\Uma Bala\\AppData\\Local\\Temp\\ipykernel_23008\\1248639595.py:50: FutureWarning: The frame.append method is deprecated and will be removed from pandas in a future version. Use pandas.concat instead.\n",
      "  df2 = df2.append(data, ignore_index=True)\n"
     ]
    },
    {
     "name": "stdout",
     "output_type": "stream",
     "text": [
      "TRACK 99  in  spotify:track:5PjdY0CKGZdEuoNab3yDmX  COMPLETED\n"
     ]
    },
    {
     "name": "stderr",
     "output_type": "stream",
     "text": [
      "C:\\Users\\Uma Bala\\AppData\\Local\\Temp\\ipykernel_23008\\1248639595.py:50: FutureWarning: The frame.append method is deprecated and will be removed from pandas in a future version. Use pandas.concat instead.\n",
      "  df2 = df2.append(data, ignore_index=True)\n"
     ]
    },
    {
     "name": "stdout",
     "output_type": "stream",
     "text": [
      "TRACK 100  in  spotify:track:48q0vSHcJdhK3IiXH8C5WJ  COMPLETED\n"
     ]
    },
    {
     "name": "stderr",
     "output_type": "stream",
     "text": [
      "C:\\Users\\Uma Bala\\AppData\\Local\\Temp\\ipykernel_23008\\1248639595.py:50: FutureWarning: The frame.append method is deprecated and will be removed from pandas in a future version. Use pandas.concat instead.\n",
      "  df2 = df2.append(data, ignore_index=True)\n"
     ]
    }
   ],
   "source": [
    "# best tiktok songs\n",
    "df_hit_4 = get_song_data('https://open.spotify.com/playlist/7Kk2Rm8vnJDqgq2Bpfhbvz')\n",
    "df_hit_5 = get_song_data('https://open.spotify.com/playlist/0SRdjSDz4RsuozwHv1zhvr')"
   ]
  },
  {
   "cell_type": "code",
   "execution_count": 25,
   "id": "ed62eb67",
   "metadata": {},
   "outputs": [
    {
     "name": "stdout",
     "output_type": "stream",
     "text": [
      "TRACK 1  in  spotify:track:3rUGC1vUpkDG9CZFHMur1t  COMPLETED\n"
     ]
    },
    {
     "name": "stderr",
     "output_type": "stream",
     "text": [
      "C:\\Users\\Uma Bala\\AppData\\Local\\Temp\\ipykernel_23008\\1248639595.py:50: FutureWarning: The frame.append method is deprecated and will be removed from pandas in a future version. Use pandas.concat instead.\n",
      "  df2 = df2.append(data, ignore_index=True)\n"
     ]
    },
    {
     "name": "stdout",
     "output_type": "stream",
     "text": [
      "TRACK 2  in  spotify:track:5mjYQaktjmjcMKcUIcqz4s  COMPLETED\n"
     ]
    },
    {
     "name": "stderr",
     "output_type": "stream",
     "text": [
      "C:\\Users\\Uma Bala\\AppData\\Local\\Temp\\ipykernel_23008\\1248639595.py:50: FutureWarning: The frame.append method is deprecated and will be removed from pandas in a future version. Use pandas.concat instead.\n",
      "  df2 = df2.append(data, ignore_index=True)\n"
     ]
    },
    {
     "name": "stdout",
     "output_type": "stream",
     "text": [
      "TRACK 3  in  spotify:track:2IGMVunIBsBLtEQyoI1Mu7  COMPLETED\n"
     ]
    },
    {
     "name": "stderr",
     "output_type": "stream",
     "text": [
      "C:\\Users\\Uma Bala\\AppData\\Local\\Temp\\ipykernel_23008\\1248639595.py:50: FutureWarning: The frame.append method is deprecated and will be removed from pandas in a future version. Use pandas.concat instead.\n",
      "  df2 = df2.append(data, ignore_index=True)\n"
     ]
    },
    {
     "name": "stdout",
     "output_type": "stream",
     "text": [
      "TRACK 4  in  spotify:track:4rXLjWdF2ZZpXCVTfWcshS  COMPLETED\n"
     ]
    },
    {
     "name": "stderr",
     "output_type": "stream",
     "text": [
      "C:\\Users\\Uma Bala\\AppData\\Local\\Temp\\ipykernel_23008\\1248639595.py:50: FutureWarning: The frame.append method is deprecated and will be removed from pandas in a future version. Use pandas.concat instead.\n",
      "  df2 = df2.append(data, ignore_index=True)\n"
     ]
    },
    {
     "name": "stdout",
     "output_type": "stream",
     "text": [
      "TRACK 5  in  spotify:track:3taCbWWTilb7eNMsAzOBq4  COMPLETED\n"
     ]
    },
    {
     "name": "stderr",
     "output_type": "stream",
     "text": [
      "C:\\Users\\Uma Bala\\AppData\\Local\\Temp\\ipykernel_23008\\1248639595.py:50: FutureWarning: The frame.append method is deprecated and will be removed from pandas in a future version. Use pandas.concat instead.\n",
      "  df2 = df2.append(data, ignore_index=True)\n"
     ]
    },
    {
     "name": "stdout",
     "output_type": "stream",
     "text": [
      "TRACK 6  in  spotify:track:73RbfOTJIjHzi2pcVHjeHM  COMPLETED\n"
     ]
    },
    {
     "name": "stderr",
     "output_type": "stream",
     "text": [
      "C:\\Users\\Uma Bala\\AppData\\Local\\Temp\\ipykernel_23008\\1248639595.py:50: FutureWarning: The frame.append method is deprecated and will be removed from pandas in a future version. Use pandas.concat instead.\n",
      "  df2 = df2.append(data, ignore_index=True)\n"
     ]
    },
    {
     "name": "stdout",
     "output_type": "stream",
     "text": [
      "TRACK 7  in  spotify:track:4TNFLwe6DhtR3Wn1JKMqMJ  COMPLETED\n"
     ]
    },
    {
     "name": "stderr",
     "output_type": "stream",
     "text": [
      "C:\\Users\\Uma Bala\\AppData\\Local\\Temp\\ipykernel_23008\\1248639595.py:50: FutureWarning: The frame.append method is deprecated and will be removed from pandas in a future version. Use pandas.concat instead.\n",
      "  df2 = df2.append(data, ignore_index=True)\n"
     ]
    },
    {
     "name": "stdout",
     "output_type": "stream",
     "text": [
      "TRACK 8  in  spotify:track:59NraMJsLaMCVtwXTSia8i  COMPLETED\n"
     ]
    },
    {
     "name": "stderr",
     "output_type": "stream",
     "text": [
      "C:\\Users\\Uma Bala\\AppData\\Local\\Temp\\ipykernel_23008\\1248639595.py:50: FutureWarning: The frame.append method is deprecated and will be removed from pandas in a future version. Use pandas.concat instead.\n",
      "  df2 = df2.append(data, ignore_index=True)\n"
     ]
    },
    {
     "name": "stdout",
     "output_type": "stream",
     "text": [
      "TRACK 9  in  spotify:track:741UUVE2kuITl0c6zuqqbO  COMPLETED\n"
     ]
    },
    {
     "name": "stderr",
     "output_type": "stream",
     "text": [
      "C:\\Users\\Uma Bala\\AppData\\Local\\Temp\\ipykernel_23008\\1248639595.py:50: FutureWarning: The frame.append method is deprecated and will be removed from pandas in a future version. Use pandas.concat instead.\n",
      "  df2 = df2.append(data, ignore_index=True)\n"
     ]
    },
    {
     "name": "stdout",
     "output_type": "stream",
     "text": [
      "TRACK 10  in  spotify:track:2i2gDpKKWjvnRTOZRhaPh2  COMPLETED\n"
     ]
    },
    {
     "name": "stderr",
     "output_type": "stream",
     "text": [
      "C:\\Users\\Uma Bala\\AppData\\Local\\Temp\\ipykernel_23008\\1248639595.py:50: FutureWarning: The frame.append method is deprecated and will be removed from pandas in a future version. Use pandas.concat instead.\n",
      "  df2 = df2.append(data, ignore_index=True)\n"
     ]
    },
    {
     "name": "stdout",
     "output_type": "stream",
     "text": [
      "TRACK 11  in  spotify:track:3XKIUb7HzIF1Vu9usunMzc  COMPLETED\n"
     ]
    },
    {
     "name": "stderr",
     "output_type": "stream",
     "text": [
      "C:\\Users\\Uma Bala\\AppData\\Local\\Temp\\ipykernel_23008\\1248639595.py:50: FutureWarning: The frame.append method is deprecated and will be removed from pandas in a future version. Use pandas.concat instead.\n",
      "  df2 = df2.append(data, ignore_index=True)\n"
     ]
    },
    {
     "name": "stdout",
     "output_type": "stream",
     "text": [
      "TRACK 12  in  spotify:track:2FDTHlrBguDzQkp7PVj16Q  COMPLETED\n"
     ]
    },
    {
     "name": "stderr",
     "output_type": "stream",
     "text": [
      "C:\\Users\\Uma Bala\\AppData\\Local\\Temp\\ipykernel_23008\\1248639595.py:50: FutureWarning: The frame.append method is deprecated and will be removed from pandas in a future version. Use pandas.concat instead.\n",
      "  df2 = df2.append(data, ignore_index=True)\n"
     ]
    },
    {
     "name": "stdout",
     "output_type": "stream",
     "text": [
      "TRACK 13  in  spotify:track:5LrN7yUQAzvthd4QujgPFr  COMPLETED\n"
     ]
    },
    {
     "name": "stderr",
     "output_type": "stream",
     "text": [
      "C:\\Users\\Uma Bala\\AppData\\Local\\Temp\\ipykernel_23008\\1248639595.py:50: FutureWarning: The frame.append method is deprecated and will be removed from pandas in a future version. Use pandas.concat instead.\n",
      "  df2 = df2.append(data, ignore_index=True)\n"
     ]
    },
    {
     "name": "stdout",
     "output_type": "stream",
     "text": [
      "TRACK 14  in  spotify:track:3xKsf9qdS1CyvXSMEid6g8  COMPLETED\n"
     ]
    },
    {
     "name": "stderr",
     "output_type": "stream",
     "text": [
      "C:\\Users\\Uma Bala\\AppData\\Local\\Temp\\ipykernel_23008\\1248639595.py:50: FutureWarning: The frame.append method is deprecated and will be removed from pandas in a future version. Use pandas.concat instead.\n",
      "  df2 = df2.append(data, ignore_index=True)\n"
     ]
    },
    {
     "name": "stdout",
     "output_type": "stream",
     "text": [
      "TRACK 15  in  spotify:track:1odExI7RdWc4BT515LTAwj  COMPLETED\n"
     ]
    },
    {
     "name": "stderr",
     "output_type": "stream",
     "text": [
      "C:\\Users\\Uma Bala\\AppData\\Local\\Temp\\ipykernel_23008\\1248639595.py:50: FutureWarning: The frame.append method is deprecated and will be removed from pandas in a future version. Use pandas.concat instead.\n",
      "  df2 = df2.append(data, ignore_index=True)\n"
     ]
    },
    {
     "name": "stdout",
     "output_type": "stream",
     "text": [
      "TRACK 16  in  spotify:track:3IX0yuEVvDbnqUwMBB3ouC  COMPLETED\n"
     ]
    },
    {
     "name": "stderr",
     "output_type": "stream",
     "text": [
      "C:\\Users\\Uma Bala\\AppData\\Local\\Temp\\ipykernel_23008\\1248639595.py:50: FutureWarning: The frame.append method is deprecated and will be removed from pandas in a future version. Use pandas.concat instead.\n",
      "  df2 = df2.append(data, ignore_index=True)\n"
     ]
    },
    {
     "name": "stdout",
     "output_type": "stream",
     "text": [
      "TRACK 17  in  spotify:track:50x1Ic8CaXkYNvjmxe3WXy  COMPLETED\n"
     ]
    },
    {
     "name": "stderr",
     "output_type": "stream",
     "text": [
      "C:\\Users\\Uma Bala\\AppData\\Local\\Temp\\ipykernel_23008\\1248639595.py:50: FutureWarning: The frame.append method is deprecated and will be removed from pandas in a future version. Use pandas.concat instead.\n",
      "  df2 = df2.append(data, ignore_index=True)\n"
     ]
    },
    {
     "name": "stdout",
     "output_type": "stream",
     "text": [
      "TRACK 18  in  spotify:track:7KA4W4McWYRpgf0fWsJZWB  COMPLETED\n"
     ]
    },
    {
     "name": "stderr",
     "output_type": "stream",
     "text": [
      "C:\\Users\\Uma Bala\\AppData\\Local\\Temp\\ipykernel_23008\\1248639595.py:50: FutureWarning: The frame.append method is deprecated and will be removed from pandas in a future version. Use pandas.concat instead.\n",
      "  df2 = df2.append(data, ignore_index=True)\n"
     ]
    },
    {
     "name": "stdout",
     "output_type": "stream",
     "text": [
      "TRACK 19  in  spotify:track:6njJR3OIp3oA0Kc4aC9Tzf  COMPLETED\n"
     ]
    },
    {
     "name": "stderr",
     "output_type": "stream",
     "text": [
      "C:\\Users\\Uma Bala\\AppData\\Local\\Temp\\ipykernel_23008\\1248639595.py:50: FutureWarning: The frame.append method is deprecated and will be removed from pandas in a future version. Use pandas.concat instead.\n",
      "  df2 = df2.append(data, ignore_index=True)\n"
     ]
    },
    {
     "name": "stdout",
     "output_type": "stream",
     "text": [
      "TRACK 20  in  spotify:track:7sliFe6W30tPBPh6dvZsIH  COMPLETED\n"
     ]
    },
    {
     "name": "stderr",
     "output_type": "stream",
     "text": [
      "C:\\Users\\Uma Bala\\AppData\\Local\\Temp\\ipykernel_23008\\1248639595.py:50: FutureWarning: The frame.append method is deprecated and will be removed from pandas in a future version. Use pandas.concat instead.\n",
      "  df2 = df2.append(data, ignore_index=True)\n"
     ]
    },
    {
     "name": "stdout",
     "output_type": "stream",
     "text": [
      "TRACK 21  in  spotify:track:5odlY52u43F5BjByhxg7wg  COMPLETED\n"
     ]
    },
    {
     "name": "stderr",
     "output_type": "stream",
     "text": [
      "C:\\Users\\Uma Bala\\AppData\\Local\\Temp\\ipykernel_23008\\1248639595.py:50: FutureWarning: The frame.append method is deprecated and will be removed from pandas in a future version. Use pandas.concat instead.\n",
      "  df2 = df2.append(data, ignore_index=True)\n"
     ]
    },
    {
     "name": "stdout",
     "output_type": "stream",
     "text": [
      "TRACK 22  in  spotify:track:6UN73IYd0hZxLi8wFPMQij  COMPLETED\n"
     ]
    },
    {
     "name": "stderr",
     "output_type": "stream",
     "text": [
      "C:\\Users\\Uma Bala\\AppData\\Local\\Temp\\ipykernel_23008\\1248639595.py:50: FutureWarning: The frame.append method is deprecated and will be removed from pandas in a future version. Use pandas.concat instead.\n",
      "  df2 = df2.append(data, ignore_index=True)\n"
     ]
    },
    {
     "name": "stdout",
     "output_type": "stream",
     "text": [
      "TRACK 23  in  spotify:track:3xIMkM5LgbVDkpO74O3Np3  COMPLETED\n"
     ]
    },
    {
     "name": "stderr",
     "output_type": "stream",
     "text": [
      "C:\\Users\\Uma Bala\\AppData\\Local\\Temp\\ipykernel_23008\\1248639595.py:50: FutureWarning: The frame.append method is deprecated and will be removed from pandas in a future version. Use pandas.concat instead.\n",
      "  df2 = df2.append(data, ignore_index=True)\n"
     ]
    },
    {
     "name": "stdout",
     "output_type": "stream",
     "text": [
      "TRACK 24  in  spotify:track:22I3h5AOENlH4CqXJsEbFR  COMPLETED\n"
     ]
    },
    {
     "name": "stderr",
     "output_type": "stream",
     "text": [
      "C:\\Users\\Uma Bala\\AppData\\Local\\Temp\\ipykernel_23008\\1248639595.py:50: FutureWarning: The frame.append method is deprecated and will be removed from pandas in a future version. Use pandas.concat instead.\n",
      "  df2 = df2.append(data, ignore_index=True)\n"
     ]
    },
    {
     "name": "stdout",
     "output_type": "stream",
     "text": [
      "TRACK 25  in  spotify:track:424DkevE18QJazwlljiTD4  COMPLETED\n"
     ]
    },
    {
     "name": "stderr",
     "output_type": "stream",
     "text": [
      "C:\\Users\\Uma Bala\\AppData\\Local\\Temp\\ipykernel_23008\\1248639595.py:50: FutureWarning: The frame.append method is deprecated and will be removed from pandas in a future version. Use pandas.concat instead.\n",
      "  df2 = df2.append(data, ignore_index=True)\n",
      "C:\\Users\\Uma Bala\\AppData\\Local\\Temp\\ipykernel_23008\\1248639595.py:50: FutureWarning: The frame.append method is deprecated and will be removed from pandas in a future version. Use pandas.concat instead.\n",
      "  df2 = df2.append(data, ignore_index=True)\n"
     ]
    },
    {
     "name": "stdout",
     "output_type": "stream",
     "text": [
      "TRACK 26  in  spotify:track:7DbdUf8aHSYoliSjO6LZv6  COMPLETED\n",
      "TRACK 27  in  spotify:track:0JXXNGljqupsJaZsgSbMZV  COMPLETED\n"
     ]
    },
    {
     "name": "stderr",
     "output_type": "stream",
     "text": [
      "C:\\Users\\Uma Bala\\AppData\\Local\\Temp\\ipykernel_23008\\1248639595.py:50: FutureWarning: The frame.append method is deprecated and will be removed from pandas in a future version. Use pandas.concat instead.\n",
      "  df2 = df2.append(data, ignore_index=True)\n"
     ]
    },
    {
     "name": "stdout",
     "output_type": "stream",
     "text": [
      "TRACK 28  in  spotify:track:1Ukxccao1BlWrPhYkcXbwZ  COMPLETED\n"
     ]
    },
    {
     "name": "stderr",
     "output_type": "stream",
     "text": [
      "C:\\Users\\Uma Bala\\AppData\\Local\\Temp\\ipykernel_23008\\1248639595.py:50: FutureWarning: The frame.append method is deprecated and will be removed from pandas in a future version. Use pandas.concat instead.\n",
      "  df2 = df2.append(data, ignore_index=True)\n",
      "C:\\Users\\Uma Bala\\AppData\\Local\\Temp\\ipykernel_23008\\1248639595.py:50: FutureWarning: The frame.append method is deprecated and will be removed from pandas in a future version. Use pandas.concat instead.\n",
      "  df2 = df2.append(data, ignore_index=True)\n"
     ]
    },
    {
     "name": "stdout",
     "output_type": "stream",
     "text": [
      "TRACK 29  in  spotify:track:43MifzVnh8W3jJN0xqU9jR  COMPLETED\n",
      "TRACK 30  in  spotify:track:1Hv1VTm8zeOeybub15mA2R  COMPLETED\n"
     ]
    },
    {
     "name": "stderr",
     "output_type": "stream",
     "text": [
      "C:\\Users\\Uma Bala\\AppData\\Local\\Temp\\ipykernel_23008\\1248639595.py:50: FutureWarning: The frame.append method is deprecated and will be removed from pandas in a future version. Use pandas.concat instead.\n",
      "  df2 = df2.append(data, ignore_index=True)\n"
     ]
    },
    {
     "name": "stdout",
     "output_type": "stream",
     "text": [
      "TRACK 31  in  spotify:track:7FbrGaHYVDmfr7KoLIZnQ7  COMPLETED\n"
     ]
    },
    {
     "name": "stderr",
     "output_type": "stream",
     "text": [
      "C:\\Users\\Uma Bala\\AppData\\Local\\Temp\\ipykernel_23008\\1248639595.py:50: FutureWarning: The frame.append method is deprecated and will be removed from pandas in a future version. Use pandas.concat instead.\n",
      "  df2 = df2.append(data, ignore_index=True)\n"
     ]
    },
    {
     "name": "stdout",
     "output_type": "stream",
     "text": [
      "TRACK 32  in  spotify:track:1daDRI9ahBonbWD8YcxOIB  COMPLETED\n"
     ]
    },
    {
     "name": "stderr",
     "output_type": "stream",
     "text": [
      "C:\\Users\\Uma Bala\\AppData\\Local\\Temp\\ipykernel_23008\\1248639595.py:50: FutureWarning: The frame.append method is deprecated and will be removed from pandas in a future version. Use pandas.concat instead.\n",
      "  df2 = df2.append(data, ignore_index=True)\n"
     ]
    },
    {
     "name": "stdout",
     "output_type": "stream",
     "text": [
      "TRACK 33  in  spotify:track:6dBUzqjtbnIa1TwYbyw5CM  COMPLETED\n"
     ]
    },
    {
     "name": "stderr",
     "output_type": "stream",
     "text": [
      "C:\\Users\\Uma Bala\\AppData\\Local\\Temp\\ipykernel_23008\\1248639595.py:50: FutureWarning: The frame.append method is deprecated and will be removed from pandas in a future version. Use pandas.concat instead.\n",
      "  df2 = df2.append(data, ignore_index=True)\n"
     ]
    },
    {
     "name": "stdout",
     "output_type": "stream",
     "text": [
      "TRACK 34  in  spotify:track:1Y3LN4zO1Edc2EluIoSPJN  COMPLETED\n"
     ]
    },
    {
     "name": "stderr",
     "output_type": "stream",
     "text": [
      "C:\\Users\\Uma Bala\\AppData\\Local\\Temp\\ipykernel_23008\\1248639595.py:50: FutureWarning: The frame.append method is deprecated and will be removed from pandas in a future version. Use pandas.concat instead.\n",
      "  df2 = df2.append(data, ignore_index=True)\n",
      "C:\\Users\\Uma Bala\\AppData\\Local\\Temp\\ipykernel_23008\\1248639595.py:50: FutureWarning: The frame.append method is deprecated and will be removed from pandas in a future version. Use pandas.concat instead.\n",
      "  df2 = df2.append(data, ignore_index=True)\n"
     ]
    },
    {
     "name": "stdout",
     "output_type": "stream",
     "text": [
      "TRACK 35  in  spotify:track:4RvWPyQ5RL0ao9LPZeSouE  COMPLETED\n",
      "TRACK 36  in  spotify:track:3hxIUxnT27p5WcmjGUXNwx  COMPLETED\n"
     ]
    },
    {
     "name": "stderr",
     "output_type": "stream",
     "text": [
      "C:\\Users\\Uma Bala\\AppData\\Local\\Temp\\ipykernel_23008\\1248639595.py:50: FutureWarning: The frame.append method is deprecated and will be removed from pandas in a future version. Use pandas.concat instead.\n",
      "  df2 = df2.append(data, ignore_index=True)\n"
     ]
    },
    {
     "name": "stdout",
     "output_type": "stream",
     "text": [
      "TRACK 37  in  spotify:track:23RoR84KodL5HWvUTneQ1w  COMPLETED\n"
     ]
    },
    {
     "name": "stderr",
     "output_type": "stream",
     "text": [
      "C:\\Users\\Uma Bala\\AppData\\Local\\Temp\\ipykernel_23008\\1248639595.py:50: FutureWarning: The frame.append method is deprecated and will be removed from pandas in a future version. Use pandas.concat instead.\n",
      "  df2 = df2.append(data, ignore_index=True)\n"
     ]
    },
    {
     "name": "stdout",
     "output_type": "stream",
     "text": [
      "TRACK 38  in  spotify:track:1cKHdTo9u0ZymJdPGSh6nq  COMPLETED\n"
     ]
    },
    {
     "name": "stderr",
     "output_type": "stream",
     "text": [
      "C:\\Users\\Uma Bala\\AppData\\Local\\Temp\\ipykernel_23008\\1248639595.py:50: FutureWarning: The frame.append method is deprecated and will be removed from pandas in a future version. Use pandas.concat instead.\n",
      "  df2 = df2.append(data, ignore_index=True)\n"
     ]
    },
    {
     "name": "stdout",
     "output_type": "stream",
     "text": [
      "TRACK 39  in  spotify:track:1kuGVB7EU95pJObxwvfwKS  COMPLETED\n"
     ]
    },
    {
     "name": "stderr",
     "output_type": "stream",
     "text": [
      "C:\\Users\\Uma Bala\\AppData\\Local\\Temp\\ipykernel_23008\\1248639595.py:50: FutureWarning: The frame.append method is deprecated and will be removed from pandas in a future version. Use pandas.concat instead.\n",
      "  df2 = df2.append(data, ignore_index=True)\n"
     ]
    },
    {
     "name": "stdout",
     "output_type": "stream",
     "text": [
      "TRACK 40  in  spotify:track:6maTPqynTmrkWIralgGaoP  COMPLETED\n"
     ]
    },
    {
     "name": "stderr",
     "output_type": "stream",
     "text": [
      "C:\\Users\\Uma Bala\\AppData\\Local\\Temp\\ipykernel_23008\\1248639595.py:50: FutureWarning: The frame.append method is deprecated and will be removed from pandas in a future version. Use pandas.concat instead.\n",
      "  df2 = df2.append(data, ignore_index=True)\n"
     ]
    },
    {
     "name": "stdout",
     "output_type": "stream",
     "text": [
      "TRACK 41  in  spotify:track:7ABLbnD53cQK00mhcaOUVG  COMPLETED\n"
     ]
    },
    {
     "name": "stderr",
     "output_type": "stream",
     "text": [
      "C:\\Users\\Uma Bala\\AppData\\Local\\Temp\\ipykernel_23008\\1248639595.py:50: FutureWarning: The frame.append method is deprecated and will be removed from pandas in a future version. Use pandas.concat instead.\n",
      "  df2 = df2.append(data, ignore_index=True)\n"
     ]
    },
    {
     "name": "stdout",
     "output_type": "stream",
     "text": [
      "TRACK 42  in  spotify:track:4lMyi03aRk8nPBLLGyqAVz  COMPLETED\n"
     ]
    },
    {
     "name": "stderr",
     "output_type": "stream",
     "text": [
      "C:\\Users\\Uma Bala\\AppData\\Local\\Temp\\ipykernel_23008\\1248639595.py:50: FutureWarning: The frame.append method is deprecated and will be removed from pandas in a future version. Use pandas.concat instead.\n",
      "  df2 = df2.append(data, ignore_index=True)\n"
     ]
    },
    {
     "name": "stdout",
     "output_type": "stream",
     "text": [
      "TRACK 43  in  spotify:track:5mHdCZtVyb4DcJw8799hZp  COMPLETED\n"
     ]
    },
    {
     "name": "stderr",
     "output_type": "stream",
     "text": [
      "C:\\Users\\Uma Bala\\AppData\\Local\\Temp\\ipykernel_23008\\1248639595.py:50: FutureWarning: The frame.append method is deprecated and will be removed from pandas in a future version. Use pandas.concat instead.\n",
      "  df2 = df2.append(data, ignore_index=True)\n"
     ]
    },
    {
     "name": "stdout",
     "output_type": "stream",
     "text": [
      "TRACK 44  in  spotify:track:4h9wh7iOZ0GGn8QVp4RAOB  COMPLETED\n"
     ]
    },
    {
     "name": "stderr",
     "output_type": "stream",
     "text": [
      "C:\\Users\\Uma Bala\\AppData\\Local\\Temp\\ipykernel_23008\\1248639595.py:50: FutureWarning: The frame.append method is deprecated and will be removed from pandas in a future version. Use pandas.concat instead.\n",
      "  df2 = df2.append(data, ignore_index=True)\n"
     ]
    },
    {
     "name": "stdout",
     "output_type": "stream",
     "text": [
      "TRACK 45  in  spotify:track:3hRV0jL3vUpRrcy398teAU  COMPLETED\n"
     ]
    },
    {
     "name": "stderr",
     "output_type": "stream",
     "text": [
      "C:\\Users\\Uma Bala\\AppData\\Local\\Temp\\ipykernel_23008\\1248639595.py:50: FutureWarning: The frame.append method is deprecated and will be removed from pandas in a future version. Use pandas.concat instead.\n",
      "  df2 = df2.append(data, ignore_index=True)\n"
     ]
    },
    {
     "name": "stdout",
     "output_type": "stream",
     "text": [
      "TRACK 46  in  spotify:track:37vVp2sWHuuIBOSl1NswP6  COMPLETED\n"
     ]
    },
    {
     "name": "stderr",
     "output_type": "stream",
     "text": [
      "C:\\Users\\Uma Bala\\AppData\\Local\\Temp\\ipykernel_23008\\1248639595.py:50: FutureWarning: The frame.append method is deprecated and will be removed from pandas in a future version. Use pandas.concat instead.\n",
      "  df2 = df2.append(data, ignore_index=True)\n"
     ]
    },
    {
     "name": "stdout",
     "output_type": "stream",
     "text": [
      "TRACK 47  in  spotify:track:2Ch7LmS7r2Gy2kc64wv3Bz  COMPLETED\n"
     ]
    },
    {
     "name": "stderr",
     "output_type": "stream",
     "text": [
      "C:\\Users\\Uma Bala\\AppData\\Local\\Temp\\ipykernel_23008\\1248639595.py:50: FutureWarning: The frame.append method is deprecated and will be removed from pandas in a future version. Use pandas.concat instead.\n",
      "  df2 = df2.append(data, ignore_index=True)\n"
     ]
    },
    {
     "name": "stdout",
     "output_type": "stream",
     "text": [
      "TRACK 48  in  spotify:track:2aI21FnmY7TJVKeMaoQZ0t  COMPLETED\n"
     ]
    },
    {
     "name": "stderr",
     "output_type": "stream",
     "text": [
      "C:\\Users\\Uma Bala\\AppData\\Local\\Temp\\ipykernel_23008\\1248639595.py:50: FutureWarning: The frame.append method is deprecated and will be removed from pandas in a future version. Use pandas.concat instead.\n",
      "  df2 = df2.append(data, ignore_index=True)\n"
     ]
    },
    {
     "name": "stdout",
     "output_type": "stream",
     "text": [
      "TRACK 49  in  spotify:track:3OHfY25tqY28d16oZczHc8  COMPLETED\n"
     ]
    },
    {
     "name": "stderr",
     "output_type": "stream",
     "text": [
      "C:\\Users\\Uma Bala\\AppData\\Local\\Temp\\ipykernel_23008\\1248639595.py:50: FutureWarning: The frame.append method is deprecated and will be removed from pandas in a future version. Use pandas.concat instead.\n",
      "  df2 = df2.append(data, ignore_index=True)\n"
     ]
    },
    {
     "name": "stdout",
     "output_type": "stream",
     "text": [
      "TRACK 50  in  spotify:track:5CM4UuQ9Gnd6K2YyKGPMoK  COMPLETED\n"
     ]
    },
    {
     "name": "stderr",
     "output_type": "stream",
     "text": [
      "C:\\Users\\Uma Bala\\AppData\\Local\\Temp\\ipykernel_23008\\1248639595.py:50: FutureWarning: The frame.append method is deprecated and will be removed from pandas in a future version. Use pandas.concat instead.\n",
      "  df2 = df2.append(data, ignore_index=True)\n"
     ]
    },
    {
     "name": "stdout",
     "output_type": "stream",
     "text": [
      "TRACK 51  in  spotify:track:6AQbmUe0Qwf5PZnt4HmTXv  COMPLETED\n"
     ]
    },
    {
     "name": "stderr",
     "output_type": "stream",
     "text": [
      "C:\\Users\\Uma Bala\\AppData\\Local\\Temp\\ipykernel_23008\\1248639595.py:50: FutureWarning: The frame.append method is deprecated and will be removed from pandas in a future version. Use pandas.concat instead.\n",
      "  df2 = df2.append(data, ignore_index=True)\n"
     ]
    },
    {
     "name": "stdout",
     "output_type": "stream",
     "text": [
      "TRACK 52  in  spotify:track:5IgjP7X4th6nMNDh4akUHb  COMPLETED\n"
     ]
    },
    {
     "name": "stderr",
     "output_type": "stream",
     "text": [
      "C:\\Users\\Uma Bala\\AppData\\Local\\Temp\\ipykernel_23008\\1248639595.py:50: FutureWarning: The frame.append method is deprecated and will be removed from pandas in a future version. Use pandas.concat instead.\n",
      "  df2 = df2.append(data, ignore_index=True)\n",
      "C:\\Users\\Uma Bala\\AppData\\Local\\Temp\\ipykernel_23008\\1248639595.py:50: FutureWarning: The frame.append method is deprecated and will be removed from pandas in a future version. Use pandas.concat instead.\n",
      "  df2 = df2.append(data, ignore_index=True)\n"
     ]
    },
    {
     "name": "stdout",
     "output_type": "stream",
     "text": [
      "TRACK 53  in  spotify:track:3NRql0A1Ef4RCvT473iqgD  COMPLETED\n",
      "TRACK 54  in  spotify:track:0FA4wrjDJvJTTU8AepZTup  COMPLETED\n"
     ]
    },
    {
     "name": "stderr",
     "output_type": "stream",
     "text": [
      "C:\\Users\\Uma Bala\\AppData\\Local\\Temp\\ipykernel_23008\\1248639595.py:50: FutureWarning: The frame.append method is deprecated and will be removed from pandas in a future version. Use pandas.concat instead.\n",
      "  df2 = df2.append(data, ignore_index=True)\n"
     ]
    },
    {
     "name": "stdout",
     "output_type": "stream",
     "text": [
      "TRACK 55  in  spotify:track:2cSdAkzAf2T4j4aLvx4LLz  COMPLETED\n"
     ]
    },
    {
     "name": "stderr",
     "output_type": "stream",
     "text": [
      "C:\\Users\\Uma Bala\\AppData\\Local\\Temp\\ipykernel_23008\\1248639595.py:50: FutureWarning: The frame.append method is deprecated and will be removed from pandas in a future version. Use pandas.concat instead.\n",
      "  df2 = df2.append(data, ignore_index=True)\n"
     ]
    },
    {
     "name": "stdout",
     "output_type": "stream",
     "text": [
      "TRACK 56  in  spotify:track:6qyS9qBy0mEk3qYaH8mPss  COMPLETED\n"
     ]
    },
    {
     "name": "stderr",
     "output_type": "stream",
     "text": [
      "C:\\Users\\Uma Bala\\AppData\\Local\\Temp\\ipykernel_23008\\1248639595.py:50: FutureWarning: The frame.append method is deprecated and will be removed from pandas in a future version. Use pandas.concat instead.\n",
      "  df2 = df2.append(data, ignore_index=True)\n"
     ]
    },
    {
     "name": "stdout",
     "output_type": "stream",
     "text": [
      "TRACK 57  in  spotify:track:561jH07mF1jHuk7KlaeF0s  COMPLETED\n"
     ]
    },
    {
     "name": "stderr",
     "output_type": "stream",
     "text": [
      "C:\\Users\\Uma Bala\\AppData\\Local\\Temp\\ipykernel_23008\\1248639595.py:50: FutureWarning: The frame.append method is deprecated and will be removed from pandas in a future version. Use pandas.concat instead.\n",
      "  df2 = df2.append(data, ignore_index=True)\n"
     ]
    },
    {
     "name": "stdout",
     "output_type": "stream",
     "text": [
      "TRACK 58  in  spotify:track:73vIOb4Q7YN6HeJTbscRx5  COMPLETED\n"
     ]
    },
    {
     "name": "stderr",
     "output_type": "stream",
     "text": [
      "C:\\Users\\Uma Bala\\AppData\\Local\\Temp\\ipykernel_23008\\1248639595.py:50: FutureWarning: The frame.append method is deprecated and will be removed from pandas in a future version. Use pandas.concat instead.\n",
      "  df2 = df2.append(data, ignore_index=True)\n"
     ]
    },
    {
     "name": "stdout",
     "output_type": "stream",
     "text": [
      "TRACK 59  in  spotify:track:5YqEzk3C5c3UZ1D5fJUlXA  COMPLETED\n"
     ]
    },
    {
     "name": "stderr",
     "output_type": "stream",
     "text": [
      "C:\\Users\\Uma Bala\\AppData\\Local\\Temp\\ipykernel_23008\\1248639595.py:50: FutureWarning: The frame.append method is deprecated and will be removed from pandas in a future version. Use pandas.concat instead.\n",
      "  df2 = df2.append(data, ignore_index=True)\n"
     ]
    },
    {
     "name": "stdout",
     "output_type": "stream",
     "text": [
      "TRACK 60  in  spotify:track:4iZ4pt7kvcaH6Yo8UoZ4s2  COMPLETED\n"
     ]
    },
    {
     "name": "stderr",
     "output_type": "stream",
     "text": [
      "C:\\Users\\Uma Bala\\AppData\\Local\\Temp\\ipykernel_23008\\1248639595.py:50: FutureWarning: The frame.append method is deprecated and will be removed from pandas in a future version. Use pandas.concat instead.\n",
      "  df2 = df2.append(data, ignore_index=True)\n"
     ]
    },
    {
     "name": "stdout",
     "output_type": "stream",
     "text": [
      "TRACK 61  in  spotify:track:48CKzGWOC65n8a8kdANJV8  COMPLETED\n"
     ]
    },
    {
     "name": "stderr",
     "output_type": "stream",
     "text": [
      "C:\\Users\\Uma Bala\\AppData\\Local\\Temp\\ipykernel_23008\\1248639595.py:50: FutureWarning: The frame.append method is deprecated and will be removed from pandas in a future version. Use pandas.concat instead.\n",
      "  df2 = df2.append(data, ignore_index=True)\n"
     ]
    },
    {
     "name": "stdout",
     "output_type": "stream",
     "text": [
      "TRACK 62  in  spotify:track:2QjOHCTQ1Jl3zawyYOpxh6  COMPLETED\n"
     ]
    },
    {
     "name": "stderr",
     "output_type": "stream",
     "text": [
      "C:\\Users\\Uma Bala\\AppData\\Local\\Temp\\ipykernel_23008\\1248639595.py:50: FutureWarning: The frame.append method is deprecated and will be removed from pandas in a future version. Use pandas.concat instead.\n",
      "  df2 = df2.append(data, ignore_index=True)\n"
     ]
    },
    {
     "name": "stdout",
     "output_type": "stream",
     "text": [
      "TRACK 63  in  spotify:track:0VgkVdmE4gld66l8iyGjgx  COMPLETED\n"
     ]
    },
    {
     "name": "stderr",
     "output_type": "stream",
     "text": [
      "C:\\Users\\Uma Bala\\AppData\\Local\\Temp\\ipykernel_23008\\1248639595.py:50: FutureWarning: The frame.append method is deprecated and will be removed from pandas in a future version. Use pandas.concat instead.\n",
      "  df2 = df2.append(data, ignore_index=True)\n"
     ]
    },
    {
     "name": "stdout",
     "output_type": "stream",
     "text": [
      "TRACK 64  in  spotify:track:4C6Uex2ILwJi9sZXRdmqXp  COMPLETED\n"
     ]
    },
    {
     "name": "stderr",
     "output_type": "stream",
     "text": [
      "C:\\Users\\Uma Bala\\AppData\\Local\\Temp\\ipykernel_23008\\1248639595.py:50: FutureWarning: The frame.append method is deprecated and will be removed from pandas in a future version. Use pandas.concat instead.\n",
      "  df2 = df2.append(data, ignore_index=True)\n"
     ]
    },
    {
     "name": "stdout",
     "output_type": "stream",
     "text": [
      "TRACK 65  in  spotify:track:2IlT65thKQQw248mhk2PjQ  COMPLETED\n"
     ]
    },
    {
     "name": "stderr",
     "output_type": "stream",
     "text": [
      "C:\\Users\\Uma Bala\\AppData\\Local\\Temp\\ipykernel_23008\\1248639595.py:50: FutureWarning: The frame.append method is deprecated and will be removed from pandas in a future version. Use pandas.concat instead.\n",
      "  df2 = df2.append(data, ignore_index=True)\n"
     ]
    },
    {
     "name": "stdout",
     "output_type": "stream",
     "text": [
      "TRACK 66  in  spotify:track:1xK59OXxi2TAAAbmZK0kBL  COMPLETED\n"
     ]
    },
    {
     "name": "stderr",
     "output_type": "stream",
     "text": [
      "C:\\Users\\Uma Bala\\AppData\\Local\\Temp\\ipykernel_23008\\1248639595.py:50: FutureWarning: The frame.append method is deprecated and will be removed from pandas in a future version. Use pandas.concat instead.\n",
      "  df2 = df2.append(data, ignore_index=True)\n"
     ]
    },
    {
     "name": "stdout",
     "output_type": "stream",
     "text": [
      "TRACK 67  in  spotify:track:4pV6Kx1T9L49PBFwH1g8ca  COMPLETED\n"
     ]
    },
    {
     "name": "stderr",
     "output_type": "stream",
     "text": [
      "C:\\Users\\Uma Bala\\AppData\\Local\\Temp\\ipykernel_23008\\1248639595.py:50: FutureWarning: The frame.append method is deprecated and will be removed from pandas in a future version. Use pandas.concat instead.\n",
      "  df2 = df2.append(data, ignore_index=True)\n"
     ]
    },
    {
     "name": "stdout",
     "output_type": "stream",
     "text": [
      "TRACK 68  in  spotify:track:3RKjTYlQrtLXCq5ncswBPp  COMPLETED\n"
     ]
    },
    {
     "name": "stderr",
     "output_type": "stream",
     "text": [
      "C:\\Users\\Uma Bala\\AppData\\Local\\Temp\\ipykernel_23008\\1248639595.py:50: FutureWarning: The frame.append method is deprecated and will be removed from pandas in a future version. Use pandas.concat instead.\n",
      "  df2 = df2.append(data, ignore_index=True)\n"
     ]
    },
    {
     "name": "stdout",
     "output_type": "stream",
     "text": [
      "TRACK 69  in  spotify:track:3LtpKP5abr2qqjunvjlX5i  COMPLETED\n"
     ]
    },
    {
     "name": "stderr",
     "output_type": "stream",
     "text": [
      "C:\\Users\\Uma Bala\\AppData\\Local\\Temp\\ipykernel_23008\\1248639595.py:50: FutureWarning: The frame.append method is deprecated and will be removed from pandas in a future version. Use pandas.concat instead.\n",
      "  df2 = df2.append(data, ignore_index=True)\n"
     ]
    },
    {
     "name": "stdout",
     "output_type": "stream",
     "text": [
      "TRACK 70  in  spotify:track:27ZZdyTSQWI7Cug2d2PkqV  COMPLETED\n"
     ]
    },
    {
     "name": "stderr",
     "output_type": "stream",
     "text": [
      "C:\\Users\\Uma Bala\\AppData\\Local\\Temp\\ipykernel_23008\\1248639595.py:50: FutureWarning: The frame.append method is deprecated and will be removed from pandas in a future version. Use pandas.concat instead.\n",
      "  df2 = df2.append(data, ignore_index=True)\n"
     ]
    },
    {
     "name": "stdout",
     "output_type": "stream",
     "text": [
      "TRACK 71  in  spotify:track:26b3oVLrRUaaybJulow9kz  COMPLETED\n"
     ]
    },
    {
     "name": "stderr",
     "output_type": "stream",
     "text": [
      "C:\\Users\\Uma Bala\\AppData\\Local\\Temp\\ipykernel_23008\\1248639595.py:50: FutureWarning: The frame.append method is deprecated and will be removed from pandas in a future version. Use pandas.concat instead.\n",
      "  df2 = df2.append(data, ignore_index=True)\n"
     ]
    },
    {
     "name": "stdout",
     "output_type": "stream",
     "text": [
      "TRACK 72  in  spotify:track:1Fid2jjqsHViMX6xNH70hE  COMPLETED\n"
     ]
    },
    {
     "name": "stderr",
     "output_type": "stream",
     "text": [
      "C:\\Users\\Uma Bala\\AppData\\Local\\Temp\\ipykernel_23008\\1248639595.py:50: FutureWarning: The frame.append method is deprecated and will be removed from pandas in a future version. Use pandas.concat instead.\n",
      "  df2 = df2.append(data, ignore_index=True)\n"
     ]
    },
    {
     "name": "stdout",
     "output_type": "stream",
     "text": [
      "TRACK 73  in  spotify:track:4uUG5RXrOk84mYEfFvj3cK  COMPLETED\n"
     ]
    },
    {
     "name": "stderr",
     "output_type": "stream",
     "text": [
      "C:\\Users\\Uma Bala\\AppData\\Local\\Temp\\ipykernel_23008\\1248639595.py:50: FutureWarning: The frame.append method is deprecated and will be removed from pandas in a future version. Use pandas.concat instead.\n",
      "  df2 = df2.append(data, ignore_index=True)\n"
     ]
    },
    {
     "name": "stdout",
     "output_type": "stream",
     "text": [
      "TRACK 74  in  spotify:track:76OGwb5RA9h4FxQPT33ekc  COMPLETED\n"
     ]
    },
    {
     "name": "stderr",
     "output_type": "stream",
     "text": [
      "C:\\Users\\Uma Bala\\AppData\\Local\\Temp\\ipykernel_23008\\1248639595.py:50: FutureWarning: The frame.append method is deprecated and will be removed from pandas in a future version. Use pandas.concat instead.\n",
      "  df2 = df2.append(data, ignore_index=True)\n"
     ]
    },
    {
     "name": "stdout",
     "output_type": "stream",
     "text": [
      "TRACK 75  in  spotify:track:2J2Z1SkXYghSajLibnQHOa  COMPLETED\n"
     ]
    },
    {
     "name": "stderr",
     "output_type": "stream",
     "text": [
      "C:\\Users\\Uma Bala\\AppData\\Local\\Temp\\ipykernel_23008\\1248639595.py:50: FutureWarning: The frame.append method is deprecated and will be removed from pandas in a future version. Use pandas.concat instead.\n",
      "  df2 = df2.append(data, ignore_index=True)\n"
     ]
    },
    {
     "name": "stdout",
     "output_type": "stream",
     "text": [
      "TRACK 76  in  spotify:track:6xGruZOHLs39ZbVccQTuPZ  COMPLETED\n"
     ]
    },
    {
     "name": "stderr",
     "output_type": "stream",
     "text": [
      "C:\\Users\\Uma Bala\\AppData\\Local\\Temp\\ipykernel_23008\\1248639595.py:50: FutureWarning: The frame.append method is deprecated and will be removed from pandas in a future version. Use pandas.concat instead.\n",
      "  df2 = df2.append(data, ignore_index=True)\n"
     ]
    },
    {
     "name": "stdout",
     "output_type": "stream",
     "text": [
      "TRACK 1  in  spotify:track:5CM4UuQ9Gnd6K2YyKGPMoK  COMPLETED\n"
     ]
    },
    {
     "name": "stderr",
     "output_type": "stream",
     "text": [
      "C:\\Users\\Uma Bala\\AppData\\Local\\Temp\\ipykernel_23008\\1248639595.py:50: FutureWarning: The frame.append method is deprecated and will be removed from pandas in a future version. Use pandas.concat instead.\n",
      "  df2 = df2.append(data, ignore_index=True)\n",
      "C:\\Users\\Uma Bala\\AppData\\Local\\Temp\\ipykernel_23008\\1248639595.py:50: FutureWarning: The frame.append method is deprecated and will be removed from pandas in a future version. Use pandas.concat instead.\n",
      "  df2 = df2.append(data, ignore_index=True)\n"
     ]
    },
    {
     "name": "stdout",
     "output_type": "stream",
     "text": [
      "TRACK 2  in  spotify:track:5YqEzk3C5c3UZ1D5fJUlXA  COMPLETED\n",
      "TRACK 3  in  spotify:track:1PckUlxKqWQs3RlWXVBLw3  COMPLETED\n"
     ]
    },
    {
     "name": "stderr",
     "output_type": "stream",
     "text": [
      "C:\\Users\\Uma Bala\\AppData\\Local\\Temp\\ipykernel_23008\\1248639595.py:50: FutureWarning: The frame.append method is deprecated and will be removed from pandas in a future version. Use pandas.concat instead.\n",
      "  df2 = df2.append(data, ignore_index=True)\n"
     ]
    },
    {
     "name": "stdout",
     "output_type": "stream",
     "text": [
      "TRACK 4  in  spotify:track:3nqQXoyQOWXiESFLlDF1hG  COMPLETED\n"
     ]
    },
    {
     "name": "stderr",
     "output_type": "stream",
     "text": [
      "C:\\Users\\Uma Bala\\AppData\\Local\\Temp\\ipykernel_23008\\1248639595.py:50: FutureWarning: The frame.append method is deprecated and will be removed from pandas in a future version. Use pandas.concat instead.\n",
      "  df2 = df2.append(data, ignore_index=True)\n"
     ]
    },
    {
     "name": "stdout",
     "output_type": "stream",
     "text": [
      "TRACK 5  in  spotify:track:4fouWK6XVHhzl78KzQ1UjL  COMPLETED\n"
     ]
    },
    {
     "name": "stderr",
     "output_type": "stream",
     "text": [
      "C:\\Users\\Uma Bala\\AppData\\Local\\Temp\\ipykernel_23008\\1248639595.py:50: FutureWarning: The frame.append method is deprecated and will be removed from pandas in a future version. Use pandas.concat instead.\n",
      "  df2 = df2.append(data, ignore_index=True)\n"
     ]
    },
    {
     "name": "stdout",
     "output_type": "stream",
     "text": [
      "TRACK 6  in  spotify:track:1PtQJZVZIdWIYdARpZRDFO  COMPLETED\n"
     ]
    },
    {
     "name": "stderr",
     "output_type": "stream",
     "text": [
      "C:\\Users\\Uma Bala\\AppData\\Local\\Temp\\ipykernel_23008\\1248639595.py:50: FutureWarning: The frame.append method is deprecated and will be removed from pandas in a future version. Use pandas.concat instead.\n",
      "  df2 = df2.append(data, ignore_index=True)\n"
     ]
    },
    {
     "name": "stdout",
     "output_type": "stream",
     "text": [
      "TRACK 7  in  spotify:track:0T5iIrXA4p5GsubkhuBIKV  COMPLETED\n"
     ]
    },
    {
     "name": "stderr",
     "output_type": "stream",
     "text": [
      "C:\\Users\\Uma Bala\\AppData\\Local\\Temp\\ipykernel_23008\\1248639595.py:50: FutureWarning: The frame.append method is deprecated and will be removed from pandas in a future version. Use pandas.concat instead.\n",
      "  df2 = df2.append(data, ignore_index=True)\n",
      "C:\\Users\\Uma Bala\\AppData\\Local\\Temp\\ipykernel_23008\\1248639595.py:50: FutureWarning: The frame.append method is deprecated and will be removed from pandas in a future version. Use pandas.concat instead.\n",
      "  df2 = df2.append(data, ignore_index=True)\n"
     ]
    },
    {
     "name": "stdout",
     "output_type": "stream",
     "text": [
      "TRACK 8  in  spotify:track:76OGwb5RA9h4FxQPT33ekc  COMPLETED\n",
      "TRACK 9  in  spotify:track:4C6Uex2ILwJi9sZXRdmqXp  COMPLETED\n"
     ]
    },
    {
     "name": "stderr",
     "output_type": "stream",
     "text": [
      "C:\\Users\\Uma Bala\\AppData\\Local\\Temp\\ipykernel_23008\\1248639595.py:50: FutureWarning: The frame.append method is deprecated and will be removed from pandas in a future version. Use pandas.concat instead.\n",
      "  df2 = df2.append(data, ignore_index=True)\n"
     ]
    },
    {
     "name": "stdout",
     "output_type": "stream",
     "text": [
      "TRACK 10  in  spotify:track:4kXxEhuatrvwrTQycA7s9B  COMPLETED\n"
     ]
    },
    {
     "name": "stderr",
     "output_type": "stream",
     "text": [
      "C:\\Users\\Uma Bala\\AppData\\Local\\Temp\\ipykernel_23008\\1248639595.py:50: FutureWarning: The frame.append method is deprecated and will be removed from pandas in a future version. Use pandas.concat instead.\n",
      "  df2 = df2.append(data, ignore_index=True)\n"
     ]
    },
    {
     "name": "stdout",
     "output_type": "stream",
     "text": [
      "TRACK 11  in  spotify:track:4uUG5RXrOk84mYEfFvj3cK  COMPLETED\n"
     ]
    },
    {
     "name": "stderr",
     "output_type": "stream",
     "text": [
      "C:\\Users\\Uma Bala\\AppData\\Local\\Temp\\ipykernel_23008\\1248639595.py:50: FutureWarning: The frame.append method is deprecated and will be removed from pandas in a future version. Use pandas.concat instead.\n",
      "  df2 = df2.append(data, ignore_index=True)\n",
      "C:\\Users\\Uma Bala\\AppData\\Local\\Temp\\ipykernel_23008\\1248639595.py:50: FutureWarning: The frame.append method is deprecated and will be removed from pandas in a future version. Use pandas.concat instead.\n",
      "  df2 = df2.append(data, ignore_index=True)\n"
     ]
    },
    {
     "name": "stdout",
     "output_type": "stream",
     "text": [
      "TRACK 12  in  spotify:track:1xzi1Jcr7mEi9K2RfzLOqS  COMPLETED\n",
      "TRACK 13  in  spotify:track:3yMC1KsTwh0ceXdIe4QQAQ  COMPLETED\n"
     ]
    },
    {
     "name": "stderr",
     "output_type": "stream",
     "text": [
      "C:\\Users\\Uma Bala\\AppData\\Local\\Temp\\ipykernel_23008\\1248639595.py:50: FutureWarning: The frame.append method is deprecated and will be removed from pandas in a future version. Use pandas.concat instead.\n",
      "  df2 = df2.append(data, ignore_index=True)\n"
     ]
    },
    {
     "name": "stdout",
     "output_type": "stream",
     "text": [
      "TRACK 14  in  spotify:track:0sTlGEld0h8kIPZaKDYUf4  COMPLETED\n"
     ]
    },
    {
     "name": "stderr",
     "output_type": "stream",
     "text": [
      "C:\\Users\\Uma Bala\\AppData\\Local\\Temp\\ipykernel_23008\\1248639595.py:50: FutureWarning: The frame.append method is deprecated and will be removed from pandas in a future version. Use pandas.concat instead.\n",
      "  df2 = df2.append(data, ignore_index=True)\n"
     ]
    },
    {
     "name": "stdout",
     "output_type": "stream",
     "text": [
      "TRACK 15  in  spotify:track:5IgjP7X4th6nMNDh4akUHb  COMPLETED\n"
     ]
    },
    {
     "name": "stderr",
     "output_type": "stream",
     "text": [
      "C:\\Users\\Uma Bala\\AppData\\Local\\Temp\\ipykernel_23008\\1248639595.py:50: FutureWarning: The frame.append method is deprecated and will be removed from pandas in a future version. Use pandas.concat instead.\n",
      "  df2 = df2.append(data, ignore_index=True)\n"
     ]
    },
    {
     "name": "stdout",
     "output_type": "stream",
     "text": [
      "TRACK 16  in  spotify:track:0W6I02J9xcqK8MtSeosEXb  COMPLETED\n"
     ]
    },
    {
     "name": "stderr",
     "output_type": "stream",
     "text": [
      "C:\\Users\\Uma Bala\\AppData\\Local\\Temp\\ipykernel_23008\\1248639595.py:50: FutureWarning: The frame.append method is deprecated and will be removed from pandas in a future version. Use pandas.concat instead.\n",
      "  df2 = df2.append(data, ignore_index=True)\n"
     ]
    },
    {
     "name": "stdout",
     "output_type": "stream",
     "text": [
      "TRACK 17  in  spotify:track:15iXvMt4bYvp1xfIscveRW  COMPLETED\n"
     ]
    },
    {
     "name": "stderr",
     "output_type": "stream",
     "text": [
      "C:\\Users\\Uma Bala\\AppData\\Local\\Temp\\ipykernel_23008\\1248639595.py:50: FutureWarning: The frame.append method is deprecated and will be removed from pandas in a future version. Use pandas.concat instead.\n",
      "  df2 = df2.append(data, ignore_index=True)\n"
     ]
    },
    {
     "name": "stdout",
     "output_type": "stream",
     "text": [
      "TRACK 18  in  spotify:track:59CfNbkERJ3NoTXDvoURjj  COMPLETED\n"
     ]
    },
    {
     "name": "stderr",
     "output_type": "stream",
     "text": [
      "C:\\Users\\Uma Bala\\AppData\\Local\\Temp\\ipykernel_23008\\1248639595.py:50: FutureWarning: The frame.append method is deprecated and will be removed from pandas in a future version. Use pandas.concat instead.\n",
      "  df2 = df2.append(data, ignore_index=True)\n"
     ]
    },
    {
     "name": "stdout",
     "output_type": "stream",
     "text": [
      "TRACK 19  in  spotify:track:4cacyP5c3PMlfnyjpg13xW  COMPLETED\n"
     ]
    },
    {
     "name": "stderr",
     "output_type": "stream",
     "text": [
      "C:\\Users\\Uma Bala\\AppData\\Local\\Temp\\ipykernel_23008\\1248639595.py:50: FutureWarning: The frame.append method is deprecated and will be removed from pandas in a future version. Use pandas.concat instead.\n",
      "  df2 = df2.append(data, ignore_index=True)\n"
     ]
    },
    {
     "name": "stdout",
     "output_type": "stream",
     "text": [
      "TRACK 20  in  spotify:track:2Ch7LmS7r2Gy2kc64wv3Bz  COMPLETED\n"
     ]
    },
    {
     "name": "stderr",
     "output_type": "stream",
     "text": [
      "C:\\Users\\Uma Bala\\AppData\\Local\\Temp\\ipykernel_23008\\1248639595.py:50: FutureWarning: The frame.append method is deprecated and will be removed from pandas in a future version. Use pandas.concat instead.\n",
      "  df2 = df2.append(data, ignore_index=True)\n",
      "C:\\Users\\Uma Bala\\AppData\\Local\\Temp\\ipykernel_23008\\1248639595.py:50: FutureWarning: The frame.append method is deprecated and will be removed from pandas in a future version. Use pandas.concat instead.\n",
      "  df2 = df2.append(data, ignore_index=True)\n"
     ]
    },
    {
     "name": "stdout",
     "output_type": "stream",
     "text": [
      "TRACK 21  in  spotify:track:27ZZdyTSQWI7Cug2d2PkqV  COMPLETED\n",
      "TRACK 22  in  spotify:track:3JvKfv6T31zO0ini8iNItO  COMPLETED\n"
     ]
    },
    {
     "name": "stderr",
     "output_type": "stream",
     "text": [
      "C:\\Users\\Uma Bala\\AppData\\Local\\Temp\\ipykernel_23008\\1248639595.py:50: FutureWarning: The frame.append method is deprecated and will be removed from pandas in a future version. Use pandas.concat instead.\n",
      "  df2 = df2.append(data, ignore_index=True)\n"
     ]
    },
    {
     "name": "stdout",
     "output_type": "stream",
     "text": [
      "TRACK 23  in  spotify:track:6xGruZOHLs39ZbVccQTuPZ  COMPLETED\n"
     ]
    },
    {
     "name": "stderr",
     "output_type": "stream",
     "text": [
      "C:\\Users\\Uma Bala\\AppData\\Local\\Temp\\ipykernel_23008\\1248639595.py:50: FutureWarning: The frame.append method is deprecated and will be removed from pandas in a future version. Use pandas.concat instead.\n",
      "  df2 = df2.append(data, ignore_index=True)\n"
     ]
    },
    {
     "name": "stdout",
     "output_type": "stream",
     "text": [
      "TRACK 24  in  spotify:track:0wHFktze2PHC5jDt3B17DC  COMPLETED\n"
     ]
    },
    {
     "name": "stderr",
     "output_type": "stream",
     "text": [
      "C:\\Users\\Uma Bala\\AppData\\Local\\Temp\\ipykernel_23008\\1248639595.py:50: FutureWarning: The frame.append method is deprecated and will be removed from pandas in a future version. Use pandas.concat instead.\n",
      "  df2 = df2.append(data, ignore_index=True)\n"
     ]
    },
    {
     "name": "stdout",
     "output_type": "stream",
     "text": [
      "TRACK 25  in  spotify:track:39JofJHEtg8I4fSyo7Imft  COMPLETED\n"
     ]
    },
    {
     "name": "stderr",
     "output_type": "stream",
     "text": [
      "C:\\Users\\Uma Bala\\AppData\\Local\\Temp\\ipykernel_23008\\1248639595.py:50: FutureWarning: The frame.append method is deprecated and will be removed from pandas in a future version. Use pandas.concat instead.\n",
      "  df2 = df2.append(data, ignore_index=True)\n"
     ]
    },
    {
     "name": "stdout",
     "output_type": "stream",
     "text": [
      "TRACK 26  in  spotify:track:3nOz1U41SZZ0N3fuUWr9nb  COMPLETED\n"
     ]
    },
    {
     "name": "stderr",
     "output_type": "stream",
     "text": [
      "C:\\Users\\Uma Bala\\AppData\\Local\\Temp\\ipykernel_23008\\1248639595.py:50: FutureWarning: The frame.append method is deprecated and will be removed from pandas in a future version. Use pandas.concat instead.\n",
      "  df2 = df2.append(data, ignore_index=True)\n"
     ]
    },
    {
     "name": "stdout",
     "output_type": "stream",
     "text": [
      "TRACK 27  in  spotify:track:5odlY52u43F5BjByhxg7wg  COMPLETED\n"
     ]
    },
    {
     "name": "stderr",
     "output_type": "stream",
     "text": [
      "C:\\Users\\Uma Bala\\AppData\\Local\\Temp\\ipykernel_23008\\1248639595.py:50: FutureWarning: The frame.append method is deprecated and will be removed from pandas in a future version. Use pandas.concat instead.\n",
      "  df2 = df2.append(data, ignore_index=True)\n"
     ]
    },
    {
     "name": "stdout",
     "output_type": "stream",
     "text": [
      "TRACK 28  in  spotify:track:62ke5zFUJN6RvtXZgVH0F8  COMPLETED\n"
     ]
    },
    {
     "name": "stderr",
     "output_type": "stream",
     "text": [
      "C:\\Users\\Uma Bala\\AppData\\Local\\Temp\\ipykernel_23008\\1248639595.py:50: FutureWarning: The frame.append method is deprecated and will be removed from pandas in a future version. Use pandas.concat instead.\n",
      "  df2 = df2.append(data, ignore_index=True)\n"
     ]
    },
    {
     "name": "stdout",
     "output_type": "stream",
     "text": [
      "TRACK 29  in  spotify:track:6f5ExP43esnvdKPddwKXJH  COMPLETED\n"
     ]
    },
    {
     "name": "stderr",
     "output_type": "stream",
     "text": [
      "C:\\Users\\Uma Bala\\AppData\\Local\\Temp\\ipykernel_23008\\1248639595.py:50: FutureWarning: The frame.append method is deprecated and will be removed from pandas in a future version. Use pandas.concat instead.\n",
      "  df2 = df2.append(data, ignore_index=True)\n"
     ]
    },
    {
     "name": "stdout",
     "output_type": "stream",
     "text": [
      "TRACK 30  in  spotify:track:3LtpKP5abr2qqjunvjlX5i  COMPLETED\n"
     ]
    },
    {
     "name": "stderr",
     "output_type": "stream",
     "text": [
      "C:\\Users\\Uma Bala\\AppData\\Local\\Temp\\ipykernel_23008\\1248639595.py:50: FutureWarning: The frame.append method is deprecated and will be removed from pandas in a future version. Use pandas.concat instead.\n",
      "  df2 = df2.append(data, ignore_index=True)\n"
     ]
    },
    {
     "name": "stdout",
     "output_type": "stream",
     "text": [
      "TRACK 31  in  spotify:track:1I4lCSP69P74nU3a6Su5L2  COMPLETED\n"
     ]
    },
    {
     "name": "stderr",
     "output_type": "stream",
     "text": [
      "C:\\Users\\Uma Bala\\AppData\\Local\\Temp\\ipykernel_23008\\1248639595.py:50: FutureWarning: The frame.append method is deprecated and will be removed from pandas in a future version. Use pandas.concat instead.\n",
      "  df2 = df2.append(data, ignore_index=True)\n"
     ]
    },
    {
     "name": "stdout",
     "output_type": "stream",
     "text": [
      "TRACK 32  in  spotify:track:4SqWKzw0CbA05TGszDgMlc  COMPLETED\n"
     ]
    },
    {
     "name": "stderr",
     "output_type": "stream",
     "text": [
      "C:\\Users\\Uma Bala\\AppData\\Local\\Temp\\ipykernel_23008\\1248639595.py:50: FutureWarning: The frame.append method is deprecated and will be removed from pandas in a future version. Use pandas.concat instead.\n",
      "  df2 = df2.append(data, ignore_index=True)\n"
     ]
    },
    {
     "name": "stdout",
     "output_type": "stream",
     "text": [
      "TRACK 33  in  spotify:track:0QHEIqNKsMoOY5urbzN48u  COMPLETED\n"
     ]
    },
    {
     "name": "stderr",
     "output_type": "stream",
     "text": [
      "C:\\Users\\Uma Bala\\AppData\\Local\\Temp\\ipykernel_23008\\1248639595.py:50: FutureWarning: The frame.append method is deprecated and will be removed from pandas in a future version. Use pandas.concat instead.\n",
      "  df2 = df2.append(data, ignore_index=True)\n"
     ]
    },
    {
     "name": "stdout",
     "output_type": "stream",
     "text": [
      "TRACK 34  in  spotify:track:73vIOb4Q7YN6HeJTbscRx5  COMPLETED\n"
     ]
    },
    {
     "name": "stderr",
     "output_type": "stream",
     "text": [
      "C:\\Users\\Uma Bala\\AppData\\Local\\Temp\\ipykernel_23008\\1248639595.py:50: FutureWarning: The frame.append method is deprecated and will be removed from pandas in a future version. Use pandas.concat instead.\n",
      "  df2 = df2.append(data, ignore_index=True)\n"
     ]
    },
    {
     "name": "stdout",
     "output_type": "stream",
     "text": [
      "TRACK 35  in  spotify:track:2cSdAkzAf2T4j4aLvx4LLz  COMPLETED\n"
     ]
    },
    {
     "name": "stderr",
     "output_type": "stream",
     "text": [
      "C:\\Users\\Uma Bala\\AppData\\Local\\Temp\\ipykernel_23008\\1248639595.py:50: FutureWarning: The frame.append method is deprecated and will be removed from pandas in a future version. Use pandas.concat instead.\n",
      "  df2 = df2.append(data, ignore_index=True)\n"
     ]
    },
    {
     "name": "stdout",
     "output_type": "stream",
     "text": [
      "TRACK 36  in  spotify:track:0o9zmvc5f3EFApU52PPIyW  COMPLETED\n"
     ]
    },
    {
     "name": "stderr",
     "output_type": "stream",
     "text": [
      "C:\\Users\\Uma Bala\\AppData\\Local\\Temp\\ipykernel_23008\\1248639595.py:50: FutureWarning: The frame.append method is deprecated and will be removed from pandas in a future version. Use pandas.concat instead.\n",
      "  df2 = df2.append(data, ignore_index=True)\n"
     ]
    },
    {
     "name": "stdout",
     "output_type": "stream",
     "text": [
      "TRACK 37  in  spotify:track:0oA9wBGDY4uyILLg4GymWP  COMPLETED\n"
     ]
    },
    {
     "name": "stderr",
     "output_type": "stream",
     "text": [
      "C:\\Users\\Uma Bala\\AppData\\Local\\Temp\\ipykernel_23008\\1248639595.py:50: FutureWarning: The frame.append method is deprecated and will be removed from pandas in a future version. Use pandas.concat instead.\n",
      "  df2 = df2.append(data, ignore_index=True)\n"
     ]
    },
    {
     "name": "stdout",
     "output_type": "stream",
     "text": [
      "TRACK 38  in  spotify:track:2TktkzfozZifbQhXjT6I33  COMPLETED\n"
     ]
    },
    {
     "name": "stderr",
     "output_type": "stream",
     "text": [
      "C:\\Users\\Uma Bala\\AppData\\Local\\Temp\\ipykernel_23008\\1248639595.py:50: FutureWarning: The frame.append method is deprecated and will be removed from pandas in a future version. Use pandas.concat instead.\n",
      "  df2 = df2.append(data, ignore_index=True)\n"
     ]
    },
    {
     "name": "stdout",
     "output_type": "stream",
     "text": [
      "TRACK 39  in  spotify:track:4Dvkj6JhhA12EX05fT7y2e  COMPLETED\n"
     ]
    },
    {
     "name": "stderr",
     "output_type": "stream",
     "text": [
      "C:\\Users\\Uma Bala\\AppData\\Local\\Temp\\ipykernel_23008\\1248639595.py:50: FutureWarning: The frame.append method is deprecated and will be removed from pandas in a future version. Use pandas.concat instead.\n",
      "  df2 = df2.append(data, ignore_index=True)\n"
     ]
    },
    {
     "name": "stdout",
     "output_type": "stream",
     "text": [
      "TRACK 40  in  spotify:track:4FyesJzVpA39hbYvcseO2d  COMPLETED\n"
     ]
    },
    {
     "name": "stderr",
     "output_type": "stream",
     "text": [
      "C:\\Users\\Uma Bala\\AppData\\Local\\Temp\\ipykernel_23008\\1248639595.py:50: FutureWarning: The frame.append method is deprecated and will be removed from pandas in a future version. Use pandas.concat instead.\n",
      "  df2 = df2.append(data, ignore_index=True)\n"
     ]
    },
    {
     "name": "stdout",
     "output_type": "stream",
     "text": [
      "TRACK 41  in  spotify:track:3GZD6HmiNUhxXYf8Gch723  COMPLETED\n"
     ]
    },
    {
     "name": "stderr",
     "output_type": "stream",
     "text": [
      "C:\\Users\\Uma Bala\\AppData\\Local\\Temp\\ipykernel_23008\\1248639595.py:50: FutureWarning: The frame.append method is deprecated and will be removed from pandas in a future version. Use pandas.concat instead.\n",
      "  df2 = df2.append(data, ignore_index=True)\n"
     ]
    },
    {
     "name": "stdout",
     "output_type": "stream",
     "text": [
      "TRACK 42  in  spotify:track:58HvfVOeJY7lUuCqF0m3ly  COMPLETED\n"
     ]
    },
    {
     "name": "stderr",
     "output_type": "stream",
     "text": [
      "C:\\Users\\Uma Bala\\AppData\\Local\\Temp\\ipykernel_23008\\1248639595.py:50: FutureWarning: The frame.append method is deprecated and will be removed from pandas in a future version. Use pandas.concat instead.\n",
      "  df2 = df2.append(data, ignore_index=True)\n"
     ]
    },
    {
     "name": "stdout",
     "output_type": "stream",
     "text": [
      "TRACK 43  in  spotify:track:1Fid2jjqsHViMX6xNH70hE  COMPLETED\n"
     ]
    },
    {
     "name": "stderr",
     "output_type": "stream",
     "text": [
      "C:\\Users\\Uma Bala\\AppData\\Local\\Temp\\ipykernel_23008\\1248639595.py:50: FutureWarning: The frame.append method is deprecated and will be removed from pandas in a future version. Use pandas.concat instead.\n",
      "  df2 = df2.append(data, ignore_index=True)\n"
     ]
    },
    {
     "name": "stdout",
     "output_type": "stream",
     "text": [
      "TRACK 44  in  spotify:track:3o9kpgkIcffx0iSwxhuNI2  COMPLETED\n"
     ]
    },
    {
     "name": "stderr",
     "output_type": "stream",
     "text": [
      "C:\\Users\\Uma Bala\\AppData\\Local\\Temp\\ipykernel_23008\\1248639595.py:50: FutureWarning: The frame.append method is deprecated and will be removed from pandas in a future version. Use pandas.concat instead.\n",
      "  df2 = df2.append(data, ignore_index=True)\n"
     ]
    },
    {
     "name": "stdout",
     "output_type": "stream",
     "text": [
      "TRACK 45  in  spotify:track:1JIgFmCP5OCTEGV866WP3b  COMPLETED\n"
     ]
    },
    {
     "name": "stderr",
     "output_type": "stream",
     "text": [
      "C:\\Users\\Uma Bala\\AppData\\Local\\Temp\\ipykernel_23008\\1248639595.py:50: FutureWarning: The frame.append method is deprecated and will be removed from pandas in a future version. Use pandas.concat instead.\n",
      "  df2 = df2.append(data, ignore_index=True)\n"
     ]
    },
    {
     "name": "stdout",
     "output_type": "stream",
     "text": [
      "TRACK 46  in  spotify:track:7v3rmoy5jcn4h5UqwQyCM3  COMPLETED\n"
     ]
    },
    {
     "name": "stderr",
     "output_type": "stream",
     "text": [
      "C:\\Users\\Uma Bala\\AppData\\Local\\Temp\\ipykernel_23008\\1248639595.py:50: FutureWarning: The frame.append method is deprecated and will be removed from pandas in a future version. Use pandas.concat instead.\n",
      "  df2 = df2.append(data, ignore_index=True)\n"
     ]
    },
    {
     "name": "stdout",
     "output_type": "stream",
     "text": [
      "TRACK 47  in  spotify:track:1xK59OXxi2TAAAbmZK0kBL  COMPLETED\n"
     ]
    },
    {
     "name": "stderr",
     "output_type": "stream",
     "text": [
      "C:\\Users\\Uma Bala\\AppData\\Local\\Temp\\ipykernel_23008\\1248639595.py:50: FutureWarning: The frame.append method is deprecated and will be removed from pandas in a future version. Use pandas.concat instead.\n",
      "  df2 = df2.append(data, ignore_index=True)\n"
     ]
    },
    {
     "name": "stdout",
     "output_type": "stream",
     "text": [
      "TRACK 48  in  spotify:track:6Jkm5kUldvIqxzI1Pa7nXH  COMPLETED\n"
     ]
    },
    {
     "name": "stderr",
     "output_type": "stream",
     "text": [
      "C:\\Users\\Uma Bala\\AppData\\Local\\Temp\\ipykernel_23008\\1248639595.py:50: FutureWarning: The frame.append method is deprecated and will be removed from pandas in a future version. Use pandas.concat instead.\n",
      "  df2 = df2.append(data, ignore_index=True)\n"
     ]
    },
    {
     "name": "stdout",
     "output_type": "stream",
     "text": [
      "TRACK 49  in  spotify:track:2DgdHcjWmO3qd50RzuBLgZ  COMPLETED\n"
     ]
    },
    {
     "name": "stderr",
     "output_type": "stream",
     "text": [
      "C:\\Users\\Uma Bala\\AppData\\Local\\Temp\\ipykernel_23008\\1248639595.py:50: FutureWarning: The frame.append method is deprecated and will be removed from pandas in a future version. Use pandas.concat instead.\n",
      "  df2 = df2.append(data, ignore_index=True)\n"
     ]
    },
    {
     "name": "stdout",
     "output_type": "stream",
     "text": [
      "TRACK 50  in  spotify:track:74loibzxXRL875X20kenvk  COMPLETED\n"
     ]
    },
    {
     "name": "stderr",
     "output_type": "stream",
     "text": [
      "C:\\Users\\Uma Bala\\AppData\\Local\\Temp\\ipykernel_23008\\1248639595.py:50: FutureWarning: The frame.append method is deprecated and will be removed from pandas in a future version. Use pandas.concat instead.\n",
      "  df2 = df2.append(data, ignore_index=True)\n"
     ]
    }
   ],
   "source": [
    "df_hit_6 = get_song_data('https://open.spotify.com/playlist/7ne55gJlVJMIEWSLp4jp93')\n",
    "df_hit_7 = get_song_data('https://open.spotify.com/playlist/37i9dQZF1DX7EqpAEG8F4f')"
   ]
  },
  {
   "cell_type": "code",
   "execution_count": 26,
   "id": "8a94b651",
   "metadata": {},
   "outputs": [
    {
     "name": "stdout",
     "output_type": "stream",
     "text": [
      "TRACK 1  in  spotify:track:67eYAnkdTu8BMcIx29z26L  COMPLETED\n"
     ]
    },
    {
     "name": "stderr",
     "output_type": "stream",
     "text": [
      "C:\\Users\\Uma Bala\\AppData\\Local\\Temp\\ipykernel_23008\\1248639595.py:50: FutureWarning: The frame.append method is deprecated and will be removed from pandas in a future version. Use pandas.concat instead.\n",
      "  df2 = df2.append(data, ignore_index=True)\n"
     ]
    },
    {
     "name": "stdout",
     "output_type": "stream",
     "text": [
      "TRACK 2  in  spotify:track:3aBwmFHB6JHnWcsFWUZYKN  COMPLETED\n"
     ]
    },
    {
     "name": "stderr",
     "output_type": "stream",
     "text": [
      "C:\\Users\\Uma Bala\\AppData\\Local\\Temp\\ipykernel_23008\\1248639595.py:50: FutureWarning: The frame.append method is deprecated and will be removed from pandas in a future version. Use pandas.concat instead.\n",
      "  df2 = df2.append(data, ignore_index=True)\n"
     ]
    },
    {
     "name": "stdout",
     "output_type": "stream",
     "text": [
      "TRACK 3  in  spotify:track:741UUVE2kuITl0c6zuqqbO  COMPLETED\n"
     ]
    },
    {
     "name": "stderr",
     "output_type": "stream",
     "text": [
      "C:\\Users\\Uma Bala\\AppData\\Local\\Temp\\ipykernel_23008\\1248639595.py:50: FutureWarning: The frame.append method is deprecated and will be removed from pandas in a future version. Use pandas.concat instead.\n",
      "  df2 = df2.append(data, ignore_index=True)\n"
     ]
    },
    {
     "name": "stdout",
     "output_type": "stream",
     "text": [
      "TRACK 4  in  spotify:track:1TL4lgjSoc9SeKKjLhDO1n  COMPLETED\n"
     ]
    },
    {
     "name": "stderr",
     "output_type": "stream",
     "text": [
      "C:\\Users\\Uma Bala\\AppData\\Local\\Temp\\ipykernel_23008\\1248639595.py:50: FutureWarning: The frame.append method is deprecated and will be removed from pandas in a future version. Use pandas.concat instead.\n",
      "  df2 = df2.append(data, ignore_index=True)\n"
     ]
    },
    {
     "name": "stdout",
     "output_type": "stream",
     "text": [
      "TRACK 5  in  spotify:track:5mjYQaktjmjcMKcUIcqz4s  COMPLETED\n"
     ]
    },
    {
     "name": "stderr",
     "output_type": "stream",
     "text": [
      "C:\\Users\\Uma Bala\\AppData\\Local\\Temp\\ipykernel_23008\\1248639595.py:50: FutureWarning: The frame.append method is deprecated and will be removed from pandas in a future version. Use pandas.concat instead.\n",
      "  df2 = df2.append(data, ignore_index=True)\n"
     ]
    },
    {
     "name": "stdout",
     "output_type": "stream",
     "text": [
      "TRACK 6  in  spotify:track:6Cf1vqSNtka62rt74OQwjk  COMPLETED\n"
     ]
    },
    {
     "name": "stderr",
     "output_type": "stream",
     "text": [
      "C:\\Users\\Uma Bala\\AppData\\Local\\Temp\\ipykernel_23008\\1248639595.py:50: FutureWarning: The frame.append method is deprecated and will be removed from pandas in a future version. Use pandas.concat instead.\n",
      "  df2 = df2.append(data, ignore_index=True)\n"
     ]
    },
    {
     "name": "stdout",
     "output_type": "stream",
     "text": [
      "TRACK 7  in  spotify:track:2IGMVunIBsBLtEQyoI1Mu7  COMPLETED\n"
     ]
    },
    {
     "name": "stderr",
     "output_type": "stream",
     "text": [
      "C:\\Users\\Uma Bala\\AppData\\Local\\Temp\\ipykernel_23008\\1248639595.py:50: FutureWarning: The frame.append method is deprecated and will be removed from pandas in a future version. Use pandas.concat instead.\n",
      "  df2 = df2.append(data, ignore_index=True)\n"
     ]
    },
    {
     "name": "stdout",
     "output_type": "stream",
     "text": [
      "TRACK 8  in  spotify:track:1BxfuPKGuaTgP7aM0Bbdwr  COMPLETED\n"
     ]
    },
    {
     "name": "stderr",
     "output_type": "stream",
     "text": [
      "C:\\Users\\Uma Bala\\AppData\\Local\\Temp\\ipykernel_23008\\1248639595.py:50: FutureWarning: The frame.append method is deprecated and will be removed from pandas in a future version. Use pandas.concat instead.\n",
      "  df2 = df2.append(data, ignore_index=True)\n"
     ]
    },
    {
     "name": "stdout",
     "output_type": "stream",
     "text": [
      "TRACK 9  in  spotify:track:59NraMJsLaMCVtwXTSia8i  COMPLETED\n"
     ]
    },
    {
     "name": "stderr",
     "output_type": "stream",
     "text": [
      "C:\\Users\\Uma Bala\\AppData\\Local\\Temp\\ipykernel_23008\\1248639595.py:50: FutureWarning: The frame.append method is deprecated and will be removed from pandas in a future version. Use pandas.concat instead.\n",
      "  df2 = df2.append(data, ignore_index=True)\n"
     ]
    },
    {
     "name": "stdout",
     "output_type": "stream",
     "text": [
      "TRACK 10  in  spotify:track:3Dgrdg74tFa313lkCJRWXG  COMPLETED\n"
     ]
    },
    {
     "name": "stderr",
     "output_type": "stream",
     "text": [
      "C:\\Users\\Uma Bala\\AppData\\Local\\Temp\\ipykernel_23008\\1248639595.py:50: FutureWarning: The frame.append method is deprecated and will be removed from pandas in a future version. Use pandas.concat instead.\n",
      "  df2 = df2.append(data, ignore_index=True)\n",
      "C:\\Users\\Uma Bala\\AppData\\Local\\Temp\\ipykernel_23008\\1248639595.py:50: FutureWarning: The frame.append method is deprecated and will be removed from pandas in a future version. Use pandas.concat instead.\n",
      "  df2 = df2.append(data, ignore_index=True)\n"
     ]
    },
    {
     "name": "stdout",
     "output_type": "stream",
     "text": [
      "TRACK 11  in  spotify:track:3B228N0GxfUCwPyfNcJxps  COMPLETED\n",
      "TRACK 12  in  spotify:track:7x9aauaA9cu6tyfpHnqDLo  COMPLETED\n"
     ]
    },
    {
     "name": "stderr",
     "output_type": "stream",
     "text": [
      "C:\\Users\\Uma Bala\\AppData\\Local\\Temp\\ipykernel_23008\\1248639595.py:50: FutureWarning: The frame.append method is deprecated and will be removed from pandas in a future version. Use pandas.concat instead.\n",
      "  df2 = df2.append(data, ignore_index=True)\n"
     ]
    },
    {
     "name": "stdout",
     "output_type": "stream",
     "text": [
      "TRACK 13  in  spotify:track:23RoR84KodL5HWvUTneQ1w  COMPLETED\n"
     ]
    },
    {
     "name": "stderr",
     "output_type": "stream",
     "text": [
      "C:\\Users\\Uma Bala\\AppData\\Local\\Temp\\ipykernel_23008\\1248639595.py:50: FutureWarning: The frame.append method is deprecated and will be removed from pandas in a future version. Use pandas.concat instead.\n",
      "  df2 = df2.append(data, ignore_index=True)\n"
     ]
    },
    {
     "name": "stdout",
     "output_type": "stream",
     "text": [
      "TRACK 14  in  spotify:track:61p7JH9L1xZvU6ioJeN2zJ  COMPLETED\n"
     ]
    },
    {
     "name": "stderr",
     "output_type": "stream",
     "text": [
      "C:\\Users\\Uma Bala\\AppData\\Local\\Temp\\ipykernel_23008\\1248639595.py:50: FutureWarning: The frame.append method is deprecated and will be removed from pandas in a future version. Use pandas.concat instead.\n",
      "  df2 = df2.append(data, ignore_index=True)\n"
     ]
    },
    {
     "name": "stdout",
     "output_type": "stream",
     "text": [
      "TRACK 15  in  spotify:track:0aoeXzMxq1945xRbWHirrO  COMPLETED\n"
     ]
    },
    {
     "name": "stderr",
     "output_type": "stream",
     "text": [
      "C:\\Users\\Uma Bala\\AppData\\Local\\Temp\\ipykernel_23008\\1248639595.py:50: FutureWarning: The frame.append method is deprecated and will be removed from pandas in a future version. Use pandas.concat instead.\n",
      "  df2 = df2.append(data, ignore_index=True)\n"
     ]
    },
    {
     "name": "stdout",
     "output_type": "stream",
     "text": [
      "TRACK 16  in  spotify:track:6wf7Yu7cxBSPrRlWeSeK0Q  COMPLETED\n"
     ]
    },
    {
     "name": "stderr",
     "output_type": "stream",
     "text": [
      "C:\\Users\\Uma Bala\\AppData\\Local\\Temp\\ipykernel_23008\\1248639595.py:50: FutureWarning: The frame.append method is deprecated and will be removed from pandas in a future version. Use pandas.concat instead.\n",
      "  df2 = df2.append(data, ignore_index=True)\n"
     ]
    },
    {
     "name": "stdout",
     "output_type": "stream",
     "text": [
      "TRACK 17  in  spotify:track:4gjAtmHt28E9rwqOO3bMHT  COMPLETED\n"
     ]
    },
    {
     "name": "stderr",
     "output_type": "stream",
     "text": [
      "C:\\Users\\Uma Bala\\AppData\\Local\\Temp\\ipykernel_23008\\1248639595.py:50: FutureWarning: The frame.append method is deprecated and will be removed from pandas in a future version. Use pandas.concat instead.\n",
      "  df2 = df2.append(data, ignore_index=True)\n"
     ]
    },
    {
     "name": "stdout",
     "output_type": "stream",
     "text": [
      "TRACK 18  in  spotify:track:3k79jB4aGmMDUQzEwa46Rz  COMPLETED\n"
     ]
    },
    {
     "name": "stderr",
     "output_type": "stream",
     "text": [
      "C:\\Users\\Uma Bala\\AppData\\Local\\Temp\\ipykernel_23008\\1248639595.py:50: FutureWarning: The frame.append method is deprecated and will be removed from pandas in a future version. Use pandas.concat instead.\n",
      "  df2 = df2.append(data, ignore_index=True)\n"
     ]
    },
    {
     "name": "stdout",
     "output_type": "stream",
     "text": [
      "TRACK 19  in  spotify:track:1vYXt7VSjH9JIM5oRRo7vA  COMPLETED\n"
     ]
    },
    {
     "name": "stderr",
     "output_type": "stream",
     "text": [
      "C:\\Users\\Uma Bala\\AppData\\Local\\Temp\\ipykernel_23008\\1248639595.py:50: FutureWarning: The frame.append method is deprecated and will be removed from pandas in a future version. Use pandas.concat instead.\n",
      "  df2 = df2.append(data, ignore_index=True)\n"
     ]
    },
    {
     "name": "stdout",
     "output_type": "stream",
     "text": [
      "TRACK 20  in  spotify:track:7kXbkpu6QzRdSl15PzjJx3  COMPLETED\n"
     ]
    },
    {
     "name": "stderr",
     "output_type": "stream",
     "text": [
      "C:\\Users\\Uma Bala\\AppData\\Local\\Temp\\ipykernel_23008\\1248639595.py:50: FutureWarning: The frame.append method is deprecated and will be removed from pandas in a future version. Use pandas.concat instead.\n",
      "  df2 = df2.append(data, ignore_index=True)\n",
      "C:\\Users\\Uma Bala\\AppData\\Local\\Temp\\ipykernel_23008\\1248639595.py:50: FutureWarning: The frame.append method is deprecated and will be removed from pandas in a future version. Use pandas.concat instead.\n",
      "  df2 = df2.append(data, ignore_index=True)\n"
     ]
    },
    {
     "name": "stdout",
     "output_type": "stream",
     "text": [
      "TRACK 21  in  spotify:track:1odExI7RdWc4BT515LTAwj  COMPLETED\n",
      "TRACK 22  in  spotify:track:16cJrPZsK40Ath0EnChE7E  COMPLETED\n"
     ]
    },
    {
     "name": "stderr",
     "output_type": "stream",
     "text": [
      "C:\\Users\\Uma Bala\\AppData\\Local\\Temp\\ipykernel_23008\\1248639595.py:50: FutureWarning: The frame.append method is deprecated and will be removed from pandas in a future version. Use pandas.concat instead.\n",
      "  df2 = df2.append(data, ignore_index=True)\n"
     ]
    },
    {
     "name": "stdout",
     "output_type": "stream",
     "text": [
      "TRACK 23  in  spotify:track:7dQ5Gh9EZCZZ6CoLrb5hfy  COMPLETED\n"
     ]
    },
    {
     "name": "stderr",
     "output_type": "stream",
     "text": [
      "C:\\Users\\Uma Bala\\AppData\\Local\\Temp\\ipykernel_23008\\1248639595.py:50: FutureWarning: The frame.append method is deprecated and will be removed from pandas in a future version. Use pandas.concat instead.\n",
      "  df2 = df2.append(data, ignore_index=True)\n"
     ]
    },
    {
     "name": "stdout",
     "output_type": "stream",
     "text": [
      "TRACK 24  in  spotify:track:6rP1VqFZOEjp9Os2tl3fqv  COMPLETED\n"
     ]
    },
    {
     "name": "stderr",
     "output_type": "stream",
     "text": [
      "C:\\Users\\Uma Bala\\AppData\\Local\\Temp\\ipykernel_23008\\1248639595.py:50: FutureWarning: The frame.append method is deprecated and will be removed from pandas in a future version. Use pandas.concat instead.\n",
      "  df2 = df2.append(data, ignore_index=True)\n"
     ]
    },
    {
     "name": "stdout",
     "output_type": "stream",
     "text": [
      "TRACK 25  in  spotify:track:5xP9lQYA8YQmQh6BOxcAnR  COMPLETED\n"
     ]
    },
    {
     "name": "stderr",
     "output_type": "stream",
     "text": [
      "C:\\Users\\Uma Bala\\AppData\\Local\\Temp\\ipykernel_23008\\1248639595.py:50: FutureWarning: The frame.append method is deprecated and will be removed from pandas in a future version. Use pandas.concat instead.\n",
      "  df2 = df2.append(data, ignore_index=True)\n"
     ]
    },
    {
     "name": "stdout",
     "output_type": "stream",
     "text": [
      "TRACK 26  in  spotify:track:3Eb23lmJSCxgntqQnchFo8  COMPLETED\n"
     ]
    },
    {
     "name": "stderr",
     "output_type": "stream",
     "text": [
      "C:\\Users\\Uma Bala\\AppData\\Local\\Temp\\ipykernel_23008\\1248639595.py:50: FutureWarning: The frame.append method is deprecated and will be removed from pandas in a future version. Use pandas.concat instead.\n",
      "  df2 = df2.append(data, ignore_index=True)\n"
     ]
    },
    {
     "name": "stdout",
     "output_type": "stream",
     "text": [
      "TRACK 27  in  spotify:track:7FbrGaHYVDmfr7KoLIZnQ7  COMPLETED\n"
     ]
    },
    {
     "name": "stderr",
     "output_type": "stream",
     "text": [
      "C:\\Users\\Uma Bala\\AppData\\Local\\Temp\\ipykernel_23008\\1248639595.py:50: FutureWarning: The frame.append method is deprecated and will be removed from pandas in a future version. Use pandas.concat instead.\n",
      "  df2 = df2.append(data, ignore_index=True)\n"
     ]
    },
    {
     "name": "stdout",
     "output_type": "stream",
     "text": [
      "TRACK 28  in  spotify:track:0otRX6Z89qKkHkQ9OqJpKt  COMPLETED\n"
     ]
    },
    {
     "name": "stderr",
     "output_type": "stream",
     "text": [
      "C:\\Users\\Uma Bala\\AppData\\Local\\Temp\\ipykernel_23008\\1248639595.py:50: FutureWarning: The frame.append method is deprecated and will be removed from pandas in a future version. Use pandas.concat instead.\n",
      "  df2 = df2.append(data, ignore_index=True)\n"
     ]
    },
    {
     "name": "stdout",
     "output_type": "stream",
     "text": [
      "TRACK 29  in  spotify:track:5hRGVmAudNvg3g55v8YReR  COMPLETED\n"
     ]
    },
    {
     "name": "stderr",
     "output_type": "stream",
     "text": [
      "C:\\Users\\Uma Bala\\AppData\\Local\\Temp\\ipykernel_23008\\1248639595.py:50: FutureWarning: The frame.append method is deprecated and will be removed from pandas in a future version. Use pandas.concat instead.\n",
      "  df2 = df2.append(data, ignore_index=True)\n"
     ]
    },
    {
     "name": "stdout",
     "output_type": "stream",
     "text": [
      "TRACK 30  in  spotify:track:22dUzMFttcR3uU17NcOAIv  COMPLETED\n"
     ]
    },
    {
     "name": "stderr",
     "output_type": "stream",
     "text": [
      "C:\\Users\\Uma Bala\\AppData\\Local\\Temp\\ipykernel_23008\\1248639595.py:50: FutureWarning: The frame.append method is deprecated and will be removed from pandas in a future version. Use pandas.concat instead.\n",
      "  df2 = df2.append(data, ignore_index=True)\n"
     ]
    },
    {
     "name": "stdout",
     "output_type": "stream",
     "text": [
      "TRACK 31  in  spotify:track:4rXLjWdF2ZZpXCVTfWcshS  COMPLETED\n"
     ]
    },
    {
     "name": "stderr",
     "output_type": "stream",
     "text": [
      "C:\\Users\\Uma Bala\\AppData\\Local\\Temp\\ipykernel_23008\\1248639595.py:50: FutureWarning: The frame.append method is deprecated and will be removed from pandas in a future version. Use pandas.concat instead.\n",
      "  df2 = df2.append(data, ignore_index=True)\n"
     ]
    },
    {
     "name": "stdout",
     "output_type": "stream",
     "text": [
      "TRACK 32  in  spotify:track:2t9Y01M2Q0zz65vnaVeRzZ  COMPLETED\n"
     ]
    },
    {
     "name": "stderr",
     "output_type": "stream",
     "text": [
      "C:\\Users\\Uma Bala\\AppData\\Local\\Temp\\ipykernel_23008\\1248639595.py:50: FutureWarning: The frame.append method is deprecated and will be removed from pandas in a future version. Use pandas.concat instead.\n",
      "  df2 = df2.append(data, ignore_index=True)\n"
     ]
    },
    {
     "name": "stdout",
     "output_type": "stream",
     "text": [
      "TRACK 33  in  spotify:track:0yLdNVWF3Srea0uzk55zFn  COMPLETED\n"
     ]
    },
    {
     "name": "stderr",
     "output_type": "stream",
     "text": [
      "C:\\Users\\Uma Bala\\AppData\\Local\\Temp\\ipykernel_23008\\1248639595.py:50: FutureWarning: The frame.append method is deprecated and will be removed from pandas in a future version. Use pandas.concat instead.\n",
      "  df2 = df2.append(data, ignore_index=True)\n"
     ]
    },
    {
     "name": "stdout",
     "output_type": "stream",
     "text": [
      "TRACK 34  in  spotify:track:2dHHgzDwk4BJdRwy9uXhTO  COMPLETED\n"
     ]
    },
    {
     "name": "stderr",
     "output_type": "stream",
     "text": [
      "C:\\Users\\Uma Bala\\AppData\\Local\\Temp\\ipykernel_23008\\1248639595.py:50: FutureWarning: The frame.append method is deprecated and will be removed from pandas in a future version. Use pandas.concat instead.\n",
      "  df2 = df2.append(data, ignore_index=True)\n"
     ]
    },
    {
     "name": "stdout",
     "output_type": "stream",
     "text": [
      "TRACK 35  in  spotify:track:30FWXfLaKCnRxqgpnocPfW  COMPLETED\n"
     ]
    },
    {
     "name": "stderr",
     "output_type": "stream",
     "text": [
      "C:\\Users\\Uma Bala\\AppData\\Local\\Temp\\ipykernel_23008\\1248639595.py:50: FutureWarning: The frame.append method is deprecated and will be removed from pandas in a future version. Use pandas.concat instead.\n",
      "  df2 = df2.append(data, ignore_index=True)\n",
      "C:\\Users\\Uma Bala\\AppData\\Local\\Temp\\ipykernel_23008\\1248639595.py:50: FutureWarning: The frame.append method is deprecated and will be removed from pandas in a future version. Use pandas.concat instead.\n",
      "  df2 = df2.append(data, ignore_index=True)\n"
     ]
    },
    {
     "name": "stdout",
     "output_type": "stream",
     "text": [
      "TRACK 36  in  spotify:track:1hSRNnc8dfojAeBZXbzkqu  COMPLETED\n",
      "TRACK 37  in  spotify:track:1s7oOCT8vauUh01PbJD6ps  COMPLETED\n"
     ]
    },
    {
     "name": "stderr",
     "output_type": "stream",
     "text": [
      "C:\\Users\\Uma Bala\\AppData\\Local\\Temp\\ipykernel_23008\\1248639595.py:50: FutureWarning: The frame.append method is deprecated and will be removed from pandas in a future version. Use pandas.concat instead.\n",
      "  df2 = df2.append(data, ignore_index=True)\n"
     ]
    },
    {
     "name": "stdout",
     "output_type": "stream",
     "text": [
      "TRACK 38  in  spotify:track:6BqKQrli03mgOd1lq4NrCg  COMPLETED\n"
     ]
    },
    {
     "name": "stderr",
     "output_type": "stream",
     "text": [
      "C:\\Users\\Uma Bala\\AppData\\Local\\Temp\\ipykernel_23008\\1248639595.py:50: FutureWarning: The frame.append method is deprecated and will be removed from pandas in a future version. Use pandas.concat instead.\n",
      "  df2 = df2.append(data, ignore_index=True)\n"
     ]
    },
    {
     "name": "stdout",
     "output_type": "stream",
     "text": [
      "TRACK 39  in  spotify:track:5iSv4l68RXz3I32hIVl8oV  COMPLETED\n"
     ]
    },
    {
     "name": "stderr",
     "output_type": "stream",
     "text": [
      "C:\\Users\\Uma Bala\\AppData\\Local\\Temp\\ipykernel_23008\\1248639595.py:50: FutureWarning: The frame.append method is deprecated and will be removed from pandas in a future version. Use pandas.concat instead.\n",
      "  df2 = df2.append(data, ignore_index=True)\n"
     ]
    },
    {
     "name": "stdout",
     "output_type": "stream",
     "text": [
      "TRACK 40  in  spotify:track:5eTaQYBE1yrActixMAeLcZ  COMPLETED\n"
     ]
    },
    {
     "name": "stderr",
     "output_type": "stream",
     "text": [
      "C:\\Users\\Uma Bala\\AppData\\Local\\Temp\\ipykernel_23008\\1248639595.py:50: FutureWarning: The frame.append method is deprecated and will be removed from pandas in a future version. Use pandas.concat instead.\n",
      "  df2 = df2.append(data, ignore_index=True)\n"
     ]
    },
    {
     "name": "stdout",
     "output_type": "stream",
     "text": [
      "TRACK 41  in  spotify:track:0Y5Lez7dt70CYyAaJsCdSU  COMPLETED\n"
     ]
    },
    {
     "name": "stderr",
     "output_type": "stream",
     "text": [
      "C:\\Users\\Uma Bala\\AppData\\Local\\Temp\\ipykernel_23008\\1248639595.py:50: FutureWarning: The frame.append method is deprecated and will be removed from pandas in a future version. Use pandas.concat instead.\n",
      "  df2 = df2.append(data, ignore_index=True)\n"
     ]
    },
    {
     "name": "stdout",
     "output_type": "stream",
     "text": [
      "TRACK 42  in  spotify:track:3OHfY25tqY28d16oZczHc8  COMPLETED\n"
     ]
    },
    {
     "name": "stderr",
     "output_type": "stream",
     "text": [
      "C:\\Users\\Uma Bala\\AppData\\Local\\Temp\\ipykernel_23008\\1248639595.py:50: FutureWarning: The frame.append method is deprecated and will be removed from pandas in a future version. Use pandas.concat instead.\n",
      "  df2 = df2.append(data, ignore_index=True)\n"
     ]
    },
    {
     "name": "stdout",
     "output_type": "stream",
     "text": [
      "TRACK 43  in  spotify:track:1DmW5Ep6ywYwxc2HMT5BG6  COMPLETED\n"
     ]
    },
    {
     "name": "stderr",
     "output_type": "stream",
     "text": [
      "C:\\Users\\Uma Bala\\AppData\\Local\\Temp\\ipykernel_23008\\1248639595.py:50: FutureWarning: The frame.append method is deprecated and will be removed from pandas in a future version. Use pandas.concat instead.\n",
      "  df2 = df2.append(data, ignore_index=True)\n"
     ]
    },
    {
     "name": "stdout",
     "output_type": "stream",
     "text": [
      "TRACK 44  in  spotify:track:3E6CetSa3IFKWW9Cc2YpcW  COMPLETED\n"
     ]
    },
    {
     "name": "stderr",
     "output_type": "stream",
     "text": [
      "C:\\Users\\Uma Bala\\AppData\\Local\\Temp\\ipykernel_23008\\1248639595.py:50: FutureWarning: The frame.append method is deprecated and will be removed from pandas in a future version. Use pandas.concat instead.\n",
      "  df2 = df2.append(data, ignore_index=True)\n"
     ]
    },
    {
     "name": "stdout",
     "output_type": "stream",
     "text": [
      "TRACK 45  in  spotify:track:3BKD1PwArikchz2Zrlp1qi  COMPLETED\n"
     ]
    },
    {
     "name": "stderr",
     "output_type": "stream",
     "text": [
      "C:\\Users\\Uma Bala\\AppData\\Local\\Temp\\ipykernel_23008\\1248639595.py:50: FutureWarning: The frame.append method is deprecated and will be removed from pandas in a future version. Use pandas.concat instead.\n",
      "  df2 = df2.append(data, ignore_index=True)\n"
     ]
    },
    {
     "name": "stdout",
     "output_type": "stream",
     "text": [
      "TRACK 46  in  spotify:track:4JNdwEfqwFRiAeEISC8RU8  COMPLETED\n"
     ]
    },
    {
     "name": "stderr",
     "output_type": "stream",
     "text": [
      "C:\\Users\\Uma Bala\\AppData\\Local\\Temp\\ipykernel_23008\\1248639595.py:50: FutureWarning: The frame.append method is deprecated and will be removed from pandas in a future version. Use pandas.concat instead.\n",
      "  df2 = df2.append(data, ignore_index=True)\n"
     ]
    },
    {
     "name": "stdout",
     "output_type": "stream",
     "text": [
      "TRACK 47  in  spotify:track:1kBxioGjH3oHJyihNfaP3r  COMPLETED\n"
     ]
    },
    {
     "name": "stderr",
     "output_type": "stream",
     "text": [
      "C:\\Users\\Uma Bala\\AppData\\Local\\Temp\\ipykernel_23008\\1248639595.py:50: FutureWarning: The frame.append method is deprecated and will be removed from pandas in a future version. Use pandas.concat instead.\n",
      "  df2 = df2.append(data, ignore_index=True)\n"
     ]
    },
    {
     "name": "stdout",
     "output_type": "stream",
     "text": [
      "TRACK 48  in  spotify:track:6maTPqynTmrkWIralgGaoP  COMPLETED\n"
     ]
    },
    {
     "name": "stderr",
     "output_type": "stream",
     "text": [
      "C:\\Users\\Uma Bala\\AppData\\Local\\Temp\\ipykernel_23008\\1248639595.py:50: FutureWarning: The frame.append method is deprecated and will be removed from pandas in a future version. Use pandas.concat instead.\n",
      "  df2 = df2.append(data, ignore_index=True)\n"
     ]
    },
    {
     "name": "stdout",
     "output_type": "stream",
     "text": [
      "TRACK 49  in  spotify:track:0V3wPSX9ygBnCm8psDIegu  COMPLETED\n"
     ]
    },
    {
     "name": "stderr",
     "output_type": "stream",
     "text": [
      "C:\\Users\\Uma Bala\\AppData\\Local\\Temp\\ipykernel_23008\\1248639595.py:50: FutureWarning: The frame.append method is deprecated and will be removed from pandas in a future version. Use pandas.concat instead.\n",
      "  df2 = df2.append(data, ignore_index=True)\n"
     ]
    },
    {
     "name": "stdout",
     "output_type": "stream",
     "text": [
      "TRACK 50  in  spotify:track:7jQCYM5aElIUH8nPSOhVXH  COMPLETED\n"
     ]
    },
    {
     "name": "stderr",
     "output_type": "stream",
     "text": [
      "C:\\Users\\Uma Bala\\AppData\\Local\\Temp\\ipykernel_23008\\1248639595.py:50: FutureWarning: The frame.append method is deprecated and will be removed from pandas in a future version. Use pandas.concat instead.\n",
      "  df2 = df2.append(data, ignore_index=True)\n"
     ]
    },
    {
     "name": "stdout",
     "output_type": "stream",
     "text": [
      "TRACK 51  in  spotify:track:1Y3LN4zO1Edc2EluIoSPJN  COMPLETED\n"
     ]
    },
    {
     "name": "stderr",
     "output_type": "stream",
     "text": [
      "C:\\Users\\Uma Bala\\AppData\\Local\\Temp\\ipykernel_23008\\1248639595.py:50: FutureWarning: The frame.append method is deprecated and will be removed from pandas in a future version. Use pandas.concat instead.\n",
      "  df2 = df2.append(data, ignore_index=True)\n"
     ]
    },
    {
     "name": "stdout",
     "output_type": "stream",
     "text": [
      "TRACK 52  in  spotify:track:1FwPQVMtOoNMZ2lRyd7FXa  COMPLETED\n"
     ]
    },
    {
     "name": "stderr",
     "output_type": "stream",
     "text": [
      "C:\\Users\\Uma Bala\\AppData\\Local\\Temp\\ipykernel_23008\\1248639595.py:50: FutureWarning: The frame.append method is deprecated and will be removed from pandas in a future version. Use pandas.concat instead.\n",
      "  df2 = df2.append(data, ignore_index=True)\n"
     ]
    },
    {
     "name": "stdout",
     "output_type": "stream",
     "text": [
      "TRACK 53  in  spotify:track:6T7HqsDkwIfFwNRbhKwlzC  COMPLETED\n"
     ]
    },
    {
     "name": "stderr",
     "output_type": "stream",
     "text": [
      "C:\\Users\\Uma Bala\\AppData\\Local\\Temp\\ipykernel_23008\\1248639595.py:50: FutureWarning: The frame.append method is deprecated and will be removed from pandas in a future version. Use pandas.concat instead.\n",
      "  df2 = df2.append(data, ignore_index=True)\n",
      "C:\\Users\\Uma Bala\\AppData\\Local\\Temp\\ipykernel_23008\\1248639595.py:50: FutureWarning: The frame.append method is deprecated and will be removed from pandas in a future version. Use pandas.concat instead.\n",
      "  df2 = df2.append(data, ignore_index=True)\n"
     ]
    },
    {
     "name": "stdout",
     "output_type": "stream",
     "text": [
      "TRACK 54  in  spotify:track:5LrN7yUQAzvthd4QujgPFr  COMPLETED\n",
      "TRACK 55  in  spotify:track:53jnnqFSRGMDB9ADrNriCA  COMPLETED\n"
     ]
    },
    {
     "name": "stderr",
     "output_type": "stream",
     "text": [
      "C:\\Users\\Uma Bala\\AppData\\Local\\Temp\\ipykernel_23008\\1248639595.py:50: FutureWarning: The frame.append method is deprecated and will be removed from pandas in a future version. Use pandas.concat instead.\n",
      "  df2 = df2.append(data, ignore_index=True)\n"
     ]
    },
    {
     "name": "stdout",
     "output_type": "stream",
     "text": [
      "TRACK 56  in  spotify:track:1h8Q6vcIGn1VOMFqKTVaUj  COMPLETED\n"
     ]
    },
    {
     "name": "stderr",
     "output_type": "stream",
     "text": [
      "C:\\Users\\Uma Bala\\AppData\\Local\\Temp\\ipykernel_23008\\1248639595.py:50: FutureWarning: The frame.append method is deprecated and will be removed from pandas in a future version. Use pandas.concat instead.\n",
      "  df2 = df2.append(data, ignore_index=True)\n"
     ]
    },
    {
     "name": "stdout",
     "output_type": "stream",
     "text": [
      "TRACK 57  in  spotify:track:6UN73IYd0hZxLi8wFPMQij  COMPLETED\n"
     ]
    },
    {
     "name": "stderr",
     "output_type": "stream",
     "text": [
      "C:\\Users\\Uma Bala\\AppData\\Local\\Temp\\ipykernel_23008\\1248639595.py:50: FutureWarning: The frame.append method is deprecated and will be removed from pandas in a future version. Use pandas.concat instead.\n",
      "  df2 = df2.append(data, ignore_index=True)\n",
      "C:\\Users\\Uma Bala\\AppData\\Local\\Temp\\ipykernel_23008\\1248639595.py:50: FutureWarning: The frame.append method is deprecated and will be removed from pandas in a future version. Use pandas.concat instead.\n",
      "  df2 = df2.append(data, ignore_index=True)\n"
     ]
    },
    {
     "name": "stdout",
     "output_type": "stream",
     "text": [
      "TRACK 58  in  spotify:track:0JXXNGljqupsJaZsgSbMZV  COMPLETED\n",
      "TRACK 59  in  spotify:track:1YQXPuAkMGToq5709hHVbO  COMPLETED\n"
     ]
    },
    {
     "name": "stderr",
     "output_type": "stream",
     "text": [
      "C:\\Users\\Uma Bala\\AppData\\Local\\Temp\\ipykernel_23008\\1248639595.py:50: FutureWarning: The frame.append method is deprecated and will be removed from pandas in a future version. Use pandas.concat instead.\n",
      "  df2 = df2.append(data, ignore_index=True)\n"
     ]
    },
    {
     "name": "stdout",
     "output_type": "stream",
     "text": [
      "TRACK 60  in  spotify:track:2i8f4VnnBjy0yDqH2C452a  COMPLETED\n"
     ]
    },
    {
     "name": "stderr",
     "output_type": "stream",
     "text": [
      "C:\\Users\\Uma Bala\\AppData\\Local\\Temp\\ipykernel_23008\\1248639595.py:50: FutureWarning: The frame.append method is deprecated and will be removed from pandas in a future version. Use pandas.concat instead.\n",
      "  df2 = df2.append(data, ignore_index=True)\n"
     ]
    },
    {
     "name": "stdout",
     "output_type": "stream",
     "text": [
      "TRACK 61  in  spotify:track:2J2Z1SkXYghSajLibnQHOa  COMPLETED\n"
     ]
    },
    {
     "name": "stderr",
     "output_type": "stream",
     "text": [
      "C:\\Users\\Uma Bala\\AppData\\Local\\Temp\\ipykernel_23008\\1248639595.py:50: FutureWarning: The frame.append method is deprecated and will be removed from pandas in a future version. Use pandas.concat instead.\n",
      "  df2 = df2.append(data, ignore_index=True)\n"
     ]
    },
    {
     "name": "stdout",
     "output_type": "stream",
     "text": [
      "TRACK 62  in  spotify:track:2nnHVpRSZOqj7xHmQMBMte  COMPLETED\n"
     ]
    },
    {
     "name": "stderr",
     "output_type": "stream",
     "text": [
      "C:\\Users\\Uma Bala\\AppData\\Local\\Temp\\ipykernel_23008\\1248639595.py:50: FutureWarning: The frame.append method is deprecated and will be removed from pandas in a future version. Use pandas.concat instead.\n",
      "  df2 = df2.append(data, ignore_index=True)\n"
     ]
    },
    {
     "name": "stdout",
     "output_type": "stream",
     "text": [
      "TRACK 63  in  spotify:track:5odlY52u43F5BjByhxg7wg  COMPLETED\n"
     ]
    },
    {
     "name": "stderr",
     "output_type": "stream",
     "text": [
      "C:\\Users\\Uma Bala\\AppData\\Local\\Temp\\ipykernel_23008\\1248639595.py:50: FutureWarning: The frame.append method is deprecated and will be removed from pandas in a future version. Use pandas.concat instead.\n",
      "  df2 = df2.append(data, ignore_index=True)\n"
     ]
    },
    {
     "name": "stdout",
     "output_type": "stream",
     "text": [
      "TRACK 64  in  spotify:track:2L9N0zZnd37dwF0clgxMGI  COMPLETED\n"
     ]
    },
    {
     "name": "stderr",
     "output_type": "stream",
     "text": [
      "C:\\Users\\Uma Bala\\AppData\\Local\\Temp\\ipykernel_23008\\1248639595.py:50: FutureWarning: The frame.append method is deprecated and will be removed from pandas in a future version. Use pandas.concat instead.\n",
      "  df2 = df2.append(data, ignore_index=True)\n"
     ]
    },
    {
     "name": "stdout",
     "output_type": "stream",
     "text": [
      "TRACK 65  in  spotify:track:3ZkVtjVAWv5T9S6fAIgdol  COMPLETED\n"
     ]
    },
    {
     "name": "stderr",
     "output_type": "stream",
     "text": [
      "C:\\Users\\Uma Bala\\AppData\\Local\\Temp\\ipykernel_23008\\1248639595.py:50: FutureWarning: The frame.append method is deprecated and will be removed from pandas in a future version. Use pandas.concat instead.\n",
      "  df2 = df2.append(data, ignore_index=True)\n"
     ]
    },
    {
     "name": "stdout",
     "output_type": "stream",
     "text": [
      "TRACK 66  in  spotify:track:75FEaRjZTKLhTrFGsfMUXR  COMPLETED\n"
     ]
    },
    {
     "name": "stderr",
     "output_type": "stream",
     "text": [
      "C:\\Users\\Uma Bala\\AppData\\Local\\Temp\\ipykernel_23008\\1248639595.py:50: FutureWarning: The frame.append method is deprecated and will be removed from pandas in a future version. Use pandas.concat instead.\n",
      "  df2 = df2.append(data, ignore_index=True)\n"
     ]
    },
    {
     "name": "stdout",
     "output_type": "stream",
     "text": [
      "TRACK 67  in  spotify:track:73vIOb4Q7YN6HeJTbscRx5  COMPLETED\n"
     ]
    },
    {
     "name": "stderr",
     "output_type": "stream",
     "text": [
      "C:\\Users\\Uma Bala\\AppData\\Local\\Temp\\ipykernel_23008\\1248639595.py:50: FutureWarning: The frame.append method is deprecated and will be removed from pandas in a future version. Use pandas.concat instead.\n",
      "  df2 = df2.append(data, ignore_index=True)\n",
      "C:\\Users\\Uma Bala\\AppData\\Local\\Temp\\ipykernel_23008\\1248639595.py:50: FutureWarning: The frame.append method is deprecated and will be removed from pandas in a future version. Use pandas.concat instead.\n",
      "  df2 = df2.append(data, ignore_index=True)\n"
     ]
    },
    {
     "name": "stdout",
     "output_type": "stream",
     "text": [
      "TRACK 68  in  spotify:track:23tlX6EhwjzIeq3qpGxCTy  COMPLETED\n",
      "TRACK 69  in  spotify:track:5mHdCZtVyb4DcJw8799hZp  COMPLETED\n"
     ]
    },
    {
     "name": "stderr",
     "output_type": "stream",
     "text": [
      "C:\\Users\\Uma Bala\\AppData\\Local\\Temp\\ipykernel_23008\\1248639595.py:50: FutureWarning: The frame.append method is deprecated and will be removed from pandas in a future version. Use pandas.concat instead.\n",
      "  df2 = df2.append(data, ignore_index=True)\n"
     ]
    },
    {
     "name": "stdout",
     "output_type": "stream",
     "text": [
      "TRACK 70  in  spotify:track:38T0tPVZHcPZyhtOcCP7pF  COMPLETED\n"
     ]
    },
    {
     "name": "stderr",
     "output_type": "stream",
     "text": [
      "C:\\Users\\Uma Bala\\AppData\\Local\\Temp\\ipykernel_23008\\1248639595.py:50: FutureWarning: The frame.append method is deprecated and will be removed from pandas in a future version. Use pandas.concat instead.\n",
      "  df2 = df2.append(data, ignore_index=True)\n"
     ]
    },
    {
     "name": "stdout",
     "output_type": "stream",
     "text": [
      "TRACK 71  in  spotify:track:6YhGHDxNGB957iyLFiUh5r  COMPLETED\n"
     ]
    },
    {
     "name": "stderr",
     "output_type": "stream",
     "text": [
      "C:\\Users\\Uma Bala\\AppData\\Local\\Temp\\ipykernel_23008\\1248639595.py:50: FutureWarning: The frame.append method is deprecated and will be removed from pandas in a future version. Use pandas.concat instead.\n",
      "  df2 = df2.append(data, ignore_index=True)\n"
     ]
    },
    {
     "name": "stdout",
     "output_type": "stream",
     "text": [
      "TRACK 72  in  spotify:track:2tTmW7RDtMQtBk7m2rYeSw  COMPLETED\n"
     ]
    },
    {
     "name": "stderr",
     "output_type": "stream",
     "text": [
      "C:\\Users\\Uma Bala\\AppData\\Local\\Temp\\ipykernel_23008\\1248639595.py:50: FutureWarning: The frame.append method is deprecated and will be removed from pandas in a future version. Use pandas.concat instead.\n",
      "  df2 = df2.append(data, ignore_index=True)\n"
     ]
    },
    {
     "name": "stdout",
     "output_type": "stream",
     "text": [
      "TRACK 73  in  spotify:track:4nrPB8O7Y7wsOCJdgXkthe  COMPLETED\n"
     ]
    },
    {
     "name": "stderr",
     "output_type": "stream",
     "text": [
      "C:\\Users\\Uma Bala\\AppData\\Local\\Temp\\ipykernel_23008\\1248639595.py:50: FutureWarning: The frame.append method is deprecated and will be removed from pandas in a future version. Use pandas.concat instead.\n",
      "  df2 = df2.append(data, ignore_index=True)\n"
     ]
    },
    {
     "name": "stdout",
     "output_type": "stream",
     "text": [
      "TRACK 74  in  spotify:track:4dgsEXueUmnMPLtUq2cMTa  COMPLETED\n"
     ]
    },
    {
     "name": "stderr",
     "output_type": "stream",
     "text": [
      "C:\\Users\\Uma Bala\\AppData\\Local\\Temp\\ipykernel_23008\\1248639595.py:50: FutureWarning: The frame.append method is deprecated and will be removed from pandas in a future version. Use pandas.concat instead.\n",
      "  df2 = df2.append(data, ignore_index=True)\n"
     ]
    },
    {
     "name": "stdout",
     "output_type": "stream",
     "text": [
      "TRACK 75  in  spotify:track:58HvfVOeJY7lUuCqF0m3ly  COMPLETED\n"
     ]
    },
    {
     "name": "stderr",
     "output_type": "stream",
     "text": [
      "C:\\Users\\Uma Bala\\AppData\\Local\\Temp\\ipykernel_23008\\1248639595.py:50: FutureWarning: The frame.append method is deprecated and will be removed from pandas in a future version. Use pandas.concat instead.\n",
      "  df2 = df2.append(data, ignore_index=True)\n"
     ]
    },
    {
     "name": "stdout",
     "output_type": "stream",
     "text": [
      "TRACK 76  in  spotify:track:4LRPiXqCikLlN15c3yImP7  COMPLETED\n"
     ]
    },
    {
     "name": "stderr",
     "output_type": "stream",
     "text": [
      "C:\\Users\\Uma Bala\\AppData\\Local\\Temp\\ipykernel_23008\\1248639595.py:50: FutureWarning: The frame.append method is deprecated and will be removed from pandas in a future version. Use pandas.concat instead.\n",
      "  df2 = df2.append(data, ignore_index=True)\n"
     ]
    },
    {
     "name": "stdout",
     "output_type": "stream",
     "text": [
      "TRACK 77  in  spotify:track:76OGwb5RA9h4FxQPT33ekc  COMPLETED\n"
     ]
    },
    {
     "name": "stderr",
     "output_type": "stream",
     "text": [
      "C:\\Users\\Uma Bala\\AppData\\Local\\Temp\\ipykernel_23008\\1248639595.py:50: FutureWarning: The frame.append method is deprecated and will be removed from pandas in a future version. Use pandas.concat instead.\n",
      "  df2 = df2.append(data, ignore_index=True)\n"
     ]
    },
    {
     "name": "stdout",
     "output_type": "stream",
     "text": [
      "TRACK 78  in  spotify:track:2oMjKuKUEJFuLiVmTq7Vjx  COMPLETED\n"
     ]
    },
    {
     "name": "stderr",
     "output_type": "stream",
     "text": [
      "C:\\Users\\Uma Bala\\AppData\\Local\\Temp\\ipykernel_23008\\1248639595.py:50: FutureWarning: The frame.append method is deprecated and will be removed from pandas in a future version. Use pandas.concat instead.\n",
      "  df2 = df2.append(data, ignore_index=True)\n"
     ]
    },
    {
     "name": "stdout",
     "output_type": "stream",
     "text": [
      "TRACK 79  in  spotify:track:4h9wh7iOZ0GGn8QVp4RAOB  COMPLETED\n"
     ]
    },
    {
     "name": "stderr",
     "output_type": "stream",
     "text": [
      "C:\\Users\\Uma Bala\\AppData\\Local\\Temp\\ipykernel_23008\\1248639595.py:50: FutureWarning: The frame.append method is deprecated and will be removed from pandas in a future version. Use pandas.concat instead.\n",
      "  df2 = df2.append(data, ignore_index=True)\n"
     ]
    },
    {
     "name": "stdout",
     "output_type": "stream",
     "text": [
      "TRACK 80  in  spotify:track:4ewazQLXFTDC8XvCbhvtXs  COMPLETED\n"
     ]
    },
    {
     "name": "stderr",
     "output_type": "stream",
     "text": [
      "C:\\Users\\Uma Bala\\AppData\\Local\\Temp\\ipykernel_23008\\1248639595.py:50: FutureWarning: The frame.append method is deprecated and will be removed from pandas in a future version. Use pandas.concat instead.\n",
      "  df2 = df2.append(data, ignore_index=True)\n"
     ]
    },
    {
     "name": "stdout",
     "output_type": "stream",
     "text": [
      "TRACK 81  in  spotify:track:5uSFGgIfHMT3osrAd9n9ym  COMPLETED\n"
     ]
    },
    {
     "name": "stderr",
     "output_type": "stream",
     "text": [
      "C:\\Users\\Uma Bala\\AppData\\Local\\Temp\\ipykernel_23008\\1248639595.py:50: FutureWarning: The frame.append method is deprecated and will be removed from pandas in a future version. Use pandas.concat instead.\n",
      "  df2 = df2.append(data, ignore_index=True)\n",
      "C:\\Users\\Uma Bala\\AppData\\Local\\Temp\\ipykernel_23008\\1248639595.py:50: FutureWarning: The frame.append method is deprecated and will be removed from pandas in a future version. Use pandas.concat instead.\n",
      "  df2 = df2.append(data, ignore_index=True)\n"
     ]
    },
    {
     "name": "stdout",
     "output_type": "stream",
     "text": [
      "TRACK 82  in  spotify:track:4k6Uh1HXdhtusDW5y8Gbvy  COMPLETED\n",
      "TRACK 83  in  spotify:track:1ei3hzQmrgealgRKFxIcWn  COMPLETED\n"
     ]
    },
    {
     "name": "stderr",
     "output_type": "stream",
     "text": [
      "C:\\Users\\Uma Bala\\AppData\\Local\\Temp\\ipykernel_23008\\1248639595.py:50: FutureWarning: The frame.append method is deprecated and will be removed from pandas in a future version. Use pandas.concat instead.\n",
      "  df2 = df2.append(data, ignore_index=True)\n"
     ]
    },
    {
     "name": "stdout",
     "output_type": "stream",
     "text": [
      "TRACK 84  in  spotify:track:3zkyus0njMCL6phZmNNEeN  COMPLETED\n"
     ]
    },
    {
     "name": "stderr",
     "output_type": "stream",
     "text": [
      "C:\\Users\\Uma Bala\\AppData\\Local\\Temp\\ipykernel_23008\\1248639595.py:50: FutureWarning: The frame.append method is deprecated and will be removed from pandas in a future version. Use pandas.concat instead.\n",
      "  df2 = df2.append(data, ignore_index=True)\n"
     ]
    },
    {
     "name": "stdout",
     "output_type": "stream",
     "text": [
      "TRACK 85  in  spotify:track:1Fid2jjqsHViMX6xNH70hE  COMPLETED\n"
     ]
    },
    {
     "name": "stderr",
     "output_type": "stream",
     "text": [
      "C:\\Users\\Uma Bala\\AppData\\Local\\Temp\\ipykernel_23008\\1248639595.py:50: FutureWarning: The frame.append method is deprecated and will be removed from pandas in a future version. Use pandas.concat instead.\n",
      "  df2 = df2.append(data, ignore_index=True)\n",
      "C:\\Users\\Uma Bala\\AppData\\Local\\Temp\\ipykernel_23008\\1248639595.py:50: FutureWarning: The frame.append method is deprecated and will be removed from pandas in a future version. Use pandas.concat instead.\n",
      "  df2 = df2.append(data, ignore_index=True)\n"
     ]
    },
    {
     "name": "stdout",
     "output_type": "stream",
     "text": [
      "TRACK 86  in  spotify:track:3uUuGVFu1V7jTQL60S1r8z  COMPLETED\n",
      "TRACK 87  in  spotify:track:02MWAaffLxlfxAUY7c5dvx  COMPLETED\n"
     ]
    },
    {
     "name": "stderr",
     "output_type": "stream",
     "text": [
      "C:\\Users\\Uma Bala\\AppData\\Local\\Temp\\ipykernel_23008\\1248639595.py:50: FutureWarning: The frame.append method is deprecated and will be removed from pandas in a future version. Use pandas.concat instead.\n",
      "  df2 = df2.append(data, ignore_index=True)\n"
     ]
    },
    {
     "name": "stdout",
     "output_type": "stream",
     "text": [
      "TRACK 88  in  spotify:track:5HCyWlXZPP0y6Gqq8TgA20  COMPLETED\n"
     ]
    },
    {
     "name": "stderr",
     "output_type": "stream",
     "text": [
      "C:\\Users\\Uma Bala\\AppData\\Local\\Temp\\ipykernel_23008\\1248639595.py:50: FutureWarning: The frame.append method is deprecated and will be removed from pandas in a future version. Use pandas.concat instead.\n",
      "  df2 = df2.append(data, ignore_index=True)\n"
     ]
    }
   ],
   "source": [
    "df_hit_8 = get_song_data('https://open.spotify.com/playlist/1sHavJaWdEh60q88w6snL2')"
   ]
  },
  {
   "cell_type": "code",
   "execution_count": 27,
   "id": "79b6b201",
   "metadata": {},
   "outputs": [
    {
     "name": "stdout",
     "output_type": "stream",
     "text": [
      "TRACK 1  in  spotify:track:0fhOxwnmDYlhN6ccDwI86G  COMPLETED\n"
     ]
    },
    {
     "name": "stderr",
     "output_type": "stream",
     "text": [
      "C:\\Users\\Uma Bala\\AppData\\Local\\Temp\\ipykernel_23008\\1248639595.py:50: FutureWarning: The frame.append method is deprecated and will be removed from pandas in a future version. Use pandas.concat instead.\n",
      "  df2 = df2.append(data, ignore_index=True)\n"
     ]
    },
    {
     "name": "stdout",
     "output_type": "stream",
     "text": [
      "TRACK 2  in  spotify:track:0QHEIqNKsMoOY5urbzN48u  COMPLETED\n"
     ]
    },
    {
     "name": "stderr",
     "output_type": "stream",
     "text": [
      "C:\\Users\\Uma Bala\\AppData\\Local\\Temp\\ipykernel_23008\\1248639595.py:50: FutureWarning: The frame.append method is deprecated and will be removed from pandas in a future version. Use pandas.concat instead.\n",
      "  df2 = df2.append(data, ignore_index=True)\n"
     ]
    },
    {
     "name": "stdout",
     "output_type": "stream",
     "text": [
      "TRACK 3  in  spotify:track:2aYtoXS1afFB4fWeowhxew  COMPLETED\n"
     ]
    },
    {
     "name": "stderr",
     "output_type": "stream",
     "text": [
      "C:\\Users\\Uma Bala\\AppData\\Local\\Temp\\ipykernel_23008\\1248639595.py:50: FutureWarning: The frame.append method is deprecated and will be removed from pandas in a future version. Use pandas.concat instead.\n",
      "  df2 = df2.append(data, ignore_index=True)\n"
     ]
    },
    {
     "name": "stdout",
     "output_type": "stream",
     "text": [
      "TRACK 4  in  spotify:track:5YbUGPHKbBf7iIikpKLTXU  COMPLETED\n"
     ]
    },
    {
     "name": "stderr",
     "output_type": "stream",
     "text": [
      "C:\\Users\\Uma Bala\\AppData\\Local\\Temp\\ipykernel_23008\\1248639595.py:50: FutureWarning: The frame.append method is deprecated and will be removed from pandas in a future version. Use pandas.concat instead.\n",
      "  df2 = df2.append(data, ignore_index=True)\n"
     ]
    },
    {
     "name": "stdout",
     "output_type": "stream",
     "text": [
      "TRACK 5  in  spotify:track:6hGswOd1p5Pzv57IpBUhV3  COMPLETED\n"
     ]
    },
    {
     "name": "stderr",
     "output_type": "stream",
     "text": [
      "C:\\Users\\Uma Bala\\AppData\\Local\\Temp\\ipykernel_23008\\1248639595.py:50: FutureWarning: The frame.append method is deprecated and will be removed from pandas in a future version. Use pandas.concat instead.\n",
      "  df2 = df2.append(data, ignore_index=True)\n"
     ]
    },
    {
     "name": "stdout",
     "output_type": "stream",
     "text": [
      "TRACK 6  in  spotify:track:0DGTcMqvVR7fmBXgiG6jz4  COMPLETED\n"
     ]
    },
    {
     "name": "stderr",
     "output_type": "stream",
     "text": [
      "C:\\Users\\Uma Bala\\AppData\\Local\\Temp\\ipykernel_23008\\1248639595.py:50: FutureWarning: The frame.append method is deprecated and will be removed from pandas in a future version. Use pandas.concat instead.\n",
      "  df2 = df2.append(data, ignore_index=True)\n"
     ]
    },
    {
     "name": "stdout",
     "output_type": "stream",
     "text": [
      "TRACK 7  in  spotify:track:7DwcBgdzqhFJltEaV1XF81  COMPLETED\n"
     ]
    },
    {
     "name": "stderr",
     "output_type": "stream",
     "text": [
      "C:\\Users\\Uma Bala\\AppData\\Local\\Temp\\ipykernel_23008\\1248639595.py:50: FutureWarning: The frame.append method is deprecated and will be removed from pandas in a future version. Use pandas.concat instead.\n",
      "  df2 = df2.append(data, ignore_index=True)\n"
     ]
    },
    {
     "name": "stdout",
     "output_type": "stream",
     "text": [
      "TRACK 8  in  spotify:track:46Yo35BizLRd5RGCSMeKFe  COMPLETED\n"
     ]
    },
    {
     "name": "stderr",
     "output_type": "stream",
     "text": [
      "C:\\Users\\Uma Bala\\AppData\\Local\\Temp\\ipykernel_23008\\1248639595.py:50: FutureWarning: The frame.append method is deprecated and will be removed from pandas in a future version. Use pandas.concat instead.\n",
      "  df2 = df2.append(data, ignore_index=True)\n"
     ]
    },
    {
     "name": "stdout",
     "output_type": "stream",
     "text": [
      "TRACK 9  in  spotify:track:40SBS57su9xLiE1WqkXOVr  COMPLETED\n"
     ]
    },
    {
     "name": "stderr",
     "output_type": "stream",
     "text": [
      "C:\\Users\\Uma Bala\\AppData\\Local\\Temp\\ipykernel_23008\\1248639595.py:50: FutureWarning: The frame.append method is deprecated and will be removed from pandas in a future version. Use pandas.concat instead.\n",
      "  df2 = df2.append(data, ignore_index=True)\n"
     ]
    },
    {
     "name": "stdout",
     "output_type": "stream",
     "text": [
      "TRACK 10  in  spotify:track:1C5hCTVjM0GyeM7D3OwS1F  COMPLETED\n"
     ]
    },
    {
     "name": "stderr",
     "output_type": "stream",
     "text": [
      "C:\\Users\\Uma Bala\\AppData\\Local\\Temp\\ipykernel_23008\\1248639595.py:50: FutureWarning: The frame.append method is deprecated and will be removed from pandas in a future version. Use pandas.concat instead.\n",
      "  df2 = df2.append(data, ignore_index=True)\n"
     ]
    },
    {
     "name": "stdout",
     "output_type": "stream",
     "text": [
      "TRACK 11  in  spotify:track:5vUnjhBzRJJIAOJPde6zDx  COMPLETED\n"
     ]
    },
    {
     "name": "stderr",
     "output_type": "stream",
     "text": [
      "C:\\Users\\Uma Bala\\AppData\\Local\\Temp\\ipykernel_23008\\1248639595.py:50: FutureWarning: The frame.append method is deprecated and will be removed from pandas in a future version. Use pandas.concat instead.\n",
      "  df2 = df2.append(data, ignore_index=True)\n"
     ]
    },
    {
     "name": "stdout",
     "output_type": "stream",
     "text": [
      "TRACK 12  in  spotify:track:2DB4DdfCFMw1iaR6JaR03a  COMPLETED\n"
     ]
    },
    {
     "name": "stderr",
     "output_type": "stream",
     "text": [
      "C:\\Users\\Uma Bala\\AppData\\Local\\Temp\\ipykernel_23008\\1248639595.py:50: FutureWarning: The frame.append method is deprecated and will be removed from pandas in a future version. Use pandas.concat instead.\n",
      "  df2 = df2.append(data, ignore_index=True)\n"
     ]
    },
    {
     "name": "stdout",
     "output_type": "stream",
     "text": [
      "TRACK 13  in  spotify:track:4QtiVmuA88tPQiCOHZuQ5b  COMPLETED\n"
     ]
    },
    {
     "name": "stderr",
     "output_type": "stream",
     "text": [
      "C:\\Users\\Uma Bala\\AppData\\Local\\Temp\\ipykernel_23008\\1248639595.py:50: FutureWarning: The frame.append method is deprecated and will be removed from pandas in a future version. Use pandas.concat instead.\n",
      "  df2 = df2.append(data, ignore_index=True)\n"
     ]
    },
    {
     "name": "stdout",
     "output_type": "stream",
     "text": [
      "TRACK 14  in  spotify:track:7FoxSpPGsjgWLaJXwawkrv  COMPLETED\n"
     ]
    },
    {
     "name": "stderr",
     "output_type": "stream",
     "text": [
      "C:\\Users\\Uma Bala\\AppData\\Local\\Temp\\ipykernel_23008\\1248639595.py:50: FutureWarning: The frame.append method is deprecated and will be removed from pandas in a future version. Use pandas.concat instead.\n",
      "  df2 = df2.append(data, ignore_index=True)\n"
     ]
    },
    {
     "name": "stdout",
     "output_type": "stream",
     "text": [
      "TRACK 15  in  spotify:track:1qEmFfgcLObUfQm0j1W2CK  COMPLETED\n"
     ]
    },
    {
     "name": "stderr",
     "output_type": "stream",
     "text": [
      "C:\\Users\\Uma Bala\\AppData\\Local\\Temp\\ipykernel_23008\\1248639595.py:50: FutureWarning: The frame.append method is deprecated and will be removed from pandas in a future version. Use pandas.concat instead.\n",
      "  df2 = df2.append(data, ignore_index=True)\n"
     ]
    },
    {
     "name": "stdout",
     "output_type": "stream",
     "text": [
      "TRACK 16  in  spotify:track:7nGzfZfCpAjgxGWlYjjy6D  COMPLETED\n"
     ]
    },
    {
     "name": "stderr",
     "output_type": "stream",
     "text": [
      "C:\\Users\\Uma Bala\\AppData\\Local\\Temp\\ipykernel_23008\\1248639595.py:50: FutureWarning: The frame.append method is deprecated and will be removed from pandas in a future version. Use pandas.concat instead.\n",
      "  df2 = df2.append(data, ignore_index=True)\n"
     ]
    },
    {
     "name": "stdout",
     "output_type": "stream",
     "text": [
      "TRACK 17  in  spotify:track:6PQ88X9TkUIAUIZJHW2upE  COMPLETED\n"
     ]
    },
    {
     "name": "stderr",
     "output_type": "stream",
     "text": [
      "C:\\Users\\Uma Bala\\AppData\\Local\\Temp\\ipykernel_23008\\1248639595.py:50: FutureWarning: The frame.append method is deprecated and will be removed from pandas in a future version. Use pandas.concat instead.\n",
      "  df2 = df2.append(data, ignore_index=True)\n"
     ]
    },
    {
     "name": "stdout",
     "output_type": "stream",
     "text": [
      "TRACK 18  in  spotify:track:77vuduDMvc9p6MlZ1PTmSe  COMPLETED\n"
     ]
    },
    {
     "name": "stderr",
     "output_type": "stream",
     "text": [
      "C:\\Users\\Uma Bala\\AppData\\Local\\Temp\\ipykernel_23008\\1248639595.py:50: FutureWarning: The frame.append method is deprecated and will be removed from pandas in a future version. Use pandas.concat instead.\n",
      "  df2 = df2.append(data, ignore_index=True)\n"
     ]
    },
    {
     "name": "stdout",
     "output_type": "stream",
     "text": [
      "TRACK 19  in  spotify:track:7rglLriMNBPAyuJOMGwi39  COMPLETED\n"
     ]
    },
    {
     "name": "stderr",
     "output_type": "stream",
     "text": [
      "C:\\Users\\Uma Bala\\AppData\\Local\\Temp\\ipykernel_23008\\1248639595.py:50: FutureWarning: The frame.append method is deprecated and will be removed from pandas in a future version. Use pandas.concat instead.\n",
      "  df2 = df2.append(data, ignore_index=True)\n"
     ]
    },
    {
     "name": "stdout",
     "output_type": "stream",
     "text": [
      "TRACK 20  in  spotify:track:1ri9ZUkBJVFUdgwzCnfcYs  COMPLETED\n"
     ]
    },
    {
     "name": "stderr",
     "output_type": "stream",
     "text": [
      "C:\\Users\\Uma Bala\\AppData\\Local\\Temp\\ipykernel_23008\\1248639595.py:50: FutureWarning: The frame.append method is deprecated and will be removed from pandas in a future version. Use pandas.concat instead.\n",
      "  df2 = df2.append(data, ignore_index=True)\n"
     ]
    },
    {
     "name": "stdout",
     "output_type": "stream",
     "text": [
      "TRACK 21  in  spotify:track:09gysnJpfQ3ublBmJDfcEC  COMPLETED\n"
     ]
    },
    {
     "name": "stderr",
     "output_type": "stream",
     "text": [
      "C:\\Users\\Uma Bala\\AppData\\Local\\Temp\\ipykernel_23008\\1248639595.py:50: FutureWarning: The frame.append method is deprecated and will be removed from pandas in a future version. Use pandas.concat instead.\n",
      "  df2 = df2.append(data, ignore_index=True)\n"
     ]
    },
    {
     "name": "stdout",
     "output_type": "stream",
     "text": [
      "TRACK 22  in  spotify:track:2Xr1dTzJee307rmrkt8c0g  COMPLETED\n"
     ]
    },
    {
     "name": "stderr",
     "output_type": "stream",
     "text": [
      "C:\\Users\\Uma Bala\\AppData\\Local\\Temp\\ipykernel_23008\\1248639595.py:50: FutureWarning: The frame.append method is deprecated and will be removed from pandas in a future version. Use pandas.concat instead.\n",
      "  df2 = df2.append(data, ignore_index=True)\n"
     ]
    },
    {
     "name": "stdout",
     "output_type": "stream",
     "text": [
      "TRACK 23  in  spotify:track:0iYiVnd2u4CyC3mcPtRIzS  COMPLETED\n"
     ]
    },
    {
     "name": "stderr",
     "output_type": "stream",
     "text": [
      "C:\\Users\\Uma Bala\\AppData\\Local\\Temp\\ipykernel_23008\\1248639595.py:50: FutureWarning: The frame.append method is deprecated and will be removed from pandas in a future version. Use pandas.concat instead.\n",
      "  df2 = df2.append(data, ignore_index=True)\n"
     ]
    },
    {
     "name": "stdout",
     "output_type": "stream",
     "text": [
      "TRACK 24  in  spotify:track:0e8nrvls4Qqv5Rfa2UhqmO  COMPLETED\n"
     ]
    },
    {
     "name": "stderr",
     "output_type": "stream",
     "text": [
      "C:\\Users\\Uma Bala\\AppData\\Local\\Temp\\ipykernel_23008\\1248639595.py:50: FutureWarning: The frame.append method is deprecated and will be removed from pandas in a future version. Use pandas.concat instead.\n",
      "  df2 = df2.append(data, ignore_index=True)\n"
     ]
    },
    {
     "name": "stdout",
     "output_type": "stream",
     "text": [
      "TRACK 25  in  spotify:track:73vIOb4Q7YN6HeJTbscRx5  COMPLETED\n"
     ]
    },
    {
     "name": "stderr",
     "output_type": "stream",
     "text": [
      "C:\\Users\\Uma Bala\\AppData\\Local\\Temp\\ipykernel_23008\\1248639595.py:50: FutureWarning: The frame.append method is deprecated and will be removed from pandas in a future version. Use pandas.concat instead.\n",
      "  df2 = df2.append(data, ignore_index=True)\n"
     ]
    },
    {
     "name": "stdout",
     "output_type": "stream",
     "text": [
      "TRACK 26  in  spotify:track:7BoobGhD4x5K96Me0hqC8Q  COMPLETED\n"
     ]
    },
    {
     "name": "stderr",
     "output_type": "stream",
     "text": [
      "C:\\Users\\Uma Bala\\AppData\\Local\\Temp\\ipykernel_23008\\1248639595.py:50: FutureWarning: The frame.append method is deprecated and will be removed from pandas in a future version. Use pandas.concat instead.\n",
      "  df2 = df2.append(data, ignore_index=True)\n"
     ]
    },
    {
     "name": "stdout",
     "output_type": "stream",
     "text": [
      "TRACK 27  in  spotify:track:1bjhYUwKUHEg5fHknxFObO  COMPLETED\n"
     ]
    },
    {
     "name": "stderr",
     "output_type": "stream",
     "text": [
      "C:\\Users\\Uma Bala\\AppData\\Local\\Temp\\ipykernel_23008\\1248639595.py:50: FutureWarning: The frame.append method is deprecated and will be removed from pandas in a future version. Use pandas.concat instead.\n",
      "  df2 = df2.append(data, ignore_index=True)\n"
     ]
    },
    {
     "name": "stdout",
     "output_type": "stream",
     "text": [
      "TRACK 28  in  spotify:track:1I4lCSP69P74nU3a6Su5L2  COMPLETED\n"
     ]
    },
    {
     "name": "stderr",
     "output_type": "stream",
     "text": [
      "C:\\Users\\Uma Bala\\AppData\\Local\\Temp\\ipykernel_23008\\1248639595.py:50: FutureWarning: The frame.append method is deprecated and will be removed from pandas in a future version. Use pandas.concat instead.\n",
      "  df2 = df2.append(data, ignore_index=True)\n",
      "C:\\Users\\Uma Bala\\AppData\\Local\\Temp\\ipykernel_23008\\1248639595.py:50: FutureWarning: The frame.append method is deprecated and will be removed from pandas in a future version. Use pandas.concat instead.\n",
      "  df2 = df2.append(data, ignore_index=True)\n"
     ]
    },
    {
     "name": "stdout",
     "output_type": "stream",
     "text": [
      "TRACK 29  in  spotify:track:2yicVJl6Tv5Nmb3FiJEb8S  COMPLETED\n",
      "TRACK 30  in  spotify:track:6DlnAYqZhPz8QHnhXNEsYr  COMPLETED\n"
     ]
    },
    {
     "name": "stderr",
     "output_type": "stream",
     "text": [
      "C:\\Users\\Uma Bala\\AppData\\Local\\Temp\\ipykernel_23008\\1248639595.py:50: FutureWarning: The frame.append method is deprecated and will be removed from pandas in a future version. Use pandas.concat instead.\n",
      "  df2 = df2.append(data, ignore_index=True)\n"
     ]
    },
    {
     "name": "stdout",
     "output_type": "stream",
     "text": [
      "TRACK 31  in  spotify:track:0eu4C55hL6x29mmeAjytzC  COMPLETED\n"
     ]
    },
    {
     "name": "stderr",
     "output_type": "stream",
     "text": [
      "C:\\Users\\Uma Bala\\AppData\\Local\\Temp\\ipykernel_23008\\1248639595.py:50: FutureWarning: The frame.append method is deprecated and will be removed from pandas in a future version. Use pandas.concat instead.\n",
      "  df2 = df2.append(data, ignore_index=True)\n"
     ]
    },
    {
     "name": "stdout",
     "output_type": "stream",
     "text": [
      "TRACK 32  in  spotify:track:3ggtU1ZOKO8ZNiqPNyXGcm  COMPLETED\n"
     ]
    },
    {
     "name": "stderr",
     "output_type": "stream",
     "text": [
      "C:\\Users\\Uma Bala\\AppData\\Local\\Temp\\ipykernel_23008\\1248639595.py:50: FutureWarning: The frame.append method is deprecated and will be removed from pandas in a future version. Use pandas.concat instead.\n",
      "  df2 = df2.append(data, ignore_index=True)\n"
     ]
    },
    {
     "name": "stdout",
     "output_type": "stream",
     "text": [
      "TRACK 33  in  spotify:track:5dXWFMwD7I7zXsInONVl0H  COMPLETED\n"
     ]
    },
    {
     "name": "stderr",
     "output_type": "stream",
     "text": [
      "C:\\Users\\Uma Bala\\AppData\\Local\\Temp\\ipykernel_23008\\1248639595.py:50: FutureWarning: The frame.append method is deprecated and will be removed from pandas in a future version. Use pandas.concat instead.\n",
      "  df2 = df2.append(data, ignore_index=True)\n"
     ]
    },
    {
     "name": "stdout",
     "output_type": "stream",
     "text": [
      "TRACK 34  in  spotify:track:0l0a4JzF9vGE67LnQ2FF8z  COMPLETED\n"
     ]
    },
    {
     "name": "stderr",
     "output_type": "stream",
     "text": [
      "C:\\Users\\Uma Bala\\AppData\\Local\\Temp\\ipykernel_23008\\1248639595.py:50: FutureWarning: The frame.append method is deprecated and will be removed from pandas in a future version. Use pandas.concat instead.\n",
      "  df2 = df2.append(data, ignore_index=True)\n"
     ]
    },
    {
     "name": "stdout",
     "output_type": "stream",
     "text": [
      "TRACK 35  in  spotify:track:6Uj1ctrBOjOas8xZXGqKk4  COMPLETED\n"
     ]
    },
    {
     "name": "stderr",
     "output_type": "stream",
     "text": [
      "C:\\Users\\Uma Bala\\AppData\\Local\\Temp\\ipykernel_23008\\1248639595.py:50: FutureWarning: The frame.append method is deprecated and will be removed from pandas in a future version. Use pandas.concat instead.\n",
      "  df2 = df2.append(data, ignore_index=True)\n"
     ]
    },
    {
     "name": "stdout",
     "output_type": "stream",
     "text": [
      "TRACK 36  in  spotify:track:08xOPwL2c182SQBAQ5Vt4j  COMPLETED\n"
     ]
    },
    {
     "name": "stderr",
     "output_type": "stream",
     "text": [
      "C:\\Users\\Uma Bala\\AppData\\Local\\Temp\\ipykernel_23008\\1248639595.py:50: FutureWarning: The frame.append method is deprecated and will be removed from pandas in a future version. Use pandas.concat instead.\n",
      "  df2 = df2.append(data, ignore_index=True)\n"
     ]
    },
    {
     "name": "stdout",
     "output_type": "stream",
     "text": [
      "TRACK 37  in  spotify:track:7MAibcTli4IisCtbHKrGMh  COMPLETED\n"
     ]
    },
    {
     "name": "stderr",
     "output_type": "stream",
     "text": [
      "C:\\Users\\Uma Bala\\AppData\\Local\\Temp\\ipykernel_23008\\1248639595.py:50: FutureWarning: The frame.append method is deprecated and will be removed from pandas in a future version. Use pandas.concat instead.\n",
      "  df2 = df2.append(data, ignore_index=True)\n"
     ]
    },
    {
     "name": "stdout",
     "output_type": "stream",
     "text": [
      "TRACK 38  in  spotify:track:6IwelRdP2JSNK33V7NT8Yd  COMPLETED\n"
     ]
    },
    {
     "name": "stderr",
     "output_type": "stream",
     "text": [
      "C:\\Users\\Uma Bala\\AppData\\Local\\Temp\\ipykernel_23008\\1248639595.py:50: FutureWarning: The frame.append method is deprecated and will be removed from pandas in a future version. Use pandas.concat instead.\n",
      "  df2 = df2.append(data, ignore_index=True)\n"
     ]
    },
    {
     "name": "stdout",
     "output_type": "stream",
     "text": [
      "TRACK 39  in  spotify:track:3nOz1U41SZZ0N3fuUWr9nb  COMPLETED\n"
     ]
    },
    {
     "name": "stderr",
     "output_type": "stream",
     "text": [
      "C:\\Users\\Uma Bala\\AppData\\Local\\Temp\\ipykernel_23008\\1248639595.py:50: FutureWarning: The frame.append method is deprecated and will be removed from pandas in a future version. Use pandas.concat instead.\n",
      "  df2 = df2.append(data, ignore_index=True)\n"
     ]
    },
    {
     "name": "stdout",
     "output_type": "stream",
     "text": [
      "TRACK 40  in  spotify:track:1SW4DLVcfj3Q6pwHw555OM  COMPLETED\n"
     ]
    },
    {
     "name": "stderr",
     "output_type": "stream",
     "text": [
      "C:\\Users\\Uma Bala\\AppData\\Local\\Temp\\ipykernel_23008\\1248639595.py:50: FutureWarning: The frame.append method is deprecated and will be removed from pandas in a future version. Use pandas.concat instead.\n",
      "  df2 = df2.append(data, ignore_index=True)\n"
     ]
    },
    {
     "name": "stdout",
     "output_type": "stream",
     "text": [
      "TRACK 41  in  spotify:track:7ef4DlsgrMEH11cDZd32M6  COMPLETED\n"
     ]
    },
    {
     "name": "stderr",
     "output_type": "stream",
     "text": [
      "C:\\Users\\Uma Bala\\AppData\\Local\\Temp\\ipykernel_23008\\1248639595.py:50: FutureWarning: The frame.append method is deprecated and will be removed from pandas in a future version. Use pandas.concat instead.\n",
      "  df2 = df2.append(data, ignore_index=True)\n"
     ]
    },
    {
     "name": "stdout",
     "output_type": "stream",
     "text": [
      "TRACK 42  in  spotify:track:7cdy4PbCdDZZNjyxoZyE0c  COMPLETED\n"
     ]
    },
    {
     "name": "stderr",
     "output_type": "stream",
     "text": [
      "C:\\Users\\Uma Bala\\AppData\\Local\\Temp\\ipykernel_23008\\1248639595.py:50: FutureWarning: The frame.append method is deprecated and will be removed from pandas in a future version. Use pandas.concat instead.\n",
      "  df2 = df2.append(data, ignore_index=True)\n"
     ]
    },
    {
     "name": "stdout",
     "output_type": "stream",
     "text": [
      "TRACK 43  in  spotify:track:6DGNFyds4RkJKwa6z9Tt2e  COMPLETED\n"
     ]
    },
    {
     "name": "stderr",
     "output_type": "stream",
     "text": [
      "C:\\Users\\Uma Bala\\AppData\\Local\\Temp\\ipykernel_23008\\1248639595.py:50: FutureWarning: The frame.append method is deprecated and will be removed from pandas in a future version. Use pandas.concat instead.\n",
      "  df2 = df2.append(data, ignore_index=True)\n"
     ]
    },
    {
     "name": "stdout",
     "output_type": "stream",
     "text": [
      "TRACK 44  in  spotify:track:748mdHapucXQri7IAO8yFK  COMPLETED\n"
     ]
    },
    {
     "name": "stderr",
     "output_type": "stream",
     "text": [
      "C:\\Users\\Uma Bala\\AppData\\Local\\Temp\\ipykernel_23008\\1248639595.py:50: FutureWarning: The frame.append method is deprecated and will be removed from pandas in a future version. Use pandas.concat instead.\n",
      "  df2 = df2.append(data, ignore_index=True)\n"
     ]
    },
    {
     "name": "stdout",
     "output_type": "stream",
     "text": [
      "TRACK 45  in  spotify:track:15pqSfaBj1YQi1r2FoZ2qd  COMPLETED\n"
     ]
    },
    {
     "name": "stderr",
     "output_type": "stream",
     "text": [
      "C:\\Users\\Uma Bala\\AppData\\Local\\Temp\\ipykernel_23008\\1248639595.py:50: FutureWarning: The frame.append method is deprecated and will be removed from pandas in a future version. Use pandas.concat instead.\n",
      "  df2 = df2.append(data, ignore_index=True)\n"
     ]
    },
    {
     "name": "stdout",
     "output_type": "stream",
     "text": [
      "TRACK 46  in  spotify:track:0VgkVdmE4gld66l8iyGjgx  COMPLETED\n"
     ]
    },
    {
     "name": "stderr",
     "output_type": "stream",
     "text": [
      "C:\\Users\\Uma Bala\\AppData\\Local\\Temp\\ipykernel_23008\\1248639595.py:50: FutureWarning: The frame.append method is deprecated and will be removed from pandas in a future version. Use pandas.concat instead.\n",
      "  df2 = df2.append(data, ignore_index=True)\n"
     ]
    },
    {
     "name": "stdout",
     "output_type": "stream",
     "text": [
      "TRACK 47  in  spotify:track:3Wrjm47oTz2sjIgck11l5e  COMPLETED\n"
     ]
    },
    {
     "name": "stderr",
     "output_type": "stream",
     "text": [
      "C:\\Users\\Uma Bala\\AppData\\Local\\Temp\\ipykernel_23008\\1248639595.py:50: FutureWarning: The frame.append method is deprecated and will be removed from pandas in a future version. Use pandas.concat instead.\n",
      "  df2 = df2.append(data, ignore_index=True)\n"
     ]
    },
    {
     "name": "stdout",
     "output_type": "stream",
     "text": [
      "TRACK 48  in  spotify:track:4sZFyn9PmmtEQxejqWLCOi  COMPLETED\n"
     ]
    },
    {
     "name": "stderr",
     "output_type": "stream",
     "text": [
      "C:\\Users\\Uma Bala\\AppData\\Local\\Temp\\ipykernel_23008\\1248639595.py:50: FutureWarning: The frame.append method is deprecated and will be removed from pandas in a future version. Use pandas.concat instead.\n",
      "  df2 = df2.append(data, ignore_index=True)\n"
     ]
    },
    {
     "name": "stdout",
     "output_type": "stream",
     "text": [
      "TRACK 49  in  spotify:track:4ZtFanR9U6ndgddUvNcjcG  COMPLETED\n"
     ]
    },
    {
     "name": "stderr",
     "output_type": "stream",
     "text": [
      "C:\\Users\\Uma Bala\\AppData\\Local\\Temp\\ipykernel_23008\\1248639595.py:50: FutureWarning: The frame.append method is deprecated and will be removed from pandas in a future version. Use pandas.concat instead.\n",
      "  df2 = df2.append(data, ignore_index=True)\n"
     ]
    },
    {
     "name": "stdout",
     "output_type": "stream",
     "text": [
      "TRACK 50  in  spotify:track:1TLwVV7m4TFZJrsG9qGVXh  COMPLETED\n"
     ]
    },
    {
     "name": "stderr",
     "output_type": "stream",
     "text": [
      "C:\\Users\\Uma Bala\\AppData\\Local\\Temp\\ipykernel_23008\\1248639595.py:50: FutureWarning: The frame.append method is deprecated and will be removed from pandas in a future version. Use pandas.concat instead.\n",
      "  df2 = df2.append(data, ignore_index=True)\n"
     ]
    },
    {
     "name": "stdout",
     "output_type": "stream",
     "text": [
      "TRACK 51  in  spotify:track:6FvSS3Goz7OC8oCC2eWqe8  COMPLETED\n"
     ]
    },
    {
     "name": "stderr",
     "output_type": "stream",
     "text": [
      "C:\\Users\\Uma Bala\\AppData\\Local\\Temp\\ipykernel_23008\\1248639595.py:50: FutureWarning: The frame.append method is deprecated and will be removed from pandas in a future version. Use pandas.concat instead.\n",
      "  df2 = df2.append(data, ignore_index=True)\n"
     ]
    },
    {
     "name": "stdout",
     "output_type": "stream",
     "text": [
      "TRACK 52  in  spotify:track:1e0tRVTB2K7bN7AvPdN6p5  COMPLETED\n"
     ]
    },
    {
     "name": "stderr",
     "output_type": "stream",
     "text": [
      "C:\\Users\\Uma Bala\\AppData\\Local\\Temp\\ipykernel_23008\\1248639595.py:50: FutureWarning: The frame.append method is deprecated and will be removed from pandas in a future version. Use pandas.concat instead.\n",
      "  df2 = df2.append(data, ignore_index=True)\n"
     ]
    },
    {
     "name": "stdout",
     "output_type": "stream",
     "text": [
      "TRACK 53  in  spotify:track:6lknMmJZALXxx7emwwZWLX  COMPLETED\n"
     ]
    },
    {
     "name": "stderr",
     "output_type": "stream",
     "text": [
      "C:\\Users\\Uma Bala\\AppData\\Local\\Temp\\ipykernel_23008\\1248639595.py:50: FutureWarning: The frame.append method is deprecated and will be removed from pandas in a future version. Use pandas.concat instead.\n",
      "  df2 = df2.append(data, ignore_index=True)\n"
     ]
    },
    {
     "name": "stdout",
     "output_type": "stream",
     "text": [
      "TRACK 54  in  spotify:track:1wVuPmvt6AWvTL5W2GJnzZ  COMPLETED\n"
     ]
    },
    {
     "name": "stderr",
     "output_type": "stream",
     "text": [
      "C:\\Users\\Uma Bala\\AppData\\Local\\Temp\\ipykernel_23008\\1248639595.py:50: FutureWarning: The frame.append method is deprecated and will be removed from pandas in a future version. Use pandas.concat instead.\n",
      "  df2 = df2.append(data, ignore_index=True)\n",
      "C:\\Users\\Uma Bala\\AppData\\Local\\Temp\\ipykernel_23008\\1248639595.py:50: FutureWarning: The frame.append method is deprecated and will be removed from pandas in a future version. Use pandas.concat instead.\n",
      "  df2 = df2.append(data, ignore_index=True)\n"
     ]
    },
    {
     "name": "stdout",
     "output_type": "stream",
     "text": [
      "TRACK 55  in  spotify:track:3Ofmpyhv5UAQ70mENzB277  COMPLETED\n",
      "TRACK 56  in  spotify:track:6f5ExP43esnvdKPddwKXJH  COMPLETED\n"
     ]
    },
    {
     "name": "stderr",
     "output_type": "stream",
     "text": [
      "C:\\Users\\Uma Bala\\AppData\\Local\\Temp\\ipykernel_23008\\1248639595.py:50: FutureWarning: The frame.append method is deprecated and will be removed from pandas in a future version. Use pandas.concat instead.\n",
      "  df2 = df2.append(data, ignore_index=True)\n"
     ]
    },
    {
     "name": "stdout",
     "output_type": "stream",
     "text": [
      "TRACK 57  in  spotify:track:6NWdgyVsjp2bJ11PToXCr1  COMPLETED\n"
     ]
    },
    {
     "name": "stderr",
     "output_type": "stream",
     "text": [
      "C:\\Users\\Uma Bala\\AppData\\Local\\Temp\\ipykernel_23008\\1248639595.py:50: FutureWarning: The frame.append method is deprecated and will be removed from pandas in a future version. Use pandas.concat instead.\n",
      "  df2 = df2.append(data, ignore_index=True)\n"
     ]
    },
    {
     "name": "stdout",
     "output_type": "stream",
     "text": [
      "TRACK 58  in  spotify:track:5TiaU2Q2JZQzO59aV8vtcP  COMPLETED\n"
     ]
    },
    {
     "name": "stderr",
     "output_type": "stream",
     "text": [
      "C:\\Users\\Uma Bala\\AppData\\Local\\Temp\\ipykernel_23008\\1248639595.py:50: FutureWarning: The frame.append method is deprecated and will be removed from pandas in a future version. Use pandas.concat instead.\n",
      "  df2 = df2.append(data, ignore_index=True)\n"
     ]
    },
    {
     "name": "stdout",
     "output_type": "stream",
     "text": [
      "TRACK 59  in  spotify:track:62qzkpyXUXdPjHWejde9K8  COMPLETED\n"
     ]
    },
    {
     "name": "stderr",
     "output_type": "stream",
     "text": [
      "C:\\Users\\Uma Bala\\AppData\\Local\\Temp\\ipykernel_23008\\1248639595.py:50: FutureWarning: The frame.append method is deprecated and will be removed from pandas in a future version. Use pandas.concat instead.\n",
      "  df2 = df2.append(data, ignore_index=True)\n"
     ]
    },
    {
     "name": "stdout",
     "output_type": "stream",
     "text": [
      "TRACK 60  in  spotify:track:6qyS9qBy0mEk3qYaH8mPss  COMPLETED\n"
     ]
    },
    {
     "name": "stderr",
     "output_type": "stream",
     "text": [
      "C:\\Users\\Uma Bala\\AppData\\Local\\Temp\\ipykernel_23008\\1248639595.py:50: FutureWarning: The frame.append method is deprecated and will be removed from pandas in a future version. Use pandas.concat instead.\n",
      "  df2 = df2.append(data, ignore_index=True)\n",
      "C:\\Users\\Uma Bala\\AppData\\Local\\Temp\\ipykernel_23008\\1248639595.py:50: FutureWarning: The frame.append method is deprecated and will be removed from pandas in a future version. Use pandas.concat instead.\n",
      "  df2 = df2.append(data, ignore_index=True)\n"
     ]
    },
    {
     "name": "stdout",
     "output_type": "stream",
     "text": [
      "TRACK 61  in  spotify:track:75FEaRjZTKLhTrFGsfMUXR  COMPLETED\n",
      "TRACK 62  in  spotify:track:7pD4OQbklqSKYjU3wo9q8w  COMPLETED\n"
     ]
    },
    {
     "name": "stderr",
     "output_type": "stream",
     "text": [
      "C:\\Users\\Uma Bala\\AppData\\Local\\Temp\\ipykernel_23008\\1248639595.py:50: FutureWarning: The frame.append method is deprecated and will be removed from pandas in a future version. Use pandas.concat instead.\n",
      "  df2 = df2.append(data, ignore_index=True)\n"
     ]
    },
    {
     "name": "stdout",
     "output_type": "stream",
     "text": [
      "TRACK 63  in  spotify:track:0Fs9cdPDhptWEDJmiCbkEW  COMPLETED\n"
     ]
    },
    {
     "name": "stderr",
     "output_type": "stream",
     "text": [
      "C:\\Users\\Uma Bala\\AppData\\Local\\Temp\\ipykernel_23008\\1248639595.py:50: FutureWarning: The frame.append method is deprecated and will be removed from pandas in a future version. Use pandas.concat instead.\n",
      "  df2 = df2.append(data, ignore_index=True)\n"
     ]
    },
    {
     "name": "stdout",
     "output_type": "stream",
     "text": [
      "TRACK 64  in  spotify:track:3GHHMFQzeuStWfG45ee3FA  COMPLETED\n"
     ]
    },
    {
     "name": "stderr",
     "output_type": "stream",
     "text": [
      "C:\\Users\\Uma Bala\\AppData\\Local\\Temp\\ipykernel_23008\\1248639595.py:50: FutureWarning: The frame.append method is deprecated and will be removed from pandas in a future version. Use pandas.concat instead.\n",
      "  df2 = df2.append(data, ignore_index=True)\n"
     ]
    },
    {
     "name": "stdout",
     "output_type": "stream",
     "text": [
      "TRACK 65  in  spotify:track:46IZ0fSY2mpAiktS3KOqds  COMPLETED\n"
     ]
    },
    {
     "name": "stderr",
     "output_type": "stream",
     "text": [
      "C:\\Users\\Uma Bala\\AppData\\Local\\Temp\\ipykernel_23008\\1248639595.py:50: FutureWarning: The frame.append method is deprecated and will be removed from pandas in a future version. Use pandas.concat instead.\n",
      "  df2 = df2.append(data, ignore_index=True)\n"
     ]
    },
    {
     "name": "stdout",
     "output_type": "stream",
     "text": [
      "TRACK 66  in  spotify:track:2zy0hweEndWyds17TTqBkt  COMPLETED\n"
     ]
    },
    {
     "name": "stderr",
     "output_type": "stream",
     "text": [
      "C:\\Users\\Uma Bala\\AppData\\Local\\Temp\\ipykernel_23008\\1248639595.py:50: FutureWarning: The frame.append method is deprecated and will be removed from pandas in a future version. Use pandas.concat instead.\n",
      "  df2 = df2.append(data, ignore_index=True)\n"
     ]
    },
    {
     "name": "stdout",
     "output_type": "stream",
     "text": [
      "TRACK 67  in  spotify:track:1GfBLbAhZUWdseuDqhocmn  COMPLETED\n"
     ]
    },
    {
     "name": "stderr",
     "output_type": "stream",
     "text": [
      "C:\\Users\\Uma Bala\\AppData\\Local\\Temp\\ipykernel_23008\\1248639595.py:50: FutureWarning: The frame.append method is deprecated and will be removed from pandas in a future version. Use pandas.concat instead.\n",
      "  df2 = df2.append(data, ignore_index=True)\n"
     ]
    },
    {
     "name": "stdout",
     "output_type": "stream",
     "text": [
      "TRACK 68  in  spotify:track:25FTMokYEbEWHEdss5JLZS  COMPLETED\n"
     ]
    },
    {
     "name": "stderr",
     "output_type": "stream",
     "text": [
      "C:\\Users\\Uma Bala\\AppData\\Local\\Temp\\ipykernel_23008\\1248639595.py:50: FutureWarning: The frame.append method is deprecated and will be removed from pandas in a future version. Use pandas.concat instead.\n",
      "  df2 = df2.append(data, ignore_index=True)\n"
     ]
    },
    {
     "name": "stdout",
     "output_type": "stream",
     "text": [
      "TRACK 69  in  spotify:track:3Vi5XqYrmQgOYBajMWSvCi  COMPLETED\n"
     ]
    },
    {
     "name": "stderr",
     "output_type": "stream",
     "text": [
      "C:\\Users\\Uma Bala\\AppData\\Local\\Temp\\ipykernel_23008\\1248639595.py:50: FutureWarning: The frame.append method is deprecated and will be removed from pandas in a future version. Use pandas.concat instead.\n",
      "  df2 = df2.append(data, ignore_index=True)\n"
     ]
    },
    {
     "name": "stdout",
     "output_type": "stream",
     "text": [
      "TRACK 70  in  spotify:track:6D5UZC67k5Em3z2UfMNqxG  COMPLETED\n"
     ]
    },
    {
     "name": "stderr",
     "output_type": "stream",
     "text": [
      "C:\\Users\\Uma Bala\\AppData\\Local\\Temp\\ipykernel_23008\\1248639595.py:50: FutureWarning: The frame.append method is deprecated and will be removed from pandas in a future version. Use pandas.concat instead.\n",
      "  df2 = df2.append(data, ignore_index=True)\n"
     ]
    },
    {
     "name": "stdout",
     "output_type": "stream",
     "text": [
      "TRACK 71  in  spotify:track:7hU3IHwjX150XLoTVmjD0q  COMPLETED\n"
     ]
    },
    {
     "name": "stderr",
     "output_type": "stream",
     "text": [
      "C:\\Users\\Uma Bala\\AppData\\Local\\Temp\\ipykernel_23008\\1248639595.py:50: FutureWarning: The frame.append method is deprecated and will be removed from pandas in a future version. Use pandas.concat instead.\n",
      "  df2 = df2.append(data, ignore_index=True)\n"
     ]
    },
    {
     "name": "stdout",
     "output_type": "stream",
     "text": [
      "TRACK 72  in  spotify:track:7EkWXAI1wn8Ii883ecd9xr  COMPLETED\n"
     ]
    },
    {
     "name": "stderr",
     "output_type": "stream",
     "text": [
      "C:\\Users\\Uma Bala\\AppData\\Local\\Temp\\ipykernel_23008\\1248639595.py:50: FutureWarning: The frame.append method is deprecated and will be removed from pandas in a future version. Use pandas.concat instead.\n",
      "  df2 = df2.append(data, ignore_index=True)\n"
     ]
    },
    {
     "name": "stdout",
     "output_type": "stream",
     "text": [
      "TRACK 73  in  spotify:track:0VjIjW4GlUZAMYd2vXMi3b  COMPLETED\n"
     ]
    },
    {
     "name": "stderr",
     "output_type": "stream",
     "text": [
      "C:\\Users\\Uma Bala\\AppData\\Local\\Temp\\ipykernel_23008\\1248639595.py:50: FutureWarning: The frame.append method is deprecated and will be removed from pandas in a future version. Use pandas.concat instead.\n",
      "  df2 = df2.append(data, ignore_index=True)\n"
     ]
    },
    {
     "name": "stdout",
     "output_type": "stream",
     "text": [
      "TRACK 74  in  spotify:track:1v6wmQg54jBEGpARPrry7N  COMPLETED\n"
     ]
    },
    {
     "name": "stderr",
     "output_type": "stream",
     "text": [
      "C:\\Users\\Uma Bala\\AppData\\Local\\Temp\\ipykernel_23008\\1248639595.py:50: FutureWarning: The frame.append method is deprecated and will be removed from pandas in a future version. Use pandas.concat instead.\n",
      "  df2 = df2.append(data, ignore_index=True)\n"
     ]
    },
    {
     "name": "stdout",
     "output_type": "stream",
     "text": [
      "TRACK 75  in  spotify:track:5zNW5ARjYhJQJz1AChP33n  COMPLETED\n"
     ]
    },
    {
     "name": "stderr",
     "output_type": "stream",
     "text": [
      "C:\\Users\\Uma Bala\\AppData\\Local\\Temp\\ipykernel_23008\\1248639595.py:50: FutureWarning: The frame.append method is deprecated and will be removed from pandas in a future version. Use pandas.concat instead.\n",
      "  df2 = df2.append(data, ignore_index=True)\n"
     ]
    },
    {
     "name": "stdout",
     "output_type": "stream",
     "text": [
      "TRACK 76  in  spotify:track:5zFglKYiknIxks8geR8rcL  COMPLETED\n"
     ]
    },
    {
     "name": "stderr",
     "output_type": "stream",
     "text": [
      "C:\\Users\\Uma Bala\\AppData\\Local\\Temp\\ipykernel_23008\\1248639595.py:50: FutureWarning: The frame.append method is deprecated and will be removed from pandas in a future version. Use pandas.concat instead.\n",
      "  df2 = df2.append(data, ignore_index=True)\n"
     ]
    },
    {
     "name": "stdout",
     "output_type": "stream",
     "text": [
      "TRACK 77  in  spotify:track:15hXAUgUFmDiHcCC0xkKei  COMPLETED\n"
     ]
    },
    {
     "name": "stderr",
     "output_type": "stream",
     "text": [
      "C:\\Users\\Uma Bala\\AppData\\Local\\Temp\\ipykernel_23008\\1248639595.py:50: FutureWarning: The frame.append method is deprecated and will be removed from pandas in a future version. Use pandas.concat instead.\n",
      "  df2 = df2.append(data, ignore_index=True)\n"
     ]
    },
    {
     "name": "stdout",
     "output_type": "stream",
     "text": [
      "TRACK 78  in  spotify:track:43PGPuHIlVOc04jrZVh9L6  COMPLETED\n"
     ]
    },
    {
     "name": "stderr",
     "output_type": "stream",
     "text": [
      "C:\\Users\\Uma Bala\\AppData\\Local\\Temp\\ipykernel_23008\\1248639595.py:50: FutureWarning: The frame.append method is deprecated and will be removed from pandas in a future version. Use pandas.concat instead.\n",
      "  df2 = df2.append(data, ignore_index=True)\n"
     ]
    },
    {
     "name": "stdout",
     "output_type": "stream",
     "text": [
      "TRACK 79  in  spotify:track:5lAnYvAIkSDNXqfo7DyFUm  COMPLETED\n"
     ]
    },
    {
     "name": "stderr",
     "output_type": "stream",
     "text": [
      "C:\\Users\\Uma Bala\\AppData\\Local\\Temp\\ipykernel_23008\\1248639595.py:50: FutureWarning: The frame.append method is deprecated and will be removed from pandas in a future version. Use pandas.concat instead.\n",
      "  df2 = df2.append(data, ignore_index=True)\n"
     ]
    },
    {
     "name": "stdout",
     "output_type": "stream",
     "text": [
      "TRACK 80  in  spotify:track:5Jo1DvQ6auXLFx6QD3SC5I  COMPLETED\n"
     ]
    },
    {
     "name": "stderr",
     "output_type": "stream",
     "text": [
      "C:\\Users\\Uma Bala\\AppData\\Local\\Temp\\ipykernel_23008\\1248639595.py:50: FutureWarning: The frame.append method is deprecated and will be removed from pandas in a future version. Use pandas.concat instead.\n",
      "  df2 = df2.append(data, ignore_index=True)\n"
     ]
    },
    {
     "name": "stdout",
     "output_type": "stream",
     "text": [
      "TRACK 81  in  spotify:track:6QHXcb0eFwOKZOZ9bOFmxm  COMPLETED\n"
     ]
    },
    {
     "name": "stderr",
     "output_type": "stream",
     "text": [
      "C:\\Users\\Uma Bala\\AppData\\Local\\Temp\\ipykernel_23008\\1248639595.py:50: FutureWarning: The frame.append method is deprecated and will be removed from pandas in a future version. Use pandas.concat instead.\n",
      "  df2 = df2.append(data, ignore_index=True)\n"
     ]
    },
    {
     "name": "stdout",
     "output_type": "stream",
     "text": [
      "TRACK 82  in  spotify:track:2aI21FnmY7TJVKeMaoQZ0t  COMPLETED\n"
     ]
    },
    {
     "name": "stderr",
     "output_type": "stream",
     "text": [
      "C:\\Users\\Uma Bala\\AppData\\Local\\Temp\\ipykernel_23008\\1248639595.py:50: FutureWarning: The frame.append method is deprecated and will be removed from pandas in a future version. Use pandas.concat instead.\n",
      "  df2 = df2.append(data, ignore_index=True)\n"
     ]
    },
    {
     "name": "stdout",
     "output_type": "stream",
     "text": [
      "TRACK 83  in  spotify:track:0oJNUbobAD9a4oVjJGOqGy  COMPLETED\n"
     ]
    },
    {
     "name": "stderr",
     "output_type": "stream",
     "text": [
      "C:\\Users\\Uma Bala\\AppData\\Local\\Temp\\ipykernel_23008\\1248639595.py:50: FutureWarning: The frame.append method is deprecated and will be removed from pandas in a future version. Use pandas.concat instead.\n",
      "  df2 = df2.append(data, ignore_index=True)\n"
     ]
    },
    {
     "name": "stdout",
     "output_type": "stream",
     "text": [
      "TRACK 84  in  spotify:track:3iw6V4LH7yPj1ESORX9RIN  COMPLETED\n"
     ]
    },
    {
     "name": "stderr",
     "output_type": "stream",
     "text": [
      "C:\\Users\\Uma Bala\\AppData\\Local\\Temp\\ipykernel_23008\\1248639595.py:50: FutureWarning: The frame.append method is deprecated and will be removed from pandas in a future version. Use pandas.concat instead.\n",
      "  df2 = df2.append(data, ignore_index=True)\n"
     ]
    },
    {
     "name": "stdout",
     "output_type": "stream",
     "text": [
      "TRACK 85  in  spotify:track:1yLTcitjbEJr7a4jyDB0Lz  COMPLETED\n"
     ]
    },
    {
     "name": "stderr",
     "output_type": "stream",
     "text": [
      "C:\\Users\\Uma Bala\\AppData\\Local\\Temp\\ipykernel_23008\\1248639595.py:50: FutureWarning: The frame.append method is deprecated and will be removed from pandas in a future version. Use pandas.concat instead.\n",
      "  df2 = df2.append(data, ignore_index=True)\n"
     ]
    },
    {
     "name": "stdout",
     "output_type": "stream",
     "text": [
      "TRACK 86  in  spotify:track:4fSIb4hdOQ151TILNsSEaF  COMPLETED\n"
     ]
    },
    {
     "name": "stderr",
     "output_type": "stream",
     "text": [
      "C:\\Users\\Uma Bala\\AppData\\Local\\Temp\\ipykernel_23008\\1248639595.py:50: FutureWarning: The frame.append method is deprecated and will be removed from pandas in a future version. Use pandas.concat instead.\n",
      "  df2 = df2.append(data, ignore_index=True)\n"
     ]
    },
    {
     "name": "stdout",
     "output_type": "stream",
     "text": [
      "TRACK 87  in  spotify:track:4iJyoBOLtHqaGxP12qzhQI  COMPLETED\n"
     ]
    },
    {
     "name": "stderr",
     "output_type": "stream",
     "text": [
      "C:\\Users\\Uma Bala\\AppData\\Local\\Temp\\ipykernel_23008\\1248639595.py:50: FutureWarning: The frame.append method is deprecated and will be removed from pandas in a future version. Use pandas.concat instead.\n",
      "  df2 = df2.append(data, ignore_index=True)\n"
     ]
    },
    {
     "name": "stdout",
     "output_type": "stream",
     "text": [
      "TRACK 88  in  spotify:track:4p5AebH0oGdzLakzHjCdR4  COMPLETED\n"
     ]
    },
    {
     "name": "stderr",
     "output_type": "stream",
     "text": [
      "C:\\Users\\Uma Bala\\AppData\\Local\\Temp\\ipykernel_23008\\1248639595.py:50: FutureWarning: The frame.append method is deprecated and will be removed from pandas in a future version. Use pandas.concat instead.\n",
      "  df2 = df2.append(data, ignore_index=True)\n"
     ]
    },
    {
     "name": "stdout",
     "output_type": "stream",
     "text": [
      "TRACK 89  in  spotify:track:7igeByaBM0MgGsgXtNxDJ7  COMPLETED\n"
     ]
    },
    {
     "name": "stderr",
     "output_type": "stream",
     "text": [
      "C:\\Users\\Uma Bala\\AppData\\Local\\Temp\\ipykernel_23008\\1248639595.py:50: FutureWarning: The frame.append method is deprecated and will be removed from pandas in a future version. Use pandas.concat instead.\n",
      "  df2 = df2.append(data, ignore_index=True)\n"
     ]
    },
    {
     "name": "stdout",
     "output_type": "stream",
     "text": [
      "TRACK 90  in  spotify:track:0b18g3G5spr4ZCkz7Y6Q0Q  COMPLETED\n"
     ]
    },
    {
     "name": "stderr",
     "output_type": "stream",
     "text": [
      "C:\\Users\\Uma Bala\\AppData\\Local\\Temp\\ipykernel_23008\\1248639595.py:50: FutureWarning: The frame.append method is deprecated and will be removed from pandas in a future version. Use pandas.concat instead.\n",
      "  df2 = df2.append(data, ignore_index=True)\n"
     ]
    },
    {
     "name": "stdout",
     "output_type": "stream",
     "text": [
      "TRACK 91  in  spotify:track:2lDODk7inZnmUHbIjUnIwP  COMPLETED\n"
     ]
    },
    {
     "name": "stderr",
     "output_type": "stream",
     "text": [
      "C:\\Users\\Uma Bala\\AppData\\Local\\Temp\\ipykernel_23008\\1248639595.py:50: FutureWarning: The frame.append method is deprecated and will be removed from pandas in a future version. Use pandas.concat instead.\n",
      "  df2 = df2.append(data, ignore_index=True)\n"
     ]
    },
    {
     "name": "stdout",
     "output_type": "stream",
     "text": [
      "TRACK 92  in  spotify:track:5nujrmhLynf4yMoMtj8AQF  COMPLETED\n"
     ]
    },
    {
     "name": "stderr",
     "output_type": "stream",
     "text": [
      "C:\\Users\\Uma Bala\\AppData\\Local\\Temp\\ipykernel_23008\\1248639595.py:50: FutureWarning: The frame.append method is deprecated and will be removed from pandas in a future version. Use pandas.concat instead.\n",
      "  df2 = df2.append(data, ignore_index=True)\n"
     ]
    },
    {
     "name": "stdout",
     "output_type": "stream",
     "text": [
      "TRACK 93  in  spotify:track:3QqYZWQLn0evKMIRlGJeeR  COMPLETED\n"
     ]
    },
    {
     "name": "stderr",
     "output_type": "stream",
     "text": [
      "C:\\Users\\Uma Bala\\AppData\\Local\\Temp\\ipykernel_23008\\1248639595.py:50: FutureWarning: The frame.append method is deprecated and will be removed from pandas in a future version. Use pandas.concat instead.\n",
      "  df2 = df2.append(data, ignore_index=True)\n"
     ]
    },
    {
     "name": "stdout",
     "output_type": "stream",
     "text": [
      "TRACK 94  in  spotify:track:5Kskr9LcNYa0tpt5f0ZEJx  COMPLETED\n"
     ]
    },
    {
     "name": "stderr",
     "output_type": "stream",
     "text": [
      "C:\\Users\\Uma Bala\\AppData\\Local\\Temp\\ipykernel_23008\\1248639595.py:50: FutureWarning: The frame.append method is deprecated and will be removed from pandas in a future version. Use pandas.concat instead.\n",
      "  df2 = df2.append(data, ignore_index=True)\n"
     ]
    },
    {
     "name": "stdout",
     "output_type": "stream",
     "text": [
      "TRACK 95  in  spotify:track:2D0dj3hVkRQJCp63cxCPEx  COMPLETED\n"
     ]
    },
    {
     "name": "stderr",
     "output_type": "stream",
     "text": [
      "C:\\Users\\Uma Bala\\AppData\\Local\\Temp\\ipykernel_23008\\1248639595.py:50: FutureWarning: The frame.append method is deprecated and will be removed from pandas in a future version. Use pandas.concat instead.\n",
      "  df2 = df2.append(data, ignore_index=True)\n"
     ]
    },
    {
     "name": "stdout",
     "output_type": "stream",
     "text": [
      "TRACK 96  in  spotify:track:0k4d5YPDr1r7FX77VdqWez  COMPLETED\n"
     ]
    },
    {
     "name": "stderr",
     "output_type": "stream",
     "text": [
      "C:\\Users\\Uma Bala\\AppData\\Local\\Temp\\ipykernel_23008\\1248639595.py:50: FutureWarning: The frame.append method is deprecated and will be removed from pandas in a future version. Use pandas.concat instead.\n",
      "  df2 = df2.append(data, ignore_index=True)\n"
     ]
    },
    {
     "name": "stdout",
     "output_type": "stream",
     "text": [
      "TRACK 97  in  spotify:track:5vGLcdRuSbUhD8ScwsGSdA  COMPLETED\n"
     ]
    },
    {
     "name": "stderr",
     "output_type": "stream",
     "text": [
      "C:\\Users\\Uma Bala\\AppData\\Local\\Temp\\ipykernel_23008\\1248639595.py:50: FutureWarning: The frame.append method is deprecated and will be removed from pandas in a future version. Use pandas.concat instead.\n",
      "  df2 = df2.append(data, ignore_index=True)\n"
     ]
    },
    {
     "name": "stdout",
     "output_type": "stream",
     "text": [
      "TRACK 98  in  spotify:track:2GiJYvgVaD2HtM8GqD9EgQ  COMPLETED\n"
     ]
    },
    {
     "name": "stderr",
     "output_type": "stream",
     "text": [
      "C:\\Users\\Uma Bala\\AppData\\Local\\Temp\\ipykernel_23008\\1248639595.py:50: FutureWarning: The frame.append method is deprecated and will be removed from pandas in a future version. Use pandas.concat instead.\n",
      "  df2 = df2.append(data, ignore_index=True)\n"
     ]
    },
    {
     "name": "stdout",
     "output_type": "stream",
     "text": [
      "TRACK 99  in  spotify:track:2cX2coZS1PYBfPs8wgbdWE  COMPLETED\n"
     ]
    },
    {
     "name": "stderr",
     "output_type": "stream",
     "text": [
      "C:\\Users\\Uma Bala\\AppData\\Local\\Temp\\ipykernel_23008\\1248639595.py:50: FutureWarning: The frame.append method is deprecated and will be removed from pandas in a future version. Use pandas.concat instead.\n",
      "  df2 = df2.append(data, ignore_index=True)\n"
     ]
    },
    {
     "name": "stdout",
     "output_type": "stream",
     "text": [
      "TRACK 100  in  spotify:track:4cG7HUWYHBV6R6tHn1gxrl  COMPLETED\n"
     ]
    },
    {
     "name": "stderr",
     "output_type": "stream",
     "text": [
      "C:\\Users\\Uma Bala\\AppData\\Local\\Temp\\ipykernel_23008\\1248639595.py:50: FutureWarning: The frame.append method is deprecated and will be removed from pandas in a future version. Use pandas.concat instead.\n",
      "  df2 = df2.append(data, ignore_index=True)\n"
     ]
    }
   ],
   "source": [
    "df_hit_9 = get_song_data('https://open.spotify.com/playlist/3triKLL9rNe7erR8xiYlkt?si=47955c50d92c4ae1')"
   ]
  },
  {
   "cell_type": "code",
   "execution_count": 35,
   "id": "4db283bf",
   "metadata": {},
   "outputs": [
    {
     "name": "stdout",
     "output_type": "stream",
     "text": [
      "TRACK 1  in  spotify:track:5QvBXUm5MglLJ3iBfTX2Wo  COMPLETED\n"
     ]
    },
    {
     "name": "stderr",
     "output_type": "stream",
     "text": [
      "C:\\Users\\Uma Bala\\AppData\\Local\\Temp\\ipykernel_23008\\1248639595.py:50: FutureWarning: The frame.append method is deprecated and will be removed from pandas in a future version. Use pandas.concat instead.\n",
      "  df2 = df2.append(data, ignore_index=True)\n"
     ]
    },
    {
     "name": "stdout",
     "output_type": "stream",
     "text": [
      "TRACK 2  in  spotify:track:6xp1u6ZEHXX8DxJIFFrVoP  COMPLETED\n"
     ]
    },
    {
     "name": "stderr",
     "output_type": "stream",
     "text": [
      "C:\\Users\\Uma Bala\\AppData\\Local\\Temp\\ipykernel_23008\\1248639595.py:50: FutureWarning: The frame.append method is deprecated and will be removed from pandas in a future version. Use pandas.concat instead.\n",
      "  df2 = df2.append(data, ignore_index=True)\n"
     ]
    },
    {
     "name": "stdout",
     "output_type": "stream",
     "text": [
      "TRACK 3  in  spotify:track:4RJTTrZqPFWaWACVXHkvjw  COMPLETED\n"
     ]
    },
    {
     "name": "stderr",
     "output_type": "stream",
     "text": [
      "C:\\Users\\Uma Bala\\AppData\\Local\\Temp\\ipykernel_23008\\1248639595.py:50: FutureWarning: The frame.append method is deprecated and will be removed from pandas in a future version. Use pandas.concat instead.\n",
      "  df2 = df2.append(data, ignore_index=True)\n"
     ]
    },
    {
     "name": "stdout",
     "output_type": "stream",
     "text": [
      "TRACK 4  in  spotify:track:3sLTYBYs6lJsFK84t2X7wt  COMPLETED\n"
     ]
    },
    {
     "name": "stderr",
     "output_type": "stream",
     "text": [
      "C:\\Users\\Uma Bala\\AppData\\Local\\Temp\\ipykernel_23008\\1248639595.py:50: FutureWarning: The frame.append method is deprecated and will be removed from pandas in a future version. Use pandas.concat instead.\n",
      "  df2 = df2.append(data, ignore_index=True)\n"
     ]
    },
    {
     "name": "stdout",
     "output_type": "stream",
     "text": [
      "TRACK 5  in  spotify:track:23RoR84KodL5HWvUTneQ1w  COMPLETED\n"
     ]
    },
    {
     "name": "stderr",
     "output_type": "stream",
     "text": [
      "C:\\Users\\Uma Bala\\AppData\\Local\\Temp\\ipykernel_23008\\1248639595.py:50: FutureWarning: The frame.append method is deprecated and will be removed from pandas in a future version. Use pandas.concat instead.\n",
      "  df2 = df2.append(data, ignore_index=True)\n"
     ]
    },
    {
     "name": "stdout",
     "output_type": "stream",
     "text": [
      "TRACK 6  in  spotify:track:1vYXt7VSjH9JIM5oRRo7vA  COMPLETED\n"
     ]
    },
    {
     "name": "stderr",
     "output_type": "stream",
     "text": [
      "C:\\Users\\Uma Bala\\AppData\\Local\\Temp\\ipykernel_23008\\1248639595.py:50: FutureWarning: The frame.append method is deprecated and will be removed from pandas in a future version. Use pandas.concat instead.\n",
      "  df2 = df2.append(data, ignore_index=True)\n"
     ]
    },
    {
     "name": "stdout",
     "output_type": "stream",
     "text": [
      "TRACK 7  in  spotify:track:7s6Qiw4ArIssZ9QP5mxPRk  COMPLETED\n"
     ]
    },
    {
     "name": "stderr",
     "output_type": "stream",
     "text": [
      "C:\\Users\\Uma Bala\\AppData\\Local\\Temp\\ipykernel_23008\\1248639595.py:50: FutureWarning: The frame.append method is deprecated and will be removed from pandas in a future version. Use pandas.concat instead.\n",
      "  df2 = df2.append(data, ignore_index=True)\n"
     ]
    },
    {
     "name": "stdout",
     "output_type": "stream",
     "text": [
      "TRACK 8  in  spotify:track:4PMdq7Q7xOFrY424ZelZEb  COMPLETED\n"
     ]
    },
    {
     "name": "stderr",
     "output_type": "stream",
     "text": [
      "C:\\Users\\Uma Bala\\AppData\\Local\\Temp\\ipykernel_23008\\1248639595.py:50: FutureWarning: The frame.append method is deprecated and will be removed from pandas in a future version. Use pandas.concat instead.\n",
      "  df2 = df2.append(data, ignore_index=True)\n"
     ]
    },
    {
     "name": "stdout",
     "output_type": "stream",
     "text": [
      "TRACK 9  in  spotify:track:5nVE45ithgyVocZp5XLAk6  COMPLETED\n"
     ]
    },
    {
     "name": "stderr",
     "output_type": "stream",
     "text": [
      "C:\\Users\\Uma Bala\\AppData\\Local\\Temp\\ipykernel_23008\\1248639595.py:50: FutureWarning: The frame.append method is deprecated and will be removed from pandas in a future version. Use pandas.concat instead.\n",
      "  df2 = df2.append(data, ignore_index=True)\n"
     ]
    },
    {
     "name": "stdout",
     "output_type": "stream",
     "text": [
      "TRACK 10  in  spotify:track:2i2gDpKKWjvnRTOZRhaPh2  COMPLETED\n"
     ]
    },
    {
     "name": "stderr",
     "output_type": "stream",
     "text": [
      "C:\\Users\\Uma Bala\\AppData\\Local\\Temp\\ipykernel_23008\\1248639595.py:50: FutureWarning: The frame.append method is deprecated and will be removed from pandas in a future version. Use pandas.concat instead.\n",
      "  df2 = df2.append(data, ignore_index=True)\n"
     ]
    },
    {
     "name": "stdout",
     "output_type": "stream",
     "text": [
      "TRACK 11  in  spotify:track:61eJ7HqXGyHfmHIqJApX7v  COMPLETED\n"
     ]
    },
    {
     "name": "stderr",
     "output_type": "stream",
     "text": [
      "C:\\Users\\Uma Bala\\AppData\\Local\\Temp\\ipykernel_23008\\1248639595.py:50: FutureWarning: The frame.append method is deprecated and will be removed from pandas in a future version. Use pandas.concat instead.\n",
      "  df2 = df2.append(data, ignore_index=True)\n"
     ]
    },
    {
     "name": "stdout",
     "output_type": "stream",
     "text": [
      "TRACK 12  in  spotify:track:6WzRpISELf3YglGAh7TXcG  COMPLETED\n"
     ]
    },
    {
     "name": "stderr",
     "output_type": "stream",
     "text": [
      "C:\\Users\\Uma Bala\\AppData\\Local\\Temp\\ipykernel_23008\\1248639595.py:50: FutureWarning: The frame.append method is deprecated and will be removed from pandas in a future version. Use pandas.concat instead.\n",
      "  df2 = df2.append(data, ignore_index=True)\n"
     ]
    },
    {
     "name": "stdout",
     "output_type": "stream",
     "text": [
      "TRACK 13  in  spotify:track:0RiRZpuVRbi7oqRdSMwhQY  COMPLETED\n"
     ]
    },
    {
     "name": "stderr",
     "output_type": "stream",
     "text": [
      "C:\\Users\\Uma Bala\\AppData\\Local\\Temp\\ipykernel_23008\\1248639595.py:50: FutureWarning: The frame.append method is deprecated and will be removed from pandas in a future version. Use pandas.concat instead.\n",
      "  df2 = df2.append(data, ignore_index=True)\n"
     ]
    },
    {
     "name": "stdout",
     "output_type": "stream",
     "text": [
      "TRACK 14  in  spotify:track:0pUVeEgZuNyFzIMKp67RbS  COMPLETED\n"
     ]
    },
    {
     "name": "stderr",
     "output_type": "stream",
     "text": [
      "C:\\Users\\Uma Bala\\AppData\\Local\\Temp\\ipykernel_23008\\1248639595.py:50: FutureWarning: The frame.append method is deprecated and will be removed from pandas in a future version. Use pandas.concat instead.\n",
      "  df2 = df2.append(data, ignore_index=True)\n"
     ]
    },
    {
     "name": "stdout",
     "output_type": "stream",
     "text": [
      "TRACK 15  in  spotify:track:6GGtHZgBycCgGBUhZo81xe  COMPLETED\n"
     ]
    },
    {
     "name": "stderr",
     "output_type": "stream",
     "text": [
      "C:\\Users\\Uma Bala\\AppData\\Local\\Temp\\ipykernel_23008\\1248639595.py:50: FutureWarning: The frame.append method is deprecated and will be removed from pandas in a future version. Use pandas.concat instead.\n",
      "  df2 = df2.append(data, ignore_index=True)\n"
     ]
    },
    {
     "name": "stdout",
     "output_type": "stream",
     "text": [
      "TRACK 16  in  spotify:track:5XeFesFbtLpXzIVDNQP22n  COMPLETED\n"
     ]
    },
    {
     "name": "stderr",
     "output_type": "stream",
     "text": [
      "C:\\Users\\Uma Bala\\AppData\\Local\\Temp\\ipykernel_23008\\1248639595.py:50: FutureWarning: The frame.append method is deprecated and will be removed from pandas in a future version. Use pandas.concat instead.\n",
      "  df2 = df2.append(data, ignore_index=True)\n"
     ]
    },
    {
     "name": "stdout",
     "output_type": "stream",
     "text": [
      "TRACK 17  in  spotify:track:1odExI7RdWc4BT515LTAwj  COMPLETED\n"
     ]
    },
    {
     "name": "stderr",
     "output_type": "stream",
     "text": [
      "C:\\Users\\Uma Bala\\AppData\\Local\\Temp\\ipykernel_23008\\1248639595.py:50: FutureWarning: The frame.append method is deprecated and will be removed from pandas in a future version. Use pandas.concat instead.\n",
      "  df2 = df2.append(data, ignore_index=True)\n"
     ]
    },
    {
     "name": "stdout",
     "output_type": "stream",
     "text": [
      "TRACK 18  in  spotify:track:7BcOUi4FQ3wBLmNTW0yfCR  COMPLETED\n"
     ]
    },
    {
     "name": "stderr",
     "output_type": "stream",
     "text": [
      "C:\\Users\\Uma Bala\\AppData\\Local\\Temp\\ipykernel_23008\\1248639595.py:50: FutureWarning: The frame.append method is deprecated and will be removed from pandas in a future version. Use pandas.concat instead.\n",
      "  df2 = df2.append(data, ignore_index=True)\n"
     ]
    },
    {
     "name": "stdout",
     "output_type": "stream",
     "text": [
      "TRACK 19  in  spotify:track:0WFryfbNKPXVtVQlz5dZ8H  COMPLETED\n"
     ]
    },
    {
     "name": "stderr",
     "output_type": "stream",
     "text": [
      "C:\\Users\\Uma Bala\\AppData\\Local\\Temp\\ipykernel_23008\\1248639595.py:50: FutureWarning: The frame.append method is deprecated and will be removed from pandas in a future version. Use pandas.concat instead.\n",
      "  df2 = df2.append(data, ignore_index=True)\n"
     ]
    },
    {
     "name": "stdout",
     "output_type": "stream",
     "text": [
      "TRACK 20  in  spotify:track:29TPjc8wxfz4XMn21O7VsZ  COMPLETED\n"
     ]
    },
    {
     "name": "stderr",
     "output_type": "stream",
     "text": [
      "C:\\Users\\Uma Bala\\AppData\\Local\\Temp\\ipykernel_23008\\1248639595.py:50: FutureWarning: The frame.append method is deprecated and will be removed from pandas in a future version. Use pandas.concat instead.\n",
      "  df2 = df2.append(data, ignore_index=True)\n"
     ]
    },
    {
     "name": "stdout",
     "output_type": "stream",
     "text": [
      "TRACK 21  in  spotify:track:5Gt9bxniM1SxN61yRzRhXL  COMPLETED\n"
     ]
    },
    {
     "name": "stderr",
     "output_type": "stream",
     "text": [
      "C:\\Users\\Uma Bala\\AppData\\Local\\Temp\\ipykernel_23008\\1248639595.py:50: FutureWarning: The frame.append method is deprecated and will be removed from pandas in a future version. Use pandas.concat instead.\n",
      "  df2 = df2.append(data, ignore_index=True)\n"
     ]
    },
    {
     "name": "stdout",
     "output_type": "stream",
     "text": [
      "TRACK 22  in  spotify:track:65r94rVdiMwqXyQFEr3tqT  COMPLETED\n"
     ]
    },
    {
     "name": "stderr",
     "output_type": "stream",
     "text": [
      "C:\\Users\\Uma Bala\\AppData\\Local\\Temp\\ipykernel_23008\\1248639595.py:50: FutureWarning: The frame.append method is deprecated and will be removed from pandas in a future version. Use pandas.concat instead.\n",
      "  df2 = df2.append(data, ignore_index=True)\n"
     ]
    },
    {
     "name": "stdout",
     "output_type": "stream",
     "text": [
      "TRACK 23  in  spotify:track:6Dk5fHTvH897XrVzCO64Mx  COMPLETED\n"
     ]
    },
    {
     "name": "stderr",
     "output_type": "stream",
     "text": [
      "C:\\Users\\Uma Bala\\AppData\\Local\\Temp\\ipykernel_23008\\1248639595.py:50: FutureWarning: The frame.append method is deprecated and will be removed from pandas in a future version. Use pandas.concat instead.\n",
      "  df2 = df2.append(data, ignore_index=True)\n",
      "C:\\Users\\Uma Bala\\AppData\\Local\\Temp\\ipykernel_23008\\1248639595.py:50: FutureWarning: The frame.append method is deprecated and will be removed from pandas in a future version. Use pandas.concat instead.\n",
      "  df2 = df2.append(data, ignore_index=True)\n"
     ]
    },
    {
     "name": "stdout",
     "output_type": "stream",
     "text": [
      "TRACK 24  in  spotify:track:7H0ya83CMmgFcOhw0UB6ow  COMPLETED\n",
      "TRACK 25  in  spotify:track:7EAMXbLcL0qXmciM5SwMh2  COMPLETED\n"
     ]
    },
    {
     "name": "stderr",
     "output_type": "stream",
     "text": [
      "C:\\Users\\Uma Bala\\AppData\\Local\\Temp\\ipykernel_23008\\1248639595.py:50: FutureWarning: The frame.append method is deprecated and will be removed from pandas in a future version. Use pandas.concat instead.\n",
      "  df2 = df2.append(data, ignore_index=True)\n"
     ]
    },
    {
     "name": "stdout",
     "output_type": "stream",
     "text": [
      "TRACK 26  in  spotify:track:31mzt4ZV8C0f52pIz1NSwd  COMPLETED\n"
     ]
    },
    {
     "name": "stderr",
     "output_type": "stream",
     "text": [
      "C:\\Users\\Uma Bala\\AppData\\Local\\Temp\\ipykernel_23008\\1248639595.py:50: FutureWarning: The frame.append method is deprecated and will be removed from pandas in a future version. Use pandas.concat instead.\n",
      "  df2 = df2.append(data, ignore_index=True)\n"
     ]
    },
    {
     "name": "stdout",
     "output_type": "stream",
     "text": [
      "TRACK 27  in  spotify:track:1MDy1pR75sPtgFcUzP407o  COMPLETED\n"
     ]
    },
    {
     "name": "stderr",
     "output_type": "stream",
     "text": [
      "C:\\Users\\Uma Bala\\AppData\\Local\\Temp\\ipykernel_23008\\1248639595.py:50: FutureWarning: The frame.append method is deprecated and will be removed from pandas in a future version. Use pandas.concat instead.\n",
      "  df2 = df2.append(data, ignore_index=True)\n"
     ]
    },
    {
     "name": "stdout",
     "output_type": "stream",
     "text": [
      "TRACK 28  in  spotify:track:37F0uwRSrdzkBiuj0D5UHI  COMPLETED\n"
     ]
    },
    {
     "name": "stderr",
     "output_type": "stream",
     "text": [
      "C:\\Users\\Uma Bala\\AppData\\Local\\Temp\\ipykernel_23008\\1248639595.py:50: FutureWarning: The frame.append method is deprecated and will be removed from pandas in a future version. Use pandas.concat instead.\n",
      "  df2 = df2.append(data, ignore_index=True)\n"
     ]
    },
    {
     "name": "stdout",
     "output_type": "stream",
     "text": [
      "TRACK 29  in  spotify:track:1A3tuE6ti9qoZDwB3LB0t2  COMPLETED\n"
     ]
    },
    {
     "name": "stderr",
     "output_type": "stream",
     "text": [
      "C:\\Users\\Uma Bala\\AppData\\Local\\Temp\\ipykernel_23008\\1248639595.py:50: FutureWarning: The frame.append method is deprecated and will be removed from pandas in a future version. Use pandas.concat instead.\n",
      "  df2 = df2.append(data, ignore_index=True)\n"
     ]
    },
    {
     "name": "stdout",
     "output_type": "stream",
     "text": [
      "TRACK 30  in  spotify:track:4RvWPyQ5RL0ao9LPZeSouE  COMPLETED\n"
     ]
    },
    {
     "name": "stderr",
     "output_type": "stream",
     "text": [
      "C:\\Users\\Uma Bala\\AppData\\Local\\Temp\\ipykernel_23008\\1248639595.py:50: FutureWarning: The frame.append method is deprecated and will be removed from pandas in a future version. Use pandas.concat instead.\n",
      "  df2 = df2.append(data, ignore_index=True)\n"
     ]
    },
    {
     "name": "stdout",
     "output_type": "stream",
     "text": [
      "TRACK 31  in  spotify:track:0ll8uFnc0nANY35E0Lfxvg  COMPLETED\n"
     ]
    },
    {
     "name": "stderr",
     "output_type": "stream",
     "text": [
      "C:\\Users\\Uma Bala\\AppData\\Local\\Temp\\ipykernel_23008\\1248639595.py:50: FutureWarning: The frame.append method is deprecated and will be removed from pandas in a future version. Use pandas.concat instead.\n",
      "  df2 = df2.append(data, ignore_index=True)\n",
      "C:\\Users\\Uma Bala\\AppData\\Local\\Temp\\ipykernel_23008\\1248639595.py:50: FutureWarning: The frame.append method is deprecated and will be removed from pandas in a future version. Use pandas.concat instead.\n",
      "  df2 = df2.append(data, ignore_index=True)\n"
     ]
    },
    {
     "name": "stdout",
     "output_type": "stream",
     "text": [
      "TRACK 32  in  spotify:track:5mjYQaktjmjcMKcUIcqz4s  COMPLETED\n",
      "TRACK 33  in  spotify:track:59NraMJsLaMCVtwXTSia8i  COMPLETED\n"
     ]
    },
    {
     "name": "stderr",
     "output_type": "stream",
     "text": [
      "C:\\Users\\Uma Bala\\AppData\\Local\\Temp\\ipykernel_23008\\1248639595.py:50: FutureWarning: The frame.append method is deprecated and will be removed from pandas in a future version. Use pandas.concat instead.\n",
      "  df2 = df2.append(data, ignore_index=True)\n",
      "C:\\Users\\Uma Bala\\AppData\\Local\\Temp\\ipykernel_23008\\1248639595.py:50: FutureWarning: The frame.append method is deprecated and will be removed from pandas in a future version. Use pandas.concat instead.\n",
      "  df2 = df2.append(data, ignore_index=True)\n"
     ]
    },
    {
     "name": "stdout",
     "output_type": "stream",
     "text": [
      "TRACK 34  in  spotify:track:3pDqijcxYCRl59wZtoO3dz  COMPLETED\n",
      "TRACK 35  in  spotify:track:5FkBFIGzG8lYFktLyZNUq6  COMPLETED\n"
     ]
    },
    {
     "name": "stderr",
     "output_type": "stream",
     "text": [
      "C:\\Users\\Uma Bala\\AppData\\Local\\Temp\\ipykernel_23008\\1248639595.py:50: FutureWarning: The frame.append method is deprecated and will be removed from pandas in a future version. Use pandas.concat instead.\n",
      "  df2 = df2.append(data, ignore_index=True)\n"
     ]
    },
    {
     "name": "stdout",
     "output_type": "stream",
     "text": [
      "TRACK 36  in  spotify:track:6Sg6Zpg3jKGhS0drWoawRt  COMPLETED\n"
     ]
    },
    {
     "name": "stderr",
     "output_type": "stream",
     "text": [
      "C:\\Users\\Uma Bala\\AppData\\Local\\Temp\\ipykernel_23008\\1248639595.py:50: FutureWarning: The frame.append method is deprecated and will be removed from pandas in a future version. Use pandas.concat instead.\n",
      "  df2 = df2.append(data, ignore_index=True)\n",
      "C:\\Users\\Uma Bala\\AppData\\Local\\Temp\\ipykernel_23008\\1248639595.py:50: FutureWarning: The frame.append method is deprecated and will be removed from pandas in a future version. Use pandas.concat instead.\n",
      "  df2 = df2.append(data, ignore_index=True)\n"
     ]
    },
    {
     "name": "stdout",
     "output_type": "stream",
     "text": [
      "TRACK 37  in  spotify:track:6x4UZhlOra7QT6feTizatI  COMPLETED\n",
      "TRACK 38  in  spotify:track:2FDTHlrBguDzQkp7PVj16Q  COMPLETED\n"
     ]
    },
    {
     "name": "stderr",
     "output_type": "stream",
     "text": [
      "C:\\Users\\Uma Bala\\AppData\\Local\\Temp\\ipykernel_23008\\1248639595.py:50: FutureWarning: The frame.append method is deprecated and will be removed from pandas in a future version. Use pandas.concat instead.\n",
      "  df2 = df2.append(data, ignore_index=True)\n"
     ]
    },
    {
     "name": "stdout",
     "output_type": "stream",
     "text": [
      "TRACK 39  in  spotify:track:2IGMVunIBsBLtEQyoI1Mu7  COMPLETED\n"
     ]
    },
    {
     "name": "stderr",
     "output_type": "stream",
     "text": [
      "C:\\Users\\Uma Bala\\AppData\\Local\\Temp\\ipykernel_23008\\1248639595.py:50: FutureWarning: The frame.append method is deprecated and will be removed from pandas in a future version. Use pandas.concat instead.\n",
      "  df2 = df2.append(data, ignore_index=True)\n"
     ]
    },
    {
     "name": "stdout",
     "output_type": "stream",
     "text": [
      "TRACK 40  in  spotify:track:73RbfOTJIjHzi2pcVHjeHM  COMPLETED\n"
     ]
    },
    {
     "name": "stderr",
     "output_type": "stream",
     "text": [
      "C:\\Users\\Uma Bala\\AppData\\Local\\Temp\\ipykernel_23008\\1248639595.py:50: FutureWarning: The frame.append method is deprecated and will be removed from pandas in a future version. Use pandas.concat instead.\n",
      "  df2 = df2.append(data, ignore_index=True)\n"
     ]
    },
    {
     "name": "stdout",
     "output_type": "stream",
     "text": [
      "TRACK 41  in  spotify:track:25NVlQnDE1Nunso1vG4aSJ  COMPLETED\n"
     ]
    },
    {
     "name": "stderr",
     "output_type": "stream",
     "text": [
      "C:\\Users\\Uma Bala\\AppData\\Local\\Temp\\ipykernel_23008\\1248639595.py:50: FutureWarning: The frame.append method is deprecated and will be removed from pandas in a future version. Use pandas.concat instead.\n",
      "  df2 = df2.append(data, ignore_index=True)\n"
     ]
    },
    {
     "name": "stdout",
     "output_type": "stream",
     "text": [
      "TRACK 42  in  spotify:track:1gQoH6i6bMfZar1jlfcvo4  COMPLETED\n"
     ]
    },
    {
     "name": "stderr",
     "output_type": "stream",
     "text": [
      "C:\\Users\\Uma Bala\\AppData\\Local\\Temp\\ipykernel_23008\\1248639595.py:50: FutureWarning: The frame.append method is deprecated and will be removed from pandas in a future version. Use pandas.concat instead.\n",
      "  df2 = df2.append(data, ignore_index=True)\n"
     ]
    },
    {
     "name": "stdout",
     "output_type": "stream",
     "text": [
      "TRACK 43  in  spotify:track:3xIMkM5LgbVDkpO74O3Np3  COMPLETED\n"
     ]
    },
    {
     "name": "stderr",
     "output_type": "stream",
     "text": [
      "C:\\Users\\Uma Bala\\AppData\\Local\\Temp\\ipykernel_23008\\1248639595.py:50: FutureWarning: The frame.append method is deprecated and will be removed from pandas in a future version. Use pandas.concat instead.\n",
      "  df2 = df2.append(data, ignore_index=True)\n"
     ]
    },
    {
     "name": "stdout",
     "output_type": "stream",
     "text": [
      "TRACK 44  in  spotify:track:31nfdEooLEq7dn3UMcIeB5  COMPLETED\n"
     ]
    },
    {
     "name": "stderr",
     "output_type": "stream",
     "text": [
      "C:\\Users\\Uma Bala\\AppData\\Local\\Temp\\ipykernel_23008\\1248639595.py:50: FutureWarning: The frame.append method is deprecated and will be removed from pandas in a future version. Use pandas.concat instead.\n",
      "  df2 = df2.append(data, ignore_index=True)\n"
     ]
    },
    {
     "name": "stdout",
     "output_type": "stream",
     "text": [
      "TRACK 45  in  spotify:track:6UC3dGChXc6dEBF7v4EJBS  COMPLETED\n"
     ]
    },
    {
     "name": "stderr",
     "output_type": "stream",
     "text": [
      "C:\\Users\\Uma Bala\\AppData\\Local\\Temp\\ipykernel_23008\\1248639595.py:50: FutureWarning: The frame.append method is deprecated and will be removed from pandas in a future version. Use pandas.concat instead.\n",
      "  df2 = df2.append(data, ignore_index=True)\n"
     ]
    },
    {
     "name": "stdout",
     "output_type": "stream",
     "text": [
      "TRACK 46  in  spotify:track:6AniwqutKwoqgb3oQ2BCbE  COMPLETED\n"
     ]
    },
    {
     "name": "stderr",
     "output_type": "stream",
     "text": [
      "C:\\Users\\Uma Bala\\AppData\\Local\\Temp\\ipykernel_23008\\1248639595.py:50: FutureWarning: The frame.append method is deprecated and will be removed from pandas in a future version. Use pandas.concat instead.\n",
      "  df2 = df2.append(data, ignore_index=True)\n"
     ]
    },
    {
     "name": "stdout",
     "output_type": "stream",
     "text": [
      "TRACK 47  in  spotify:track:4W8IEREeLldaSQyGXcZQ2I  COMPLETED\n"
     ]
    },
    {
     "name": "stderr",
     "output_type": "stream",
     "text": [
      "C:\\Users\\Uma Bala\\AppData\\Local\\Temp\\ipykernel_23008\\1248639595.py:50: FutureWarning: The frame.append method is deprecated and will be removed from pandas in a future version. Use pandas.concat instead.\n",
      "  df2 = df2.append(data, ignore_index=True)\n"
     ]
    },
    {
     "name": "stdout",
     "output_type": "stream",
     "text": [
      "TRACK 48  in  spotify:track:0HDO6JFfplYPrSWuufUosZ  COMPLETED\n"
     ]
    },
    {
     "name": "stderr",
     "output_type": "stream",
     "text": [
      "C:\\Users\\Uma Bala\\AppData\\Local\\Temp\\ipykernel_23008\\1248639595.py:50: FutureWarning: The frame.append method is deprecated and will be removed from pandas in a future version. Use pandas.concat instead.\n",
      "  df2 = df2.append(data, ignore_index=True)\n"
     ]
    },
    {
     "name": "stdout",
     "output_type": "stream",
     "text": [
      "TRACK 49  in  spotify:track:7krMDOA6fgwWiULWLwJrv1  COMPLETED\n"
     ]
    },
    {
     "name": "stderr",
     "output_type": "stream",
     "text": [
      "C:\\Users\\Uma Bala\\AppData\\Local\\Temp\\ipykernel_23008\\1248639595.py:50: FutureWarning: The frame.append method is deprecated and will be removed from pandas in a future version. Use pandas.concat instead.\n",
      "  df2 = df2.append(data, ignore_index=True)\n",
      "C:\\Users\\Uma Bala\\AppData\\Local\\Temp\\ipykernel_23008\\1248639595.py:50: FutureWarning: The frame.append method is deprecated and will be removed from pandas in a future version. Use pandas.concat instead.\n",
      "  df2 = df2.append(data, ignore_index=True)\n"
     ]
    },
    {
     "name": "stdout",
     "output_type": "stream",
     "text": [
      "TRACK 50  in  spotify:track:3an1JVi8OsE0aG6dMS4Pes  COMPLETED\n",
      "TRACK 51  in  spotify:track:5cI23aJ66Gw2a4N8l4dGYw  COMPLETED\n"
     ]
    },
    {
     "name": "stderr",
     "output_type": "stream",
     "text": [
      "C:\\Users\\Uma Bala\\AppData\\Local\\Temp\\ipykernel_23008\\1248639595.py:50: FutureWarning: The frame.append method is deprecated and will be removed from pandas in a future version. Use pandas.concat instead.\n",
      "  df2 = df2.append(data, ignore_index=True)\n",
      "C:\\Users\\Uma Bala\\AppData\\Local\\Temp\\ipykernel_23008\\1248639595.py:50: FutureWarning: The frame.append method is deprecated and will be removed from pandas in a future version. Use pandas.concat instead.\n",
      "  df2 = df2.append(data, ignore_index=True)\n"
     ]
    },
    {
     "name": "stdout",
     "output_type": "stream",
     "text": [
      "TRACK 52  in  spotify:track:78Du4CMFgnhdlG33gblkiP  COMPLETED\n",
      "TRACK 53  in  spotify:track:1p3P67oi2xTVQbjCvOix8y  COMPLETED\n"
     ]
    },
    {
     "name": "stderr",
     "output_type": "stream",
     "text": [
      "C:\\Users\\Uma Bala\\AppData\\Local\\Temp\\ipykernel_23008\\1248639595.py:50: FutureWarning: The frame.append method is deprecated and will be removed from pandas in a future version. Use pandas.concat instead.\n",
      "  df2 = df2.append(data, ignore_index=True)\n"
     ]
    },
    {
     "name": "stdout",
     "output_type": "stream",
     "text": [
      "TRACK 54  in  spotify:track:3pZT22o1cWPDAtQ14p7cXK  COMPLETED\n"
     ]
    },
    {
     "name": "stderr",
     "output_type": "stream",
     "text": [
      "C:\\Users\\Uma Bala\\AppData\\Local\\Temp\\ipykernel_23008\\1248639595.py:50: FutureWarning: The frame.append method is deprecated and will be removed from pandas in a future version. Use pandas.concat instead.\n",
      "  df2 = df2.append(data, ignore_index=True)\n"
     ]
    },
    {
     "name": "stdout",
     "output_type": "stream",
     "text": [
      "TRACK 55  in  spotify:track:4x2rgtSFOI4hRvEvDj02KP  COMPLETED\n"
     ]
    },
    {
     "name": "stderr",
     "output_type": "stream",
     "text": [
      "C:\\Users\\Uma Bala\\AppData\\Local\\Temp\\ipykernel_23008\\1248639595.py:50: FutureWarning: The frame.append method is deprecated and will be removed from pandas in a future version. Use pandas.concat instead.\n",
      "  df2 = df2.append(data, ignore_index=True)\n"
     ]
    },
    {
     "name": "stdout",
     "output_type": "stream",
     "text": [
      "TRACK 56  in  spotify:track:5dPy1CCYQ04xaQHpajf5CY  COMPLETED\n"
     ]
    },
    {
     "name": "stderr",
     "output_type": "stream",
     "text": [
      "C:\\Users\\Uma Bala\\AppData\\Local\\Temp\\ipykernel_23008\\1248639595.py:50: FutureWarning: The frame.append method is deprecated and will be removed from pandas in a future version. Use pandas.concat instead.\n",
      "  df2 = df2.append(data, ignore_index=True)\n"
     ]
    },
    {
     "name": "stdout",
     "output_type": "stream",
     "text": [
      "TRACK 57  in  spotify:track:7nBXjkwud44zozBz69UWJt  COMPLETED\n"
     ]
    },
    {
     "name": "stderr",
     "output_type": "stream",
     "text": [
      "C:\\Users\\Uma Bala\\AppData\\Local\\Temp\\ipykernel_23008\\1248639595.py:50: FutureWarning: The frame.append method is deprecated and will be removed from pandas in a future version. Use pandas.concat instead.\n",
      "  df2 = df2.append(data, ignore_index=True)\n",
      "C:\\Users\\Uma Bala\\AppData\\Local\\Temp\\ipykernel_23008\\1248639595.py:50: FutureWarning: The frame.append method is deprecated and will be removed from pandas in a future version. Use pandas.concat instead.\n",
      "  df2 = df2.append(data, ignore_index=True)\n"
     ]
    },
    {
     "name": "stdout",
     "output_type": "stream",
     "text": [
      "TRACK 58  in  spotify:track:6tAKikIvnoWfUeZrfkopLL  COMPLETED\n",
      "TRACK 59  in  spotify:track:741UUVE2kuITl0c6zuqqbO  COMPLETED\n"
     ]
    },
    {
     "name": "stderr",
     "output_type": "stream",
     "text": [
      "C:\\Users\\Uma Bala\\AppData\\Local\\Temp\\ipykernel_23008\\1248639595.py:50: FutureWarning: The frame.append method is deprecated and will be removed from pandas in a future version. Use pandas.concat instead.\n",
      "  df2 = df2.append(data, ignore_index=True)\n"
     ]
    },
    {
     "name": "stdout",
     "output_type": "stream",
     "text": [
      "TRACK 60  in  spotify:track:6j42bx31E3yNKrqjrBobWV  COMPLETED\n"
     ]
    },
    {
     "name": "stderr",
     "output_type": "stream",
     "text": [
      "C:\\Users\\Uma Bala\\AppData\\Local\\Temp\\ipykernel_23008\\1248639595.py:50: FutureWarning: The frame.append method is deprecated and will be removed from pandas in a future version. Use pandas.concat instead.\n",
      "  df2 = df2.append(data, ignore_index=True)\n"
     ]
    },
    {
     "name": "stdout",
     "output_type": "stream",
     "text": [
      "TRACK 61  in  spotify:track:3QAU2pj4LUKf7yaTgANlQV  COMPLETED\n"
     ]
    },
    {
     "name": "stderr",
     "output_type": "stream",
     "text": [
      "C:\\Users\\Uma Bala\\AppData\\Local\\Temp\\ipykernel_23008\\1248639595.py:50: FutureWarning: The frame.append method is deprecated and will be removed from pandas in a future version. Use pandas.concat instead.\n",
      "  df2 = df2.append(data, ignore_index=True)\n"
     ]
    },
    {
     "name": "stdout",
     "output_type": "stream",
     "text": [
      "TRACK 62  in  spotify:track:5fF9T9SMqBKUvT06cn7kBR  COMPLETED\n"
     ]
    },
    {
     "name": "stderr",
     "output_type": "stream",
     "text": [
      "C:\\Users\\Uma Bala\\AppData\\Local\\Temp\\ipykernel_23008\\1248639595.py:50: FutureWarning: The frame.append method is deprecated and will be removed from pandas in a future version. Use pandas.concat instead.\n",
      "  df2 = df2.append(data, ignore_index=True)\n"
     ]
    },
    {
     "name": "stdout",
     "output_type": "stream",
     "text": [
      "TRACK 63  in  spotify:track:3AjSfp5FDvwtMU9XBsbS8j  COMPLETED\n"
     ]
    },
    {
     "name": "stderr",
     "output_type": "stream",
     "text": [
      "C:\\Users\\Uma Bala\\AppData\\Local\\Temp\\ipykernel_23008\\1248639595.py:50: FutureWarning: The frame.append method is deprecated and will be removed from pandas in a future version. Use pandas.concat instead.\n",
      "  df2 = df2.append(data, ignore_index=True)\n"
     ]
    },
    {
     "name": "stdout",
     "output_type": "stream",
     "text": [
      "TRACK 64  in  spotify:track:3g9qB4ViV0bpep90o0F5fC  COMPLETED\n"
     ]
    },
    {
     "name": "stderr",
     "output_type": "stream",
     "text": [
      "C:\\Users\\Uma Bala\\AppData\\Local\\Temp\\ipykernel_23008\\1248639595.py:50: FutureWarning: The frame.append method is deprecated and will be removed from pandas in a future version. Use pandas.concat instead.\n",
      "  df2 = df2.append(data, ignore_index=True)\n"
     ]
    },
    {
     "name": "stdout",
     "output_type": "stream",
     "text": [
      "TRACK 65  in  spotify:track:7AOJcugo17Kr1WUheSI6Oq  COMPLETED\n",
      "TRACK 66  in  spotify:track:38aDPziKNpMScJAdNro7vI  COMPLETED\n"
     ]
    },
    {
     "name": "stderr",
     "output_type": "stream",
     "text": [
      "C:\\Users\\Uma Bala\\AppData\\Local\\Temp\\ipykernel_23008\\1248639595.py:50: FutureWarning: The frame.append method is deprecated and will be removed from pandas in a future version. Use pandas.concat instead.\n",
      "  df2 = df2.append(data, ignore_index=True)\n",
      "C:\\Users\\Uma Bala\\AppData\\Local\\Temp\\ipykernel_23008\\1248639595.py:50: FutureWarning: The frame.append method is deprecated and will be removed from pandas in a future version. Use pandas.concat instead.\n",
      "  df2 = df2.append(data, ignore_index=True)\n"
     ]
    },
    {
     "name": "stdout",
     "output_type": "stream",
     "text": [
      "TRACK 67  in  spotify:track:7037bX3jdaUWUAXL12CHGy  COMPLETED\n"
     ]
    },
    {
     "name": "stderr",
     "output_type": "stream",
     "text": [
      "C:\\Users\\Uma Bala\\AppData\\Local\\Temp\\ipykernel_23008\\1248639595.py:50: FutureWarning: The frame.append method is deprecated and will be removed from pandas in a future version. Use pandas.concat instead.\n",
      "  df2 = df2.append(data, ignore_index=True)\n"
     ]
    },
    {
     "name": "stdout",
     "output_type": "stream",
     "text": [
      "TRACK 68  in  spotify:track:2kaH2Z8ezDUKf6fNw250rZ  COMPLETED\n"
     ]
    },
    {
     "name": "stderr",
     "output_type": "stream",
     "text": [
      "C:\\Users\\Uma Bala\\AppData\\Local\\Temp\\ipykernel_23008\\1248639595.py:50: FutureWarning: The frame.append method is deprecated and will be removed from pandas in a future version. Use pandas.concat instead.\n",
      "  df2 = df2.append(data, ignore_index=True)\n"
     ]
    },
    {
     "name": "stdout",
     "output_type": "stream",
     "text": [
      "TRACK 69  in  spotify:track:6SihMpwoVMy75GwvBXFxJ4  COMPLETED\n"
     ]
    },
    {
     "name": "stderr",
     "output_type": "stream",
     "text": [
      "C:\\Users\\Uma Bala\\AppData\\Local\\Temp\\ipykernel_23008\\1248639595.py:50: FutureWarning: The frame.append method is deprecated and will be removed from pandas in a future version. Use pandas.concat instead.\n",
      "  df2 = df2.append(data, ignore_index=True)\n"
     ]
    },
    {
     "name": "stdout",
     "output_type": "stream",
     "text": [
      "TRACK 70  in  spotify:track:5BfCoUcWNXcpyJfjXRIeyC  COMPLETED\n"
     ]
    },
    {
     "name": "stderr",
     "output_type": "stream",
     "text": [
      "C:\\Users\\Uma Bala\\AppData\\Local\\Temp\\ipykernel_23008\\1248639595.py:50: FutureWarning: The frame.append method is deprecated and will be removed from pandas in a future version. Use pandas.concat instead.\n",
      "  df2 = df2.append(data, ignore_index=True)\n"
     ]
    },
    {
     "name": "stdout",
     "output_type": "stream",
     "text": [
      "TRACK 71  in  spotify:track:17Um25RxAOpc2NgtDiYKl9  COMPLETED\n"
     ]
    },
    {
     "name": "stderr",
     "output_type": "stream",
     "text": [
      "C:\\Users\\Uma Bala\\AppData\\Local\\Temp\\ipykernel_23008\\1248639595.py:50: FutureWarning: The frame.append method is deprecated and will be removed from pandas in a future version. Use pandas.concat instead.\n",
      "  df2 = df2.append(data, ignore_index=True)\n"
     ]
    },
    {
     "name": "stdout",
     "output_type": "stream",
     "text": [
      "TRACK 72  in  spotify:track:17NHXI2CJp7KgdcwcDnRx4  COMPLETED\n"
     ]
    },
    {
     "name": "stderr",
     "output_type": "stream",
     "text": [
      "C:\\Users\\Uma Bala\\AppData\\Local\\Temp\\ipykernel_23008\\1248639595.py:50: FutureWarning: The frame.append method is deprecated and will be removed from pandas in a future version. Use pandas.concat instead.\n",
      "  df2 = df2.append(data, ignore_index=True)\n"
     ]
    },
    {
     "name": "stdout",
     "output_type": "stream",
     "text": [
      "TRACK 73  in  spotify:track:4Q51ZH2NEeO8n69tXT4m14  COMPLETED\n"
     ]
    },
    {
     "name": "stderr",
     "output_type": "stream",
     "text": [
      "C:\\Users\\Uma Bala\\AppData\\Local\\Temp\\ipykernel_23008\\1248639595.py:50: FutureWarning: The frame.append method is deprecated and will be removed from pandas in a future version. Use pandas.concat instead.\n",
      "  df2 = df2.append(data, ignore_index=True)\n"
     ]
    },
    {
     "name": "stdout",
     "output_type": "stream",
     "text": [
      "TRACK 74  in  spotify:track:5BI0zQZciyoQfJxsu8CIn9  COMPLETED\n"
     ]
    },
    {
     "name": "stderr",
     "output_type": "stream",
     "text": [
      "C:\\Users\\Uma Bala\\AppData\\Local\\Temp\\ipykernel_23008\\1248639595.py:50: FutureWarning: The frame.append method is deprecated and will be removed from pandas in a future version. Use pandas.concat instead.\n",
      "  df2 = df2.append(data, ignore_index=True)\n"
     ]
    },
    {
     "name": "stdout",
     "output_type": "stream",
     "text": [
      "TRACK 75  in  spotify:track:3XKIUb7HzIF1Vu9usunMzc  COMPLETED\n"
     ]
    },
    {
     "name": "stderr",
     "output_type": "stream",
     "text": [
      "C:\\Users\\Uma Bala\\AppData\\Local\\Temp\\ipykernel_23008\\1248639595.py:50: FutureWarning: The frame.append method is deprecated and will be removed from pandas in a future version. Use pandas.concat instead.\n",
      "  df2 = df2.append(data, ignore_index=True)\n"
     ]
    },
    {
     "name": "stdout",
     "output_type": "stream",
     "text": [
      "TRACK 76  in  spotify:track:2cSdAkzAf2T4j4aLvx4LLz  COMPLETED\n"
     ]
    },
    {
     "name": "stderr",
     "output_type": "stream",
     "text": [
      "C:\\Users\\Uma Bala\\AppData\\Local\\Temp\\ipykernel_23008\\1248639595.py:50: FutureWarning: The frame.append method is deprecated and will be removed from pandas in a future version. Use pandas.concat instead.\n",
      "  df2 = df2.append(data, ignore_index=True)\n"
     ]
    },
    {
     "name": "stdout",
     "output_type": "stream",
     "text": [
      "TRACK 77  in  spotify:track:1xK59OXxi2TAAAbmZK0kBL  COMPLETED\n"
     ]
    },
    {
     "name": "stderr",
     "output_type": "stream",
     "text": [
      "C:\\Users\\Uma Bala\\AppData\\Local\\Temp\\ipykernel_23008\\1248639595.py:50: FutureWarning: The frame.append method is deprecated and will be removed from pandas in a future version. Use pandas.concat instead.\n",
      "  df2 = df2.append(data, ignore_index=True)\n"
     ]
    },
    {
     "name": "stdout",
     "output_type": "stream",
     "text": [
      "TRACK 78  in  spotify:track:0psZSsU8eBoU5RdkUrj5E5  COMPLETED\n"
     ]
    },
    {
     "name": "stderr",
     "output_type": "stream",
     "text": [
      "C:\\Users\\Uma Bala\\AppData\\Local\\Temp\\ipykernel_23008\\1248639595.py:50: FutureWarning: The frame.append method is deprecated and will be removed from pandas in a future version. Use pandas.concat instead.\n",
      "  df2 = df2.append(data, ignore_index=True)\n"
     ]
    },
    {
     "name": "stdout",
     "output_type": "stream",
     "text": [
      "TRACK 79  in  spotify:track:3NRql0A1Ef4RCvT473iqgD  COMPLETED\n"
     ]
    },
    {
     "name": "stderr",
     "output_type": "stream",
     "text": [
      "C:\\Users\\Uma Bala\\AppData\\Local\\Temp\\ipykernel_23008\\1248639595.py:50: FutureWarning: The frame.append method is deprecated and will be removed from pandas in a future version. Use pandas.concat instead.\n",
      "  df2 = df2.append(data, ignore_index=True)\n"
     ]
    },
    {
     "name": "stdout",
     "output_type": "stream",
     "text": [
      "TRACK 80  in  spotify:track:7ckhEsg0yYCINgl1HqjCUk  COMPLETED\n"
     ]
    },
    {
     "name": "stderr",
     "output_type": "stream",
     "text": [
      "C:\\Users\\Uma Bala\\AppData\\Local\\Temp\\ipykernel_23008\\1248639595.py:50: FutureWarning: The frame.append method is deprecated and will be removed from pandas in a future version. Use pandas.concat instead.\n",
      "  df2 = df2.append(data, ignore_index=True)\n",
      "C:\\Users\\Uma Bala\\AppData\\Local\\Temp\\ipykernel_23008\\1248639595.py:50: FutureWarning: The frame.append method is deprecated and will be removed from pandas in a future version. Use pandas.concat instead.\n",
      "  df2 = df2.append(data, ignore_index=True)\n"
     ]
    },
    {
     "name": "stdout",
     "output_type": "stream",
     "text": [
      "TRACK 81  in  spotify:track:2VGGQdroduj4dIMGPsBzDG  COMPLETED\n",
      "TRACK 82  in  spotify:track:1Hv1VTm8zeOeybub15mA2R  COMPLETED\n"
     ]
    },
    {
     "name": "stderr",
     "output_type": "stream",
     "text": [
      "C:\\Users\\Uma Bala\\AppData\\Local\\Temp\\ipykernel_23008\\1248639595.py:50: FutureWarning: The frame.append method is deprecated and will be removed from pandas in a future version. Use pandas.concat instead.\n",
      "  df2 = df2.append(data, ignore_index=True)\n"
     ]
    },
    {
     "name": "stdout",
     "output_type": "stream",
     "text": [
      "TRACK 83  in  spotify:track:3k0DJq2HdWJqnqor8NX0ac  COMPLETED\n"
     ]
    },
    {
     "name": "stderr",
     "output_type": "stream",
     "text": [
      "C:\\Users\\Uma Bala\\AppData\\Local\\Temp\\ipykernel_23008\\1248639595.py:50: FutureWarning: The frame.append method is deprecated and will be removed from pandas in a future version. Use pandas.concat instead.\n",
      "  df2 = df2.append(data, ignore_index=True)\n"
     ]
    },
    {
     "name": "stdout",
     "output_type": "stream",
     "text": [
      "TRACK 84  in  spotify:track:5oUaUa8t6ld88QUCyYFb2H  COMPLETED\n"
     ]
    },
    {
     "name": "stderr",
     "output_type": "stream",
     "text": [
      "C:\\Users\\Uma Bala\\AppData\\Local\\Temp\\ipykernel_23008\\1248639595.py:50: FutureWarning: The frame.append method is deprecated and will be removed from pandas in a future version. Use pandas.concat instead.\n",
      "  df2 = df2.append(data, ignore_index=True)\n"
     ]
    },
    {
     "name": "stdout",
     "output_type": "stream",
     "text": [
      "TRACK 85  in  spotify:track:2mRNUz2RbAFf0AkPeQWelt  COMPLETED\n"
     ]
    },
    {
     "name": "stderr",
     "output_type": "stream",
     "text": [
      "C:\\Users\\Uma Bala\\AppData\\Local\\Temp\\ipykernel_23008\\1248639595.py:50: FutureWarning: The frame.append method is deprecated and will be removed from pandas in a future version. Use pandas.concat instead.\n",
      "  df2 = df2.append(data, ignore_index=True)\n",
      "C:\\Users\\Uma Bala\\AppData\\Local\\Temp\\ipykernel_23008\\1248639595.py:50: FutureWarning: The frame.append method is deprecated and will be removed from pandas in a future version. Use pandas.concat instead.\n",
      "  df2 = df2.append(data, ignore_index=True)\n"
     ]
    },
    {
     "name": "stdout",
     "output_type": "stream",
     "text": [
      "TRACK 86  in  spotify:track:6maTPqynTmrkWIralgGaoP  COMPLETED\n",
      "TRACK 87  in  spotify:track:3hxIUxnT27p5WcmjGUXNwx  COMPLETED\n"
     ]
    },
    {
     "name": "stderr",
     "output_type": "stream",
     "text": [
      "C:\\Users\\Uma Bala\\AppData\\Local\\Temp\\ipykernel_23008\\1248639595.py:50: FutureWarning: The frame.append method is deprecated and will be removed from pandas in a future version. Use pandas.concat instead.\n",
      "  df2 = df2.append(data, ignore_index=True)\n"
     ]
    },
    {
     "name": "stdout",
     "output_type": "stream",
     "text": [
      "TRACK 88  in  spotify:track:6AQbmUe0Qwf5PZnt4HmTXv  COMPLETED\n"
     ]
    },
    {
     "name": "stderr",
     "output_type": "stream",
     "text": [
      "C:\\Users\\Uma Bala\\AppData\\Local\\Temp\\ipykernel_23008\\1248639595.py:50: FutureWarning: The frame.append method is deprecated and will be removed from pandas in a future version. Use pandas.concat instead.\n",
      "  df2 = df2.append(data, ignore_index=True)\n"
     ]
    },
    {
     "name": "stdout",
     "output_type": "stream",
     "text": [
      "TRACK 89  in  spotify:track:0mNi3gEjt1CmZVhXFFjx8d  COMPLETED\n"
     ]
    },
    {
     "name": "stderr",
     "output_type": "stream",
     "text": [
      "C:\\Users\\Uma Bala\\AppData\\Local\\Temp\\ipykernel_23008\\1248639595.py:50: FutureWarning: The frame.append method is deprecated and will be removed from pandas in a future version. Use pandas.concat instead.\n",
      "  df2 = df2.append(data, ignore_index=True)\n"
     ]
    },
    {
     "name": "stdout",
     "output_type": "stream",
     "text": [
      "TRACK 90  in  spotify:track:2ZHzE5sQuOeJCnW5Fae2ck  COMPLETED\n"
     ]
    },
    {
     "name": "stderr",
     "output_type": "stream",
     "text": [
      "C:\\Users\\Uma Bala\\AppData\\Local\\Temp\\ipykernel_23008\\1248639595.py:50: FutureWarning: The frame.append method is deprecated and will be removed from pandas in a future version. Use pandas.concat instead.\n",
      "  df2 = df2.append(data, ignore_index=True)\n"
     ]
    },
    {
     "name": "stdout",
     "output_type": "stream",
     "text": [
      "TRACK 91  in  spotify:track:22I3h5AOENlH4CqXJsEbFR  COMPLETED\n"
     ]
    },
    {
     "name": "stderr",
     "output_type": "stream",
     "text": [
      "C:\\Users\\Uma Bala\\AppData\\Local\\Temp\\ipykernel_23008\\1248639595.py:50: FutureWarning: The frame.append method is deprecated and will be removed from pandas in a future version. Use pandas.concat instead.\n",
      "  df2 = df2.append(data, ignore_index=True)\n"
     ]
    },
    {
     "name": "stdout",
     "output_type": "stream",
     "text": [
      "TRACK 92  in  spotify:track:3TVgmfAbNVi1msAuUSI1Ht  COMPLETED\n"
     ]
    },
    {
     "name": "stderr",
     "output_type": "stream",
     "text": [
      "C:\\Users\\Uma Bala\\AppData\\Local\\Temp\\ipykernel_23008\\1248639595.py:50: FutureWarning: The frame.append method is deprecated and will be removed from pandas in a future version. Use pandas.concat instead.\n",
      "  df2 = df2.append(data, ignore_index=True)\n"
     ]
    },
    {
     "name": "stdout",
     "output_type": "stream",
     "text": [
      "TRACK 93  in  spotify:track:78Sw5GDo6AlGwTwanjXbGh  COMPLETED\n"
     ]
    },
    {
     "name": "stderr",
     "output_type": "stream",
     "text": [
      "C:\\Users\\Uma Bala\\AppData\\Local\\Temp\\ipykernel_23008\\1248639595.py:50: FutureWarning: The frame.append method is deprecated and will be removed from pandas in a future version. Use pandas.concat instead.\n",
      "  df2 = df2.append(data, ignore_index=True)\n"
     ]
    },
    {
     "name": "stdout",
     "output_type": "stream",
     "text": [
      "TRACK 94  in  spotify:track:4atLPkcljMp14JBaigYFKC  COMPLETED\n"
     ]
    },
    {
     "name": "stderr",
     "output_type": "stream",
     "text": [
      "C:\\Users\\Uma Bala\\AppData\\Local\\Temp\\ipykernel_23008\\1248639595.py:50: FutureWarning: The frame.append method is deprecated and will be removed from pandas in a future version. Use pandas.concat instead.\n",
      "  df2 = df2.append(data, ignore_index=True)\n"
     ]
    },
    {
     "name": "stdout",
     "output_type": "stream",
     "text": [
      "TRACK 95  in  spotify:track:17OqI90oTFZ3J8PVu6j07V  COMPLETED\n"
     ]
    },
    {
     "name": "stderr",
     "output_type": "stream",
     "text": [
      "C:\\Users\\Uma Bala\\AppData\\Local\\Temp\\ipykernel_23008\\1248639595.py:50: FutureWarning: The frame.append method is deprecated and will be removed from pandas in a future version. Use pandas.concat instead.\n",
      "  df2 = df2.append(data, ignore_index=True)\n"
     ]
    },
    {
     "name": "stdout",
     "output_type": "stream",
     "text": [
      "TRACK 96  in  spotify:track:1QvvLc5UihfQ2nOxzhjuek  COMPLETED\n"
     ]
    },
    {
     "name": "stderr",
     "output_type": "stream",
     "text": [
      "C:\\Users\\Uma Bala\\AppData\\Local\\Temp\\ipykernel_23008\\1248639595.py:50: FutureWarning: The frame.append method is deprecated and will be removed from pandas in a future version. Use pandas.concat instead.\n",
      "  df2 = df2.append(data, ignore_index=True)\n"
     ]
    },
    {
     "name": "stdout",
     "output_type": "stream",
     "text": [
      "TRACK 97  in  spotify:track:7KA4W4McWYRpgf0fWsJZWB  COMPLETED\n"
     ]
    },
    {
     "name": "stderr",
     "output_type": "stream",
     "text": [
      "C:\\Users\\Uma Bala\\AppData\\Local\\Temp\\ipykernel_23008\\1248639595.py:50: FutureWarning: The frame.append method is deprecated and will be removed from pandas in a future version. Use pandas.concat instead.\n",
      "  df2 = df2.append(data, ignore_index=True)\n"
     ]
    },
    {
     "name": "stdout",
     "output_type": "stream",
     "text": [
      "TRACK 98  in  spotify:track:7sliFe6W30tPBPh6dvZsIH  COMPLETED\n"
     ]
    },
    {
     "name": "stderr",
     "output_type": "stream",
     "text": [
      "C:\\Users\\Uma Bala\\AppData\\Local\\Temp\\ipykernel_23008\\1248639595.py:50: FutureWarning: The frame.append method is deprecated and will be removed from pandas in a future version. Use pandas.concat instead.\n",
      "  df2 = df2.append(data, ignore_index=True)\n"
     ]
    },
    {
     "name": "stdout",
     "output_type": "stream",
     "text": [
      "TRACK 99  in  spotify:track:7kOletJ0Q5H4MWe7cfeZXP  COMPLETED\n"
     ]
    },
    {
     "name": "stderr",
     "output_type": "stream",
     "text": [
      "C:\\Users\\Uma Bala\\AppData\\Local\\Temp\\ipykernel_23008\\1248639595.py:50: FutureWarning: The frame.append method is deprecated and will be removed from pandas in a future version. Use pandas.concat instead.\n",
      "  df2 = df2.append(data, ignore_index=True)\n",
      "C:\\Users\\Uma Bala\\AppData\\Local\\Temp\\ipykernel_23008\\1248639595.py:50: FutureWarning: The frame.append method is deprecated and will be removed from pandas in a future version. Use pandas.concat instead.\n",
      "  df2 = df2.append(data, ignore_index=True)\n"
     ]
    },
    {
     "name": "stdout",
     "output_type": "stream",
     "text": [
      "TRACK 100  in  spotify:track:4wP6mzWZC94dYmU6OYeljf  COMPLETED\n"
     ]
    }
   ],
   "source": [
    "df_hit_10 = get_song_data('https://open.spotify.com/playlist/4QuKMsnW1xttSEt6qlburc?si=b17519cc089d46d0')"
   ]
  },
  {
   "cell_type": "code",
   "execution_count": 36,
   "id": "156fabb8",
   "metadata": {},
   "outputs": [],
   "source": [
    "# df_hit_total = df_hit_1.append(df_hit_2)\n",
    "# df_hit_total = df_hit_total.append(df_hit_3)\n",
    "# df_hit_total = df_hit_total.append(df_hit_5)\n",
    "# df_hit_total = df_hit_total.append(df_hit_7)\n",
    "# df_hit_total = df_hit_total.append(df_hit_8)\n",
    "df_hit_total = pd.DataFrame()\n",
    "df_hit_total = pd.concat([df_hit_1, df_hit_2, df_hit_3, df_hit_4, df_hit_5, df_hit_6, df_hit_7, df_hit_8,df_hit_9, df_hit_10])"
   ]
  },
  {
   "cell_type": "code",
   "execution_count": 31,
   "id": "bd66c308",
   "metadata": {},
   "outputs": [
    {
     "data": {
      "text/plain": [
       "Index(['URI', 'TrackName', 'ArtistURI', 'ArtistName', 'ArtistPopularity',\n",
       "       'ArtistGenres', 'Album', 'TrackPopularity', 'Explicit', 'ReleaseDate',\n",
       "       'danceability', 'energy', 'key', 'loudness', 'mode', 'speechiness',\n",
       "       'acousticness', 'instrumentalness', 'liveness', 'valence', 'tempo',\n",
       "       'type', 'id', 'uri', 'track_href', 'analysis_url', 'duration_ms',\n",
       "       'time_signature'],\n",
       "      dtype='object')"
      ]
     },
     "execution_count": 31,
     "metadata": {},
     "output_type": "execute_result"
    }
   ],
   "source": [
    "df_hit_total.columns"
   ]
  },
  {
   "cell_type": "code",
   "execution_count": 37,
   "id": "6e3883fc",
   "metadata": {},
   "outputs": [],
   "source": [
    "df_hit_exp = df_hit_total"
   ]
  },
  {
   "cell_type": "code",
   "execution_count": 40,
   "id": "7890b5f2",
   "metadata": {},
   "outputs": [],
   "source": [
    "df11 = df_hit_exp.drop_duplicates(subset=['TrackName'])"
   ]
  },
  {
   "cell_type": "code",
   "execution_count": 41,
   "id": "161cc0f0",
   "metadata": {},
   "outputs": [
    {
     "data": {
      "text/html": [
       "<div>\n",
       "<style scoped>\n",
       "    .dataframe tbody tr th:only-of-type {\n",
       "        vertical-align: middle;\n",
       "    }\n",
       "\n",
       "    .dataframe tbody tr th {\n",
       "        vertical-align: top;\n",
       "    }\n",
       "\n",
       "    .dataframe thead th {\n",
       "        text-align: right;\n",
       "    }\n",
       "</style>\n",
       "<table border=\"1\" class=\"dataframe\">\n",
       "  <thead>\n",
       "    <tr style=\"text-align: right;\">\n",
       "      <th></th>\n",
       "      <th>URI</th>\n",
       "      <th>TrackName</th>\n",
       "      <th>ArtistURI</th>\n",
       "      <th>ArtistName</th>\n",
       "      <th>ArtistPopularity</th>\n",
       "      <th>ArtistGenres</th>\n",
       "      <th>Album</th>\n",
       "      <th>TrackPopularity</th>\n",
       "      <th>Explicit</th>\n",
       "      <th>ReleaseDate</th>\n",
       "      <th>...</th>\n",
       "      <th>liveness</th>\n",
       "      <th>valence</th>\n",
       "      <th>tempo</th>\n",
       "      <th>type</th>\n",
       "      <th>id</th>\n",
       "      <th>uri</th>\n",
       "      <th>track_href</th>\n",
       "      <th>analysis_url</th>\n",
       "      <th>duration_ms</th>\n",
       "      <th>time_signature</th>\n",
       "    </tr>\n",
       "  </thead>\n",
       "  <tbody>\n",
       "    <tr>\n",
       "      <th>0</th>\n",
       "      <td>spotify:track:1JgknGBbrfmEHeOZH051SS</td>\n",
       "      <td>ecstacy (slowed)</td>\n",
       "      <td>spotify:artist:6KOszWgIriJLaPOySuBOTI</td>\n",
       "      <td>SUICIDAL-IDOL</td>\n",
       "      <td>66</td>\n",
       "      <td>[scenecore]</td>\n",
       "      <td>ecstacy (slowed)</td>\n",
       "      <td>83</td>\n",
       "      <td>True</td>\n",
       "      <td>2023-06-06</td>\n",
       "      <td>...</td>\n",
       "      <td>0.381</td>\n",
       "      <td>0.195</td>\n",
       "      <td>106.414</td>\n",
       "      <td>audio_features</td>\n",
       "      <td>1JgknGBbrfmEHeOZH051SS</td>\n",
       "      <td>spotify:track:1JgknGBbrfmEHeOZH051SS</td>\n",
       "      <td>https://api.spotify.com/v1/tracks/1JgknGBbrfmE...</td>\n",
       "      <td>https://api.spotify.com/v1/audio-analysis/1Jgk...</td>\n",
       "      <td>119120</td>\n",
       "      <td>4</td>\n",
       "    </tr>\n",
       "    <tr>\n",
       "      <th>1</th>\n",
       "      <td>spotify:track:424DkevE18QJazwlljiTD4</td>\n",
       "      <td>Le Monde</td>\n",
       "      <td>spotify:artist:6jlwBcuB3gOuSR4Hb6MmVU</td>\n",
       "      <td>Richard Carter</td>\n",
       "      <td>62</td>\n",
       "      <td>[]</td>\n",
       "      <td>Talk to Me (Original Soundtrack)</td>\n",
       "      <td>81</td>\n",
       "      <td>False</td>\n",
       "      <td>2023-08-04</td>\n",
       "      <td>...</td>\n",
       "      <td>0.108</td>\n",
       "      <td>0.512</td>\n",
       "      <td>97.599</td>\n",
       "      <td>audio_features</td>\n",
       "      <td>424DkevE18QJazwlljiTD4</td>\n",
       "      <td>spotify:track:424DkevE18QJazwlljiTD4</td>\n",
       "      <td>https://api.spotify.com/v1/tracks/424DkevE18QJ...</td>\n",
       "      <td>https://api.spotify.com/v1/audio-analysis/424D...</td>\n",
       "      <td>134853</td>\n",
       "      <td>3</td>\n",
       "    </tr>\n",
       "    <tr>\n",
       "      <th>2</th>\n",
       "      <td>spotify:track:4Fv6wNYUixnYkj3Dgfrls8</td>\n",
       "      <td>Tumblr Girls (feat. Christoph Andersson)</td>\n",
       "      <td>spotify:artist:02kJSzxNuaWGqwubyUba0Z</td>\n",
       "      <td>G-Eazy</td>\n",
       "      <td>74</td>\n",
       "      <td>[indie pop rap, oakland hip hop, pop rap, rap]</td>\n",
       "      <td>These Things Happen</td>\n",
       "      <td>81</td>\n",
       "      <td>True</td>\n",
       "      <td>2014-06-20</td>\n",
       "      <td>...</td>\n",
       "      <td>0.128</td>\n",
       "      <td>0.346</td>\n",
       "      <td>121.889</td>\n",
       "      <td>audio_features</td>\n",
       "      <td>4Fv6wNYUixnYkj3Dgfrls8</td>\n",
       "      <td>spotify:track:4Fv6wNYUixnYkj3Dgfrls8</td>\n",
       "      <td>https://api.spotify.com/v1/tracks/4Fv6wNYUixnY...</td>\n",
       "      <td>https://api.spotify.com/v1/audio-analysis/4Fv6...</td>\n",
       "      <td>255680</td>\n",
       "      <td>4</td>\n",
       "    </tr>\n",
       "    <tr>\n",
       "      <th>3</th>\n",
       "      <td>spotify:track:43MifzVnh8W3jJN0xqU9jR</td>\n",
       "      <td>Wasted Summers</td>\n",
       "      <td>spotify:artist:496w0Fyed8J7IRzn5Ffb6x</td>\n",
       "      <td>juju&lt;3</td>\n",
       "      <td>64</td>\n",
       "      <td>[]</td>\n",
       "      <td>Wasted Summers</td>\n",
       "      <td>83</td>\n",
       "      <td>False</td>\n",
       "      <td>2023-07-12</td>\n",
       "      <td>...</td>\n",
       "      <td>0.780</td>\n",
       "      <td>0.472</td>\n",
       "      <td>103.842</td>\n",
       "      <td>audio_features</td>\n",
       "      <td>43MifzVnh8W3jJN0xqU9jR</td>\n",
       "      <td>spotify:track:43MifzVnh8W3jJN0xqU9jR</td>\n",
       "      <td>https://api.spotify.com/v1/tracks/43MifzVnh8W3...</td>\n",
       "      <td>https://api.spotify.com/v1/audio-analysis/43Mi...</td>\n",
       "      <td>130385</td>\n",
       "      <td>4</td>\n",
       "    </tr>\n",
       "    <tr>\n",
       "      <th>4</th>\n",
       "      <td>spotify:track:0HDO6JFfplYPrSWuufUosZ</td>\n",
       "      <td>Amour plastique</td>\n",
       "      <td>spotify:artist:3rp4f58JlRHkk8hpdLCer1</td>\n",
       "      <td>Videoclub</td>\n",
       "      <td>60</td>\n",
       "      <td>[french indie pop, french synthpop]</td>\n",
       "      <td>Euphories</td>\n",
       "      <td>65</td>\n",
       "      <td>False</td>\n",
       "      <td>2021-01-29</td>\n",
       "      <td>...</td>\n",
       "      <td>0.128</td>\n",
       "      <td>0.242</td>\n",
       "      <td>119.938</td>\n",
       "      <td>audio_features</td>\n",
       "      <td>0HDO6JFfplYPrSWuufUosZ</td>\n",
       "      <td>spotify:track:0HDO6JFfplYPrSWuufUosZ</td>\n",
       "      <td>https://api.spotify.com/v1/tracks/0HDO6JFfplYP...</td>\n",
       "      <td>https://api.spotify.com/v1/audio-analysis/0HDO...</td>\n",
       "      <td>227027</td>\n",
       "      <td>4</td>\n",
       "    </tr>\n",
       "    <tr>\n",
       "      <th>...</th>\n",
       "      <td>...</td>\n",
       "      <td>...</td>\n",
       "      <td>...</td>\n",
       "      <td>...</td>\n",
       "      <td>...</td>\n",
       "      <td>...</td>\n",
       "      <td>...</td>\n",
       "      <td>...</td>\n",
       "      <td>...</td>\n",
       "      <td>...</td>\n",
       "      <td>...</td>\n",
       "      <td>...</td>\n",
       "      <td>...</td>\n",
       "      <td>...</td>\n",
       "      <td>...</td>\n",
       "      <td>...</td>\n",
       "      <td>...</td>\n",
       "      <td>...</td>\n",
       "      <td>...</td>\n",
       "      <td>...</td>\n",
       "      <td>...</td>\n",
       "    </tr>\n",
       "    <tr>\n",
       "      <th>91</th>\n",
       "      <td>spotify:track:3TVgmfAbNVi1msAuUSI1Ht</td>\n",
       "      <td>Insomnia</td>\n",
       "      <td>spotify:artist:7eehGkMnqCS6Hp7HJIXH9e</td>\n",
       "      <td>Crystal Rock</td>\n",
       "      <td>58</td>\n",
       "      <td>[slap house]</td>\n",
       "      <td>Insomnia</td>\n",
       "      <td>38</td>\n",
       "      <td>False</td>\n",
       "      <td>2023-02-10</td>\n",
       "      <td>...</td>\n",
       "      <td>0.133</td>\n",
       "      <td>0.519</td>\n",
       "      <td>125.017</td>\n",
       "      <td>audio_features</td>\n",
       "      <td>3TVgmfAbNVi1msAuUSI1Ht</td>\n",
       "      <td>spotify:track:3TVgmfAbNVi1msAuUSI1Ht</td>\n",
       "      <td>https://api.spotify.com/v1/tracks/3TVgmfAbNVi1...</td>\n",
       "      <td>https://api.spotify.com/v1/audio-analysis/3TVg...</td>\n",
       "      <td>202924</td>\n",
       "      <td>4</td>\n",
       "    </tr>\n",
       "    <tr>\n",
       "      <th>93</th>\n",
       "      <td>spotify:track:4atLPkcljMp14JBaigYFKC</td>\n",
       "      <td>We Are The People - southstar Remix</td>\n",
       "      <td>spotify:artist:67hb7towEyKvt5Z8Bx306c</td>\n",
       "      <td>Empire of the Sun</td>\n",
       "      <td>70</td>\n",
       "      <td>[australian dance, australian electropop, danc...</td>\n",
       "      <td>We Are The People (southstar Remix)</td>\n",
       "      <td>76</td>\n",
       "      <td>False</td>\n",
       "      <td>2023-02-17</td>\n",
       "      <td>...</td>\n",
       "      <td>0.104</td>\n",
       "      <td>0.132</td>\n",
       "      <td>149.954</td>\n",
       "      <td>audio_features</td>\n",
       "      <td>4atLPkcljMp14JBaigYFKC</td>\n",
       "      <td>spotify:track:4atLPkcljMp14JBaigYFKC</td>\n",
       "      <td>https://api.spotify.com/v1/tracks/4atLPkcljMp1...</td>\n",
       "      <td>https://api.spotify.com/v1/audio-analysis/4atL...</td>\n",
       "      <td>236157</td>\n",
       "      <td>4</td>\n",
       "    </tr>\n",
       "    <tr>\n",
       "      <th>94</th>\n",
       "      <td>spotify:track:17OqI90oTFZ3J8PVu6j07V</td>\n",
       "      <td>Voulez-Vous</td>\n",
       "      <td>spotify:artist:0LcJLqbBmaGUft1e9Mm8HV</td>\n",
       "      <td>ABBA</td>\n",
       "      <td>78</td>\n",
       "      <td>[europop, swedish pop]</td>\n",
       "      <td>Voulez-Vous</td>\n",
       "      <td>72</td>\n",
       "      <td>False</td>\n",
       "      <td>1979</td>\n",
       "      <td>...</td>\n",
       "      <td>0.169</td>\n",
       "      <td>0.903</td>\n",
       "      <td>126.636</td>\n",
       "      <td>audio_features</td>\n",
       "      <td>17OqI90oTFZ3J8PVu6j07V</td>\n",
       "      <td>spotify:track:17OqI90oTFZ3J8PVu6j07V</td>\n",
       "      <td>https://api.spotify.com/v1/tracks/17OqI90oTFZ3...</td>\n",
       "      <td>https://api.spotify.com/v1/audio-analysis/17Oq...</td>\n",
       "      <td>309173</td>\n",
       "      <td>4</td>\n",
       "    </tr>\n",
       "    <tr>\n",
       "      <th>95</th>\n",
       "      <td>spotify:track:1QvvLc5UihfQ2nOxzhjuek</td>\n",
       "      <td>VOID</td>\n",
       "      <td>spotify:artist:63yrD80RY3RNEM2YDpUpO8</td>\n",
       "      <td>Melanie Martinez</td>\n",
       "      <td>79</td>\n",
       "      <td>[alt z, electropop, pop]</td>\n",
       "      <td>VOID</td>\n",
       "      <td>65</td>\n",
       "      <td>False</td>\n",
       "      <td>2023-03-29</td>\n",
       "      <td>...</td>\n",
       "      <td>0.186</td>\n",
       "      <td>0.415</td>\n",
       "      <td>99.996</td>\n",
       "      <td>audio_features</td>\n",
       "      <td>1QvvLc5UihfQ2nOxzhjuek</td>\n",
       "      <td>spotify:track:1QvvLc5UihfQ2nOxzhjuek</td>\n",
       "      <td>https://api.spotify.com/v1/tracks/1QvvLc5UihfQ...</td>\n",
       "      <td>https://api.spotify.com/v1/audio-analysis/1Qvv...</td>\n",
       "      <td>247875</td>\n",
       "      <td>4</td>\n",
       "    </tr>\n",
       "    <tr>\n",
       "      <th>98</th>\n",
       "      <td>spotify:track:7kOletJ0Q5H4MWe7cfeZXP</td>\n",
       "      <td>Alone (with Nicki Minaj)</td>\n",
       "      <td>spotify:artist:3Xt3RrJMFv5SZkCfUE8C1J</td>\n",
       "      <td>Kim Petras</td>\n",
       "      <td>74</td>\n",
       "      <td>[alt z, pop, transpop]</td>\n",
       "      <td>Alone</td>\n",
       "      <td>72</td>\n",
       "      <td>True</td>\n",
       "      <td>2023-04-21</td>\n",
       "      <td>...</td>\n",
       "      <td>0.125</td>\n",
       "      <td>0.167</td>\n",
       "      <td>136.985</td>\n",
       "      <td>audio_features</td>\n",
       "      <td>7kOletJ0Q5H4MWe7cfeZXP</td>\n",
       "      <td>spotify:track:7kOletJ0Q5H4MWe7cfeZXP</td>\n",
       "      <td>https://api.spotify.com/v1/tracks/7kOletJ0Q5H4...</td>\n",
       "      <td>https://api.spotify.com/v1/audio-analysis/7kOl...</td>\n",
       "      <td>185113</td>\n",
       "      <td>4</td>\n",
       "    </tr>\n",
       "  </tbody>\n",
       "</table>\n",
       "<p>522 rows × 28 columns</p>\n",
       "</div>"
      ],
      "text/plain": [
       "                                     URI  \\\n",
       "0   spotify:track:1JgknGBbrfmEHeOZH051SS   \n",
       "1   spotify:track:424DkevE18QJazwlljiTD4   \n",
       "2   spotify:track:4Fv6wNYUixnYkj3Dgfrls8   \n",
       "3   spotify:track:43MifzVnh8W3jJN0xqU9jR   \n",
       "4   spotify:track:0HDO6JFfplYPrSWuufUosZ   \n",
       "..                                   ...   \n",
       "91  spotify:track:3TVgmfAbNVi1msAuUSI1Ht   \n",
       "93  spotify:track:4atLPkcljMp14JBaigYFKC   \n",
       "94  spotify:track:17OqI90oTFZ3J8PVu6j07V   \n",
       "95  spotify:track:1QvvLc5UihfQ2nOxzhjuek   \n",
       "98  spotify:track:7kOletJ0Q5H4MWe7cfeZXP   \n",
       "\n",
       "                                   TrackName  \\\n",
       "0                           ecstacy (slowed)   \n",
       "1                                   Le Monde   \n",
       "2   Tumblr Girls (feat. Christoph Andersson)   \n",
       "3                             Wasted Summers   \n",
       "4                            Amour plastique   \n",
       "..                                       ...   \n",
       "91                                  Insomnia   \n",
       "93       We Are The People - southstar Remix   \n",
       "94                               Voulez-Vous   \n",
       "95                                      VOID   \n",
       "98                  Alone (with Nicki Minaj)   \n",
       "\n",
       "                                ArtistURI         ArtistName  \\\n",
       "0   spotify:artist:6KOszWgIriJLaPOySuBOTI      SUICIDAL-IDOL   \n",
       "1   spotify:artist:6jlwBcuB3gOuSR4Hb6MmVU     Richard Carter   \n",
       "2   spotify:artist:02kJSzxNuaWGqwubyUba0Z             G-Eazy   \n",
       "3   spotify:artist:496w0Fyed8J7IRzn5Ffb6x             juju<3   \n",
       "4   spotify:artist:3rp4f58JlRHkk8hpdLCer1          Videoclub   \n",
       "..                                    ...                ...   \n",
       "91  spotify:artist:7eehGkMnqCS6Hp7HJIXH9e       Crystal Rock   \n",
       "93  spotify:artist:67hb7towEyKvt5Z8Bx306c  Empire of the Sun   \n",
       "94  spotify:artist:0LcJLqbBmaGUft1e9Mm8HV               ABBA   \n",
       "95  spotify:artist:63yrD80RY3RNEM2YDpUpO8   Melanie Martinez   \n",
       "98  spotify:artist:3Xt3RrJMFv5SZkCfUE8C1J         Kim Petras   \n",
       "\n",
       "    ArtistPopularity                                       ArtistGenres  \\\n",
       "0                 66                                        [scenecore]   \n",
       "1                 62                                                 []   \n",
       "2                 74     [indie pop rap, oakland hip hop, pop rap, rap]   \n",
       "3                 64                                                 []   \n",
       "4                 60                [french indie pop, french synthpop]   \n",
       "..               ...                                                ...   \n",
       "91                58                                       [slap house]   \n",
       "93                70  [australian dance, australian electropop, danc...   \n",
       "94                78                             [europop, swedish pop]   \n",
       "95                79                           [alt z, electropop, pop]   \n",
       "98                74                             [alt z, pop, transpop]   \n",
       "\n",
       "                                  Album  TrackPopularity  Explicit  \\\n",
       "0                      ecstacy (slowed)               83      True   \n",
       "1      Talk to Me (Original Soundtrack)               81     False   \n",
       "2                   These Things Happen               81      True   \n",
       "3                        Wasted Summers               83     False   \n",
       "4                             Euphories               65     False   \n",
       "..                                  ...              ...       ...   \n",
       "91                             Insomnia               38     False   \n",
       "93  We Are The People (southstar Remix)               76     False   \n",
       "94                          Voulez-Vous               72     False   \n",
       "95                                 VOID               65     False   \n",
       "98                                Alone               72      True   \n",
       "\n",
       "   ReleaseDate  ...  liveness  valence    tempo            type  \\\n",
       "0   2023-06-06  ...     0.381    0.195  106.414  audio_features   \n",
       "1   2023-08-04  ...     0.108    0.512   97.599  audio_features   \n",
       "2   2014-06-20  ...     0.128    0.346  121.889  audio_features   \n",
       "3   2023-07-12  ...     0.780    0.472  103.842  audio_features   \n",
       "4   2021-01-29  ...     0.128    0.242  119.938  audio_features   \n",
       "..         ...  ...       ...      ...      ...             ...   \n",
       "91  2023-02-10  ...     0.133    0.519  125.017  audio_features   \n",
       "93  2023-02-17  ...     0.104    0.132  149.954  audio_features   \n",
       "94        1979  ...     0.169    0.903  126.636  audio_features   \n",
       "95  2023-03-29  ...     0.186    0.415   99.996  audio_features   \n",
       "98  2023-04-21  ...     0.125    0.167  136.985  audio_features   \n",
       "\n",
       "                        id                                   uri  \\\n",
       "0   1JgknGBbrfmEHeOZH051SS  spotify:track:1JgknGBbrfmEHeOZH051SS   \n",
       "1   424DkevE18QJazwlljiTD4  spotify:track:424DkevE18QJazwlljiTD4   \n",
       "2   4Fv6wNYUixnYkj3Dgfrls8  spotify:track:4Fv6wNYUixnYkj3Dgfrls8   \n",
       "3   43MifzVnh8W3jJN0xqU9jR  spotify:track:43MifzVnh8W3jJN0xqU9jR   \n",
       "4   0HDO6JFfplYPrSWuufUosZ  spotify:track:0HDO6JFfplYPrSWuufUosZ   \n",
       "..                     ...                                   ...   \n",
       "91  3TVgmfAbNVi1msAuUSI1Ht  spotify:track:3TVgmfAbNVi1msAuUSI1Ht   \n",
       "93  4atLPkcljMp14JBaigYFKC  spotify:track:4atLPkcljMp14JBaigYFKC   \n",
       "94  17OqI90oTFZ3J8PVu6j07V  spotify:track:17OqI90oTFZ3J8PVu6j07V   \n",
       "95  1QvvLc5UihfQ2nOxzhjuek  spotify:track:1QvvLc5UihfQ2nOxzhjuek   \n",
       "98  7kOletJ0Q5H4MWe7cfeZXP  spotify:track:7kOletJ0Q5H4MWe7cfeZXP   \n",
       "\n",
       "                                           track_href  \\\n",
       "0   https://api.spotify.com/v1/tracks/1JgknGBbrfmE...   \n",
       "1   https://api.spotify.com/v1/tracks/424DkevE18QJ...   \n",
       "2   https://api.spotify.com/v1/tracks/4Fv6wNYUixnY...   \n",
       "3   https://api.spotify.com/v1/tracks/43MifzVnh8W3...   \n",
       "4   https://api.spotify.com/v1/tracks/0HDO6JFfplYP...   \n",
       "..                                                ...   \n",
       "91  https://api.spotify.com/v1/tracks/3TVgmfAbNVi1...   \n",
       "93  https://api.spotify.com/v1/tracks/4atLPkcljMp1...   \n",
       "94  https://api.spotify.com/v1/tracks/17OqI90oTFZ3...   \n",
       "95  https://api.spotify.com/v1/tracks/1QvvLc5UihfQ...   \n",
       "98  https://api.spotify.com/v1/tracks/7kOletJ0Q5H4...   \n",
       "\n",
       "                                         analysis_url  duration_ms  \\\n",
       "0   https://api.spotify.com/v1/audio-analysis/1Jgk...       119120   \n",
       "1   https://api.spotify.com/v1/audio-analysis/424D...       134853   \n",
       "2   https://api.spotify.com/v1/audio-analysis/4Fv6...       255680   \n",
       "3   https://api.spotify.com/v1/audio-analysis/43Mi...       130385   \n",
       "4   https://api.spotify.com/v1/audio-analysis/0HDO...       227027   \n",
       "..                                                ...          ...   \n",
       "91  https://api.spotify.com/v1/audio-analysis/3TVg...       202924   \n",
       "93  https://api.spotify.com/v1/audio-analysis/4atL...       236157   \n",
       "94  https://api.spotify.com/v1/audio-analysis/17Oq...       309173   \n",
       "95  https://api.spotify.com/v1/audio-analysis/1Qvv...       247875   \n",
       "98  https://api.spotify.com/v1/audio-analysis/7kOl...       185113   \n",
       "\n",
       "    time_signature  \n",
       "0                4  \n",
       "1                3  \n",
       "2                4  \n",
       "3                4  \n",
       "4                4  \n",
       "..             ...  \n",
       "91               4  \n",
       "93               4  \n",
       "94               4  \n",
       "95               4  \n",
       "98               4  \n",
       "\n",
       "[522 rows x 28 columns]"
      ]
     },
     "execution_count": 41,
     "metadata": {},
     "output_type": "execute_result"
    }
   ],
   "source": [
    "df11"
   ]
  },
  {
   "cell_type": "code",
   "execution_count": 56,
   "id": "576a7218",
   "metadata": {},
   "outputs": [],
   "source": [
    "df11.to_csv(\"TOPSONGS500.csv\", index = False)"
   ]
  },
  {
   "cell_type": "markdown",
   "id": "0a9b3ebe",
   "metadata": {},
   "source": [
    "## NOT HITS"
   ]
  },
  {
   "cell_type": "code",
   "execution_count": 44,
   "id": "e0bc3460",
   "metadata": {},
   "outputs": [
    {
     "name": "stdout",
     "output_type": "stream",
     "text": [
      "TRACK 1  in  spotify:track:0KmgJyW4GDgonqsoyx0CZ3  COMPLETED\n"
     ]
    },
    {
     "name": "stderr",
     "output_type": "stream",
     "text": [
      "C:\\Users\\Uma Bala\\AppData\\Local\\Temp\\ipykernel_23008\\1248639595.py:50: FutureWarning: The frame.append method is deprecated and will be removed from pandas in a future version. Use pandas.concat instead.\n",
      "  df2 = df2.append(data, ignore_index=True)\n"
     ]
    },
    {
     "name": "stdout",
     "output_type": "stream",
     "text": [
      "TRACK 2  in  spotify:track:3m3ylOXgB3v9xmDSIJyx9S  COMPLETED\n"
     ]
    },
    {
     "name": "stderr",
     "output_type": "stream",
     "text": [
      "C:\\Users\\Uma Bala\\AppData\\Local\\Temp\\ipykernel_23008\\1248639595.py:50: FutureWarning: The frame.append method is deprecated and will be removed from pandas in a future version. Use pandas.concat instead.\n",
      "  df2 = df2.append(data, ignore_index=True)\n"
     ]
    },
    {
     "name": "stdout",
     "output_type": "stream",
     "text": [
      "TRACK 3  in  spotify:track:2lTtnKQgjbrBA1qnOFhBkP  COMPLETED\n"
     ]
    },
    {
     "name": "stderr",
     "output_type": "stream",
     "text": [
      "C:\\Users\\Uma Bala\\AppData\\Local\\Temp\\ipykernel_23008\\1248639595.py:50: FutureWarning: The frame.append method is deprecated and will be removed from pandas in a future version. Use pandas.concat instead.\n",
      "  df2 = df2.append(data, ignore_index=True)\n"
     ]
    },
    {
     "name": "stdout",
     "output_type": "stream",
     "text": [
      "TRACK 4  in  spotify:track:7DCQIOmpGV4nkHx7DQckJS  COMPLETED\n"
     ]
    },
    {
     "name": "stderr",
     "output_type": "stream",
     "text": [
      "C:\\Users\\Uma Bala\\AppData\\Local\\Temp\\ipykernel_23008\\1248639595.py:50: FutureWarning: The frame.append method is deprecated and will be removed from pandas in a future version. Use pandas.concat instead.\n",
      "  df2 = df2.append(data, ignore_index=True)\n"
     ]
    },
    {
     "name": "stdout",
     "output_type": "stream",
     "text": [
      "TRACK 5  in  spotify:track:6uaBrivDHCaV0uBTiwHTUi  COMPLETED\n"
     ]
    },
    {
     "name": "stderr",
     "output_type": "stream",
     "text": [
      "C:\\Users\\Uma Bala\\AppData\\Local\\Temp\\ipykernel_23008\\1248639595.py:50: FutureWarning: The frame.append method is deprecated and will be removed from pandas in a future version. Use pandas.concat instead.\n",
      "  df2 = df2.append(data, ignore_index=True)\n"
     ]
    },
    {
     "name": "stdout",
     "output_type": "stream",
     "text": [
      "TRACK 6  in  spotify:track:2g0Bmi3kYEntusDP6xlAGZ  COMPLETED\n"
     ]
    },
    {
     "name": "stderr",
     "output_type": "stream",
     "text": [
      "C:\\Users\\Uma Bala\\AppData\\Local\\Temp\\ipykernel_23008\\1248639595.py:50: FutureWarning: The frame.append method is deprecated and will be removed from pandas in a future version. Use pandas.concat instead.\n",
      "  df2 = df2.append(data, ignore_index=True)\n",
      "C:\\Users\\Uma Bala\\AppData\\Local\\Temp\\ipykernel_23008\\1248639595.py:50: FutureWarning: The frame.append method is deprecated and will be removed from pandas in a future version. Use pandas.concat instead.\n",
      "  df2 = df2.append(data, ignore_index=True)\n"
     ]
    },
    {
     "name": "stdout",
     "output_type": "stream",
     "text": [
      "TRACK 7  in  spotify:track:7rymj8PopRWOI2kBdjPG9q  COMPLETED\n",
      "TRACK 8  in  spotify:track:2wXioTynVwrEWYRv6R6vEj  COMPLETED\n"
     ]
    },
    {
     "name": "stderr",
     "output_type": "stream",
     "text": [
      "C:\\Users\\Uma Bala\\AppData\\Local\\Temp\\ipykernel_23008\\1248639595.py:50: FutureWarning: The frame.append method is deprecated and will be removed from pandas in a future version. Use pandas.concat instead.\n",
      "  df2 = df2.append(data, ignore_index=True)\n",
      "C:\\Users\\Uma Bala\\AppData\\Local\\Temp\\ipykernel_23008\\1248639595.py:50: FutureWarning: The frame.append method is deprecated and will be removed from pandas in a future version. Use pandas.concat instead.\n",
      "  df2 = df2.append(data, ignore_index=True)\n"
     ]
    },
    {
     "name": "stdout",
     "output_type": "stream",
     "text": [
      "TRACK 9  in  spotify:track:0NuWgxEp51CutD2pJoF4OM  COMPLETED\n",
      "TRACK 10  in  spotify:track:5tiZBnx5IvETA0Pj3gELjn  COMPLETED\n"
     ]
    },
    {
     "name": "stderr",
     "output_type": "stream",
     "text": [
      "C:\\Users\\Uma Bala\\AppData\\Local\\Temp\\ipykernel_23008\\1248639595.py:50: FutureWarning: The frame.append method is deprecated and will be removed from pandas in a future version. Use pandas.concat instead.\n",
      "  df2 = df2.append(data, ignore_index=True)\n"
     ]
    },
    {
     "name": "stdout",
     "output_type": "stream",
     "text": [
      "TRACK 11  in  spotify:track:4telT9zZWgv4d8gD4WZrlA  COMPLETED\n"
     ]
    },
    {
     "name": "stderr",
     "output_type": "stream",
     "text": [
      "C:\\Users\\Uma Bala\\AppData\\Local\\Temp\\ipykernel_23008\\1248639595.py:50: FutureWarning: The frame.append method is deprecated and will be removed from pandas in a future version. Use pandas.concat instead.\n",
      "  df2 = df2.append(data, ignore_index=True)\n"
     ]
    },
    {
     "name": "stdout",
     "output_type": "stream",
     "text": [
      "TRACK 12  in  spotify:track:4oM9DGUTrRaXJDypxxHztZ  COMPLETED\n"
     ]
    },
    {
     "name": "stderr",
     "output_type": "stream",
     "text": [
      "C:\\Users\\Uma Bala\\AppData\\Local\\Temp\\ipykernel_23008\\1248639595.py:50: FutureWarning: The frame.append method is deprecated and will be removed from pandas in a future version. Use pandas.concat instead.\n",
      "  df2 = df2.append(data, ignore_index=True)\n"
     ]
    },
    {
     "name": "stdout",
     "output_type": "stream",
     "text": [
      "TRACK 13  in  spotify:track:5SG2BVsZr0W7cFAkjh60TT  COMPLETED\n"
     ]
    },
    {
     "name": "stderr",
     "output_type": "stream",
     "text": [
      "C:\\Users\\Uma Bala\\AppData\\Local\\Temp\\ipykernel_23008\\1248639595.py:50: FutureWarning: The frame.append method is deprecated and will be removed from pandas in a future version. Use pandas.concat instead.\n",
      "  df2 = df2.append(data, ignore_index=True)\n"
     ]
    },
    {
     "name": "stdout",
     "output_type": "stream",
     "text": [
      "TRACK 14  in  spotify:track:6iOvnACn4ChlAw4lWUU4dd  COMPLETED\n"
     ]
    },
    {
     "name": "stderr",
     "output_type": "stream",
     "text": [
      "C:\\Users\\Uma Bala\\AppData\\Local\\Temp\\ipykernel_23008\\1248639595.py:50: FutureWarning: The frame.append method is deprecated and will be removed from pandas in a future version. Use pandas.concat instead.\n",
      "  df2 = df2.append(data, ignore_index=True)\n"
     ]
    },
    {
     "name": "stdout",
     "output_type": "stream",
     "text": [
      "TRACK 15  in  spotify:track:5RoIXwyTCdyUjpMMkk4uPd  COMPLETED\n"
     ]
    },
    {
     "name": "stderr",
     "output_type": "stream",
     "text": [
      "C:\\Users\\Uma Bala\\AppData\\Local\\Temp\\ipykernel_23008\\1248639595.py:50: FutureWarning: The frame.append method is deprecated and will be removed from pandas in a future version. Use pandas.concat instead.\n",
      "  df2 = df2.append(data, ignore_index=True)\n"
     ]
    },
    {
     "name": "stdout",
     "output_type": "stream",
     "text": [
      "TRACK 16  in  spotify:track:4S4Mfvv03M1cHgIOJcbUCL  COMPLETED\n"
     ]
    },
    {
     "name": "stderr",
     "output_type": "stream",
     "text": [
      "C:\\Users\\Uma Bala\\AppData\\Local\\Temp\\ipykernel_23008\\1248639595.py:50: FutureWarning: The frame.append method is deprecated and will be removed from pandas in a future version. Use pandas.concat instead.\n",
      "  df2 = df2.append(data, ignore_index=True)\n"
     ]
    },
    {
     "name": "stdout",
     "output_type": "stream",
     "text": [
      "TRACK 17  in  spotify:track:2fGRJzoiYJYAzlQAyBONMb  COMPLETED\n"
     ]
    },
    {
     "name": "stderr",
     "output_type": "stream",
     "text": [
      "C:\\Users\\Uma Bala\\AppData\\Local\\Temp\\ipykernel_23008\\1248639595.py:50: FutureWarning: The frame.append method is deprecated and will be removed from pandas in a future version. Use pandas.concat instead.\n",
      "  df2 = df2.append(data, ignore_index=True)\n"
     ]
    },
    {
     "name": "stdout",
     "output_type": "stream",
     "text": [
      "TRACK 18  in  spotify:track:5FdE9hALukJ6ivdFXbCGEj  COMPLETED\n"
     ]
    },
    {
     "name": "stderr",
     "output_type": "stream",
     "text": [
      "C:\\Users\\Uma Bala\\AppData\\Local\\Temp\\ipykernel_23008\\1248639595.py:50: FutureWarning: The frame.append method is deprecated and will be removed from pandas in a future version. Use pandas.concat instead.\n",
      "  df2 = df2.append(data, ignore_index=True)\n"
     ]
    },
    {
     "name": "stdout",
     "output_type": "stream",
     "text": [
      "TRACK 19  in  spotify:track:35Ki1lvKPC2sFBD3GmKdRG  COMPLETED\n"
     ]
    },
    {
     "name": "stderr",
     "output_type": "stream",
     "text": [
      "C:\\Users\\Uma Bala\\AppData\\Local\\Temp\\ipykernel_23008\\1248639595.py:50: FutureWarning: The frame.append method is deprecated and will be removed from pandas in a future version. Use pandas.concat instead.\n",
      "  df2 = df2.append(data, ignore_index=True)\n",
      "C:\\Users\\Uma Bala\\AppData\\Local\\Temp\\ipykernel_23008\\1248639595.py:50: FutureWarning: The frame.append method is deprecated and will be removed from pandas in a future version. Use pandas.concat instead.\n",
      "  df2 = df2.append(data, ignore_index=True)\n"
     ]
    },
    {
     "name": "stdout",
     "output_type": "stream",
     "text": [
      "TRACK 20  in  spotify:track:1iJsVkrrId99kTJSZBrwHJ  COMPLETED\n",
      "TRACK 21  in  spotify:track:0nMqu5vN44GNv8UOQxmBJK  COMPLETED\n"
     ]
    },
    {
     "name": "stderr",
     "output_type": "stream",
     "text": [
      "C:\\Users\\Uma Bala\\AppData\\Local\\Temp\\ipykernel_23008\\1248639595.py:50: FutureWarning: The frame.append method is deprecated and will be removed from pandas in a future version. Use pandas.concat instead.\n",
      "  df2 = df2.append(data, ignore_index=True)\n"
     ]
    },
    {
     "name": "stdout",
     "output_type": "stream",
     "text": [
      "TRACK 22  in  spotify:track:5naar7XewEOAjOywIp6Jjq  COMPLETED\n"
     ]
    },
    {
     "name": "stderr",
     "output_type": "stream",
     "text": [
      "C:\\Users\\Uma Bala\\AppData\\Local\\Temp\\ipykernel_23008\\1248639595.py:50: FutureWarning: The frame.append method is deprecated and will be removed from pandas in a future version. Use pandas.concat instead.\n",
      "  df2 = df2.append(data, ignore_index=True)\n"
     ]
    },
    {
     "name": "stdout",
     "output_type": "stream",
     "text": [
      "TRACK 23  in  spotify:track:0X5mtNbqxbiTYkwj0CQc2f  COMPLETED\n"
     ]
    },
    {
     "name": "stderr",
     "output_type": "stream",
     "text": [
      "C:\\Users\\Uma Bala\\AppData\\Local\\Temp\\ipykernel_23008\\1248639595.py:50: FutureWarning: The frame.append method is deprecated and will be removed from pandas in a future version. Use pandas.concat instead.\n",
      "  df2 = df2.append(data, ignore_index=True)\n"
     ]
    },
    {
     "name": "stdout",
     "output_type": "stream",
     "text": [
      "TRACK 24  in  spotify:track:2Kt1XplPBQBsDKQDa6TssB  COMPLETED\n"
     ]
    },
    {
     "name": "stderr",
     "output_type": "stream",
     "text": [
      "C:\\Users\\Uma Bala\\AppData\\Local\\Temp\\ipykernel_23008\\1248639595.py:50: FutureWarning: The frame.append method is deprecated and will be removed from pandas in a future version. Use pandas.concat instead.\n",
      "  df2 = df2.append(data, ignore_index=True)\n"
     ]
    },
    {
     "name": "stdout",
     "output_type": "stream",
     "text": [
      "TRACK 25  in  spotify:track:6isQbogGYftxsNzL2I2I1i  COMPLETED\n"
     ]
    },
    {
     "name": "stderr",
     "output_type": "stream",
     "text": [
      "C:\\Users\\Uma Bala\\AppData\\Local\\Temp\\ipykernel_23008\\1248639595.py:50: FutureWarning: The frame.append method is deprecated and will be removed from pandas in a future version. Use pandas.concat instead.\n",
      "  df2 = df2.append(data, ignore_index=True)\n"
     ]
    },
    {
     "name": "stdout",
     "output_type": "stream",
     "text": [
      "TRACK 26  in  spotify:track:7brQHA2CgQpcMBiOlfiXYb  COMPLETED\n"
     ]
    },
    {
     "name": "stderr",
     "output_type": "stream",
     "text": [
      "C:\\Users\\Uma Bala\\AppData\\Local\\Temp\\ipykernel_23008\\1248639595.py:50: FutureWarning: The frame.append method is deprecated and will be removed from pandas in a future version. Use pandas.concat instead.\n",
      "  df2 = df2.append(data, ignore_index=True)\n"
     ]
    },
    {
     "name": "stdout",
     "output_type": "stream",
     "text": [
      "TRACK 27  in  spotify:track:5hc71nKsUgtwQ3z52KEKQk  COMPLETED\n"
     ]
    },
    {
     "name": "stderr",
     "output_type": "stream",
     "text": [
      "C:\\Users\\Uma Bala\\AppData\\Local\\Temp\\ipykernel_23008\\1248639595.py:50: FutureWarning: The frame.append method is deprecated and will be removed from pandas in a future version. Use pandas.concat instead.\n",
      "  df2 = df2.append(data, ignore_index=True)\n"
     ]
    },
    {
     "name": "stdout",
     "output_type": "stream",
     "text": [
      "TRACK 28  in  spotify:track:3ySU5vwQB33iGulwcUL9qQ  COMPLETED\n"
     ]
    },
    {
     "name": "stderr",
     "output_type": "stream",
     "text": [
      "C:\\Users\\Uma Bala\\AppData\\Local\\Temp\\ipykernel_23008\\1248639595.py:50: FutureWarning: The frame.append method is deprecated and will be removed from pandas in a future version. Use pandas.concat instead.\n",
      "  df2 = df2.append(data, ignore_index=True)\n"
     ]
    },
    {
     "name": "stdout",
     "output_type": "stream",
     "text": [
      "TRACK 29  in  spotify:track:5bIgzvxvlefRUCQK9JPocF  COMPLETED\n"
     ]
    },
    {
     "name": "stderr",
     "output_type": "stream",
     "text": [
      "C:\\Users\\Uma Bala\\AppData\\Local\\Temp\\ipykernel_23008\\1248639595.py:50: FutureWarning: The frame.append method is deprecated and will be removed from pandas in a future version. Use pandas.concat instead.\n",
      "  df2 = df2.append(data, ignore_index=True)\n"
     ]
    },
    {
     "name": "stdout",
     "output_type": "stream",
     "text": [
      "TRACK 30  in  spotify:track:46RNrAkGsqWTDrv2ZPOAbx  COMPLETED\n"
     ]
    },
    {
     "name": "stderr",
     "output_type": "stream",
     "text": [
      "C:\\Users\\Uma Bala\\AppData\\Local\\Temp\\ipykernel_23008\\1248639595.py:50: FutureWarning: The frame.append method is deprecated and will be removed from pandas in a future version. Use pandas.concat instead.\n",
      "  df2 = df2.append(data, ignore_index=True)\n"
     ]
    },
    {
     "name": "stdout",
     "output_type": "stream",
     "text": [
      "TRACK 31  in  spotify:track:6vOcpn5zG3tAgSs5TCYR1o  COMPLETED\n"
     ]
    },
    {
     "name": "stderr",
     "output_type": "stream",
     "text": [
      "C:\\Users\\Uma Bala\\AppData\\Local\\Temp\\ipykernel_23008\\1248639595.py:50: FutureWarning: The frame.append method is deprecated and will be removed from pandas in a future version. Use pandas.concat instead.\n",
      "  df2 = df2.append(data, ignore_index=True)\n"
     ]
    },
    {
     "name": "stdout",
     "output_type": "stream",
     "text": [
      "TRACK 32  in  spotify:track:4s0UxMiB8uYcKg4uAxCgn8  COMPLETED\n"
     ]
    },
    {
     "name": "stderr",
     "output_type": "stream",
     "text": [
      "C:\\Users\\Uma Bala\\AppData\\Local\\Temp\\ipykernel_23008\\1248639595.py:50: FutureWarning: The frame.append method is deprecated and will be removed from pandas in a future version. Use pandas.concat instead.\n",
      "  df2 = df2.append(data, ignore_index=True)\n"
     ]
    },
    {
     "name": "stdout",
     "output_type": "stream",
     "text": [
      "TRACK 33  in  spotify:track:4SKvKJaqkRl1bUZWEqTYzl  COMPLETED\n"
     ]
    },
    {
     "name": "stderr",
     "output_type": "stream",
     "text": [
      "C:\\Users\\Uma Bala\\AppData\\Local\\Temp\\ipykernel_23008\\1248639595.py:50: FutureWarning: The frame.append method is deprecated and will be removed from pandas in a future version. Use pandas.concat instead.\n",
      "  df2 = df2.append(data, ignore_index=True)\n"
     ]
    },
    {
     "name": "stdout",
     "output_type": "stream",
     "text": [
      "TRACK 34  in  spotify:track:2zGUtylU2UYeg1oDfRJC36  COMPLETED\n"
     ]
    },
    {
     "name": "stderr",
     "output_type": "stream",
     "text": [
      "C:\\Users\\Uma Bala\\AppData\\Local\\Temp\\ipykernel_23008\\1248639595.py:50: FutureWarning: The frame.append method is deprecated and will be removed from pandas in a future version. Use pandas.concat instead.\n",
      "  df2 = df2.append(data, ignore_index=True)\n"
     ]
    },
    {
     "name": "stdout",
     "output_type": "stream",
     "text": [
      "TRACK 35  in  spotify:track:6f2877TmbjnqZEqeQEGi3o  COMPLETED\n"
     ]
    },
    {
     "name": "stderr",
     "output_type": "stream",
     "text": [
      "C:\\Users\\Uma Bala\\AppData\\Local\\Temp\\ipykernel_23008\\1248639595.py:50: FutureWarning: The frame.append method is deprecated and will be removed from pandas in a future version. Use pandas.concat instead.\n",
      "  df2 = df2.append(data, ignore_index=True)\n"
     ]
    },
    {
     "name": "stdout",
     "output_type": "stream",
     "text": [
      "TRACK 36  in  spotify:track:4sympnfIMkBt51KwRYaNSF  COMPLETED\n"
     ]
    },
    {
     "name": "stderr",
     "output_type": "stream",
     "text": [
      "C:\\Users\\Uma Bala\\AppData\\Local\\Temp\\ipykernel_23008\\1248639595.py:50: FutureWarning: The frame.append method is deprecated and will be removed from pandas in a future version. Use pandas.concat instead.\n",
      "  df2 = df2.append(data, ignore_index=True)\n",
      "C:\\Users\\Uma Bala\\AppData\\Local\\Temp\\ipykernel_23008\\1248639595.py:50: FutureWarning: The frame.append method is deprecated and will be removed from pandas in a future version. Use pandas.concat instead.\n",
      "  df2 = df2.append(data, ignore_index=True)\n"
     ]
    },
    {
     "name": "stdout",
     "output_type": "stream",
     "text": [
      "TRACK 37  in  spotify:track:5Wyy2JHaM8cKEN6YDC6C8O  COMPLETED\n",
      "TRACK 38  in  spotify:track:45mvVEa99kOMcjHJpCykrw  COMPLETED\n"
     ]
    },
    {
     "name": "stderr",
     "output_type": "stream",
     "text": [
      "C:\\Users\\Uma Bala\\AppData\\Local\\Temp\\ipykernel_23008\\1248639595.py:50: FutureWarning: The frame.append method is deprecated and will be removed from pandas in a future version. Use pandas.concat instead.\n",
      "  df2 = df2.append(data, ignore_index=True)\n",
      "C:\\Users\\Uma Bala\\AppData\\Local\\Temp\\ipykernel_23008\\1248639595.py:50: FutureWarning: The frame.append method is deprecated and will be removed from pandas in a future version. Use pandas.concat instead.\n",
      "  df2 = df2.append(data, ignore_index=True)\n"
     ]
    },
    {
     "name": "stdout",
     "output_type": "stream",
     "text": [
      "TRACK 39  in  spotify:track:4R9F0DQTZ1l9m9ngGnJ99D  COMPLETED\n",
      "TRACK 40  in  spotify:track:3WKg25vrbjJlkhsgl2W4p3  COMPLETED\n"
     ]
    },
    {
     "name": "stderr",
     "output_type": "stream",
     "text": [
      "C:\\Users\\Uma Bala\\AppData\\Local\\Temp\\ipykernel_23008\\1248639595.py:50: FutureWarning: The frame.append method is deprecated and will be removed from pandas in a future version. Use pandas.concat instead.\n",
      "  df2 = df2.append(data, ignore_index=True)\n",
      "C:\\Users\\Uma Bala\\AppData\\Local\\Temp\\ipykernel_23008\\1248639595.py:50: FutureWarning: The frame.append method is deprecated and will be removed from pandas in a future version. Use pandas.concat instead.\n",
      "  df2 = df2.append(data, ignore_index=True)\n"
     ]
    },
    {
     "name": "stdout",
     "output_type": "stream",
     "text": [
      "TRACK 41  in  spotify:track:0QM58PErTrawKGBvzCMGuO  COMPLETED\n",
      "TRACK 42  in  spotify:track:5vmDYlErMJRPmi3CU16qss  COMPLETED\n"
     ]
    },
    {
     "name": "stderr",
     "output_type": "stream",
     "text": [
      "C:\\Users\\Uma Bala\\AppData\\Local\\Temp\\ipykernel_23008\\1248639595.py:50: FutureWarning: The frame.append method is deprecated and will be removed from pandas in a future version. Use pandas.concat instead.\n",
      "  df2 = df2.append(data, ignore_index=True)\n"
     ]
    },
    {
     "name": "stdout",
     "output_type": "stream",
     "text": [
      "TRACK 43  in  spotify:track:283bLgMpWuBQzhGnfvBtGS  COMPLETED\n"
     ]
    },
    {
     "name": "stderr",
     "output_type": "stream",
     "text": [
      "C:\\Users\\Uma Bala\\AppData\\Local\\Temp\\ipykernel_23008\\1248639595.py:50: FutureWarning: The frame.append method is deprecated and will be removed from pandas in a future version. Use pandas.concat instead.\n",
      "  df2 = df2.append(data, ignore_index=True)\n"
     ]
    },
    {
     "name": "stdout",
     "output_type": "stream",
     "text": [
      "TRACK 44  in  spotify:track:3erMpGAv6cGCEcYcaE19p1  COMPLETED\n"
     ]
    },
    {
     "name": "stderr",
     "output_type": "stream",
     "text": [
      "C:\\Users\\Uma Bala\\AppData\\Local\\Temp\\ipykernel_23008\\1248639595.py:50: FutureWarning: The frame.append method is deprecated and will be removed from pandas in a future version. Use pandas.concat instead.\n",
      "  df2 = df2.append(data, ignore_index=True)\n"
     ]
    },
    {
     "name": "stdout",
     "output_type": "stream",
     "text": [
      "TRACK 45  in  spotify:track:2xFmXeAKtzrG1ZQBT6adKc  COMPLETED\n"
     ]
    },
    {
     "name": "stderr",
     "output_type": "stream",
     "text": [
      "C:\\Users\\Uma Bala\\AppData\\Local\\Temp\\ipykernel_23008\\1248639595.py:50: FutureWarning: The frame.append method is deprecated and will be removed from pandas in a future version. Use pandas.concat instead.\n",
      "  df2 = df2.append(data, ignore_index=True)\n"
     ]
    },
    {
     "name": "stdout",
     "output_type": "stream",
     "text": [
      "TRACK 46  in  spotify:track:0XxSPIFH8xLkJcrpWe26EO  COMPLETED\n"
     ]
    },
    {
     "name": "stderr",
     "output_type": "stream",
     "text": [
      "C:\\Users\\Uma Bala\\AppData\\Local\\Temp\\ipykernel_23008\\1248639595.py:50: FutureWarning: The frame.append method is deprecated and will be removed from pandas in a future version. Use pandas.concat instead.\n",
      "  df2 = df2.append(data, ignore_index=True)\n"
     ]
    },
    {
     "name": "stdout",
     "output_type": "stream",
     "text": [
      "TRACK 47  in  spotify:track:0PLhwCmQ7cC3ThRGPn3HxF  COMPLETED\n"
     ]
    },
    {
     "name": "stderr",
     "output_type": "stream",
     "text": [
      "C:\\Users\\Uma Bala\\AppData\\Local\\Temp\\ipykernel_23008\\1248639595.py:50: FutureWarning: The frame.append method is deprecated and will be removed from pandas in a future version. Use pandas.concat instead.\n",
      "  df2 = df2.append(data, ignore_index=True)\n"
     ]
    },
    {
     "name": "stdout",
     "output_type": "stream",
     "text": [
      "TRACK 48  in  spotify:track:74f0dpqHhTeTJzs4pmZ1yq  COMPLETED\n"
     ]
    },
    {
     "name": "stderr",
     "output_type": "stream",
     "text": [
      "C:\\Users\\Uma Bala\\AppData\\Local\\Temp\\ipykernel_23008\\1248639595.py:50: FutureWarning: The frame.append method is deprecated and will be removed from pandas in a future version. Use pandas.concat instead.\n",
      "  df2 = df2.append(data, ignore_index=True)\n"
     ]
    },
    {
     "name": "stdout",
     "output_type": "stream",
     "text": [
      "TRACK 49  in  spotify:track:0O3TAouZE4vL9dM5SyxgvH  COMPLETED\n"
     ]
    },
    {
     "name": "stderr",
     "output_type": "stream",
     "text": [
      "C:\\Users\\Uma Bala\\AppData\\Local\\Temp\\ipykernel_23008\\1248639595.py:50: FutureWarning: The frame.append method is deprecated and will be removed from pandas in a future version. Use pandas.concat instead.\n",
      "  df2 = df2.append(data, ignore_index=True)\n"
     ]
    },
    {
     "name": "stdout",
     "output_type": "stream",
     "text": [
      "TRACK 50  in  spotify:track:5yvhdo8FXbBsIllxv2Rr94  COMPLETED\n"
     ]
    },
    {
     "name": "stderr",
     "output_type": "stream",
     "text": [
      "C:\\Users\\Uma Bala\\AppData\\Local\\Temp\\ipykernel_23008\\1248639595.py:50: FutureWarning: The frame.append method is deprecated and will be removed from pandas in a future version. Use pandas.concat instead.\n",
      "  df2 = df2.append(data, ignore_index=True)\n"
     ]
    },
    {
     "name": "stdout",
     "output_type": "stream",
     "text": [
      "TRACK 51  in  spotify:track:7iPlcFvOMOzt6v0QvcAueZ  COMPLETED\n"
     ]
    },
    {
     "name": "stderr",
     "output_type": "stream",
     "text": [
      "C:\\Users\\Uma Bala\\AppData\\Local\\Temp\\ipykernel_23008\\1248639595.py:50: FutureWarning: The frame.append method is deprecated and will be removed from pandas in a future version. Use pandas.concat instead.\n",
      "  df2 = df2.append(data, ignore_index=True)\n",
      "C:\\Users\\Uma Bala\\AppData\\Local\\Temp\\ipykernel_23008\\1248639595.py:50: FutureWarning: The frame.append method is deprecated and will be removed from pandas in a future version. Use pandas.concat instead.\n",
      "  df2 = df2.append(data, ignore_index=True)\n"
     ]
    },
    {
     "name": "stdout",
     "output_type": "stream",
     "text": [
      "TRACK 52  in  spotify:track:3xQ7tHivJMHSvJfUeNvyc7  COMPLETED\n",
      "TRACK 53  in  spotify:track:1SA1Lt8jTM4ab9aTOqPWHy  COMPLETED\n"
     ]
    },
    {
     "name": "stderr",
     "output_type": "stream",
     "text": [
      "C:\\Users\\Uma Bala\\AppData\\Local\\Temp\\ipykernel_23008\\1248639595.py:50: FutureWarning: The frame.append method is deprecated and will be removed from pandas in a future version. Use pandas.concat instead.\n",
      "  df2 = df2.append(data, ignore_index=True)\n"
     ]
    },
    {
     "name": "stdout",
     "output_type": "stream",
     "text": [
      "TRACK 54  in  spotify:track:6LPi5m37Sv2N7N3ZdzH51T  COMPLETED\n"
     ]
    },
    {
     "name": "stderr",
     "output_type": "stream",
     "text": [
      "C:\\Users\\Uma Bala\\AppData\\Local\\Temp\\ipykernel_23008\\1248639595.py:50: FutureWarning: The frame.append method is deprecated and will be removed from pandas in a future version. Use pandas.concat instead.\n",
      "  df2 = df2.append(data, ignore_index=True)\n"
     ]
    },
    {
     "name": "stdout",
     "output_type": "stream",
     "text": [
      "TRACK 55  in  spotify:track:2Z2MAil7tpZhHOB2noIJUd  COMPLETED\n"
     ]
    },
    {
     "name": "stderr",
     "output_type": "stream",
     "text": [
      "C:\\Users\\Uma Bala\\AppData\\Local\\Temp\\ipykernel_23008\\1248639595.py:50: FutureWarning: The frame.append method is deprecated and will be removed from pandas in a future version. Use pandas.concat instead.\n",
      "  df2 = df2.append(data, ignore_index=True)\n"
     ]
    },
    {
     "name": "stdout",
     "output_type": "stream",
     "text": [
      "TRACK 56  in  spotify:track:14X6DBq7q2hJSCZwt4ddvY  COMPLETED\n"
     ]
    },
    {
     "name": "stderr",
     "output_type": "stream",
     "text": [
      "C:\\Users\\Uma Bala\\AppData\\Local\\Temp\\ipykernel_23008\\1248639595.py:50: FutureWarning: The frame.append method is deprecated and will be removed from pandas in a future version. Use pandas.concat instead.\n",
      "  df2 = df2.append(data, ignore_index=True)\n"
     ]
    },
    {
     "name": "stdout",
     "output_type": "stream",
     "text": [
      "TRACK 57  in  spotify:track:0f7T8FO4ZM9XHpmncSUWND  COMPLETED\n"
     ]
    },
    {
     "name": "stderr",
     "output_type": "stream",
     "text": [
      "C:\\Users\\Uma Bala\\AppData\\Local\\Temp\\ipykernel_23008\\1248639595.py:50: FutureWarning: The frame.append method is deprecated and will be removed from pandas in a future version. Use pandas.concat instead.\n",
      "  df2 = df2.append(data, ignore_index=True)\n"
     ]
    },
    {
     "name": "stdout",
     "output_type": "stream",
     "text": [
      "TRACK 1  in  spotify:track:5Zq85MoLZHIKdJVS3xSqkb  COMPLETED\n"
     ]
    },
    {
     "name": "stderr",
     "output_type": "stream",
     "text": [
      "C:\\Users\\Uma Bala\\AppData\\Local\\Temp\\ipykernel_23008\\1248639595.py:50: FutureWarning: The frame.append method is deprecated and will be removed from pandas in a future version. Use pandas.concat instead.\n",
      "  df2 = df2.append(data, ignore_index=True)\n"
     ]
    },
    {
     "name": "stdout",
     "output_type": "stream",
     "text": [
      "TRACK 2  in  spotify:track:71MVjTIeOQzPkEmfgL3uNc  COMPLETED\n"
     ]
    },
    {
     "name": "stderr",
     "output_type": "stream",
     "text": [
      "C:\\Users\\Uma Bala\\AppData\\Local\\Temp\\ipykernel_23008\\1248639595.py:50: FutureWarning: The frame.append method is deprecated and will be removed from pandas in a future version. Use pandas.concat instead.\n",
      "  df2 = df2.append(data, ignore_index=True)\n"
     ]
    },
    {
     "name": "stdout",
     "output_type": "stream",
     "text": [
      "TRACK 3  in  spotify:track:5RmHOLMw4YePkUzSdFLr22  COMPLETED\n"
     ]
    },
    {
     "name": "stderr",
     "output_type": "stream",
     "text": [
      "C:\\Users\\Uma Bala\\AppData\\Local\\Temp\\ipykernel_23008\\1248639595.py:50: FutureWarning: The frame.append method is deprecated and will be removed from pandas in a future version. Use pandas.concat instead.\n",
      "  df2 = df2.append(data, ignore_index=True)\n"
     ]
    },
    {
     "name": "stdout",
     "output_type": "stream",
     "text": [
      "TRACK 4  in  spotify:track:5pP390EcAYj8wYcKl0E36l  COMPLETED\n"
     ]
    },
    {
     "name": "stderr",
     "output_type": "stream",
     "text": [
      "C:\\Users\\Uma Bala\\AppData\\Local\\Temp\\ipykernel_23008\\1248639595.py:50: FutureWarning: The frame.append method is deprecated and will be removed from pandas in a future version. Use pandas.concat instead.\n",
      "  df2 = df2.append(data, ignore_index=True)\n",
      "C:\\Users\\Uma Bala\\AppData\\Local\\Temp\\ipykernel_23008\\1248639595.py:50: FutureWarning: The frame.append method is deprecated and will be removed from pandas in a future version. Use pandas.concat instead.\n",
      "  df2 = df2.append(data, ignore_index=True)\n"
     ]
    },
    {
     "name": "stdout",
     "output_type": "stream",
     "text": [
      "TRACK 5  in  spotify:track:1UzcjG4kSUUvcbyZQjPda4  COMPLETED\n",
      "TRACK 6  in  spotify:track:3Sb3Md9qVCRwu470IZ4XIp  COMPLETED\n"
     ]
    },
    {
     "name": "stderr",
     "output_type": "stream",
     "text": [
      "C:\\Users\\Uma Bala\\AppData\\Local\\Temp\\ipykernel_23008\\1248639595.py:50: FutureWarning: The frame.append method is deprecated and will be removed from pandas in a future version. Use pandas.concat instead.\n",
      "  df2 = df2.append(data, ignore_index=True)\n"
     ]
    },
    {
     "name": "stdout",
     "output_type": "stream",
     "text": [
      "TRACK 7  in  spotify:track:5KfUqRRbm6ACSzLxUS57R2  COMPLETED\n"
     ]
    },
    {
     "name": "stderr",
     "output_type": "stream",
     "text": [
      "C:\\Users\\Uma Bala\\AppData\\Local\\Temp\\ipykernel_23008\\1248639595.py:50: FutureWarning: The frame.append method is deprecated and will be removed from pandas in a future version. Use pandas.concat instead.\n",
      "  df2 = df2.append(data, ignore_index=True)\n"
     ]
    },
    {
     "name": "stdout",
     "output_type": "stream",
     "text": [
      "TRACK 8  in  spotify:track:1g6aK9HzKkbbQ2RpqtUyvL  COMPLETED\n"
     ]
    },
    {
     "name": "stderr",
     "output_type": "stream",
     "text": [
      "C:\\Users\\Uma Bala\\AppData\\Local\\Temp\\ipykernel_23008\\1248639595.py:50: FutureWarning: The frame.append method is deprecated and will be removed from pandas in a future version. Use pandas.concat instead.\n",
      "  df2 = df2.append(data, ignore_index=True)\n",
      "C:\\Users\\Uma Bala\\AppData\\Local\\Temp\\ipykernel_23008\\1248639595.py:50: FutureWarning: The frame.append method is deprecated and will be removed from pandas in a future version. Use pandas.concat instead.\n",
      "  df2 = df2.append(data, ignore_index=True)\n"
     ]
    },
    {
     "name": "stdout",
     "output_type": "stream",
     "text": [
      "TRACK 9  in  spotify:track:44ashym52bERKclJsKt3Db  COMPLETED\n",
      "TRACK 10  in  spotify:track:3M2cpwZfKoyzH7WPHVjGsV  COMPLETED\n"
     ]
    },
    {
     "name": "stderr",
     "output_type": "stream",
     "text": [
      "C:\\Users\\Uma Bala\\AppData\\Local\\Temp\\ipykernel_23008\\1248639595.py:50: FutureWarning: The frame.append method is deprecated and will be removed from pandas in a future version. Use pandas.concat instead.\n",
      "  df2 = df2.append(data, ignore_index=True)\n"
     ]
    },
    {
     "name": "stdout",
     "output_type": "stream",
     "text": [
      "TRACK 11  in  spotify:track:74nvBxTp2gDz3E4sKyTiVl  COMPLETED\n"
     ]
    },
    {
     "name": "stderr",
     "output_type": "stream",
     "text": [
      "C:\\Users\\Uma Bala\\AppData\\Local\\Temp\\ipykernel_23008\\1248639595.py:50: FutureWarning: The frame.append method is deprecated and will be removed from pandas in a future version. Use pandas.concat instead.\n",
      "  df2 = df2.append(data, ignore_index=True)\n"
     ]
    },
    {
     "name": "stdout",
     "output_type": "stream",
     "text": [
      "TRACK 12  in  spotify:track:7Mh8TbrCLjGxkJg5TmlKC3  COMPLETED\n"
     ]
    },
    {
     "name": "stderr",
     "output_type": "stream",
     "text": [
      "C:\\Users\\Uma Bala\\AppData\\Local\\Temp\\ipykernel_23008\\1248639595.py:50: FutureWarning: The frame.append method is deprecated and will be removed from pandas in a future version. Use pandas.concat instead.\n",
      "  df2 = df2.append(data, ignore_index=True)\n"
     ]
    },
    {
     "name": "stdout",
     "output_type": "stream",
     "text": [
      "TRACK 13  in  spotify:track:3L9m0EZ6VHhSN8hHwTiQEX  COMPLETED\n"
     ]
    },
    {
     "name": "stderr",
     "output_type": "stream",
     "text": [
      "C:\\Users\\Uma Bala\\AppData\\Local\\Temp\\ipykernel_23008\\1248639595.py:50: FutureWarning: The frame.append method is deprecated and will be removed from pandas in a future version. Use pandas.concat instead.\n",
      "  df2 = df2.append(data, ignore_index=True)\n"
     ]
    },
    {
     "name": "stdout",
     "output_type": "stream",
     "text": [
      "TRACK 14  in  spotify:track:4QnKrqFiQwzKXOJ5sOk53u  COMPLETED\n"
     ]
    },
    {
     "name": "stderr",
     "output_type": "stream",
     "text": [
      "C:\\Users\\Uma Bala\\AppData\\Local\\Temp\\ipykernel_23008\\1248639595.py:50: FutureWarning: The frame.append method is deprecated and will be removed from pandas in a future version. Use pandas.concat instead.\n",
      "  df2 = df2.append(data, ignore_index=True)\n"
     ]
    },
    {
     "name": "stdout",
     "output_type": "stream",
     "text": [
      "TRACK 15  in  spotify:track:09CdGJQxnnKb0Ww8Jfv7Zg  COMPLETED\n"
     ]
    },
    {
     "name": "stderr",
     "output_type": "stream",
     "text": [
      "C:\\Users\\Uma Bala\\AppData\\Local\\Temp\\ipykernel_23008\\1248639595.py:50: FutureWarning: The frame.append method is deprecated and will be removed from pandas in a future version. Use pandas.concat instead.\n",
      "  df2 = df2.append(data, ignore_index=True)\n"
     ]
    },
    {
     "name": "stdout",
     "output_type": "stream",
     "text": [
      "TRACK 16  in  spotify:track:1cJc5NjX3FVnzTsb2HTFOA  COMPLETED\n"
     ]
    },
    {
     "name": "stderr",
     "output_type": "stream",
     "text": [
      "C:\\Users\\Uma Bala\\AppData\\Local\\Temp\\ipykernel_23008\\1248639595.py:50: FutureWarning: The frame.append method is deprecated and will be removed from pandas in a future version. Use pandas.concat instead.\n",
      "  df2 = df2.append(data, ignore_index=True)\n"
     ]
    },
    {
     "name": "stdout",
     "output_type": "stream",
     "text": [
      "TRACK 17  in  spotify:track:10TOeMHUDPkswPClP45U7z  COMPLETED\n"
     ]
    },
    {
     "name": "stderr",
     "output_type": "stream",
     "text": [
      "C:\\Users\\Uma Bala\\AppData\\Local\\Temp\\ipykernel_23008\\1248639595.py:50: FutureWarning: The frame.append method is deprecated and will be removed from pandas in a future version. Use pandas.concat instead.\n",
      "  df2 = df2.append(data, ignore_index=True)\n"
     ]
    },
    {
     "name": "stdout",
     "output_type": "stream",
     "text": [
      "TRACK 18  in  spotify:track:1eOV6owRPz5ZWBZJp2mjHv  COMPLETED\n"
     ]
    },
    {
     "name": "stderr",
     "output_type": "stream",
     "text": [
      "C:\\Users\\Uma Bala\\AppData\\Local\\Temp\\ipykernel_23008\\1248639595.py:50: FutureWarning: The frame.append method is deprecated and will be removed from pandas in a future version. Use pandas.concat instead.\n",
      "  df2 = df2.append(data, ignore_index=True)\n"
     ]
    },
    {
     "name": "stdout",
     "output_type": "stream",
     "text": [
      "TRACK 19  in  spotify:track:2d3BxptXW0GgU6cGMCcEAd  COMPLETED\n"
     ]
    },
    {
     "name": "stderr",
     "output_type": "stream",
     "text": [
      "C:\\Users\\Uma Bala\\AppData\\Local\\Temp\\ipykernel_23008\\1248639595.py:50: FutureWarning: The frame.append method is deprecated and will be removed from pandas in a future version. Use pandas.concat instead.\n",
      "  df2 = df2.append(data, ignore_index=True)\n"
     ]
    },
    {
     "name": "stdout",
     "output_type": "stream",
     "text": [
      "TRACK 20  in  spotify:track:1xSmjB0t19q4CSJ0X0ymGB  COMPLETED\n"
     ]
    },
    {
     "name": "stderr",
     "output_type": "stream",
     "text": [
      "C:\\Users\\Uma Bala\\AppData\\Local\\Temp\\ipykernel_23008\\1248639595.py:50: FutureWarning: The frame.append method is deprecated and will be removed from pandas in a future version. Use pandas.concat instead.\n",
      "  df2 = df2.append(data, ignore_index=True)\n",
      "C:\\Users\\Uma Bala\\AppData\\Local\\Temp\\ipykernel_23008\\1248639595.py:50: FutureWarning: The frame.append method is deprecated and will be removed from pandas in a future version. Use pandas.concat instead.\n",
      "  df2 = df2.append(data, ignore_index=True)\n"
     ]
    },
    {
     "name": "stdout",
     "output_type": "stream",
     "text": [
      "TRACK 21  in  spotify:track:6fsQuSJ4zcd33n1MBBorxV  COMPLETED\n",
      "TRACK 22  in  spotify:track:5PvgFjmrALevsoP09K9HNW  COMPLETED\n"
     ]
    },
    {
     "name": "stderr",
     "output_type": "stream",
     "text": [
      "C:\\Users\\Uma Bala\\AppData\\Local\\Temp\\ipykernel_23008\\1248639595.py:50: FutureWarning: The frame.append method is deprecated and will be removed from pandas in a future version. Use pandas.concat instead.\n",
      "  df2 = df2.append(data, ignore_index=True)\n"
     ]
    },
    {
     "name": "stdout",
     "output_type": "stream",
     "text": [
      "TRACK 23  in  spotify:track:4m4IJ0GaepAsVNP3qqSVDW  COMPLETED\n"
     ]
    },
    {
     "name": "stderr",
     "output_type": "stream",
     "text": [
      "C:\\Users\\Uma Bala\\AppData\\Local\\Temp\\ipykernel_23008\\1248639595.py:50: FutureWarning: The frame.append method is deprecated and will be removed from pandas in a future version. Use pandas.concat instead.\n",
      "  df2 = df2.append(data, ignore_index=True)\n"
     ]
    },
    {
     "name": "stdout",
     "output_type": "stream",
     "text": [
      "TRACK 24  in  spotify:track:6nHXcIjMpONVBe1MYKOUiR  COMPLETED\n"
     ]
    },
    {
     "name": "stderr",
     "output_type": "stream",
     "text": [
      "C:\\Users\\Uma Bala\\AppData\\Local\\Temp\\ipykernel_23008\\1248639595.py:50: FutureWarning: The frame.append method is deprecated and will be removed from pandas in a future version. Use pandas.concat instead.\n",
      "  df2 = df2.append(data, ignore_index=True)\n"
     ]
    },
    {
     "name": "stdout",
     "output_type": "stream",
     "text": [
      "TRACK 25  in  spotify:track:3jhqpJK154neWpSjMRvQwa  COMPLETED\n"
     ]
    },
    {
     "name": "stderr",
     "output_type": "stream",
     "text": [
      "C:\\Users\\Uma Bala\\AppData\\Local\\Temp\\ipykernel_23008\\1248639595.py:50: FutureWarning: The frame.append method is deprecated and will be removed from pandas in a future version. Use pandas.concat instead.\n",
      "  df2 = df2.append(data, ignore_index=True)\n"
     ]
    },
    {
     "name": "stdout",
     "output_type": "stream",
     "text": [
      "TRACK 26  in  spotify:track:2AgnbuzvnfPvq1sAYNB4pj  COMPLETED\n"
     ]
    },
    {
     "name": "stderr",
     "output_type": "stream",
     "text": [
      "C:\\Users\\Uma Bala\\AppData\\Local\\Temp\\ipykernel_23008\\1248639595.py:50: FutureWarning: The frame.append method is deprecated and will be removed from pandas in a future version. Use pandas.concat instead.\n",
      "  df2 = df2.append(data, ignore_index=True)\n"
     ]
    },
    {
     "name": "stdout",
     "output_type": "stream",
     "text": [
      "TRACK 27  in  spotify:track:278ARHR2a5n1pvEr3Dkjor  COMPLETED\n"
     ]
    },
    {
     "name": "stderr",
     "output_type": "stream",
     "text": [
      "C:\\Users\\Uma Bala\\AppData\\Local\\Temp\\ipykernel_23008\\1248639595.py:50: FutureWarning: The frame.append method is deprecated and will be removed from pandas in a future version. Use pandas.concat instead.\n",
      "  df2 = df2.append(data, ignore_index=True)\n"
     ]
    },
    {
     "name": "stdout",
     "output_type": "stream",
     "text": [
      "TRACK 28  in  spotify:track:3E73eFyGL6v10qlK3jiLyR  COMPLETED\n"
     ]
    },
    {
     "name": "stderr",
     "output_type": "stream",
     "text": [
      "C:\\Users\\Uma Bala\\AppData\\Local\\Temp\\ipykernel_23008\\1248639595.py:50: FutureWarning: The frame.append method is deprecated and will be removed from pandas in a future version. Use pandas.concat instead.\n",
      "  df2 = df2.append(data, ignore_index=True)\n",
      "C:\\Users\\Uma Bala\\AppData\\Local\\Temp\\ipykernel_23008\\1248639595.py:50: FutureWarning: The frame.append method is deprecated and will be removed from pandas in a future version. Use pandas.concat instead.\n",
      "  df2 = df2.append(data, ignore_index=True)\n"
     ]
    },
    {
     "name": "stdout",
     "output_type": "stream",
     "text": [
      "TRACK 29  in  spotify:track:054yWLQFJCISgsQxoTRKQK  COMPLETED\n",
      "TRACK 30  in  spotify:track:2Lmpxi7j95HOvsR6zj1Fl3  COMPLETED\n"
     ]
    },
    {
     "name": "stderr",
     "output_type": "stream",
     "text": [
      "C:\\Users\\Uma Bala\\AppData\\Local\\Temp\\ipykernel_23008\\1248639595.py:50: FutureWarning: The frame.append method is deprecated and will be removed from pandas in a future version. Use pandas.concat instead.\n",
      "  df2 = df2.append(data, ignore_index=True)\n"
     ]
    },
    {
     "name": "stdout",
     "output_type": "stream",
     "text": [
      "TRACK 31  in  spotify:track:3iXr4JLYecnraGnwGBFHPr  COMPLETED\n"
     ]
    },
    {
     "name": "stderr",
     "output_type": "stream",
     "text": [
      "C:\\Users\\Uma Bala\\AppData\\Local\\Temp\\ipykernel_23008\\1248639595.py:50: FutureWarning: The frame.append method is deprecated and will be removed from pandas in a future version. Use pandas.concat instead.\n",
      "  df2 = df2.append(data, ignore_index=True)\n"
     ]
    },
    {
     "name": "stdout",
     "output_type": "stream",
     "text": [
      "TRACK 32  in  spotify:track:2fIeEYpiqiINZCTIpU1Pe1  COMPLETED\n"
     ]
    },
    {
     "name": "stderr",
     "output_type": "stream",
     "text": [
      "C:\\Users\\Uma Bala\\AppData\\Local\\Temp\\ipykernel_23008\\1248639595.py:50: FutureWarning: The frame.append method is deprecated and will be removed from pandas in a future version. Use pandas.concat instead.\n",
      "  df2 = df2.append(data, ignore_index=True)\n"
     ]
    },
    {
     "name": "stdout",
     "output_type": "stream",
     "text": [
      "TRACK 33  in  spotify:track:1YbxRENg3AkWmn35PSJiEr  COMPLETED\n"
     ]
    },
    {
     "name": "stderr",
     "output_type": "stream",
     "text": [
      "C:\\Users\\Uma Bala\\AppData\\Local\\Temp\\ipykernel_23008\\1248639595.py:50: FutureWarning: The frame.append method is deprecated and will be removed from pandas in a future version. Use pandas.concat instead.\n",
      "  df2 = df2.append(data, ignore_index=True)\n"
     ]
    },
    {
     "name": "stdout",
     "output_type": "stream",
     "text": [
      "TRACK 34  in  spotify:track:3aVGj0g3QKbbXn8uNBFZIH  COMPLETED\n"
     ]
    },
    {
     "name": "stderr",
     "output_type": "stream",
     "text": [
      "C:\\Users\\Uma Bala\\AppData\\Local\\Temp\\ipykernel_23008\\1248639595.py:50: FutureWarning: The frame.append method is deprecated and will be removed from pandas in a future version. Use pandas.concat instead.\n",
      "  df2 = df2.append(data, ignore_index=True)\n"
     ]
    },
    {
     "name": "stdout",
     "output_type": "stream",
     "text": [
      "TRACK 35  in  spotify:track:2nzVYhW0dohj75ILgGsC79  COMPLETED\n"
     ]
    },
    {
     "name": "stderr",
     "output_type": "stream",
     "text": [
      "C:\\Users\\Uma Bala\\AppData\\Local\\Temp\\ipykernel_23008\\1248639595.py:50: FutureWarning: The frame.append method is deprecated and will be removed from pandas in a future version. Use pandas.concat instead.\n",
      "  df2 = df2.append(data, ignore_index=True)\n"
     ]
    },
    {
     "name": "stdout",
     "output_type": "stream",
     "text": [
      "TRACK 36  in  spotify:track:0YJedBqfrg6FtuDvidOvZO  COMPLETED\n"
     ]
    },
    {
     "name": "stderr",
     "output_type": "stream",
     "text": [
      "C:\\Users\\Uma Bala\\AppData\\Local\\Temp\\ipykernel_23008\\1248639595.py:50: FutureWarning: The frame.append method is deprecated and will be removed from pandas in a future version. Use pandas.concat instead.\n",
      "  df2 = df2.append(data, ignore_index=True)\n"
     ]
    },
    {
     "name": "stdout",
     "output_type": "stream",
     "text": [
      "TRACK 37  in  spotify:track:2NlegEcb8J6Db5uvP7nUpl  COMPLETED\n"
     ]
    },
    {
     "name": "stderr",
     "output_type": "stream",
     "text": [
      "C:\\Users\\Uma Bala\\AppData\\Local\\Temp\\ipykernel_23008\\1248639595.py:50: FutureWarning: The frame.append method is deprecated and will be removed from pandas in a future version. Use pandas.concat instead.\n",
      "  df2 = df2.append(data, ignore_index=True)\n"
     ]
    },
    {
     "name": "stdout",
     "output_type": "stream",
     "text": [
      "TRACK 38  in  spotify:track:4UOfgxPqvFaKitmAml4VsE  COMPLETED\n"
     ]
    },
    {
     "name": "stderr",
     "output_type": "stream",
     "text": [
      "C:\\Users\\Uma Bala\\AppData\\Local\\Temp\\ipykernel_23008\\1248639595.py:50: FutureWarning: The frame.append method is deprecated and will be removed from pandas in a future version. Use pandas.concat instead.\n",
      "  df2 = df2.append(data, ignore_index=True)\n"
     ]
    },
    {
     "name": "stdout",
     "output_type": "stream",
     "text": [
      "TRACK 39  in  spotify:track:5CFExWVz8ekxIbiiVwPW6G  COMPLETED\n"
     ]
    },
    {
     "name": "stderr",
     "output_type": "stream",
     "text": [
      "C:\\Users\\Uma Bala\\AppData\\Local\\Temp\\ipykernel_23008\\1248639595.py:50: FutureWarning: The frame.append method is deprecated and will be removed from pandas in a future version. Use pandas.concat instead.\n",
      "  df2 = df2.append(data, ignore_index=True)\n"
     ]
    },
    {
     "name": "stdout",
     "output_type": "stream",
     "text": [
      "TRACK 40  in  spotify:track:1E0wlDliGH6yPythfzIT8d  COMPLETED\n"
     ]
    },
    {
     "name": "stderr",
     "output_type": "stream",
     "text": [
      "C:\\Users\\Uma Bala\\AppData\\Local\\Temp\\ipykernel_23008\\1248639595.py:50: FutureWarning: The frame.append method is deprecated and will be removed from pandas in a future version. Use pandas.concat instead.\n",
      "  df2 = df2.append(data, ignore_index=True)\n"
     ]
    },
    {
     "name": "stdout",
     "output_type": "stream",
     "text": [
      "TRACK 41  in  spotify:track:0UQqXykR504ftBmPR2XlwM  COMPLETED\n"
     ]
    },
    {
     "name": "stderr",
     "output_type": "stream",
     "text": [
      "C:\\Users\\Uma Bala\\AppData\\Local\\Temp\\ipykernel_23008\\1248639595.py:50: FutureWarning: The frame.append method is deprecated and will be removed from pandas in a future version. Use pandas.concat instead.\n",
      "  df2 = df2.append(data, ignore_index=True)\n"
     ]
    },
    {
     "name": "stdout",
     "output_type": "stream",
     "text": [
      "TRACK 42  in  spotify:track:06pTb6Z0cskndQcC9zY00L  COMPLETED\n"
     ]
    },
    {
     "name": "stderr",
     "output_type": "stream",
     "text": [
      "C:\\Users\\Uma Bala\\AppData\\Local\\Temp\\ipykernel_23008\\1248639595.py:50: FutureWarning: The frame.append method is deprecated and will be removed from pandas in a future version. Use pandas.concat instead.\n",
      "  df2 = df2.append(data, ignore_index=True)\n"
     ]
    },
    {
     "name": "stdout",
     "output_type": "stream",
     "text": [
      "TRACK 43  in  spotify:track:7nixLKx5skJBEKyiqZmdp7  COMPLETED\n"
     ]
    },
    {
     "name": "stderr",
     "output_type": "stream",
     "text": [
      "C:\\Users\\Uma Bala\\AppData\\Local\\Temp\\ipykernel_23008\\1248639595.py:50: FutureWarning: The frame.append method is deprecated and will be removed from pandas in a future version. Use pandas.concat instead.\n",
      "  df2 = df2.append(data, ignore_index=True)\n"
     ]
    },
    {
     "name": "stdout",
     "output_type": "stream",
     "text": [
      "TRACK 44  in  spotify:track:7IU4F6KiGpjwy5cEBKof8L  COMPLETED\n"
     ]
    },
    {
     "name": "stderr",
     "output_type": "stream",
     "text": [
      "C:\\Users\\Uma Bala\\AppData\\Local\\Temp\\ipykernel_23008\\1248639595.py:50: FutureWarning: The frame.append method is deprecated and will be removed from pandas in a future version. Use pandas.concat instead.\n",
      "  df2 = df2.append(data, ignore_index=True)\n"
     ]
    },
    {
     "name": "stdout",
     "output_type": "stream",
     "text": [
      "TRACK 45  in  spotify:track:51NAz1GAp82XJ4bXGZa2qR  COMPLETED\n"
     ]
    },
    {
     "name": "stderr",
     "output_type": "stream",
     "text": [
      "C:\\Users\\Uma Bala\\AppData\\Local\\Temp\\ipykernel_23008\\1248639595.py:50: FutureWarning: The frame.append method is deprecated and will be removed from pandas in a future version. Use pandas.concat instead.\n",
      "  df2 = df2.append(data, ignore_index=True)\n"
     ]
    },
    {
     "name": "stdout",
     "output_type": "stream",
     "text": [
      "TRACK 46  in  spotify:track:3W4U7TEgILGpq0EmquurtH  COMPLETED\n"
     ]
    },
    {
     "name": "stderr",
     "output_type": "stream",
     "text": [
      "C:\\Users\\Uma Bala\\AppData\\Local\\Temp\\ipykernel_23008\\1248639595.py:50: FutureWarning: The frame.append method is deprecated and will be removed from pandas in a future version. Use pandas.concat instead.\n",
      "  df2 = df2.append(data, ignore_index=True)\n"
     ]
    },
    {
     "name": "stdout",
     "output_type": "stream",
     "text": [
      "TRACK 47  in  spotify:track:1wyAGxisJ8eiOdfFMSxBu7  COMPLETED\n"
     ]
    },
    {
     "name": "stderr",
     "output_type": "stream",
     "text": [
      "C:\\Users\\Uma Bala\\AppData\\Local\\Temp\\ipykernel_23008\\1248639595.py:50: FutureWarning: The frame.append method is deprecated and will be removed from pandas in a future version. Use pandas.concat instead.\n",
      "  df2 = df2.append(data, ignore_index=True)\n"
     ]
    },
    {
     "name": "stdout",
     "output_type": "stream",
     "text": [
      "TRACK 48  in  spotify:track:50x1Ic8CaXkYNvjmxe3WXy  COMPLETED\n"
     ]
    },
    {
     "name": "stderr",
     "output_type": "stream",
     "text": [
      "C:\\Users\\Uma Bala\\AppData\\Local\\Temp\\ipykernel_23008\\1248639595.py:50: FutureWarning: The frame.append method is deprecated and will be removed from pandas in a future version. Use pandas.concat instead.\n",
      "  df2 = df2.append(data, ignore_index=True)\n"
     ]
    },
    {
     "name": "stdout",
     "output_type": "stream",
     "text": [
      "TRACK 49  in  spotify:track:41P6Tnd8KIHqON0QIydx6a  COMPLETED\n"
     ]
    },
    {
     "name": "stderr",
     "output_type": "stream",
     "text": [
      "C:\\Users\\Uma Bala\\AppData\\Local\\Temp\\ipykernel_23008\\1248639595.py:50: FutureWarning: The frame.append method is deprecated and will be removed from pandas in a future version. Use pandas.concat instead.\n",
      "  df2 = df2.append(data, ignore_index=True)\n"
     ]
    },
    {
     "name": "stdout",
     "output_type": "stream",
     "text": [
      "TRACK 50  in  spotify:track:3iBgrkexCzVuPy4O9vx7Mf  COMPLETED\n"
     ]
    },
    {
     "name": "stderr",
     "output_type": "stream",
     "text": [
      "C:\\Users\\Uma Bala\\AppData\\Local\\Temp\\ipykernel_23008\\1248639595.py:50: FutureWarning: The frame.append method is deprecated and will be removed from pandas in a future version. Use pandas.concat instead.\n",
      "  df2 = df2.append(data, ignore_index=True)\n"
     ]
    },
    {
     "name": "stdout",
     "output_type": "stream",
     "text": [
      "TRACK 51  in  spotify:track:5JIkpWBTRbDUacnjHeBwt9  COMPLETED\n"
     ]
    },
    {
     "name": "stderr",
     "output_type": "stream",
     "text": [
      "C:\\Users\\Uma Bala\\AppData\\Local\\Temp\\ipykernel_23008\\1248639595.py:50: FutureWarning: The frame.append method is deprecated and will be removed from pandas in a future version. Use pandas.concat instead.\n",
      "  df2 = df2.append(data, ignore_index=True)\n"
     ]
    },
    {
     "name": "stdout",
     "output_type": "stream",
     "text": [
      "TRACK 52  in  spotify:track:6QRDewZDz4f9CJEasgWZKt  COMPLETED\n"
     ]
    },
    {
     "name": "stderr",
     "output_type": "stream",
     "text": [
      "C:\\Users\\Uma Bala\\AppData\\Local\\Temp\\ipykernel_23008\\1248639595.py:50: FutureWarning: The frame.append method is deprecated and will be removed from pandas in a future version. Use pandas.concat instead.\n",
      "  df2 = df2.append(data, ignore_index=True)\n"
     ]
    },
    {
     "name": "stdout",
     "output_type": "stream",
     "text": [
      "TRACK 53  in  spotify:track:0kwtcexUeuGMmduCFp6x8H  COMPLETED\n"
     ]
    },
    {
     "name": "stderr",
     "output_type": "stream",
     "text": [
      "C:\\Users\\Uma Bala\\AppData\\Local\\Temp\\ipykernel_23008\\1248639595.py:50: FutureWarning: The frame.append method is deprecated and will be removed from pandas in a future version. Use pandas.concat instead.\n",
      "  df2 = df2.append(data, ignore_index=True)\n"
     ]
    },
    {
     "name": "stdout",
     "output_type": "stream",
     "text": [
      "TRACK 54  in  spotify:track:3reMMRTXjo9NwWLwWK31X3  COMPLETED\n"
     ]
    },
    {
     "name": "stderr",
     "output_type": "stream",
     "text": [
      "C:\\Users\\Uma Bala\\AppData\\Local\\Temp\\ipykernel_23008\\1248639595.py:50: FutureWarning: The frame.append method is deprecated and will be removed from pandas in a future version. Use pandas.concat instead.\n",
      "  df2 = df2.append(data, ignore_index=True)\n"
     ]
    },
    {
     "name": "stdout",
     "output_type": "stream",
     "text": [
      "TRACK 55  in  spotify:track:1A8Q88steVfDlo4CMDPSYl  COMPLETED\n"
     ]
    },
    {
     "name": "stderr",
     "output_type": "stream",
     "text": [
      "C:\\Users\\Uma Bala\\AppData\\Local\\Temp\\ipykernel_23008\\1248639595.py:50: FutureWarning: The frame.append method is deprecated and will be removed from pandas in a future version. Use pandas.concat instead.\n",
      "  df2 = df2.append(data, ignore_index=True)\n"
     ]
    },
    {
     "name": "stdout",
     "output_type": "stream",
     "text": [
      "TRACK 56  in  spotify:track:36LbZDC1ifQx6SZzuarexp  COMPLETED\n"
     ]
    },
    {
     "name": "stderr",
     "output_type": "stream",
     "text": [
      "C:\\Users\\Uma Bala\\AppData\\Local\\Temp\\ipykernel_23008\\1248639595.py:50: FutureWarning: The frame.append method is deprecated and will be removed from pandas in a future version. Use pandas.concat instead.\n",
      "  df2 = df2.append(data, ignore_index=True)\n"
     ]
    },
    {
     "name": "stdout",
     "output_type": "stream",
     "text": [
      "TRACK 57  in  spotify:track:38vnriv5sC7OhkQUlh8qad  COMPLETED\n"
     ]
    },
    {
     "name": "stderr",
     "output_type": "stream",
     "text": [
      "C:\\Users\\Uma Bala\\AppData\\Local\\Temp\\ipykernel_23008\\1248639595.py:50: FutureWarning: The frame.append method is deprecated and will be removed from pandas in a future version. Use pandas.concat instead.\n",
      "  df2 = df2.append(data, ignore_index=True)\n",
      "C:\\Users\\Uma Bala\\AppData\\Local\\Temp\\ipykernel_23008\\1248639595.py:50: FutureWarning: The frame.append method is deprecated and will be removed from pandas in a future version. Use pandas.concat instead.\n",
      "  df2 = df2.append(data, ignore_index=True)\n"
     ]
    },
    {
     "name": "stdout",
     "output_type": "stream",
     "text": [
      "TRACK 58  in  spotify:track:3aZ88edq7llf7kl3in3JV5  COMPLETED\n",
      "TRACK 59  in  spotify:track:4VdRSoy4tmM2EoDCchJUkV  COMPLETED\n"
     ]
    },
    {
     "name": "stderr",
     "output_type": "stream",
     "text": [
      "C:\\Users\\Uma Bala\\AppData\\Local\\Temp\\ipykernel_23008\\1248639595.py:50: FutureWarning: The frame.append method is deprecated and will be removed from pandas in a future version. Use pandas.concat instead.\n",
      "  df2 = df2.append(data, ignore_index=True)\n"
     ]
    },
    {
     "name": "stdout",
     "output_type": "stream",
     "text": [
      "TRACK 60  in  spotify:track:46VWMQxwA5cACMY28UlIPs  COMPLETED\n"
     ]
    },
    {
     "name": "stderr",
     "output_type": "stream",
     "text": [
      "C:\\Users\\Uma Bala\\AppData\\Local\\Temp\\ipykernel_23008\\1248639595.py:50: FutureWarning: The frame.append method is deprecated and will be removed from pandas in a future version. Use pandas.concat instead.\n",
      "  df2 = df2.append(data, ignore_index=True)\n"
     ]
    },
    {
     "name": "stdout",
     "output_type": "stream",
     "text": [
      "TRACK 61  in  spotify:track:52XbozbtYqc68PmzdOdVPP  COMPLETED\n"
     ]
    },
    {
     "name": "stderr",
     "output_type": "stream",
     "text": [
      "C:\\Users\\Uma Bala\\AppData\\Local\\Temp\\ipykernel_23008\\1248639595.py:50: FutureWarning: The frame.append method is deprecated and will be removed from pandas in a future version. Use pandas.concat instead.\n",
      "  df2 = df2.append(data, ignore_index=True)\n",
      "C:\\Users\\Uma Bala\\AppData\\Local\\Temp\\ipykernel_23008\\1248639595.py:50: FutureWarning: The frame.append method is deprecated and will be removed from pandas in a future version. Use pandas.concat instead.\n",
      "  df2 = df2.append(data, ignore_index=True)\n"
     ]
    },
    {
     "name": "stdout",
     "output_type": "stream",
     "text": [
      "TRACK 62  in  spotify:track:4OWhcwHOnB7ZLGJI0Fo4oN  COMPLETED\n",
      "TRACK 63  in  spotify:track:1qJlpodv8hEJGmhdo3NERe  COMPLETED\n"
     ]
    },
    {
     "name": "stderr",
     "output_type": "stream",
     "text": [
      "C:\\Users\\Uma Bala\\AppData\\Local\\Temp\\ipykernel_23008\\1248639595.py:50: FutureWarning: The frame.append method is deprecated and will be removed from pandas in a future version. Use pandas.concat instead.\n",
      "  df2 = df2.append(data, ignore_index=True)\n",
      "C:\\Users\\Uma Bala\\AppData\\Local\\Temp\\ipykernel_23008\\1248639595.py:50: FutureWarning: The frame.append method is deprecated and will be removed from pandas in a future version. Use pandas.concat instead.\n",
      "  df2 = df2.append(data, ignore_index=True)\n"
     ]
    },
    {
     "name": "stdout",
     "output_type": "stream",
     "text": [
      "TRACK 64  in  spotify:track:7dXLivL0wsQhxq9D9eIfDr  COMPLETED\n",
      "TRACK 65  in  spotify:track:6SgN80CVfpKYUFonMr3Ann  COMPLETED\n"
     ]
    },
    {
     "name": "stderr",
     "output_type": "stream",
     "text": [
      "C:\\Users\\Uma Bala\\AppData\\Local\\Temp\\ipykernel_23008\\1248639595.py:50: FutureWarning: The frame.append method is deprecated and will be removed from pandas in a future version. Use pandas.concat instead.\n",
      "  df2 = df2.append(data, ignore_index=True)\n",
      "C:\\Users\\Uma Bala\\AppData\\Local\\Temp\\ipykernel_23008\\1248639595.py:50: FutureWarning: The frame.append method is deprecated and will be removed from pandas in a future version. Use pandas.concat instead.\n",
      "  df2 = df2.append(data, ignore_index=True)\n"
     ]
    },
    {
     "name": "stdout",
     "output_type": "stream",
     "text": [
      "TRACK 66  in  spotify:track:6vQK5arrwdS2rrpNJWJ3EI  COMPLETED\n",
      "TRACK 67  in  spotify:track:04CXlpWb6LtkqrfWoDxDvY  COMPLETED\n"
     ]
    },
    {
     "name": "stderr",
     "output_type": "stream",
     "text": [
      "C:\\Users\\Uma Bala\\AppData\\Local\\Temp\\ipykernel_23008\\1248639595.py:50: FutureWarning: The frame.append method is deprecated and will be removed from pandas in a future version. Use pandas.concat instead.\n",
      "  df2 = df2.append(data, ignore_index=True)\n",
      "C:\\Users\\Uma Bala\\AppData\\Local\\Temp\\ipykernel_23008\\1248639595.py:50: FutureWarning: The frame.append method is deprecated and will be removed from pandas in a future version. Use pandas.concat instead.\n",
      "  df2 = df2.append(data, ignore_index=True)\n"
     ]
    },
    {
     "name": "stdout",
     "output_type": "stream",
     "text": [
      "TRACK 68  in  spotify:track:2NHw5FlH9SCmJGk7HtQJKP  COMPLETED\n",
      "TRACK 69  in  spotify:track:4Lp6mBPRk5IaPM8Bg8J3fu  COMPLETED\n"
     ]
    },
    {
     "name": "stderr",
     "output_type": "stream",
     "text": [
      "C:\\Users\\Uma Bala\\AppData\\Local\\Temp\\ipykernel_23008\\1248639595.py:50: FutureWarning: The frame.append method is deprecated and will be removed from pandas in a future version. Use pandas.concat instead.\n",
      "  df2 = df2.append(data, ignore_index=True)\n"
     ]
    },
    {
     "name": "stdout",
     "output_type": "stream",
     "text": [
      "TRACK 70  in  spotify:track:1a1LrfgkTvfHFykIxcv8WU  COMPLETED\n"
     ]
    },
    {
     "name": "stderr",
     "output_type": "stream",
     "text": [
      "C:\\Users\\Uma Bala\\AppData\\Local\\Temp\\ipykernel_23008\\1248639595.py:50: FutureWarning: The frame.append method is deprecated and will be removed from pandas in a future version. Use pandas.concat instead.\n",
      "  df2 = df2.append(data, ignore_index=True)\n"
     ]
    },
    {
     "name": "stdout",
     "output_type": "stream",
     "text": [
      "TRACK 71  in  spotify:track:1tzEqC3xSSGxV16bYFYTOc  COMPLETED\n"
     ]
    },
    {
     "name": "stderr",
     "output_type": "stream",
     "text": [
      "C:\\Users\\Uma Bala\\AppData\\Local\\Temp\\ipykernel_23008\\1248639595.py:50: FutureWarning: The frame.append method is deprecated and will be removed from pandas in a future version. Use pandas.concat instead.\n",
      "  df2 = df2.append(data, ignore_index=True)\n",
      "C:\\Users\\Uma Bala\\AppData\\Local\\Temp\\ipykernel_23008\\1248639595.py:50: FutureWarning: The frame.append method is deprecated and will be removed from pandas in a future version. Use pandas.concat instead.\n",
      "  df2 = df2.append(data, ignore_index=True)\n"
     ]
    },
    {
     "name": "stdout",
     "output_type": "stream",
     "text": [
      "TRACK 72  in  spotify:track:6GuixfKdsta1trriWUWxNd  COMPLETED\n",
      "TRACK 73  in  spotify:track:5YUMQDrwJI1GpLUYwCqe4A  COMPLETED\n"
     ]
    },
    {
     "name": "stderr",
     "output_type": "stream",
     "text": [
      "C:\\Users\\Uma Bala\\AppData\\Local\\Temp\\ipykernel_23008\\1248639595.py:50: FutureWarning: The frame.append method is deprecated and will be removed from pandas in a future version. Use pandas.concat instead.\n",
      "  df2 = df2.append(data, ignore_index=True)\n"
     ]
    },
    {
     "name": "stdout",
     "output_type": "stream",
     "text": [
      "TRACK 74  in  spotify:track:3JWyvaawz14CRXLYBrZTmD  COMPLETED\n"
     ]
    },
    {
     "name": "stderr",
     "output_type": "stream",
     "text": [
      "C:\\Users\\Uma Bala\\AppData\\Local\\Temp\\ipykernel_23008\\1248639595.py:50: FutureWarning: The frame.append method is deprecated and will be removed from pandas in a future version. Use pandas.concat instead.\n",
      "  df2 = df2.append(data, ignore_index=True)\n"
     ]
    },
    {
     "name": "stdout",
     "output_type": "stream",
     "text": [
      "TRACK 75  in  spotify:track:20dYdhOwY8nfGsVaIockAR  COMPLETED\n"
     ]
    },
    {
     "name": "stderr",
     "output_type": "stream",
     "text": [
      "C:\\Users\\Uma Bala\\AppData\\Local\\Temp\\ipykernel_23008\\1248639595.py:50: FutureWarning: The frame.append method is deprecated and will be removed from pandas in a future version. Use pandas.concat instead.\n",
      "  df2 = df2.append(data, ignore_index=True)\n"
     ]
    },
    {
     "name": "stdout",
     "output_type": "stream",
     "text": [
      "TRACK 76  in  spotify:track:59mmKoHbCWc10mlWwwTYxn  COMPLETED\n"
     ]
    },
    {
     "name": "stderr",
     "output_type": "stream",
     "text": [
      "C:\\Users\\Uma Bala\\AppData\\Local\\Temp\\ipykernel_23008\\1248639595.py:50: FutureWarning: The frame.append method is deprecated and will be removed from pandas in a future version. Use pandas.concat instead.\n",
      "  df2 = df2.append(data, ignore_index=True)\n"
     ]
    },
    {
     "name": "stdout",
     "output_type": "stream",
     "text": [
      "TRACK 77  in  spotify:track:1aDCjyFTiY6EG9mbl7HMog  COMPLETED\n"
     ]
    },
    {
     "name": "stderr",
     "output_type": "stream",
     "text": [
      "C:\\Users\\Uma Bala\\AppData\\Local\\Temp\\ipykernel_23008\\1248639595.py:50: FutureWarning: The frame.append method is deprecated and will be removed from pandas in a future version. Use pandas.concat instead.\n",
      "  df2 = df2.append(data, ignore_index=True)\n"
     ]
    },
    {
     "name": "stdout",
     "output_type": "stream",
     "text": [
      "TRACK 78  in  spotify:track:2P2r0647uy5pKUikGZ7q9B  COMPLETED\n"
     ]
    },
    {
     "name": "stderr",
     "output_type": "stream",
     "text": [
      "C:\\Users\\Uma Bala\\AppData\\Local\\Temp\\ipykernel_23008\\1248639595.py:50: FutureWarning: The frame.append method is deprecated and will be removed from pandas in a future version. Use pandas.concat instead.\n",
      "  df2 = df2.append(data, ignore_index=True)\n"
     ]
    },
    {
     "name": "stdout",
     "output_type": "stream",
     "text": [
      "TRACK 79  in  spotify:track:3XstzgzP0rp3bzElEnRVHv  COMPLETED\n"
     ]
    },
    {
     "name": "stderr",
     "output_type": "stream",
     "text": [
      "C:\\Users\\Uma Bala\\AppData\\Local\\Temp\\ipykernel_23008\\1248639595.py:50: FutureWarning: The frame.append method is deprecated and will be removed from pandas in a future version. Use pandas.concat instead.\n",
      "  df2 = df2.append(data, ignore_index=True)\n"
     ]
    },
    {
     "name": "stdout",
     "output_type": "stream",
     "text": [
      "TRACK 80  in  spotify:track:3BeQzzSxNb7lzN1pJwXXDf  COMPLETED\n"
     ]
    },
    {
     "name": "stderr",
     "output_type": "stream",
     "text": [
      "C:\\Users\\Uma Bala\\AppData\\Local\\Temp\\ipykernel_23008\\1248639595.py:50: FutureWarning: The frame.append method is deprecated and will be removed from pandas in a future version. Use pandas.concat instead.\n",
      "  df2 = df2.append(data, ignore_index=True)\n"
     ]
    },
    {
     "name": "stdout",
     "output_type": "stream",
     "text": [
      "TRACK 81  in  spotify:track:0KmgJyW4GDgonqsoyx0CZ3  COMPLETED\n"
     ]
    },
    {
     "name": "stderr",
     "output_type": "stream",
     "text": [
      "C:\\Users\\Uma Bala\\AppData\\Local\\Temp\\ipykernel_23008\\1248639595.py:50: FutureWarning: The frame.append method is deprecated and will be removed from pandas in a future version. Use pandas.concat instead.\n",
      "  df2 = df2.append(data, ignore_index=True)\n"
     ]
    },
    {
     "name": "stdout",
     "output_type": "stream",
     "text": [
      "TRACK 82  in  spotify:track:3m3ylOXgB3v9xmDSIJyx9S  COMPLETED\n"
     ]
    },
    {
     "name": "stderr",
     "output_type": "stream",
     "text": [
      "C:\\Users\\Uma Bala\\AppData\\Local\\Temp\\ipykernel_23008\\1248639595.py:50: FutureWarning: The frame.append method is deprecated and will be removed from pandas in a future version. Use pandas.concat instead.\n",
      "  df2 = df2.append(data, ignore_index=True)\n"
     ]
    },
    {
     "name": "stdout",
     "output_type": "stream",
     "text": [
      "TRACK 83  in  spotify:track:2lTtnKQgjbrBA1qnOFhBkP  COMPLETED\n"
     ]
    },
    {
     "name": "stderr",
     "output_type": "stream",
     "text": [
      "C:\\Users\\Uma Bala\\AppData\\Local\\Temp\\ipykernel_23008\\1248639595.py:50: FutureWarning: The frame.append method is deprecated and will be removed from pandas in a future version. Use pandas.concat instead.\n",
      "  df2 = df2.append(data, ignore_index=True)\n"
     ]
    },
    {
     "name": "stdout",
     "output_type": "stream",
     "text": [
      "TRACK 84  in  spotify:track:7DCQIOmpGV4nkHx7DQckJS  COMPLETED\n"
     ]
    },
    {
     "name": "stderr",
     "output_type": "stream",
     "text": [
      "C:\\Users\\Uma Bala\\AppData\\Local\\Temp\\ipykernel_23008\\1248639595.py:50: FutureWarning: The frame.append method is deprecated and will be removed from pandas in a future version. Use pandas.concat instead.\n",
      "  df2 = df2.append(data, ignore_index=True)\n"
     ]
    },
    {
     "name": "stdout",
     "output_type": "stream",
     "text": [
      "TRACK 85  in  spotify:track:6uaBrivDHCaV0uBTiwHTUi  COMPLETED\n"
     ]
    },
    {
     "name": "stderr",
     "output_type": "stream",
     "text": [
      "C:\\Users\\Uma Bala\\AppData\\Local\\Temp\\ipykernel_23008\\1248639595.py:50: FutureWarning: The frame.append method is deprecated and will be removed from pandas in a future version. Use pandas.concat instead.\n",
      "  df2 = df2.append(data, ignore_index=True)\n"
     ]
    },
    {
     "name": "stdout",
     "output_type": "stream",
     "text": [
      "TRACK 86  in  spotify:track:2g0Bmi3kYEntusDP6xlAGZ  COMPLETED\n"
     ]
    },
    {
     "name": "stderr",
     "output_type": "stream",
     "text": [
      "C:\\Users\\Uma Bala\\AppData\\Local\\Temp\\ipykernel_23008\\1248639595.py:50: FutureWarning: The frame.append method is deprecated and will be removed from pandas in a future version. Use pandas.concat instead.\n",
      "  df2 = df2.append(data, ignore_index=True)\n"
     ]
    },
    {
     "name": "stdout",
     "output_type": "stream",
     "text": [
      "TRACK 87  in  spotify:track:7rymj8PopRWOI2kBdjPG9q  COMPLETED\n"
     ]
    },
    {
     "name": "stderr",
     "output_type": "stream",
     "text": [
      "C:\\Users\\Uma Bala\\AppData\\Local\\Temp\\ipykernel_23008\\1248639595.py:50: FutureWarning: The frame.append method is deprecated and will be removed from pandas in a future version. Use pandas.concat instead.\n",
      "  df2 = df2.append(data, ignore_index=True)\n"
     ]
    },
    {
     "name": "stdout",
     "output_type": "stream",
     "text": [
      "TRACK 88  in  spotify:track:2wXioTynVwrEWYRv6R6vEj  COMPLETED\n"
     ]
    },
    {
     "name": "stderr",
     "output_type": "stream",
     "text": [
      "C:\\Users\\Uma Bala\\AppData\\Local\\Temp\\ipykernel_23008\\1248639595.py:50: FutureWarning: The frame.append method is deprecated and will be removed from pandas in a future version. Use pandas.concat instead.\n",
      "  df2 = df2.append(data, ignore_index=True)\n"
     ]
    },
    {
     "name": "stdout",
     "output_type": "stream",
     "text": [
      "TRACK 89  in  spotify:track:0NuWgxEp51CutD2pJoF4OM  COMPLETED\n"
     ]
    },
    {
     "name": "stderr",
     "output_type": "stream",
     "text": [
      "C:\\Users\\Uma Bala\\AppData\\Local\\Temp\\ipykernel_23008\\1248639595.py:50: FutureWarning: The frame.append method is deprecated and will be removed from pandas in a future version. Use pandas.concat instead.\n",
      "  df2 = df2.append(data, ignore_index=True)\n"
     ]
    },
    {
     "name": "stdout",
     "output_type": "stream",
     "text": [
      "TRACK 90  in  spotify:track:5tiZBnx5IvETA0Pj3gELjn  COMPLETED\n"
     ]
    },
    {
     "name": "stderr",
     "output_type": "stream",
     "text": [
      "C:\\Users\\Uma Bala\\AppData\\Local\\Temp\\ipykernel_23008\\1248639595.py:50: FutureWarning: The frame.append method is deprecated and will be removed from pandas in a future version. Use pandas.concat instead.\n",
      "  df2 = df2.append(data, ignore_index=True)\n"
     ]
    },
    {
     "name": "stdout",
     "output_type": "stream",
     "text": [
      "TRACK 91  in  spotify:track:4telT9zZWgv4d8gD4WZrlA  COMPLETED\n"
     ]
    },
    {
     "name": "stderr",
     "output_type": "stream",
     "text": [
      "C:\\Users\\Uma Bala\\AppData\\Local\\Temp\\ipykernel_23008\\1248639595.py:50: FutureWarning: The frame.append method is deprecated and will be removed from pandas in a future version. Use pandas.concat instead.\n",
      "  df2 = df2.append(data, ignore_index=True)\n"
     ]
    },
    {
     "name": "stdout",
     "output_type": "stream",
     "text": [
      "TRACK 92  in  spotify:track:4oM9DGUTrRaXJDypxxHztZ  COMPLETED\n"
     ]
    },
    {
     "name": "stderr",
     "output_type": "stream",
     "text": [
      "C:\\Users\\Uma Bala\\AppData\\Local\\Temp\\ipykernel_23008\\1248639595.py:50: FutureWarning: The frame.append method is deprecated and will be removed from pandas in a future version. Use pandas.concat instead.\n",
      "  df2 = df2.append(data, ignore_index=True)\n"
     ]
    },
    {
     "name": "stdout",
     "output_type": "stream",
     "text": [
      "TRACK 93  in  spotify:track:5SG2BVsZr0W7cFAkjh60TT  COMPLETED\n"
     ]
    },
    {
     "name": "stderr",
     "output_type": "stream",
     "text": [
      "C:\\Users\\Uma Bala\\AppData\\Local\\Temp\\ipykernel_23008\\1248639595.py:50: FutureWarning: The frame.append method is deprecated and will be removed from pandas in a future version. Use pandas.concat instead.\n",
      "  df2 = df2.append(data, ignore_index=True)\n"
     ]
    },
    {
     "name": "stdout",
     "output_type": "stream",
     "text": [
      "TRACK 94  in  spotify:track:6iOvnACn4ChlAw4lWUU4dd  COMPLETED\n"
     ]
    },
    {
     "name": "stderr",
     "output_type": "stream",
     "text": [
      "C:\\Users\\Uma Bala\\AppData\\Local\\Temp\\ipykernel_23008\\1248639595.py:50: FutureWarning: The frame.append method is deprecated and will be removed from pandas in a future version. Use pandas.concat instead.\n",
      "  df2 = df2.append(data, ignore_index=True)\n"
     ]
    },
    {
     "name": "stdout",
     "output_type": "stream",
     "text": [
      "TRACK 95  in  spotify:track:5RoIXwyTCdyUjpMMkk4uPd  COMPLETED\n"
     ]
    },
    {
     "name": "stderr",
     "output_type": "stream",
     "text": [
      "C:\\Users\\Uma Bala\\AppData\\Local\\Temp\\ipykernel_23008\\1248639595.py:50: FutureWarning: The frame.append method is deprecated and will be removed from pandas in a future version. Use pandas.concat instead.\n",
      "  df2 = df2.append(data, ignore_index=True)\n",
      "C:\\Users\\Uma Bala\\AppData\\Local\\Temp\\ipykernel_23008\\1248639595.py:50: FutureWarning: The frame.append method is deprecated and will be removed from pandas in a future version. Use pandas.concat instead.\n",
      "  df2 = df2.append(data, ignore_index=True)\n"
     ]
    },
    {
     "name": "stdout",
     "output_type": "stream",
     "text": [
      "TRACK 96  in  spotify:track:4S4Mfvv03M1cHgIOJcbUCL  COMPLETED\n",
      "TRACK 97  in  spotify:track:2fGRJzoiYJYAzlQAyBONMb  COMPLETED\n"
     ]
    },
    {
     "name": "stderr",
     "output_type": "stream",
     "text": [
      "C:\\Users\\Uma Bala\\AppData\\Local\\Temp\\ipykernel_23008\\1248639595.py:50: FutureWarning: The frame.append method is deprecated and will be removed from pandas in a future version. Use pandas.concat instead.\n",
      "  df2 = df2.append(data, ignore_index=True)\n"
     ]
    },
    {
     "name": "stdout",
     "output_type": "stream",
     "text": [
      "TRACK 98  in  spotify:track:5FdE9hALukJ6ivdFXbCGEj  COMPLETED\n"
     ]
    },
    {
     "name": "stderr",
     "output_type": "stream",
     "text": [
      "C:\\Users\\Uma Bala\\AppData\\Local\\Temp\\ipykernel_23008\\1248639595.py:50: FutureWarning: The frame.append method is deprecated and will be removed from pandas in a future version. Use pandas.concat instead.\n",
      "  df2 = df2.append(data, ignore_index=True)\n"
     ]
    },
    {
     "name": "stdout",
     "output_type": "stream",
     "text": [
      "TRACK 99  in  spotify:track:35Ki1lvKPC2sFBD3GmKdRG  COMPLETED\n"
     ]
    },
    {
     "name": "stderr",
     "output_type": "stream",
     "text": [
      "C:\\Users\\Uma Bala\\AppData\\Local\\Temp\\ipykernel_23008\\1248639595.py:50: FutureWarning: The frame.append method is deprecated and will be removed from pandas in a future version. Use pandas.concat instead.\n",
      "  df2 = df2.append(data, ignore_index=True)\n"
     ]
    },
    {
     "name": "stdout",
     "output_type": "stream",
     "text": [
      "TRACK 100  in  spotify:track:1iJsVkrrId99kTJSZBrwHJ  COMPLETED\n"
     ]
    },
    {
     "name": "stderr",
     "output_type": "stream",
     "text": [
      "C:\\Users\\Uma Bala\\AppData\\Local\\Temp\\ipykernel_23008\\1248639595.py:50: FutureWarning: The frame.append method is deprecated and will be removed from pandas in a future version. Use pandas.concat instead.\n",
      "  df2 = df2.append(data, ignore_index=True)\n"
     ]
    },
    {
     "name": "stdout",
     "output_type": "stream",
     "text": [
      "TRACK 1  in  spotify:track:3QyoC6OvQUmpQwQZ18iaTs  COMPLETED\n"
     ]
    },
    {
     "name": "stderr",
     "output_type": "stream",
     "text": [
      "C:\\Users\\Uma Bala\\AppData\\Local\\Temp\\ipykernel_23008\\1248639595.py:50: FutureWarning: The frame.append method is deprecated and will be removed from pandas in a future version. Use pandas.concat instead.\n",
      "  df2 = df2.append(data, ignore_index=True)\n"
     ]
    },
    {
     "name": "stdout",
     "output_type": "stream",
     "text": [
      "TRACK 2  in  spotify:track:3aHYf6AXlWujDG9CzzT95i  COMPLETED\n"
     ]
    },
    {
     "name": "stderr",
     "output_type": "stream",
     "text": [
      "C:\\Users\\Uma Bala\\AppData\\Local\\Temp\\ipykernel_23008\\1248639595.py:50: FutureWarning: The frame.append method is deprecated and will be removed from pandas in a future version. Use pandas.concat instead.\n",
      "  df2 = df2.append(data, ignore_index=True)\n",
      "C:\\Users\\Uma Bala\\AppData\\Local\\Temp\\ipykernel_23008\\1248639595.py:50: FutureWarning: The frame.append method is deprecated and will be removed from pandas in a future version. Use pandas.concat instead.\n",
      "  df2 = df2.append(data, ignore_index=True)\n"
     ]
    },
    {
     "name": "stdout",
     "output_type": "stream",
     "text": [
      "TRACK 3  in  spotify:track:1EHUQesfVKwbthtNcpBi9g  COMPLETED\n",
      "TRACK 4  in  spotify:track:27OeeYzk6klgBh83TSvGMA  COMPLETED\n"
     ]
    },
    {
     "name": "stderr",
     "output_type": "stream",
     "text": [
      "C:\\Users\\Uma Bala\\AppData\\Local\\Temp\\ipykernel_23008\\1248639595.py:50: FutureWarning: The frame.append method is deprecated and will be removed from pandas in a future version. Use pandas.concat instead.\n",
      "  df2 = df2.append(data, ignore_index=True)\n"
     ]
    },
    {
     "name": "stdout",
     "output_type": "stream",
     "text": [
      "TRACK 5  in  spotify:track:2wwzGBhDWfZveGjpxj5be7  COMPLETED\n"
     ]
    },
    {
     "name": "stderr",
     "output_type": "stream",
     "text": [
      "C:\\Users\\Uma Bala\\AppData\\Local\\Temp\\ipykernel_23008\\1248639595.py:50: FutureWarning: The frame.append method is deprecated and will be removed from pandas in a future version. Use pandas.concat instead.\n",
      "  df2 = df2.append(data, ignore_index=True)\n"
     ]
    },
    {
     "name": "stdout",
     "output_type": "stream",
     "text": [
      "TRACK 6  in  spotify:track:6eEYCflHLRVPWskn8oGUPx  COMPLETED\n"
     ]
    },
    {
     "name": "stderr",
     "output_type": "stream",
     "text": [
      "C:\\Users\\Uma Bala\\AppData\\Local\\Temp\\ipykernel_23008\\1248639595.py:50: FutureWarning: The frame.append method is deprecated and will be removed from pandas in a future version. Use pandas.concat instead.\n",
      "  df2 = df2.append(data, ignore_index=True)\n",
      "C:\\Users\\Uma Bala\\AppData\\Local\\Temp\\ipykernel_23008\\1248639595.py:50: FutureWarning: The frame.append method is deprecated and will be removed from pandas in a future version. Use pandas.concat instead.\n",
      "  df2 = df2.append(data, ignore_index=True)\n"
     ]
    },
    {
     "name": "stdout",
     "output_type": "stream",
     "text": [
      "TRACK 7  in  spotify:track:2dwW50DVv7TJm68OnjxK1Z  COMPLETED\n",
      "TRACK 8  in  spotify:track:7Ad3bo4VQIBl9gZhOl1BNK  COMPLETED\n"
     ]
    },
    {
     "name": "stderr",
     "output_type": "stream",
     "text": [
      "C:\\Users\\Uma Bala\\AppData\\Local\\Temp\\ipykernel_23008\\1248639595.py:50: FutureWarning: The frame.append method is deprecated and will be removed from pandas in a future version. Use pandas.concat instead.\n",
      "  df2 = df2.append(data, ignore_index=True)\n"
     ]
    },
    {
     "name": "stdout",
     "output_type": "stream",
     "text": [
      "TRACK 9  in  spotify:track:2hKhTUmoqpjTMBkZW1g65z  COMPLETED\n"
     ]
    },
    {
     "name": "stderr",
     "output_type": "stream",
     "text": [
      "C:\\Users\\Uma Bala\\AppData\\Local\\Temp\\ipykernel_23008\\1248639595.py:50: FutureWarning: The frame.append method is deprecated and will be removed from pandas in a future version. Use pandas.concat instead.\n",
      "  df2 = df2.append(data, ignore_index=True)\n"
     ]
    },
    {
     "name": "stdout",
     "output_type": "stream",
     "text": [
      "TRACK 10  in  spotify:track:6uvMKqNlrSvcC4NaKnrwjZ  COMPLETED\n"
     ]
    },
    {
     "name": "stderr",
     "output_type": "stream",
     "text": [
      "C:\\Users\\Uma Bala\\AppData\\Local\\Temp\\ipykernel_23008\\1248639595.py:50: FutureWarning: The frame.append method is deprecated and will be removed from pandas in a future version. Use pandas.concat instead.\n",
      "  df2 = df2.append(data, ignore_index=True)\n"
     ]
    },
    {
     "name": "stdout",
     "output_type": "stream",
     "text": [
      "TRACK 11  in  spotify:track:4dHdqpGaO9km4TEw9nNQSR  COMPLETED\n"
     ]
    },
    {
     "name": "stderr",
     "output_type": "stream",
     "text": [
      "C:\\Users\\Uma Bala\\AppData\\Local\\Temp\\ipykernel_23008\\1248639595.py:50: FutureWarning: The frame.append method is deprecated and will be removed from pandas in a future version. Use pandas.concat instead.\n",
      "  df2 = df2.append(data, ignore_index=True)\n"
     ]
    },
    {
     "name": "stdout",
     "output_type": "stream",
     "text": [
      "TRACK 12  in  spotify:track:1yjY7rpaAQvKwpdUliHx0d  COMPLETED\n"
     ]
    },
    {
     "name": "stderr",
     "output_type": "stream",
     "text": [
      "C:\\Users\\Uma Bala\\AppData\\Local\\Temp\\ipykernel_23008\\1248639595.py:50: FutureWarning: The frame.append method is deprecated and will be removed from pandas in a future version. Use pandas.concat instead.\n",
      "  df2 = df2.append(data, ignore_index=True)\n"
     ]
    },
    {
     "name": "stdout",
     "output_type": "stream",
     "text": [
      "TRACK 13  in  spotify:track:2kS6td1yvmpNgZTt1q5pQq  COMPLETED\n"
     ]
    },
    {
     "name": "stderr",
     "output_type": "stream",
     "text": [
      "C:\\Users\\Uma Bala\\AppData\\Local\\Temp\\ipykernel_23008\\1248639595.py:50: FutureWarning: The frame.append method is deprecated and will be removed from pandas in a future version. Use pandas.concat instead.\n",
      "  df2 = df2.append(data, ignore_index=True)\n"
     ]
    },
    {
     "name": "stdout",
     "output_type": "stream",
     "text": [
      "TRACK 14  in  spotify:track:2qEb7nRjbBzODSjiEVlnq7  COMPLETED\n"
     ]
    },
    {
     "name": "stderr",
     "output_type": "stream",
     "text": [
      "C:\\Users\\Uma Bala\\AppData\\Local\\Temp\\ipykernel_23008\\1248639595.py:50: FutureWarning: The frame.append method is deprecated and will be removed from pandas in a future version. Use pandas.concat instead.\n",
      "  df2 = df2.append(data, ignore_index=True)\n"
     ]
    },
    {
     "name": "stdout",
     "output_type": "stream",
     "text": [
      "TRACK 15  in  spotify:track:6drRo08Q4goGAUsXQR7PPf  COMPLETED\n"
     ]
    },
    {
     "name": "stderr",
     "output_type": "stream",
     "text": [
      "C:\\Users\\Uma Bala\\AppData\\Local\\Temp\\ipykernel_23008\\1248639595.py:50: FutureWarning: The frame.append method is deprecated and will be removed from pandas in a future version. Use pandas.concat instead.\n",
      "  df2 = df2.append(data, ignore_index=True)\n"
     ]
    },
    {
     "name": "stdout",
     "output_type": "stream",
     "text": [
      "TRACK 16  in  spotify:track:70Wb2xKOAOte8iNkBpezQs  COMPLETED\n"
     ]
    },
    {
     "name": "stderr",
     "output_type": "stream",
     "text": [
      "C:\\Users\\Uma Bala\\AppData\\Local\\Temp\\ipykernel_23008\\1248639595.py:50: FutureWarning: The frame.append method is deprecated and will be removed from pandas in a future version. Use pandas.concat instead.\n",
      "  df2 = df2.append(data, ignore_index=True)\n"
     ]
    },
    {
     "name": "stdout",
     "output_type": "stream",
     "text": [
      "TRACK 17  in  spotify:track:1q3RiD1tIWUpGsNFADMlvl  COMPLETED\n"
     ]
    },
    {
     "name": "stderr",
     "output_type": "stream",
     "text": [
      "C:\\Users\\Uma Bala\\AppData\\Local\\Temp\\ipykernel_23008\\1248639595.py:50: FutureWarning: The frame.append method is deprecated and will be removed from pandas in a future version. Use pandas.concat instead.\n",
      "  df2 = df2.append(data, ignore_index=True)\n"
     ]
    },
    {
     "name": "stdout",
     "output_type": "stream",
     "text": [
      "TRACK 18  in  spotify:track:00eo1FWekbX0jk3FB72iYL  COMPLETED\n"
     ]
    },
    {
     "name": "stderr",
     "output_type": "stream",
     "text": [
      "C:\\Users\\Uma Bala\\AppData\\Local\\Temp\\ipykernel_23008\\1248639595.py:50: FutureWarning: The frame.append method is deprecated and will be removed from pandas in a future version. Use pandas.concat instead.\n",
      "  df2 = df2.append(data, ignore_index=True)\n"
     ]
    },
    {
     "name": "stdout",
     "output_type": "stream",
     "text": [
      "TRACK 19  in  spotify:track:0qBV27lkQHQ3A4wGiSx7xB  COMPLETED\n"
     ]
    },
    {
     "name": "stderr",
     "output_type": "stream",
     "text": [
      "C:\\Users\\Uma Bala\\AppData\\Local\\Temp\\ipykernel_23008\\1248639595.py:50: FutureWarning: The frame.append method is deprecated and will be removed from pandas in a future version. Use pandas.concat instead.\n",
      "  df2 = df2.append(data, ignore_index=True)\n"
     ]
    },
    {
     "name": "stdout",
     "output_type": "stream",
     "text": [
      "TRACK 20  in  spotify:track:5NCzzLNDRkeG22Vh406VaL  COMPLETED\n"
     ]
    },
    {
     "name": "stderr",
     "output_type": "stream",
     "text": [
      "C:\\Users\\Uma Bala\\AppData\\Local\\Temp\\ipykernel_23008\\1248639595.py:50: FutureWarning: The frame.append method is deprecated and will be removed from pandas in a future version. Use pandas.concat instead.\n",
      "  df2 = df2.append(data, ignore_index=True)\n"
     ]
    },
    {
     "name": "stdout",
     "output_type": "stream",
     "text": [
      "TRACK 21  in  spotify:track:0rGZ2Rz8TPzXfCk6T1gorE  COMPLETED\n"
     ]
    },
    {
     "name": "stderr",
     "output_type": "stream",
     "text": [
      "C:\\Users\\Uma Bala\\AppData\\Local\\Temp\\ipykernel_23008\\1248639595.py:50: FutureWarning: The frame.append method is deprecated and will be removed from pandas in a future version. Use pandas.concat instead.\n",
      "  df2 = df2.append(data, ignore_index=True)\n"
     ]
    },
    {
     "name": "stdout",
     "output_type": "stream",
     "text": [
      "TRACK 22  in  spotify:track:62hq7TOGOWftPG2j8XFWlq  COMPLETED\n"
     ]
    },
    {
     "name": "stderr",
     "output_type": "stream",
     "text": [
      "C:\\Users\\Uma Bala\\AppData\\Local\\Temp\\ipykernel_23008\\1248639595.py:50: FutureWarning: The frame.append method is deprecated and will be removed from pandas in a future version. Use pandas.concat instead.\n",
      "  df2 = df2.append(data, ignore_index=True)\n"
     ]
    },
    {
     "name": "stdout",
     "output_type": "stream",
     "text": [
      "TRACK 23  in  spotify:track:3vMtiUewPWlK5UsIlE8lIy  COMPLETED\n"
     ]
    },
    {
     "name": "stderr",
     "output_type": "stream",
     "text": [
      "C:\\Users\\Uma Bala\\AppData\\Local\\Temp\\ipykernel_23008\\1248639595.py:50: FutureWarning: The frame.append method is deprecated and will be removed from pandas in a future version. Use pandas.concat instead.\n",
      "  df2 = df2.append(data, ignore_index=True)\n"
     ]
    },
    {
     "name": "stdout",
     "output_type": "stream",
     "text": [
      "TRACK 24  in  spotify:track:6uSLLJJ5r936DO1SASSViy  COMPLETED\n"
     ]
    },
    {
     "name": "stderr",
     "output_type": "stream",
     "text": [
      "C:\\Users\\Uma Bala\\AppData\\Local\\Temp\\ipykernel_23008\\1248639595.py:50: FutureWarning: The frame.append method is deprecated and will be removed from pandas in a future version. Use pandas.concat instead.\n",
      "  df2 = df2.append(data, ignore_index=True)\n"
     ]
    },
    {
     "name": "stdout",
     "output_type": "stream",
     "text": [
      "TRACK 25  in  spotify:track:7GJ572zvnU94VZVrj5XRtb  COMPLETED\n"
     ]
    },
    {
     "name": "stderr",
     "output_type": "stream",
     "text": [
      "C:\\Users\\Uma Bala\\AppData\\Local\\Temp\\ipykernel_23008\\1248639595.py:50: FutureWarning: The frame.append method is deprecated and will be removed from pandas in a future version. Use pandas.concat instead.\n",
      "  df2 = df2.append(data, ignore_index=True)\n"
     ]
    },
    {
     "name": "stdout",
     "output_type": "stream",
     "text": [
      "TRACK 26  in  spotify:track:0IPF8XAlFsjDpxTj14xAsz  COMPLETED\n",
      "TRACK 27  in  spotify:track:2bx879t8gUpxkQ0avl8xTf  COMPLETED\n"
     ]
    },
    {
     "name": "stderr",
     "output_type": "stream",
     "text": [
      "C:\\Users\\Uma Bala\\AppData\\Local\\Temp\\ipykernel_23008\\1248639595.py:50: FutureWarning: The frame.append method is deprecated and will be removed from pandas in a future version. Use pandas.concat instead.\n",
      "  df2 = df2.append(data, ignore_index=True)\n",
      "C:\\Users\\Uma Bala\\AppData\\Local\\Temp\\ipykernel_23008\\1248639595.py:50: FutureWarning: The frame.append method is deprecated and will be removed from pandas in a future version. Use pandas.concat instead.\n",
      "  df2 = df2.append(data, ignore_index=True)\n"
     ]
    },
    {
     "name": "stdout",
     "output_type": "stream",
     "text": [
      "TRACK 28  in  spotify:track:0QkWikH5Z3U0f79T9iuF6c  COMPLETED\n"
     ]
    },
    {
     "name": "stderr",
     "output_type": "stream",
     "text": [
      "C:\\Users\\Uma Bala\\AppData\\Local\\Temp\\ipykernel_23008\\1248639595.py:50: FutureWarning: The frame.append method is deprecated and will be removed from pandas in a future version. Use pandas.concat instead.\n",
      "  df2 = df2.append(data, ignore_index=True)\n"
     ]
    },
    {
     "name": "stdout",
     "output_type": "stream",
     "text": [
      "TRACK 29  in  spotify:track:53Mz9H5UvWMQUXHZnaZYKQ  COMPLETED\n"
     ]
    },
    {
     "name": "stderr",
     "output_type": "stream",
     "text": [
      "C:\\Users\\Uma Bala\\AppData\\Local\\Temp\\ipykernel_23008\\1248639595.py:50: FutureWarning: The frame.append method is deprecated and will be removed from pandas in a future version. Use pandas.concat instead.\n",
      "  df2 = df2.append(data, ignore_index=True)\n"
     ]
    },
    {
     "name": "stdout",
     "output_type": "stream",
     "text": [
      "TRACK 30  in  spotify:track:748mdHapucXQri7IAO8yFK  COMPLETED\n"
     ]
    },
    {
     "name": "stderr",
     "output_type": "stream",
     "text": [
      "C:\\Users\\Uma Bala\\AppData\\Local\\Temp\\ipykernel_23008\\1248639595.py:50: FutureWarning: The frame.append method is deprecated and will be removed from pandas in a future version. Use pandas.concat instead.\n",
      "  df2 = df2.append(data, ignore_index=True)\n"
     ]
    },
    {
     "name": "stdout",
     "output_type": "stream",
     "text": [
      "TRACK 31  in  spotify:track:3iw6V4LH7yPj1ESORX9RIN  COMPLETED\n"
     ]
    },
    {
     "name": "stderr",
     "output_type": "stream",
     "text": [
      "C:\\Users\\Uma Bala\\AppData\\Local\\Temp\\ipykernel_23008\\1248639595.py:50: FutureWarning: The frame.append method is deprecated and will be removed from pandas in a future version. Use pandas.concat instead.\n",
      "  df2 = df2.append(data, ignore_index=True)\n"
     ]
    },
    {
     "name": "stdout",
     "output_type": "stream",
     "text": [
      "TRACK 32  in  spotify:track:3Dzso9Q2WwupEclqgxBZht  COMPLETED\n"
     ]
    },
    {
     "name": "stderr",
     "output_type": "stream",
     "text": [
      "C:\\Users\\Uma Bala\\AppData\\Local\\Temp\\ipykernel_23008\\1248639595.py:50: FutureWarning: The frame.append method is deprecated and will be removed from pandas in a future version. Use pandas.concat instead.\n",
      "  df2 = df2.append(data, ignore_index=True)\n"
     ]
    },
    {
     "name": "stdout",
     "output_type": "stream",
     "text": [
      "TRACK 33  in  spotify:track:3JvKfv6T31zO0ini8iNItO  COMPLETED\n"
     ]
    },
    {
     "name": "stderr",
     "output_type": "stream",
     "text": [
      "C:\\Users\\Uma Bala\\AppData\\Local\\Temp\\ipykernel_23008\\1248639595.py:50: FutureWarning: The frame.append method is deprecated and will be removed from pandas in a future version. Use pandas.concat instead.\n",
      "  df2 = df2.append(data, ignore_index=True)\n"
     ]
    },
    {
     "name": "stdout",
     "output_type": "stream",
     "text": [
      "TRACK 34  in  spotify:track:1k1FZQT4Inhpf45QLWtsy3  COMPLETED\n"
     ]
    },
    {
     "name": "stderr",
     "output_type": "stream",
     "text": [
      "C:\\Users\\Uma Bala\\AppData\\Local\\Temp\\ipykernel_23008\\1248639595.py:50: FutureWarning: The frame.append method is deprecated and will be removed from pandas in a future version. Use pandas.concat instead.\n",
      "  df2 = df2.append(data, ignore_index=True)\n"
     ]
    },
    {
     "name": "stdout",
     "output_type": "stream",
     "text": [
      "TRACK 35  in  spotify:track:6jg5SRvdGxvJ0DzNV0UqEK  COMPLETED\n"
     ]
    },
    {
     "name": "stderr",
     "output_type": "stream",
     "text": [
      "C:\\Users\\Uma Bala\\AppData\\Local\\Temp\\ipykernel_23008\\1248639595.py:50: FutureWarning: The frame.append method is deprecated and will be removed from pandas in a future version. Use pandas.concat instead.\n",
      "  df2 = df2.append(data, ignore_index=True)\n"
     ]
    },
    {
     "name": "stdout",
     "output_type": "stream",
     "text": [
      "TRACK 36  in  spotify:track:3yXFcbGxFn2au5q3pShkAe  COMPLETED\n"
     ]
    },
    {
     "name": "stderr",
     "output_type": "stream",
     "text": [
      "C:\\Users\\Uma Bala\\AppData\\Local\\Temp\\ipykernel_23008\\1248639595.py:50: FutureWarning: The frame.append method is deprecated and will be removed from pandas in a future version. Use pandas.concat instead.\n",
      "  df2 = df2.append(data, ignore_index=True)\n",
      "C:\\Users\\Uma Bala\\AppData\\Local\\Temp\\ipykernel_23008\\1248639595.py:50: FutureWarning: The frame.append method is deprecated and will be removed from pandas in a future version. Use pandas.concat instead.\n",
      "  df2 = df2.append(data, ignore_index=True)\n"
     ]
    },
    {
     "name": "stdout",
     "output_type": "stream",
     "text": [
      "TRACK 37  in  spotify:track:0yQj6jvxjDYWkjZor9UezX  COMPLETED\n",
      "TRACK 38  in  spotify:track:0WNmMljbubSgfEipIeiPwC  COMPLETED\n"
     ]
    },
    {
     "name": "stderr",
     "output_type": "stream",
     "text": [
      "C:\\Users\\Uma Bala\\AppData\\Local\\Temp\\ipykernel_23008\\1248639595.py:50: FutureWarning: The frame.append method is deprecated and will be removed from pandas in a future version. Use pandas.concat instead.\n",
      "  df2 = df2.append(data, ignore_index=True)\n"
     ]
    },
    {
     "name": "stdout",
     "output_type": "stream",
     "text": [
      "TRACK 39  in  spotify:track:7FGIEAVXfegxngH9Jg6VwA  COMPLETED\n"
     ]
    },
    {
     "name": "stderr",
     "output_type": "stream",
     "text": [
      "C:\\Users\\Uma Bala\\AppData\\Local\\Temp\\ipykernel_23008\\1248639595.py:50: FutureWarning: The frame.append method is deprecated and will be removed from pandas in a future version. Use pandas.concat instead.\n",
      "  df2 = df2.append(data, ignore_index=True)\n",
      "C:\\Users\\Uma Bala\\AppData\\Local\\Temp\\ipykernel_23008\\1248639595.py:50: FutureWarning: The frame.append method is deprecated and will be removed from pandas in a future version. Use pandas.concat instead.\n",
      "  df2 = df2.append(data, ignore_index=True)\n"
     ]
    },
    {
     "name": "stdout",
     "output_type": "stream",
     "text": [
      "TRACK 40  in  spotify:track:4Q1p1yb2ri1t920HOxuwqZ  COMPLETED\n",
      "TRACK 41  in  spotify:track:7BoobGhD4x5K96Me0hqC8Q  COMPLETED\n"
     ]
    },
    {
     "name": "stderr",
     "output_type": "stream",
     "text": [
      "C:\\Users\\Uma Bala\\AppData\\Local\\Temp\\ipykernel_23008\\1248639595.py:50: FutureWarning: The frame.append method is deprecated and will be removed from pandas in a future version. Use pandas.concat instead.\n",
      "  df2 = df2.append(data, ignore_index=True)\n"
     ]
    },
    {
     "name": "stdout",
     "output_type": "stream",
     "text": [
      "TRACK 42  in  spotify:track:2RKIETMdgcduhnArIwlLsB  COMPLETED\n"
     ]
    },
    {
     "name": "stderr",
     "output_type": "stream",
     "text": [
      "C:\\Users\\Uma Bala\\AppData\\Local\\Temp\\ipykernel_23008\\1248639595.py:50: FutureWarning: The frame.append method is deprecated and will be removed from pandas in a future version. Use pandas.concat instead.\n",
      "  df2 = df2.append(data, ignore_index=True)\n"
     ]
    },
    {
     "name": "stdout",
     "output_type": "stream",
     "text": [
      "TRACK 43  in  spotify:track:47lhHrP7qgOAFeTuSG7I5x  COMPLETED\n"
     ]
    },
    {
     "name": "stderr",
     "output_type": "stream",
     "text": [
      "C:\\Users\\Uma Bala\\AppData\\Local\\Temp\\ipykernel_23008\\1248639595.py:50: FutureWarning: The frame.append method is deprecated and will be removed from pandas in a future version. Use pandas.concat instead.\n",
      "  df2 = df2.append(data, ignore_index=True)\n"
     ]
    },
    {
     "name": "stdout",
     "output_type": "stream",
     "text": [
      "TRACK 44  in  spotify:track:3jS7bB0oXVOwGFZn3aE5NV  COMPLETED\n"
     ]
    },
    {
     "name": "stderr",
     "output_type": "stream",
     "text": [
      "C:\\Users\\Uma Bala\\AppData\\Local\\Temp\\ipykernel_23008\\1248639595.py:50: FutureWarning: The frame.append method is deprecated and will be removed from pandas in a future version. Use pandas.concat instead.\n",
      "  df2 = df2.append(data, ignore_index=True)\n"
     ]
    },
    {
     "name": "stdout",
     "output_type": "stream",
     "text": [
      "TRACK 45  in  spotify:track:4xSQXSMlKCUKNxy7oVq46H  COMPLETED\n"
     ]
    },
    {
     "name": "stderr",
     "output_type": "stream",
     "text": [
      "C:\\Users\\Uma Bala\\AppData\\Local\\Temp\\ipykernel_23008\\1248639595.py:50: FutureWarning: The frame.append method is deprecated and will be removed from pandas in a future version. Use pandas.concat instead.\n",
      "  df2 = df2.append(data, ignore_index=True)\n"
     ]
    },
    {
     "name": "stdout",
     "output_type": "stream",
     "text": [
      "TRACK 46  in  spotify:track:35dC4kJboJ8iOmfyUur7it  COMPLETED\n"
     ]
    },
    {
     "name": "stderr",
     "output_type": "stream",
     "text": [
      "C:\\Users\\Uma Bala\\AppData\\Local\\Temp\\ipykernel_23008\\1248639595.py:50: FutureWarning: The frame.append method is deprecated and will be removed from pandas in a future version. Use pandas.concat instead.\n",
      "  df2 = df2.append(data, ignore_index=True)\n"
     ]
    },
    {
     "name": "stdout",
     "output_type": "stream",
     "text": [
      "TRACK 47  in  spotify:track:1xBQDoxqFyloelbnfju8na  COMPLETED\n"
     ]
    },
    {
     "name": "stderr",
     "output_type": "stream",
     "text": [
      "C:\\Users\\Uma Bala\\AppData\\Local\\Temp\\ipykernel_23008\\1248639595.py:50: FutureWarning: The frame.append method is deprecated and will be removed from pandas in a future version. Use pandas.concat instead.\n",
      "  df2 = df2.append(data, ignore_index=True)\n"
     ]
    },
    {
     "name": "stdout",
     "output_type": "stream",
     "text": [
      "TRACK 48  in  spotify:track:3tAsY2NU5gRPdYExMhhyvT  COMPLETED\n"
     ]
    },
    {
     "name": "stderr",
     "output_type": "stream",
     "text": [
      "C:\\Users\\Uma Bala\\AppData\\Local\\Temp\\ipykernel_23008\\1248639595.py:50: FutureWarning: The frame.append method is deprecated and will be removed from pandas in a future version. Use pandas.concat instead.\n",
      "  df2 = df2.append(data, ignore_index=True)\n"
     ]
    },
    {
     "name": "stdout",
     "output_type": "stream",
     "text": [
      "TRACK 49  in  spotify:track:5uhyZSW4rYurgR1ZgAj0te  COMPLETED\n"
     ]
    },
    {
     "name": "stderr",
     "output_type": "stream",
     "text": [
      "C:\\Users\\Uma Bala\\AppData\\Local\\Temp\\ipykernel_23008\\1248639595.py:50: FutureWarning: The frame.append method is deprecated and will be removed from pandas in a future version. Use pandas.concat instead.\n",
      "  df2 = df2.append(data, ignore_index=True)\n"
     ]
    },
    {
     "name": "stdout",
     "output_type": "stream",
     "text": [
      "TRACK 50  in  spotify:track:1kQ6cDHvOlakFcck2TMFC4  COMPLETED\n"
     ]
    },
    {
     "name": "stderr",
     "output_type": "stream",
     "text": [
      "C:\\Users\\Uma Bala\\AppData\\Local\\Temp\\ipykernel_23008\\1248639595.py:50: FutureWarning: The frame.append method is deprecated and will be removed from pandas in a future version. Use pandas.concat instead.\n",
      "  df2 = df2.append(data, ignore_index=True)\n"
     ]
    },
    {
     "name": "stdout",
     "output_type": "stream",
     "text": [
      "TRACK 51  in  spotify:track:1mbqJ8ablX8eU9Qelk26Us  COMPLETED\n"
     ]
    },
    {
     "name": "stderr",
     "output_type": "stream",
     "text": [
      "C:\\Users\\Uma Bala\\AppData\\Local\\Temp\\ipykernel_23008\\1248639595.py:50: FutureWarning: The frame.append method is deprecated and will be removed from pandas in a future version. Use pandas.concat instead.\n",
      "  df2 = df2.append(data, ignore_index=True)\n"
     ]
    },
    {
     "name": "stdout",
     "output_type": "stream",
     "text": [
      "TRACK 52  in  spotify:track:3rV5y8rcQrwRt9fWGLmjOQ  COMPLETED\n"
     ]
    },
    {
     "name": "stderr",
     "output_type": "stream",
     "text": [
      "C:\\Users\\Uma Bala\\AppData\\Local\\Temp\\ipykernel_23008\\1248639595.py:50: FutureWarning: The frame.append method is deprecated and will be removed from pandas in a future version. Use pandas.concat instead.\n",
      "  df2 = df2.append(data, ignore_index=True)\n"
     ]
    },
    {
     "name": "stdout",
     "output_type": "stream",
     "text": [
      "TRACK 53  in  spotify:track:1FfYUhzJlkFfkN4kux2zIH  COMPLETED\n"
     ]
    },
    {
     "name": "stderr",
     "output_type": "stream",
     "text": [
      "C:\\Users\\Uma Bala\\AppData\\Local\\Temp\\ipykernel_23008\\1248639595.py:50: FutureWarning: The frame.append method is deprecated and will be removed from pandas in a future version. Use pandas.concat instead.\n",
      "  df2 = df2.append(data, ignore_index=True)\n"
     ]
    },
    {
     "name": "stdout",
     "output_type": "stream",
     "text": [
      "TRACK 54  in  spotify:track:4DyGan0wxPUZk21B1fF57X  COMPLETED\n"
     ]
    },
    {
     "name": "stderr",
     "output_type": "stream",
     "text": [
      "C:\\Users\\Uma Bala\\AppData\\Local\\Temp\\ipykernel_23008\\1248639595.py:50: FutureWarning: The frame.append method is deprecated and will be removed from pandas in a future version. Use pandas.concat instead.\n",
      "  df2 = df2.append(data, ignore_index=True)\n"
     ]
    },
    {
     "name": "stdout",
     "output_type": "stream",
     "text": [
      "TRACK 55  in  spotify:track:0LjJOf4NG2mLtlCkPdS453  COMPLETED\n"
     ]
    },
    {
     "name": "stderr",
     "output_type": "stream",
     "text": [
      "C:\\Users\\Uma Bala\\AppData\\Local\\Temp\\ipykernel_23008\\1248639595.py:50: FutureWarning: The frame.append method is deprecated and will be removed from pandas in a future version. Use pandas.concat instead.\n",
      "  df2 = df2.append(data, ignore_index=True)\n",
      "C:\\Users\\Uma Bala\\AppData\\Local\\Temp\\ipykernel_23008\\1248639595.py:50: FutureWarning: The frame.append method is deprecated and will be removed from pandas in a future version. Use pandas.concat instead.\n",
      "  df2 = df2.append(data, ignore_index=True)\n"
     ]
    },
    {
     "name": "stdout",
     "output_type": "stream",
     "text": [
      "TRACK 56  in  spotify:track:00fhKpPny0gmIZnUXKzHXh  COMPLETED\n",
      "TRACK 57  in  spotify:track:0qNjea01cHs9HbpqH07lup  COMPLETED\n"
     ]
    },
    {
     "name": "stderr",
     "output_type": "stream",
     "text": [
      "C:\\Users\\Uma Bala\\AppData\\Local\\Temp\\ipykernel_23008\\1248639595.py:50: FutureWarning: The frame.append method is deprecated and will be removed from pandas in a future version. Use pandas.concat instead.\n",
      "  df2 = df2.append(data, ignore_index=True)\n"
     ]
    },
    {
     "name": "stdout",
     "output_type": "stream",
     "text": [
      "TRACK 58  in  spotify:track:4jLn0A5vbC3Nh7oaL4Cbgc  COMPLETED\n"
     ]
    },
    {
     "name": "stderr",
     "output_type": "stream",
     "text": [
      "C:\\Users\\Uma Bala\\AppData\\Local\\Temp\\ipykernel_23008\\1248639595.py:50: FutureWarning: The frame.append method is deprecated and will be removed from pandas in a future version. Use pandas.concat instead.\n",
      "  df2 = df2.append(data, ignore_index=True)\n"
     ]
    },
    {
     "name": "stdout",
     "output_type": "stream",
     "text": [
      "TRACK 59  in  spotify:track:6F8h1ePImEjgpSiamZtgVd  COMPLETED\n"
     ]
    },
    {
     "name": "stderr",
     "output_type": "stream",
     "text": [
      "C:\\Users\\Uma Bala\\AppData\\Local\\Temp\\ipykernel_23008\\1248639595.py:50: FutureWarning: The frame.append method is deprecated and will be removed from pandas in a future version. Use pandas.concat instead.\n",
      "  df2 = df2.append(data, ignore_index=True)\n"
     ]
    },
    {
     "name": "stdout",
     "output_type": "stream",
     "text": [
      "TRACK 60  in  spotify:track:6YZwJSMNL7hB4ItxZtn7jx  COMPLETED\n"
     ]
    },
    {
     "name": "stderr",
     "output_type": "stream",
     "text": [
      "C:\\Users\\Uma Bala\\AppData\\Local\\Temp\\ipykernel_23008\\1248639595.py:50: FutureWarning: The frame.append method is deprecated and will be removed from pandas in a future version. Use pandas.concat instead.\n",
      "  df2 = df2.append(data, ignore_index=True)\n"
     ]
    },
    {
     "name": "stdout",
     "output_type": "stream",
     "text": [
      "TRACK 61  in  spotify:track:5HCyWlXZPP0y6Gqq8TgA20  COMPLETED\n"
     ]
    },
    {
     "name": "stderr",
     "output_type": "stream",
     "text": [
      "C:\\Users\\Uma Bala\\AppData\\Local\\Temp\\ipykernel_23008\\1248639595.py:50: FutureWarning: The frame.append method is deprecated and will be removed from pandas in a future version. Use pandas.concat instead.\n",
      "  df2 = df2.append(data, ignore_index=True)\n"
     ]
    },
    {
     "name": "stdout",
     "output_type": "stream",
     "text": [
      "TRACK 62  in  spotify:track:08hB2ERJV6A1Ntu3OHgzjh  COMPLETED\n"
     ]
    },
    {
     "name": "stderr",
     "output_type": "stream",
     "text": [
      "C:\\Users\\Uma Bala\\AppData\\Local\\Temp\\ipykernel_23008\\1248639595.py:50: FutureWarning: The frame.append method is deprecated and will be removed from pandas in a future version. Use pandas.concat instead.\n",
      "  df2 = df2.append(data, ignore_index=True)\n"
     ]
    },
    {
     "name": "stdout",
     "output_type": "stream",
     "text": [
      "TRACK 63  in  spotify:track:4wuPygBcl5pQ4pY0U7nNFa  COMPLETED\n"
     ]
    },
    {
     "name": "stderr",
     "output_type": "stream",
     "text": [
      "C:\\Users\\Uma Bala\\AppData\\Local\\Temp\\ipykernel_23008\\1248639595.py:50: FutureWarning: The frame.append method is deprecated and will be removed from pandas in a future version. Use pandas.concat instead.\n",
      "  df2 = df2.append(data, ignore_index=True)\n"
     ]
    },
    {
     "name": "stdout",
     "output_type": "stream",
     "text": [
      "TRACK 64  in  spotify:track:0cmnFFGFHwUsHUJOSIdB5d  COMPLETED\n"
     ]
    },
    {
     "name": "stderr",
     "output_type": "stream",
     "text": [
      "C:\\Users\\Uma Bala\\AppData\\Local\\Temp\\ipykernel_23008\\1248639595.py:50: FutureWarning: The frame.append method is deprecated and will be removed from pandas in a future version. Use pandas.concat instead.\n",
      "  df2 = df2.append(data, ignore_index=True)\n"
     ]
    },
    {
     "name": "stdout",
     "output_type": "stream",
     "text": [
      "TRACK 65  in  spotify:track:3AxAk53oNseDV5yJoqScdM  COMPLETED\n"
     ]
    },
    {
     "name": "stderr",
     "output_type": "stream",
     "text": [
      "C:\\Users\\Uma Bala\\AppData\\Local\\Temp\\ipykernel_23008\\1248639595.py:50: FutureWarning: The frame.append method is deprecated and will be removed from pandas in a future version. Use pandas.concat instead.\n",
      "  df2 = df2.append(data, ignore_index=True)\n"
     ]
    },
    {
     "name": "stdout",
     "output_type": "stream",
     "text": [
      "TRACK 66  in  spotify:track:7DEmItdXqHDTTDsbuVZbUp  COMPLETED\n"
     ]
    },
    {
     "name": "stderr",
     "output_type": "stream",
     "text": [
      "C:\\Users\\Uma Bala\\AppData\\Local\\Temp\\ipykernel_23008\\1248639595.py:50: FutureWarning: The frame.append method is deprecated and will be removed from pandas in a future version. Use pandas.concat instead.\n",
      "  df2 = df2.append(data, ignore_index=True)\n"
     ]
    },
    {
     "name": "stdout",
     "output_type": "stream",
     "text": [
      "TRACK 67  in  spotify:track:32oPHgOrixSCfqsETHDSaq  COMPLETED\n"
     ]
    },
    {
     "name": "stderr",
     "output_type": "stream",
     "text": [
      "C:\\Users\\Uma Bala\\AppData\\Local\\Temp\\ipykernel_23008\\1248639595.py:50: FutureWarning: The frame.append method is deprecated and will be removed from pandas in a future version. Use pandas.concat instead.\n",
      "  df2 = df2.append(data, ignore_index=True)\n"
     ]
    },
    {
     "name": "stdout",
     "output_type": "stream",
     "text": [
      "TRACK 68  in  spotify:track:3hUxzQpSfdDqwM3ZTFQY0K  COMPLETED\n"
     ]
    },
    {
     "name": "stderr",
     "output_type": "stream",
     "text": [
      "C:\\Users\\Uma Bala\\AppData\\Local\\Temp\\ipykernel_23008\\1248639595.py:50: FutureWarning: The frame.append method is deprecated and will be removed from pandas in a future version. Use pandas.concat instead.\n",
      "  df2 = df2.append(data, ignore_index=True)\n"
     ]
    },
    {
     "name": "stdout",
     "output_type": "stream",
     "text": [
      "TRACK 69  in  spotify:track:187QEBnImZlO3iZESvaxUM  COMPLETED\n"
     ]
    },
    {
     "name": "stderr",
     "output_type": "stream",
     "text": [
      "C:\\Users\\Uma Bala\\AppData\\Local\\Temp\\ipykernel_23008\\1248639595.py:50: FutureWarning: The frame.append method is deprecated and will be removed from pandas in a future version. Use pandas.concat instead.\n",
      "  df2 = df2.append(data, ignore_index=True)\n"
     ]
    },
    {
     "name": "stdout",
     "output_type": "stream",
     "text": [
      "TRACK 70  in  spotify:track:2QZ2CpErUHjQLZQ5hqDudM  COMPLETED\n"
     ]
    },
    {
     "name": "stderr",
     "output_type": "stream",
     "text": [
      "C:\\Users\\Uma Bala\\AppData\\Local\\Temp\\ipykernel_23008\\1248639595.py:50: FutureWarning: The frame.append method is deprecated and will be removed from pandas in a future version. Use pandas.concat instead.\n",
      "  df2 = df2.append(data, ignore_index=True)\n",
      "C:\\Users\\Uma Bala\\AppData\\Local\\Temp\\ipykernel_23008\\1248639595.py:50: FutureWarning: The frame.append method is deprecated and will be removed from pandas in a future version. Use pandas.concat instead.\n",
      "  df2 = df2.append(data, ignore_index=True)\n"
     ]
    },
    {
     "name": "stdout",
     "output_type": "stream",
     "text": [
      "TRACK 71  in  spotify:track:3ChZyo7eKVZxxFSxkhzzZN  COMPLETED\n",
      "TRACK 72  in  spotify:track:7llWWKHL9yQ5qvdTaDq1lx  COMPLETED\n"
     ]
    },
    {
     "name": "stderr",
     "output_type": "stream",
     "text": [
      "C:\\Users\\Uma Bala\\AppData\\Local\\Temp\\ipykernel_23008\\1248639595.py:50: FutureWarning: The frame.append method is deprecated and will be removed from pandas in a future version. Use pandas.concat instead.\n",
      "  df2 = df2.append(data, ignore_index=True)\n"
     ]
    },
    {
     "name": "stdout",
     "output_type": "stream",
     "text": [
      "TRACK 73  in  spotify:track:0jxtyoqNmpiydG42uetIgH  COMPLETED\n"
     ]
    },
    {
     "name": "stderr",
     "output_type": "stream",
     "text": [
      "C:\\Users\\Uma Bala\\AppData\\Local\\Temp\\ipykernel_23008\\1248639595.py:50: FutureWarning: The frame.append method is deprecated and will be removed from pandas in a future version. Use pandas.concat instead.\n",
      "  df2 = df2.append(data, ignore_index=True)\n"
     ]
    },
    {
     "name": "stdout",
     "output_type": "stream",
     "text": [
      "TRACK 74  in  spotify:track:15SyWxtAhhM4O5IyTc7crO  COMPLETED\n"
     ]
    },
    {
     "name": "stderr",
     "output_type": "stream",
     "text": [
      "C:\\Users\\Uma Bala\\AppData\\Local\\Temp\\ipykernel_23008\\1248639595.py:50: FutureWarning: The frame.append method is deprecated and will be removed from pandas in a future version. Use pandas.concat instead.\n",
      "  df2 = df2.append(data, ignore_index=True)\n",
      "C:\\Users\\Uma Bala\\AppData\\Local\\Temp\\ipykernel_23008\\1248639595.py:50: FutureWarning: The frame.append method is deprecated and will be removed from pandas in a future version. Use pandas.concat instead.\n",
      "  df2 = df2.append(data, ignore_index=True)\n"
     ]
    },
    {
     "name": "stdout",
     "output_type": "stream",
     "text": [
      "TRACK 75  in  spotify:track:2zu30LdbP8392UxdpWrWG9  COMPLETED\n",
      "TRACK 76  in  spotify:track:3EmBn7AWEv5DETtMba53G2  COMPLETED\n"
     ]
    },
    {
     "name": "stderr",
     "output_type": "stream",
     "text": [
      "C:\\Users\\Uma Bala\\AppData\\Local\\Temp\\ipykernel_23008\\1248639595.py:50: FutureWarning: The frame.append method is deprecated and will be removed from pandas in a future version. Use pandas.concat instead.\n",
      "  df2 = df2.append(data, ignore_index=True)\n",
      "C:\\Users\\Uma Bala\\AppData\\Local\\Temp\\ipykernel_23008\\1248639595.py:50: FutureWarning: The frame.append method is deprecated and will be removed from pandas in a future version. Use pandas.concat instead.\n",
      "  df2 = df2.append(data, ignore_index=True)\n"
     ]
    },
    {
     "name": "stdout",
     "output_type": "stream",
     "text": [
      "TRACK 77  in  spotify:track:38zR7iGnoSlGuKTJqREVAc  COMPLETED\n",
      "TRACK 78  in  spotify:track:1VRQFOvXE70lVleKrcopIh  COMPLETED\n"
     ]
    },
    {
     "name": "stderr",
     "output_type": "stream",
     "text": [
      "C:\\Users\\Uma Bala\\AppData\\Local\\Temp\\ipykernel_23008\\1248639595.py:50: FutureWarning: The frame.append method is deprecated and will be removed from pandas in a future version. Use pandas.concat instead.\n",
      "  df2 = df2.append(data, ignore_index=True)\n",
      "C:\\Users\\Uma Bala\\AppData\\Local\\Temp\\ipykernel_23008\\1248639595.py:50: FutureWarning: The frame.append method is deprecated and will be removed from pandas in a future version. Use pandas.concat instead.\n",
      "  df2 = df2.append(data, ignore_index=True)\n"
     ]
    },
    {
     "name": "stdout",
     "output_type": "stream",
     "text": [
      "TRACK 79  in  spotify:track:4PR5OrdSadNUFqqQJQzwgU  COMPLETED\n",
      "TRACK 80  in  spotify:track:24zY0AmocT2wwhipSKgSjX  COMPLETED\n"
     ]
    },
    {
     "name": "stderr",
     "output_type": "stream",
     "text": [
      "C:\\Users\\Uma Bala\\AppData\\Local\\Temp\\ipykernel_23008\\1248639595.py:50: FutureWarning: The frame.append method is deprecated and will be removed from pandas in a future version. Use pandas.concat instead.\n",
      "  df2 = df2.append(data, ignore_index=True)\n"
     ]
    },
    {
     "name": "stdout",
     "output_type": "stream",
     "text": [
      "TRACK 81  in  spotify:track:0QEf2fatV84AdwiAQCubAS  COMPLETED\n"
     ]
    },
    {
     "name": "stderr",
     "output_type": "stream",
     "text": [
      "C:\\Users\\Uma Bala\\AppData\\Local\\Temp\\ipykernel_23008\\1248639595.py:50: FutureWarning: The frame.append method is deprecated and will be removed from pandas in a future version. Use pandas.concat instead.\n",
      "  df2 = df2.append(data, ignore_index=True)\n"
     ]
    },
    {
     "name": "stdout",
     "output_type": "stream",
     "text": [
      "TRACK 82  in  spotify:track:0rEQCplEHnKloBbybRP8C1  COMPLETED\n"
     ]
    },
    {
     "name": "stderr",
     "output_type": "stream",
     "text": [
      "C:\\Users\\Uma Bala\\AppData\\Local\\Temp\\ipykernel_23008\\1248639595.py:50: FutureWarning: The frame.append method is deprecated and will be removed from pandas in a future version. Use pandas.concat instead.\n",
      "  df2 = df2.append(data, ignore_index=True)\n"
     ]
    },
    {
     "name": "stdout",
     "output_type": "stream",
     "text": [
      "TRACK 83  in  spotify:track:6dr7ekfhlbquvsVY8D7gyk  COMPLETED\n"
     ]
    },
    {
     "name": "stderr",
     "output_type": "stream",
     "text": [
      "C:\\Users\\Uma Bala\\AppData\\Local\\Temp\\ipykernel_23008\\1248639595.py:50: FutureWarning: The frame.append method is deprecated and will be removed from pandas in a future version. Use pandas.concat instead.\n",
      "  df2 = df2.append(data, ignore_index=True)\n"
     ]
    },
    {
     "name": "stdout",
     "output_type": "stream",
     "text": [
      "TRACK 84  in  spotify:track:7qfoq1JFKBUEIvhqOHzuqX  COMPLETED\n"
     ]
    },
    {
     "name": "stderr",
     "output_type": "stream",
     "text": [
      "C:\\Users\\Uma Bala\\AppData\\Local\\Temp\\ipykernel_23008\\1248639595.py:50: FutureWarning: The frame.append method is deprecated and will be removed from pandas in a future version. Use pandas.concat instead.\n",
      "  df2 = df2.append(data, ignore_index=True)\n",
      "C:\\Users\\Uma Bala\\AppData\\Local\\Temp\\ipykernel_23008\\1248639595.py:50: FutureWarning: The frame.append method is deprecated and will be removed from pandas in a future version. Use pandas.concat instead.\n",
      "  df2 = df2.append(data, ignore_index=True)\n"
     ]
    },
    {
     "name": "stdout",
     "output_type": "stream",
     "text": [
      "TRACK 85  in  spotify:track:4X4BLCtk0OuT6JJ8zOaTnv  COMPLETED\n",
      "TRACK 86  in  spotify:track:6bVcqoYbuS9h7O5XuxAXcf  COMPLETED\n"
     ]
    },
    {
     "name": "stderr",
     "output_type": "stream",
     "text": [
      "C:\\Users\\Uma Bala\\AppData\\Local\\Temp\\ipykernel_23008\\1248639595.py:50: FutureWarning: The frame.append method is deprecated and will be removed from pandas in a future version. Use pandas.concat instead.\n",
      "  df2 = df2.append(data, ignore_index=True)\n",
      "C:\\Users\\Uma Bala\\AppData\\Local\\Temp\\ipykernel_23008\\1248639595.py:50: FutureWarning: The frame.append method is deprecated and will be removed from pandas in a future version. Use pandas.concat instead.\n",
      "  df2 = df2.append(data, ignore_index=True)\n"
     ]
    },
    {
     "name": "stdout",
     "output_type": "stream",
     "text": [
      "TRACK 87  in  spotify:track:2iT6yXX5L7ZoUGvw9kDObS  COMPLETED\n",
      "TRACK 88  in  spotify:track:4Kaw0HUTA9Q3z7Elnqvb8T  COMPLETED\n"
     ]
    },
    {
     "name": "stderr",
     "output_type": "stream",
     "text": [
      "C:\\Users\\Uma Bala\\AppData\\Local\\Temp\\ipykernel_23008\\1248639595.py:50: FutureWarning: The frame.append method is deprecated and will be removed from pandas in a future version. Use pandas.concat instead.\n",
      "  df2 = df2.append(data, ignore_index=True)\n"
     ]
    },
    {
     "name": "stdout",
     "output_type": "stream",
     "text": [
      "TRACK 89  in  spotify:track:2ON9ajDazM2tcZqm39U7Da  COMPLETED\n"
     ]
    },
    {
     "name": "stderr",
     "output_type": "stream",
     "text": [
      "C:\\Users\\Uma Bala\\AppData\\Local\\Temp\\ipykernel_23008\\1248639595.py:50: FutureWarning: The frame.append method is deprecated and will be removed from pandas in a future version. Use pandas.concat instead.\n",
      "  df2 = df2.append(data, ignore_index=True)\n",
      "C:\\Users\\Uma Bala\\AppData\\Local\\Temp\\ipykernel_23008\\1248639595.py:50: FutureWarning: The frame.append method is deprecated and will be removed from pandas in a future version. Use pandas.concat instead.\n",
      "  df2 = df2.append(data, ignore_index=True)\n"
     ]
    },
    {
     "name": "stdout",
     "output_type": "stream",
     "text": [
      "TRACK 90  in  spotify:track:3UgRSsqHWfMkvt5UAxM6KC  COMPLETED\n",
      "TRACK 91  in  spotify:track:4ka1FkKAMde6dQAFFMXKac  COMPLETED\n"
     ]
    },
    {
     "name": "stderr",
     "output_type": "stream",
     "text": [
      "C:\\Users\\Uma Bala\\AppData\\Local\\Temp\\ipykernel_23008\\1248639595.py:50: FutureWarning: The frame.append method is deprecated and will be removed from pandas in a future version. Use pandas.concat instead.\n",
      "  df2 = df2.append(data, ignore_index=True)\n"
     ]
    },
    {
     "name": "stdout",
     "output_type": "stream",
     "text": [
      "TRACK 92  in  spotify:track:4j8oKql9b9oNCXKMY5RNqn  COMPLETED\n"
     ]
    },
    {
     "name": "stderr",
     "output_type": "stream",
     "text": [
      "C:\\Users\\Uma Bala\\AppData\\Local\\Temp\\ipykernel_23008\\1248639595.py:50: FutureWarning: The frame.append method is deprecated and will be removed from pandas in a future version. Use pandas.concat instead.\n",
      "  df2 = df2.append(data, ignore_index=True)\n"
     ]
    },
    {
     "name": "stdout",
     "output_type": "stream",
     "text": [
      "TRACK 93  in  spotify:track:1qKdHvsi4ZM3Tlgt6ov2v3  COMPLETED\n"
     ]
    },
    {
     "name": "stderr",
     "output_type": "stream",
     "text": [
      "C:\\Users\\Uma Bala\\AppData\\Local\\Temp\\ipykernel_23008\\1248639595.py:50: FutureWarning: The frame.append method is deprecated and will be removed from pandas in a future version. Use pandas.concat instead.\n",
      "  df2 = df2.append(data, ignore_index=True)\n"
     ]
    },
    {
     "name": "stdout",
     "output_type": "stream",
     "text": [
      "TRACK 94  in  spotify:track:5jzX4dWVQeBTtfBaXnMRt5  COMPLETED\n"
     ]
    },
    {
     "name": "stderr",
     "output_type": "stream",
     "text": [
      "C:\\Users\\Uma Bala\\AppData\\Local\\Temp\\ipykernel_23008\\1248639595.py:50: FutureWarning: The frame.append method is deprecated and will be removed from pandas in a future version. Use pandas.concat instead.\n",
      "  df2 = df2.append(data, ignore_index=True)\n"
     ]
    },
    {
     "name": "stdout",
     "output_type": "stream",
     "text": [
      "TRACK 95  in  spotify:track:0w5Bdu51Ka25Pf3hojsKHh  COMPLETED\n"
     ]
    },
    {
     "name": "stderr",
     "output_type": "stream",
     "text": [
      "C:\\Users\\Uma Bala\\AppData\\Local\\Temp\\ipykernel_23008\\1248639595.py:50: FutureWarning: The frame.append method is deprecated and will be removed from pandas in a future version. Use pandas.concat instead.\n",
      "  df2 = df2.append(data, ignore_index=True)\n"
     ]
    },
    {
     "name": "stdout",
     "output_type": "stream",
     "text": [
      "TRACK 96  in  spotify:track:5TdbSCRdrZDC8yK19l7fou  COMPLETED\n"
     ]
    },
    {
     "name": "stderr",
     "output_type": "stream",
     "text": [
      "C:\\Users\\Uma Bala\\AppData\\Local\\Temp\\ipykernel_23008\\1248639595.py:50: FutureWarning: The frame.append method is deprecated and will be removed from pandas in a future version. Use pandas.concat instead.\n",
      "  df2 = df2.append(data, ignore_index=True)\n"
     ]
    },
    {
     "name": "stdout",
     "output_type": "stream",
     "text": [
      "TRACK 97  in  spotify:track:5KPmp3AYVAYb3Rv2Cbzqzp  COMPLETED\n"
     ]
    },
    {
     "name": "stderr",
     "output_type": "stream",
     "text": [
      "C:\\Users\\Uma Bala\\AppData\\Local\\Temp\\ipykernel_23008\\1248639595.py:50: FutureWarning: The frame.append method is deprecated and will be removed from pandas in a future version. Use pandas.concat instead.\n",
      "  df2 = df2.append(data, ignore_index=True)\n"
     ]
    },
    {
     "name": "stdout",
     "output_type": "stream",
     "text": [
      "TRACK 98  in  spotify:track:7brQHA2CgQpcMBiOlfiXYb  COMPLETED\n"
     ]
    },
    {
     "name": "stderr",
     "output_type": "stream",
     "text": [
      "C:\\Users\\Uma Bala\\AppData\\Local\\Temp\\ipykernel_23008\\1248639595.py:50: FutureWarning: The frame.append method is deprecated and will be removed from pandas in a future version. Use pandas.concat instead.\n",
      "  df2 = df2.append(data, ignore_index=True)\n"
     ]
    },
    {
     "name": "stdout",
     "output_type": "stream",
     "text": [
      "TRACK 99  in  spotify:track:0BxE4FqsDD1Ot4YuBXwAPp  COMPLETED\n"
     ]
    },
    {
     "name": "stderr",
     "output_type": "stream",
     "text": [
      "C:\\Users\\Uma Bala\\AppData\\Local\\Temp\\ipykernel_23008\\1248639595.py:50: FutureWarning: The frame.append method is deprecated and will be removed from pandas in a future version. Use pandas.concat instead.\n",
      "  df2 = df2.append(data, ignore_index=True)\n"
     ]
    },
    {
     "name": "stdout",
     "output_type": "stream",
     "text": [
      "TRACK 100  in  spotify:track:1rRwwqteLePmi70PGaC8ah  COMPLETED\n"
     ]
    },
    {
     "name": "stderr",
     "output_type": "stream",
     "text": [
      "C:\\Users\\Uma Bala\\AppData\\Local\\Temp\\ipykernel_23008\\1248639595.py:50: FutureWarning: The frame.append method is deprecated and will be removed from pandas in a future version. Use pandas.concat instead.\n",
      "  df2 = df2.append(data, ignore_index=True)\n"
     ]
    },
    {
     "name": "stdout",
     "output_type": "stream",
     "text": [
      "TRACK 1  in  spotify:track:6jO4hIq5R81hMYgOBGqqfo  COMPLETED\n"
     ]
    },
    {
     "name": "stderr",
     "output_type": "stream",
     "text": [
      "C:\\Users\\Uma Bala\\AppData\\Local\\Temp\\ipykernel_23008\\1248639595.py:50: FutureWarning: The frame.append method is deprecated and will be removed from pandas in a future version. Use pandas.concat instead.\n",
      "  df2 = df2.append(data, ignore_index=True)\n"
     ]
    },
    {
     "name": "stdout",
     "output_type": "stream",
     "text": [
      "TRACK 2  in  spotify:track:76zUp5zTxfcXTPvCfkRzgm  COMPLETED\n"
     ]
    },
    {
     "name": "stderr",
     "output_type": "stream",
     "text": [
      "C:\\Users\\Uma Bala\\AppData\\Local\\Temp\\ipykernel_23008\\1248639595.py:50: FutureWarning: The frame.append method is deprecated and will be removed from pandas in a future version. Use pandas.concat instead.\n",
      "  df2 = df2.append(data, ignore_index=True)\n"
     ]
    },
    {
     "name": "stdout",
     "output_type": "stream",
     "text": [
      "TRACK 3  in  spotify:track:5hnbeU7sovzIrN8vbLuVpB  COMPLETED\n"
     ]
    },
    {
     "name": "stderr",
     "output_type": "stream",
     "text": [
      "C:\\Users\\Uma Bala\\AppData\\Local\\Temp\\ipykernel_23008\\1248639595.py:50: FutureWarning: The frame.append method is deprecated and will be removed from pandas in a future version. Use pandas.concat instead.\n",
      "  df2 = df2.append(data, ignore_index=True)\n"
     ]
    },
    {
     "name": "stdout",
     "output_type": "stream",
     "text": [
      "TRACK 4  in  spotify:track:2gj9j8cRhnLF9tiCQHsJ24  COMPLETED\n"
     ]
    },
    {
     "name": "stderr",
     "output_type": "stream",
     "text": [
      "C:\\Users\\Uma Bala\\AppData\\Local\\Temp\\ipykernel_23008\\1248639595.py:50: FutureWarning: The frame.append method is deprecated and will be removed from pandas in a future version. Use pandas.concat instead.\n",
      "  df2 = df2.append(data, ignore_index=True)\n"
     ]
    },
    {
     "name": "stdout",
     "output_type": "stream",
     "text": [
      "TRACK 5  in  spotify:track:4CUMGh7zZjTdPJkGM2EUgW  COMPLETED\n"
     ]
    },
    {
     "name": "stderr",
     "output_type": "stream",
     "text": [
      "C:\\Users\\Uma Bala\\AppData\\Local\\Temp\\ipykernel_23008\\1248639595.py:50: FutureWarning: The frame.append method is deprecated and will be removed from pandas in a future version. Use pandas.concat instead.\n",
      "  df2 = df2.append(data, ignore_index=True)\n"
     ]
    },
    {
     "name": "stdout",
     "output_type": "stream",
     "text": [
      "TRACK 6  in  spotify:track:4peypUAgkvKskWsE1S4BiP  COMPLETED\n"
     ]
    },
    {
     "name": "stderr",
     "output_type": "stream",
     "text": [
      "C:\\Users\\Uma Bala\\AppData\\Local\\Temp\\ipykernel_23008\\1248639595.py:50: FutureWarning: The frame.append method is deprecated and will be removed from pandas in a future version. Use pandas.concat instead.\n",
      "  df2 = df2.append(data, ignore_index=True)\n",
      "C:\\Users\\Uma Bala\\AppData\\Local\\Temp\\ipykernel_23008\\1248639595.py:50: FutureWarning: The frame.append method is deprecated and will be removed from pandas in a future version. Use pandas.concat instead.\n",
      "  df2 = df2.append(data, ignore_index=True)\n"
     ]
    },
    {
     "name": "stdout",
     "output_type": "stream",
     "text": [
      "TRACK 7  in  spotify:track:03jS8rcaByXyfSFmSLhkN6  COMPLETED\n",
      "TRACK 8  in  spotify:track:2Dd4c7HAPEs67ca7CPdBDn  COMPLETED\n"
     ]
    },
    {
     "name": "stderr",
     "output_type": "stream",
     "text": [
      "C:\\Users\\Uma Bala\\AppData\\Local\\Temp\\ipykernel_23008\\1248639595.py:50: FutureWarning: The frame.append method is deprecated and will be removed from pandas in a future version. Use pandas.concat instead.\n",
      "  df2 = df2.append(data, ignore_index=True)\n"
     ]
    },
    {
     "name": "stdout",
     "output_type": "stream",
     "text": [
      "TRACK 9  in  spotify:track:1bQ5gQOyzWbPl6TXFuvi8z  COMPLETED\n"
     ]
    },
    {
     "name": "stderr",
     "output_type": "stream",
     "text": [
      "C:\\Users\\Uma Bala\\AppData\\Local\\Temp\\ipykernel_23008\\1248639595.py:50: FutureWarning: The frame.append method is deprecated and will be removed from pandas in a future version. Use pandas.concat instead.\n",
      "  df2 = df2.append(data, ignore_index=True)\n"
     ]
    },
    {
     "name": "stdout",
     "output_type": "stream",
     "text": [
      "TRACK 10  in  spotify:track:6tNzuncNnhrrF6nUDWK4wh  COMPLETED\n"
     ]
    },
    {
     "name": "stderr",
     "output_type": "stream",
     "text": [
      "C:\\Users\\Uma Bala\\AppData\\Local\\Temp\\ipykernel_23008\\1248639595.py:50: FutureWarning: The frame.append method is deprecated and will be removed from pandas in a future version. Use pandas.concat instead.\n",
      "  df2 = df2.append(data, ignore_index=True)\n"
     ]
    },
    {
     "name": "stdout",
     "output_type": "stream",
     "text": [
      "TRACK 11  in  spotify:track:3promGTTwsn1N5D6RzaFMV  COMPLETED\n"
     ]
    },
    {
     "name": "stderr",
     "output_type": "stream",
     "text": [
      "C:\\Users\\Uma Bala\\AppData\\Local\\Temp\\ipykernel_23008\\1248639595.py:50: FutureWarning: The frame.append method is deprecated and will be removed from pandas in a future version. Use pandas.concat instead.\n",
      "  df2 = df2.append(data, ignore_index=True)\n"
     ]
    },
    {
     "name": "stdout",
     "output_type": "stream",
     "text": [
      "TRACK 12  in  spotify:track:0BJHFunrXh8e7NFQzi8crG  COMPLETED\n"
     ]
    },
    {
     "name": "stderr",
     "output_type": "stream",
     "text": [
      "C:\\Users\\Uma Bala\\AppData\\Local\\Temp\\ipykernel_23008\\1248639595.py:50: FutureWarning: The frame.append method is deprecated and will be removed from pandas in a future version. Use pandas.concat instead.\n",
      "  df2 = df2.append(data, ignore_index=True)\n"
     ]
    },
    {
     "name": "stdout",
     "output_type": "stream",
     "text": [
      "TRACK 13  in  spotify:track:46jmjqzkZLmzcGrSQBxe07  COMPLETED\n"
     ]
    },
    {
     "name": "stderr",
     "output_type": "stream",
     "text": [
      "C:\\Users\\Uma Bala\\AppData\\Local\\Temp\\ipykernel_23008\\1248639595.py:50: FutureWarning: The frame.append method is deprecated and will be removed from pandas in a future version. Use pandas.concat instead.\n",
      "  df2 = df2.append(data, ignore_index=True)\n"
     ]
    },
    {
     "name": "stdout",
     "output_type": "stream",
     "text": [
      "TRACK 14  in  spotify:track:2C1OU4tDuqj0sMQoQOLyl2  COMPLETED\n"
     ]
    },
    {
     "name": "stderr",
     "output_type": "stream",
     "text": [
      "C:\\Users\\Uma Bala\\AppData\\Local\\Temp\\ipykernel_23008\\1248639595.py:50: FutureWarning: The frame.append method is deprecated and will be removed from pandas in a future version. Use pandas.concat instead.\n",
      "  df2 = df2.append(data, ignore_index=True)\n"
     ]
    },
    {
     "name": "stdout",
     "output_type": "stream",
     "text": [
      "TRACK 15  in  spotify:track:6uInXwZ8Q8nKFPq0ZtI3vw  COMPLETED\n"
     ]
    },
    {
     "name": "stderr",
     "output_type": "stream",
     "text": [
      "C:\\Users\\Uma Bala\\AppData\\Local\\Temp\\ipykernel_23008\\1248639595.py:50: FutureWarning: The frame.append method is deprecated and will be removed from pandas in a future version. Use pandas.concat instead.\n",
      "  df2 = df2.append(data, ignore_index=True)\n"
     ]
    },
    {
     "name": "stdout",
     "output_type": "stream",
     "text": [
      "TRACK 16  in  spotify:track:3j8tBYmObc2xRt8iorETRX  COMPLETED\n"
     ]
    },
    {
     "name": "stderr",
     "output_type": "stream",
     "text": [
      "C:\\Users\\Uma Bala\\AppData\\Local\\Temp\\ipykernel_23008\\1248639595.py:50: FutureWarning: The frame.append method is deprecated and will be removed from pandas in a future version. Use pandas.concat instead.\n",
      "  df2 = df2.append(data, ignore_index=True)\n"
     ]
    },
    {
     "name": "stdout",
     "output_type": "stream",
     "text": [
      "TRACK 17  in  spotify:track:7jpcFYI4AEimC0kkFwMiJX  COMPLETED\n"
     ]
    },
    {
     "name": "stderr",
     "output_type": "stream",
     "text": [
      "C:\\Users\\Uma Bala\\AppData\\Local\\Temp\\ipykernel_23008\\1248639595.py:50: FutureWarning: The frame.append method is deprecated and will be removed from pandas in a future version. Use pandas.concat instead.\n",
      "  df2 = df2.append(data, ignore_index=True)\n"
     ]
    },
    {
     "name": "stdout",
     "output_type": "stream",
     "text": [
      "TRACK 18  in  spotify:track:7DHEHWkrnrn2PvcR7lnD10  COMPLETED\n"
     ]
    },
    {
     "name": "stderr",
     "output_type": "stream",
     "text": [
      "C:\\Users\\Uma Bala\\AppData\\Local\\Temp\\ipykernel_23008\\1248639595.py:50: FutureWarning: The frame.append method is deprecated and will be removed from pandas in a future version. Use pandas.concat instead.\n",
      "  df2 = df2.append(data, ignore_index=True)\n",
      "C:\\Users\\Uma Bala\\AppData\\Local\\Temp\\ipykernel_23008\\1248639595.py:50: FutureWarning: The frame.append method is deprecated and will be removed from pandas in a future version. Use pandas.concat instead.\n",
      "  df2 = df2.append(data, ignore_index=True)\n"
     ]
    },
    {
     "name": "stdout",
     "output_type": "stream",
     "text": [
      "TRACK 19  in  spotify:track:72jFoOulGip53D9qZWMvi2  COMPLETED\n",
      "TRACK 20  in  spotify:track:1pkQzIwtc31VPmnNwoXql6  COMPLETED\n"
     ]
    },
    {
     "name": "stderr",
     "output_type": "stream",
     "text": [
      "C:\\Users\\Uma Bala\\AppData\\Local\\Temp\\ipykernel_23008\\1248639595.py:50: FutureWarning: The frame.append method is deprecated and will be removed from pandas in a future version. Use pandas.concat instead.\n",
      "  df2 = df2.append(data, ignore_index=True)\n"
     ]
    },
    {
     "name": "stdout",
     "output_type": "stream",
     "text": [
      "TRACK 21  in  spotify:track:4Bv2byJ032aTBrTZRau3C8  COMPLETED\n"
     ]
    },
    {
     "name": "stderr",
     "output_type": "stream",
     "text": [
      "C:\\Users\\Uma Bala\\AppData\\Local\\Temp\\ipykernel_23008\\1248639595.py:50: FutureWarning: The frame.append method is deprecated and will be removed from pandas in a future version. Use pandas.concat instead.\n",
      "  df2 = df2.append(data, ignore_index=True)\n"
     ]
    },
    {
     "name": "stdout",
     "output_type": "stream",
     "text": [
      "TRACK 22  in  spotify:track:7xMUvEqBXKrgJyJrx0td5M  COMPLETED\n"
     ]
    },
    {
     "name": "stderr",
     "output_type": "stream",
     "text": [
      "C:\\Users\\Uma Bala\\AppData\\Local\\Temp\\ipykernel_23008\\1248639595.py:50: FutureWarning: The frame.append method is deprecated and will be removed from pandas in a future version. Use pandas.concat instead.\n",
      "  df2 = df2.append(data, ignore_index=True)\n",
      "C:\\Users\\Uma Bala\\AppData\\Local\\Temp\\ipykernel_23008\\1248639595.py:50: FutureWarning: The frame.append method is deprecated and will be removed from pandas in a future version. Use pandas.concat instead.\n",
      "  df2 = df2.append(data, ignore_index=True)\n"
     ]
    },
    {
     "name": "stdout",
     "output_type": "stream",
     "text": [
      "TRACK 23  in  spotify:track:6MNxGaThFJ4MwLdEFAbgGc  COMPLETED\n",
      "TRACK 24  in  spotify:track:1fdDleY6MFg9PW9U0qR5Sc  COMPLETED\n"
     ]
    },
    {
     "name": "stderr",
     "output_type": "stream",
     "text": [
      "C:\\Users\\Uma Bala\\AppData\\Local\\Temp\\ipykernel_23008\\1248639595.py:50: FutureWarning: The frame.append method is deprecated and will be removed from pandas in a future version. Use pandas.concat instead.\n",
      "  df2 = df2.append(data, ignore_index=True)\n"
     ]
    },
    {
     "name": "stdout",
     "output_type": "stream",
     "text": [
      "TRACK 25  in  spotify:track:5B2buPzEw1CPaLujWNwB0B  COMPLETED\n"
     ]
    },
    {
     "name": "stderr",
     "output_type": "stream",
     "text": [
      "C:\\Users\\Uma Bala\\AppData\\Local\\Temp\\ipykernel_23008\\1248639595.py:50: FutureWarning: The frame.append method is deprecated and will be removed from pandas in a future version. Use pandas.concat instead.\n",
      "  df2 = df2.append(data, ignore_index=True)\n",
      "C:\\Users\\Uma Bala\\AppData\\Local\\Temp\\ipykernel_23008\\1248639595.py:50: FutureWarning: The frame.append method is deprecated and will be removed from pandas in a future version. Use pandas.concat instead.\n",
      "  df2 = df2.append(data, ignore_index=True)\n"
     ]
    },
    {
     "name": "stdout",
     "output_type": "stream",
     "text": [
      "TRACK 26  in  spotify:track:1OtdAY1S1eT3krI8qPSDPm  COMPLETED\n",
      "TRACK 27  in  spotify:track:0GCoQ40UZsVXIwNmlILpi1  COMPLETED\n"
     ]
    },
    {
     "name": "stderr",
     "output_type": "stream",
     "text": [
      "C:\\Users\\Uma Bala\\AppData\\Local\\Temp\\ipykernel_23008\\1248639595.py:50: FutureWarning: The frame.append method is deprecated and will be removed from pandas in a future version. Use pandas.concat instead.\n",
      "  df2 = df2.append(data, ignore_index=True)\n",
      "C:\\Users\\Uma Bala\\AppData\\Local\\Temp\\ipykernel_23008\\1248639595.py:50: FutureWarning: The frame.append method is deprecated and will be removed from pandas in a future version. Use pandas.concat instead.\n",
      "  df2 = df2.append(data, ignore_index=True)\n"
     ]
    },
    {
     "name": "stdout",
     "output_type": "stream",
     "text": [
      "TRACK 28  in  spotify:track:6DcO8ntdKhgzLI8EdFnnKz  COMPLETED\n",
      "TRACK 29  in  spotify:track:2Lp3YWgTMuA94YhwCg3nY6  COMPLETED\n"
     ]
    },
    {
     "name": "stderr",
     "output_type": "stream",
     "text": [
      "C:\\Users\\Uma Bala\\AppData\\Local\\Temp\\ipykernel_23008\\1248639595.py:50: FutureWarning: The frame.append method is deprecated and will be removed from pandas in a future version. Use pandas.concat instead.\n",
      "  df2 = df2.append(data, ignore_index=True)\n"
     ]
    },
    {
     "name": "stdout",
     "output_type": "stream",
     "text": [
      "TRACK 30  in  spotify:track:7ghGXQ35C6TzF7fLRyqS1I  COMPLETED\n"
     ]
    },
    {
     "name": "stderr",
     "output_type": "stream",
     "text": [
      "C:\\Users\\Uma Bala\\AppData\\Local\\Temp\\ipykernel_23008\\1248639595.py:50: FutureWarning: The frame.append method is deprecated and will be removed from pandas in a future version. Use pandas.concat instead.\n",
      "  df2 = df2.append(data, ignore_index=True)\n"
     ]
    },
    {
     "name": "stdout",
     "output_type": "stream",
     "text": [
      "TRACK 31  in  spotify:track:4EzVsSkEdO7JJRe80MxtQk  COMPLETED\n"
     ]
    },
    {
     "name": "stderr",
     "output_type": "stream",
     "text": [
      "C:\\Users\\Uma Bala\\AppData\\Local\\Temp\\ipykernel_23008\\1248639595.py:50: FutureWarning: The frame.append method is deprecated and will be removed from pandas in a future version. Use pandas.concat instead.\n",
      "  df2 = df2.append(data, ignore_index=True)\n"
     ]
    },
    {
     "name": "stdout",
     "output_type": "stream",
     "text": [
      "TRACK 32  in  spotify:track:3PSbLXF1CzdE94euqEUeth  COMPLETED\n"
     ]
    },
    {
     "name": "stderr",
     "output_type": "stream",
     "text": [
      "C:\\Users\\Uma Bala\\AppData\\Local\\Temp\\ipykernel_23008\\1248639595.py:50: FutureWarning: The frame.append method is deprecated and will be removed from pandas in a future version. Use pandas.concat instead.\n",
      "  df2 = df2.append(data, ignore_index=True)\n"
     ]
    },
    {
     "name": "stdout",
     "output_type": "stream",
     "text": [
      "TRACK 33  in  spotify:track:20L6erw0ny2hiwQg8c1Dj4  COMPLETED\n"
     ]
    },
    {
     "name": "stderr",
     "output_type": "stream",
     "text": [
      "C:\\Users\\Uma Bala\\AppData\\Local\\Temp\\ipykernel_23008\\1248639595.py:50: FutureWarning: The frame.append method is deprecated and will be removed from pandas in a future version. Use pandas.concat instead.\n",
      "  df2 = df2.append(data, ignore_index=True)\n"
     ]
    },
    {
     "name": "stdout",
     "output_type": "stream",
     "text": [
      "TRACK 34  in  spotify:track:0t9OqmA9tMhVuwIMyjvsN6  COMPLETED\n"
     ]
    },
    {
     "name": "stderr",
     "output_type": "stream",
     "text": [
      "C:\\Users\\Uma Bala\\AppData\\Local\\Temp\\ipykernel_23008\\1248639595.py:50: FutureWarning: The frame.append method is deprecated and will be removed from pandas in a future version. Use pandas.concat instead.\n",
      "  df2 = df2.append(data, ignore_index=True)\n"
     ]
    },
    {
     "name": "stdout",
     "output_type": "stream",
     "text": [
      "TRACK 35  in  spotify:track:2xWMkymAgPR6PQVtmdC562  COMPLETED\n"
     ]
    },
    {
     "name": "stderr",
     "output_type": "stream",
     "text": [
      "C:\\Users\\Uma Bala\\AppData\\Local\\Temp\\ipykernel_23008\\1248639595.py:50: FutureWarning: The frame.append method is deprecated and will be removed from pandas in a future version. Use pandas.concat instead.\n",
      "  df2 = df2.append(data, ignore_index=True)\n"
     ]
    },
    {
     "name": "stdout",
     "output_type": "stream",
     "text": [
      "TRACK 36  in  spotify:track:4M67XeHxGa3f8EYU6moG2C  COMPLETED\n"
     ]
    },
    {
     "name": "stderr",
     "output_type": "stream",
     "text": [
      "C:\\Users\\Uma Bala\\AppData\\Local\\Temp\\ipykernel_23008\\1248639595.py:50: FutureWarning: The frame.append method is deprecated and will be removed from pandas in a future version. Use pandas.concat instead.\n",
      "  df2 = df2.append(data, ignore_index=True)\n"
     ]
    },
    {
     "name": "stdout",
     "output_type": "stream",
     "text": [
      "TRACK 37  in  spotify:track:6XiqdnMk2LLbmybmyx30jD  COMPLETED\n"
     ]
    },
    {
     "name": "stderr",
     "output_type": "stream",
     "text": [
      "C:\\Users\\Uma Bala\\AppData\\Local\\Temp\\ipykernel_23008\\1248639595.py:50: FutureWarning: The frame.append method is deprecated and will be removed from pandas in a future version. Use pandas.concat instead.\n",
      "  df2 = df2.append(data, ignore_index=True)\n"
     ]
    },
    {
     "name": "stdout",
     "output_type": "stream",
     "text": [
      "TRACK 38  in  spotify:track:2Gzod3NHDRxgAxwPR1XUJC  COMPLETED\n"
     ]
    },
    {
     "name": "stderr",
     "output_type": "stream",
     "text": [
      "C:\\Users\\Uma Bala\\AppData\\Local\\Temp\\ipykernel_23008\\1248639595.py:50: FutureWarning: The frame.append method is deprecated and will be removed from pandas in a future version. Use pandas.concat instead.\n",
      "  df2 = df2.append(data, ignore_index=True)\n"
     ]
    },
    {
     "name": "stdout",
     "output_type": "stream",
     "text": [
      "TRACK 39  in  spotify:track:1ddKUwm3UuvcMWLLAgOIcX  COMPLETED\n"
     ]
    },
    {
     "name": "stderr",
     "output_type": "stream",
     "text": [
      "C:\\Users\\Uma Bala\\AppData\\Local\\Temp\\ipykernel_23008\\1248639595.py:50: FutureWarning: The frame.append method is deprecated and will be removed from pandas in a future version. Use pandas.concat instead.\n",
      "  df2 = df2.append(data, ignore_index=True)\n",
      "C:\\Users\\Uma Bala\\AppData\\Local\\Temp\\ipykernel_23008\\1248639595.py:50: FutureWarning: The frame.append method is deprecated and will be removed from pandas in a future version. Use pandas.concat instead.\n",
      "  df2 = df2.append(data, ignore_index=True)\n"
     ]
    },
    {
     "name": "stdout",
     "output_type": "stream",
     "text": [
      "TRACK 40  in  spotify:track:4hSwS6JzxRagNHmkeXQynn  COMPLETED\n",
      "TRACK 41  in  spotify:track:2YyvWje3cEYyqgYhNUIaBJ  COMPLETED\n"
     ]
    },
    {
     "name": "stderr",
     "output_type": "stream",
     "text": [
      "C:\\Users\\Uma Bala\\AppData\\Local\\Temp\\ipykernel_23008\\1248639595.py:50: FutureWarning: The frame.append method is deprecated and will be removed from pandas in a future version. Use pandas.concat instead.\n",
      "  df2 = df2.append(data, ignore_index=True)\n"
     ]
    },
    {
     "name": "stdout",
     "output_type": "stream",
     "text": [
      "TRACK 42  in  spotify:track:4WjTbrxOPvSwQlajlE4aXH  COMPLETED\n"
     ]
    },
    {
     "name": "stderr",
     "output_type": "stream",
     "text": [
      "C:\\Users\\Uma Bala\\AppData\\Local\\Temp\\ipykernel_23008\\1248639595.py:50: FutureWarning: The frame.append method is deprecated and will be removed from pandas in a future version. Use pandas.concat instead.\n",
      "  df2 = df2.append(data, ignore_index=True)\n"
     ]
    },
    {
     "name": "stdout",
     "output_type": "stream",
     "text": [
      "TRACK 43  in  spotify:track:5Z0AM9HW78XIyZqF2BPasr  COMPLETED\n"
     ]
    },
    {
     "name": "stderr",
     "output_type": "stream",
     "text": [
      "C:\\Users\\Uma Bala\\AppData\\Local\\Temp\\ipykernel_23008\\1248639595.py:50: FutureWarning: The frame.append method is deprecated and will be removed from pandas in a future version. Use pandas.concat instead.\n",
      "  df2 = df2.append(data, ignore_index=True)\n"
     ]
    },
    {
     "name": "stdout",
     "output_type": "stream",
     "text": [
      "TRACK 44  in  spotify:track:1Pj5oOFzLYELyyeh1IYRK0  COMPLETED\n"
     ]
    },
    {
     "name": "stderr",
     "output_type": "stream",
     "text": [
      "C:\\Users\\Uma Bala\\AppData\\Local\\Temp\\ipykernel_23008\\1248639595.py:50: FutureWarning: The frame.append method is deprecated and will be removed from pandas in a future version. Use pandas.concat instead.\n",
      "  df2 = df2.append(data, ignore_index=True)\n"
     ]
    },
    {
     "name": "stdout",
     "output_type": "stream",
     "text": [
      "TRACK 45  in  spotify:track:6lZRybpY3OTgnufOBR91dg  COMPLETED\n"
     ]
    },
    {
     "name": "stderr",
     "output_type": "stream",
     "text": [
      "C:\\Users\\Uma Bala\\AppData\\Local\\Temp\\ipykernel_23008\\1248639595.py:50: FutureWarning: The frame.append method is deprecated and will be removed from pandas in a future version. Use pandas.concat instead.\n",
      "  df2 = df2.append(data, ignore_index=True)\n"
     ]
    },
    {
     "name": "stdout",
     "output_type": "stream",
     "text": [
      "TRACK 46  in  spotify:track:04KTrP2O7Ec8hUwwxgpMyU  COMPLETED\n"
     ]
    },
    {
     "name": "stderr",
     "output_type": "stream",
     "text": [
      "C:\\Users\\Uma Bala\\AppData\\Local\\Temp\\ipykernel_23008\\1248639595.py:50: FutureWarning: The frame.append method is deprecated and will be removed from pandas in a future version. Use pandas.concat instead.\n",
      "  df2 = df2.append(data, ignore_index=True)\n"
     ]
    },
    {
     "name": "stdout",
     "output_type": "stream",
     "text": [
      "TRACK 47  in  spotify:track:0InBxsYqlQjnmkFjqFGLtv  COMPLETED\n"
     ]
    },
    {
     "name": "stderr",
     "output_type": "stream",
     "text": [
      "C:\\Users\\Uma Bala\\AppData\\Local\\Temp\\ipykernel_23008\\1248639595.py:50: FutureWarning: The frame.append method is deprecated and will be removed from pandas in a future version. Use pandas.concat instead.\n",
      "  df2 = df2.append(data, ignore_index=True)\n"
     ]
    },
    {
     "name": "stdout",
     "output_type": "stream",
     "text": [
      "TRACK 48  in  spotify:track:2ZsVEHmuoKQDRPfIqm9A8T  COMPLETED\n"
     ]
    },
    {
     "name": "stderr",
     "output_type": "stream",
     "text": [
      "C:\\Users\\Uma Bala\\AppData\\Local\\Temp\\ipykernel_23008\\1248639595.py:50: FutureWarning: The frame.append method is deprecated and will be removed from pandas in a future version. Use pandas.concat instead.\n",
      "  df2 = df2.append(data, ignore_index=True)\n"
     ]
    },
    {
     "name": "stdout",
     "output_type": "stream",
     "text": [
      "TRACK 49  in  spotify:track:60qoW9bpDjOXfbguBOsPq1  COMPLETED\n"
     ]
    },
    {
     "name": "stderr",
     "output_type": "stream",
     "text": [
      "C:\\Users\\Uma Bala\\AppData\\Local\\Temp\\ipykernel_23008\\1248639595.py:50: FutureWarning: The frame.append method is deprecated and will be removed from pandas in a future version. Use pandas.concat instead.\n",
      "  df2 = df2.append(data, ignore_index=True)\n"
     ]
    },
    {
     "name": "stdout",
     "output_type": "stream",
     "text": [
      "TRACK 50  in  spotify:track:7KbSUAzYY1UC1qRUCgAajw  COMPLETED\n"
     ]
    },
    {
     "name": "stderr",
     "output_type": "stream",
     "text": [
      "C:\\Users\\Uma Bala\\AppData\\Local\\Temp\\ipykernel_23008\\1248639595.py:50: FutureWarning: The frame.append method is deprecated and will be removed from pandas in a future version. Use pandas.concat instead.\n",
      "  df2 = df2.append(data, ignore_index=True)\n"
     ]
    },
    {
     "name": "stdout",
     "output_type": "stream",
     "text": [
      "TRACK 51  in  spotify:track:5jh0pYVpkdNZBhjlKZ1JOK  COMPLETED\n"
     ]
    },
    {
     "name": "stderr",
     "output_type": "stream",
     "text": [
      "C:\\Users\\Uma Bala\\AppData\\Local\\Temp\\ipykernel_23008\\1248639595.py:50: FutureWarning: The frame.append method is deprecated and will be removed from pandas in a future version. Use pandas.concat instead.\n",
      "  df2 = df2.append(data, ignore_index=True)\n"
     ]
    },
    {
     "name": "stdout",
     "output_type": "stream",
     "text": [
      "TRACK 52  in  spotify:track:4NzoEowcMzDs9ELjzlOvW5  COMPLETED\n"
     ]
    },
    {
     "name": "stderr",
     "output_type": "stream",
     "text": [
      "C:\\Users\\Uma Bala\\AppData\\Local\\Temp\\ipykernel_23008\\1248639595.py:50: FutureWarning: The frame.append method is deprecated and will be removed from pandas in a future version. Use pandas.concat instead.\n",
      "  df2 = df2.append(data, ignore_index=True)\n"
     ]
    },
    {
     "name": "stdout",
     "output_type": "stream",
     "text": [
      "TRACK 53  in  spotify:track:1xFkcJjWuLlq8CIymwSTw9  COMPLETED\n"
     ]
    },
    {
     "name": "stderr",
     "output_type": "stream",
     "text": [
      "C:\\Users\\Uma Bala\\AppData\\Local\\Temp\\ipykernel_23008\\1248639595.py:50: FutureWarning: The frame.append method is deprecated and will be removed from pandas in a future version. Use pandas.concat instead.\n",
      "  df2 = df2.append(data, ignore_index=True)\n"
     ]
    },
    {
     "name": "stdout",
     "output_type": "stream",
     "text": [
      "TRACK 54  in  spotify:track:1aBCdCoHR7AwWQbiWEHdzA  COMPLETED\n"
     ]
    },
    {
     "name": "stderr",
     "output_type": "stream",
     "text": [
      "C:\\Users\\Uma Bala\\AppData\\Local\\Temp\\ipykernel_23008\\1248639595.py:50: FutureWarning: The frame.append method is deprecated and will be removed from pandas in a future version. Use pandas.concat instead.\n",
      "  df2 = df2.append(data, ignore_index=True)\n"
     ]
    },
    {
     "name": "stdout",
     "output_type": "stream",
     "text": [
      "TRACK 55  in  spotify:track:2j1AnFakM5Tfx3vznjTpvy  COMPLETED\n"
     ]
    },
    {
     "name": "stderr",
     "output_type": "stream",
     "text": [
      "C:\\Users\\Uma Bala\\AppData\\Local\\Temp\\ipykernel_23008\\1248639595.py:50: FutureWarning: The frame.append method is deprecated and will be removed from pandas in a future version. Use pandas.concat instead.\n",
      "  df2 = df2.append(data, ignore_index=True)\n"
     ]
    },
    {
     "name": "stdout",
     "output_type": "stream",
     "text": [
      "TRACK 56  in  spotify:track:1WPh1UpH8ryponOGyI1Yt9  COMPLETED\n"
     ]
    },
    {
     "name": "stderr",
     "output_type": "stream",
     "text": [
      "C:\\Users\\Uma Bala\\AppData\\Local\\Temp\\ipykernel_23008\\1248639595.py:50: FutureWarning: The frame.append method is deprecated and will be removed from pandas in a future version. Use pandas.concat instead.\n",
      "  df2 = df2.append(data, ignore_index=True)\n"
     ]
    },
    {
     "name": "stdout",
     "output_type": "stream",
     "text": [
      "TRACK 57  in  spotify:track:46R7Qucrjnri3xJK9TvADV  COMPLETED\n"
     ]
    },
    {
     "name": "stderr",
     "output_type": "stream",
     "text": [
      "C:\\Users\\Uma Bala\\AppData\\Local\\Temp\\ipykernel_23008\\1248639595.py:50: FutureWarning: The frame.append method is deprecated and will be removed from pandas in a future version. Use pandas.concat instead.\n",
      "  df2 = df2.append(data, ignore_index=True)\n"
     ]
    },
    {
     "name": "stdout",
     "output_type": "stream",
     "text": [
      "TRACK 58  in  spotify:track:4v0EzQ3hw2eTPUv5RTkfzA  COMPLETED\n"
     ]
    },
    {
     "name": "stderr",
     "output_type": "stream",
     "text": [
      "C:\\Users\\Uma Bala\\AppData\\Local\\Temp\\ipykernel_23008\\1248639595.py:50: FutureWarning: The frame.append method is deprecated and will be removed from pandas in a future version. Use pandas.concat instead.\n",
      "  df2 = df2.append(data, ignore_index=True)\n"
     ]
    },
    {
     "name": "stdout",
     "output_type": "stream",
     "text": [
      "TRACK 59  in  spotify:track:5Rt7wGcJwHU98xf6GTnder  COMPLETED\n"
     ]
    },
    {
     "name": "stderr",
     "output_type": "stream",
     "text": [
      "C:\\Users\\Uma Bala\\AppData\\Local\\Temp\\ipykernel_23008\\1248639595.py:50: FutureWarning: The frame.append method is deprecated and will be removed from pandas in a future version. Use pandas.concat instead.\n",
      "  df2 = df2.append(data, ignore_index=True)\n"
     ]
    },
    {
     "name": "stdout",
     "output_type": "stream",
     "text": [
      "TRACK 60  in  spotify:track:1JA0tPLWaGL7wuHcPcgT9T  COMPLETED\n"
     ]
    },
    {
     "name": "stderr",
     "output_type": "stream",
     "text": [
      "C:\\Users\\Uma Bala\\AppData\\Local\\Temp\\ipykernel_23008\\1248639595.py:50: FutureWarning: The frame.append method is deprecated and will be removed from pandas in a future version. Use pandas.concat instead.\n",
      "  df2 = df2.append(data, ignore_index=True)\n"
     ]
    },
    {
     "name": "stdout",
     "output_type": "stream",
     "text": [
      "TRACK 61  in  spotify:track:1tF1J2fK1F9iQ8UUD1Iai5  COMPLETED\n"
     ]
    },
    {
     "name": "stderr",
     "output_type": "stream",
     "text": [
      "C:\\Users\\Uma Bala\\AppData\\Local\\Temp\\ipykernel_23008\\1248639595.py:50: FutureWarning: The frame.append method is deprecated and will be removed from pandas in a future version. Use pandas.concat instead.\n",
      "  df2 = df2.append(data, ignore_index=True)\n",
      "C:\\Users\\Uma Bala\\AppData\\Local\\Temp\\ipykernel_23008\\1248639595.py:50: FutureWarning: The frame.append method is deprecated and will be removed from pandas in a future version. Use pandas.concat instead.\n",
      "  df2 = df2.append(data, ignore_index=True)\n"
     ]
    },
    {
     "name": "stdout",
     "output_type": "stream",
     "text": [
      "TRACK 62  in  spotify:track:7bCfHiRcfUjG0YVVNUL7Ve  COMPLETED\n",
      "TRACK 63  in  spotify:track:17d6T11qsz6zYIWXjC87M4  COMPLETED\n"
     ]
    },
    {
     "name": "stderr",
     "output_type": "stream",
     "text": [
      "C:\\Users\\Uma Bala\\AppData\\Local\\Temp\\ipykernel_23008\\1248639595.py:50: FutureWarning: The frame.append method is deprecated and will be removed from pandas in a future version. Use pandas.concat instead.\n",
      "  df2 = df2.append(data, ignore_index=True)\n"
     ]
    },
    {
     "name": "stdout",
     "output_type": "stream",
     "text": [
      "TRACK 64  in  spotify:track:1JJTcAtBMIA6B6QlzQxvM2  COMPLETED\n"
     ]
    },
    {
     "name": "stderr",
     "output_type": "stream",
     "text": [
      "C:\\Users\\Uma Bala\\AppData\\Local\\Temp\\ipykernel_23008\\1248639595.py:50: FutureWarning: The frame.append method is deprecated and will be removed from pandas in a future version. Use pandas.concat instead.\n",
      "  df2 = df2.append(data, ignore_index=True)\n"
     ]
    },
    {
     "name": "stdout",
     "output_type": "stream",
     "text": [
      "TRACK 65  in  spotify:track:6iQfLy9Jf5Ka9buolJxBO5  COMPLETED\n"
     ]
    },
    {
     "name": "stderr",
     "output_type": "stream",
     "text": [
      "C:\\Users\\Uma Bala\\AppData\\Local\\Temp\\ipykernel_23008\\1248639595.py:50: FutureWarning: The frame.append method is deprecated and will be removed from pandas in a future version. Use pandas.concat instead.\n",
      "  df2 = df2.append(data, ignore_index=True)\n"
     ]
    },
    {
     "name": "stdout",
     "output_type": "stream",
     "text": [
      "TRACK 66  in  spotify:track:2SHCgiNbpJ6g2WDUn1pYr0  COMPLETED\n"
     ]
    },
    {
     "name": "stderr",
     "output_type": "stream",
     "text": [
      "C:\\Users\\Uma Bala\\AppData\\Local\\Temp\\ipykernel_23008\\1248639595.py:50: FutureWarning: The frame.append method is deprecated and will be removed from pandas in a future version. Use pandas.concat instead.\n",
      "  df2 = df2.append(data, ignore_index=True)\n"
     ]
    },
    {
     "name": "stdout",
     "output_type": "stream",
     "text": [
      "TRACK 67  in  spotify:track:7KxfE2y5USKurWbaZdTYUZ  COMPLETED\n"
     ]
    },
    {
     "name": "stderr",
     "output_type": "stream",
     "text": [
      "C:\\Users\\Uma Bala\\AppData\\Local\\Temp\\ipykernel_23008\\1248639595.py:50: FutureWarning: The frame.append method is deprecated and will be removed from pandas in a future version. Use pandas.concat instead.\n",
      "  df2 = df2.append(data, ignore_index=True)\n"
     ]
    },
    {
     "name": "stdout",
     "output_type": "stream",
     "text": [
      "TRACK 68  in  spotify:track:5lqfyl731f4rqg1AusznAq  COMPLETED\n"
     ]
    },
    {
     "name": "stderr",
     "output_type": "stream",
     "text": [
      "C:\\Users\\Uma Bala\\AppData\\Local\\Temp\\ipykernel_23008\\1248639595.py:50: FutureWarning: The frame.append method is deprecated and will be removed from pandas in a future version. Use pandas.concat instead.\n",
      "  df2 = df2.append(data, ignore_index=True)\n",
      "C:\\Users\\Uma Bala\\AppData\\Local\\Temp\\ipykernel_23008\\1248639595.py:50: FutureWarning: The frame.append method is deprecated and will be removed from pandas in a future version. Use pandas.concat instead.\n",
      "  df2 = df2.append(data, ignore_index=True)\n"
     ]
    },
    {
     "name": "stdout",
     "output_type": "stream",
     "text": [
      "TRACK 69  in  spotify:track:6RLyGG0HTePo8wFefOvJLM  COMPLETED\n",
      "TRACK 70  in  spotify:track:0frVq7ypwqVdroMcrlyr5e  COMPLETED\n"
     ]
    },
    {
     "name": "stderr",
     "output_type": "stream",
     "text": [
      "C:\\Users\\Uma Bala\\AppData\\Local\\Temp\\ipykernel_23008\\1248639595.py:50: FutureWarning: The frame.append method is deprecated and will be removed from pandas in a future version. Use pandas.concat instead.\n",
      "  df2 = df2.append(data, ignore_index=True)\n"
     ]
    },
    {
     "name": "stdout",
     "output_type": "stream",
     "text": [
      "TRACK 71  in  spotify:track:6O2rEuaCuz9oULfn6USRm1  COMPLETED\n"
     ]
    },
    {
     "name": "stderr",
     "output_type": "stream",
     "text": [
      "C:\\Users\\Uma Bala\\AppData\\Local\\Temp\\ipykernel_23008\\1248639595.py:50: FutureWarning: The frame.append method is deprecated and will be removed from pandas in a future version. Use pandas.concat instead.\n",
      "  df2 = df2.append(data, ignore_index=True)\n"
     ]
    },
    {
     "name": "stdout",
     "output_type": "stream",
     "text": [
      "TRACK 72  in  spotify:track:1yQTCLbLfrmDtEMI2NnWMD  COMPLETED\n"
     ]
    },
    {
     "name": "stderr",
     "output_type": "stream",
     "text": [
      "C:\\Users\\Uma Bala\\AppData\\Local\\Temp\\ipykernel_23008\\1248639595.py:50: FutureWarning: The frame.append method is deprecated and will be removed from pandas in a future version. Use pandas.concat instead.\n",
      "  df2 = df2.append(data, ignore_index=True)\n"
     ]
    },
    {
     "name": "stdout",
     "output_type": "stream",
     "text": [
      "TRACK 73  in  spotify:track:0Af0Nn70pNgCXdjcEIf5h4  COMPLETED\n"
     ]
    },
    {
     "name": "stderr",
     "output_type": "stream",
     "text": [
      "C:\\Users\\Uma Bala\\AppData\\Local\\Temp\\ipykernel_23008\\1248639595.py:50: FutureWarning: The frame.append method is deprecated and will be removed from pandas in a future version. Use pandas.concat instead.\n",
      "  df2 = df2.append(data, ignore_index=True)\n"
     ]
    },
    {
     "name": "stdout",
     "output_type": "stream",
     "text": [
      "TRACK 74  in  spotify:track:04IoRRDimeC8e0ryhSSb3v  COMPLETED\n"
     ]
    },
    {
     "name": "stderr",
     "output_type": "stream",
     "text": [
      "C:\\Users\\Uma Bala\\AppData\\Local\\Temp\\ipykernel_23008\\1248639595.py:50: FutureWarning: The frame.append method is deprecated and will be removed from pandas in a future version. Use pandas.concat instead.\n",
      "  df2 = df2.append(data, ignore_index=True)\n"
     ]
    },
    {
     "name": "stdout",
     "output_type": "stream",
     "text": [
      "TRACK 75  in  spotify:track:1Qsl7IdLvS32YKHll5b15k  COMPLETED\n"
     ]
    },
    {
     "name": "stderr",
     "output_type": "stream",
     "text": [
      "C:\\Users\\Uma Bala\\AppData\\Local\\Temp\\ipykernel_23008\\1248639595.py:50: FutureWarning: The frame.append method is deprecated and will be removed from pandas in a future version. Use pandas.concat instead.\n",
      "  df2 = df2.append(data, ignore_index=True)\n"
     ]
    },
    {
     "name": "stdout",
     "output_type": "stream",
     "text": [
      "TRACK 76  in  spotify:track:6FuGYKmj8wWTFU5euCbg6G  COMPLETED\n"
     ]
    },
    {
     "name": "stderr",
     "output_type": "stream",
     "text": [
      "C:\\Users\\Uma Bala\\AppData\\Local\\Temp\\ipykernel_23008\\1248639595.py:50: FutureWarning: The frame.append method is deprecated and will be removed from pandas in a future version. Use pandas.concat instead.\n",
      "  df2 = df2.append(data, ignore_index=True)\n"
     ]
    },
    {
     "name": "stdout",
     "output_type": "stream",
     "text": [
      "TRACK 77  in  spotify:track:5z7m9WSRb37jos3noVxWwo  COMPLETED\n"
     ]
    },
    {
     "name": "stderr",
     "output_type": "stream",
     "text": [
      "C:\\Users\\Uma Bala\\AppData\\Local\\Temp\\ipykernel_23008\\1248639595.py:50: FutureWarning: The frame.append method is deprecated and will be removed from pandas in a future version. Use pandas.concat instead.\n",
      "  df2 = df2.append(data, ignore_index=True)\n"
     ]
    },
    {
     "name": "stdout",
     "output_type": "stream",
     "text": [
      "TRACK 78  in  spotify:track:45BnLP9VBDtunsiwFUgvq4  COMPLETED\n"
     ]
    },
    {
     "name": "stderr",
     "output_type": "stream",
     "text": [
      "C:\\Users\\Uma Bala\\AppData\\Local\\Temp\\ipykernel_23008\\1248639595.py:50: FutureWarning: The frame.append method is deprecated and will be removed from pandas in a future version. Use pandas.concat instead.\n",
      "  df2 = df2.append(data, ignore_index=True)\n"
     ]
    },
    {
     "name": "stdout",
     "output_type": "stream",
     "text": [
      "TRACK 79  in  spotify:track:7l2tmgUhV7Y2aJHjiszifg  COMPLETED\n"
     ]
    },
    {
     "name": "stderr",
     "output_type": "stream",
     "text": [
      "C:\\Users\\Uma Bala\\AppData\\Local\\Temp\\ipykernel_23008\\1248639595.py:50: FutureWarning: The frame.append method is deprecated and will be removed from pandas in a future version. Use pandas.concat instead.\n",
      "  df2 = df2.append(data, ignore_index=True)\n",
      "C:\\Users\\Uma Bala\\AppData\\Local\\Temp\\ipykernel_23008\\1248639595.py:50: FutureWarning: The frame.append method is deprecated and will be removed from pandas in a future version. Use pandas.concat instead.\n",
      "  df2 = df2.append(data, ignore_index=True)\n"
     ]
    },
    {
     "name": "stdout",
     "output_type": "stream",
     "text": [
      "TRACK 80  in  spotify:track:1VuRRvJqtf4qOTsaEckjvd  COMPLETED\n",
      "TRACK 81  in  spotify:track:19AiJfAtRiccvSU1EWcttT  COMPLETED\n"
     ]
    },
    {
     "name": "stderr",
     "output_type": "stream",
     "text": [
      "C:\\Users\\Uma Bala\\AppData\\Local\\Temp\\ipykernel_23008\\1248639595.py:50: FutureWarning: The frame.append method is deprecated and will be removed from pandas in a future version. Use pandas.concat instead.\n",
      "  df2 = df2.append(data, ignore_index=True)\n"
     ]
    },
    {
     "name": "stdout",
     "output_type": "stream",
     "text": [
      "TRACK 82  in  spotify:track:1ZemPoaj7LBj1RAQrb89EC  COMPLETED\n"
     ]
    },
    {
     "name": "stderr",
     "output_type": "stream",
     "text": [
      "C:\\Users\\Uma Bala\\AppData\\Local\\Temp\\ipykernel_23008\\1248639595.py:50: FutureWarning: The frame.append method is deprecated and will be removed from pandas in a future version. Use pandas.concat instead.\n",
      "  df2 = df2.append(data, ignore_index=True)\n"
     ]
    },
    {
     "name": "stdout",
     "output_type": "stream",
     "text": [
      "TRACK 83  in  spotify:track:0HUTL8i4y4MiGCPId7M7wb  COMPLETED\n"
     ]
    },
    {
     "name": "stderr",
     "output_type": "stream",
     "text": [
      "C:\\Users\\Uma Bala\\AppData\\Local\\Temp\\ipykernel_23008\\1248639595.py:50: FutureWarning: The frame.append method is deprecated and will be removed from pandas in a future version. Use pandas.concat instead.\n",
      "  df2 = df2.append(data, ignore_index=True)\n"
     ]
    },
    {
     "name": "stdout",
     "output_type": "stream",
     "text": [
      "TRACK 84  in  spotify:track:2nLRmLZicLnOaxWwndwv5l  COMPLETED\n"
     ]
    },
    {
     "name": "stderr",
     "output_type": "stream",
     "text": [
      "C:\\Users\\Uma Bala\\AppData\\Local\\Temp\\ipykernel_23008\\1248639595.py:50: FutureWarning: The frame.append method is deprecated and will be removed from pandas in a future version. Use pandas.concat instead.\n",
      "  df2 = df2.append(data, ignore_index=True)\n"
     ]
    },
    {
     "name": "stdout",
     "output_type": "stream",
     "text": [
      "TRACK 85  in  spotify:track:66k2yf5A5yeWidimsHOtSF  COMPLETED\n"
     ]
    },
    {
     "name": "stderr",
     "output_type": "stream",
     "text": [
      "C:\\Users\\Uma Bala\\AppData\\Local\\Temp\\ipykernel_23008\\1248639595.py:50: FutureWarning: The frame.append method is deprecated and will be removed from pandas in a future version. Use pandas.concat instead.\n",
      "  df2 = df2.append(data, ignore_index=True)\n"
     ]
    },
    {
     "name": "stdout",
     "output_type": "stream",
     "text": [
      "TRACK 86  in  spotify:track:6rdb1hGLJwnF78YxVNtDbI  COMPLETED\n"
     ]
    },
    {
     "name": "stderr",
     "output_type": "stream",
     "text": [
      "C:\\Users\\Uma Bala\\AppData\\Local\\Temp\\ipykernel_23008\\1248639595.py:50: FutureWarning: The frame.append method is deprecated and will be removed from pandas in a future version. Use pandas.concat instead.\n",
      "  df2 = df2.append(data, ignore_index=True)\n",
      "C:\\Users\\Uma Bala\\AppData\\Local\\Temp\\ipykernel_23008\\1248639595.py:50: FutureWarning: The frame.append method is deprecated and will be removed from pandas in a future version. Use pandas.concat instead.\n",
      "  df2 = df2.append(data, ignore_index=True)\n"
     ]
    },
    {
     "name": "stdout",
     "output_type": "stream",
     "text": [
      "TRACK 87  in  spotify:track:0PWJ0Ojg6LNcIplsrhuwW5  COMPLETED\n",
      "TRACK 88  in  spotify:track:5n8aqbNFFYJ5J1m3FaXl13  COMPLETED\n"
     ]
    },
    {
     "name": "stderr",
     "output_type": "stream",
     "text": [
      "C:\\Users\\Uma Bala\\AppData\\Local\\Temp\\ipykernel_23008\\1248639595.py:50: FutureWarning: The frame.append method is deprecated and will be removed from pandas in a future version. Use pandas.concat instead.\n",
      "  df2 = df2.append(data, ignore_index=True)\n"
     ]
    },
    {
     "name": "stdout",
     "output_type": "stream",
     "text": [
      "TRACK 89  in  spotify:track:1H8Jm8rsTaS3KCbxORAncL  COMPLETED\n"
     ]
    },
    {
     "name": "stderr",
     "output_type": "stream",
     "text": [
      "C:\\Users\\Uma Bala\\AppData\\Local\\Temp\\ipykernel_23008\\1248639595.py:50: FutureWarning: The frame.append method is deprecated and will be removed from pandas in a future version. Use pandas.concat instead.\n",
      "  df2 = df2.append(data, ignore_index=True)\n"
     ]
    },
    {
     "name": "stdout",
     "output_type": "stream",
     "text": [
      "TRACK 90  in  spotify:track:2bDNedM4lTAl4P2mfqoh8e  COMPLETED\n"
     ]
    },
    {
     "name": "stderr",
     "output_type": "stream",
     "text": [
      "C:\\Users\\Uma Bala\\AppData\\Local\\Temp\\ipykernel_23008\\1248639595.py:50: FutureWarning: The frame.append method is deprecated and will be removed from pandas in a future version. Use pandas.concat instead.\n",
      "  df2 = df2.append(data, ignore_index=True)\n"
     ]
    },
    {
     "name": "stdout",
     "output_type": "stream",
     "text": [
      "TRACK 91  in  spotify:track:5Kmj7unjc3WhSOkuUDRj8h  COMPLETED\n"
     ]
    },
    {
     "name": "stderr",
     "output_type": "stream",
     "text": [
      "C:\\Users\\Uma Bala\\AppData\\Local\\Temp\\ipykernel_23008\\1248639595.py:50: FutureWarning: The frame.append method is deprecated and will be removed from pandas in a future version. Use pandas.concat instead.\n",
      "  df2 = df2.append(data, ignore_index=True)\n"
     ]
    },
    {
     "name": "stdout",
     "output_type": "stream",
     "text": [
      "TRACK 92  in  spotify:track:7ufvTDIjfqAhYZLXUX0lrF  COMPLETED\n"
     ]
    },
    {
     "name": "stderr",
     "output_type": "stream",
     "text": [
      "C:\\Users\\Uma Bala\\AppData\\Local\\Temp\\ipykernel_23008\\1248639595.py:50: FutureWarning: The frame.append method is deprecated and will be removed from pandas in a future version. Use pandas.concat instead.\n",
      "  df2 = df2.append(data, ignore_index=True)\n",
      "C:\\Users\\Uma Bala\\AppData\\Local\\Temp\\ipykernel_23008\\1248639595.py:50: FutureWarning: The frame.append method is deprecated and will be removed from pandas in a future version. Use pandas.concat instead.\n",
      "  df2 = df2.append(data, ignore_index=True)\n"
     ]
    },
    {
     "name": "stdout",
     "output_type": "stream",
     "text": [
      "TRACK 93  in  spotify:track:4A4g4uWlKjap0CvnMWFb82  COMPLETED\n",
      "TRACK 94  in  spotify:track:3MIfnlZELqeENeU1XEz3B2  COMPLETED\n"
     ]
    },
    {
     "name": "stderr",
     "output_type": "stream",
     "text": [
      "C:\\Users\\Uma Bala\\AppData\\Local\\Temp\\ipykernel_23008\\1248639595.py:50: FutureWarning: The frame.append method is deprecated and will be removed from pandas in a future version. Use pandas.concat instead.\n",
      "  df2 = df2.append(data, ignore_index=True)\n"
     ]
    },
    {
     "name": "stdout",
     "output_type": "stream",
     "text": [
      "TRACK 95  in  spotify:track:6kvVhj87FcfMKUE0Lxzp08  COMPLETED\n"
     ]
    },
    {
     "name": "stderr",
     "output_type": "stream",
     "text": [
      "C:\\Users\\Uma Bala\\AppData\\Local\\Temp\\ipykernel_23008\\1248639595.py:50: FutureWarning: The frame.append method is deprecated and will be removed from pandas in a future version. Use pandas.concat instead.\n",
      "  df2 = df2.append(data, ignore_index=True)\n"
     ]
    },
    {
     "name": "stdout",
     "output_type": "stream",
     "text": [
      "TRACK 96  in  spotify:track:2snCjoe9bWL49p21LCATBY  COMPLETED\n"
     ]
    },
    {
     "name": "stderr",
     "output_type": "stream",
     "text": [
      "C:\\Users\\Uma Bala\\AppData\\Local\\Temp\\ipykernel_23008\\1248639595.py:50: FutureWarning: The frame.append method is deprecated and will be removed from pandas in a future version. Use pandas.concat instead.\n",
      "  df2 = df2.append(data, ignore_index=True)\n"
     ]
    },
    {
     "name": "stdout",
     "output_type": "stream",
     "text": [
      "TRACK 97  in  spotify:track:7wWqAGY1k2cr1ntffgBBH1  COMPLETED\n"
     ]
    },
    {
     "name": "stderr",
     "output_type": "stream",
     "text": [
      "C:\\Users\\Uma Bala\\AppData\\Local\\Temp\\ipykernel_23008\\1248639595.py:50: FutureWarning: The frame.append method is deprecated and will be removed from pandas in a future version. Use pandas.concat instead.\n",
      "  df2 = df2.append(data, ignore_index=True)\n"
     ]
    },
    {
     "name": "stdout",
     "output_type": "stream",
     "text": [
      "TRACK 98  in  spotify:track:2K6WW2MPxCvzcWpXgKysc1  COMPLETED\n"
     ]
    },
    {
     "name": "stderr",
     "output_type": "stream",
     "text": [
      "C:\\Users\\Uma Bala\\AppData\\Local\\Temp\\ipykernel_23008\\1248639595.py:50: FutureWarning: The frame.append method is deprecated and will be removed from pandas in a future version. Use pandas.concat instead.\n",
      "  df2 = df2.append(data, ignore_index=True)\n"
     ]
    },
    {
     "name": "stdout",
     "output_type": "stream",
     "text": [
      "TRACK 99  in  spotify:track:1M4Ud66z18wuIq3oOxqVHa  COMPLETED\n"
     ]
    },
    {
     "name": "stderr",
     "output_type": "stream",
     "text": [
      "C:\\Users\\Uma Bala\\AppData\\Local\\Temp\\ipykernel_23008\\1248639595.py:50: FutureWarning: The frame.append method is deprecated and will be removed from pandas in a future version. Use pandas.concat instead.\n",
      "  df2 = df2.append(data, ignore_index=True)\n"
     ]
    },
    {
     "name": "stdout",
     "output_type": "stream",
     "text": [
      "TRACK 100  in  spotify:track:6nscjUEyl7ICnQkAGfNOuA  COMPLETED\n"
     ]
    },
    {
     "name": "stderr",
     "output_type": "stream",
     "text": [
      "C:\\Users\\Uma Bala\\AppData\\Local\\Temp\\ipykernel_23008\\1248639595.py:50: FutureWarning: The frame.append method is deprecated and will be removed from pandas in a future version. Use pandas.concat instead.\n",
      "  df2 = df2.append(data, ignore_index=True)\n"
     ]
    },
    {
     "name": "stdout",
     "output_type": "stream",
     "text": [
      "TRACK 1  in  spotify:track:54JFQiNoOjAw9PJ9vTsKru  COMPLETED\n"
     ]
    },
    {
     "name": "stderr",
     "output_type": "stream",
     "text": [
      "C:\\Users\\Uma Bala\\AppData\\Local\\Temp\\ipykernel_23008\\1248639595.py:50: FutureWarning: The frame.append method is deprecated and will be removed from pandas in a future version. Use pandas.concat instead.\n",
      "  df2 = df2.append(data, ignore_index=True)\n",
      "C:\\Users\\Uma Bala\\AppData\\Local\\Temp\\ipykernel_23008\\1248639595.py:50: FutureWarning: The frame.append method is deprecated and will be removed from pandas in a future version. Use pandas.concat instead.\n",
      "  df2 = df2.append(data, ignore_index=True)\n"
     ]
    },
    {
     "name": "stdout",
     "output_type": "stream",
     "text": [
      "TRACK 2  in  spotify:track:1aOMBiw2qKg5uyQ8CQdeDr  COMPLETED\n",
      "TRACK 3  in  spotify:track:6trZlMPnD5LOWYC1Le8oix  COMPLETED\n"
     ]
    },
    {
     "name": "stderr",
     "output_type": "stream",
     "text": [
      "C:\\Users\\Uma Bala\\AppData\\Local\\Temp\\ipykernel_23008\\1248639595.py:50: FutureWarning: The frame.append method is deprecated and will be removed from pandas in a future version. Use pandas.concat instead.\n",
      "  df2 = df2.append(data, ignore_index=True)\n"
     ]
    },
    {
     "name": "stdout",
     "output_type": "stream",
     "text": [
      "TRACK 4  in  spotify:track:1YHB8m41zFD61dCHy96BFI  COMPLETED\n"
     ]
    },
    {
     "name": "stderr",
     "output_type": "stream",
     "text": [
      "C:\\Users\\Uma Bala\\AppData\\Local\\Temp\\ipykernel_23008\\1248639595.py:50: FutureWarning: The frame.append method is deprecated and will be removed from pandas in a future version. Use pandas.concat instead.\n",
      "  df2 = df2.append(data, ignore_index=True)\n"
     ]
    },
    {
     "name": "stdout",
     "output_type": "stream",
     "text": [
      "TRACK 5  in  spotify:track:3T8JJXlaBpQ09CojJ2JZTb  COMPLETED\n"
     ]
    },
    {
     "name": "stderr",
     "output_type": "stream",
     "text": [
      "C:\\Users\\Uma Bala\\AppData\\Local\\Temp\\ipykernel_23008\\1248639595.py:50: FutureWarning: The frame.append method is deprecated and will be removed from pandas in a future version. Use pandas.concat instead.\n",
      "  df2 = df2.append(data, ignore_index=True)\n"
     ]
    },
    {
     "name": "stdout",
     "output_type": "stream",
     "text": [
      "TRACK 6  in  spotify:track:0Ce4ekEjBHedYLWWB7ft5T  COMPLETED\n"
     ]
    },
    {
     "name": "stderr",
     "output_type": "stream",
     "text": [
      "C:\\Users\\Uma Bala\\AppData\\Local\\Temp\\ipykernel_23008\\1248639595.py:50: FutureWarning: The frame.append method is deprecated and will be removed from pandas in a future version. Use pandas.concat instead.\n",
      "  df2 = df2.append(data, ignore_index=True)\n"
     ]
    },
    {
     "name": "stdout",
     "output_type": "stream",
     "text": [
      "TRACK 7  in  spotify:track:2Q7OKBLfhKkWlo6BA1D9nq  COMPLETED\n"
     ]
    },
    {
     "name": "stderr",
     "output_type": "stream",
     "text": [
      "C:\\Users\\Uma Bala\\AppData\\Local\\Temp\\ipykernel_23008\\1248639595.py:50: FutureWarning: The frame.append method is deprecated and will be removed from pandas in a future version. Use pandas.concat instead.\n",
      "  df2 = df2.append(data, ignore_index=True)\n"
     ]
    },
    {
     "name": "stdout",
     "output_type": "stream",
     "text": [
      "TRACK 8  in  spotify:track:1wHXFv0Zj6WJX6t4c7Hgy5  COMPLETED\n"
     ]
    },
    {
     "name": "stderr",
     "output_type": "stream",
     "text": [
      "C:\\Users\\Uma Bala\\AppData\\Local\\Temp\\ipykernel_23008\\1248639595.py:50: FutureWarning: The frame.append method is deprecated and will be removed from pandas in a future version. Use pandas.concat instead.\n",
      "  df2 = df2.append(data, ignore_index=True)\n"
     ]
    },
    {
     "name": "stdout",
     "output_type": "stream",
     "text": [
      "TRACK 9  in  spotify:track:1rDN43rZK48pWElATbvyp3  COMPLETED\n"
     ]
    },
    {
     "name": "stderr",
     "output_type": "stream",
     "text": [
      "C:\\Users\\Uma Bala\\AppData\\Local\\Temp\\ipykernel_23008\\1248639595.py:50: FutureWarning: The frame.append method is deprecated and will be removed from pandas in a future version. Use pandas.concat instead.\n",
      "  df2 = df2.append(data, ignore_index=True)\n"
     ]
    },
    {
     "name": "stdout",
     "output_type": "stream",
     "text": [
      "TRACK 10  in  spotify:track:2Eje2Y3RUJfmLeZJdhUFE2  COMPLETED\n"
     ]
    },
    {
     "name": "stderr",
     "output_type": "stream",
     "text": [
      "C:\\Users\\Uma Bala\\AppData\\Local\\Temp\\ipykernel_23008\\1248639595.py:50: FutureWarning: The frame.append method is deprecated and will be removed from pandas in a future version. Use pandas.concat instead.\n",
      "  df2 = df2.append(data, ignore_index=True)\n"
     ]
    },
    {
     "name": "stdout",
     "output_type": "stream",
     "text": [
      "TRACK 11  in  spotify:track:0YtMcpJmoDLPEuKXzZRSFl  COMPLETED\n"
     ]
    },
    {
     "name": "stderr",
     "output_type": "stream",
     "text": [
      "C:\\Users\\Uma Bala\\AppData\\Local\\Temp\\ipykernel_23008\\1248639595.py:50: FutureWarning: The frame.append method is deprecated and will be removed from pandas in a future version. Use pandas.concat instead.\n",
      "  df2 = df2.append(data, ignore_index=True)\n",
      "C:\\Users\\Uma Bala\\AppData\\Local\\Temp\\ipykernel_23008\\1248639595.py:50: FutureWarning: The frame.append method is deprecated and will be removed from pandas in a future version. Use pandas.concat instead.\n",
      "  df2 = df2.append(data, ignore_index=True)\n"
     ]
    },
    {
     "name": "stdout",
     "output_type": "stream",
     "text": [
      "TRACK 12  in  spotify:track:4zqZ7hR4Pl3UT0p19En1ib  COMPLETED\n",
      "TRACK 13  in  spotify:track:5qqVN5D69aOkN0lf8OIQ2b  COMPLETED\n"
     ]
    },
    {
     "name": "stderr",
     "output_type": "stream",
     "text": [
      "C:\\Users\\Uma Bala\\AppData\\Local\\Temp\\ipykernel_23008\\1248639595.py:50: FutureWarning: The frame.append method is deprecated and will be removed from pandas in a future version. Use pandas.concat instead.\n",
      "  df2 = df2.append(data, ignore_index=True)\n"
     ]
    },
    {
     "name": "stdout",
     "output_type": "stream",
     "text": [
      "TRACK 14  in  spotify:track:7luOSOrHYssQ1usmsFbc66  COMPLETED\n"
     ]
    },
    {
     "name": "stderr",
     "output_type": "stream",
     "text": [
      "C:\\Users\\Uma Bala\\AppData\\Local\\Temp\\ipykernel_23008\\1248639595.py:50: FutureWarning: The frame.append method is deprecated and will be removed from pandas in a future version. Use pandas.concat instead.\n",
      "  df2 = df2.append(data, ignore_index=True)\n"
     ]
    },
    {
     "name": "stdout",
     "output_type": "stream",
     "text": [
      "TRACK 15  in  spotify:track:5leXZx5QOucedmPTisx0m0  COMPLETED\n"
     ]
    },
    {
     "name": "stderr",
     "output_type": "stream",
     "text": [
      "C:\\Users\\Uma Bala\\AppData\\Local\\Temp\\ipykernel_23008\\1248639595.py:50: FutureWarning: The frame.append method is deprecated and will be removed from pandas in a future version. Use pandas.concat instead.\n",
      "  df2 = df2.append(data, ignore_index=True)\n"
     ]
    },
    {
     "name": "stdout",
     "output_type": "stream",
     "text": [
      "TRACK 16  in  spotify:track:62fAZF0sq80j2rsVKxaWQz  COMPLETED\n"
     ]
    },
    {
     "name": "stderr",
     "output_type": "stream",
     "text": [
      "C:\\Users\\Uma Bala\\AppData\\Local\\Temp\\ipykernel_23008\\1248639595.py:50: FutureWarning: The frame.append method is deprecated and will be removed from pandas in a future version. Use pandas.concat instead.\n",
      "  df2 = df2.append(data, ignore_index=True)\n"
     ]
    },
    {
     "name": "stdout",
     "output_type": "stream",
     "text": [
      "TRACK 17  in  spotify:track:5W92OJHsQxYE7JRx83dMvu  COMPLETED\n"
     ]
    },
    {
     "name": "stderr",
     "output_type": "stream",
     "text": [
      "C:\\Users\\Uma Bala\\AppData\\Local\\Temp\\ipykernel_23008\\1248639595.py:50: FutureWarning: The frame.append method is deprecated and will be removed from pandas in a future version. Use pandas.concat instead.\n",
      "  df2 = df2.append(data, ignore_index=True)\n"
     ]
    },
    {
     "name": "stdout",
     "output_type": "stream",
     "text": [
      "TRACK 18  in  spotify:track:1fNXOSx9FcXhrF6o6IkxkK  COMPLETED\n"
     ]
    },
    {
     "name": "stderr",
     "output_type": "stream",
     "text": [
      "C:\\Users\\Uma Bala\\AppData\\Local\\Temp\\ipykernel_23008\\1248639595.py:50: FutureWarning: The frame.append method is deprecated and will be removed from pandas in a future version. Use pandas.concat instead.\n",
      "  df2 = df2.append(data, ignore_index=True)\n"
     ]
    },
    {
     "name": "stdout",
     "output_type": "stream",
     "text": [
      "TRACK 19  in  spotify:track:5tv5ONwpMSQ8C4a6DnPpZy  COMPLETED\n"
     ]
    },
    {
     "name": "stderr",
     "output_type": "stream",
     "text": [
      "C:\\Users\\Uma Bala\\AppData\\Local\\Temp\\ipykernel_23008\\1248639595.py:50: FutureWarning: The frame.append method is deprecated and will be removed from pandas in a future version. Use pandas.concat instead.\n",
      "  df2 = df2.append(data, ignore_index=True)\n"
     ]
    },
    {
     "name": "stdout",
     "output_type": "stream",
     "text": [
      "TRACK 20  in  spotify:track:1yQkAv4xtapCBCzI8q1QGF  COMPLETED\n"
     ]
    },
    {
     "name": "stderr",
     "output_type": "stream",
     "text": [
      "C:\\Users\\Uma Bala\\AppData\\Local\\Temp\\ipykernel_23008\\1248639595.py:50: FutureWarning: The frame.append method is deprecated and will be removed from pandas in a future version. Use pandas.concat instead.\n",
      "  df2 = df2.append(data, ignore_index=True)\n"
     ]
    },
    {
     "name": "stdout",
     "output_type": "stream",
     "text": [
      "TRACK 21  in  spotify:track:1f0uvcwDkoPsA8Eu20yZSt  COMPLETED\n"
     ]
    },
    {
     "name": "stderr",
     "output_type": "stream",
     "text": [
      "C:\\Users\\Uma Bala\\AppData\\Local\\Temp\\ipykernel_23008\\1248639595.py:50: FutureWarning: The frame.append method is deprecated and will be removed from pandas in a future version. Use pandas.concat instead.\n",
      "  df2 = df2.append(data, ignore_index=True)\n"
     ]
    },
    {
     "name": "stdout",
     "output_type": "stream",
     "text": [
      "TRACK 22  in  spotify:track:798CdilHgi0FdJmhWH4Hqv  COMPLETED\n"
     ]
    },
    {
     "name": "stderr",
     "output_type": "stream",
     "text": [
      "C:\\Users\\Uma Bala\\AppData\\Local\\Temp\\ipykernel_23008\\1248639595.py:50: FutureWarning: The frame.append method is deprecated and will be removed from pandas in a future version. Use pandas.concat instead.\n",
      "  df2 = df2.append(data, ignore_index=True)\n"
     ]
    },
    {
     "name": "stdout",
     "output_type": "stream",
     "text": [
      "TRACK 23  in  spotify:track:2Qm8iiL6acssmn5bClljOf  COMPLETED\n"
     ]
    },
    {
     "name": "stderr",
     "output_type": "stream",
     "text": [
      "C:\\Users\\Uma Bala\\AppData\\Local\\Temp\\ipykernel_23008\\1248639595.py:50: FutureWarning: The frame.append method is deprecated and will be removed from pandas in a future version. Use pandas.concat instead.\n",
      "  df2 = df2.append(data, ignore_index=True)\n"
     ]
    },
    {
     "name": "stdout",
     "output_type": "stream",
     "text": [
      "TRACK 24  in  spotify:track:6FiDDXOouFyCnxLFGo6T5Y  COMPLETED\n"
     ]
    },
    {
     "name": "stderr",
     "output_type": "stream",
     "text": [
      "C:\\Users\\Uma Bala\\AppData\\Local\\Temp\\ipykernel_23008\\1248639595.py:50: FutureWarning: The frame.append method is deprecated and will be removed from pandas in a future version. Use pandas.concat instead.\n",
      "  df2 = df2.append(data, ignore_index=True)\n",
      "C:\\Users\\Uma Bala\\AppData\\Local\\Temp\\ipykernel_23008\\1248639595.py:50: FutureWarning: The frame.append method is deprecated and will be removed from pandas in a future version. Use pandas.concat instead.\n",
      "  df2 = df2.append(data, ignore_index=True)\n"
     ]
    },
    {
     "name": "stdout",
     "output_type": "stream",
     "text": [
      "TRACK 25  in  spotify:track:5wbJcabQPxly1VtLaJw8xb  COMPLETED\n",
      "TRACK 26  in  spotify:track:4DRggURK7d5e7Wj4hBQVhS  COMPLETED\n"
     ]
    },
    {
     "name": "stderr",
     "output_type": "stream",
     "text": [
      "C:\\Users\\Uma Bala\\AppData\\Local\\Temp\\ipykernel_23008\\1248639595.py:50: FutureWarning: The frame.append method is deprecated and will be removed from pandas in a future version. Use pandas.concat instead.\n",
      "  df2 = df2.append(data, ignore_index=True)\n"
     ]
    },
    {
     "name": "stdout",
     "output_type": "stream",
     "text": [
      "TRACK 27  in  spotify:track:6syWBmA0bdQYjKt8USFhqR  COMPLETED\n"
     ]
    },
    {
     "name": "stderr",
     "output_type": "stream",
     "text": [
      "C:\\Users\\Uma Bala\\AppData\\Local\\Temp\\ipykernel_23008\\1248639595.py:50: FutureWarning: The frame.append method is deprecated and will be removed from pandas in a future version. Use pandas.concat instead.\n",
      "  df2 = df2.append(data, ignore_index=True)\n"
     ]
    },
    {
     "name": "stdout",
     "output_type": "stream",
     "text": [
      "TRACK 28  in  spotify:track:6nQAxz48wyKrBFaiBWX129  COMPLETED\n"
     ]
    },
    {
     "name": "stderr",
     "output_type": "stream",
     "text": [
      "C:\\Users\\Uma Bala\\AppData\\Local\\Temp\\ipykernel_23008\\1248639595.py:50: FutureWarning: The frame.append method is deprecated and will be removed from pandas in a future version. Use pandas.concat instead.\n",
      "  df2 = df2.append(data, ignore_index=True)\n"
     ]
    },
    {
     "name": "stdout",
     "output_type": "stream",
     "text": [
      "TRACK 29  in  spotify:track:61h5rJ790Vov9ks2Vut5mo  COMPLETED\n"
     ]
    },
    {
     "name": "stderr",
     "output_type": "stream",
     "text": [
      "C:\\Users\\Uma Bala\\AppData\\Local\\Temp\\ipykernel_23008\\1248639595.py:50: FutureWarning: The frame.append method is deprecated and will be removed from pandas in a future version. Use pandas.concat instead.\n",
      "  df2 = df2.append(data, ignore_index=True)\n"
     ]
    },
    {
     "name": "stdout",
     "output_type": "stream",
     "text": [
      "TRACK 30  in  spotify:track:1Pai6r7aZUkrP57WoGNVtp  COMPLETED\n"
     ]
    },
    {
     "name": "stderr",
     "output_type": "stream",
     "text": [
      "C:\\Users\\Uma Bala\\AppData\\Local\\Temp\\ipykernel_23008\\1248639595.py:50: FutureWarning: The frame.append method is deprecated and will be removed from pandas in a future version. Use pandas.concat instead.\n",
      "  df2 = df2.append(data, ignore_index=True)\n"
     ]
    },
    {
     "name": "stdout",
     "output_type": "stream",
     "text": [
      "TRACK 31  in  spotify:track:5LOqXptMPwn7eande71squ  COMPLETED\n"
     ]
    },
    {
     "name": "stderr",
     "output_type": "stream",
     "text": [
      "C:\\Users\\Uma Bala\\AppData\\Local\\Temp\\ipykernel_23008\\1248639595.py:50: FutureWarning: The frame.append method is deprecated and will be removed from pandas in a future version. Use pandas.concat instead.\n",
      "  df2 = df2.append(data, ignore_index=True)\n",
      "C:\\Users\\Uma Bala\\AppData\\Local\\Temp\\ipykernel_23008\\1248639595.py:50: FutureWarning: The frame.append method is deprecated and will be removed from pandas in a future version. Use pandas.concat instead.\n",
      "  df2 = df2.append(data, ignore_index=True)\n"
     ]
    },
    {
     "name": "stdout",
     "output_type": "stream",
     "text": [
      "TRACK 32  in  spotify:track:7xVSNhAUQhUIpwfR6lTOwA  COMPLETED\n",
      "TRACK 33  in  spotify:track:5cJoRAoHyvjqenAaKh04Js  COMPLETED\n"
     ]
    },
    {
     "name": "stderr",
     "output_type": "stream",
     "text": [
      "C:\\Users\\Uma Bala\\AppData\\Local\\Temp\\ipykernel_23008\\1248639595.py:50: FutureWarning: The frame.append method is deprecated and will be removed from pandas in a future version. Use pandas.concat instead.\n",
      "  df2 = df2.append(data, ignore_index=True)\n",
      "C:\\Users\\Uma Bala\\AppData\\Local\\Temp\\ipykernel_23008\\1248639595.py:50: FutureWarning: The frame.append method is deprecated and will be removed from pandas in a future version. Use pandas.concat instead.\n",
      "  df2 = df2.append(data, ignore_index=True)\n"
     ]
    },
    {
     "name": "stdout",
     "output_type": "stream",
     "text": [
      "TRACK 34  in  spotify:track:79kniixiy0c4pw3zhsqsEi  COMPLETED\n",
      "TRACK 35  in  spotify:track:4lDgXjTvQgAukZF773PIHP  COMPLETED\n"
     ]
    },
    {
     "name": "stderr",
     "output_type": "stream",
     "text": [
      "C:\\Users\\Uma Bala\\AppData\\Local\\Temp\\ipykernel_23008\\1248639595.py:50: FutureWarning: The frame.append method is deprecated and will be removed from pandas in a future version. Use pandas.concat instead.\n",
      "  df2 = df2.append(data, ignore_index=True)\n"
     ]
    },
    {
     "name": "stdout",
     "output_type": "stream",
     "text": [
      "TRACK 36  in  spotify:track:1MD2yGSeBRALkMui1fZ05P  COMPLETED\n"
     ]
    },
    {
     "name": "stderr",
     "output_type": "stream",
     "text": [
      "C:\\Users\\Uma Bala\\AppData\\Local\\Temp\\ipykernel_23008\\1248639595.py:50: FutureWarning: The frame.append method is deprecated and will be removed from pandas in a future version. Use pandas.concat instead.\n",
      "  df2 = df2.append(data, ignore_index=True)\n"
     ]
    },
    {
     "name": "stdout",
     "output_type": "stream",
     "text": [
      "TRACK 37  in  spotify:track:7CfcInSgN0HBQWEHybXrBH  COMPLETED\n"
     ]
    },
    {
     "name": "stderr",
     "output_type": "stream",
     "text": [
      "C:\\Users\\Uma Bala\\AppData\\Local\\Temp\\ipykernel_23008\\1248639595.py:50: FutureWarning: The frame.append method is deprecated and will be removed from pandas in a future version. Use pandas.concat instead.\n",
      "  df2 = df2.append(data, ignore_index=True)\n"
     ]
    },
    {
     "name": "stdout",
     "output_type": "stream",
     "text": [
      "TRACK 38  in  spotify:track:3S3H4YVLZACv1JsHs5yqgj  COMPLETED\n"
     ]
    },
    {
     "name": "stderr",
     "output_type": "stream",
     "text": [
      "C:\\Users\\Uma Bala\\AppData\\Local\\Temp\\ipykernel_23008\\1248639595.py:50: FutureWarning: The frame.append method is deprecated and will be removed from pandas in a future version. Use pandas.concat instead.\n",
      "  df2 = df2.append(data, ignore_index=True)\n"
     ]
    },
    {
     "name": "stdout",
     "output_type": "stream",
     "text": [
      "TRACK 39  in  spotify:track:6bJxnp9YMArRqfHsNsG9yW  COMPLETED\n"
     ]
    },
    {
     "name": "stderr",
     "output_type": "stream",
     "text": [
      "C:\\Users\\Uma Bala\\AppData\\Local\\Temp\\ipykernel_23008\\1248639595.py:50: FutureWarning: The frame.append method is deprecated and will be removed from pandas in a future version. Use pandas.concat instead.\n",
      "  df2 = df2.append(data, ignore_index=True)\n"
     ]
    },
    {
     "name": "stdout",
     "output_type": "stream",
     "text": [
      "TRACK 40  in  spotify:track:7vYSGll087RckzrXYzrz8t  COMPLETED\n"
     ]
    },
    {
     "name": "stderr",
     "output_type": "stream",
     "text": [
      "C:\\Users\\Uma Bala\\AppData\\Local\\Temp\\ipykernel_23008\\1248639595.py:50: FutureWarning: The frame.append method is deprecated and will be removed from pandas in a future version. Use pandas.concat instead.\n",
      "  df2 = df2.append(data, ignore_index=True)\n"
     ]
    }
   ],
   "source": [
    "l1 = ['https://open.spotify.com/playlist/546NXCbeShkJYrLnAzzVdC?si=00763a8841524599',\n",
    "'https://open.spotify.com/playlist/4ldT2pgf6V7QiiH2RtKMRl?si=f0ff8d87fbb54e1d',\n",
    "'https://open.spotify.com/playlist/4uc9tuc3IIeozrfsmSx2K9?si=05c0f5c9ab334f4c',\n",
    "'https://open.spotify.com/playlist/4U7Cj82gdEKAkQiXA8XS1z?si=49866ae651de457e',\n",
    "'https://open.spotify.com/playlist/3MLASveiNFXBjjK5QOaOnn?si=d0123866d0e1413c']\n",
    "\n",
    "\n",
    "df_flop_1 = get_song_data(l1[0])\n",
    "df_flop_2 = get_song_data(l1[1])\n",
    "df_flop_3 = get_song_data(l1[2])\n",
    "df_flop_4 = get_song_data(l1[3])\n",
    "df_flop_5 = get_song_data(l1[4])\n"
   ]
  },
  {
   "cell_type": "code",
   "execution_count": 46,
   "id": "dea68ae1",
   "metadata": {},
   "outputs": [
    {
     "name": "stdout",
     "output_type": "stream",
     "text": [
      "TRACK 1  in  spotify:track:5OLCFaHq3b7ozbSm25SCTe  COMPLETED\n"
     ]
    },
    {
     "name": "stderr",
     "output_type": "stream",
     "text": [
      "C:\\Users\\Uma Bala\\AppData\\Local\\Temp\\ipykernel_23008\\1248639595.py:50: FutureWarning: The frame.append method is deprecated and will be removed from pandas in a future version. Use pandas.concat instead.\n",
      "  df2 = df2.append(data, ignore_index=True)\n"
     ]
    },
    {
     "name": "stdout",
     "output_type": "stream",
     "text": [
      "TRACK 2  in  spotify:track:71MOWLku33yHaE3SpJ9GA0  COMPLETED\n"
     ]
    },
    {
     "name": "stderr",
     "output_type": "stream",
     "text": [
      "C:\\Users\\Uma Bala\\AppData\\Local\\Temp\\ipykernel_23008\\1248639595.py:50: FutureWarning: The frame.append method is deprecated and will be removed from pandas in a future version. Use pandas.concat instead.\n",
      "  df2 = df2.append(data, ignore_index=True)\n"
     ]
    },
    {
     "name": "stdout",
     "output_type": "stream",
     "text": [
      "TRACK 3  in  spotify:track:0A4GyeC1opQo2NYphA5TPG  COMPLETED\n"
     ]
    },
    {
     "name": "stderr",
     "output_type": "stream",
     "text": [
      "C:\\Users\\Uma Bala\\AppData\\Local\\Temp\\ipykernel_23008\\1248639595.py:50: FutureWarning: The frame.append method is deprecated and will be removed from pandas in a future version. Use pandas.concat instead.\n",
      "  df2 = df2.append(data, ignore_index=True)\n"
     ]
    },
    {
     "name": "stdout",
     "output_type": "stream",
     "text": [
      "TRACK 4  in  spotify:track:7IM7JCGA6lNktX9ORtyQS8  COMPLETED\n"
     ]
    },
    {
     "name": "stderr",
     "output_type": "stream",
     "text": [
      "C:\\Users\\Uma Bala\\AppData\\Local\\Temp\\ipykernel_23008\\1248639595.py:50: FutureWarning: The frame.append method is deprecated and will be removed from pandas in a future version. Use pandas.concat instead.\n",
      "  df2 = df2.append(data, ignore_index=True)\n"
     ]
    },
    {
     "name": "stdout",
     "output_type": "stream",
     "text": [
      "TRACK 5  in  spotify:track:3UyV8MvjQkeh6DqLmuaUAo  COMPLETED\n"
     ]
    },
    {
     "name": "stderr",
     "output_type": "stream",
     "text": [
      "C:\\Users\\Uma Bala\\AppData\\Local\\Temp\\ipykernel_23008\\1248639595.py:50: FutureWarning: The frame.append method is deprecated and will be removed from pandas in a future version. Use pandas.concat instead.\n",
      "  df2 = df2.append(data, ignore_index=True)\n",
      "C:\\Users\\Uma Bala\\AppData\\Local\\Temp\\ipykernel_23008\\1248639595.py:50: FutureWarning: The frame.append method is deprecated and will be removed from pandas in a future version. Use pandas.concat instead.\n",
      "  df2 = df2.append(data, ignore_index=True)\n"
     ]
    },
    {
     "name": "stdout",
     "output_type": "stream",
     "text": [
      "TRACK 6  in  spotify:track:42H6GeQfrBkT3vTUTdpB1M  COMPLETED\n",
      "TRACK 7  in  spotify:track:1ynuDDHKN7P7fmJEljdCLd  COMPLETED\n"
     ]
    },
    {
     "name": "stderr",
     "output_type": "stream",
     "text": [
      "C:\\Users\\Uma Bala\\AppData\\Local\\Temp\\ipykernel_23008\\1248639595.py:50: FutureWarning: The frame.append method is deprecated and will be removed from pandas in a future version. Use pandas.concat instead.\n",
      "  df2 = df2.append(data, ignore_index=True)\n"
     ]
    },
    {
     "name": "stdout",
     "output_type": "stream",
     "text": [
      "TRACK 8  in  spotify:track:5gA8V32oNUrf0EOoA2kebb  COMPLETED\n"
     ]
    },
    {
     "name": "stderr",
     "output_type": "stream",
     "text": [
      "C:\\Users\\Uma Bala\\AppData\\Local\\Temp\\ipykernel_23008\\1248639595.py:50: FutureWarning: The frame.append method is deprecated and will be removed from pandas in a future version. Use pandas.concat instead.\n",
      "  df2 = df2.append(data, ignore_index=True)\n"
     ]
    },
    {
     "name": "stdout",
     "output_type": "stream",
     "text": [
      "TRACK 9  in  spotify:track:2TI2fw9FWPeah6N4k1b4NU  COMPLETED\n"
     ]
    },
    {
     "name": "stderr",
     "output_type": "stream",
     "text": [
      "C:\\Users\\Uma Bala\\AppData\\Local\\Temp\\ipykernel_23008\\1248639595.py:50: FutureWarning: The frame.append method is deprecated and will be removed from pandas in a future version. Use pandas.concat instead.\n",
      "  df2 = df2.append(data, ignore_index=True)\n"
     ]
    },
    {
     "name": "stdout",
     "output_type": "stream",
     "text": [
      "TRACK 10  in  spotify:track:0rbKrBvZUYY9GN9l057BuY  COMPLETED\n"
     ]
    },
    {
     "name": "stderr",
     "output_type": "stream",
     "text": [
      "C:\\Users\\Uma Bala\\AppData\\Local\\Temp\\ipykernel_23008\\1248639595.py:50: FutureWarning: The frame.append method is deprecated and will be removed from pandas in a future version. Use pandas.concat instead.\n",
      "  df2 = df2.append(data, ignore_index=True)\n",
      "C:\\Users\\Uma Bala\\AppData\\Local\\Temp\\ipykernel_23008\\1248639595.py:50: FutureWarning: The frame.append method is deprecated and will be removed from pandas in a future version. Use pandas.concat instead.\n",
      "  df2 = df2.append(data, ignore_index=True)\n"
     ]
    },
    {
     "name": "stdout",
     "output_type": "stream",
     "text": [
      "TRACK 11  in  spotify:track:3zb9k8UUuKz5tYmKJvNqQA  COMPLETED\n",
      "TRACK 12  in  spotify:track:2Y5elCs4h7qQ37fbVuGHrY  COMPLETED\n"
     ]
    },
    {
     "name": "stderr",
     "output_type": "stream",
     "text": [
      "C:\\Users\\Uma Bala\\AppData\\Local\\Temp\\ipykernel_23008\\1248639595.py:50: FutureWarning: The frame.append method is deprecated and will be removed from pandas in a future version. Use pandas.concat instead.\n",
      "  df2 = df2.append(data, ignore_index=True)\n",
      "C:\\Users\\Uma Bala\\AppData\\Local\\Temp\\ipykernel_23008\\1248639595.py:50: FutureWarning: The frame.append method is deprecated and will be removed from pandas in a future version. Use pandas.concat instead.\n",
      "  df2 = df2.append(data, ignore_index=True)\n"
     ]
    },
    {
     "name": "stdout",
     "output_type": "stream",
     "text": [
      "TRACK 13  in  spotify:track:48QKOSXSIdV6nZkT0pfqLn  COMPLETED\n",
      "TRACK 14  in  spotify:track:17U7z9PG0iOa7YfR5pzZ6m  COMPLETED\n"
     ]
    },
    {
     "name": "stderr",
     "output_type": "stream",
     "text": [
      "C:\\Users\\Uma Bala\\AppData\\Local\\Temp\\ipykernel_23008\\1248639595.py:50: FutureWarning: The frame.append method is deprecated and will be removed from pandas in a future version. Use pandas.concat instead.\n",
      "  df2 = df2.append(data, ignore_index=True)\n"
     ]
    },
    {
     "name": "stdout",
     "output_type": "stream",
     "text": [
      "TRACK 15  in  spotify:track:4wzdKi75Om31GiksnLlfHc  COMPLETED\n"
     ]
    },
    {
     "name": "stderr",
     "output_type": "stream",
     "text": [
      "C:\\Users\\Uma Bala\\AppData\\Local\\Temp\\ipykernel_23008\\1248639595.py:50: FutureWarning: The frame.append method is deprecated and will be removed from pandas in a future version. Use pandas.concat instead.\n",
      "  df2 = df2.append(data, ignore_index=True)\n"
     ]
    },
    {
     "name": "stdout",
     "output_type": "stream",
     "text": [
      "TRACK 16  in  spotify:track:07bqLhP7szsEFV78f09af9  COMPLETED\n"
     ]
    },
    {
     "name": "stderr",
     "output_type": "stream",
     "text": [
      "C:\\Users\\Uma Bala\\AppData\\Local\\Temp\\ipykernel_23008\\1248639595.py:50: FutureWarning: The frame.append method is deprecated and will be removed from pandas in a future version. Use pandas.concat instead.\n",
      "  df2 = df2.append(data, ignore_index=True)\n"
     ]
    },
    {
     "name": "stdout",
     "output_type": "stream",
     "text": [
      "TRACK 17  in  spotify:track:63BVgRtQ4tWqz83bjl360U  COMPLETED\n"
     ]
    },
    {
     "name": "stderr",
     "output_type": "stream",
     "text": [
      "C:\\Users\\Uma Bala\\AppData\\Local\\Temp\\ipykernel_23008\\1248639595.py:50: FutureWarning: The frame.append method is deprecated and will be removed from pandas in a future version. Use pandas.concat instead.\n",
      "  df2 = df2.append(data, ignore_index=True)\n"
     ]
    },
    {
     "name": "stdout",
     "output_type": "stream",
     "text": [
      "TRACK 18  in  spotify:track:1I9GllIh1R3EMvTFT5Tfn7  COMPLETED\n"
     ]
    },
    {
     "name": "stderr",
     "output_type": "stream",
     "text": [
      "C:\\Users\\Uma Bala\\AppData\\Local\\Temp\\ipykernel_23008\\1248639595.py:50: FutureWarning: The frame.append method is deprecated and will be removed from pandas in a future version. Use pandas.concat instead.\n",
      "  df2 = df2.append(data, ignore_index=True)\n",
      "C:\\Users\\Uma Bala\\AppData\\Local\\Temp\\ipykernel_23008\\1248639595.py:50: FutureWarning: The frame.append method is deprecated and will be removed from pandas in a future version. Use pandas.concat instead.\n",
      "  df2 = df2.append(data, ignore_index=True)\n"
     ]
    },
    {
     "name": "stdout",
     "output_type": "stream",
     "text": [
      "TRACK 19  in  spotify:track:7Cu2COdH93MnuireuKNiS3  COMPLETED\n",
      "TRACK 20  in  spotify:track:54GASuUdLbhhdyECNUp3Pb  COMPLETED\n"
     ]
    },
    {
     "name": "stderr",
     "output_type": "stream",
     "text": [
      "C:\\Users\\Uma Bala\\AppData\\Local\\Temp\\ipykernel_23008\\1248639595.py:50: FutureWarning: The frame.append method is deprecated and will be removed from pandas in a future version. Use pandas.concat instead.\n",
      "  df2 = df2.append(data, ignore_index=True)\n"
     ]
    },
    {
     "name": "stdout",
     "output_type": "stream",
     "text": [
      "TRACK 21  in  spotify:track:3Un9IKqqC6LEqjwKsFWrqx  COMPLETED\n"
     ]
    },
    {
     "name": "stderr",
     "output_type": "stream",
     "text": [
      "C:\\Users\\Uma Bala\\AppData\\Local\\Temp\\ipykernel_23008\\1248639595.py:50: FutureWarning: The frame.append method is deprecated and will be removed from pandas in a future version. Use pandas.concat instead.\n",
      "  df2 = df2.append(data, ignore_index=True)\n"
     ]
    },
    {
     "name": "stdout",
     "output_type": "stream",
     "text": [
      "TRACK 22  in  spotify:track:4JkKXuKp2RdbE5M7L4z19Z  COMPLETED\n"
     ]
    },
    {
     "name": "stderr",
     "output_type": "stream",
     "text": [
      "C:\\Users\\Uma Bala\\AppData\\Local\\Temp\\ipykernel_23008\\1248639595.py:50: FutureWarning: The frame.append method is deprecated and will be removed from pandas in a future version. Use pandas.concat instead.\n",
      "  df2 = df2.append(data, ignore_index=True)\n",
      "C:\\Users\\Uma Bala\\AppData\\Local\\Temp\\ipykernel_23008\\1248639595.py:50: FutureWarning: The frame.append method is deprecated and will be removed from pandas in a future version. Use pandas.concat instead.\n",
      "  df2 = df2.append(data, ignore_index=True)\n"
     ]
    },
    {
     "name": "stdout",
     "output_type": "stream",
     "text": [
      "TRACK 23  in  spotify:track:2QdVcmVPIxW826rRJDf58l  COMPLETED\n",
      "TRACK 24  in  spotify:track:296mmTJOJ904FwHQsSBdDr  COMPLETED\n"
     ]
    },
    {
     "name": "stderr",
     "output_type": "stream",
     "text": [
      "C:\\Users\\Uma Bala\\AppData\\Local\\Temp\\ipykernel_23008\\1248639595.py:50: FutureWarning: The frame.append method is deprecated and will be removed from pandas in a future version. Use pandas.concat instead.\n",
      "  df2 = df2.append(data, ignore_index=True)\n"
     ]
    },
    {
     "name": "stdout",
     "output_type": "stream",
     "text": [
      "TRACK 25  in  spotify:track:5rMj5GEHELIWCoKIVoqhoB  COMPLETED\n"
     ]
    },
    {
     "name": "stderr",
     "output_type": "stream",
     "text": [
      "C:\\Users\\Uma Bala\\AppData\\Local\\Temp\\ipykernel_23008\\1248639595.py:50: FutureWarning: The frame.append method is deprecated and will be removed from pandas in a future version. Use pandas.concat instead.\n",
      "  df2 = df2.append(data, ignore_index=True)\n"
     ]
    },
    {
     "name": "stdout",
     "output_type": "stream",
     "text": [
      "TRACK 26  in  spotify:track:2XpmzywSGH1OILU0mxSHBy  COMPLETED\n",
      "TRACK 27  in  spotify:track:6P2BlKa7uBwKV6KVsEBkmv  COMPLETED\n"
     ]
    },
    {
     "name": "stderr",
     "output_type": "stream",
     "text": [
      "C:\\Users\\Uma Bala\\AppData\\Local\\Temp\\ipykernel_23008\\1248639595.py:50: FutureWarning: The frame.append method is deprecated and will be removed from pandas in a future version. Use pandas.concat instead.\n",
      "  df2 = df2.append(data, ignore_index=True)\n",
      "C:\\Users\\Uma Bala\\AppData\\Local\\Temp\\ipykernel_23008\\1248639595.py:50: FutureWarning: The frame.append method is deprecated and will be removed from pandas in a future version. Use pandas.concat instead.\n",
      "  df2 = df2.append(data, ignore_index=True)\n"
     ]
    },
    {
     "name": "stdout",
     "output_type": "stream",
     "text": [
      "TRACK 28  in  spotify:track:79DF4VeuuI0Y7NOrimSmR5  COMPLETED\n"
     ]
    },
    {
     "name": "stderr",
     "output_type": "stream",
     "text": [
      "C:\\Users\\Uma Bala\\AppData\\Local\\Temp\\ipykernel_23008\\1248639595.py:50: FutureWarning: The frame.append method is deprecated and will be removed from pandas in a future version. Use pandas.concat instead.\n",
      "  df2 = df2.append(data, ignore_index=True)\n"
     ]
    },
    {
     "name": "stdout",
     "output_type": "stream",
     "text": [
      "TRACK 29  in  spotify:track:5Bsyin9f7eK4aLH59jGwGy  COMPLETED\n"
     ]
    },
    {
     "name": "stderr",
     "output_type": "stream",
     "text": [
      "C:\\Users\\Uma Bala\\AppData\\Local\\Temp\\ipykernel_23008\\1248639595.py:50: FutureWarning: The frame.append method is deprecated and will be removed from pandas in a future version. Use pandas.concat instead.\n",
      "  df2 = df2.append(data, ignore_index=True)\n"
     ]
    },
    {
     "name": "stdout",
     "output_type": "stream",
     "text": [
      "TRACK 30  in  spotify:track:2XdyebP7KxClMOse2C5iyA  COMPLETED\n"
     ]
    },
    {
     "name": "stderr",
     "output_type": "stream",
     "text": [
      "C:\\Users\\Uma Bala\\AppData\\Local\\Temp\\ipykernel_23008\\1248639595.py:50: FutureWarning: The frame.append method is deprecated and will be removed from pandas in a future version. Use pandas.concat instead.\n",
      "  df2 = df2.append(data, ignore_index=True)\n",
      "C:\\Users\\Uma Bala\\AppData\\Local\\Temp\\ipykernel_23008\\1248639595.py:50: FutureWarning: The frame.append method is deprecated and will be removed from pandas in a future version. Use pandas.concat instead.\n",
      "  df2 = df2.append(data, ignore_index=True)\n"
     ]
    },
    {
     "name": "stdout",
     "output_type": "stream",
     "text": [
      "TRACK 31  in  spotify:track:2YYjP4oIs1iVlzHb5rXgUC  COMPLETED\n",
      "TRACK 32  in  spotify:track:2ZP85Jq4K27V6WWVXfINSR  COMPLETED\n"
     ]
    },
    {
     "name": "stderr",
     "output_type": "stream",
     "text": [
      "C:\\Users\\Uma Bala\\AppData\\Local\\Temp\\ipykernel_23008\\1248639595.py:50: FutureWarning: The frame.append method is deprecated and will be removed from pandas in a future version. Use pandas.concat instead.\n",
      "  df2 = df2.append(data, ignore_index=True)\n"
     ]
    },
    {
     "name": "stdout",
     "output_type": "stream",
     "text": [
      "TRACK 33  in  spotify:track:45StvejYUdIsyUwqdZ7iJM  COMPLETED\n"
     ]
    },
    {
     "name": "stderr",
     "output_type": "stream",
     "text": [
      "C:\\Users\\Uma Bala\\AppData\\Local\\Temp\\ipykernel_23008\\1248639595.py:50: FutureWarning: The frame.append method is deprecated and will be removed from pandas in a future version. Use pandas.concat instead.\n",
      "  df2 = df2.append(data, ignore_index=True)\n"
     ]
    },
    {
     "name": "stdout",
     "output_type": "stream",
     "text": [
      "TRACK 34  in  spotify:track:2awExtNBABpwOFC78XViJd  COMPLETED\n"
     ]
    },
    {
     "name": "stderr",
     "output_type": "stream",
     "text": [
      "C:\\Users\\Uma Bala\\AppData\\Local\\Temp\\ipykernel_23008\\1248639595.py:50: FutureWarning: The frame.append method is deprecated and will be removed from pandas in a future version. Use pandas.concat instead.\n",
      "  df2 = df2.append(data, ignore_index=True)\n"
     ]
    },
    {
     "name": "stdout",
     "output_type": "stream",
     "text": [
      "TRACK 35  in  spotify:track:6nQ9KYxoXnJhQiYAGf4r00  COMPLETED\n"
     ]
    },
    {
     "name": "stderr",
     "output_type": "stream",
     "text": [
      "C:\\Users\\Uma Bala\\AppData\\Local\\Temp\\ipykernel_23008\\1248639595.py:50: FutureWarning: The frame.append method is deprecated and will be removed from pandas in a future version. Use pandas.concat instead.\n",
      "  df2 = df2.append(data, ignore_index=True)\n"
     ]
    },
    {
     "name": "stdout",
     "output_type": "stream",
     "text": [
      "TRACK 36  in  spotify:track:2MFOCxpC2vFwAmWq0xKgAG  COMPLETED\n"
     ]
    },
    {
     "name": "stderr",
     "output_type": "stream",
     "text": [
      "C:\\Users\\Uma Bala\\AppData\\Local\\Temp\\ipykernel_23008\\1248639595.py:50: FutureWarning: The frame.append method is deprecated and will be removed from pandas in a future version. Use pandas.concat instead.\n",
      "  df2 = df2.append(data, ignore_index=True)\n"
     ]
    },
    {
     "name": "stdout",
     "output_type": "stream",
     "text": [
      "TRACK 37  in  spotify:track:5NP7NmjaFKsG5ywXrAmP4S  COMPLETED\n"
     ]
    },
    {
     "name": "stderr",
     "output_type": "stream",
     "text": [
      "C:\\Users\\Uma Bala\\AppData\\Local\\Temp\\ipykernel_23008\\1248639595.py:50: FutureWarning: The frame.append method is deprecated and will be removed from pandas in a future version. Use pandas.concat instead.\n",
      "  df2 = df2.append(data, ignore_index=True)\n"
     ]
    },
    {
     "name": "stdout",
     "output_type": "stream",
     "text": [
      "TRACK 38  in  spotify:track:0214OvLHZT4NSJ0gj9N5f3  COMPLETED\n"
     ]
    },
    {
     "name": "stderr",
     "output_type": "stream",
     "text": [
      "C:\\Users\\Uma Bala\\AppData\\Local\\Temp\\ipykernel_23008\\1248639595.py:50: FutureWarning: The frame.append method is deprecated and will be removed from pandas in a future version. Use pandas.concat instead.\n",
      "  df2 = df2.append(data, ignore_index=True)\n"
     ]
    },
    {
     "name": "stdout",
     "output_type": "stream",
     "text": [
      "TRACK 39  in  spotify:track:0EWG8H4UhVAqdF7IC4u3LT  COMPLETED\n"
     ]
    },
    {
     "name": "stderr",
     "output_type": "stream",
     "text": [
      "C:\\Users\\Uma Bala\\AppData\\Local\\Temp\\ipykernel_23008\\1248639595.py:50: FutureWarning: The frame.append method is deprecated and will be removed from pandas in a future version. Use pandas.concat instead.\n",
      "  df2 = df2.append(data, ignore_index=True)\n"
     ]
    },
    {
     "name": "stdout",
     "output_type": "stream",
     "text": [
      "TRACK 40  in  spotify:track:2CwE41FCKT4rr8WmBsOrFr  COMPLETED\n"
     ]
    },
    {
     "name": "stderr",
     "output_type": "stream",
     "text": [
      "C:\\Users\\Uma Bala\\AppData\\Local\\Temp\\ipykernel_23008\\1248639595.py:50: FutureWarning: The frame.append method is deprecated and will be removed from pandas in a future version. Use pandas.concat instead.\n",
      "  df2 = df2.append(data, ignore_index=True)\n"
     ]
    },
    {
     "name": "stdout",
     "output_type": "stream",
     "text": [
      "TRACK 41  in  spotify:track:0sSyDptzNXHBODOssLukZT  COMPLETED\n"
     ]
    },
    {
     "name": "stderr",
     "output_type": "stream",
     "text": [
      "C:\\Users\\Uma Bala\\AppData\\Local\\Temp\\ipykernel_23008\\1248639595.py:50: FutureWarning: The frame.append method is deprecated and will be removed from pandas in a future version. Use pandas.concat instead.\n",
      "  df2 = df2.append(data, ignore_index=True)\n"
     ]
    },
    {
     "name": "stdout",
     "output_type": "stream",
     "text": [
      "TRACK 42  in  spotify:track:0k1KBQ6r6BJYAXAHVnjNJJ  COMPLETED\n"
     ]
    },
    {
     "name": "stderr",
     "output_type": "stream",
     "text": [
      "C:\\Users\\Uma Bala\\AppData\\Local\\Temp\\ipykernel_23008\\1248639595.py:50: FutureWarning: The frame.append method is deprecated and will be removed from pandas in a future version. Use pandas.concat instead.\n",
      "  df2 = df2.append(data, ignore_index=True)\n",
      "C:\\Users\\Uma Bala\\AppData\\Local\\Temp\\ipykernel_23008\\1248639595.py:50: FutureWarning: The frame.append method is deprecated and will be removed from pandas in a future version. Use pandas.concat instead.\n",
      "  df2 = df2.append(data, ignore_index=True)\n"
     ]
    },
    {
     "name": "stdout",
     "output_type": "stream",
     "text": [
      "TRACK 43  in  spotify:track:14p5EKgbPx4U3P1j5JNHeh  COMPLETED\n",
      "TRACK 44  in  spotify:track:1cBNzkPsAdI7XJaKIsjKUk  COMPLETED\n"
     ]
    },
    {
     "name": "stderr",
     "output_type": "stream",
     "text": [
      "C:\\Users\\Uma Bala\\AppData\\Local\\Temp\\ipykernel_23008\\1248639595.py:50: FutureWarning: The frame.append method is deprecated and will be removed from pandas in a future version. Use pandas.concat instead.\n",
      "  df2 = df2.append(data, ignore_index=True)\n",
      "C:\\Users\\Uma Bala\\AppData\\Local\\Temp\\ipykernel_23008\\1248639595.py:50: FutureWarning: The frame.append method is deprecated and will be removed from pandas in a future version. Use pandas.concat instead.\n",
      "  df2 = df2.append(data, ignore_index=True)\n"
     ]
    },
    {
     "name": "stdout",
     "output_type": "stream",
     "text": [
      "TRACK 45  in  spotify:track:74tqql9zP6JjF5hjkHHUXp  COMPLETED\n",
      "TRACK 46  in  spotify:track:5Anh8jULgeUgciLHCR25Mk  COMPLETED\n"
     ]
    },
    {
     "name": "stderr",
     "output_type": "stream",
     "text": [
      "C:\\Users\\Uma Bala\\AppData\\Local\\Temp\\ipykernel_23008\\1248639595.py:50: FutureWarning: The frame.append method is deprecated and will be removed from pandas in a future version. Use pandas.concat instead.\n",
      "  df2 = df2.append(data, ignore_index=True)\n",
      "C:\\Users\\Uma Bala\\AppData\\Local\\Temp\\ipykernel_23008\\1248639595.py:50: FutureWarning: The frame.append method is deprecated and will be removed from pandas in a future version. Use pandas.concat instead.\n",
      "  df2 = df2.append(data, ignore_index=True)\n"
     ]
    },
    {
     "name": "stdout",
     "output_type": "stream",
     "text": [
      "TRACK 47  in  spotify:track:1EGtfMlDM9qOb0C0vQYz8H  COMPLETED\n",
      "TRACK 48  in  spotify:track:3rO1EWWMO4Nt39Kbk4oCjD  COMPLETED\n"
     ]
    },
    {
     "name": "stderr",
     "output_type": "stream",
     "text": [
      "C:\\Users\\Uma Bala\\AppData\\Local\\Temp\\ipykernel_23008\\1248639595.py:50: FutureWarning: The frame.append method is deprecated and will be removed from pandas in a future version. Use pandas.concat instead.\n",
      "  df2 = df2.append(data, ignore_index=True)\n",
      "C:\\Users\\Uma Bala\\AppData\\Local\\Temp\\ipykernel_23008\\1248639595.py:50: FutureWarning: The frame.append method is deprecated and will be removed from pandas in a future version. Use pandas.concat instead.\n",
      "  df2 = df2.append(data, ignore_index=True)\n"
     ]
    },
    {
     "name": "stdout",
     "output_type": "stream",
     "text": [
      "TRACK 49  in  spotify:track:2Pgq0NCpCoApRn5hkveQDx  COMPLETED\n",
      "TRACK 50  in  spotify:track:11cqsCFJayk8dLyJqPvGvp  COMPLETED\n"
     ]
    },
    {
     "name": "stderr",
     "output_type": "stream",
     "text": [
      "C:\\Users\\Uma Bala\\AppData\\Local\\Temp\\ipykernel_23008\\1248639595.py:50: FutureWarning: The frame.append method is deprecated and will be removed from pandas in a future version. Use pandas.concat instead.\n",
      "  df2 = df2.append(data, ignore_index=True)\n"
     ]
    },
    {
     "name": "stdout",
     "output_type": "stream",
     "text": [
      "TRACK 51  in  spotify:track:76t8j6fcgo4rDzSQutispC  COMPLETED\n"
     ]
    },
    {
     "name": "stderr",
     "output_type": "stream",
     "text": [
      "C:\\Users\\Uma Bala\\AppData\\Local\\Temp\\ipykernel_23008\\1248639595.py:50: FutureWarning: The frame.append method is deprecated and will be removed from pandas in a future version. Use pandas.concat instead.\n",
      "  df2 = df2.append(data, ignore_index=True)\n"
     ]
    },
    {
     "name": "stdout",
     "output_type": "stream",
     "text": [
      "TRACK 52  in  spotify:track:0Yu6DQYBpvztT117wT37aR  COMPLETED\n"
     ]
    },
    {
     "name": "stderr",
     "output_type": "stream",
     "text": [
      "C:\\Users\\Uma Bala\\AppData\\Local\\Temp\\ipykernel_23008\\1248639595.py:50: FutureWarning: The frame.append method is deprecated and will be removed from pandas in a future version. Use pandas.concat instead.\n",
      "  df2 = df2.append(data, ignore_index=True)\n"
     ]
    },
    {
     "name": "stdout",
     "output_type": "stream",
     "text": [
      "TRACK 53  in  spotify:track:7miWgY1Pa5qXOEwtNC5scT  COMPLETED\n"
     ]
    },
    {
     "name": "stderr",
     "output_type": "stream",
     "text": [
      "C:\\Users\\Uma Bala\\AppData\\Local\\Temp\\ipykernel_23008\\1248639595.py:50: FutureWarning: The frame.append method is deprecated and will be removed from pandas in a future version. Use pandas.concat instead.\n",
      "  df2 = df2.append(data, ignore_index=True)\n"
     ]
    },
    {
     "name": "stdout",
     "output_type": "stream",
     "text": [
      "TRACK 54  in  spotify:track:7fF6u8BlXiA3bJKDuJMKRR  COMPLETED\n"
     ]
    },
    {
     "name": "stderr",
     "output_type": "stream",
     "text": [
      "C:\\Users\\Uma Bala\\AppData\\Local\\Temp\\ipykernel_23008\\1248639595.py:50: FutureWarning: The frame.append method is deprecated and will be removed from pandas in a future version. Use pandas.concat instead.\n",
      "  df2 = df2.append(data, ignore_index=True)\n"
     ]
    },
    {
     "name": "stdout",
     "output_type": "stream",
     "text": [
      "TRACK 55  in  spotify:track:2aKM3LjYV8JUtFDOfqj1dW  COMPLETED\n"
     ]
    },
    {
     "name": "stderr",
     "output_type": "stream",
     "text": [
      "C:\\Users\\Uma Bala\\AppData\\Local\\Temp\\ipykernel_23008\\1248639595.py:50: FutureWarning: The frame.append method is deprecated and will be removed from pandas in a future version. Use pandas.concat instead.\n",
      "  df2 = df2.append(data, ignore_index=True)\n"
     ]
    },
    {
     "name": "stdout",
     "output_type": "stream",
     "text": [
      "TRACK 56  in  spotify:track:1k5nxmp8YloLnRpo6drPOA  COMPLETED\n"
     ]
    },
    {
     "name": "stderr",
     "output_type": "stream",
     "text": [
      "C:\\Users\\Uma Bala\\AppData\\Local\\Temp\\ipykernel_23008\\1248639595.py:50: FutureWarning: The frame.append method is deprecated and will be removed from pandas in a future version. Use pandas.concat instead.\n",
      "  df2 = df2.append(data, ignore_index=True)\n",
      "C:\\Users\\Uma Bala\\AppData\\Local\\Temp\\ipykernel_23008\\1248639595.py:50: FutureWarning: The frame.append method is deprecated and will be removed from pandas in a future version. Use pandas.concat instead.\n",
      "  df2 = df2.append(data, ignore_index=True)\n"
     ]
    },
    {
     "name": "stdout",
     "output_type": "stream",
     "text": [
      "TRACK 57  in  spotify:track:0uMvh2H6ads6aeTGjrDZOe  COMPLETED\n",
      "TRACK 58  in  spotify:track:7IDCatYQKznUSO85CtQ7zY  COMPLETED\n"
     ]
    },
    {
     "name": "stderr",
     "output_type": "stream",
     "text": [
      "C:\\Users\\Uma Bala\\AppData\\Local\\Temp\\ipykernel_23008\\1248639595.py:50: FutureWarning: The frame.append method is deprecated and will be removed from pandas in a future version. Use pandas.concat instead.\n",
      "  df2 = df2.append(data, ignore_index=True)\n"
     ]
    },
    {
     "name": "stdout",
     "output_type": "stream",
     "text": [
      "TRACK 59  in  spotify:track:5UYiuOoh5HmccUCw1oV37s  COMPLETED\n"
     ]
    },
    {
     "name": "stderr",
     "output_type": "stream",
     "text": [
      "C:\\Users\\Uma Bala\\AppData\\Local\\Temp\\ipykernel_23008\\1248639595.py:50: FutureWarning: The frame.append method is deprecated and will be removed from pandas in a future version. Use pandas.concat instead.\n",
      "  df2 = df2.append(data, ignore_index=True)\n"
     ]
    },
    {
     "name": "stdout",
     "output_type": "stream",
     "text": [
      "TRACK 60  in  spotify:track:3K8tRD2Prik7FXbD8lZ6DC  COMPLETED\n"
     ]
    },
    {
     "name": "stderr",
     "output_type": "stream",
     "text": [
      "C:\\Users\\Uma Bala\\AppData\\Local\\Temp\\ipykernel_23008\\1248639595.py:50: FutureWarning: The frame.append method is deprecated and will be removed from pandas in a future version. Use pandas.concat instead.\n",
      "  df2 = df2.append(data, ignore_index=True)\n"
     ]
    },
    {
     "name": "stdout",
     "output_type": "stream",
     "text": [
      "TRACK 61  in  spotify:track:4ndG3rybRXBe2uEDS8OC9E  COMPLETED\n"
     ]
    },
    {
     "name": "stderr",
     "output_type": "stream",
     "text": [
      "C:\\Users\\Uma Bala\\AppData\\Local\\Temp\\ipykernel_23008\\1248639595.py:50: FutureWarning: The frame.append method is deprecated and will be removed from pandas in a future version. Use pandas.concat instead.\n",
      "  df2 = df2.append(data, ignore_index=True)\n"
     ]
    },
    {
     "name": "stdout",
     "output_type": "stream",
     "text": [
      "TRACK 62  in  spotify:track:2d9hKKKQmGxcknyMIgLVmQ  COMPLETED\n"
     ]
    },
    {
     "name": "stderr",
     "output_type": "stream",
     "text": [
      "C:\\Users\\Uma Bala\\AppData\\Local\\Temp\\ipykernel_23008\\1248639595.py:50: FutureWarning: The frame.append method is deprecated and will be removed from pandas in a future version. Use pandas.concat instead.\n",
      "  df2 = df2.append(data, ignore_index=True)\n",
      "C:\\Users\\Uma Bala\\AppData\\Local\\Temp\\ipykernel_23008\\1248639595.py:50: FutureWarning: The frame.append method is deprecated and will be removed from pandas in a future version. Use pandas.concat instead.\n",
      "  df2 = df2.append(data, ignore_index=True)\n"
     ]
    },
    {
     "name": "stdout",
     "output_type": "stream",
     "text": [
      "TRACK 63  in  spotify:track:5p684vIzF5LOkmHL3I0tyM  COMPLETED\n",
      "TRACK 64  in  spotify:track:01Q3OyB05mLgH01fpdAMPP  COMPLETED\n"
     ]
    },
    {
     "name": "stderr",
     "output_type": "stream",
     "text": [
      "C:\\Users\\Uma Bala\\AppData\\Local\\Temp\\ipykernel_23008\\1248639595.py:50: FutureWarning: The frame.append method is deprecated and will be removed from pandas in a future version. Use pandas.concat instead.\n",
      "  df2 = df2.append(data, ignore_index=True)\n",
      "C:\\Users\\Uma Bala\\AppData\\Local\\Temp\\ipykernel_23008\\1248639595.py:50: FutureWarning: The frame.append method is deprecated and will be removed from pandas in a future version. Use pandas.concat instead.\n",
      "  df2 = df2.append(data, ignore_index=True)\n"
     ]
    },
    {
     "name": "stdout",
     "output_type": "stream",
     "text": [
      "TRACK 65  in  spotify:track:4OsBjrJQbPSMAqdjLBaGOt  COMPLETED\n",
      "TRACK 66  in  spotify:track:2tznHmp70DxMyr2XhWLOW0  COMPLETED\n"
     ]
    },
    {
     "name": "stderr",
     "output_type": "stream",
     "text": [
      "C:\\Users\\Uma Bala\\AppData\\Local\\Temp\\ipykernel_23008\\1248639595.py:50: FutureWarning: The frame.append method is deprecated and will be removed from pandas in a future version. Use pandas.concat instead.\n",
      "  df2 = df2.append(data, ignore_index=True)\n"
     ]
    },
    {
     "name": "stdout",
     "output_type": "stream",
     "text": [
      "TRACK 67  in  spotify:track:6hmmNlvwMiCGsdDKujp7MP  COMPLETED\n"
     ]
    },
    {
     "name": "stderr",
     "output_type": "stream",
     "text": [
      "C:\\Users\\Uma Bala\\AppData\\Local\\Temp\\ipykernel_23008\\1248639595.py:50: FutureWarning: The frame.append method is deprecated and will be removed from pandas in a future version. Use pandas.concat instead.\n",
      "  df2 = df2.append(data, ignore_index=True)\n"
     ]
    },
    {
     "name": "stdout",
     "output_type": "stream",
     "text": [
      "TRACK 68  in  spotify:track:060UwKWts0vCvh6H3hsgEM  COMPLETED\n"
     ]
    },
    {
     "name": "stderr",
     "output_type": "stream",
     "text": [
      "C:\\Users\\Uma Bala\\AppData\\Local\\Temp\\ipykernel_23008\\1248639595.py:50: FutureWarning: The frame.append method is deprecated and will be removed from pandas in a future version. Use pandas.concat instead.\n",
      "  df2 = df2.append(data, ignore_index=True)\n"
     ]
    },
    {
     "name": "stdout",
     "output_type": "stream",
     "text": [
      "TRACK 69  in  spotify:track:41k910HbknS3om6TXsy2we  COMPLETED\n"
     ]
    },
    {
     "name": "stderr",
     "output_type": "stream",
     "text": [
      "C:\\Users\\Uma Bala\\AppData\\Local\\Temp\\ipykernel_23008\\1248639595.py:50: FutureWarning: The frame.append method is deprecated and will be removed from pandas in a future version. Use pandas.concat instead.\n",
      "  df2 = df2.append(data, ignore_index=True)\n"
     ]
    },
    {
     "name": "stdout",
     "output_type": "stream",
     "text": [
      "TRACK 70  in  spotify:track:7lD4bwbBCqukPke3Xt1Ncs  COMPLETED\n"
     ]
    },
    {
     "name": "stderr",
     "output_type": "stream",
     "text": [
      "C:\\Users\\Uma Bala\\AppData\\Local\\Temp\\ipykernel_23008\\1248639595.py:50: FutureWarning: The frame.append method is deprecated and will be removed from pandas in a future version. Use pandas.concat instead.\n",
      "  df2 = df2.append(data, ignore_index=True)\n"
     ]
    },
    {
     "name": "stdout",
     "output_type": "stream",
     "text": [
      "TRACK 71  in  spotify:track:34p3Kw1fR2POzyLDZkLT62  COMPLETED\n"
     ]
    },
    {
     "name": "stderr",
     "output_type": "stream",
     "text": [
      "C:\\Users\\Uma Bala\\AppData\\Local\\Temp\\ipykernel_23008\\1248639595.py:50: FutureWarning: The frame.append method is deprecated and will be removed from pandas in a future version. Use pandas.concat instead.\n",
      "  df2 = df2.append(data, ignore_index=True)\n"
     ]
    },
    {
     "name": "stdout",
     "output_type": "stream",
     "text": [
      "TRACK 72  in  spotify:track:56iI6wwW6Lm2DzRxl0TFqH  COMPLETED\n"
     ]
    },
    {
     "name": "stderr",
     "output_type": "stream",
     "text": [
      "C:\\Users\\Uma Bala\\AppData\\Local\\Temp\\ipykernel_23008\\1248639595.py:50: FutureWarning: The frame.append method is deprecated and will be removed from pandas in a future version. Use pandas.concat instead.\n",
      "  df2 = df2.append(data, ignore_index=True)\n"
     ]
    },
    {
     "name": "stdout",
     "output_type": "stream",
     "text": [
      "TRACK 73  in  spotify:track:5V7qLbZJNTwaEVbZADqofc  COMPLETED\n"
     ]
    },
    {
     "name": "stderr",
     "output_type": "stream",
     "text": [
      "C:\\Users\\Uma Bala\\AppData\\Local\\Temp\\ipykernel_23008\\1248639595.py:50: FutureWarning: The frame.append method is deprecated and will be removed from pandas in a future version. Use pandas.concat instead.\n",
      "  df2 = df2.append(data, ignore_index=True)\n"
     ]
    },
    {
     "name": "stdout",
     "output_type": "stream",
     "text": [
      "TRACK 74  in  spotify:track:5HsSsEeP3hU9QSfHZrzbtA  COMPLETED\n"
     ]
    },
    {
     "name": "stderr",
     "output_type": "stream",
     "text": [
      "C:\\Users\\Uma Bala\\AppData\\Local\\Temp\\ipykernel_23008\\1248639595.py:50: FutureWarning: The frame.append method is deprecated and will be removed from pandas in a future version. Use pandas.concat instead.\n",
      "  df2 = df2.append(data, ignore_index=True)\n"
     ]
    },
    {
     "name": "stdout",
     "output_type": "stream",
     "text": [
      "TRACK 75  in  spotify:track:0ZAiqymvbQUZAh9y6ZT3Rm  COMPLETED\n"
     ]
    },
    {
     "name": "stderr",
     "output_type": "stream",
     "text": [
      "C:\\Users\\Uma Bala\\AppData\\Local\\Temp\\ipykernel_23008\\1248639595.py:50: FutureWarning: The frame.append method is deprecated and will be removed from pandas in a future version. Use pandas.concat instead.\n",
      "  df2 = df2.append(data, ignore_index=True)\n"
     ]
    },
    {
     "name": "stdout",
     "output_type": "stream",
     "text": [
      "TRACK 76  in  spotify:track:6xJSVfI6xi51iJrbm9KjXb  COMPLETED\n"
     ]
    },
    {
     "name": "stderr",
     "output_type": "stream",
     "text": [
      "C:\\Users\\Uma Bala\\AppData\\Local\\Temp\\ipykernel_23008\\1248639595.py:50: FutureWarning: The frame.append method is deprecated and will be removed from pandas in a future version. Use pandas.concat instead.\n",
      "  df2 = df2.append(data, ignore_index=True)\n"
     ]
    },
    {
     "name": "stdout",
     "output_type": "stream",
     "text": [
      "TRACK 77  in  spotify:track:4kU3W9CBmw5s7f5R5A8Axt  COMPLETED\n"
     ]
    },
    {
     "name": "stderr",
     "output_type": "stream",
     "text": [
      "C:\\Users\\Uma Bala\\AppData\\Local\\Temp\\ipykernel_23008\\1248639595.py:50: FutureWarning: The frame.append method is deprecated and will be removed from pandas in a future version. Use pandas.concat instead.\n",
      "  df2 = df2.append(data, ignore_index=True)\n",
      "C:\\Users\\Uma Bala\\AppData\\Local\\Temp\\ipykernel_23008\\1248639595.py:50: FutureWarning: The frame.append method is deprecated and will be removed from pandas in a future version. Use pandas.concat instead.\n",
      "  df2 = df2.append(data, ignore_index=True)\n"
     ]
    },
    {
     "name": "stdout",
     "output_type": "stream",
     "text": [
      "TRACK 78  in  spotify:track:3ljf15wc6yNaQnFJmPnyxj  COMPLETED\n",
      "TRACK 79  in  spotify:track:3uEFtV5fPIcDR6fIKeeBcS  COMPLETED\n"
     ]
    },
    {
     "name": "stderr",
     "output_type": "stream",
     "text": [
      "C:\\Users\\Uma Bala\\AppData\\Local\\Temp\\ipykernel_23008\\1248639595.py:50: FutureWarning: The frame.append method is deprecated and will be removed from pandas in a future version. Use pandas.concat instead.\n",
      "  df2 = df2.append(data, ignore_index=True)\n"
     ]
    },
    {
     "name": "stdout",
     "output_type": "stream",
     "text": [
      "TRACK 80  in  spotify:track:0US7M5Cc4HToQXy99z92SV  COMPLETED\n"
     ]
    },
    {
     "name": "stderr",
     "output_type": "stream",
     "text": [
      "C:\\Users\\Uma Bala\\AppData\\Local\\Temp\\ipykernel_23008\\1248639595.py:50: FutureWarning: The frame.append method is deprecated and will be removed from pandas in a future version. Use pandas.concat instead.\n",
      "  df2 = df2.append(data, ignore_index=True)\n"
     ]
    },
    {
     "name": "stdout",
     "output_type": "stream",
     "text": [
      "TRACK 81  in  spotify:track:7ivYWXqrPLs66YwakDuSim  COMPLETED\n"
     ]
    },
    {
     "name": "stderr",
     "output_type": "stream",
     "text": [
      "C:\\Users\\Uma Bala\\AppData\\Local\\Temp\\ipykernel_23008\\1248639595.py:50: FutureWarning: The frame.append method is deprecated and will be removed from pandas in a future version. Use pandas.concat instead.\n",
      "  df2 = df2.append(data, ignore_index=True)\n"
     ]
    },
    {
     "name": "stdout",
     "output_type": "stream",
     "text": [
      "TRACK 82  in  spotify:track:6mORGLOz79w6VsCRLWYYuK  COMPLETED\n"
     ]
    },
    {
     "name": "stderr",
     "output_type": "stream",
     "text": [
      "C:\\Users\\Uma Bala\\AppData\\Local\\Temp\\ipykernel_23008\\1248639595.py:50: FutureWarning: The frame.append method is deprecated and will be removed from pandas in a future version. Use pandas.concat instead.\n",
      "  df2 = df2.append(data, ignore_index=True)\n"
     ]
    },
    {
     "name": "stdout",
     "output_type": "stream",
     "text": [
      "TRACK 83  in  spotify:track:3m9P9tPkZpHT1TOW8BZxQh  COMPLETED\n"
     ]
    },
    {
     "name": "stderr",
     "output_type": "stream",
     "text": [
      "C:\\Users\\Uma Bala\\AppData\\Local\\Temp\\ipykernel_23008\\1248639595.py:50: FutureWarning: The frame.append method is deprecated and will be removed from pandas in a future version. Use pandas.concat instead.\n",
      "  df2 = df2.append(data, ignore_index=True)\n"
     ]
    },
    {
     "name": "stdout",
     "output_type": "stream",
     "text": [
      "TRACK 84  in  spotify:track:59Bc4RPzSL3nYPANh25a6J  COMPLETED\n"
     ]
    },
    {
     "name": "stderr",
     "output_type": "stream",
     "text": [
      "C:\\Users\\Uma Bala\\AppData\\Local\\Temp\\ipykernel_23008\\1248639595.py:50: FutureWarning: The frame.append method is deprecated and will be removed from pandas in a future version. Use pandas.concat instead.\n",
      "  df2 = df2.append(data, ignore_index=True)\n"
     ]
    },
    {
     "name": "stdout",
     "output_type": "stream",
     "text": [
      "TRACK 85  in  spotify:track:39SQ0CjIineoa2mbiJpZdk  COMPLETED\n"
     ]
    },
    {
     "name": "stderr",
     "output_type": "stream",
     "text": [
      "C:\\Users\\Uma Bala\\AppData\\Local\\Temp\\ipykernel_23008\\1248639595.py:50: FutureWarning: The frame.append method is deprecated and will be removed from pandas in a future version. Use pandas.concat instead.\n",
      "  df2 = df2.append(data, ignore_index=True)\n"
     ]
    },
    {
     "name": "stdout",
     "output_type": "stream",
     "text": [
      "TRACK 86  in  spotify:track:0BCmwpQfnx8N9wnX493XhT  COMPLETED\n"
     ]
    },
    {
     "name": "stderr",
     "output_type": "stream",
     "text": [
      "C:\\Users\\Uma Bala\\AppData\\Local\\Temp\\ipykernel_23008\\1248639595.py:50: FutureWarning: The frame.append method is deprecated and will be removed from pandas in a future version. Use pandas.concat instead.\n",
      "  df2 = df2.append(data, ignore_index=True)\n"
     ]
    },
    {
     "name": "stdout",
     "output_type": "stream",
     "text": [
      "TRACK 87  in  spotify:track:0XEa4VCYDz0WReU2lMJljd  COMPLETED\n"
     ]
    },
    {
     "name": "stderr",
     "output_type": "stream",
     "text": [
      "C:\\Users\\Uma Bala\\AppData\\Local\\Temp\\ipykernel_23008\\1248639595.py:50: FutureWarning: The frame.append method is deprecated and will be removed from pandas in a future version. Use pandas.concat instead.\n",
      "  df2 = df2.append(data, ignore_index=True)\n"
     ]
    },
    {
     "name": "stdout",
     "output_type": "stream",
     "text": [
      "TRACK 88  in  spotify:track:3CRtbOoAP82y0VbPO5j1ft  COMPLETED\n"
     ]
    },
    {
     "name": "stderr",
     "output_type": "stream",
     "text": [
      "C:\\Users\\Uma Bala\\AppData\\Local\\Temp\\ipykernel_23008\\1248639595.py:50: FutureWarning: The frame.append method is deprecated and will be removed from pandas in a future version. Use pandas.concat instead.\n",
      "  df2 = df2.append(data, ignore_index=True)\n"
     ]
    },
    {
     "name": "stdout",
     "output_type": "stream",
     "text": [
      "TRACK 89  in  spotify:track:4K3gM7kzX4POAfrs71HomN  COMPLETED\n"
     ]
    },
    {
     "name": "stderr",
     "output_type": "stream",
     "text": [
      "C:\\Users\\Uma Bala\\AppData\\Local\\Temp\\ipykernel_23008\\1248639595.py:50: FutureWarning: The frame.append method is deprecated and will be removed from pandas in a future version. Use pandas.concat instead.\n",
      "  df2 = df2.append(data, ignore_index=True)\n",
      "C:\\Users\\Uma Bala\\AppData\\Local\\Temp\\ipykernel_23008\\1248639595.py:50: FutureWarning: The frame.append method is deprecated and will be removed from pandas in a future version. Use pandas.concat instead.\n",
      "  df2 = df2.append(data, ignore_index=True)\n"
     ]
    },
    {
     "name": "stdout",
     "output_type": "stream",
     "text": [
      "TRACK 90  in  spotify:track:5n5CDFXyRibBwu0wjSNkWQ  COMPLETED\n",
      "TRACK 91  in  spotify:track:5sZOGj6SfzD7lWpwKhF6oE  COMPLETED\n"
     ]
    },
    {
     "name": "stderr",
     "output_type": "stream",
     "text": [
      "C:\\Users\\Uma Bala\\AppData\\Local\\Temp\\ipykernel_23008\\1248639595.py:50: FutureWarning: The frame.append method is deprecated and will be removed from pandas in a future version. Use pandas.concat instead.\n",
      "  df2 = df2.append(data, ignore_index=True)\n"
     ]
    },
    {
     "name": "stdout",
     "output_type": "stream",
     "text": [
      "TRACK 92  in  spotify:track:2k9N4caeCIJLOWwWwssrEM  COMPLETED\n"
     ]
    },
    {
     "name": "stderr",
     "output_type": "stream",
     "text": [
      "C:\\Users\\Uma Bala\\AppData\\Local\\Temp\\ipykernel_23008\\1248639595.py:50: FutureWarning: The frame.append method is deprecated and will be removed from pandas in a future version. Use pandas.concat instead.\n",
      "  df2 = df2.append(data, ignore_index=True)\n"
     ]
    },
    {
     "name": "stdout",
     "output_type": "stream",
     "text": [
      "TRACK 93  in  spotify:track:4QSwT47I4uSiZ7fGf1WC1N  COMPLETED\n"
     ]
    },
    {
     "name": "stderr",
     "output_type": "stream",
     "text": [
      "C:\\Users\\Uma Bala\\AppData\\Local\\Temp\\ipykernel_23008\\1248639595.py:50: FutureWarning: The frame.append method is deprecated and will be removed from pandas in a future version. Use pandas.concat instead.\n",
      "  df2 = df2.append(data, ignore_index=True)\n"
     ]
    },
    {
     "name": "stdout",
     "output_type": "stream",
     "text": [
      "TRACK 94  in  spotify:track:3XstzgzP0rp3bzElEnRVHv  COMPLETED\n"
     ]
    },
    {
     "name": "stderr",
     "output_type": "stream",
     "text": [
      "C:\\Users\\Uma Bala\\AppData\\Local\\Temp\\ipykernel_23008\\1248639595.py:50: FutureWarning: The frame.append method is deprecated and will be removed from pandas in a future version. Use pandas.concat instead.\n",
      "  df2 = df2.append(data, ignore_index=True)\n"
     ]
    },
    {
     "name": "stdout",
     "output_type": "stream",
     "text": [
      "TRACK 95  in  spotify:track:2sFF0K2eHIClZYUqIbAwdb  COMPLETED\n"
     ]
    },
    {
     "name": "stderr",
     "output_type": "stream",
     "text": [
      "C:\\Users\\Uma Bala\\AppData\\Local\\Temp\\ipykernel_23008\\1248639595.py:50: FutureWarning: The frame.append method is deprecated and will be removed from pandas in a future version. Use pandas.concat instead.\n",
      "  df2 = df2.append(data, ignore_index=True)\n"
     ]
    },
    {
     "name": "stdout",
     "output_type": "stream",
     "text": [
      "TRACK 96  in  spotify:track:1xyGT0Onkr3s5qctSQWStE  COMPLETED\n"
     ]
    },
    {
     "name": "stderr",
     "output_type": "stream",
     "text": [
      "C:\\Users\\Uma Bala\\AppData\\Local\\Temp\\ipykernel_23008\\1248639595.py:50: FutureWarning: The frame.append method is deprecated and will be removed from pandas in a future version. Use pandas.concat instead.\n",
      "  df2 = df2.append(data, ignore_index=True)\n"
     ]
    },
    {
     "name": "stdout",
     "output_type": "stream",
     "text": [
      "TRACK 97  in  spotify:track:6YKb5UMzDOtfCfbPvJZ8XT  COMPLETED\n"
     ]
    },
    {
     "name": "stderr",
     "output_type": "stream",
     "text": [
      "C:\\Users\\Uma Bala\\AppData\\Local\\Temp\\ipykernel_23008\\1248639595.py:50: FutureWarning: The frame.append method is deprecated and will be removed from pandas in a future version. Use pandas.concat instead.\n",
      "  df2 = df2.append(data, ignore_index=True)\n",
      "C:\\Users\\Uma Bala\\AppData\\Local\\Temp\\ipykernel_23008\\1248639595.py:50: FutureWarning: The frame.append method is deprecated and will be removed from pandas in a future version. Use pandas.concat instead.\n",
      "  df2 = df2.append(data, ignore_index=True)\n"
     ]
    },
    {
     "name": "stdout",
     "output_type": "stream",
     "text": [
      "TRACK 98  in  spotify:track:5Y7a8iWIawp1QTbevGeH1V  COMPLETED\n",
      "TRACK 99  in  spotify:track:630Ug0XtmhhFvAKo0PNuEI  COMPLETED\n"
     ]
    },
    {
     "name": "stderr",
     "output_type": "stream",
     "text": [
      "C:\\Users\\Uma Bala\\AppData\\Local\\Temp\\ipykernel_23008\\1248639595.py:50: FutureWarning: The frame.append method is deprecated and will be removed from pandas in a future version. Use pandas.concat instead.\n",
      "  df2 = df2.append(data, ignore_index=True)\n"
     ]
    },
    {
     "name": "stdout",
     "output_type": "stream",
     "text": [
      "TRACK 100  in  spotify:track:0SYpCoj9oeOCC4tTYL7Yfo  COMPLETED\n"
     ]
    },
    {
     "name": "stderr",
     "output_type": "stream",
     "text": [
      "C:\\Users\\Uma Bala\\AppData\\Local\\Temp\\ipykernel_23008\\1248639595.py:50: FutureWarning: The frame.append method is deprecated and will be removed from pandas in a future version. Use pandas.concat instead.\n",
      "  df2 = df2.append(data, ignore_index=True)\n"
     ]
    }
   ],
   "source": [
    "df_flop_6 = get_song_data('https://open.spotify.com/playlist/2v3JI4Dp77YarWW08pEWaf?si=c68eeb6b31c1427c')\n"
   ]
  },
  {
   "cell_type": "code",
   "execution_count": 49,
   "id": "a86a4097",
   "metadata": {},
   "outputs": [
    {
     "name": "stdout",
     "output_type": "stream",
     "text": [
      "TRACK 1  in  spotify:track:5CscrLqFBgPfZR8fGtikov  COMPLETED\n"
     ]
    },
    {
     "name": "stderr",
     "output_type": "stream",
     "text": [
      "C:\\Users\\Uma Bala\\AppData\\Local\\Temp\\ipykernel_23008\\1248639595.py:50: FutureWarning: The frame.append method is deprecated and will be removed from pandas in a future version. Use pandas.concat instead.\n",
      "  df2 = df2.append(data, ignore_index=True)\n"
     ]
    },
    {
     "name": "stdout",
     "output_type": "stream",
     "text": [
      "TRACK 2  in  spotify:track:0SFq19lgG4qbQAZaNZ3xhO  COMPLETED\n"
     ]
    },
    {
     "name": "stderr",
     "output_type": "stream",
     "text": [
      "C:\\Users\\Uma Bala\\AppData\\Local\\Temp\\ipykernel_23008\\1248639595.py:50: FutureWarning: The frame.append method is deprecated and will be removed from pandas in a future version. Use pandas.concat instead.\n",
      "  df2 = df2.append(data, ignore_index=True)\n",
      "C:\\Users\\Uma Bala\\AppData\\Local\\Temp\\ipykernel_23008\\1248639595.py:50: FutureWarning: The frame.append method is deprecated and will be removed from pandas in a future version. Use pandas.concat instead.\n",
      "  df2 = df2.append(data, ignore_index=True)\n"
     ]
    },
    {
     "name": "stdout",
     "output_type": "stream",
     "text": [
      "TRACK 3  in  spotify:track:1UujO43qVZnWObydH4MLT5  COMPLETED\n",
      "TRACK 4  in  spotify:track:3K0JEe0tITHENuJTuao3z0  COMPLETED\n"
     ]
    },
    {
     "name": "stderr",
     "output_type": "stream",
     "text": [
      "C:\\Users\\Uma Bala\\AppData\\Local\\Temp\\ipykernel_23008\\1248639595.py:50: FutureWarning: The frame.append method is deprecated and will be removed from pandas in a future version. Use pandas.concat instead.\n",
      "  df2 = df2.append(data, ignore_index=True)\n"
     ]
    },
    {
     "name": "stdout",
     "output_type": "stream",
     "text": [
      "TRACK 5  in  spotify:track:0rFcav2bUNH6NC9576Viiu  COMPLETED\n"
     ]
    },
    {
     "name": "stderr",
     "output_type": "stream",
     "text": [
      "C:\\Users\\Uma Bala\\AppData\\Local\\Temp\\ipykernel_23008\\1248639595.py:50: FutureWarning: The frame.append method is deprecated and will be removed from pandas in a future version. Use pandas.concat instead.\n",
      "  df2 = df2.append(data, ignore_index=True)\n"
     ]
    },
    {
     "name": "stdout",
     "output_type": "stream",
     "text": [
      "TRACK 6  in  spotify:track:6hA2RJXcvP4la8ysurSPWz  COMPLETED\n"
     ]
    },
    {
     "name": "stderr",
     "output_type": "stream",
     "text": [
      "C:\\Users\\Uma Bala\\AppData\\Local\\Temp\\ipykernel_23008\\1248639595.py:50: FutureWarning: The frame.append method is deprecated and will be removed from pandas in a future version. Use pandas.concat instead.\n",
      "  df2 = df2.append(data, ignore_index=True)\n"
     ]
    },
    {
     "name": "stdout",
     "output_type": "stream",
     "text": [
      "TRACK 7  in  spotify:track:7gDOhQYzsLuw0smO4gJVRN  COMPLETED\n"
     ]
    },
    {
     "name": "stderr",
     "output_type": "stream",
     "text": [
      "C:\\Users\\Uma Bala\\AppData\\Local\\Temp\\ipykernel_23008\\1248639595.py:50: FutureWarning: The frame.append method is deprecated and will be removed from pandas in a future version. Use pandas.concat instead.\n",
      "  df2 = df2.append(data, ignore_index=True)\n"
     ]
    },
    {
     "name": "stdout",
     "output_type": "stream",
     "text": [
      "TRACK 8  in  spotify:track:0MMyJUC3WNnFS1lit5pTjk  COMPLETED\n"
     ]
    },
    {
     "name": "stderr",
     "output_type": "stream",
     "text": [
      "C:\\Users\\Uma Bala\\AppData\\Local\\Temp\\ipykernel_23008\\1248639595.py:50: FutureWarning: The frame.append method is deprecated and will be removed from pandas in a future version. Use pandas.concat instead.\n",
      "  df2 = df2.append(data, ignore_index=True)\n"
     ]
    },
    {
     "name": "stdout",
     "output_type": "stream",
     "text": [
      "TRACK 9  in  spotify:track:3Z6hyyLovm0RneiaIsM3Rt  COMPLETED\n"
     ]
    },
    {
     "name": "stderr",
     "output_type": "stream",
     "text": [
      "C:\\Users\\Uma Bala\\AppData\\Local\\Temp\\ipykernel_23008\\1248639595.py:50: FutureWarning: The frame.append method is deprecated and will be removed from pandas in a future version. Use pandas.concat instead.\n",
      "  df2 = df2.append(data, ignore_index=True)\n"
     ]
    },
    {
     "name": "stdout",
     "output_type": "stream",
     "text": [
      "TRACK 10  in  spotify:track:35TyJIMR3xRouUuo2sjS6v  COMPLETED\n"
     ]
    },
    {
     "name": "stderr",
     "output_type": "stream",
     "text": [
      "C:\\Users\\Uma Bala\\AppData\\Local\\Temp\\ipykernel_23008\\1248639595.py:50: FutureWarning: The frame.append method is deprecated and will be removed from pandas in a future version. Use pandas.concat instead.\n",
      "  df2 = df2.append(data, ignore_index=True)\n"
     ]
    },
    {
     "name": "stdout",
     "output_type": "stream",
     "text": [
      "TRACK 11  in  spotify:track:6wAFvJPpTZVirBKGZ4EnMW  COMPLETED\n"
     ]
    },
    {
     "name": "stderr",
     "output_type": "stream",
     "text": [
      "C:\\Users\\Uma Bala\\AppData\\Local\\Temp\\ipykernel_23008\\1248639595.py:50: FutureWarning: The frame.append method is deprecated and will be removed from pandas in a future version. Use pandas.concat instead.\n",
      "  df2 = df2.append(data, ignore_index=True)\n",
      "C:\\Users\\Uma Bala\\AppData\\Local\\Temp\\ipykernel_23008\\1248639595.py:50: FutureWarning: The frame.append method is deprecated and will be removed from pandas in a future version. Use pandas.concat instead.\n",
      "  df2 = df2.append(data, ignore_index=True)\n"
     ]
    },
    {
     "name": "stdout",
     "output_type": "stream",
     "text": [
      "TRACK 12  in  spotify:track:7I8qPfmUT4kofEFX0FlkLS  COMPLETED\n",
      "TRACK 13  in  spotify:track:2Rlso2ZNV0PaWwUYeeBYxx  COMPLETED\n"
     ]
    },
    {
     "name": "stderr",
     "output_type": "stream",
     "text": [
      "C:\\Users\\Uma Bala\\AppData\\Local\\Temp\\ipykernel_23008\\1248639595.py:50: FutureWarning: The frame.append method is deprecated and will be removed from pandas in a future version. Use pandas.concat instead.\n",
      "  df2 = df2.append(data, ignore_index=True)\n"
     ]
    },
    {
     "name": "stdout",
     "output_type": "stream",
     "text": [
      "TRACK 14  in  spotify:track:6DfbF423YwK81e5Gg2HKGA  COMPLETED\n"
     ]
    },
    {
     "name": "stderr",
     "output_type": "stream",
     "text": [
      "C:\\Users\\Uma Bala\\AppData\\Local\\Temp\\ipykernel_23008\\1248639595.py:50: FutureWarning: The frame.append method is deprecated and will be removed from pandas in a future version. Use pandas.concat instead.\n",
      "  df2 = df2.append(data, ignore_index=True)\n"
     ]
    },
    {
     "name": "stdout",
     "output_type": "stream",
     "text": [
      "TRACK 15  in  spotify:track:6QG9rI1xc4qYy3D1DClOsz  COMPLETED\n"
     ]
    },
    {
     "name": "stderr",
     "output_type": "stream",
     "text": [
      "C:\\Users\\Uma Bala\\AppData\\Local\\Temp\\ipykernel_23008\\1248639595.py:50: FutureWarning: The frame.append method is deprecated and will be removed from pandas in a future version. Use pandas.concat instead.\n",
      "  df2 = df2.append(data, ignore_index=True)\n"
     ]
    },
    {
     "name": "stdout",
     "output_type": "stream",
     "text": [
      "TRACK 16  in  spotify:track:3kr37obFLPyn8bX9CHSCnP  COMPLETED\n"
     ]
    },
    {
     "name": "stderr",
     "output_type": "stream",
     "text": [
      "C:\\Users\\Uma Bala\\AppData\\Local\\Temp\\ipykernel_23008\\1248639595.py:50: FutureWarning: The frame.append method is deprecated and will be removed from pandas in a future version. Use pandas.concat instead.\n",
      "  df2 = df2.append(data, ignore_index=True)\n"
     ]
    },
    {
     "name": "stdout",
     "output_type": "stream",
     "text": [
      "TRACK 17  in  spotify:track:4oQ8Z2N3cRsdjpSLXqJ9tg  COMPLETED\n"
     ]
    },
    {
     "name": "stderr",
     "output_type": "stream",
     "text": [
      "C:\\Users\\Uma Bala\\AppData\\Local\\Temp\\ipykernel_23008\\1248639595.py:50: FutureWarning: The frame.append method is deprecated and will be removed from pandas in a future version. Use pandas.concat instead.\n",
      "  df2 = df2.append(data, ignore_index=True)\n"
     ]
    },
    {
     "name": "stdout",
     "output_type": "stream",
     "text": [
      "TRACK 18  in  spotify:track:37P5Jrv2aoKAiLC9oRcnC1  COMPLETED\n"
     ]
    },
    {
     "name": "stderr",
     "output_type": "stream",
     "text": [
      "C:\\Users\\Uma Bala\\AppData\\Local\\Temp\\ipykernel_23008\\1248639595.py:50: FutureWarning: The frame.append method is deprecated and will be removed from pandas in a future version. Use pandas.concat instead.\n",
      "  df2 = df2.append(data, ignore_index=True)\n"
     ]
    },
    {
     "name": "stdout",
     "output_type": "stream",
     "text": [
      "TRACK 19  in  spotify:track:79RRMy751roUzddljSSgbt  COMPLETED\n"
     ]
    },
    {
     "name": "stderr",
     "output_type": "stream",
     "text": [
      "C:\\Users\\Uma Bala\\AppData\\Local\\Temp\\ipykernel_23008\\1248639595.py:50: FutureWarning: The frame.append method is deprecated and will be removed from pandas in a future version. Use pandas.concat instead.\n",
      "  df2 = df2.append(data, ignore_index=True)\n"
     ]
    },
    {
     "name": "stdout",
     "output_type": "stream",
     "text": [
      "TRACK 20  in  spotify:track:724twz0OSKUZrdSwuRUx5m  COMPLETED\n"
     ]
    },
    {
     "name": "stderr",
     "output_type": "stream",
     "text": [
      "C:\\Users\\Uma Bala\\AppData\\Local\\Temp\\ipykernel_23008\\1248639595.py:50: FutureWarning: The frame.append method is deprecated and will be removed from pandas in a future version. Use pandas.concat instead.\n",
      "  df2 = df2.append(data, ignore_index=True)\n"
     ]
    },
    {
     "name": "stdout",
     "output_type": "stream",
     "text": [
      "TRACK 21  in  spotify:track:2cMtkfv5jEb5UpIjJntl5g  COMPLETED\n"
     ]
    },
    {
     "name": "stderr",
     "output_type": "stream",
     "text": [
      "C:\\Users\\Uma Bala\\AppData\\Local\\Temp\\ipykernel_23008\\1248639595.py:50: FutureWarning: The frame.append method is deprecated and will be removed from pandas in a future version. Use pandas.concat instead.\n",
      "  df2 = df2.append(data, ignore_index=True)\n"
     ]
    },
    {
     "name": "stdout",
     "output_type": "stream",
     "text": [
      "TRACK 22  in  spotify:track:3jt8YFtxRJOg99gmJuQBiC  COMPLETED\n"
     ]
    },
    {
     "name": "stderr",
     "output_type": "stream",
     "text": [
      "C:\\Users\\Uma Bala\\AppData\\Local\\Temp\\ipykernel_23008\\1248639595.py:50: FutureWarning: The frame.append method is deprecated and will be removed from pandas in a future version. Use pandas.concat instead.\n",
      "  df2 = df2.append(data, ignore_index=True)\n",
      "C:\\Users\\Uma Bala\\AppData\\Local\\Temp\\ipykernel_23008\\1248639595.py:50: FutureWarning: The frame.append method is deprecated and will be removed from pandas in a future version. Use pandas.concat instead.\n",
      "  df2 = df2.append(data, ignore_index=True)\n"
     ]
    },
    {
     "name": "stdout",
     "output_type": "stream",
     "text": [
      "TRACK 23  in  spotify:track:3GxgJ1FmOClH2mOOvTcllP  COMPLETED\n",
      "TRACK 24  in  spotify:track:0wm6hUCmRnpwzWZIuUj8E1  COMPLETED\n"
     ]
    },
    {
     "name": "stderr",
     "output_type": "stream",
     "text": [
      "C:\\Users\\Uma Bala\\AppData\\Local\\Temp\\ipykernel_23008\\1248639595.py:50: FutureWarning: The frame.append method is deprecated and will be removed from pandas in a future version. Use pandas.concat instead.\n",
      "  df2 = df2.append(data, ignore_index=True)\n"
     ]
    },
    {
     "name": "stdout",
     "output_type": "stream",
     "text": [
      "TRACK 25  in  spotify:track:606jLrnwIEyRuPhWfySCMf  COMPLETED\n"
     ]
    },
    {
     "name": "stderr",
     "output_type": "stream",
     "text": [
      "C:\\Users\\Uma Bala\\AppData\\Local\\Temp\\ipykernel_23008\\1248639595.py:50: FutureWarning: The frame.append method is deprecated and will be removed from pandas in a future version. Use pandas.concat instead.\n",
      "  df2 = df2.append(data, ignore_index=True)\n"
     ]
    },
    {
     "name": "stdout",
     "output_type": "stream",
     "text": [
      "TRACK 26  in  spotify:track:5BF29fW2u06P3GV1bHU8UH  COMPLETED\n"
     ]
    },
    {
     "name": "stderr",
     "output_type": "stream",
     "text": [
      "C:\\Users\\Uma Bala\\AppData\\Local\\Temp\\ipykernel_23008\\1248639595.py:50: FutureWarning: The frame.append method is deprecated and will be removed from pandas in a future version. Use pandas.concat instead.\n",
      "  df2 = df2.append(data, ignore_index=True)\n"
     ]
    },
    {
     "name": "stdout",
     "output_type": "stream",
     "text": [
      "TRACK 27  in  spotify:track:31UkCIxZ0nWYYSnpeBBOwS  COMPLETED\n"
     ]
    },
    {
     "name": "stderr",
     "output_type": "stream",
     "text": [
      "C:\\Users\\Uma Bala\\AppData\\Local\\Temp\\ipykernel_23008\\1248639595.py:50: FutureWarning: The frame.append method is deprecated and will be removed from pandas in a future version. Use pandas.concat instead.\n",
      "  df2 = df2.append(data, ignore_index=True)\n"
     ]
    },
    {
     "name": "stdout",
     "output_type": "stream",
     "text": [
      "TRACK 28  in  spotify:track:3IKDeNJwEapuEcnTdsyED0  COMPLETED\n"
     ]
    },
    {
     "name": "stderr",
     "output_type": "stream",
     "text": [
      "C:\\Users\\Uma Bala\\AppData\\Local\\Temp\\ipykernel_23008\\1248639595.py:50: FutureWarning: The frame.append method is deprecated and will be removed from pandas in a future version. Use pandas.concat instead.\n",
      "  df2 = df2.append(data, ignore_index=True)\n"
     ]
    },
    {
     "name": "stdout",
     "output_type": "stream",
     "text": [
      "TRACK 29  in  spotify:track:1SUuiVPCvGzJ5MnNfLEoIu  COMPLETED\n"
     ]
    },
    {
     "name": "stderr",
     "output_type": "stream",
     "text": [
      "C:\\Users\\Uma Bala\\AppData\\Local\\Temp\\ipykernel_23008\\1248639595.py:50: FutureWarning: The frame.append method is deprecated and will be removed from pandas in a future version. Use pandas.concat instead.\n",
      "  df2 = df2.append(data, ignore_index=True)\n"
     ]
    },
    {
     "name": "stdout",
     "output_type": "stream",
     "text": [
      "TRACK 30  in  spotify:track:0jFb5itDTyiN99wtp2Mruj  COMPLETED\n"
     ]
    },
    {
     "name": "stderr",
     "output_type": "stream",
     "text": [
      "C:\\Users\\Uma Bala\\AppData\\Local\\Temp\\ipykernel_23008\\1248639595.py:50: FutureWarning: The frame.append method is deprecated and will be removed from pandas in a future version. Use pandas.concat instead.\n",
      "  df2 = df2.append(data, ignore_index=True)\n"
     ]
    },
    {
     "name": "stdout",
     "output_type": "stream",
     "text": [
      "TRACK 31  in  spotify:track:0gdzXKkOMuajNI0UJ1ki9t  COMPLETED\n"
     ]
    },
    {
     "name": "stderr",
     "output_type": "stream",
     "text": [
      "C:\\Users\\Uma Bala\\AppData\\Local\\Temp\\ipykernel_23008\\1248639595.py:50: FutureWarning: The frame.append method is deprecated and will be removed from pandas in a future version. Use pandas.concat instead.\n",
      "  df2 = df2.append(data, ignore_index=True)\n"
     ]
    },
    {
     "name": "stdout",
     "output_type": "stream",
     "text": [
      "TRACK 32  in  spotify:track:7B6nXoiwYr7EgyjDctobEB  COMPLETED\n"
     ]
    },
    {
     "name": "stderr",
     "output_type": "stream",
     "text": [
      "C:\\Users\\Uma Bala\\AppData\\Local\\Temp\\ipykernel_23008\\1248639595.py:50: FutureWarning: The frame.append method is deprecated and will be removed from pandas in a future version. Use pandas.concat instead.\n",
      "  df2 = df2.append(data, ignore_index=True)\n"
     ]
    },
    {
     "name": "stdout",
     "output_type": "stream",
     "text": [
      "TRACK 33  in  spotify:track:4dDrXd4gaxnDMyLCBdFXWt  COMPLETED\n"
     ]
    },
    {
     "name": "stderr",
     "output_type": "stream",
     "text": [
      "C:\\Users\\Uma Bala\\AppData\\Local\\Temp\\ipykernel_23008\\1248639595.py:50: FutureWarning: The frame.append method is deprecated and will be removed from pandas in a future version. Use pandas.concat instead.\n",
      "  df2 = df2.append(data, ignore_index=True)\n"
     ]
    },
    {
     "name": "stdout",
     "output_type": "stream",
     "text": [
      "TRACK 34  in  spotify:track:1wavAtV3p62rrSix31kQG6  COMPLETED\n"
     ]
    },
    {
     "name": "stderr",
     "output_type": "stream",
     "text": [
      "C:\\Users\\Uma Bala\\AppData\\Local\\Temp\\ipykernel_23008\\1248639595.py:50: FutureWarning: The frame.append method is deprecated and will be removed from pandas in a future version. Use pandas.concat instead.\n",
      "  df2 = df2.append(data, ignore_index=True)\n"
     ]
    },
    {
     "name": "stdout",
     "output_type": "stream",
     "text": [
      "TRACK 35  in  spotify:track:1a2q08cR6sH2plxzB1Wpw9  COMPLETED\n"
     ]
    },
    {
     "name": "stderr",
     "output_type": "stream",
     "text": [
      "C:\\Users\\Uma Bala\\AppData\\Local\\Temp\\ipykernel_23008\\1248639595.py:50: FutureWarning: The frame.append method is deprecated and will be removed from pandas in a future version. Use pandas.concat instead.\n",
      "  df2 = df2.append(data, ignore_index=True)\n"
     ]
    },
    {
     "name": "stdout",
     "output_type": "stream",
     "text": [
      "TRACK 36  in  spotify:track:2uiCyDvB8DLX2ouuKixxve  COMPLETED\n"
     ]
    },
    {
     "name": "stderr",
     "output_type": "stream",
     "text": [
      "C:\\Users\\Uma Bala\\AppData\\Local\\Temp\\ipykernel_23008\\1248639595.py:50: FutureWarning: The frame.append method is deprecated and will be removed from pandas in a future version. Use pandas.concat instead.\n",
      "  df2 = df2.append(data, ignore_index=True)\n"
     ]
    },
    {
     "name": "stdout",
     "output_type": "stream",
     "text": [
      "TRACK 37  in  spotify:track:5LABCxgmP7DATATIJXOh6n  COMPLETED\n"
     ]
    },
    {
     "name": "stderr",
     "output_type": "stream",
     "text": [
      "C:\\Users\\Uma Bala\\AppData\\Local\\Temp\\ipykernel_23008\\1248639595.py:50: FutureWarning: The frame.append method is deprecated and will be removed from pandas in a future version. Use pandas.concat instead.\n",
      "  df2 = df2.append(data, ignore_index=True)\n"
     ]
    },
    {
     "name": "stdout",
     "output_type": "stream",
     "text": [
      "TRACK 38  in  spotify:track:4HtKg96D9ya97kDEnfKiuV  COMPLETED\n"
     ]
    },
    {
     "name": "stderr",
     "output_type": "stream",
     "text": [
      "C:\\Users\\Uma Bala\\AppData\\Local\\Temp\\ipykernel_23008\\1248639595.py:50: FutureWarning: The frame.append method is deprecated and will be removed from pandas in a future version. Use pandas.concat instead.\n",
      "  df2 = df2.append(data, ignore_index=True)\n"
     ]
    },
    {
     "name": "stdout",
     "output_type": "stream",
     "text": [
      "TRACK 39  in  spotify:track:38BwY54pozaTmM3UhRLWQm  COMPLETED\n"
     ]
    },
    {
     "name": "stderr",
     "output_type": "stream",
     "text": [
      "C:\\Users\\Uma Bala\\AppData\\Local\\Temp\\ipykernel_23008\\1248639595.py:50: FutureWarning: The frame.append method is deprecated and will be removed from pandas in a future version. Use pandas.concat instead.\n",
      "  df2 = df2.append(data, ignore_index=True)\n"
     ]
    },
    {
     "name": "stdout",
     "output_type": "stream",
     "text": [
      "TRACK 40  in  spotify:track:5olgfv0LjMoUtFe11djz32  COMPLETED\n"
     ]
    },
    {
     "name": "stderr",
     "output_type": "stream",
     "text": [
      "C:\\Users\\Uma Bala\\AppData\\Local\\Temp\\ipykernel_23008\\1248639595.py:50: FutureWarning: The frame.append method is deprecated and will be removed from pandas in a future version. Use pandas.concat instead.\n",
      "  df2 = df2.append(data, ignore_index=True)\n"
     ]
    },
    {
     "name": "stdout",
     "output_type": "stream",
     "text": [
      "TRACK 41  in  spotify:track:4OtHGdb0KqEbaWb6edUnR9  COMPLETED\n"
     ]
    },
    {
     "name": "stderr",
     "output_type": "stream",
     "text": [
      "C:\\Users\\Uma Bala\\AppData\\Local\\Temp\\ipykernel_23008\\1248639595.py:50: FutureWarning: The frame.append method is deprecated and will be removed from pandas in a future version. Use pandas.concat instead.\n",
      "  df2 = df2.append(data, ignore_index=True)\n"
     ]
    },
    {
     "name": "stdout",
     "output_type": "stream",
     "text": [
      "TRACK 42  in  spotify:track:5oOs48rFX5f56FBrYImCa6  COMPLETED\n"
     ]
    },
    {
     "name": "stderr",
     "output_type": "stream",
     "text": [
      "C:\\Users\\Uma Bala\\AppData\\Local\\Temp\\ipykernel_23008\\1248639595.py:50: FutureWarning: The frame.append method is deprecated and will be removed from pandas in a future version. Use pandas.concat instead.\n",
      "  df2 = df2.append(data, ignore_index=True)\n"
     ]
    },
    {
     "name": "stdout",
     "output_type": "stream",
     "text": [
      "TRACK 43  in  spotify:track:27BgDmciSjoxTG0almHTpZ  COMPLETED\n"
     ]
    },
    {
     "name": "stderr",
     "output_type": "stream",
     "text": [
      "C:\\Users\\Uma Bala\\AppData\\Local\\Temp\\ipykernel_23008\\1248639595.py:50: FutureWarning: The frame.append method is deprecated and will be removed from pandas in a future version. Use pandas.concat instead.\n",
      "  df2 = df2.append(data, ignore_index=True)\n"
     ]
    },
    {
     "name": "stdout",
     "output_type": "stream",
     "text": [
      "TRACK 44  in  spotify:track:3e3awBGeRWifk5XsRX5jSU  COMPLETED\n"
     ]
    },
    {
     "name": "stderr",
     "output_type": "stream",
     "text": [
      "C:\\Users\\Uma Bala\\AppData\\Local\\Temp\\ipykernel_23008\\1248639595.py:50: FutureWarning: The frame.append method is deprecated and will be removed from pandas in a future version. Use pandas.concat instead.\n",
      "  df2 = df2.append(data, ignore_index=True)\n"
     ]
    },
    {
     "name": "stdout",
     "output_type": "stream",
     "text": [
      "TRACK 45  in  spotify:track:1zejeOnykpCoyVSit6Bwp3  COMPLETED\n"
     ]
    },
    {
     "name": "stderr",
     "output_type": "stream",
     "text": [
      "C:\\Users\\Uma Bala\\AppData\\Local\\Temp\\ipykernel_23008\\1248639595.py:50: FutureWarning: The frame.append method is deprecated and will be removed from pandas in a future version. Use pandas.concat instead.\n",
      "  df2 = df2.append(data, ignore_index=True)\n"
     ]
    },
    {
     "name": "stdout",
     "output_type": "stream",
     "text": [
      "TRACK 46  in  spotify:track:1ML2r3gzmd9776dmnlGYlh  COMPLETED\n"
     ]
    },
    {
     "name": "stderr",
     "output_type": "stream",
     "text": [
      "C:\\Users\\Uma Bala\\AppData\\Local\\Temp\\ipykernel_23008\\1248639595.py:50: FutureWarning: The frame.append method is deprecated and will be removed from pandas in a future version. Use pandas.concat instead.\n",
      "  df2 = df2.append(data, ignore_index=True)\n"
     ]
    },
    {
     "name": "stdout",
     "output_type": "stream",
     "text": [
      "TRACK 47  in  spotify:track:3EzDPxo5mt3r2B3Lc9mvsr  COMPLETED\n"
     ]
    },
    {
     "name": "stderr",
     "output_type": "stream",
     "text": [
      "C:\\Users\\Uma Bala\\AppData\\Local\\Temp\\ipykernel_23008\\1248639595.py:50: FutureWarning: The frame.append method is deprecated and will be removed from pandas in a future version. Use pandas.concat instead.\n",
      "  df2 = df2.append(data, ignore_index=True)\n"
     ]
    },
    {
     "name": "stdout",
     "output_type": "stream",
     "text": [
      "TRACK 48  in  spotify:track:5GSKLdbgKfoOmZxgwUKBEp  COMPLETED\n"
     ]
    },
    {
     "name": "stderr",
     "output_type": "stream",
     "text": [
      "C:\\Users\\Uma Bala\\AppData\\Local\\Temp\\ipykernel_23008\\1248639595.py:50: FutureWarning: The frame.append method is deprecated and will be removed from pandas in a future version. Use pandas.concat instead.\n",
      "  df2 = df2.append(data, ignore_index=True)\n"
     ]
    },
    {
     "name": "stdout",
     "output_type": "stream",
     "text": [
      "TRACK 49  in  spotify:track:6nat4Z7iRKWVk1qngQqI0Q  COMPLETED\n"
     ]
    },
    {
     "name": "stderr",
     "output_type": "stream",
     "text": [
      "C:\\Users\\Uma Bala\\AppData\\Local\\Temp\\ipykernel_23008\\1248639595.py:50: FutureWarning: The frame.append method is deprecated and will be removed from pandas in a future version. Use pandas.concat instead.\n",
      "  df2 = df2.append(data, ignore_index=True)\n"
     ]
    },
    {
     "name": "stdout",
     "output_type": "stream",
     "text": [
      "TRACK 50  in  spotify:track:5m3MMqREtffhno6KLdpnDI  COMPLETED\n"
     ]
    },
    {
     "name": "stderr",
     "output_type": "stream",
     "text": [
      "C:\\Users\\Uma Bala\\AppData\\Local\\Temp\\ipykernel_23008\\1248639595.py:50: FutureWarning: The frame.append method is deprecated and will be removed from pandas in a future version. Use pandas.concat instead.\n",
      "  df2 = df2.append(data, ignore_index=True)\n"
     ]
    },
    {
     "name": "stdout",
     "output_type": "stream",
     "text": [
      "TRACK 51  in  spotify:track:5afX9ptxwo6X6t4YITVQRl  COMPLETED\n"
     ]
    },
    {
     "name": "stderr",
     "output_type": "stream",
     "text": [
      "C:\\Users\\Uma Bala\\AppData\\Local\\Temp\\ipykernel_23008\\1248639595.py:50: FutureWarning: The frame.append method is deprecated and will be removed from pandas in a future version. Use pandas.concat instead.\n",
      "  df2 = df2.append(data, ignore_index=True)\n"
     ]
    },
    {
     "name": "stdout",
     "output_type": "stream",
     "text": [
      "TRACK 52  in  spotify:track:3UBE9swDF71ARoV42g6Fcx  COMPLETED\n"
     ]
    },
    {
     "name": "stderr",
     "output_type": "stream",
     "text": [
      "C:\\Users\\Uma Bala\\AppData\\Local\\Temp\\ipykernel_23008\\1248639595.py:50: FutureWarning: The frame.append method is deprecated and will be removed from pandas in a future version. Use pandas.concat instead.\n",
      "  df2 = df2.append(data, ignore_index=True)\n"
     ]
    },
    {
     "name": "stdout",
     "output_type": "stream",
     "text": [
      "TRACK 53  in  spotify:track:3aiEuRz31VSQwZukW56bjR  COMPLETED\n"
     ]
    },
    {
     "name": "stderr",
     "output_type": "stream",
     "text": [
      "C:\\Users\\Uma Bala\\AppData\\Local\\Temp\\ipykernel_23008\\1248639595.py:50: FutureWarning: The frame.append method is deprecated and will be removed from pandas in a future version. Use pandas.concat instead.\n",
      "  df2 = df2.append(data, ignore_index=True)\n"
     ]
    },
    {
     "name": "stdout",
     "output_type": "stream",
     "text": [
      "TRACK 54  in  spotify:track:4tANGs1j5ycSIW14UShKHh  COMPLETED\n"
     ]
    },
    {
     "name": "stderr",
     "output_type": "stream",
     "text": [
      "C:\\Users\\Uma Bala\\AppData\\Local\\Temp\\ipykernel_23008\\1248639595.py:50: FutureWarning: The frame.append method is deprecated and will be removed from pandas in a future version. Use pandas.concat instead.\n",
      "  df2 = df2.append(data, ignore_index=True)\n"
     ]
    },
    {
     "name": "stdout",
     "output_type": "stream",
     "text": [
      "TRACK 55  in  spotify:track:2QsquiKBcjvDUlO6QyvMEs  COMPLETED\n"
     ]
    },
    {
     "name": "stderr",
     "output_type": "stream",
     "text": [
      "C:\\Users\\Uma Bala\\AppData\\Local\\Temp\\ipykernel_23008\\1248639595.py:50: FutureWarning: The frame.append method is deprecated and will be removed from pandas in a future version. Use pandas.concat instead.\n",
      "  df2 = df2.append(data, ignore_index=True)\n"
     ]
    },
    {
     "name": "stdout",
     "output_type": "stream",
     "text": [
      "TRACK 56  in  spotify:track:6S91KdGvAQdUU8vNpqIte7  COMPLETED\n"
     ]
    },
    {
     "name": "stderr",
     "output_type": "stream",
     "text": [
      "C:\\Users\\Uma Bala\\AppData\\Local\\Temp\\ipykernel_23008\\1248639595.py:50: FutureWarning: The frame.append method is deprecated and will be removed from pandas in a future version. Use pandas.concat instead.\n",
      "  df2 = df2.append(data, ignore_index=True)\n"
     ]
    },
    {
     "name": "stdout",
     "output_type": "stream",
     "text": [
      "TRACK 57  in  spotify:track:3Z6hyyLovm0RneiaIsM3Rt  COMPLETED\n"
     ]
    },
    {
     "name": "stderr",
     "output_type": "stream",
     "text": [
      "C:\\Users\\Uma Bala\\AppData\\Local\\Temp\\ipykernel_23008\\1248639595.py:50: FutureWarning: The frame.append method is deprecated and will be removed from pandas in a future version. Use pandas.concat instead.\n",
      "  df2 = df2.append(data, ignore_index=True)\n"
     ]
    },
    {
     "name": "stdout",
     "output_type": "stream",
     "text": [
      "TRACK 58  in  spotify:track:4wz7R8N7gYgjhZuoMQkSve  COMPLETED\n"
     ]
    },
    {
     "name": "stderr",
     "output_type": "stream",
     "text": [
      "C:\\Users\\Uma Bala\\AppData\\Local\\Temp\\ipykernel_23008\\1248639595.py:50: FutureWarning: The frame.append method is deprecated and will be removed from pandas in a future version. Use pandas.concat instead.\n",
      "  df2 = df2.append(data, ignore_index=True)\n"
     ]
    },
    {
     "name": "stdout",
     "output_type": "stream",
     "text": [
      "TRACK 59  in  spotify:track:4sEN7hRcdfzDpk4wUG47qO  COMPLETED\n"
     ]
    },
    {
     "name": "stderr",
     "output_type": "stream",
     "text": [
      "C:\\Users\\Uma Bala\\AppData\\Local\\Temp\\ipykernel_23008\\1248639595.py:50: FutureWarning: The frame.append method is deprecated and will be removed from pandas in a future version. Use pandas.concat instead.\n",
      "  df2 = df2.append(data, ignore_index=True)\n"
     ]
    },
    {
     "name": "stdout",
     "output_type": "stream",
     "text": [
      "TRACK 60  in  spotify:track:5ir1QKCH1OamaVRa4fN9wt  COMPLETED\n"
     ]
    },
    {
     "name": "stderr",
     "output_type": "stream",
     "text": [
      "C:\\Users\\Uma Bala\\AppData\\Local\\Temp\\ipykernel_23008\\1248639595.py:50: FutureWarning: The frame.append method is deprecated and will be removed from pandas in a future version. Use pandas.concat instead.\n",
      "  df2 = df2.append(data, ignore_index=True)\n"
     ]
    },
    {
     "name": "stdout",
     "output_type": "stream",
     "text": [
      "TRACK 61  in  spotify:track:5JiH89mHrv9oWHlD0T326z  COMPLETED\n"
     ]
    },
    {
     "name": "stderr",
     "output_type": "stream",
     "text": [
      "C:\\Users\\Uma Bala\\AppData\\Local\\Temp\\ipykernel_23008\\1248639595.py:50: FutureWarning: The frame.append method is deprecated and will be removed from pandas in a future version. Use pandas.concat instead.\n",
      "  df2 = df2.append(data, ignore_index=True)\n"
     ]
    },
    {
     "name": "stdout",
     "output_type": "stream",
     "text": [
      "TRACK 62  in  spotify:track:5Caij08cG0XzsbBTMVRGut  COMPLETED\n"
     ]
    },
    {
     "name": "stderr",
     "output_type": "stream",
     "text": [
      "C:\\Users\\Uma Bala\\AppData\\Local\\Temp\\ipykernel_23008\\1248639595.py:50: FutureWarning: The frame.append method is deprecated and will be removed from pandas in a future version. Use pandas.concat instead.\n",
      "  df2 = df2.append(data, ignore_index=True)\n"
     ]
    },
    {
     "name": "stdout",
     "output_type": "stream",
     "text": [
      "TRACK 63  in  spotify:track:1JGWyk1hjKNXlzJGkSP9gr  COMPLETED\n"
     ]
    },
    {
     "name": "stderr",
     "output_type": "stream",
     "text": [
      "C:\\Users\\Uma Bala\\AppData\\Local\\Temp\\ipykernel_23008\\1248639595.py:50: FutureWarning: The frame.append method is deprecated and will be removed from pandas in a future version. Use pandas.concat instead.\n",
      "  df2 = df2.append(data, ignore_index=True)\n"
     ]
    },
    {
     "name": "stdout",
     "output_type": "stream",
     "text": [
      "TRACK 64  in  spotify:track:2FlFA9C40BOayOvTCrRWTQ  COMPLETED\n"
     ]
    },
    {
     "name": "stderr",
     "output_type": "stream",
     "text": [
      "C:\\Users\\Uma Bala\\AppData\\Local\\Temp\\ipykernel_23008\\1248639595.py:50: FutureWarning: The frame.append method is deprecated and will be removed from pandas in a future version. Use pandas.concat instead.\n",
      "  df2 = df2.append(data, ignore_index=True)\n"
     ]
    },
    {
     "name": "stdout",
     "output_type": "stream",
     "text": [
      "TRACK 65  in  spotify:track:73kadnv7SduzhApfRUv5C0  COMPLETED\n"
     ]
    },
    {
     "name": "stderr",
     "output_type": "stream",
     "text": [
      "C:\\Users\\Uma Bala\\AppData\\Local\\Temp\\ipykernel_23008\\1248639595.py:50: FutureWarning: The frame.append method is deprecated and will be removed from pandas in a future version. Use pandas.concat instead.\n",
      "  df2 = df2.append(data, ignore_index=True)\n"
     ]
    },
    {
     "name": "stdout",
     "output_type": "stream",
     "text": [
      "TRACK 66  in  spotify:track:6CagMrZXJUdGGIw6Eaepos  COMPLETED\n"
     ]
    },
    {
     "name": "stderr",
     "output_type": "stream",
     "text": [
      "C:\\Users\\Uma Bala\\AppData\\Local\\Temp\\ipykernel_23008\\1248639595.py:50: FutureWarning: The frame.append method is deprecated and will be removed from pandas in a future version. Use pandas.concat instead.\n",
      "  df2 = df2.append(data, ignore_index=True)\n"
     ]
    },
    {
     "name": "stdout",
     "output_type": "stream",
     "text": [
      "TRACK 67  in  spotify:track:12OLyHDxt6dqlAybSPFBK3  COMPLETED\n"
     ]
    },
    {
     "name": "stderr",
     "output_type": "stream",
     "text": [
      "C:\\Users\\Uma Bala\\AppData\\Local\\Temp\\ipykernel_23008\\1248639595.py:50: FutureWarning: The frame.append method is deprecated and will be removed from pandas in a future version. Use pandas.concat instead.\n",
      "  df2 = df2.append(data, ignore_index=True)\n"
     ]
    },
    {
     "name": "stdout",
     "output_type": "stream",
     "text": [
      "TRACK 68  in  spotify:track:7vK7BLktG0ETPhEtaNcPQj  COMPLETED\n"
     ]
    },
    {
     "name": "stderr",
     "output_type": "stream",
     "text": [
      "C:\\Users\\Uma Bala\\AppData\\Local\\Temp\\ipykernel_23008\\1248639595.py:50: FutureWarning: The frame.append method is deprecated and will be removed from pandas in a future version. Use pandas.concat instead.\n",
      "  df2 = df2.append(data, ignore_index=True)\n"
     ]
    },
    {
     "name": "stdout",
     "output_type": "stream",
     "text": [
      "TRACK 69  in  spotify:track:4VAngYbLewVFpcLR9FpYfR  COMPLETED\n"
     ]
    },
    {
     "name": "stderr",
     "output_type": "stream",
     "text": [
      "C:\\Users\\Uma Bala\\AppData\\Local\\Temp\\ipykernel_23008\\1248639595.py:50: FutureWarning: The frame.append method is deprecated and will be removed from pandas in a future version. Use pandas.concat instead.\n",
      "  df2 = df2.append(data, ignore_index=True)\n"
     ]
    },
    {
     "name": "stdout",
     "output_type": "stream",
     "text": [
      "TRACK 70  in  spotify:track:0MWdqTtJghUM9JY2zN6Awx  COMPLETED\n"
     ]
    },
    {
     "name": "stderr",
     "output_type": "stream",
     "text": [
      "C:\\Users\\Uma Bala\\AppData\\Local\\Temp\\ipykernel_23008\\1248639595.py:50: FutureWarning: The frame.append method is deprecated and will be removed from pandas in a future version. Use pandas.concat instead.\n",
      "  df2 = df2.append(data, ignore_index=True)\n"
     ]
    },
    {
     "name": "stdout",
     "output_type": "stream",
     "text": [
      "TRACK 71  in  spotify:track:5VXDmiV2pC2KY2N60oKz4B  COMPLETED\n"
     ]
    },
    {
     "name": "stderr",
     "output_type": "stream",
     "text": [
      "C:\\Users\\Uma Bala\\AppData\\Local\\Temp\\ipykernel_23008\\1248639595.py:50: FutureWarning: The frame.append method is deprecated and will be removed from pandas in a future version. Use pandas.concat instead.\n",
      "  df2 = df2.append(data, ignore_index=True)\n"
     ]
    },
    {
     "name": "stdout",
     "output_type": "stream",
     "text": [
      "TRACK 72  in  spotify:track:4LGJ2pLDvTRnul3EcZoYkX  COMPLETED\n"
     ]
    },
    {
     "name": "stderr",
     "output_type": "stream",
     "text": [
      "C:\\Users\\Uma Bala\\AppData\\Local\\Temp\\ipykernel_23008\\1248639595.py:50: FutureWarning: The frame.append method is deprecated and will be removed from pandas in a future version. Use pandas.concat instead.\n",
      "  df2 = df2.append(data, ignore_index=True)\n"
     ]
    },
    {
     "name": "stdout",
     "output_type": "stream",
     "text": [
      "TRACK 73  in  spotify:track:6CWRM5z9j8KzILmhYYDSlD  COMPLETED\n"
     ]
    },
    {
     "name": "stderr",
     "output_type": "stream",
     "text": [
      "C:\\Users\\Uma Bala\\AppData\\Local\\Temp\\ipykernel_23008\\1248639595.py:50: FutureWarning: The frame.append method is deprecated and will be removed from pandas in a future version. Use pandas.concat instead.\n",
      "  df2 = df2.append(data, ignore_index=True)\n"
     ]
    },
    {
     "name": "stdout",
     "output_type": "stream",
     "text": [
      "TRACK 74  in  spotify:track:3xZ9W1VCQYMV7Vq8UV2lAq  COMPLETED\n"
     ]
    },
    {
     "name": "stderr",
     "output_type": "stream",
     "text": [
      "C:\\Users\\Uma Bala\\AppData\\Local\\Temp\\ipykernel_23008\\1248639595.py:50: FutureWarning: The frame.append method is deprecated and will be removed from pandas in a future version. Use pandas.concat instead.\n",
      "  df2 = df2.append(data, ignore_index=True)\n"
     ]
    },
    {
     "name": "stdout",
     "output_type": "stream",
     "text": [
      "TRACK 75  in  spotify:track:3567eNX2L3RkkMkwspncMH  COMPLETED\n"
     ]
    },
    {
     "name": "stderr",
     "output_type": "stream",
     "text": [
      "C:\\Users\\Uma Bala\\AppData\\Local\\Temp\\ipykernel_23008\\1248639595.py:50: FutureWarning: The frame.append method is deprecated and will be removed from pandas in a future version. Use pandas.concat instead.\n",
      "  df2 = df2.append(data, ignore_index=True)\n"
     ]
    },
    {
     "name": "stdout",
     "output_type": "stream",
     "text": [
      "TRACK 76  in  spotify:track:1KnJwhZU3DIBe54Q4HPpIl  COMPLETED\n"
     ]
    },
    {
     "name": "stderr",
     "output_type": "stream",
     "text": [
      "C:\\Users\\Uma Bala\\AppData\\Local\\Temp\\ipykernel_23008\\1248639595.py:50: FutureWarning: The frame.append method is deprecated and will be removed from pandas in a future version. Use pandas.concat instead.\n",
      "  df2 = df2.append(data, ignore_index=True)\n"
     ]
    },
    {
     "name": "stdout",
     "output_type": "stream",
     "text": [
      "TRACK 77  in  spotify:track:2o2R6ghiVJfAqEXnlmOihz  COMPLETED\n"
     ]
    },
    {
     "name": "stderr",
     "output_type": "stream",
     "text": [
      "C:\\Users\\Uma Bala\\AppData\\Local\\Temp\\ipykernel_23008\\1248639595.py:50: FutureWarning: The frame.append method is deprecated and will be removed from pandas in a future version. Use pandas.concat instead.\n",
      "  df2 = df2.append(data, ignore_index=True)\n"
     ]
    },
    {
     "name": "stdout",
     "output_type": "stream",
     "text": [
      "TRACK 78  in  spotify:track:1tQCe6mu2dT57OejEFARhy  COMPLETED\n"
     ]
    },
    {
     "name": "stderr",
     "output_type": "stream",
     "text": [
      "C:\\Users\\Uma Bala\\AppData\\Local\\Temp\\ipykernel_23008\\1248639595.py:50: FutureWarning: The frame.append method is deprecated and will be removed from pandas in a future version. Use pandas.concat instead.\n",
      "  df2 = df2.append(data, ignore_index=True)\n"
     ]
    },
    {
     "name": "stdout",
     "output_type": "stream",
     "text": [
      "TRACK 79  in  spotify:track:32K03Gjk3OVL7fMQqrI5gA  COMPLETED\n"
     ]
    },
    {
     "name": "stderr",
     "output_type": "stream",
     "text": [
      "C:\\Users\\Uma Bala\\AppData\\Local\\Temp\\ipykernel_23008\\1248639595.py:50: FutureWarning: The frame.append method is deprecated and will be removed from pandas in a future version. Use pandas.concat instead.\n",
      "  df2 = df2.append(data, ignore_index=True)\n"
     ]
    },
    {
     "name": "stdout",
     "output_type": "stream",
     "text": [
      "TRACK 80  in  spotify:track:11z8f8BH1WdIlFI9TNQ9mc  COMPLETED\n"
     ]
    },
    {
     "name": "stderr",
     "output_type": "stream",
     "text": [
      "C:\\Users\\Uma Bala\\AppData\\Local\\Temp\\ipykernel_23008\\1248639595.py:50: FutureWarning: The frame.append method is deprecated and will be removed from pandas in a future version. Use pandas.concat instead.\n",
      "  df2 = df2.append(data, ignore_index=True)\n"
     ]
    },
    {
     "name": "stdout",
     "output_type": "stream",
     "text": [
      "TRACK 81  in  spotify:track:3aiEuRz31VSQwZukW56bjR  COMPLETED\n"
     ]
    },
    {
     "name": "stderr",
     "output_type": "stream",
     "text": [
      "C:\\Users\\Uma Bala\\AppData\\Local\\Temp\\ipykernel_23008\\1248639595.py:50: FutureWarning: The frame.append method is deprecated and will be removed from pandas in a future version. Use pandas.concat instead.\n",
      "  df2 = df2.append(data, ignore_index=True)\n"
     ]
    },
    {
     "name": "stdout",
     "output_type": "stream",
     "text": [
      "TRACK 82  in  spotify:track:6vjymPak0JRQC2P84XlI9t  COMPLETED\n"
     ]
    },
    {
     "name": "stderr",
     "output_type": "stream",
     "text": [
      "C:\\Users\\Uma Bala\\AppData\\Local\\Temp\\ipykernel_23008\\1248639595.py:50: FutureWarning: The frame.append method is deprecated and will be removed from pandas in a future version. Use pandas.concat instead.\n",
      "  df2 = df2.append(data, ignore_index=True)\n"
     ]
    },
    {
     "name": "stdout",
     "output_type": "stream",
     "text": [
      "TRACK 83  in  spotify:track:0nCVLAhIUrLQ34Vw5vTXNP  COMPLETED\n"
     ]
    },
    {
     "name": "stderr",
     "output_type": "stream",
     "text": [
      "C:\\Users\\Uma Bala\\AppData\\Local\\Temp\\ipykernel_23008\\1248639595.py:50: FutureWarning: The frame.append method is deprecated and will be removed from pandas in a future version. Use pandas.concat instead.\n",
      "  df2 = df2.append(data, ignore_index=True)\n"
     ]
    },
    {
     "name": "stdout",
     "output_type": "stream",
     "text": [
      "TRACK 84  in  spotify:track:694V3efHIeLmVRZIDMGc4O  COMPLETED\n"
     ]
    },
    {
     "name": "stderr",
     "output_type": "stream",
     "text": [
      "C:\\Users\\Uma Bala\\AppData\\Local\\Temp\\ipykernel_23008\\1248639595.py:50: FutureWarning: The frame.append method is deprecated and will be removed from pandas in a future version. Use pandas.concat instead.\n",
      "  df2 = df2.append(data, ignore_index=True)\n"
     ]
    },
    {
     "name": "stdout",
     "output_type": "stream",
     "text": [
      "TRACK 85  in  spotify:track:09VwUcK49IKRGgkiiTgFfp  COMPLETED\n"
     ]
    },
    {
     "name": "stderr",
     "output_type": "stream",
     "text": [
      "C:\\Users\\Uma Bala\\AppData\\Local\\Temp\\ipykernel_23008\\1248639595.py:50: FutureWarning: The frame.append method is deprecated and will be removed from pandas in a future version. Use pandas.concat instead.\n",
      "  df2 = df2.append(data, ignore_index=True)\n"
     ]
    },
    {
     "name": "stdout",
     "output_type": "stream",
     "text": [
      "TRACK 86  in  spotify:track:5KcT9rJDqQJUSFF3O9wPJ5  COMPLETED\n"
     ]
    },
    {
     "name": "stderr",
     "output_type": "stream",
     "text": [
      "C:\\Users\\Uma Bala\\AppData\\Local\\Temp\\ipykernel_23008\\1248639595.py:50: FutureWarning: The frame.append method is deprecated and will be removed from pandas in a future version. Use pandas.concat instead.\n",
      "  df2 = df2.append(data, ignore_index=True)\n"
     ]
    },
    {
     "name": "stdout",
     "output_type": "stream",
     "text": [
      "TRACK 87  in  spotify:track:1FJrsh1NbV9eRw5JQt3M4e  COMPLETED\n"
     ]
    },
    {
     "name": "stderr",
     "output_type": "stream",
     "text": [
      "C:\\Users\\Uma Bala\\AppData\\Local\\Temp\\ipykernel_23008\\1248639595.py:50: FutureWarning: The frame.append method is deprecated and will be removed from pandas in a future version. Use pandas.concat instead.\n",
      "  df2 = df2.append(data, ignore_index=True)\n"
     ]
    },
    {
     "name": "stdout",
     "output_type": "stream",
     "text": [
      "TRACK 88  in  spotify:track:0dduFugL8TwB6Rsw52xysY  COMPLETED\n"
     ]
    },
    {
     "name": "stderr",
     "output_type": "stream",
     "text": [
      "C:\\Users\\Uma Bala\\AppData\\Local\\Temp\\ipykernel_23008\\1248639595.py:50: FutureWarning: The frame.append method is deprecated and will be removed from pandas in a future version. Use pandas.concat instead.\n",
      "  df2 = df2.append(data, ignore_index=True)\n"
     ]
    },
    {
     "name": "stdout",
     "output_type": "stream",
     "text": [
      "TRACK 89  in  spotify:track:4jJ3k5l7pj4RyyYFRF0ZbM  COMPLETED\n"
     ]
    },
    {
     "name": "stderr",
     "output_type": "stream",
     "text": [
      "C:\\Users\\Uma Bala\\AppData\\Local\\Temp\\ipykernel_23008\\1248639595.py:50: FutureWarning: The frame.append method is deprecated and will be removed from pandas in a future version. Use pandas.concat instead.\n",
      "  df2 = df2.append(data, ignore_index=True)\n"
     ]
    },
    {
     "name": "stdout",
     "output_type": "stream",
     "text": [
      "TRACK 90  in  spotify:track:4YutJsNwBBInE8vemufpQ8  COMPLETED\n"
     ]
    },
    {
     "name": "stderr",
     "output_type": "stream",
     "text": [
      "C:\\Users\\Uma Bala\\AppData\\Local\\Temp\\ipykernel_23008\\1248639595.py:50: FutureWarning: The frame.append method is deprecated and will be removed from pandas in a future version. Use pandas.concat instead.\n",
      "  df2 = df2.append(data, ignore_index=True)\n"
     ]
    },
    {
     "name": "stdout",
     "output_type": "stream",
     "text": [
      "TRACK 91  in  spotify:track:7uttm8Iurm5uK67Vr9G2Sp  COMPLETED\n"
     ]
    },
    {
     "name": "stderr",
     "output_type": "stream",
     "text": [
      "C:\\Users\\Uma Bala\\AppData\\Local\\Temp\\ipykernel_23008\\1248639595.py:50: FutureWarning: The frame.append method is deprecated and will be removed from pandas in a future version. Use pandas.concat instead.\n",
      "  df2 = df2.append(data, ignore_index=True)\n"
     ]
    },
    {
     "name": "stdout",
     "output_type": "stream",
     "text": [
      "TRACK 92  in  spotify:track:1LzmZWMpiPqeEIvaYCzO3Z  COMPLETED\n"
     ]
    },
    {
     "name": "stderr",
     "output_type": "stream",
     "text": [
      "C:\\Users\\Uma Bala\\AppData\\Local\\Temp\\ipykernel_23008\\1248639595.py:50: FutureWarning: The frame.append method is deprecated and will be removed from pandas in a future version. Use pandas.concat instead.\n",
      "  df2 = df2.append(data, ignore_index=True)\n"
     ]
    },
    {
     "name": "stdout",
     "output_type": "stream",
     "text": [
      "TRACK 93  in  spotify:track:1M7qLcfozANPcMKfgMEHOt  COMPLETED\n"
     ]
    },
    {
     "name": "stderr",
     "output_type": "stream",
     "text": [
      "C:\\Users\\Uma Bala\\AppData\\Local\\Temp\\ipykernel_23008\\1248639595.py:50: FutureWarning: The frame.append method is deprecated and will be removed from pandas in a future version. Use pandas.concat instead.\n",
      "  df2 = df2.append(data, ignore_index=True)\n"
     ]
    },
    {
     "name": "stdout",
     "output_type": "stream",
     "text": [
      "TRACK 94  in  spotify:track:7gtjNb0PkQwaUxL4z5sT9L  COMPLETED\n"
     ]
    },
    {
     "name": "stderr",
     "output_type": "stream",
     "text": [
      "C:\\Users\\Uma Bala\\AppData\\Local\\Temp\\ipykernel_23008\\1248639595.py:50: FutureWarning: The frame.append method is deprecated and will be removed from pandas in a future version. Use pandas.concat instead.\n",
      "  df2 = df2.append(data, ignore_index=True)\n"
     ]
    },
    {
     "name": "stdout",
     "output_type": "stream",
     "text": [
      "TRACK 95  in  spotify:track:33g0C8tEICB7VgXawIGaQr  COMPLETED\n"
     ]
    },
    {
     "name": "stderr",
     "output_type": "stream",
     "text": [
      "C:\\Users\\Uma Bala\\AppData\\Local\\Temp\\ipykernel_23008\\1248639595.py:50: FutureWarning: The frame.append method is deprecated and will be removed from pandas in a future version. Use pandas.concat instead.\n",
      "  df2 = df2.append(data, ignore_index=True)\n",
      "C:\\Users\\Uma Bala\\AppData\\Local\\Temp\\ipykernel_23008\\1248639595.py:50: FutureWarning: The frame.append method is deprecated and will be removed from pandas in a future version. Use pandas.concat instead.\n",
      "  df2 = df2.append(data, ignore_index=True)\n"
     ]
    },
    {
     "name": "stdout",
     "output_type": "stream",
     "text": [
      "TRACK 96  in  spotify:track:0bOgWId7cFqBEKnlZct2q6  COMPLETED\n",
      "TRACK 97  in  spotify:track:0y6kdSRCVQhSsHSpWvTUm7  COMPLETED\n"
     ]
    },
    {
     "name": "stderr",
     "output_type": "stream",
     "text": [
      "C:\\Users\\Uma Bala\\AppData\\Local\\Temp\\ipykernel_23008\\1248639595.py:50: FutureWarning: The frame.append method is deprecated and will be removed from pandas in a future version. Use pandas.concat instead.\n",
      "  df2 = df2.append(data, ignore_index=True)\n"
     ]
    },
    {
     "name": "stdout",
     "output_type": "stream",
     "text": [
      "TRACK 98  in  spotify:track:7bhR82JEE9bcX8iphymGme  COMPLETED\n"
     ]
    },
    {
     "name": "stderr",
     "output_type": "stream",
     "text": [
      "C:\\Users\\Uma Bala\\AppData\\Local\\Temp\\ipykernel_23008\\1248639595.py:50: FutureWarning: The frame.append method is deprecated and will be removed from pandas in a future version. Use pandas.concat instead.\n",
      "  df2 = df2.append(data, ignore_index=True)\n"
     ]
    },
    {
     "name": "stdout",
     "output_type": "stream",
     "text": [
      "TRACK 99  in  spotify:track:3wFLWP0FcIqHK1wb1CPthQ  COMPLETED\n"
     ]
    },
    {
     "name": "stderr",
     "output_type": "stream",
     "text": [
      "C:\\Users\\Uma Bala\\AppData\\Local\\Temp\\ipykernel_23008\\1248639595.py:50: FutureWarning: The frame.append method is deprecated and will be removed from pandas in a future version. Use pandas.concat instead.\n",
      "  df2 = df2.append(data, ignore_index=True)\n",
      "C:\\Users\\Uma Bala\\AppData\\Local\\Temp\\ipykernel_23008\\1248639595.py:50: FutureWarning: The frame.append method is deprecated and will be removed from pandas in a future version. Use pandas.concat instead.\n",
      "  df2 = df2.append(data, ignore_index=True)\n"
     ]
    },
    {
     "name": "stdout",
     "output_type": "stream",
     "text": [
      "TRACK 100  in  spotify:track:3aiEuRz31VSQwZukW56bjR  COMPLETED\n"
     ]
    }
   ],
   "source": [
    "df_flop_7 = get_song_data('https://open.spotify.com/playlist/5sDcMty6ybIxUo4Wvbhi4E?si=61bb9db4a1b740f1')"
   ]
  },
  {
   "cell_type": "code",
   "execution_count": 52,
   "id": "2927737d",
   "metadata": {},
   "outputs": [],
   "source": [
    "df_flop_total = pd.concat([df_flop_1, df_flop_2, df_flop_3, df_flop_4, df_flop_5, df_flop_6, df_flop_7])\n",
    "df12 = df_flop_total.drop_duplicates(subset=['TrackName'])"
   ]
  },
  {
   "cell_type": "code",
   "execution_count": 53,
   "id": "0850788d",
   "metadata": {},
   "outputs": [
    {
     "data": {
      "text/html": [
       "<div>\n",
       "<style scoped>\n",
       "    .dataframe tbody tr th:only-of-type {\n",
       "        vertical-align: middle;\n",
       "    }\n",
       "\n",
       "    .dataframe tbody tr th {\n",
       "        vertical-align: top;\n",
       "    }\n",
       "\n",
       "    .dataframe thead th {\n",
       "        text-align: right;\n",
       "    }\n",
       "</style>\n",
       "<table border=\"1\" class=\"dataframe\">\n",
       "  <thead>\n",
       "    <tr style=\"text-align: right;\">\n",
       "      <th></th>\n",
       "      <th>URI</th>\n",
       "      <th>TrackName</th>\n",
       "      <th>ArtistURI</th>\n",
       "      <th>ArtistName</th>\n",
       "      <th>ArtistPopularity</th>\n",
       "      <th>ArtistGenres</th>\n",
       "      <th>Album</th>\n",
       "      <th>TrackPopularity</th>\n",
       "      <th>Explicit</th>\n",
       "      <th>ReleaseDate</th>\n",
       "      <th>...</th>\n",
       "      <th>liveness</th>\n",
       "      <th>valence</th>\n",
       "      <th>tempo</th>\n",
       "      <th>type</th>\n",
       "      <th>id</th>\n",
       "      <th>uri</th>\n",
       "      <th>track_href</th>\n",
       "      <th>analysis_url</th>\n",
       "      <th>duration_ms</th>\n",
       "      <th>time_signature</th>\n",
       "    </tr>\n",
       "  </thead>\n",
       "  <tbody>\n",
       "    <tr>\n",
       "      <th>0</th>\n",
       "      <td>spotify:track:0KmgJyW4GDgonqsoyx0CZ3</td>\n",
       "      <td>Astronomy</td>\n",
       "      <td>spotify:artist:4Uc8Dsxct0oMqx0P6i60ea</td>\n",
       "      <td>Conan Gray</td>\n",
       "      <td>78</td>\n",
       "      <td>[bedroom pop, pop, pov: indie]</td>\n",
       "      <td>Astronomy</td>\n",
       "      <td>68</td>\n",
       "      <td>False</td>\n",
       "      <td>2021-05-07</td>\n",
       "      <td>...</td>\n",
       "      <td>0.2970</td>\n",
       "      <td>0.111</td>\n",
       "      <td>145.252</td>\n",
       "      <td>audio_features</td>\n",
       "      <td>0KmgJyW4GDgonqsoyx0CZ3</td>\n",
       "      <td>spotify:track:0KmgJyW4GDgonqsoyx0CZ3</td>\n",
       "      <td>https://api.spotify.com/v1/tracks/0KmgJyW4GDgo...</td>\n",
       "      <td>https://api.spotify.com/v1/audio-analysis/0Kmg...</td>\n",
       "      <td>243907</td>\n",
       "      <td>3</td>\n",
       "    </tr>\n",
       "    <tr>\n",
       "      <th>1</th>\n",
       "      <td>spotify:track:3m3ylOXgB3v9xmDSIJyx9S</td>\n",
       "      <td>The Shining</td>\n",
       "      <td>spotify:artist:77SW9BnxLY8rJ0RciFqkHh</td>\n",
       "      <td>The Neighbourhood</td>\n",
       "      <td>82</td>\n",
       "      <td>[modern alternative rock, modern rock, pop]</td>\n",
       "      <td>Chip Chrome &amp; The Mono-Tones (Deluxe)</td>\n",
       "      <td>58</td>\n",
       "      <td>False</td>\n",
       "      <td>2020-12-11</td>\n",
       "      <td>...</td>\n",
       "      <td>0.0960</td>\n",
       "      <td>0.552</td>\n",
       "      <td>96.989</td>\n",
       "      <td>audio_features</td>\n",
       "      <td>3m3ylOXgB3v9xmDSIJyx9S</td>\n",
       "      <td>spotify:track:3m3ylOXgB3v9xmDSIJyx9S</td>\n",
       "      <td>https://api.spotify.com/v1/tracks/3m3ylOXgB3v9...</td>\n",
       "      <td>https://api.spotify.com/v1/audio-analysis/3m3y...</td>\n",
       "      <td>214693</td>\n",
       "      <td>4</td>\n",
       "    </tr>\n",
       "    <tr>\n",
       "      <th>2</th>\n",
       "      <td>spotify:track:2lTtnKQgjbrBA1qnOFhBkP</td>\n",
       "      <td>affection</td>\n",
       "      <td>spotify:artist:2HkSsS8O2U2gPhnCGVN5vn</td>\n",
       "      <td>BETWEEN FRIENDS</td>\n",
       "      <td>57</td>\n",
       "      <td>[indie pop, la pop, pov: indie]</td>\n",
       "      <td>we just need some time together</td>\n",
       "      <td>1</td>\n",
       "      <td>False</td>\n",
       "      <td>2018-04-05</td>\n",
       "      <td>...</td>\n",
       "      <td>0.0855</td>\n",
       "      <td>0.298</td>\n",
       "      <td>179.518</td>\n",
       "      <td>audio_features</td>\n",
       "      <td>2lTtnKQgjbrBA1qnOFhBkP</td>\n",
       "      <td>spotify:track:2lTtnKQgjbrBA1qnOFhBkP</td>\n",
       "      <td>https://api.spotify.com/v1/tracks/2lTtnKQgjbrB...</td>\n",
       "      <td>https://api.spotify.com/v1/audio-analysis/2lTt...</td>\n",
       "      <td>235226</td>\n",
       "      <td>4</td>\n",
       "    </tr>\n",
       "    <tr>\n",
       "      <th>3</th>\n",
       "      <td>spotify:track:7DCQIOmpGV4nkHx7DQckJS</td>\n",
       "      <td>Bloom Later</td>\n",
       "      <td>spotify:artist:4as3khXWaPjfkFdCA0JWMo</td>\n",
       "      <td>Jesse®</td>\n",
       "      <td>51</td>\n",
       "      <td>[modern alternative pop]</td>\n",
       "      <td>&amp;</td>\n",
       "      <td>60</td>\n",
       "      <td>False</td>\n",
       "      <td>2017-11-10</td>\n",
       "      <td>...</td>\n",
       "      <td>0.1770</td>\n",
       "      <td>0.249</td>\n",
       "      <td>81.923</td>\n",
       "      <td>audio_features</td>\n",
       "      <td>7DCQIOmpGV4nkHx7DQckJS</td>\n",
       "      <td>spotify:track:7DCQIOmpGV4nkHx7DQckJS</td>\n",
       "      <td>https://api.spotify.com/v1/tracks/7DCQIOmpGV4n...</td>\n",
       "      <td>https://api.spotify.com/v1/audio-analysis/7DCQ...</td>\n",
       "      <td>160307</td>\n",
       "      <td>3</td>\n",
       "    </tr>\n",
       "    <tr>\n",
       "      <th>4</th>\n",
       "      <td>spotify:track:6uaBrivDHCaV0uBTiwHTUi</td>\n",
       "      <td>Comfort Crowd</td>\n",
       "      <td>spotify:artist:4Uc8Dsxct0oMqx0P6i60ea</td>\n",
       "      <td>Conan Gray</td>\n",
       "      <td>78</td>\n",
       "      <td>[bedroom pop, pop, pov: indie]</td>\n",
       "      <td>Kid Krow</td>\n",
       "      <td>67</td>\n",
       "      <td>False</td>\n",
       "      <td>2020-03-20</td>\n",
       "      <td>...</td>\n",
       "      <td>0.1470</td>\n",
       "      <td>0.404</td>\n",
       "      <td>90.941</td>\n",
       "      <td>audio_features</td>\n",
       "      <td>6uaBrivDHCaV0uBTiwHTUi</td>\n",
       "      <td>spotify:track:6uaBrivDHCaV0uBTiwHTUi</td>\n",
       "      <td>https://api.spotify.com/v1/tracks/6uaBrivDHCaV...</td>\n",
       "      <td>https://api.spotify.com/v1/audio-analysis/6uaB...</td>\n",
       "      <td>174680</td>\n",
       "      <td>4</td>\n",
       "    </tr>\n",
       "    <tr>\n",
       "      <th>...</th>\n",
       "      <td>...</td>\n",
       "      <td>...</td>\n",
       "      <td>...</td>\n",
       "      <td>...</td>\n",
       "      <td>...</td>\n",
       "      <td>...</td>\n",
       "      <td>...</td>\n",
       "      <td>...</td>\n",
       "      <td>...</td>\n",
       "      <td>...</td>\n",
       "      <td>...</td>\n",
       "      <td>...</td>\n",
       "      <td>...</td>\n",
       "      <td>...</td>\n",
       "      <td>...</td>\n",
       "      <td>...</td>\n",
       "      <td>...</td>\n",
       "      <td>...</td>\n",
       "      <td>...</td>\n",
       "      <td>...</td>\n",
       "      <td>...</td>\n",
       "    </tr>\n",
       "    <tr>\n",
       "      <th>94</th>\n",
       "      <td>spotify:track:33g0C8tEICB7VgXawIGaQr</td>\n",
       "      <td>Carefully</td>\n",
       "      <td>spotify:artist:6S2OmqARrzebs0tKUEyXyp</td>\n",
       "      <td>Demi Lovato</td>\n",
       "      <td>78</td>\n",
       "      <td>[pop, post-teen pop]</td>\n",
       "      <td>Dancing With The Devil…The Art of Starting Ove...</td>\n",
       "      <td>34</td>\n",
       "      <td>False</td>\n",
       "      <td>2021-04-05</td>\n",
       "      <td>...</td>\n",
       "      <td>0.1310</td>\n",
       "      <td>0.481</td>\n",
       "      <td>121.906</td>\n",
       "      <td>audio_features</td>\n",
       "      <td>33g0C8tEICB7VgXawIGaQr</td>\n",
       "      <td>spotify:track:33g0C8tEICB7VgXawIGaQr</td>\n",
       "      <td>https://api.spotify.com/v1/tracks/33g0C8tEICB7...</td>\n",
       "      <td>https://api.spotify.com/v1/audio-analysis/33g0...</td>\n",
       "      <td>191721</td>\n",
       "      <td>4</td>\n",
       "    </tr>\n",
       "    <tr>\n",
       "      <th>95</th>\n",
       "      <td>spotify:track:0bOgWId7cFqBEKnlZct2q6</td>\n",
       "      <td>Love To Dream</td>\n",
       "      <td>spotify:artist:5cj0lLjcoR7YOSnhnX0Po5</td>\n",
       "      <td>Doja Cat</td>\n",
       "      <td>89</td>\n",
       "      <td>[dance pop, pop]</td>\n",
       "      <td>Planet Her (Deluxe)</td>\n",
       "      <td>52</td>\n",
       "      <td>True</td>\n",
       "      <td>2021-06-27</td>\n",
       "      <td>...</td>\n",
       "      <td>0.0964</td>\n",
       "      <td>0.529</td>\n",
       "      <td>135.067</td>\n",
       "      <td>audio_features</td>\n",
       "      <td>0bOgWId7cFqBEKnlZct2q6</td>\n",
       "      <td>spotify:track:0bOgWId7cFqBEKnlZct2q6</td>\n",
       "      <td>https://api.spotify.com/v1/tracks/0bOgWId7cFqB...</td>\n",
       "      <td>https://api.spotify.com/v1/audio-analysis/0bOg...</td>\n",
       "      <td>216853</td>\n",
       "      <td>4</td>\n",
       "    </tr>\n",
       "    <tr>\n",
       "      <th>96</th>\n",
       "      <td>spotify:track:0y6kdSRCVQhSsHSpWvTUm7</td>\n",
       "      <td>The Last Time (feat. Gary Lightbody of Snow Pa...</td>\n",
       "      <td>spotify:artist:06HL4z0CvFAxyc27GXpf02</td>\n",
       "      <td>Taylor Swift</td>\n",
       "      <td>100</td>\n",
       "      <td>[pop]</td>\n",
       "      <td>Red (Taylor's Version)</td>\n",
       "      <td>72</td>\n",
       "      <td>False</td>\n",
       "      <td>2021-11-12</td>\n",
       "      <td>...</td>\n",
       "      <td>0.0977</td>\n",
       "      <td>0.155</td>\n",
       "      <td>94.050</td>\n",
       "      <td>audio_features</td>\n",
       "      <td>0y6kdSRCVQhSsHSpWvTUm7</td>\n",
       "      <td>spotify:track:0y6kdSRCVQhSsHSpWvTUm7</td>\n",
       "      <td>https://api.spotify.com/v1/tracks/0y6kdSRCVQhS...</td>\n",
       "      <td>https://api.spotify.com/v1/audio-analysis/0y6k...</td>\n",
       "      <td>299080</td>\n",
       "      <td>4</td>\n",
       "    </tr>\n",
       "    <tr>\n",
       "      <th>97</th>\n",
       "      <td>spotify:track:7bhR82JEE9bcX8iphymGme</td>\n",
       "      <td>Box In The Ocean</td>\n",
       "      <td>spotify:artist:2wUjUUtkb5lvLKcGKsKqsR</td>\n",
       "      <td>Alessia Cara</td>\n",
       "      <td>72</td>\n",
       "      <td>[canadian contemporary r&amp;b, canadian pop, pop]</td>\n",
       "      <td>In The Meantime</td>\n",
       "      <td>41</td>\n",
       "      <td>False</td>\n",
       "      <td>2021-09-24</td>\n",
       "      <td>...</td>\n",
       "      <td>0.2690</td>\n",
       "      <td>0.583</td>\n",
       "      <td>89.750</td>\n",
       "      <td>audio_features</td>\n",
       "      <td>7bhR82JEE9bcX8iphymGme</td>\n",
       "      <td>spotify:track:7bhR82JEE9bcX8iphymGme</td>\n",
       "      <td>https://api.spotify.com/v1/tracks/7bhR82JEE9bc...</td>\n",
       "      <td>https://api.spotify.com/v1/audio-analysis/7bhR...</td>\n",
       "      <td>196697</td>\n",
       "      <td>4</td>\n",
       "    </tr>\n",
       "    <tr>\n",
       "      <th>98</th>\n",
       "      <td>spotify:track:3wFLWP0FcIqHK1wb1CPthQ</td>\n",
       "      <td>fake smile</td>\n",
       "      <td>spotify:artist:66CXWjxzNUsdJxJ2JdwvnR</td>\n",
       "      <td>Ariana Grande</td>\n",
       "      <td>87</td>\n",
       "      <td>[pop]</td>\n",
       "      <td>thank u, next</td>\n",
       "      <td>64</td>\n",
       "      <td>True</td>\n",
       "      <td>2019-02-08</td>\n",
       "      <td>...</td>\n",
       "      <td>0.3190</td>\n",
       "      <td>0.427</td>\n",
       "      <td>83.300</td>\n",
       "      <td>audio_features</td>\n",
       "      <td>3wFLWP0FcIqHK1wb1CPthQ</td>\n",
       "      <td>spotify:track:3wFLWP0FcIqHK1wb1CPthQ</td>\n",
       "      <td>https://api.spotify.com/v1/tracks/3wFLWP0FcIqH...</td>\n",
       "      <td>https://api.spotify.com/v1/audio-analysis/3wFL...</td>\n",
       "      <td>208880</td>\n",
       "      <td>4</td>\n",
       "    </tr>\n",
       "  </tbody>\n",
       "</table>\n",
       "<p>569 rows × 28 columns</p>\n",
       "</div>"
      ],
      "text/plain": [
       "                                     URI  \\\n",
       "0   spotify:track:0KmgJyW4GDgonqsoyx0CZ3   \n",
       "1   spotify:track:3m3ylOXgB3v9xmDSIJyx9S   \n",
       "2   spotify:track:2lTtnKQgjbrBA1qnOFhBkP   \n",
       "3   spotify:track:7DCQIOmpGV4nkHx7DQckJS   \n",
       "4   spotify:track:6uaBrivDHCaV0uBTiwHTUi   \n",
       "..                                   ...   \n",
       "94  spotify:track:33g0C8tEICB7VgXawIGaQr   \n",
       "95  spotify:track:0bOgWId7cFqBEKnlZct2q6   \n",
       "96  spotify:track:0y6kdSRCVQhSsHSpWvTUm7   \n",
       "97  spotify:track:7bhR82JEE9bcX8iphymGme   \n",
       "98  spotify:track:3wFLWP0FcIqHK1wb1CPthQ   \n",
       "\n",
       "                                            TrackName  \\\n",
       "0                                           Astronomy   \n",
       "1                                         The Shining   \n",
       "2                                           affection   \n",
       "3                                         Bloom Later   \n",
       "4                                       Comfort Crowd   \n",
       "..                                                ...   \n",
       "94                                          Carefully   \n",
       "95                                      Love To Dream   \n",
       "96  The Last Time (feat. Gary Lightbody of Snow Pa...   \n",
       "97                                   Box In The Ocean   \n",
       "98                                         fake smile   \n",
       "\n",
       "                                ArtistURI         ArtistName  \\\n",
       "0   spotify:artist:4Uc8Dsxct0oMqx0P6i60ea         Conan Gray   \n",
       "1   spotify:artist:77SW9BnxLY8rJ0RciFqkHh  The Neighbourhood   \n",
       "2   spotify:artist:2HkSsS8O2U2gPhnCGVN5vn    BETWEEN FRIENDS   \n",
       "3   spotify:artist:4as3khXWaPjfkFdCA0JWMo             Jesse®   \n",
       "4   spotify:artist:4Uc8Dsxct0oMqx0P6i60ea         Conan Gray   \n",
       "..                                    ...                ...   \n",
       "94  spotify:artist:6S2OmqARrzebs0tKUEyXyp        Demi Lovato   \n",
       "95  spotify:artist:5cj0lLjcoR7YOSnhnX0Po5           Doja Cat   \n",
       "96  spotify:artist:06HL4z0CvFAxyc27GXpf02       Taylor Swift   \n",
       "97  spotify:artist:2wUjUUtkb5lvLKcGKsKqsR       Alessia Cara   \n",
       "98  spotify:artist:66CXWjxzNUsdJxJ2JdwvnR      Ariana Grande   \n",
       "\n",
       "    ArtistPopularity                                    ArtistGenres  \\\n",
       "0                 78                  [bedroom pop, pop, pov: indie]   \n",
       "1                 82     [modern alternative rock, modern rock, pop]   \n",
       "2                 57                 [indie pop, la pop, pov: indie]   \n",
       "3                 51                        [modern alternative pop]   \n",
       "4                 78                  [bedroom pop, pop, pov: indie]   \n",
       "..               ...                                             ...   \n",
       "94                78                            [pop, post-teen pop]   \n",
       "95                89                                [dance pop, pop]   \n",
       "96               100                                           [pop]   \n",
       "97                72  [canadian contemporary r&b, canadian pop, pop]   \n",
       "98                87                                           [pop]   \n",
       "\n",
       "                                                Album  TrackPopularity  \\\n",
       "0                                           Astronomy               68   \n",
       "1               Chip Chrome & The Mono-Tones (Deluxe)               58   \n",
       "2                     we just need some time together                1   \n",
       "3                                                   &               60   \n",
       "4                                            Kid Krow               67   \n",
       "..                                                ...              ...   \n",
       "94  Dancing With The Devil…The Art of Starting Ove...               34   \n",
       "95                                Planet Her (Deluxe)               52   \n",
       "96                             Red (Taylor's Version)               72   \n",
       "97                                    In The Meantime               41   \n",
       "98                                      thank u, next               64   \n",
       "\n",
       "    Explicit ReleaseDate  ...  liveness  valence    tempo            type  \\\n",
       "0      False  2021-05-07  ...    0.2970    0.111  145.252  audio_features   \n",
       "1      False  2020-12-11  ...    0.0960    0.552   96.989  audio_features   \n",
       "2      False  2018-04-05  ...    0.0855    0.298  179.518  audio_features   \n",
       "3      False  2017-11-10  ...    0.1770    0.249   81.923  audio_features   \n",
       "4      False  2020-03-20  ...    0.1470    0.404   90.941  audio_features   \n",
       "..       ...         ...  ...       ...      ...      ...             ...   \n",
       "94     False  2021-04-05  ...    0.1310    0.481  121.906  audio_features   \n",
       "95      True  2021-06-27  ...    0.0964    0.529  135.067  audio_features   \n",
       "96     False  2021-11-12  ...    0.0977    0.155   94.050  audio_features   \n",
       "97     False  2021-09-24  ...    0.2690    0.583   89.750  audio_features   \n",
       "98      True  2019-02-08  ...    0.3190    0.427   83.300  audio_features   \n",
       "\n",
       "                        id                                   uri  \\\n",
       "0   0KmgJyW4GDgonqsoyx0CZ3  spotify:track:0KmgJyW4GDgonqsoyx0CZ3   \n",
       "1   3m3ylOXgB3v9xmDSIJyx9S  spotify:track:3m3ylOXgB3v9xmDSIJyx9S   \n",
       "2   2lTtnKQgjbrBA1qnOFhBkP  spotify:track:2lTtnKQgjbrBA1qnOFhBkP   \n",
       "3   7DCQIOmpGV4nkHx7DQckJS  spotify:track:7DCQIOmpGV4nkHx7DQckJS   \n",
       "4   6uaBrivDHCaV0uBTiwHTUi  spotify:track:6uaBrivDHCaV0uBTiwHTUi   \n",
       "..                     ...                                   ...   \n",
       "94  33g0C8tEICB7VgXawIGaQr  spotify:track:33g0C8tEICB7VgXawIGaQr   \n",
       "95  0bOgWId7cFqBEKnlZct2q6  spotify:track:0bOgWId7cFqBEKnlZct2q6   \n",
       "96  0y6kdSRCVQhSsHSpWvTUm7  spotify:track:0y6kdSRCVQhSsHSpWvTUm7   \n",
       "97  7bhR82JEE9bcX8iphymGme  spotify:track:7bhR82JEE9bcX8iphymGme   \n",
       "98  3wFLWP0FcIqHK1wb1CPthQ  spotify:track:3wFLWP0FcIqHK1wb1CPthQ   \n",
       "\n",
       "                                           track_href  \\\n",
       "0   https://api.spotify.com/v1/tracks/0KmgJyW4GDgo...   \n",
       "1   https://api.spotify.com/v1/tracks/3m3ylOXgB3v9...   \n",
       "2   https://api.spotify.com/v1/tracks/2lTtnKQgjbrB...   \n",
       "3   https://api.spotify.com/v1/tracks/7DCQIOmpGV4n...   \n",
       "4   https://api.spotify.com/v1/tracks/6uaBrivDHCaV...   \n",
       "..                                                ...   \n",
       "94  https://api.spotify.com/v1/tracks/33g0C8tEICB7...   \n",
       "95  https://api.spotify.com/v1/tracks/0bOgWId7cFqB...   \n",
       "96  https://api.spotify.com/v1/tracks/0y6kdSRCVQhS...   \n",
       "97  https://api.spotify.com/v1/tracks/7bhR82JEE9bc...   \n",
       "98  https://api.spotify.com/v1/tracks/3wFLWP0FcIqH...   \n",
       "\n",
       "                                         analysis_url  duration_ms  \\\n",
       "0   https://api.spotify.com/v1/audio-analysis/0Kmg...       243907   \n",
       "1   https://api.spotify.com/v1/audio-analysis/3m3y...       214693   \n",
       "2   https://api.spotify.com/v1/audio-analysis/2lTt...       235226   \n",
       "3   https://api.spotify.com/v1/audio-analysis/7DCQ...       160307   \n",
       "4   https://api.spotify.com/v1/audio-analysis/6uaB...       174680   \n",
       "..                                                ...          ...   \n",
       "94  https://api.spotify.com/v1/audio-analysis/33g0...       191721   \n",
       "95  https://api.spotify.com/v1/audio-analysis/0bOg...       216853   \n",
       "96  https://api.spotify.com/v1/audio-analysis/0y6k...       299080   \n",
       "97  https://api.spotify.com/v1/audio-analysis/7bhR...       196697   \n",
       "98  https://api.spotify.com/v1/audio-analysis/3wFL...       208880   \n",
       "\n",
       "    time_signature  \n",
       "0                3  \n",
       "1                4  \n",
       "2                4  \n",
       "3                3  \n",
       "4                4  \n",
       "..             ...  \n",
       "94               4  \n",
       "95               4  \n",
       "96               4  \n",
       "97               4  \n",
       "98               4  \n",
       "\n",
       "[569 rows x 28 columns]"
      ]
     },
     "execution_count": 53,
     "metadata": {},
     "output_type": "execute_result"
    }
   ],
   "source": [
    "df12"
   ]
  },
  {
   "cell_type": "code",
   "execution_count": 55,
   "id": "017cc440",
   "metadata": {},
   "outputs": [],
   "source": [
    "df12.to_csv('NOTHITSONGS.csv', index = False)"
   ]
  },
  {
   "cell_type": "code",
   "execution_count": 57,
   "id": "bf91251e",
   "metadata": {},
   "outputs": [],
   "source": [
    "df_total = pd.concat([df11,df12])"
   ]
  },
  {
   "cell_type": "code",
   "execution_count": 59,
   "id": "c749168f",
   "metadata": {},
   "outputs": [],
   "source": [
    "df_total.to_csv('COMPILED_DATA.csv', index = False)"
   ]
  },
  {
   "cell_type": "code",
   "execution_count": null,
   "id": "d5f3106f",
   "metadata": {},
   "outputs": [],
   "source": []
  }
 ],
 "metadata": {
  "kernelspec": {
   "display_name": "Python 3 (ipykernel)",
   "language": "python",
   "name": "python3"
  },
  "language_info": {
   "codemirror_mode": {
    "name": "ipython",
    "version": 3
   },
   "file_extension": ".py",
   "mimetype": "text/x-python",
   "name": "python",
   "nbconvert_exporter": "python",
   "pygments_lexer": "ipython3",
   "version": "3.9.13"
  }
 },
 "nbformat": 4,
 "nbformat_minor": 5
}
